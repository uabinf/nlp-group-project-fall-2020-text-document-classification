{
 "cells": [
  {
   "cell_type": "code",
   "execution_count": 1,
   "metadata": {},
   "outputs": [],
   "source": [
    "import warnings\n",
    "\n",
    "import tensorflow as tf\n",
    "import tensorflow.keras.backend as K\n",
    "from tensorflow.keras.layers import (\n",
    "    Input, Lambda, Embedding, GRU, Bidirectional, Concatenate, Dense\n",
    ")\n",
    "from tensorflow.keras.regularizers import L1L2\n",
    "import numpy as np\n",
    "import pandas as pd\n",
    "\n",
    "import nltk\n",
    "import gensim.downloader\n",
    "import re\n",
    "from calendar import day_name, day_abbr, month_name, month_abbr\n",
    "from collections import Counter\n",
    "\n",
    "from sklearn import preprocessing\n",
    "from sklearn.utils import class_weight\n",
    "from sklearn.model_selection import train_test_split\n",
    "from sklearn.metrics import matthews_corrcoef, confusion_matrix\n",
    "from sklearn.manifold import TSNE\n",
    "\n",
    "import matplotlib.pyplot as plt"
   ]
  },
  {
   "cell_type": "code",
   "execution_count": 2,
   "metadata": {},
   "outputs": [],
   "source": [
    "# constants that will be used as tokens\n",
    "PAD = '~PAD~'\n",
    "URL = '~URL~'\n",
    "DATETIME = '~DATETIME~'\n",
    "QUANTITY = '~QUANTITY~'\n",
    "NUM = '~NUM~'\n",
    "UNK = '~UNK~'\n",
    "\n",
    "# regexes to be applied prior to tokenization\n",
    "url_regex = '(www\\.|http://|https://)\\S+|\\S+\\.(co|org|net|info|be|gov|edu|html|jpg|jpeg|png|gif)'\n",
    "date_regex = '('        + '|'.join(day_name[i] for i in range(7)) +\\\n",
    "             '|'        + '|'.join(day_abbr[i] for i in range(7)) +\\\n",
    "             ')?,?\\s?(' + '|'.join(month_name[i] for i in range(1, 13)) +\\\n",
    "             '|'        + '|'.join(month_abbr[i] for i in range(1, 13)) +\\\n",
    "             \")\\s\\d{1,2}(st|nd|rd|th)?(,?\\s'?\\d{2,4})?\"\n",
    "time_regex = '((\\d+\\:\\d+)(\\s?[AaPp]\\.\\s?[Mm]\\.)?)|((\\d+\\:\\d+\\s?)?([AaPp]\\.\\s?[Mm]\\.))'\n",
    "quantity_regex = '\\d+((\\,?\\d+)+)?'\n",
    "\n",
    "# list of stopwords\n",
    "stopwords = nltk.corpus.stopwords.words('english')"
   ]
  },
  {
   "cell_type": "code",
   "execution_count": 3,
   "metadata": {},
   "outputs": [],
   "source": [
    "### HYPERPARAMETERS ###\n",
    "PERCENT_TEST = 0.075\n",
    "PERCENT_VAL  = 0.075\n",
    "val_split = PERCENT_VAL / (1 - PERCENT_TEST)\n",
    "\n",
    "MAX_TEXT_LEN = 512\n",
    "MAX_TITLE_LEN = 64\n",
    "BATCH_SIZE = 64\n",
    "EPOCHS = 5\n",
    "LEARNING_RATE = 2e-5\n",
    "\n",
    "### RANDOM SEED (for reproducibility) ###\n",
    "SEED = 42\n",
    "np.random.seed(SEED)\n",
    "seed = SEED"
   ]
  },
  {
   "cell_type": "code",
   "execution_count": 4,
   "metadata": {
    "scrolled": false
   },
   "outputs": [
    {
     "name": "stdout",
     "output_type": "stream",
     "text": [
      "CPU times: user 33.5 s, sys: 1.54 s, total: 35.1 s\n",
      "Wall time: 37.6 s\n"
     ]
    }
   ],
   "source": [
    "%%time\n",
    "\n",
    "# download our pretrained word embedding with embedding size of 300\n",
    "EMBED_SIZE = 300\n",
    "gn300_raw = gensim.downloader.load('word2vec-google-news-300')\n",
    "gn300 = gn300_raw\n",
    "\n",
    "# \"\"\"\n",
    "# Condense our pretrained word embedding using the following two techniques:\n",
    "# 1) remove stopwords\n",
    "# 2) make all keys lowercase, group by key, and take average per key.\n",
    "# E.g. (gn300_raw['beyonce'] +\n",
    "#       gn300_raw['Beyonce'] +\n",
    "#       gn300_raw['BEYONCE']) / 3 -> gn300['beyonce']\n",
    "# \"\"\"\n",
    "# S = Counter() # vector sum\n",
    "# C = Counter() # vector count\n",
    "# for word in gn300_raw.vocab:\n",
    "#     lower = word.lower()\n",
    "#     if lower in stopwords: continue\n",
    "#     S[lower] += gn300_raw[word]\n",
    "#     C[lower] += 1\n",
    "# # create condensed word2vec (just a simple dictionary)\n",
    "# gn300 = {w: s / c for w, s, c in zip(S.keys(), S.values(), C.values())}"
   ]
  },
  {
   "cell_type": "code",
   "execution_count": 5,
   "metadata": {},
   "outputs": [],
   "source": [
    "# get data\n",
    "news = pd.read_csv('fake-news/train.csv')\n",
    "news = news.fillna(UNK)\n",
    "\n",
    "def get_real_fake(df):\n",
    "    real = df[df.label.isin([0, 'REAL'])]\n",
    "    fake = df[df.label.isin([1, 'FAKE'])]\n",
    "    return real, fake\n",
    "\n",
    "real, fake = get_real_fake(news)\n",
    "\n",
    "def split_df(df):\n",
    "    global seed\n",
    "    train, test = train_test_split(df, test_size=PERCENT_TEST, random_state=seed)\n",
    "    seed += 1\n",
    "    tr, val = train_test_split(train, test_size=val_split, random_state=seed)\n",
    "    seed += 1\n",
    "    return tr, val, test\n",
    "\n",
    "real_tr, real_val, real_test = split_df(real)\n",
    "fake_tr, fake_val, fake_test = split_df(fake)\n",
    "\n",
    "# def split_by_author(df):\n",
    "#     # take counts grouped by author\n",
    "#     author = df.author.value_counts()\n",
    "#     # split authors into groups\n",
    "#     author_tr, author_val, author_test = split_df(author)\n",
    "#     # split data by author group\n",
    "#     tr = df[df.author.isin(author_tr.index)].copy(deep=True)\n",
    "#     val = df[df.author.isin(author_val.index)].copy(deep=True)\n",
    "#     test = df[df.author.isin(author_test.index)].copy(deep=True)\n",
    "#     return tr, val, test\n",
    "\n",
    "# real_tr, real_val, real_test = split_by_author(real)\n",
    "# fake_tr, fake_val, fake_test = split_by_author(fake)\n",
    "\n",
    "# real_author_counts = real.author.value_counts()\n",
    "# fake_author_counts = fake.author.value_counts()\n",
    "# mixed_authors = real_author_counts.index.intersection(fake_author_counts.index)\n",
    "# real_author_counts[mixed_authors], fake_author_counts[mixed_authors]"
   ]
  },
  {
   "cell_type": "code",
   "execution_count": 6,
   "metadata": {
    "scrolled": true
   },
   "outputs": [
    {
     "name": "stdout",
     "output_type": "stream",
     "text": [
      "8829 8851\n",
      "778 781\n",
      "780 781\n"
     ]
    }
   ],
   "source": [
    "def concat_and_shuffle(dfs):\n",
    "    global seed\n",
    "    df = pd.concat(dfs)\n",
    "    return df.sample(frac=1, random_state=seed)\n",
    "    seed += 1\n",
    "\n",
    "train = pd.concat([concat_and_shuffle([real_tr, fake_tr]),\n",
    "                   concat_and_shuffle([real_val, fake_val])])\n",
    "test = concat_and_shuffle([real_test, fake_test])\n",
    "\n",
    "# Expected result of val_split. This is just to give us a\n",
    "# sense of the distribution of labels.\n",
    "def display_count(df):\n",
    "    print(len(df[df.label.isin([0, 'REAL'])]),\n",
    "          len(df[df.label.isin([1, 'FAKE'])]))\n",
    "display_count(train.iloc[:-int(val_split * len(train))])\n",
    "display_count(train.iloc[-int(val_split * len(train)):])\n",
    "display_count(test)"
   ]
  },
  {
   "cell_type": "code",
   "execution_count": 7,
   "metadata": {},
   "outputs": [],
   "source": [
    "# def supertokenize(text):\n",
    "#     # e.g. split_by_case('ILoveNewYork') == ['I', 'Love', 'New', 'York']\n",
    "#     def split_by_case(s):\n",
    "#         if (not s[1:].isupper()) and (not s[1:].islower()):\n",
    "#             for i in range(1, len(s) - 1):\n",
    "#                 if s[i].isupper():\n",
    "#                     return [s[:i]] + split_by_case(s[i:])\n",
    "#                 elif s[i + 1].isupper():\n",
    "#                     return [s[:i + 1]] + split_by_case(s[i + 1:])\n",
    "#         return [s]\n",
    "#     text = re.sub(quantity_regex, QUANTITY, \n",
    "#                  re.sub(time_regex, DATETIME, \n",
    "#                         re.sub(date_regex, DATETIME, \n",
    "#                                re.sub(url_regex, URL, text))))\n",
    "#     text = text.replace('•', '')\n",
    "#     raw_tokens = nltk.word_tokenize(text)\n",
    "#     tokens = []\n",
    "#     for t in raw_tokens:\n",
    "#         if t in '!\"\\'(),--./:;<?[\\\\]{|}“”‘’—': continue\n",
    "#         if t.lower() != \"n't\": t = re.sub('[\\\"\\']', '', t)\n",
    "#         if (len(t) > 2) and (t.lower() == t) and (t[-1] == '.'): t = t[:-1]\n",
    "#         if t == URL:\n",
    "#             tokens.append(URL)\n",
    "#             continue\n",
    "#         if (t == DATETIME) or (re.sub('^\\d+(/\\d+)+$', '', t) == ''):\n",
    "#             tokens.append(DATETIME)\n",
    "#             continue\n",
    "#         if t == QUANTITY:\n",
    "#             tokens.append(QUANTITY)\n",
    "#             continue\n",
    "#         if t.isnumeric() or (t[:-2].isnumeric() and (t[-2:] in ['st', 'nd', 'rd', 'th'])):\n",
    "#             tokens.append(NUM)\n",
    "#             continue\n",
    "#         t = t.lower()\n",
    "#         if t in stopwords: continue\n",
    "#         if t in gn300:\n",
    "#             tokens.append(t)\n",
    "#         else:\n",
    "#             if t + '.' in gn300:\n",
    "#                 tokens.append(t + '.')\n",
    "#                 continue\n",
    "#             if t.replace('.', '') in gn300:\n",
    "#                 tokens.append(t.replace('.', ''))\n",
    "#                 continue\n",
    "#             is_found = False\n",
    "#             for x in split_by_case(re.sub('[^a-z]', '', t)):\n",
    "#                 if x in gn300:\n",
    "#                     tokens.append(x)\n",
    "#                     is_found = True\n",
    "#             if is_found: continue\n",
    "#             for st in re.split('-', re.sub('[^a-z0-9\\.~]', '-', t)):\n",
    "#                 for x in [st, st[:-1], st[1:], st.replace('s', 'z'), \n",
    "#                           st.replace('ou', 'o'), st.replace('re', 'er')]:\n",
    "#                     if x in gn300:\n",
    "#                         tokens.append(x)\n",
    "#                         is_found = True\n",
    "#                         break\n",
    "#             if not is_found: tokens.append(UNK)\n",
    "#     return tokens\n",
    "\n",
    "# this does tokenization as well as tracking token counts grouped by label\n",
    "def tokenize_and_update_word_counts(text, label, tokenize_fn):\n",
    "    global tc_real, tc_fake\n",
    "    tokens = tokenize_fn(text)\n",
    "    tc = Counter(tokens)\n",
    "    if label in [0, 'REAL']:\n",
    "        tc_fake += tc\n",
    "    elif label in [1, 'FAKE']:\n",
    "        tc_real += tc\n",
    "    else:\n",
    "        warnings.warn('Unexpected label %s'.format(label))\n",
    "    return tokens"
   ]
  },
  {
   "cell_type": "code",
   "execution_count": 8,
   "metadata": {},
   "outputs": [
    {
     "name": "stdout",
     "output_type": "stream",
     "text": [
      "CPU times: user 5min 3s, sys: 578 ms, total: 5min 3s\n",
      "Wall time: 5min 3s\n"
     ]
    },
    {
     "data": {
      "text/plain": [
       "(25547,\n",
       " [('Mr.', 235.36549487441647),\n",
       "  (',', 234.03912592216693),\n",
       "  ('said', 191.65634963518934),\n",
       "  ('.', 185.17031714126486),\n",
       "  ('”', 177.47049185041664),\n",
       "  ('“', 173.86553560719304),\n",
       "  ('a', 162.61947762656303),\n",
       "  ('the', 146.5089498487329),\n",
       "  ('’', 142.23684361361728),\n",
       "  ('—', 137.04071200784927)])"
      ]
     },
     "execution_count": 8,
     "metadata": {},
     "output_type": "execute_result"
    }
   ],
   "source": [
    "%%time\n",
    "\n",
    "tc_real=Counter()\n",
    "tc_fake=Counter()\n",
    "\n",
    "TOKENIZE_FN = nltk.word_tokenize\n",
    "\n",
    "train['tokenized_title'] = train.apply(lambda x, y: tokenize_and_update_word_counts(\n",
    "    x.title, x.label, y), axis=1, args=(TOKENIZE_FN,))\n",
    "train['tokenized_text'] = train.apply(lambda x, y: tokenize_and_update_word_counts(\n",
    "    x.text, x.label, y), axis=1, args=(TOKENIZE_FN,))\n",
    "\n",
    "T = Counter()\n",
    "for k in tc_real + tc_fake:\n",
    "    T[k] = abs(tc_real[k] - tc_fake[k]) / np.sqrt(tc_real[k] + tc_fake[k])\n",
    "\n",
    "thresh = T.most_common(25000)[-1][1]\n",
    "tokens = [k for k, v in T.items() if v >= thresh]\n",
    "\n",
    "vocab, i = {PAD: 0, URL: 1, DATETIME: 2, QUANTITY: 3, NUM: 4, UNK: 5}, 6\n",
    "for w in tokens:\n",
    "    if w in (PAD, URL, DATETIME, QUANTITY, NUM, UNK): continue\n",
    "    vocab[w] = i\n",
    "    i += 1\n",
    "id2word = {v: k for k, v in vocab.items()}\n",
    "\n",
    "i, T.most_common(10)"
   ]
  },
  {
   "cell_type": "code",
   "execution_count": 9,
   "metadata": {},
   "outputs": [
    {
     "name": "stdout",
     "output_type": "stream",
     "text": [
      "CPU times: user 7.65 s, sys: 20 ms, total: 7.67 s\n",
      "Wall time: 7.68 s\n"
     ]
    }
   ],
   "source": [
    "%%time\n",
    "test['tokenized_title'] = test.apply(lambda x: TOKENIZE_FN(x.title) ,axis=1)\n",
    "test['tokenized_text'] = test.apply(lambda x: TOKENIZE_FN(x.text), axis=1)"
   ]
  },
  {
   "cell_type": "code",
   "execution_count": 10,
   "metadata": {},
   "outputs": [],
   "source": [
    "def clean(text,length):\n",
    "    f = [vocab[w] if w in vocab else vocab[UNK] for w in text]\n",
    "    f = f[:length]\n",
    "    return (length - len(f)) * [vocab[PAD]] + f\n",
    "train['text_as_ints'] = train.tokenized_text.apply(clean, args=[MAX_TEXT_LEN])\n",
    "train['title_as_ints'] = train.tokenized_text.apply(clean, args=[MAX_TITLE_LEN])\n",
    "test['text_as_ints'] = test.tokenized_text.apply(clean, args=[MAX_TEXT_LEN])\n",
    "test['title_as_ints'] = test.tokenized_text.apply(clean, args=[MAX_TITLE_LEN])"
   ]
  },
  {
   "cell_type": "code",
   "execution_count": 11,
   "metadata": {},
   "outputs": [],
   "source": [
    "X_train = [np.array(train.text_as_ints.to_list()), np.array(train.title_as_ints.to_list())]\n",
    "X_test = [np.array(test.text_as_ints.to_list()), np.array(test.title_as_ints.to_list())]\n",
    "\n",
    "# binarize labels\n",
    "lb = preprocessing.LabelBinarizer()\n",
    "y_train = lb.fit_transform(train.label)\n",
    "y_test = lb.fit_transform(test.label)\n",
    "\n",
    "# compute class weights based on training labels\n",
    "class_weights = class_weight.compute_class_weight('balanced', classes=[0, 1],\n",
    "                                                  y=[w for x in y_train for w in x])\n",
    "class_weights = {i: weight for i, weight in enumerate(class_weights)}\n",
    "\n",
    "optimizer = tf.keras.optimizers.Adam(learning_rate=LEARNING_RATE)"
   ]
  },
  {
   "cell_type": "code",
   "execution_count": 12,
   "metadata": {
    "scrolled": true
   },
   "outputs": [
    {
     "name": "stdout",
     "output_type": "stream",
     "text": [
      "Model: \"model\"\n",
      "__________________________________________________________________________________________________\n",
      "Layer (type)                    Output Shape         Param #     Connected to                     \n",
      "==================================================================================================\n",
      "input_1 (InputLayer)            [(None, None)]       0                                            \n",
      "__________________________________________________________________________________________________\n",
      "input_2 (InputLayer)            [(None, None)]       0                                            \n",
      "__________________________________________________________________________________________________\n",
      "embedding (Embedding)           (None, None, 300)    7664100     input_1[0][0]                    \n",
      "__________________________________________________________________________________________________\n",
      "lambda (Lambda)                 (None, None)         0           input_1[0][0]                    \n",
      "                                                                 input_2[0][0]                    \n",
      "__________________________________________________________________________________________________\n",
      "embedding_1 (Embedding)         (None, None, 300)    7664100     input_2[0][0]                    \n",
      "__________________________________________________________________________________________________\n",
      "bidirectional (Bidirectional)   (None, 32)           30528       embedding[0][0]                  \n",
      "                                                                 lambda[0][0]                     \n",
      "__________________________________________________________________________________________________\n",
      "gru_1 (GRU)                     (None, 16)           15264       embedding_1[0][0]                \n",
      "                                                                 lambda[1][0]                     \n",
      "__________________________________________________________________________________________________\n",
      "concatenate (Concatenate)       (None, 48)           0           bidirectional[0][0]              \n",
      "                                                                 gru_1[0][0]                      \n",
      "__________________________________________________________________________________________________\n",
      "dense (Dense)                   (None, 1)            49          concatenate[0][0]                \n",
      "==================================================================================================\n",
      "Total params: 15,374,041\n",
      "Trainable params: 15,374,041\n",
      "Non-trainable params: 0\n",
      "__________________________________________________________________________________________________\n"
     ]
    }
   ],
   "source": [
    "input_text = Input(shape=[None])\n",
    "input_title = Input(shape=[None])\n",
    "mask = Lambda(lambda inputs: K.not_equal(inputs, 0))\n",
    "def generate_embedding():\n",
    "    emb = np.zeros((len(vocab), EMBED_SIZE))\n",
    "#     v = np.random.uniform(-1, 1, EMBED_SIZE)\n",
    "    for i in range(len(vocab)):\n",
    "        try:\n",
    "            g = gn300[id2word[i]]\n",
    "            emb[i] = g #+ v * np.linalg.norm(g) / np.linalg.norm(v)\n",
    "        except KeyError:\n",
    "            pass\n",
    "#             assert i <= 5, i\n",
    "#             if i in [1, 2, 3, 4]: # leave PAD and UNK zero\n",
    "#                 e[i] = v / np.linalg.norm(v)\n",
    "    return Embedding(input_dim=emb.shape[0],\n",
    "                     output_dim=emb.shape[1],\n",
    "                     weights=[emb],\n",
    "#                      trainable=False\n",
    "                    )\n",
    "emb_text = generate_embedding()(input_text)\n",
    "emb_title = generate_embedding()(input_title)\n",
    "gru = lambda: GRU(16, dropout=0.2, recurrent_dropout=0.2,\n",
    "                  kernel_regularizer=L1L2(l1=1e-6, l2=2e-6))\n",
    "gru_text = Bidirectional(gru())(emb_text, mask=mask(input_text))\n",
    "gru_title = gru()(emb_title, mask=mask(input_title))\n",
    "concat = Concatenate()([gru_text, gru_title])\n",
    "outputs = Dense(1, activation='sigmoid')(concat)\n",
    "model = tf.keras.Model(inputs=[input_text, input_title], outputs=[outputs])\n",
    "model.summary()"
   ]
  },
  {
   "cell_type": "code",
   "execution_count": 13,
   "metadata": {},
   "outputs": [],
   "source": [
    "# model.compile(loss='binary_crossentropy', optimizer=optimizer, metrics='accuracy')\n",
    "# model.fit(X_train, y_train, batch_size=BATCH_SIZE, class_weight=class_weights)"
   ]
  },
  {
   "cell_type": "code",
   "execution_count": 14,
   "metadata": {
    "scrolled": true
   },
   "outputs": [],
   "source": [
    "# for i in range(len(model.layers)):\n",
    "#     model.layers[i].trainable = False\n",
    "#     if i in [2, 4]:\n",
    "#         model.layers[i].trainable = True\n",
    "# model.summary()"
   ]
  },
  {
   "cell_type": "code",
   "execution_count": 15,
   "metadata": {},
   "outputs": [],
   "source": [
    "# model.compile(loss='binary_crossentropy', optimizer=optimizer, metrics='accuracy')\n",
    "# model.fit(X_train, y_train, batch_size=BATCH_SIZE, class_weight=class_weights)"
   ]
  },
  {
   "cell_type": "code",
   "execution_count": 16,
   "metadata": {
    "scrolled": true
   },
   "outputs": [],
   "source": [
    "# for i in range(len(model.layers)):\n",
    "#     model.layers[i].trainable = True\n",
    "# model.summary()"
   ]
  },
  {
   "cell_type": "code",
   "execution_count": 17,
   "metadata": {},
   "outputs": [
    {
     "name": "stdout",
     "output_type": "stream",
     "text": [
      "Epoch 1/5\n",
      "277/277 [==============================] - 221s 779ms/step - loss: 0.6809 - accuracy: 0.5686 - val_loss: 0.6551 - val_accuracy: 0.6859\n",
      "Epoch 2/5\n",
      "277/277 [==============================] - 219s 789ms/step - loss: 0.6439 - accuracy: 0.7121 - val_loss: 0.6210 - val_accuracy: 0.7718\n",
      "Epoch 3/5\n",
      "277/277 [==============================] - 219s 792ms/step - loss: 0.6075 - accuracy: 0.7815 - val_loss: 0.5858 - val_accuracy: 0.8160\n",
      "Epoch 4/5\n",
      "277/277 [==============================] - 212s 765ms/step - loss: 0.5730 - accuracy: 0.8127 - val_loss: 0.5487 - val_accuracy: 0.8442\n",
      "Epoch 5/5\n",
      "277/277 [==============================] - 211s 761ms/step - loss: 0.5351 - accuracy: 0.8379 - val_loss: 0.5094 - val_accuracy: 0.8558\n"
     ]
    },
    {
     "data": {
      "text/plain": [
       "<tensorflow.python.keras.callbacks.History at 0x7efefc4b7580>"
      ]
     },
     "execution_count": 17,
     "metadata": {},
     "output_type": "execute_result"
    }
   ],
   "source": [
    "from sklearn.utils import class_weight\n",
    "model.compile(loss='binary_crossentropy', optimizer=optimizer, metrics='accuracy')\n",
    "checkpoint_filepath = '/tmp/checkpoint_v0'\n",
    "model.fit(\n",
    "    X_train, y_train, batch_size=BATCH_SIZE, class_weight=class_weights,\n",
    "    validation_split=val_split, epochs=EPOCHS,\n",
    "    callbacks=[tf.keras.callbacks.ModelCheckpoint(\n",
    "        filepath=checkpoint_filepath,\n",
    "        save_weights_only=True,\n",
    "        monitor='val_accuracy',\n",
    "        mode='max',\n",
    "        save_best_only=True\n",
    "    )]\n",
    ")"
   ]
  },
  {
   "cell_type": "code",
   "execution_count": 18,
   "metadata": {},
   "outputs": [
    {
     "name": "stdout",
     "output_type": "stream",
     "text": [
      "[0] [0.79709387]\n"
     ]
    },
    {
     "data": {
      "text/plain": [
       "('For Helping Immigrants, Chobani’s Founder Draws Threats - The New York Times',\n",
       " 'By many measures, Chobani embodies the classic American immigrant success story. Its founder, Hamdi Ulukaya, is a Turkish immigrant of Kurdish descent. He bought a defunct yogurt factory in upstate New York, added a facility in Twin Falls, Idaho, and now employs about 2, 000 people making Greek yogurt. But in this contentious election season, the extreme right has a problem with Chobani: In its view, too many of those employees are refugees. As Mr. Ulukaya has stepped up his advocacy  —   employing more than 300 refugees in his factories, starting a foundation to help migrants, and traveling to the Greek island of Lesbos to witness the crisis firsthand  —   he and his company have been targeted with racist attacks on social media and conspiratorial articles on websites including Breitbart News. Now there are calls to boycott Chobani. Mr. Ulukaya and the company have been taunted with racist epithets on Twitter and Facebook. Fringe websites have published false stories claiming Mr. Ulukaya wants “to drown the United States in Muslims. ” And the mayor of Twin Falls has received death threats, partly as a result of his support for Chobani. Online hate speech is on the rise, reflecting the rising nationalism displayed by some supporters of Donald J. Trump, who has opposed resettling refugees in the United States. “What’s happening with Chobani is one more flash point in this battle between the voices of xenophobia and the voices advocating a rational immigration policy,” said Cecillia Wang, director of the Immigrants’ Rights Project at the American Civil Liberties Union. Chobani and Mr. Ulukaya declined to comment for this article. The Trump campaign did not reply to a request for comment. Mr. Ulukaya arrived in upstate New York in the 1990s to attend school. By 2002, he was making and selling feta cheese inspired by a family recipe. A few years later, he learned that a local yogurt and cheese factory that had closed was for sale. He received a loan of $800, 000 from the Small Business Administration to purchase the factory, and started selling Chobani yogurt in 2007. As the business grew, Mr. Ulukaya needed more help. When he learned there was a refugee resettlement center in a nearby town, he asked if any of the newcomers wanted jobs at Chobani. Mr. Ulukaya provided transportation for the new hires, and he brought in translators to assist them. He paid the refugee workers salaries above the minimum wage, as he did other workers at the factory. When Chobani opened its factory in Twin Falls, Mr. Ulukaya once again turned to a local resettlement center. The company now employs resettled refugees from Iraq, Afghanistan and Turkey, among other countries. “The minute a refugee has a job, that’s the minute they stop being a refugee,” Mr. Ulukaya said in a talk he gave this year. Today, Chobani has annual yogurt sales of around $1. 5 billion. Last year, Mr. Ulukaya signed the Giving Pledge, promising to give away a majority of his fortune to assist refugees. Chobani and the other companies working with refugees are not exploiting them, said Jennifer Patterson, project director for the Partnership for Refugees, a federal program. “It’s the exact opposite,” Ms. Patterson said. “These companies are looking to provide resettled refuges with the ability to live happy and productive lives. ” Chobani’s work with refugees went largely unnoticed until this January, when Mr. Ulukaya spoke at the World Economic Forum in Davos, Switzerland. His message  —   that corporations needed to do more to assist refugees  —   broke through the   rhetoric. “He was quite a sensation there,” said Kenneth Roth, executive director of Human Rights Watch, who attended the event. “Here was someone who went beyond the   chatter of Davos and was walking the walk. ” Cisco, IBM, Salesforce and more joined others in pledging assistance to refugees. Those companies and others began working with the Tent Foundation, which Mr. Ulukaya founded last year. Chobani has pledged to help other companies learn how to effectively integrate refugees into a work force. But while an alliance of   companies was now working together on the issue, the online critics zeroed in on Chobani. Shortly after Mr. Ulukaya spoke in Davos, the   website WND published a story originally titled “American Yogurt Tycoon Vows to Choke U. S. With Muslims. ” Then this summer, Breitbart, the conservative news website whose former executive chairman, Stephen K. Bannon, is now running the Trump campaign, began publishing a series of misleading articles about Chobani. One drew a connection between Chobani’s hiring of refugees and a spike in tuberculosis cases in Idaho. Another linked Chobani to a “Twin Falls Crisis Imposed by     Advocates. ” A third conflated Chobani’s hiring practices with a sexual assault case in Twin Falls involving minors. As Breitbart began publishing its articles, the online attacks grew more intense. On Twitter and Facebook, users called for a boycott of Chobani. An image was widely shared on social media that claimed Mr. Ulukaya was “going to drown the United States in Muslims and is importing them to Idaho 300 at a time to work in his factory. ” And bloggers fabricated stories claiming that Chobani was pressuring local officials “to facilitate their multitude of Muslim   requests. ” Soon the mayor of Twin Falls, Shawn Barigar, found himself at the center of a conspiracy theory. “It got woven into a narrative that it’s all a   that we’re all trying to keep the refugees safe so that Chobani has its work force, that I personally am getting money from the Obama administration to help Chobani hire whoever they want, that it’s part of this Islamification of the United States,” he said. “It’s crazy. ” As the online comments escalated this summer, Mr. Barigar and his wife received death threats. Breitbart said it was simply covering the news. “Breitbart has been a leader in delivering important and breaking news on refugee crises throughout the Western world, which pose both national security and financial risks,” Alex Marlow, editor in chief, said in a statement. “Mr. Ulukaya hasn’t merely involved himself in this issue, he’s been one of the leaders in expanding refugee resettlement in the United States. Breitbart’s explosive growth is due in large measure to the mainstream media’s refusal to cover vital topics like this one. ” But civil rights advocates said they believed it was no mystery why Mr. Ulukaya was targeted while other chief executives had been spared. “It’s because he’s an immigrant himself,” Ms. Wang of the A. C. L. U. said. Mr. Roth of Human Rights Watch attributed some of the xenophobia directed at Chobani to the election season. “Some people are feeling left behind, and some people are concerned about terrorists,” he said. “But Trump has given a voice to these sentiments. ” Mr. Barigar, a Democrat, concurred. “Donald Trump really fueled a sentiment about immigration that is shared by a very small part of our community,” he said. “We are an agricultural center. We’ve depended on immigrants for a   or more. ” Mr. Ulukaya appears undeterred. In September, he participated in a   discussion with President Obama and business leaders on how corporations could do more to help refugees. And his work with refugees is part of a broader suite of initiatives. He recently gave 10 percent of Chobani shares to his employees, and he is offering paid parental leave to all employees. “He’s the xenophobe’s nightmare,” Mr. Roth said. “Here’s an immigrant who isn’t competing for jobs, but is creating jobs big time. It runs completely counter to the   narrative. ”')"
      ]
     },
     "execution_count": 18,
     "metadata": {},
     "output_type": "execute_result"
    }
   ],
   "source": [
    "model.load_weights(checkpoint_filepath)\n",
    "logits = model.predict(X_test)\n",
    "most_off = np.argmax(np.abs(y_test - logits))\n",
    "print(y_test[most_off], logits[most_off])\n",
    "test.iloc[most_off].title, test.iloc[most_off].text"
   ]
  },
  {
   "cell_type": "code",
   "execution_count": 19,
   "metadata": {},
   "outputs": [
    {
     "name": "stdout",
     "output_type": "stream",
     "text": [
      "0.7160742996593131\n",
      "[[704  76]\n",
      " [148 633]]\n",
      "49/49 [==============================] - 4s 75ms/step - loss: 0.5084 - accuracy: 0.8565\n"
     ]
    },
    {
     "data": {
      "text/plain": [
       "[0.5083625316619873, 0.8565022349357605]"
      ]
     },
     "execution_count": 19,
     "metadata": {},
     "output_type": "execute_result"
    }
   ],
   "source": [
    "y_pred = np.round(logits)\n",
    "print(matthews_corrcoef(y_test, y_pred))\n",
    "print(confusion_matrix(y_test, y_pred))\n",
    "model.evaluate(X_test, y_test)"
   ]
  },
  {
   "cell_type": "code",
   "execution_count": 20,
   "metadata": {},
   "outputs": [],
   "source": [
    "def get_reshaped_weights(model,layer_id):\n",
    "    W=np.array(model.layers[layer_id].get_weights())\n",
    "    W=W.reshape(W.shape[1],W.shape[2])\n",
    "    return W\n",
    "text_embed = get_reshaped_weights(model,2)\n",
    "title_embed = get_reshaped_weights(model,4)"
   ]
  },
  {
   "cell_type": "code",
   "execution_count": 21,
   "metadata": {},
   "outputs": [
    {
     "name": "stderr",
     "output_type": "stream",
     "text": [
      "<ipython-input-21-ecfad56ed059>:8: RuntimeWarning: divide by zero encountered in true_divide\n",
      "  cs = W.dot(b) / (np.linalg.norm(W, axis=1) * np.linalg.norm(b))\n",
      "<ipython-input-21-ecfad56ed059>:8: RuntimeWarning: invalid value encountered in true_divide\n",
      "  cs = W.dot(b) / (np.linalg.norm(W, axis=1) * np.linalg.norm(b))\n",
      "<ipython-input-21-ecfad56ed059>:4: RuntimeWarning: invalid value encountered in greater_equal\n",
      "  n_ = np.sum(arr >= thresh)\n",
      "/home/christophercoffee/anaconda3/lib/python3.8/site-packages/matplotlib/backends/backend_agg.py:238: RuntimeWarning: Glyph 146 missing from current font.\n",
      "  font.set_text(s, 0.0, flags=flags)\n",
      "/home/christophercoffee/anaconda3/lib/python3.8/site-packages/matplotlib/backends/backend_agg.py:201: RuntimeWarning: Glyph 146 missing from current font.\n",
      "  font.set_text(s, 0, flags=flags)\n"
     ]
    },
    {
     "data": {
      "image/png": "[encoded data removed]",
      "text/plain": [
       "<Figure size 1080x1080 with 1 Axes>"
      ]
     },
     "metadata": {
      "needs_background": "light"
     },
     "output_type": "display_data"
    }
   ],
   "source": [
    "def get_top_n_plus_ties(arr, n):\n",
    "    sorted_args = np.argsort(-arr)\n",
    "    thresh = arr[sorted_args[n]]\n",
    "    n_ = np.sum(arr >= thresh)\n",
    "    return sorted_args[:n_]\n",
    "def get_most_similar(word, W, n):\n",
    "    b = W[vocab[word]]\n",
    "    cs = W.dot(b) / (np.linalg.norm(W, axis=1) * np.linalg.norm(b))\n",
    "    return get_top_n_plus_ties(cs, n)\n",
    "def create_words_plot(embed1, embed2, WORD, k=9):\n",
    "    global seed\n",
    "    ids1 = get_most_similar(WORD, embed1, k-1)\n",
    "    ids2 = get_most_similar(WORD, embed2, k-1)\n",
    "    words1 = [id2word[i] for i in ids1]\n",
    "    words2 = [id2word[i] for i in ids2]\n",
    "    v = TSNE(n_components=2,random_state=seed).fit_transform(\n",
    "        np.concatenate([embed1[ids1],embed2[ids2]]))\n",
    "    seed += 1\n",
    "    fig = plt.figure(figsize=(15,15))\n",
    "    plt.scatter(v[:k,0],v[:k,1],facecolors='none',edgecolors='teal')\n",
    "    plt.scatter(v[k:,0],v[k:,1],facecolors='none',edgecolors='red')\n",
    "    for i, word in enumerate(words1):\n",
    "        plt.annotate(word,(v[i,0],v[i,1]),size=9.5)\n",
    "        if word == WORD:\n",
    "            plt.scatter(v[i,0],v[i,1],c='teal',s=300)\n",
    "    for i, word in enumerate(words2):\n",
    "        plt.annotate(word,(v[i+k,0],v[i+k,1]),size=9.5)\n",
    "        if word == WORD:\n",
    "            plt.scatter(v[i+k,0],v[i+k,1],c='red',s=300)\n",
    "create_words_plot(text_embed,title_embed,'headline')"
   ]
  }
 ],
 "metadata": {
  "kernelspec": {
   "display_name": "Python 3",
   "language": "python",
   "name": "python3"
  },
  "language_info": {
   "codemirror_mode": {
    "name": "ipython",
    "version": 3
   },
   "file_extension": ".py",
   "mimetype": "text/x-python",
   "name": "python",
   "nbconvert_exporter": "python",
   "pygments_lexer": "ipython3",
   "version": "3.8.3"
  }
 },
 "nbformat": 4,
 "nbformat_minor": 4
}
