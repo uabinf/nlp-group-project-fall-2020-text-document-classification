{
 "cells": [
  {
   "cell_type": "code",
   "execution_count": 1,
   "metadata": {},
   "outputs": [],
   "source": [
    "import warnings\n",
    "\n",
    "import tensorflow as tf\n",
    "import tensorflow.keras.backend as K\n",
    "from tensorflow.keras.layers import (\n",
    "    Input, Lambda, Embedding, GRU, Bidirectional, Concatenate, Dense\n",
    ")\n",
    "from tensorflow.keras.regularizers import L1L2\n",
    "import numpy as np\n",
    "import pandas as pd\n",
    "\n",
    "import nltk\n",
    "import gensim.downloader\n",
    "import re\n",
    "from calendar import day_name, day_abbr, month_name, month_abbr\n",
    "from collections import Counter\n",
    "\n",
    "from sklearn import preprocessing\n",
    "from sklearn.utils import class_weight\n",
    "# from sklearn.model_selection import train_test_split\n",
    "from sklearn.metrics import matthews_corrcoef\n",
    "from sklearn.manifold import TSNE\n",
    "\n",
    "import matplotlib.pyplot as plt"
   ]
  },
  {
   "cell_type": "code",
   "execution_count": 2,
   "metadata": {},
   "outputs": [],
   "source": [
    "# constants that will be used as tokens\n",
    "PAD = '~PAD~'\n",
    "URL = '~URL~'\n",
    "DATETIME = '~DATETIME~'\n",
    "QUANTITY = '~QUANTITY~'\n",
    "NUM = '~NUM~'\n",
    "UNK = '~UNK~'\n",
    "\n",
    "# regexes to be applied prior to tokenization\n",
    "url_regex = '(www\\.|http://|https://)\\S+|\\S+\\.(co|org|net|info|be|gov|edu|html|jpg|jpeg|png|gif)'\n",
    "date_regex = '('        + '|'.join(day_name[i] for i in range(7)) +\\\n",
    "             '|'        + '|'.join(day_abbr[i] for i in range(7)) +\\\n",
    "             ')?,?\\s?(' + '|'.join(month_name[i] for i in range(1, 13)) +\\\n",
    "             '|'        + '|'.join(month_abbr[i] for i in range(1, 13)) +\\\n",
    "             \")\\s\\d{1,2}(st|nd|rd|th)?(,?\\s'?\\d{2,4})?\"\n",
    "time_regex = '((\\d+\\:\\d+)(\\s?[AaPp]\\.\\s?[Mm]\\.)?)|((\\d+\\:\\d+\\s?)?([AaPp]\\.\\s?[Mm]\\.))'\n",
    "quantity_regex = '\\d+((\\,?\\d+)+)?'\n",
    "\n",
    "# list of stopwords\n",
    "stopwords = nltk.corpus.stopwords.words('english')\n",
    "\n",
    "### HYPERPARAMETERS ###\n",
    "PERCENT_TEST = 0.075\n",
    "PERCENT_VAL  = 0.075\n",
    "\n",
    "### RANDOM SEED (for reproducibility) ###\n",
    "RANDOM_SEED = 0\n",
    "np.random.seed(RANDOM_SEED)"
   ]
  },
  {
   "cell_type": "code",
   "execution_count": 3,
   "metadata": {
    "scrolled": false
   },
   "outputs": [
    {
     "name": "stdout",
     "output_type": "stream",
     "text": [
      "CPU times: user 55.9 s, sys: 3.19 s, total: 59.1 s\n",
      "Wall time: 1min 1s\n"
     ]
    }
   ],
   "source": [
    "%%time\n",
    "\n",
    "# download our pretrained word embedding with embedding size of 300\n",
    "EMBED_SIZE = 300\n",
    "gn300_raw = gensim.downloader.load('word2vec-google-news-300')\n",
    "\n",
    "\"\"\"\n",
    "Condense our pretrained word embedding using the following two techniques:\n",
    "1) remove stopwords\n",
    "2) make all keys lowercase, group by key, and take average per key.\n",
    "E.g. (gn300_raw['beyonce'] +\n",
    "      gn300_raw['Beyonce'] +\n",
    "      gn300_raw['BEYONCE']) / 3 -> gn300['beyonce']\n",
    "\"\"\"\n",
    "S = Counter() # vector sum\n",
    "C = Counter() # vector count\n",
    "for word in gn300_raw.vocab:\n",
    "    lower = word.lower()\n",
    "    if lower in stopwords: continue\n",
    "    S[lower] += gn300_raw[word]\n",
    "    C[lower] += 1\n",
    "# create condensed word2vec (just a simple dictionary)\n",
    "gn300 = {w: s / c for w, s, c in zip(S.keys(), S.values(), C.values())}"
   ]
  },
  {
   "cell_type": "code",
   "execution_count": 4,
   "metadata": {
    "scrolled": true
   },
   "outputs": [
    {
     "name": "stdout",
     "output_type": "stream",
     "text": [
      "8820 8353\n",
      "771 744\n",
      "796 719\n"
     ]
    }
   ],
   "source": [
    "# get data\n",
    "news = pd.read_csv('fake-news/train.csv')\n",
    "news = news[['title','text','label']]\n",
    "news = news.dropna()\n",
    "news = news.sample(frac=1, random_state=RANDOM_SEED)\n",
    "\n",
    "# binarize labels\n",
    "lb = preprocessing.LabelBinarizer()\n",
    "y = lb.fit_transform(news.label)\n",
    "\n",
    "# split between test and training/validation data\n",
    "test_size = int(PERCENT_TEST * len(news))\n",
    "train, y_train = news.iloc[test_size:].copy(deep=True), y[test_size:]\n",
    "test, y_test = news.iloc[:test_size].copy(deep=True), y[:test_size]\n",
    "\n",
    "# Expected result of validation_split. This is just to give us a sense\n",
    "# of the distribution of labels.\n",
    "def display_count(df):\n",
    "    print(len(df[df.label == 0]), len(df[df.label == 1]))\n",
    "display_count(train.iloc[:-int(PERCENT_VAL * len(news))])\n",
    "display_count(train.iloc[-int(PERCENT_VAL * len(news)):])\n",
    "display_count(test)"
   ]
  },
  {
   "cell_type": "code",
   "execution_count": 5,
   "metadata": {
    "scrolled": true
   },
   "outputs": [
    {
     "name": "stdout",
     "output_type": "stream",
     "text": [
      "CPU times: user 4min 45s, sys: 278 ms, total: 4min 45s\n",
      "Wall time: 4min 45s\n"
     ]
    }
   ],
   "source": [
    "%%time\n",
    "\n",
    "# e.g. split_by_case('ILoveNewYork') == ['I', 'Love', 'New', 'York']\n",
    "def split_by_case(s):\n",
    "    if (not s[1:].isupper()) and (not s[1:].islower()):\n",
    "        for i in range(1, len(s) - 1):\n",
    "            if s[i].isupper():\n",
    "                return [s[:i]] + split_by_case(s[i:])\n",
    "            elif s[i + 1].isupper():\n",
    "                return [s[:i + 1]] + split_by_case(s[i + 1:])\n",
    "    return [s]\n",
    "\n",
    "def supertokenize(text):\n",
    "    text = re.sub(quantity_regex, QUANTITY, \n",
    "                 re.sub(time_regex, DATETIME, \n",
    "                        re.sub(date_regex, DATETIME, \n",
    "                               re.sub(url_regex, URL, text))))\n",
    "    text = text.replace('•', '')\n",
    "    raw_tokens = nltk.word_tokenize(text)\n",
    "    tokens = []\n",
    "    for t in raw_tokens:\n",
    "        if t in '!\"\\'(),--./:;<?[\\\\]{|}“”‘’—': continue\n",
    "        if t.lower() != \"n't\": t = re.sub('[\\\"\\']', '', t)\n",
    "        if (len(t) > 2) and (t.lower() == t) and (t[-1] == '.'): t = t[:-1]\n",
    "        if t == URL:\n",
    "            tokens.append(URL)\n",
    "            continue\n",
    "        if (t == DATETIME) or (re.sub('^\\d+(/\\d+)+$', '', t) == ''):\n",
    "            tokens.append(DATETIME)\n",
    "            continue\n",
    "        if t == QUANTITY:\n",
    "            tokens.append(QUANTITY)\n",
    "            continue\n",
    "        if t.isnumeric() or (t[:-2].isnumeric() and (t[-2:] in ['st', 'nd', 'rd', 'th'])):\n",
    "            tokens.append(NUM)\n",
    "            continue\n",
    "        t = t.lower()\n",
    "        if t in stopwords: continue\n",
    "        if t in gn300:\n",
    "            tokens.append(t)\n",
    "        else:\n",
    "            if t + '.' in gn300:\n",
    "                tokens.append(t + '.')\n",
    "                continue\n",
    "            if t.replace('.', '') in gn300:\n",
    "                tokens.append(t.replace('.', ''))\n",
    "                continue\n",
    "            is_found = False\n",
    "            for x in split_by_case(re.sub('[^a-z]', '', t)):\n",
    "                if x in gn300:\n",
    "                    tokens.append(x)\n",
    "                    is_found = True\n",
    "            if is_found: continue\n",
    "            for st in re.split('-', re.sub('[^a-z0-9\\.~]', '-', t)):\n",
    "                for x in [st, st[:-1], st[1:], st.replace('s', 'z'), \n",
    "                          st.replace('ou', 'o'), st.replace('re', 'er')]:\n",
    "                    if x in gn300:\n",
    "                        tokens.append(x)\n",
    "                        is_found = True\n",
    "                        break\n",
    "            if not is_found: tokens.append(UNK)\n",
    "    return tokens\n",
    "\n",
    "# this does tokenization as well as tracking token counts grouped by label\n",
    "def supertokenizeplus(text, label):\n",
    "    global tc_real, tc_fake\n",
    "    tokens = supertokenize(text)\n",
    "    tc = Counter(tokens)\n",
    "    if label in [0, 'REAL']:\n",
    "        tc_fake += tc\n",
    "    elif label in [1, 'FAKE']:\n",
    "        tc_real += tc\n",
    "    else:\n",
    "        warnings.warn('Unexpected label %s'.format(label))\n",
    "    return tokens\n",
    "\n",
    "tc_real=Counter()\n",
    "tc_fake=Counter()\n",
    "train['tokenized_title'] = train.apply(lambda x: supertokenizeplus(x.title, x.label), axis=1)\n",
    "train['tokenized_text'] = train.apply(lambda x: supertokenizeplus(x.text, x.label), axis=1)"
   ]
  },
  {
   "cell_type": "code",
   "execution_count": 7,
   "metadata": {},
   "outputs": [
    {
     "data": {
      "text/plain": [
       "(25041,\n",
       " [('~UNK~', 300.76179282734165),\n",
       "  ('mr.', 235.2116532892824),\n",
       "  ('said', 192.0781204635688),\n",
       "  ('ms.', 103.77900147969193),\n",
       "  ('~QUANTITY~', 101.01247607174403),\n",
       "  ('hillary', 87.32835839338703),\n",
       "  ('york', 84.86174512966578),\n",
       "  ('new', 77.44751235523478),\n",
       "  ('breitbart', 72.85725040861652),\n",
       "  ('s.', 69.83259678225906)])"
      ]
     },
     "execution_count": 7,
     "metadata": {},
     "output_type": "execute_result"
    }
   ],
   "source": [
    "t = Counter()\n",
    "for k in tc_real + tc_fake:\n",
    "    t[k] = abs(tc_real[k] - tc_fake[k]) / np.sqrt(tc_real[k] + tc_fake[k])\n",
    "\n",
    "thresh = t.most_common(25000)[-1][1]\n",
    "tokens = [k for k, v in t.items() if v >= thresh]\n",
    "\n",
    "vocab, i = {PAD: 0, URL: 1, DATETIME: 2, QUANTITY: 3, NUM: 4, UNK: 5}, 6\n",
    "for w in tokens:\n",
    "    if w in (PAD, URL, DATETIME, QUANTITY, NUM, UNK): continue\n",
    "    vocab[w] = i\n",
    "    i += 1\n",
    "id2word = {v: k for k, v in vocab.items()}\n",
    "\n",
    "i, t.most_common(10)"
   ]
  },
  {
   "cell_type": "code",
   "execution_count": 8,
   "metadata": {},
   "outputs": [
    {
     "name": "stdout",
     "output_type": "stream",
     "text": [
      "CPU times: user 17.2 s, sys: 27.9 ms, total: 17.2 s\n",
      "Wall time: 17.2 s\n"
     ]
    }
   ],
   "source": [
    "%%time\n",
    "test['tokenized_title'] = test.apply(lambda x: supertokenize(x.title),axis=1)\n",
    "test['tokenized_text'] = test.apply(lambda x: supertokenize(x.text),axis=1)"
   ]
  },
  {
   "cell_type": "code",
   "execution_count": 9,
   "metadata": {
    "scrolled": true
   },
   "outputs": [],
   "source": [
    "def clean(text,length):\n",
    "    f = [vocab[w] if w in vocab else vocab[UNK] for w in text]\n",
    "    f = f[:length]\n",
    "    return (length - len(f)) * [vocab[PAD]] + f\n",
    "train['text_as_ints'] = train.tokenized_text.apply(clean,args=[512])\n",
    "train['title_as_ints'] = train.tokenized_text.apply(clean,args=[64])\n",
    "test['text_as_ints'] = test.tokenized_text.apply(clean,args=[512])\n",
    "test['title_as_ints'] = test.tokenized_text.apply(clean,args=[64])\n",
    "\n",
    "X_train = [np.array(train.text_as_ints.to_list()), np.array(train.title_as_ints.to_list())]\n",
    "X_test = [np.array(test.text_as_ints.to_list()), np.array(test.title_as_ints.to_list())]"
   ]
  },
  {
   "cell_type": "code",
   "execution_count": 10,
   "metadata": {
    "scrolled": true
   },
   "outputs": [
    {
     "name": "stdout",
     "output_type": "stream",
     "text": [
      "Model: \"model\"\n",
      "__________________________________________________________________________________________________\n",
      "Layer (type)                    Output Shape         Param #     Connected to                     \n",
      "==================================================================================================\n",
      "input_1 (InputLayer)            [(None, None)]       0                                            \n",
      "__________________________________________________________________________________________________\n",
      "input_2 (InputLayer)            [(None, None)]       0                                            \n",
      "__________________________________________________________________________________________________\n",
      "embedding (Embedding)           (None, None, 300)    7512300     input_1[0][0]                    \n",
      "__________________________________________________________________________________________________\n",
      "lambda (Lambda)                 (None, None)         0           input_1[0][0]                    \n",
      "                                                                 input_2[0][0]                    \n",
      "__________________________________________________________________________________________________\n",
      "embedding_1 (Embedding)         (None, None, 300)    7512300     input_2[0][0]                    \n",
      "__________________________________________________________________________________________________\n",
      "bidirectional (Bidirectional)   (None, 100)          105600      embedding[0][0]                  \n",
      "                                                                 lambda[0][0]                     \n",
      "__________________________________________________________________________________________________\n",
      "gru_1 (GRU)                     (None, 50)           52800       embedding_1[0][0]                \n",
      "                                                                 lambda[1][0]                     \n",
      "__________________________________________________________________________________________________\n",
      "concatenate (Concatenate)       (None, 150)          0           bidirectional[0][0]              \n",
      "                                                                 gru_1[0][0]                      \n",
      "__________________________________________________________________________________________________\n",
      "dense (Dense)                   (None, 1)            151         concatenate[0][0]                \n",
      "==================================================================================================\n",
      "Total params: 15,183,151\n",
      "Trainable params: 158,551\n",
      "Non-trainable params: 15,024,600\n",
      "__________________________________________________________________________________________________\n"
     ]
    }
   ],
   "source": [
    "input_text = Input(shape=[None])\n",
    "input_title = Input(shape=[None])\n",
    "mask = Lambda(lambda inputs: K.not_equal(inputs, 0))\n",
    "def emb():\n",
    "    e = np.zeros((len(vocab), EMBED_SIZE))\n",
    "    v = np.random.uniform(-1, 1, EMBED_SIZE)\n",
    "    for i in range(len(vocab)):\n",
    "        try:\n",
    "            g = gn300[id2word[i]]\n",
    "            e[i] = g + v * np.linalg.norm(g) / np.linalg.norm(v)\n",
    "        except KeyError:\n",
    "            assert i <= 5, i\n",
    "            if i in [1, 2, 3, 4]: # leave PAD and UNK zero\n",
    "                e[i] = v / np.linalg.norm(v)\n",
    "    return Embedding(input_dim=e.shape[0],\n",
    "                     output_dim=e.shape[1],\n",
    "                     weights=[e],\n",
    "                     trainable=False)\n",
    "emb_text = emb()(input_text)\n",
    "emb_title = emb()(input_title)\n",
    "gru = lambda: GRU(50, dropout=0.2, recurrent_dropout=0.2,\n",
    "                  kernel_regularizer=L1L2(l1=1e-6, l2=2e-6))\n",
    "gru_text = Bidirectional(gru())(emb_text, mask=mask(input_text))\n",
    "gru_title = gru()(emb_title, mask=mask(input_title))\n",
    "concat = Concatenate()([gru_text, gru_title])\n",
    "outputs = Dense(1, activation='sigmoid')(concat)\n",
    "model = tf.keras.Model(inputs=[input_text, input_title], outputs=[outputs])\n",
    "model.summary()"
   ]
  },
  {
   "cell_type": "code",
   "execution_count": 11,
   "metadata": {},
   "outputs": [
    {
     "name": "stdout",
     "output_type": "stream",
     "text": [
      "292/292 [==============================] - 226s 761ms/step - loss: 0.4954 - accuracy: 0.7535\n"
     ]
    },
    {
     "data": {
      "text/plain": [
       "<tensorflow.python.keras.callbacks.History at 0x7fb44cf0a250>"
      ]
     },
     "execution_count": 11,
     "metadata": {},
     "output_type": "execute_result"
    }
   ],
   "source": [
    "model.compile(loss='binary_crossentropy', optimizer='adam', metrics='accuracy')\n",
    "model.fit(X_train, y_train, epochs=1, batch_size=64)"
   ]
  },
  {
   "cell_type": "code",
   "execution_count": 12,
   "metadata": {
    "scrolled": true
   },
   "outputs": [
    {
     "name": "stdout",
     "output_type": "stream",
     "text": [
      "Model: \"model\"\n",
      "__________________________________________________________________________________________________\n",
      "Layer (type)                    Output Shape         Param #     Connected to                     \n",
      "==================================================================================================\n",
      "input_1 (InputLayer)            [(None, None)]       0                                            \n",
      "__________________________________________________________________________________________________\n",
      "input_2 (InputLayer)            [(None, None)]       0                                            \n",
      "__________________________________________________________________________________________________\n",
      "embedding (Embedding)           (None, None, 300)    7512300     input_1[0][0]                    \n",
      "__________________________________________________________________________________________________\n",
      "lambda (Lambda)                 (None, None)         0           input_1[0][0]                    \n",
      "                                                                 input_2[0][0]                    \n",
      "__________________________________________________________________________________________________\n",
      "embedding_1 (Embedding)         (None, None, 300)    7512300     input_2[0][0]                    \n",
      "__________________________________________________________________________________________________\n",
      "bidirectional (Bidirectional)   (None, 100)          105600      embedding[0][0]                  \n",
      "                                                                 lambda[0][0]                     \n",
      "__________________________________________________________________________________________________\n",
      "gru_1 (GRU)                     (None, 50)           52800       embedding_1[0][0]                \n",
      "                                                                 lambda[1][0]                     \n",
      "__________________________________________________________________________________________________\n",
      "concatenate (Concatenate)       (None, 150)          0           bidirectional[0][0]              \n",
      "                                                                 gru_1[0][0]                      \n",
      "__________________________________________________________________________________________________\n",
      "dense (Dense)                   (None, 1)            151         concatenate[0][0]                \n",
      "==================================================================================================\n",
      "Total params: 15,183,151\n",
      "Trainable params: 15,024,600\n",
      "Non-trainable params: 158,551\n",
      "__________________________________________________________________________________________________\n"
     ]
    }
   ],
   "source": [
    "for i in range(len(model.layers)):\n",
    "    model.layers[i].trainable = False\n",
    "    if i in [2, 4]:\n",
    "        model.layers[i].trainable = True\n",
    "model.summary()"
   ]
  },
  {
   "cell_type": "code",
   "execution_count": 13,
   "metadata": {},
   "outputs": [
    {
     "name": "stdout",
     "output_type": "stream",
     "text": [
      "292/292 [==============================] - 212s 713ms/step - loss: 0.1633 - accuracy: 0.9408\n"
     ]
    },
    {
     "data": {
      "text/plain": [
       "<tensorflow.python.keras.callbacks.History at 0x7fb3f0e7caf0>"
      ]
     },
     "execution_count": 13,
     "metadata": {},
     "output_type": "execute_result"
    }
   ],
   "source": [
    "model.compile(loss='binary_crossentropy', optimizer='adam', metrics='accuracy')\n",
    "model.fit(X_train, y_train, epochs=1, batch_size=64)"
   ]
  },
  {
   "cell_type": "code",
   "execution_count": 14,
   "metadata": {
    "scrolled": true
   },
   "outputs": [
    {
     "name": "stdout",
     "output_type": "stream",
     "text": [
      "Model: \"model\"\n",
      "__________________________________________________________________________________________________\n",
      "Layer (type)                    Output Shape         Param #     Connected to                     \n",
      "==================================================================================================\n",
      "input_1 (InputLayer)            [(None, None)]       0                                            \n",
      "__________________________________________________________________________________________________\n",
      "input_2 (InputLayer)            [(None, None)]       0                                            \n",
      "__________________________________________________________________________________________________\n",
      "embedding (Embedding)           (None, None, 300)    7512300     input_1[0][0]                    \n",
      "__________________________________________________________________________________________________\n",
      "lambda (Lambda)                 (None, None)         0           input_1[0][0]                    \n",
      "                                                                 input_2[0][0]                    \n",
      "__________________________________________________________________________________________________\n",
      "embedding_1 (Embedding)         (None, None, 300)    7512300     input_2[0][0]                    \n",
      "__________________________________________________________________________________________________\n",
      "bidirectional (Bidirectional)   (None, 100)          105600      embedding[0][0]                  \n",
      "                                                                 lambda[0][0]                     \n",
      "__________________________________________________________________________________________________\n",
      "gru_1 (GRU)                     (None, 50)           52800       embedding_1[0][0]                \n",
      "                                                                 lambda[1][0]                     \n",
      "__________________________________________________________________________________________________\n",
      "concatenate (Concatenate)       (None, 150)          0           bidirectional[0][0]              \n",
      "                                                                 gru_1[0][0]                      \n",
      "__________________________________________________________________________________________________\n",
      "dense (Dense)                   (None, 1)            151         concatenate[0][0]                \n",
      "==================================================================================================\n",
      "Total params: 15,183,151\n",
      "Trainable params: 15,183,151\n",
      "Non-trainable params: 0\n",
      "__________________________________________________________________________________________________\n"
     ]
    }
   ],
   "source": [
    "for i in range(len(model.layers)):\n",
    "    model.layers[i].trainable = True\n",
    "model.summary()"
   ]
  },
  {
   "cell_type": "code",
   "execution_count": 15,
   "metadata": {},
   "outputs": [
    {
     "name": "stdout",
     "output_type": "stream",
     "text": [
      "Epoch 1/10\n",
      "537/537 [==============================] - 406s 745ms/step - loss: 0.0689 - accuracy: 0.9809 - val_loss: 0.0412 - val_accuracy: 0.9921\n",
      "Epoch 2/10\n",
      "537/537 [==============================] - 399s 744ms/step - loss: 0.0197 - accuracy: 0.9976 - val_loss: 0.2320 - val_accuracy: 0.9307\n",
      "Epoch 3/10\n",
      "537/537 [==============================] - 400s 746ms/step - loss: 0.0152 - accuracy: 0.9984 - val_loss: 0.0382 - val_accuracy: 0.9927\n",
      "Epoch 4/10\n",
      "537/537 [==============================] - 390s 726ms/step - loss: 0.0109 - accuracy: 0.9997 - val_loss: 0.0369 - val_accuracy: 0.9941\n",
      "Epoch 5/10\n",
      "537/537 [==============================] - 384s 715ms/step - loss: 0.0089 - accuracy: 0.9999 - val_loss: 0.0398 - val_accuracy: 0.9914\n",
      "Epoch 6/10\n",
      "537/537 [==============================] - 383s 714ms/step - loss: 0.0076 - accuracy: 0.9999 - val_loss: 0.0371 - val_accuracy: 0.9921\n",
      "Epoch 7/10\n",
      "537/537 [==============================] - 383s 714ms/step - loss: 0.0349 - accuracy: 0.9954 - val_loss: 0.0514 - val_accuracy: 0.9888\n",
      "Epoch 8/10\n",
      "537/537 [==============================] - 383s 713ms/step - loss: 0.0130 - accuracy: 0.9988 - val_loss: 0.0439 - val_accuracy: 0.9894\n",
      "Epoch 9/10\n",
      "537/537 [==============================] - 383s 713ms/step - loss: 0.0087 - accuracy: 1.0000 - val_loss: 0.0444 - val_accuracy: 0.9901\n",
      "Epoch 10/10\n",
      "537/537 [==============================] - 384s 714ms/step - loss: 0.0072 - accuracy: 0.9999 - val_loss: 0.0460 - val_accuracy: 0.9901\n"
     ]
    },
    {
     "data": {
      "text/plain": [
       "<tensorflow.python.keras.callbacks.History at 0x7fb3ec31c4f0>"
      ]
     },
     "execution_count": 15,
     "metadata": {},
     "output_type": "execute_result"
    }
   ],
   "source": [
    "from sklearn.utils import class_weight\n",
    "model.compile(loss='binary_crossentropy', optimizer='Nadam', metrics='accuracy')\n",
    "validation_split = PERCENT_VAL / (1 - PERCENT_TEST)\n",
    "checkpoint_filepath = '/tmp/checkpoint_v0'\n",
    "class_weights = class_weight.compute_class_weight('balanced', classes=[0, 1],\n",
    "                                                  y=[w for x in y_train for w in x])\n",
    "class_weights = {i: weight for i, weight in enumerate(class_weights)}\n",
    "model.fit(\n",
    "    X_train, y_train, validation_split=validation_split, epochs=10, batch_size=32,\n",
    "    callbacks=[tf.keras.callbacks.ModelCheckpoint(\n",
    "        filepath=checkpoint_filepath,\n",
    "        save_weights_only=True,\n",
    "        monitor='val_accuracy',\n",
    "        mode='max',\n",
    "        save_best_only=True\n",
    "    )], class_weight=class_weights\n",
    ")"
   ]
  },
  {
   "cell_type": "code",
   "execution_count": 16,
   "metadata": {},
   "outputs": [
    {
     "name": "stdout",
     "output_type": "stream",
     "text": [
      "[1] [5.0615727e-06]\n"
     ]
    },
    {
     "data": {
      "text/plain": [
       "('Planned Parenthood: Abortion pill usage now rivals surgery',\n",
       " \"Planned Parenthood: Abortion pill usage now rivals surgery October 31, 2016 The Planned Parenthood logo is pictured outside a clinic in Boston, Massachusetts, June 27, 2014. REUTERS/Dominick Reuter \\nAbortion pill usage has almost overtaken surgical alternatives as legalization of infanticide faces a major chance of repeal. in election 2016. Two medications used to induce abortion won US approval in 2000, but Pro-Life activists successfully implemented legislative restrictions. In 2014: Abortion medication was used in 43 percent of pregnancy terminations at Planned Parenthood clinics. in 2010: Up from 35 percent according to previously unreported figures by Planned Parenthood. In Ohio, Texas and North Dakota: Demand for medication abortions tripled in the last several months to as much as 30 percent of all procedures in some clinics. States with no restrictions: Up to 55 percent in Michigan, 64 percent in Iowa. Studies: Drug induced abortions kill the child up to 95 percent of the time. The abortion pill was approved in France in 1988. Guttmacher Institute: Pill used in 91 percent of abortions in Finland, 80 percent in Scotland. 1 million of the more than 2.75 million U.S. women who have used the abortion pill received it from Planned Parenthood. Federal data: Overall U.S. abortion rates have dropped to a low of 16.9 terminations per 1,000 women aged15-44 in 2011, down from 19.4 per 1,000 in 2008. U.S. Food and Drug Administration allows abortion pills to be used as far as 10 weeks into pregnancies. Planned Parenthood said both types of abortion typically cost from $300 to $1,000. \\n(NEW YORK CITY) American women are ending pregnancies with medication almost as often as with surgery, marking a turning point for abortion in the United States, data reviewed by Reuters shows. \\nThe watershed comes amid an overall decline in abortion, a choice that remains politically charged in the United States, sparking a fiery exchange in the final debate between presidential nominees Hillary Clinton and Donald Trump. \\nWhen the two medications used to induce abortion won U.S. approval 16 years ago, the method was expected to quickly overtake the surgical option, as it has in much of Europe. But U.S. abortion opponents persuaded lawmakers in many states to put restrictions on their use. \\nAlthough many limitations remain, innovative dispensing efforts in some states, restricted access to surgical abortions in others and greater awareness boosted medication abortions to 43 percent of pregnancy terminations at Planned Parenthood clinics, the nation's single largest provider, in 2014, up from 35 percent in 2010, according to previously unreported figures from the nonprofit. \\nThe national rate is likely even higher now because of new federal prescribing guidelines that took effect in March. In three states most impacted by that change - Ohio, Texas and North Dakota - demand for medication abortions tripled in the last several months to as much as 30 percent of all procedures in some clinics, according to data gathered by Reuters from clinics, state health departments and Planned Parenthood affiliates.\")"
      ]
     },
     "execution_count": 16,
     "metadata": {},
     "output_type": "execute_result"
    }
   ],
   "source": [
    "model.load_weights(checkpoint_filepath)\n",
    "logits = model.predict(X_test)\n",
    "most_off = np.argmax(np.abs(y_test - logits))\n",
    "print(y_test[most_off], logits[most_off])\n",
    "test.iloc[most_off].title, test.iloc[most_off].text"
   ]
  },
  {
   "cell_type": "code",
   "execution_count": 17,
   "metadata": {},
   "outputs": [
    {
     "name": "stdout",
     "output_type": "stream",
     "text": [
      "0.9457528106739049\n",
      "48/48 [==============================] - 4s 93ms/step - loss: 0.1129 - accuracy: 0.9729\n"
     ]
    },
    {
     "data": {
      "text/plain": [
       "[0.11294664442539215, 0.972937285900116]"
      ]
     },
     "execution_count": 17,
     "metadata": {},
     "output_type": "execute_result"
    }
   ],
   "source": [
    "y_pred = np.round(logits)\n",
    "print(matthews_corrcoef(y_test, y_pred))\n",
    "model.evaluate(X_test, y_test)"
   ]
  },
  {
   "cell_type": "code",
   "execution_count": 18,
   "metadata": {},
   "outputs": [],
   "source": [
    "def get_reshaped_weights(model,layer_id):\n",
    "    W=np.array(model.layers[layer_id].get_weights())\n",
    "    W=W.reshape(W.shape[1],W.shape[2])\n",
    "    return W\n",
    "text_embed = get_reshaped_weights(model,2)\n",
    "title_embed = get_reshaped_weights(model,4)"
   ]
  },
  {
   "cell_type": "code",
   "execution_count": 19,
   "metadata": {},
   "outputs": [
    {
     "name": "stderr",
     "output_type": "stream",
     "text": [
      "<ipython-input-19-92e1c33b0327>:8: RuntimeWarning: invalid value encountered in true_divide\n",
      "  cs = W.dot(b) / (np.linalg.norm(W, axis=1) * np.linalg.norm(b))\n",
      "<ipython-input-19-92e1c33b0327>:4: RuntimeWarning: invalid value encountered in greater_equal\n",
      "  n_ = np.sum(arr >= thresh)\n"
     ]
    },
    {
     "data": {
      "image/png": "[encoded data removed]",
      "text/plain": [
       "<Figure size 1080x1080 with 1 Axes>"
      ]
     },
     "metadata": {
      "needs_background": "light"
     },
     "output_type": "display_data"
    }
   ],
   "source": [
    "def get_top_n_plus_ties(arr, n):\n",
    "    sorted_args = np.argsort(-arr)\n",
    "    thresh = arr[sorted_args[n]]\n",
    "    n_ = np.sum(arr >= thresh)\n",
    "    return sorted_args[:n_]\n",
    "def get_most_similar(word, W, n):\n",
    "    b = W[vocab[word]]\n",
    "    cs = W.dot(b) / (np.linalg.norm(W, axis=1) * np.linalg.norm(b))\n",
    "    return get_top_n_plus_ties(cs, n)\n",
    "def create_words_plot(embed1, embed2, WORD, k=9):\n",
    "    ids1 = get_most_similar(WORD, embed1, k-1)\n",
    "    ids2 = get_most_similar(WORD, embed2, k-1)\n",
    "    words1 = [id2word[i] for i in ids1]\n",
    "    words2 = [id2word[i] for i in ids2]\n",
    "    v = TSNE(n_components=2,random_state=RANDOM_SEED).fit_transform(\n",
    "        np.concatenate([embed1[ids1],embed2[ids2]]))\n",
    "    fig = plt.figure(figsize=(15,15))\n",
    "    plt.scatter(v[:k,0],v[:k,1],facecolors='none',edgecolors='teal')\n",
    "    plt.scatter(v[k:,0],v[k:,1],facecolors='none',edgecolors='red')\n",
    "    for i, word in enumerate(words1):\n",
    "        plt.annotate(word,(v[i,0],v[i,1]),size=9.5)\n",
    "        if word == WORD:\n",
    "            plt.scatter(v[i,0],v[i,1],c='teal',s=300)\n",
    "    for i, word in enumerate(words2):\n",
    "        plt.annotate(word,(v[i+k,0],v[i+k,1]),size=9.5)\n",
    "        if word == WORD:\n",
    "            plt.scatter(v[i+k,0],v[i+k,1],c='red',s=300)\n",
    "create_words_plot(text_embed,title_embed,'headline')"
   ]
  }
 ],
 "metadata": {
  "kernelspec": {
   "display_name": "Python 3",
   "language": "python",
   "name": "python3"
  },
  "language_info": {
   "codemirror_mode": {
    "name": "ipython",
    "version": 3
   },
   "file_extension": ".py",
   "mimetype": "text/x-python",
   "name": "python",
   "nbconvert_exporter": "python",
   "pygments_lexer": "ipython3",
   "version": "3.8.3"
  }
 },
 "nbformat": 4,
 "nbformat_minor": 4
}
