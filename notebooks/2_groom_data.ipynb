{
 "cells": [
  {
   "cell_type": "code",
   "execution_count": 4,
   "metadata": {},
   "outputs": [],
   "source": [
    "import os\n",
    "import pandas as pd\n",
    "seed = 3423"
   ]
  },
  {
   "cell_type": "code",
   "execution_count": 5,
   "metadata": {},
   "outputs": [],
   "source": [
    "def remove_duplicates(path, columns):\n",
    "    df = pd.read_csv(path)\n",
    "    df = df.drop(columns=columns)\n",
    "    df = df.dropna()\n",
    "    df = df.drop_duplicates()\n",
    "    df, _ = strip_all_duplicates(df)\n",
    "    print(len(df), len(pd.read_csv(path)) - len(df))\n",
    "    return df\n",
    "\n",
    "def strip_all_duplicates(df):\n",
    "    r = pd.DataFrame()\n",
    "    for column in ['title', 'text']:\n",
    "        c = df[column]\n",
    "        flag = c.isin(c[c.duplicated()])\n",
    "        r = pd.concat([r, df.loc[flag]])\n",
    "    r = r.drop_duplicates()\n",
    "    return df[~df.index.isin(r.index)], r\n",
    "\n",
    "def concat_and_shuffle(dfs):\n",
    "    global seed\n",
    "    df = pd.concat(dfs)\n",
    "    df = df.sample(frac=1, random_state=seed)\n",
    "    seed += 1\n",
    "    return df\n",
    "\n",
    "def relabel(label):\n",
    "    if label in ['REAL', 'FAKE']:\n",
    "        return label\n",
    "    if label == 0:\n",
    "        return 'REAL'\n",
    "    elif label == 1:\n",
    "        return 'FAKE'\n",
    "    # this shouldn't be an issue for these two datasets\n",
    "    warnings.warn(f\"Unexpected label {label}. Setting equal to 'UNK'.\")\n",
    "    return -1"
   ]
  },
  {
   "cell_type": "code",
   "execution_count": 6,
   "metadata": {},
   "outputs": [
    {
     "name": "stdout",
     "output_type": "stream",
     "text": [
      "5923 412\n",
      "19136 1664\n"
     ]
    }
   ],
   "source": [
    "# get data and remove duplicates\n",
    "INPUTS = '../inputs/'\n",
    "\n",
    "PATH1 = INPUTS + 'news.csv'\n",
    "if not os.path.exists(PATH1):\n",
    "    !unzip news.csv.zip -d {INPUTS}\n",
    "df1 = remove_duplicates(PATH1, ['Unnamed: 0'])\n",
    "\n",
    "PATH2 = INPUTS + 'train.csv'\n",
    "if not os.path.exists(PATH2):\n",
    "    !unzip fake-news.zip -d {INPUTS}\n",
    "df2 = remove_duplicates(PATH2, ['id', 'author'])\n",
    "\n",
    "# combine data and make labels uniform\n",
    "df = concat_and_shuffle([df1, df2])\n",
    "df['label'] = df.label.apply(relabel)\n",
    "\n",
    "df.to_csv(INPUTS + 'news_data_groomed.csv')"
   ]
  }
 ],
 "metadata": {
  "kernelspec": {
   "display_name": "Python [conda env:deepNLP2020]",
   "language": "python",
   "name": "conda-env-deepNLP2020-py"
  },
  "language_info": {
   "codemirror_mode": {
    "name": "ipython",
    "version": 3
   },
   "file_extension": ".py",
   "mimetype": "text/x-python",
   "name": "python",
   "nbconvert_exporter": "python",
   "pygments_lexer": "ipython3",
   "version": "3.7.9"
  }
 },
 "nbformat": 4,
 "nbformat_minor": 4
}
