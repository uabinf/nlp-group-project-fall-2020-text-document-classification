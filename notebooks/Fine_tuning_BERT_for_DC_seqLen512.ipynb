{
 "cells": [
  {
   "cell_type": "markdown",
   "metadata": {
    "id": "PGnlRWvkY-2c"
   },
   "source": [
    "# Fine tuning SOTA model (BERT) from Hugging Face for Document Classification"
   ]
  },
  {
   "cell_type": "markdown",
   "metadata": {
    "id": "DoYXezcig-12"
   },
   "source": [
    "In this project, we will try to apply the transfer learning technique for NLP task. We will fine tune [BERT](https://arxiv.org/abs/1810.04805) and [RoBERTa](https://arxiv.org/abs/1907.11692) to do text/document classification. Most of the content are taken from [post1](https://curiousily.com/posts/sentiment-analysis-with-bert-and-hugging-face-using-pytorch-and-python/) and [post2](https://medium.com/@armandj.olivares/using-bert-for-classifying-documents-with-long-texts-5c3e7b04573d). In addition, we attempt to make it as general as possible that it can be used for any similar models (thanks to the Transformers library from [hugging face](https://huggingface.co/)) with any dataset by doing just some miner changes. \n",
    "\n",
    "In addition, we tried to overcome the limitation of the 512-sequence length of BERT and RoBERTa by using [Longformer](https://arxiv.org/abs/2004.05150) and [RoBERT](https://arxiv.org/abs/1910.10781). It stands for Recurrence over BERT where each ocument is segmented into smaller text and feed each of them to BERT. Then we extract the representation of each text chunk from (pooled_output) and feed the combined representation of each document to LSTM to classify long documents. We will see if this improve the results or overfit the data. We mainly used **python, Transformers, Pytorch, Sklearn**"
   ]
  },
  {
   "cell_type": "markdown",
   "metadata": {
    "id": "ANw7mbDV4OEL"
   },
   "source": [
    "## Result Summary\n",
    "\n",
    "- Accuracy =  98.67%\n",
    "- MCC = 97.32%\n"
   ]
  },
  {
   "cell_type": "markdown",
   "metadata": {
    "id": "wmj22-TcZMef"
   },
   "source": [
    "## Setup\n"
   ]
  },
  {
   "cell_type": "code",
   "execution_count": 1,
   "metadata": {
    "id": "GWI4K6f1IU1-"
   },
   "outputs": [],
   "source": [
    "!pip install -qq -r ../requirements.txt"
   ]
  },
  {
   "cell_type": "code",
   "execution_count": 2,
   "metadata": {
    "id": "s55RRhok3ZOM"
   },
   "outputs": [
    {
     "name": "stdout",
     "output_type": "stream",
     "text": [
      "Python implementation: CPython\n",
      "Python version       : 3.8.3\n",
      "IPython version      : 7.16.1\n",
      "\n",
      "numpy       : 1.18.5\n",
      "pandas      : 1.0.5\n",
      "torch       : 1.7.0\n",
      "transformers: 3.5.1\n",
      "seaborn     : 0.10.1\n",
      "nltk        : 3.5\n",
      "sklearn     : 0.0\n",
      "tensorflow  : 2.3.1\n",
      "\n"
     ]
    }
   ],
   "source": [
    "# watermark: \"An IPython magic extension for printing date and time stamps, version numbers, and hardware information.\"\n",
    "\n",
    "%reload_ext watermark\n",
    "%watermark -v -p numpy,pandas,torch,transformers,seaborn,nltk,sklearn,tensorflow"
   ]
  },
  {
   "cell_type": "code",
   "execution_count": 3,
   "metadata": {
    "id": "w68CZpOwFoly"
   },
   "outputs": [],
   "source": [
    "import transformers\n",
    "import torch\n",
    "\n",
    "import numpy as np\n",
    "import pandas as pd\n",
    "import seaborn as sns\n",
    "from pylab import rcParams\n",
    "import matplotlib.pyplot as plt\n",
    "from sklearn.model_selection import train_test_split\n",
    "from sklearn.metrics import confusion_matrix, classification_report\n",
    "from collections import defaultdict\n",
    "from textwrap import wrap\n",
    "\n",
    "from torch import nn\n",
    "from torch.utils.data import Dataset, DataLoader\n",
    "import torch.nn.functional as F\n",
    "from datetime import datetime\n",
    "\n",
    "\n",
    "%matplotlib inline\n",
    "%config InlineBackend.figure_format='retina'\n",
    "\n",
    "sns.set(style='whitegrid', palette='muted', font_scale=1.2)\n",
    "rcParams['figure.figsize'] = 10, 6"
   ]
  },
  {
   "cell_type": "markdown",
   "metadata": {
    "id": "ufzPdoTtNikq"
   },
   "source": [
    "## Config"
   ]
  },
  {
   "cell_type": "markdown",
   "metadata": {
    "id": "SOCghdQKD7Kb"
   },
   "source": [
    "We configured this project so we can evaluate different pretrained models with minor changes. All our hyper-parameters are in this section. If you want to use another dataset, check the preprocessing section."
   ]
  },
  {
   "cell_type": "code",
   "execution_count": 4,
   "metadata": {
    "id": "9cUYftrdJfwE"
   },
   "outputs": [
    {
     "data": {
      "text/plain": [
       "'Longformer Model and Tokenizer'"
      ]
     },
     "execution_count": 4,
     "metadata": {},
     "output_type": "execute_result"
    }
   ],
   "source": [
    "MAX_LEN = 512\n",
    "BATCH_SIZE = 8\n",
    "EPOCHS = 4\n",
    "LEARNING_RATE = 2e-5\n",
    "\n",
    "\"\"\"BERT Model and Tokenizer\"\"\"\n",
    "PRE_TRAINED_MODEL = 'bert-base-cased'\n",
    "TOKENIZER = transformers.BertTokenizer.from_pretrained(PRE_TRAINED_MODEL)\n",
    "PT_MODEL = transformers.BertModel.from_pretrained(PRE_TRAINED_MODEL)\n",
    "\n",
    "\"\"\"RoBERTa Model and Tokenizer\"\"\"\n",
    "# PRE_TRAINED_MODEL = 'roberta-base'\n",
    "# TOKENIZER = transformers.RobertaTokenizer.from_pretrained(PRE_TRAINED_MODEL)\n",
    "# PT_MODEL = transformers.RobertaModel.from_pretrained(PRE_TRAINED_MODEL)\n",
    "\n",
    "\"\"\"Longformer Model and Tokenizer\"\"\"\n",
    "# PRE_TRAINED_MODEL = 'allenai/longformer-base-4096'\n",
    "# PT_MODEL = transformers.LongformerModel.from_pretrained(PRE_TRAINED_MODEL)\n",
    "# TOKENIZER = transformers.LongformerTokenizer.from_pretrained(PRE_TRAINED_MODEL)\n",
    "\n",
    "model_path = '../models/' + PRE_TRAINED_MODEL + '_' + str(MAX_LEN) + '_best_model.bin'"
   ]
  },
  {
   "cell_type": "code",
   "execution_count": 5,
   "metadata": {
    "colab": {
     "base_uri": "https://localhost:8080/"
    },
    "id": "Tc_k9oHMMmpf",
    "outputId": "e1cbc77c-1c11-4942-b905-9312aa12efe9"
   },
   "outputs": [
    {
     "data": {
      "text/plain": [
       "device(type='cuda', index=0)"
      ]
     },
     "execution_count": 5,
     "metadata": {},
     "output_type": "execute_result"
    }
   ],
   "source": [
    "RANDOM_SEED = 42\n",
    "np.random.seed(RANDOM_SEED)\n",
    "torch.manual_seed(RANDOM_SEED)\n",
    "device = torch.device(\"cuda:0\" if torch.cuda.is_available() else \"cpu\")\n",
    "device"
   ]
  },
  {
   "cell_type": "markdown",
   "metadata": {
    "id": "9aHyGuTFgyPO"
   },
   "source": [
    "## Data Preprocessing\n",
    "\n"
   ]
  },
  {
   "cell_type": "markdown",
   "metadata": {
    "id": "mvkSDqO_G7XK"
   },
   "source": [
    "If you use a deferent dataset and reading it as a panda's dataframe, just change the column header that accommodate the content to 'text' and the target column to 'label. Code is provided below."
   ]
  },
  {
   "cell_type": "code",
   "execution_count": 6,
   "metadata": {
    "colab": {
     "base_uri": "https://localhost:8080/",
     "height": 203
    },
    "id": "mUKLyKc7I6Qp",
    "outputId": "d06303e6-66a8-4384-e1ee-f1fcb85ab58b"
   },
   "outputs": [
    {
     "data": {
      "text/html": [
       "<div>\n",
       "<style scoped>\n",
       "    .dataframe tbody tr th:only-of-type {\n",
       "        vertical-align: middle;\n",
       "    }\n",
       "\n",
       "    .dataframe tbody tr th {\n",
       "        vertical-align: top;\n",
       "    }\n",
       "\n",
       "    .dataframe thead th {\n",
       "        text-align: right;\n",
       "    }\n",
       "</style>\n",
       "<table border=\"1\" class=\"dataframe\">\n",
       "  <thead>\n",
       "    <tr style=\"text-align: right;\">\n",
       "      <th></th>\n",
       "      <th>title</th>\n",
       "      <th>text</th>\n",
       "      <th>label</th>\n",
       "    </tr>\n",
       "  </thead>\n",
       "  <tbody>\n",
       "    <tr>\n",
       "      <th>8308</th>\n",
       "      <td>Italy Plucks 2,000 Migrants from the Mediterra...</td>\n",
       "      <td>ROME (AP)  —   Italian rescue ships have pluck...</td>\n",
       "      <td>REAL</td>\n",
       "    </tr>\n",
       "    <tr>\n",
       "      <th>2765</th>\n",
       "      <td>The most unqualified media personalities on TV...</td>\n",
       "      <td>Monday, November 14, 2016 7:38 AM EST Media pe...</td>\n",
       "      <td>FAKE</td>\n",
       "    </tr>\n",
       "    <tr>\n",
       "      <th>20123</th>\n",
       "      <td>Rigging the Election – Video IV: Democrat Oper...</td>\n",
       "      <td>Rigging the Election – Video IV: Democrat Oper...</td>\n",
       "      <td>FAKE</td>\n",
       "    </tr>\n",
       "    <tr>\n",
       "      <th>2669</th>\n",
       "      <td>Will Hillary Select Her Own Prosecutors?</td>\n",
       "      <td>By Bill Sardi November 1, 2016 Journalist Carl...</td>\n",
       "      <td>FAKE</td>\n",
       "    </tr>\n",
       "    <tr>\n",
       "      <th>4408</th>\n",
       "      <td>Debate: Washington's Syria policy</td>\n",
       "      <td>The Debate Washington's Syria policy \\nIn this...</td>\n",
       "      <td>FAKE</td>\n",
       "    </tr>\n",
       "  </tbody>\n",
       "</table>\n",
       "</div>"
      ],
      "text/plain": [
       "                                                   title  \\\n",
       "8308   Italy Plucks 2,000 Migrants from the Mediterra...   \n",
       "2765   The most unqualified media personalities on TV...   \n",
       "20123  Rigging the Election – Video IV: Democrat Oper...   \n",
       "2669            Will Hillary Select Her Own Prosecutors?   \n",
       "4408                   Debate: Washington's Syria policy   \n",
       "\n",
       "                                                    text label  \n",
       "8308   ROME (AP)  —   Italian rescue ships have pluck...  REAL  \n",
       "2765   Monday, November 14, 2016 7:38 AM EST Media pe...  FAKE  \n",
       "20123  Rigging the Election – Video IV: Democrat Oper...  FAKE  \n",
       "2669   By Bill Sardi November 1, 2016 Journalist Carl...  FAKE  \n",
       "4408   The Debate Washington's Syria policy \\nIn this...  FAKE  "
      ]
     },
     "execution_count": 6,
     "metadata": {},
     "output_type": "execute_result"
    }
   ],
   "source": [
    "df = pd.read_csv('../inputs/news_data_groomed.csv', index_col=0)\n",
    "df.head()"
   ]
  },
  {
   "cell_type": "code",
   "execution_count": 7,
   "metadata": {
    "colab": {
     "base_uri": "https://localhost:8080/"
    },
    "id": "FdJjDo4EUM3O",
    "outputId": "3145bbb9-3546-49a3-9310-dd04793975d6"
   },
   "outputs": [
    {
     "data": {
      "text/plain": [
       "array(['FAKE', 'REAL'], dtype=object)"
      ]
     },
     "execution_count": 7,
     "metadata": {},
     "output_type": "execute_result"
    }
   ],
   "source": [
    "classes = np.unique(df.label)\n",
    "classes"
   ]
  },
  {
   "cell_type": "code",
   "execution_count": 8,
   "metadata": {
    "colab": {
     "base_uri": "https://localhost:8080/",
     "height": 141
    },
    "id": "wtLxXQaWUM8q",
    "outputId": "89f2d38f-17b8-4ca5-e234-5af512f021b8"
   },
   "outputs": [
    {
     "data": {
      "text/html": [
       "<div>\n",
       "<style scoped>\n",
       "    .dataframe tbody tr th:only-of-type {\n",
       "        vertical-align: middle;\n",
       "    }\n",
       "\n",
       "    .dataframe tbody tr th {\n",
       "        vertical-align: top;\n",
       "    }\n",
       "\n",
       "    .dataframe thead th {\n",
       "        text-align: right;\n",
       "    }\n",
       "</style>\n",
       "<table border=\"1\" class=\"dataframe\">\n",
       "  <thead>\n",
       "    <tr style=\"text-align: right;\">\n",
       "      <th></th>\n",
       "      <th>title</th>\n",
       "      <th>text</th>\n",
       "      <th>label</th>\n",
       "    </tr>\n",
       "  </thead>\n",
       "  <tbody>\n",
       "    <tr>\n",
       "      <th>8308</th>\n",
       "      <td>Italy Plucks 2,000 Migrants from the Mediterra...</td>\n",
       "      <td>ROME (AP)  —   Italian rescue ships have pluck...</td>\n",
       "      <td>1</td>\n",
       "    </tr>\n",
       "    <tr>\n",
       "      <th>2765</th>\n",
       "      <td>The most unqualified media personalities on TV...</td>\n",
       "      <td>Monday, November 14, 2016 7:38 AM EST Media pe...</td>\n",
       "      <td>0</td>\n",
       "    </tr>\n",
       "    <tr>\n",
       "      <th>20123</th>\n",
       "      <td>Rigging the Election – Video IV: Democrat Oper...</td>\n",
       "      <td>Rigging the Election – Video IV: Democrat Oper...</td>\n",
       "      <td>0</td>\n",
       "    </tr>\n",
       "  </tbody>\n",
       "</table>\n",
       "</div>"
      ],
      "text/plain": [
       "                                                   title  \\\n",
       "8308   Italy Plucks 2,000 Migrants from the Mediterra...   \n",
       "2765   The most unqualified media personalities on TV...   \n",
       "20123  Rigging the Election – Video IV: Democrat Oper...   \n",
       "\n",
       "                                                    text  label  \n",
       "8308   ROME (AP)  —   Italian rescue ships have pluck...      1  \n",
       "2765   Monday, November 14, 2016 7:38 AM EST Media pe...      0  \n",
       "20123  Rigging the Election – Video IV: Democrat Oper...      0  "
      ]
     },
     "execution_count": 8,
     "metadata": {},
     "output_type": "execute_result"
    }
   ],
   "source": [
    "# Label encoding to the target feature\n",
    "from sklearn.preprocessing import LabelEncoder\n",
    "le = LabelEncoder()\n",
    "df.label = le.fit_transform(df.label)\n",
    "df.head(3)"
   ]
  },
  {
   "cell_type": "code",
   "execution_count": 9,
   "metadata": {
    "colab": {
     "base_uri": "https://localhost:8080/"
    },
    "id": "CrNUcTdUUVPg",
    "outputId": "88193700-8abd-4656-a46f-33bbbfd58761"
   },
   "outputs": [
    {
     "data": {
      "text/plain": [
       "array(['FAKE', 'REAL'], dtype=object)"
      ]
     },
     "execution_count": 9,
     "metadata": {},
     "output_type": "execute_result"
    }
   ],
   "source": [
    "CLASS_NAMES = np.unique(le.inverse_transform(df.label))\n",
    "CLASS_NAMES"
   ]
  },
  {
   "cell_type": "code",
   "execution_count": 10,
   "metadata": {
    "colab": {
     "base_uri": "https://localhost:8080/"
    },
    "id": "dB2jE6am7Dpo",
    "outputId": "715c1430-5354-4099-cd6e-3e1049164410"
   },
   "outputs": [
    {
     "data": {
      "text/plain": [
       "(25059, 3)"
      ]
     },
     "execution_count": 10,
     "metadata": {},
     "output_type": "execute_result"
    }
   ],
   "source": [
    "df.shape"
   ]
  },
  {
   "cell_type": "markdown",
   "metadata": {
    "id": "4aw5JdQgetaJ"
   },
   "source": [
    "## PyTorch Dataset and DataLoader"
   ]
  },
  {
   "cell_type": "code",
   "execution_count": 11,
   "metadata": {
    "id": "E2BPgRJ7YBK0"
   },
   "outputs": [],
   "source": [
    "\"\"\"\n",
    "This class is an extension from torch Dataset class to be able to use the standard pytorch\n",
    "DataLoader framework to train, validatem and test the model. Here, we used the encode_plus method \n",
    "to the hugging face tokenizer. It will do all the tokenization and preprocessing (add <CLS> and <SEP>, \n",
    "pad or truncate the text to a max length) and return a dictionary with the token_ids and attention_mask. \n",
    "This class will also return the actual text and the true label to help evaluate the model, later.\n",
    "\"\"\"\n",
    "class NewsDataset(Dataset):\n",
    "\n",
    "    def __init__(self, news_texts, labels, tokenizer, max_len):\n",
    "        self.news_texts = news_texts\n",
    "        self.labels = labels\n",
    "        self.tokenizer = tokenizer\n",
    "        self.max_len = max_len\n",
    "    \n",
    "    def __len__(self):\n",
    "        return len(self.news_texts)\n",
    "    \n",
    "    def __getitem__(self, item):\n",
    "        news_text_str = str(self.news_texts[item])\n",
    "        label = self.labels[item]\n",
    "\n",
    "        encoding = self.tokenizer.encode_plus(\n",
    "            news_text_str,\n",
    "            add_special_tokens=True,\n",
    "            max_length=self.max_len,\n",
    "            return_token_type_ids=False,\n",
    "            padding='max_length',\n",
    "            truncation=True,\n",
    "            return_attention_mask=True,\n",
    "            return_tensors='pt')\n",
    "\n",
    "        return {\n",
    "          'news_text_str': news_text_str,\n",
    "          'input_ids': encoding['input_ids'].flatten(),\n",
    "          'attention_mask': encoding['attention_mask'].flatten(),\n",
    "          'labels': torch.tensor(label, dtype=torch.long)}"
   ]
  },
  {
   "cell_type": "markdown",
   "metadata": {
    "id": "x2uwsvCYqDJK"
   },
   "source": [
    "The tokenizer is doing most of the heavy lifting for us. We also return the review texts, so it'll be easier to evaluate the predictions from our model."
   ]
  },
  {
   "cell_type": "code",
   "execution_count": 12,
   "metadata": {
    "colab": {
     "base_uri": "https://localhost:8080/"
    },
    "id": "B-vWzoo81dvO",
    "outputId": "dcfbd179-a9f7-40e8-d4a4-91063c72a7ed"
   },
   "outputs": [
    {
     "data": {
      "text/plain": [
       "((21300, 3), (1879, 3), (1880, 3))"
      ]
     },
     "execution_count": 12,
     "metadata": {},
     "output_type": "execute_result"
    }
   ],
   "source": [
    "df_train, df_test = train_test_split(df, test_size=0.15, random_state=RANDOM_SEED)\n",
    "df_val, df_test = train_test_split(df_test, test_size=0.5, random_state=RANDOM_SEED)\n",
    "\n",
    "df_train.shape, df_val.shape, df_test.shape"
   ]
  },
  {
   "cell_type": "code",
   "execution_count": 13,
   "metadata": {
    "id": "KEGqcvkuOuTX"
   },
   "outputs": [],
   "source": [
    "\"\"\"\n",
    "This is a helper function to prepare the dataset and rap it to the pytorch DataLoader\n",
    "\"\"\"\n",
    "def create_data_loader(df, tokenizer, max_len, batch_size):\n",
    "    dataset = NewsDataset(\n",
    "        news_texts=df.text.to_numpy(),\n",
    "        labels=df.label.to_numpy(),\n",
    "        tokenizer=tokenizer,\n",
    "        max_len=max_len)\n",
    "\n",
    "    return DataLoader(\n",
    "        dataset,\n",
    "        batch_size=batch_size,\n",
    "        num_workers=4)"
   ]
  },
  {
   "cell_type": "code",
   "execution_count": 14,
   "metadata": {
    "id": "vODDxMKsPHqI"
   },
   "outputs": [],
   "source": [
    "train_data_loader = create_data_loader(df_train, TOKENIZER, MAX_LEN, BATCH_SIZE)\n",
    "val_data_loader = create_data_loader(df_val, TOKENIZER, MAX_LEN, BATCH_SIZE)\n",
    "test_data_loader = create_data_loader(df_test, TOKENIZER, MAX_LEN, BATCH_SIZE)"
   ]
  },
  {
   "cell_type": "markdown",
   "metadata": {
    "id": "A6dlOptwqlhF"
   },
   "source": [
    "Let's have a look at an example batch from the training data loader:"
   ]
  },
  {
   "cell_type": "code",
   "execution_count": 15,
   "metadata": {
    "colab": {
     "base_uri": "https://localhost:8080/"
    },
    "id": "Y93ldSN47FeT",
    "outputId": "74531d6c-a28c-427b-f9a8-ed9b8d485cb3"
   },
   "outputs": [
    {
     "data": {
      "text/plain": [
       "dict_keys(['news_text_str', 'input_ids', 'attention_mask', 'labels'])"
      ]
     },
     "execution_count": 15,
     "metadata": {},
     "output_type": "execute_result"
    }
   ],
   "source": [
    "data = next(iter(train_data_loader))\n",
    "data.keys()"
   ]
  },
  {
   "cell_type": "code",
   "execution_count": 16,
   "metadata": {
    "colab": {
     "base_uri": "https://localhost:8080/"
    },
    "id": "IdU4YVqb7N8M",
    "outputId": "c6f9f6bb-c3a6-4893-e47b-d694dd15014c"
   },
   "outputs": [
    {
     "name": "stdout",
     "output_type": "stream",
     "text": [
      "torch.Size([8, 512])\n",
      "torch.Size([8, 512])\n",
      "torch.Size([8])\n"
     ]
    }
   ],
   "source": [
    "print(data['input_ids'].shape)\n",
    "print(data['attention_mask'].shape)\n",
    "print(data['labels'].shape)"
   ]
  },
  {
   "cell_type": "markdown",
   "metadata": {
    "id": "H63Y-TjyRC7S"
   },
   "source": [
    "## The Classification Model"
   ]
  },
  {
   "cell_type": "markdown",
   "metadata": {
    "id": "440Nd31VTHER"
   },
   "source": [
    "There are a lot of helpers that make using BERT easy with the Transformers library. For this task, we will use the basic [BertModel](https://huggingface.co/transformers/model_doc/bert.html#bertmodel) and build our classifier on top of it.\n",
    "\n",
    "The `last_hidden_state`, which we will not use here since we do classification, is a sequence of hidden states of the last layer of the model. Obtaining the `pooled_output`, what we need, is done by applying the [BertPooler](https://github.com/huggingface/transformers/blob/edf0582c0be87b60f94f41c659ea779876efc7be/src/transformers/modeling_bert.py#L426) on `last_hidden_state`:"
   ]
  },
  {
   "cell_type": "code",
   "execution_count": 17,
   "metadata": {
    "id": "m_mRflxPl32F"
   },
   "outputs": [],
   "source": [
    "\"\"\"\n",
    "This classifier take the input from BertModel last layer (after pooling) and use \n",
    "a dropout layer for some regularization and a fully-connected layer for our \n",
    "classification output. Note that we're returning the raw output of the last layer \n",
    "since it is required for the cross-entropy loss function in PyTorch.\n",
    "\n",
    "last_hidden_state shape: [1, batch_size, model_last_hidden_state]\n",
    "pooled_output shape: [1, model_last_hidden_state] \n",
    "\"\"\"\n",
    "class NewsClassifier(nn.Module):\n",
    "\n",
    "    def __init__(self, n_classes):\n",
    "        super(NewsClassifier, self).__init__()\n",
    "        self.pretrained_model = PT_MODEL\n",
    "        self.drop = nn.Dropout(p=0.3)\n",
    "        self.out = nn.Linear(self.pretrained_model.config.hidden_size, n_classes)\n",
    "    \n",
    "    def forward(self, input_ids, attention_mask):\n",
    "        _, pooled_output = self.pretrained_model(input_ids=input_ids, attention_mask=attention_mask)\n",
    "        output = self.drop(pooled_output)\n",
    "        \n",
    "        return self.out(output)"
   ]
  },
  {
   "cell_type": "markdown",
   "metadata": {
    "id": "UJg8m3NQJahc"
   },
   "source": [
    "\n",
    "This should work like any other PyTorch model. Let's create an instance and move it to the GPU:"
   ]
  },
  {
   "cell_type": "code",
   "execution_count": 18,
   "metadata": {
    "id": "i0yQnuSFsjDp"
   },
   "outputs": [],
   "source": [
    "model = NewsClassifier(len(CLASS_NAMES))\n",
    "model = model.to(device)"
   ]
  },
  {
   "cell_type": "markdown",
   "metadata": {
    "id": "VCPCFDLlKIQd"
   },
   "source": [
    "We'll move the example batch of our training data to the GPU:"
   ]
  },
  {
   "cell_type": "code",
   "execution_count": 19,
   "metadata": {
    "colab": {
     "base_uri": "https://localhost:8080/"
    },
    "id": "mz7p__CqdaMO",
    "outputId": "a8151397-b31c-442d-aa73-13513fca13ee"
   },
   "outputs": [
    {
     "name": "stdout",
     "output_type": "stream",
     "text": [
      "torch.Size([8, 512])\n",
      "torch.Size([8, 512])\n"
     ]
    }
   ],
   "source": [
    "input_ids = data['input_ids'].to(device)\n",
    "attention_mask = data['attention_mask'].to(device)\n",
    "\n",
    "print(input_ids.shape) # [batch size , seq length]\n",
    "print(attention_mask.shape) # [batch size , seq length]"
   ]
  },
  {
   "cell_type": "markdown",
   "metadata": {
    "id": "Hr1EgkEtKOIB"
   },
   "source": [
    "To get the predicted probabilities from our trained model, we'll apply the softmax function to the outputs:"
   ]
  },
  {
   "cell_type": "code",
   "execution_count": 20,
   "metadata": {
    "colab": {
     "base_uri": "https://localhost:8080/",
     "height": 53
    },
    "id": "2rTCj46Zamry",
    "outputId": "7d41df86-7842-4ae3-bac9-b6d3a98df5d5"
   },
   "outputs": [
    {
     "data": {
      "text/plain": [
       "'\\nTo get an idea of out model output, we can use it on the first batch that we extracted \\nfrom the train_data_loader and apply the SoftMax since we do classification. This \\nwill give us the probability of each class for each instance in this batch\\n'"
      ]
     },
     "execution_count": 20,
     "metadata": {},
     "output_type": "execute_result"
    }
   ],
   "source": [
    "\"\"\"\n",
    "To get an idea of out model output, we can use it on the first batch that we extracted \n",
    "from the train_data_loader and apply the SoftMax since we do classification. This \n",
    "will give us the probability of each class for each instance in this batch\n",
    "\"\"\"\n",
    "# F.softmax(model(input_ids, attention_mask), dim=1)"
   ]
  },
  {
   "cell_type": "markdown",
   "metadata": {
    "id": "g9xikRdtRN1N"
   },
   "source": [
    "### Training the model"
   ]
  },
  {
   "cell_type": "markdown",
   "metadata": {
    "id": "76g7FV85H-T8"
   },
   "source": [
    "For optimization, we'll use the [AdamW](https://huggingface.co/transformers/main_classes/optimizer_schedules.html#adamw) optimizer provided by Hugging Face. We'll also use a linear scheduler with no warmup steps:"
   ]
  },
  {
   "cell_type": "code",
   "execution_count": 21,
   "metadata": {
    "id": "5v-ArJ2fCCcU"
   },
   "outputs": [],
   "source": [
    "optimizer = transformers.AdamW(model.parameters(), lr=LEARNING_RATE, correct_bias=False)\n",
    "total_steps = len(train_data_loader) * EPOCHS\n",
    "\n",
    "scheduler = transformers.get_linear_schedule_with_warmup(\n",
    "    optimizer,\n",
    "    num_warmup_steps=0,\n",
    "    num_training_steps=total_steps)\n",
    "\n",
    "# We are doing classification. We can directly use CrossEntropyLoss from torch\n",
    "loss_fn = nn.CrossEntropyLoss().to(device)"
   ]
  },
  {
   "cell_type": "markdown",
   "metadata": {
    "id": "A8522g7JIu5J"
   },
   "source": [
    "\n",
    "Let's continue with writing a helper function for training our model for one epoch:"
   ]
  },
  {
   "cell_type": "code",
   "execution_count": 22,
   "metadata": {
    "id": "bzl9UhuNx1_Q"
   },
   "outputs": [],
   "source": [
    "\"\"\"\n",
    "This is a helper function that for each epoch it go through all the training data,\n",
    "do the backpropagation and optimization, and finally return the average accuracy \n",
    "and loss for that epoch.\n",
    "\"\"\"\n",
    "def train_epoch(\n",
    "    model, \n",
    "    data_loader, \n",
    "    loss_fn, \n",
    "    optimizer, \n",
    "    device, \n",
    "    scheduler, \n",
    "    n_examples\n",
    "  ):\n",
    "    model = model.train()\n",
    "\n",
    "    losses = []\n",
    "    correct_predictions = 0\n",
    "    \n",
    "    for i, d in enumerate(data_loader):\n",
    "        if (i > 0) and (i % 25 == 0):\n",
    "            print(f'{i} / {len(data_loader)}')\n",
    "            \n",
    "        input_ids = d[\"input_ids\"].to(device)\n",
    "        attention_mask = d[\"attention_mask\"].to(device)\n",
    "        labels = d[\"labels\"].to(device)\n",
    "\n",
    "        outputs = model(\n",
    "          input_ids=input_ids,\n",
    "          attention_mask=attention_mask)\n",
    "\n",
    "        _, preds = torch.max(outputs, dim=1)\n",
    "        loss = loss_fn(outputs, labels)\n",
    "\n",
    "        correct_predictions += torch.sum(preds == labels)\n",
    "        losses.append(loss.item())\n",
    "\n",
    "        loss.backward()\n",
    "        nn.utils.clip_grad_norm_(model.parameters(), max_norm=1.0)\n",
    "        optimizer.step()\n",
    "        scheduler.step()\n",
    "        optimizer.zero_grad()\n",
    "\n",
    "    return correct_predictions.double() / n_examples, np.mean(losses)"
   ]
  },
  {
   "cell_type": "markdown",
   "metadata": {
    "id": "E4PniYIte0fr"
   },
   "source": [
    "Training the model should look familiar, except for two things. The scheduler gets called every time a batch is fed to the model. We're avoiding exploding gradients by clipping the gradients of the model using [clip_grad_norm_](https://pytorch.org/docs/stable/nn.html#clip-grad-norm).\n",
    "\n"
   ]
  },
  {
   "cell_type": "code",
   "execution_count": 23,
   "metadata": {
    "id": "CXeRorVGIKre"
   },
   "outputs": [],
   "source": [
    "\"\"\"\n",
    "This is another helper function to evaluate the model on a given data loader.\n",
    "It's going to used after each epoch\n",
    "\"\"\"\n",
    "\n",
    "def eval_model(model, data_loader, loss_fn, device, n_examples):\n",
    "    model = model.eval()\n",
    "\n",
    "    losses = []\n",
    "    correct_predictions = 0\n",
    "\n",
    "    with torch.no_grad():\n",
    "        for d in data_loader:\n",
    "            input_ids = d[\"input_ids\"].to(device)\n",
    "            attention_mask = d[\"attention_mask\"].to(device)\n",
    "            labels = d[\"labels\"].to(device)\n",
    "\n",
    "            outputs = model(\n",
    "                input_ids=input_ids,\n",
    "                attention_mask=attention_mask)\n",
    "            \n",
    "            _, preds = torch.max(outputs, dim=1)\n",
    "\n",
    "            loss = loss_fn(outputs, labels)\n",
    "\n",
    "            correct_predictions += torch.sum(preds == labels)\n",
    "            losses.append(loss.item())\n",
    "\n",
    "    return correct_predictions.double() / n_examples, np.mean(losses)"
   ]
  },
  {
   "cell_type": "markdown",
   "metadata": {
    "id": "a_rdSDBHhhCh"
   },
   "source": [
    "Using the previous two function, we will write our training loop. We'll also store the training history (similar to Scikit-Learn Library)"
   ]
  },
  {
   "cell_type": "code",
   "execution_count": 24,
   "metadata": {
    "colab": {
     "base_uri": "https://localhost:8080/"
    },
    "id": "1zhHoFNsxufs",
    "outputId": "799b64c3-2be2-4e30-edef-96bd29f995f8",
    "scrolled": true
   },
   "outputs": [
    {
     "name": "stdout",
     "output_type": "stream",
     "text": [
      "Training Epoch 1/4\n",
      "********************\n",
      "25 / 2663\n",
      "50 / 2663\n",
      "75 / 2663\n",
      "100 / 2663\n",
      "125 / 2663\n",
      "150 / 2663\n",
      "175 / 2663\n",
      "200 / 2663\n",
      "225 / 2663\n",
      "250 / 2663\n",
      "275 / 2663\n",
      "300 / 2663\n",
      "325 / 2663\n",
      "350 / 2663\n",
      "375 / 2663\n",
      "400 / 2663\n",
      "425 / 2663\n",
      "450 / 2663\n",
      "475 / 2663\n",
      "500 / 2663\n",
      "525 / 2663\n",
      "550 / 2663\n",
      "575 / 2663\n",
      "600 / 2663\n",
      "625 / 2663\n",
      "650 / 2663\n",
      "675 / 2663\n",
      "700 / 2663\n",
      "725 / 2663\n",
      "750 / 2663\n",
      "775 / 2663\n",
      "800 / 2663\n",
      "825 / 2663\n",
      "850 / 2663\n",
      "875 / 2663\n",
      "900 / 2663\n",
      "925 / 2663\n",
      "950 / 2663\n",
      "975 / 2663\n",
      "1000 / 2663\n",
      "1025 / 2663\n",
      "1050 / 2663\n",
      "1075 / 2663\n",
      "1100 / 2663\n",
      "1125 / 2663\n",
      "1150 / 2663\n",
      "1175 / 2663\n",
      "1200 / 2663\n",
      "1225 / 2663\n",
      "1250 / 2663\n",
      "1275 / 2663\n",
      "1300 / 2663\n",
      "1325 / 2663\n",
      "1350 / 2663\n",
      "1375 / 2663\n",
      "1400 / 2663\n",
      "1425 / 2663\n",
      "1450 / 2663\n",
      "1475 / 2663\n",
      "1500 / 2663\n",
      "1525 / 2663\n",
      "1550 / 2663\n",
      "1575 / 2663\n",
      "1600 / 2663\n",
      "1625 / 2663\n",
      "1650 / 2663\n",
      "1675 / 2663\n",
      "1700 / 2663\n",
      "1725 / 2663\n",
      "1750 / 2663\n",
      "1775 / 2663\n",
      "1800 / 2663\n",
      "1825 / 2663\n",
      "1850 / 2663\n",
      "1875 / 2663\n",
      "1900 / 2663\n",
      "1925 / 2663\n",
      "1950 / 2663\n",
      "1975 / 2663\n",
      "2000 / 2663\n",
      "2025 / 2663\n",
      "2050 / 2663\n",
      "2075 / 2663\n",
      "2100 / 2663\n",
      "2125 / 2663\n",
      "2150 / 2663\n",
      "2175 / 2663\n",
      "2200 / 2663\n",
      "2225 / 2663\n",
      "2250 / 2663\n",
      "2275 / 2663\n",
      "2300 / 2663\n",
      "2325 / 2663\n",
      "2350 / 2663\n",
      "2375 / 2663\n",
      "2400 / 2663\n",
      "2425 / 2663\n",
      "2450 / 2663\n",
      "2475 / 2663\n",
      "2500 / 2663\n",
      "2525 / 2663\n",
      "2550 / 2663\n",
      "2575 / 2663\n",
      "2600 / 2663\n",
      "2625 / 2663\n",
      "2650 / 2663\n",
      "Train loss 0.19066100249874293  ---  Train accuracy 0.9406572769953052\n",
      "Val  loss 0.08174398922153372   ---   Val  accuracy 0.9813730707823309\n",
      "------------------------------------------------------------\n",
      "\n",
      "This epoch took time  0:21:59.612653\n",
      "\n",
      "Training Epoch 2/4\n",
      "********************\n",
      "25 / 2663\n",
      "50 / 2663\n",
      "75 / 2663\n",
      "100 / 2663\n",
      "125 / 2663\n",
      "150 / 2663\n",
      "175 / 2663\n",
      "200 / 2663\n",
      "225 / 2663\n",
      "250 / 2663\n",
      "275 / 2663\n",
      "300 / 2663\n",
      "325 / 2663\n",
      "350 / 2663\n",
      "375 / 2663\n",
      "400 / 2663\n",
      "425 / 2663\n",
      "450 / 2663\n",
      "475 / 2663\n",
      "500 / 2663\n",
      "525 / 2663\n",
      "550 / 2663\n",
      "575 / 2663\n",
      "600 / 2663\n",
      "625 / 2663\n",
      "650 / 2663\n",
      "675 / 2663\n",
      "700 / 2663\n",
      "725 / 2663\n",
      "750 / 2663\n",
      "775 / 2663\n",
      "800 / 2663\n",
      "825 / 2663\n",
      "850 / 2663\n",
      "875 / 2663\n",
      "900 / 2663\n",
      "925 / 2663\n",
      "950 / 2663\n",
      "975 / 2663\n",
      "1000 / 2663\n",
      "1025 / 2663\n",
      "1050 / 2663\n",
      "1075 / 2663\n",
      "1100 / 2663\n",
      "1125 / 2663\n",
      "1150 / 2663\n",
      "1175 / 2663\n",
      "1200 / 2663\n",
      "1225 / 2663\n",
      "1250 / 2663\n",
      "1275 / 2663\n",
      "1300 / 2663\n",
      "1325 / 2663\n",
      "1350 / 2663\n",
      "1375 / 2663\n",
      "1400 / 2663\n",
      "1425 / 2663\n",
      "1450 / 2663\n",
      "1475 / 2663\n",
      "1500 / 2663\n",
      "1525 / 2663\n",
      "1550 / 2663\n",
      "1575 / 2663\n",
      "1600 / 2663\n",
      "1625 / 2663\n",
      "1650 / 2663\n",
      "1675 / 2663\n",
      "1700 / 2663\n",
      "1725 / 2663\n",
      "1750 / 2663\n",
      "1775 / 2663\n",
      "1800 / 2663\n",
      "1825 / 2663\n",
      "1850 / 2663\n",
      "1875 / 2663\n",
      "1900 / 2663\n",
      "1925 / 2663\n",
      "1950 / 2663\n",
      "1975 / 2663\n",
      "2000 / 2663\n",
      "2025 / 2663\n",
      "2050 / 2663\n",
      "2075 / 2663\n",
      "2100 / 2663\n",
      "2125 / 2663\n",
      "2150 / 2663\n",
      "2175 / 2663\n",
      "2200 / 2663\n",
      "2225 / 2663\n",
      "2250 / 2663\n",
      "2275 / 2663\n",
      "2300 / 2663\n",
      "2325 / 2663\n",
      "2350 / 2663\n",
      "2375 / 2663\n",
      "2400 / 2663\n",
      "2425 / 2663\n",
      "2450 / 2663\n",
      "2475 / 2663\n",
      "2500 / 2663\n",
      "2525 / 2663\n",
      "2550 / 2663\n",
      "2575 / 2663\n",
      "2600 / 2663\n",
      "2625 / 2663\n",
      "2650 / 2663\n",
      "Train loss 0.07548813848694877  ---  Train accuracy 0.9831455399061033\n",
      "Val  loss 0.07678043997909706   ---   Val  accuracy 0.9866950505588078\n",
      "------------------------------------------------------------\n",
      "\n",
      "This epoch took time  0:21:54.334931\n",
      "\n",
      "Training Epoch 3/4\n",
      "********************\n",
      "25 / 2663\n",
      "50 / 2663\n",
      "75 / 2663\n",
      "100 / 2663\n",
      "125 / 2663\n",
      "150 / 2663\n",
      "175 / 2663\n",
      "200 / 2663\n",
      "225 / 2663\n",
      "250 / 2663\n",
      "275 / 2663\n",
      "300 / 2663\n",
      "325 / 2663\n",
      "350 / 2663\n",
      "375 / 2663\n",
      "400 / 2663\n",
      "425 / 2663\n",
      "450 / 2663\n",
      "475 / 2663\n",
      "500 / 2663\n",
      "525 / 2663\n",
      "550 / 2663\n",
      "575 / 2663\n",
      "600 / 2663\n",
      "625 / 2663\n",
      "650 / 2663\n",
      "675 / 2663\n",
      "700 / 2663\n",
      "725 / 2663\n",
      "750 / 2663\n",
      "775 / 2663\n",
      "800 / 2663\n",
      "825 / 2663\n",
      "850 / 2663\n",
      "875 / 2663\n",
      "900 / 2663\n",
      "925 / 2663\n",
      "950 / 2663\n",
      "975 / 2663\n",
      "1000 / 2663\n",
      "1025 / 2663\n",
      "1050 / 2663\n",
      "1075 / 2663\n",
      "1100 / 2663\n",
      "1125 / 2663\n",
      "1150 / 2663\n",
      "1175 / 2663\n",
      "1200 / 2663\n",
      "1225 / 2663\n",
      "1250 / 2663\n",
      "1275 / 2663\n",
      "1300 / 2663\n",
      "1325 / 2663\n",
      "1350 / 2663\n",
      "1375 / 2663\n",
      "1400 / 2663\n",
      "1425 / 2663\n",
      "1450 / 2663\n",
      "1475 / 2663\n",
      "1500 / 2663\n",
      "1525 / 2663\n",
      "1550 / 2663\n",
      "1575 / 2663\n",
      "1600 / 2663\n",
      "1625 / 2663\n",
      "1650 / 2663\n",
      "1675 / 2663\n",
      "1700 / 2663\n",
      "1725 / 2663\n",
      "1750 / 2663\n",
      "1775 / 2663\n",
      "1800 / 2663\n",
      "1825 / 2663\n",
      "1850 / 2663\n",
      "1875 / 2663\n",
      "1900 / 2663\n",
      "1925 / 2663\n",
      "1950 / 2663\n",
      "1975 / 2663\n",
      "2000 / 2663\n",
      "2025 / 2663\n",
      "2050 / 2663\n",
      "2075 / 2663\n",
      "2100 / 2663\n",
      "2125 / 2663\n",
      "2150 / 2663\n",
      "2175 / 2663\n",
      "2200 / 2663\n",
      "2225 / 2663\n",
      "2250 / 2663\n",
      "2275 / 2663\n",
      "2300 / 2663\n",
      "2325 / 2663\n",
      "2350 / 2663\n",
      "2375 / 2663\n",
      "2400 / 2663\n",
      "2425 / 2663\n",
      "2450 / 2663\n",
      "2475 / 2663\n",
      "2500 / 2663\n",
      "2525 / 2663\n",
      "2550 / 2663\n",
      "2575 / 2663\n",
      "2600 / 2663\n",
      "2625 / 2663\n",
      "2650 / 2663\n",
      "Train loss 0.040132642242808374  ---  Train accuracy 0.992206572769953\n",
      "Val  loss 0.05385431806947615   ---   Val  accuracy 0.9909526343799893\n",
      "------------------------------------------------------------\n",
      "\n",
      "This epoch took time  0:21:53.146972\n",
      "\n",
      "Training Epoch 4/4\n",
      "********************\n",
      "25 / 2663\n",
      "50 / 2663\n",
      "75 / 2663\n",
      "100 / 2663\n",
      "125 / 2663\n",
      "150 / 2663\n",
      "175 / 2663\n",
      "200 / 2663\n",
      "225 / 2663\n",
      "250 / 2663\n",
      "275 / 2663\n",
      "300 / 2663\n",
      "325 / 2663\n",
      "350 / 2663\n",
      "375 / 2663\n",
      "400 / 2663\n",
      "425 / 2663\n",
      "450 / 2663\n",
      "475 / 2663\n",
      "500 / 2663\n",
      "525 / 2663\n",
      "550 / 2663\n",
      "575 / 2663\n",
      "600 / 2663\n",
      "625 / 2663\n",
      "650 / 2663\n",
      "675 / 2663\n",
      "700 / 2663\n",
      "725 / 2663\n",
      "750 / 2663\n",
      "775 / 2663\n",
      "800 / 2663\n",
      "825 / 2663\n",
      "850 / 2663\n",
      "875 / 2663\n",
      "900 / 2663\n",
      "925 / 2663\n",
      "950 / 2663\n",
      "975 / 2663\n",
      "1000 / 2663\n",
      "1025 / 2663\n",
      "1050 / 2663\n",
      "1075 / 2663\n",
      "1100 / 2663\n",
      "1125 / 2663\n",
      "1150 / 2663\n",
      "1175 / 2663\n",
      "1200 / 2663\n",
      "1225 / 2663\n",
      "1250 / 2663\n",
      "1275 / 2663\n",
      "1300 / 2663\n",
      "1325 / 2663\n",
      "1350 / 2663\n",
      "1375 / 2663\n",
      "1400 / 2663\n",
      "1425 / 2663\n",
      "1450 / 2663\n",
      "1475 / 2663\n",
      "1500 / 2663\n",
      "1525 / 2663\n",
      "1550 / 2663\n",
      "1575 / 2663\n",
      "1600 / 2663\n",
      "1625 / 2663\n",
      "1650 / 2663\n",
      "1675 / 2663\n",
      "1700 / 2663\n",
      "1725 / 2663\n",
      "1750 / 2663\n",
      "1775 / 2663\n",
      "1800 / 2663\n",
      "1825 / 2663\n",
      "1850 / 2663\n",
      "1875 / 2663\n",
      "1900 / 2663\n",
      "1925 / 2663\n",
      "1950 / 2663\n",
      "1975 / 2663\n",
      "2000 / 2663\n",
      "2025 / 2663\n",
      "2050 / 2663\n",
      "2075 / 2663\n",
      "2100 / 2663\n",
      "2125 / 2663\n",
      "2150 / 2663\n",
      "2175 / 2663\n",
      "2200 / 2663\n",
      "2225 / 2663\n",
      "2250 / 2663\n",
      "2275 / 2663\n",
      "2300 / 2663\n",
      "2325 / 2663\n",
      "2350 / 2663\n",
      "2375 / 2663\n",
      "2400 / 2663\n",
      "2425 / 2663\n",
      "2450 / 2663\n",
      "2475 / 2663\n",
      "2500 / 2663\n",
      "2525 / 2663\n",
      "2550 / 2663\n",
      "2575 / 2663\n",
      "2600 / 2663\n",
      "2625 / 2663\n",
      "2650 / 2663\n",
      "Train loss 0.02069713838788708  ---  Train accuracy 0.9961032863849766\n",
      "Val  loss 0.04267202665500821   ---   Val  accuracy 0.9920170303352847\n",
      "------------------------------------------------------------\n",
      "\n",
      "This epoch took time  0:21:52.503792\n",
      "\n",
      "CPU times: user 47min 8s, sys: 17min 16s, total: 1h 4min 25s\n",
      "Wall time: 1h 27min 51s\n"
     ]
    }
   ],
   "source": [
    "%%time\n",
    "\n",
    "history = defaultdict(list)\n",
    "best_accuracy = 0\n",
    "train_accuracy = 0\n",
    "\n",
    "for epoch in range(EPOCHS):\n",
    "    current_time = datetime.now()\n",
    "    print(f'Training Epoch {epoch + 1}/{EPOCHS}')\n",
    "    print('*' * 20)\n",
    "\n",
    "    train_acc, train_loss = train_epoch(\n",
    "        model,\n",
    "        train_data_loader,    \n",
    "        loss_fn, \n",
    "        optimizer, \n",
    "        device, \n",
    "        scheduler, \n",
    "        len(df_train))\n",
    "\n",
    "    print(f'Train loss {train_loss}  ---  Train accuracy {train_acc}')\n",
    "\n",
    "    val_acc, val_loss = eval_model(\n",
    "        model,\n",
    "        val_data_loader,\n",
    "        loss_fn, \n",
    "        device, \n",
    "        len(df_val))\n",
    "\n",
    "    print(f'Val  loss {val_loss}   ---   Val  accuracy {val_acc}')\n",
    "    print('-' * 60)\n",
    "    print()\n",
    "\n",
    "    print(\"This epoch took time \", datetime.now() - current_time)\n",
    "    print()\n",
    "\n",
    "    history['train_acc'].append(train_acc)\n",
    "    history['train_loss'].append(train_loss)\n",
    "    history['val_acc'].append(val_acc)\n",
    "    history['val_loss'].append(val_loss)\n",
    "\n",
    "    # Storing the state of the best model, indicated by the highest training and validation accuracy.\n",
    "    if train_acc > train_accuracy and val_acc >= best_accuracy:\n",
    "        torch.save(model.state_dict(), model_path)\n",
    "        train_accuracy = train_acc\n",
    "        best_accuracy = val_acc"
   ]
  },
  {
   "cell_type": "code",
   "execution_count": 25,
   "metadata": {
    "colab": {
     "base_uri": "https://localhost:8080/",
     "height": 415
    },
    "id": "qHNQgoYupywU",
    "outputId": "9e66439e-9144-4f19-e8d0-b9d9f17be63c"
   },
   "outputs": [
    {
     "data": {
      "image/png": "[encoded data removed]",
      "text/plain": [
       "<Figure size 720x432 with 1 Axes>"
      ]
     },
     "metadata": {
      "image/png": {
       "height": 398,
       "width": 620
      }
     },
     "output_type": "display_data"
    }
   ],
   "source": [
    "# We can look at the training vs validation losses\n",
    "\n",
    "plt.plot(history['train_loss'], label='train loss')\n",
    "plt.plot(history['val_loss'], label='validation loss')\n",
    "\n",
    "plt.title('Training history')\n",
    "plt.ylabel('loss')\n",
    "plt.xlabel('Epoch')\n",
    "plt.legend()\n",
    "plt.ylim([0, 1]);"
   ]
  },
  {
   "cell_type": "code",
   "execution_count": 26,
   "metadata": {
    "colab": {
     "base_uri": "https://localhost:8080/",
     "height": 415
    },
    "id": "-FWG7kBm372V",
    "outputId": "2d69223f-9c08-4b64-8b38-c8860016f45c"
   },
   "outputs": [
    {
     "data": {
      "image/png": "[encoded data removed]",
      "text/plain": [
       "<Figure size 720x432 with 1 Axes>"
      ]
     },
     "metadata": {
      "image/png": {
       "height": 398,
       "width": 620
      }
     },
     "output_type": "display_data"
    }
   ],
   "source": [
    "# We can look at the training vs validation accuracy:\n",
    "\n",
    "plt.plot(history['train_acc'], label='train accuracy')\n",
    "plt.plot(history['val_acc'], label='validation accuracy')\n",
    "\n",
    "plt.title('Training history')\n",
    "plt.ylabel('Accuracy')\n",
    "plt.xlabel('Epoch')\n",
    "plt.legend()\n",
    "plt.ylim([0, 1]);"
   ]
  },
  {
   "cell_type": "markdown",
   "metadata": {
    "id": "ZsHqkLAuf8pv"
   },
   "source": [
    "The training accuracy starts to approach 100% after 2 epochs or so."
   ]
  },
  {
   "cell_type": "code",
   "execution_count": 27,
   "metadata": {
    "id": "zoGUH8VZ-pPQ"
   },
   "outputs": [],
   "source": [
    "# loading a pretrained model\n",
    "\n",
    "# model = NewsClassifier(len(CLASS_NAMES))\n",
    "# model.load_state_dict(torch.load(model_path))\n",
    "# model = model.to(device)"
   ]
  },
  {
   "cell_type": "markdown",
   "metadata": {
    "id": "U3HZb3NWFtFf"
   },
   "source": [
    "### Testing and evaluating the model\n",
    "\n",
    "So how good is our model on predicting sentiment? Let's start by calculating the accuracy on the test data:"
   ]
  },
  {
   "cell_type": "code",
   "execution_count": 28,
   "metadata": {
    "colab": {
     "base_uri": "https://localhost:8080/"
    },
    "id": "jS3gJ_qBEljD",
    "outputId": "8065330e-f6fa-4f22-e66f-afb8e065d43c"
   },
   "outputs": [
    {
     "name": "stdout",
     "output_type": "stream",
     "text": [
      "Accuracy =  98.67021276595744 %\n",
      "CPU times: user 9.57 s, sys: 3.48 s, total: 13 s\n",
      "Wall time: 40.4 s\n"
     ]
    }
   ],
   "source": [
    "%%time\n",
    "\n",
    "test_acc, _ = eval_model(model, test_data_loader, loss_fn, device, len(df_test))\n",
    "\n",
    "print('Accuracy = ' , test_acc.item() * 100, '%')"
   ]
  },
  {
   "cell_type": "code",
   "execution_count": 29,
   "metadata": {
    "id": "EgR6MuNS8jr_"
   },
   "outputs": [],
   "source": [
    "\"\"\"\n",
    "The following is a helper function to get the predictions from our model using \n",
    "the test portion of the data.\n",
    "\"\"\"\n",
    "\n",
    "def get_predictions(model, data_loader):\n",
    "    model = model.eval()\n",
    "    \n",
    "    news_text_strs = []\n",
    "    predictions = []\n",
    "    prediction_probs = []\n",
    "    real_values = []\n",
    "\n",
    "    with torch.no_grad():\n",
    "        for d in data_loader:\n",
    "\n",
    "            texts = d[\"news_text_str\"]\n",
    "            input_ids = d[\"input_ids\"].to(device)\n",
    "            attention_mask = d[\"attention_mask\"].to(device)\n",
    "            labels = d[\"labels\"].to(device)\n",
    "\n",
    "            outputs = model(\n",
    "              input_ids=input_ids,\n",
    "              attention_mask=attention_mask\n",
    "            )\n",
    "            _, preds = torch.max(outputs, dim=1)\n",
    "\n",
    "            probs = F.softmax(outputs, dim=1)\n",
    "\n",
    "            news_text_strs.extend(texts)\n",
    "            predictions.extend(preds)\n",
    "            prediction_probs.extend(probs)\n",
    "            real_values.extend(labels)\n",
    "\n",
    "    predictions = torch.stack(predictions).cpu()\n",
    "    prediction_probs = torch.stack(prediction_probs).cpu()\n",
    "    real_values = torch.stack(real_values).cpu()\n",
    "    \n",
    "    return news_text_strs, predictions, prediction_probs, real_values"
   ]
  },
  {
   "cell_type": "markdown",
   "metadata": {
    "id": "dkbnBTI7kd_y"
   },
   "source": [
    "This is similar to the evaluation function, except that we're storing the text of the reviews and the predicted probabilities (by applying the softmax on the model outputs):"
   ]
  },
  {
   "cell_type": "code",
   "execution_count": 30,
   "metadata": {
    "id": "zHdPZr60-0c_"
   },
   "outputs": [],
   "source": [
    "y_news_text_strs, y_pred, y_pred_probs, y_test = get_predictions(model, test_data_loader)"
   ]
  },
  {
   "cell_type": "code",
   "execution_count": 31,
   "metadata": {},
   "outputs": [
    {
     "data": {
      "text/plain": [
       "tensor([1, 1, 0,  ..., 1, 0, 1])"
      ]
     },
     "execution_count": 31,
     "metadata": {},
     "output_type": "execute_result"
    }
   ],
   "source": [
    "y_pred"
   ]
  },
  {
   "cell_type": "markdown",
   "metadata": {
    "id": "gVwoVij2lC7F"
   },
   "source": [
    "Let's have a look at the classification report"
   ]
  },
  {
   "cell_type": "code",
   "execution_count": 32,
   "metadata": {
    "colab": {
     "base_uri": "https://localhost:8080/"
    },
    "id": "Tte-1JdyyDxU",
    "outputId": "1102b936-906d-46d6-cdff-42e442746430"
   },
   "outputs": [
    {
     "name": "stdout",
     "output_type": "stream",
     "text": [
      "              precision    recall  f1-score   support\n",
      "\n",
      "        FAKE     0.9894    0.9814    0.9854       858\n",
      "        REAL     0.9845    0.9912    0.9878      1022\n",
      "\n",
      "    accuracy                         0.9867      1880\n",
      "   macro avg     0.9869    0.9863    0.9866      1880\n",
      "weighted avg     0.9867    0.9867    0.9867      1880\n",
      "\n"
     ]
    }
   ],
   "source": [
    "print(classification_report(y_test, y_pred, target_names=CLASS_NAMES, digits=4)) "
   ]
  },
  {
   "cell_type": "code",
   "execution_count": 33,
   "metadata": {
    "colab": {
     "base_uri": "https://localhost:8080/"
    },
    "id": "BRaNsUSms1bZ",
    "outputId": "234ef217-0afc-4379-85b7-bcacdb26d8fc"
   },
   "outputs": [
    {
     "name": "stdout",
     "output_type": "stream",
     "text": [
      "MCC =  97.32101975836261 %\n"
     ]
    }
   ],
   "source": [
    "# Compute the Matthews correlation coefficient (MCC)\n",
    "\n",
    "from sklearn.metrics import matthews_corrcoef\n",
    "mcc = matthews_corrcoef(y_test, y_pred)\n",
    "print('MCC = ', mcc * 100, '%') "
   ]
  },
  {
   "cell_type": "markdown",
   "metadata": {
    "id": "rFAekw3mmWUi"
   },
   "source": [
    "\n",
    "We'll continue with the confusion matrix:"
   ]
  },
  {
   "cell_type": "code",
   "execution_count": 34,
   "metadata": {
    "colab": {
     "base_uri": "https://localhost:8080/",
     "height": 416
    },
    "id": "6d1qxsc__DTh",
    "outputId": "9d18a3c3-6c6e-405c-ae80-c7fd9c24b003"
   },
   "outputs": [
    {
     "data": {
      "image/png": "[encoded data removed]",
      "text/plain": [
       "<Figure size 720x432 with 2 Axes>"
      ]
     },
     "metadata": {
      "image/png": {
       "height": 397,
       "width": 609
      }
     },
     "output_type": "display_data"
    }
   ],
   "source": [
    "def show_confusion_matrix(confusion_matrix):\n",
    "    hmap = sns.heatmap(confusion_matrix, annot=True, fmt=\"d\", cmap=\"Greens\")\n",
    "    hmap.yaxis.set_ticklabels(hmap.yaxis.get_ticklabels(), rotation=0, ha='right')\n",
    "    hmap.xaxis.set_ticklabels(hmap.xaxis.get_ticklabels(), rotation=30, ha='right')\n",
    "    plt.xlabel('True label')\n",
    "    plt.ylabel('Predicted label');\n",
    "\n",
    "cm = confusion_matrix(y_test, y_pred)\n",
    "df_cm = pd.DataFrame(cm, index=CLASS_NAMES, columns=CLASS_NAMES)\n",
    "show_confusion_matrix(df_cm)"
   ]
  },
  {
   "cell_type": "markdown",
   "metadata": {
    "id": "wx0U7oNsnZ3A"
   },
   "source": [
    "\n",
    "That's a good overview of the performance of our model. But let's have a look at an example from our test data:"
   ]
  },
  {
   "cell_type": "code",
   "execution_count": 35,
   "metadata": {
    "id": "iANBiY3sLo-K"
   },
   "outputs": [],
   "source": [
    "idx = 1\n",
    "\n",
    "news_text = y_news_text_strs[idx]\n",
    "true_label = y_test[idx]\n",
    "pred_df = pd.DataFrame({\n",
    "    'class_names': CLASS_NAMES,\n",
    "    'values': y_pred_probs[idx]})"
   ]
  },
  {
   "cell_type": "code",
   "execution_count": 36,
   "metadata": {
    "colab": {
     "base_uri": "https://localhost:8080/"
    },
    "id": "gJeraq_ckh2j",
    "outputId": "6de390aa-b132-4eb3-83a8-a7169fe8f1c5"
   },
   "outputs": [
    {
     "name": "stdout",
     "output_type": "stream",
     "text": [
      "[['FAKE' 0.00011787444964284077]\n",
      " ['REAL' 0.9998821020126343]]\n"
     ]
    }
   ],
   "source": [
    "print(pred_df.values)"
   ]
  },
  {
   "cell_type": "code",
   "execution_count": 37,
   "metadata": {
    "colab": {
     "base_uri": "https://localhost:8080/"
    },
    "id": "EPVeGAT2VzaJ",
    "outputId": "a66c78cf-e70a-4f3e-ee56-8f899b978c59"
   },
   "outputs": [
    {
     "name": "stdout",
     "output_type": "stream",
     "text": [
      "True Label: ['REAL']\n",
      "\n",
      "Text:\n",
      " Understanding our own stories about race, and talking about them to\n",
      "one another, is absolutely essential if we are to become part of the\n",
      "larger pilgrimage to defeat racism in America. It is also a biblical\n",
      "story, and now a global story in which we play a central role. We all\n",
      "start with our own stories about race, so I will begin with mine.\n",
      "Fifty years ago I was a teenager in Detroit. I took a job as a janitor\n",
      "at the Detroit Edison Company to earn money for college. There I met a\n",
      "young man named \n"
     ]
    }
   ],
   "source": [
    "print(f'True Label: {le.inverse_transform([true_label])}')\n",
    "print()\n",
    "news_text2 = \"\\n\".join(wrap(news_text))[:500]\n",
    "# print(\"\\n\".join(wrap(news_text)))\n",
    "print('Text:\\n', news_text2)"
   ]
  },
  {
   "cell_type": "markdown",
   "metadata": {
    "id": "7WL5pDmvFyaU"
   },
   "source": [
    "### Testing on raw text\n",
    "\n",
    "Use the model to predict the label of some raw text. I think using !!!! may affect the prediction (higher probability of being fake). "
   ]
  },
  {
   "cell_type": "code",
   "execution_count": 38,
   "metadata": {
    "id": "mCGQesvUWsyD"
   },
   "outputs": [],
   "source": [
    "News_text = 'This is REAL news!!!'"
   ]
  },
  {
   "cell_type": "markdown",
   "metadata": {
    "id": "GaN4RnqMnxYw"
   },
   "source": [
    "We have to use the tokenizer to encode the text:"
   ]
  },
  {
   "cell_type": "code",
   "execution_count": 39,
   "metadata": {
    "id": "zA5Or4D2sLc9"
   },
   "outputs": [],
   "source": [
    "encoded_text = TOKENIZER.encode_plus(\n",
    "    News_text,\n",
    "    add_special_tokens=True,\n",
    "    max_length=MAX_LEN,\n",
    "    return_token_type_ids=False,\n",
    "    padding='max_length',\n",
    "    truncation=True,\n",
    "    return_attention_mask=True,\n",
    "    return_tensors='pt')"
   ]
  },
  {
   "cell_type": "markdown",
   "metadata": {
    "id": "et8xlDrKpH60"
   },
   "source": [
    "Let's get the predictions from our model:"
   ]
  },
  {
   "cell_type": "code",
   "execution_count": 40,
   "metadata": {
    "colab": {
     "base_uri": "https://localhost:8080/"
    },
    "id": "Qr_t3rUksumr",
    "outputId": "433cd71d-b72c-4a66-d70b-aa855598457d"
   },
   "outputs": [
    {
     "name": "stdout",
     "output_type": "stream",
     "text": [
      "Predected Label: FAKE\n",
      "[['FAKE' 0.9928144812583923]\n",
      " ['REAL' 0.007185516878962517]]\n"
     ]
    }
   ],
   "source": [
    "input_ids = encoded_text['input_ids'].to(device)\n",
    "attention_mask = encoded_text['attention_mask'].to(device)\n",
    "\n",
    "output = model(input_ids, attention_mask)\n",
    "_, prediction = torch.max(output, dim=1)\n",
    "probs = F.softmax(output, dim=1)\n",
    "prediction_probs = torch.detach(probs).cpu()\n",
    "# print(prediction)\n",
    "print(f'Predicted Label: {CLASS_NAMES[prediction]}')\n",
    "\n",
    "pred_df = pd.DataFrame({\n",
    "    'class_names': CLASS_NAMES,\n",
    "    'values': prediction_probs[0]})\n",
    "\n",
    "print(pred_df.values)"
   ]
  },
  {
   "cell_type": "markdown",
   "metadata": {
    "id": "OqVoCAAlfRTq"
   },
   "source": [
    "\n",
    "Lets try the same text without using the !!!!."
   ]
  },
  {
   "cell_type": "code",
   "execution_count": 41,
   "metadata": {
    "colab": {
     "base_uri": "https://localhost:8080/"
    },
    "id": "m5vOrbaiafUE",
    "outputId": "0670e41e-ec53-432c-98ac-a693b04816d7"
   },
   "outputs": [
    {
     "name": "stdout",
     "output_type": "stream",
     "text": [
      "Predected Label: FAKE\n",
      "[['FAKE' 0.5962339639663696]\n",
      " ['REAL' 0.40376606583595276]]\n"
     ]
    }
   ],
   "source": [
    "News_text = 'This is real news.'\n",
    "\n",
    "encoded_text = TOKENIZER.encode_plus(\n",
    "    News_text,\n",
    "    add_special_tokens=True,\n",
    "    max_length=MAX_LEN,\n",
    "    return_token_type_ids=False,\n",
    "    padding='max_length',\n",
    "    truncation=True,\n",
    "    return_attention_mask=True,\n",
    "    return_tensors='pt')\n",
    "\n",
    "input_ids = encoded_text['input_ids'].to(device)\n",
    "attention_mask = encoded_text['attention_mask'].to(device)\n",
    "\n",
    "output = model(input_ids, attention_mask)\n",
    "_, prediction = torch.max(output, dim=1)\n",
    "probs = F.softmax(output, dim=1)\n",
    "prediction_probs = torch.detach(probs).cpu()\n",
    "# print(prediction)\n",
    "print(f'Predicted Label: {CLASS_NAMES[prediction]}')\n",
    "\n",
    "pred_df = pd.DataFrame({\n",
    "    'class_names': CLASS_NAMES,\n",
    "    'values': prediction_probs[0]})\n",
    "\n",
    "print(pred_df.values)"
   ]
  },
  {
   "cell_type": "markdown",
   "metadata": {
    "id": "Wf39tauBa2V2"
   },
   "source": [
    "## References\n",
    "\n",
    "- [BERT: Pre-training of Deep Bidirectional Transformers for Language Understanding](https://arxiv.org/abs/1810.04805)\n",
    "- [RoBERTa: A Robustly Optimized BERT Pretraining Approach](https://arxiv.org/abs/1907.11692)\n",
    "- [The Illustrated BERT, ELMo, and co.](https://jalammar.github.io/illustrated-bert/)\n",
    "- [Hierarchical Transformers for Long Document Classification](https://arxiv.org/abs/1910.10781)\n",
    "- [How to Fine-Tune BERT for Text Classification?](https://arxiv.org/pdf/1905.05583.pdf)\n",
    "- [Sentiment Analysis with BERT and Transformers by Hugging Face using PyTorch and Python](https://curiousily.com/posts/sentiment-analysis-with-bert-and-hugging-face-using-pytorch-and-python/)\n",
    "- [BERT Fine-Tuning Tutorial with PyTorch](https://mccormickml.com/2019/07/22/BERT-fine-tuning/)\n",
    "\n",
    "- [Huggingface Transformers](https://huggingface.co/transformers/)\n",
    "- [BERT Explained: State of the art language model for NLP](https://towardsdatascience.com/bert-explained-state-of-the-art-language-model-for-nlp-f8b21a9b6270)"
   ]
  },
  {
   "cell_type": "code",
   "execution_count": null,
   "metadata": {
    "id": "FRRFAifwtw-F"
   },
   "outputs": [],
   "source": []
  }
 ],
 "metadata": {
  "accelerator": "GPU",
  "colab": {
   "collapsed_sections": [],
   "name": "Fine_tuning_BERT_for_DC_seqLen512.ipynb",
   "provenance": []
  },
  "kernelspec": {
   "display_name": "Python 3",
   "language": "python",
   "name": "python3"
  },
  "language_info": {
   "codemirror_mode": {
    "name": "ipython",
    "version": 3
   },
   "file_extension": ".py",
   "mimetype": "text/x-python",
   "name": "python",
   "nbconvert_exporter": "python",
   "pygments_lexer": "ipython3",
   "version": "3.8.3"
  }
 },
 "nbformat": 4,
 "nbformat_minor": 1
}
