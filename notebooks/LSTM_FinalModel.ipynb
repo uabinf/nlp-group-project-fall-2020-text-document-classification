{
 "cells": [
  {
   "cell_type": "code",
   "execution_count": 1,
   "metadata": {
    "colab": {
     "base_uri": "https://localhost:8080/"
    },
    "id": "Gci_CRkHnHCS",
    "outputId": "2ffaaba6-54b1-41e6-bf73-1a02e96c67e3"
   },
   "outputs": [],
   "source": [
    "# from google.colab import drive\n",
    "# drive.mount('/content/drive')"
   ]
  },
  {
   "cell_type": "code",
   "execution_count": 2,
   "metadata": {
    "scrolled": true
   },
   "outputs": [
    {
     "name": "stdout",
     "output_type": "stream",
     "text": [
      "Defaulting to user installation because normal site-packages is not writeable\n",
      "Requirement already satisfied: tensorflow in ./.local/lib/python3.8/site-packages (2.3.1)\n",
      "Requirement already satisfied: nltk in /data/rc/apps/rc/software/Anaconda3/2020.07/lib/python3.8/site-packages (3.5)\n",
      "Requirement already satisfied: gensim in ./.local/lib/python3.8/site-packages (3.8.3)\n",
      "Requirement already satisfied: sklearn in ./.local/lib/python3.8/site-packages (0.0)\n",
      "Requirement already satisfied: transformers in ./.local/lib/python3.8/site-packages (3.5.1)\n",
      "Requirement already satisfied: keras-preprocessing<1.2,>=1.1.1 in ./.local/lib/python3.8/site-packages (from tensorflow) (1.1.2)\n",
      "Requirement already satisfied: tensorflow-estimator<2.4.0,>=2.3.0 in ./.local/lib/python3.8/site-packages (from tensorflow) (2.3.0)\n",
      "Requirement already satisfied: gast==0.3.3 in ./.local/lib/python3.8/site-packages (from tensorflow) (0.3.3)\n",
      "Requirement already satisfied: tensorboard<3,>=2.3.0 in ./.local/lib/python3.8/site-packages (from tensorflow) (2.4.0)\n",
      "Requirement already satisfied: termcolor>=1.1.0 in ./.local/lib/python3.8/site-packages (from tensorflow) (1.1.0)\n",
      "Requirement already satisfied: wrapt>=1.11.1 in /data/rc/apps/rc/software/Anaconda3/2020.07/lib/python3.8/site-packages (from tensorflow) (1.11.2)\n",
      "Requirement already satisfied: numpy<1.19.0,>=1.16.0 in /data/rc/apps/rc/software/Anaconda3/2020.07/lib/python3.8/site-packages (from tensorflow) (1.18.5)\n",
      "Requirement already satisfied: astunparse==1.6.3 in ./.local/lib/python3.8/site-packages (from tensorflow) (1.6.3)\n",
      "Requirement already satisfied: six>=1.12.0 in /data/rc/apps/rc/software/Anaconda3/2020.07/lib/python3.8/site-packages (from tensorflow) (1.15.0)\n",
      "Requirement already satisfied: google-pasta>=0.1.8 in ./.local/lib/python3.8/site-packages (from tensorflow) (0.2.0)\n",
      "Requirement already satisfied: h5py<2.11.0,>=2.10.0 in /data/rc/apps/rc/software/Anaconda3/2020.07/lib/python3.8/site-packages (from tensorflow) (2.10.0)\n",
      "Requirement already satisfied: grpcio>=1.8.6 in ./.local/lib/python3.8/site-packages (from tensorflow) (1.33.2)\n",
      "Requirement already satisfied: opt-einsum>=2.3.2 in ./.local/lib/python3.8/site-packages (from tensorflow) (3.3.0)\n",
      "Requirement already satisfied: wheel>=0.26 in /data/rc/apps/rc/software/Anaconda3/2020.07/lib/python3.8/site-packages (from tensorflow) (0.34.2)\n",
      "Requirement already satisfied: protobuf>=3.9.2 in ./.local/lib/python3.8/site-packages (from tensorflow) (3.14.0)\n",
      "Requirement already satisfied: absl-py>=0.7.0 in ./.local/lib/python3.8/site-packages (from tensorflow) (0.11.0)\n",
      "Requirement already satisfied: joblib in /data/rc/apps/rc/software/Anaconda3/2020.07/lib/python3.8/site-packages (from nltk) (0.16.0)\n",
      "Requirement already satisfied: tqdm in /data/rc/apps/rc/software/Anaconda3/2020.07/lib/python3.8/site-packages (from nltk) (4.47.0)\n",
      "Requirement already satisfied: regex in /data/rc/apps/rc/software/Anaconda3/2020.07/lib/python3.8/site-packages (from nltk) (2020.6.8)\n",
      "Requirement already satisfied: click in /data/rc/apps/rc/software/Anaconda3/2020.07/lib/python3.8/site-packages (from nltk) (7.1.2)\n",
      "Requirement already satisfied: smart-open>=1.8.1 in ./.local/lib/python3.8/site-packages (from gensim) (4.0.1)\n",
      "Requirement already satisfied: scipy>=0.18.1 in /data/rc/apps/rc/software/Anaconda3/2020.07/lib/python3.8/site-packages (from gensim) (1.5.0)\n",
      "Requirement already satisfied: scikit-learn in /data/rc/apps/rc/software/Anaconda3/2020.07/lib/python3.8/site-packages (from sklearn) (0.23.1)\n",
      "Requirement already satisfied: tokenizers==0.9.3 in ./.local/lib/python3.8/site-packages (from transformers) (0.9.3)\n",
      "Requirement already satisfied: sentencepiece==0.1.91 in ./.local/lib/python3.8/site-packages (from transformers) (0.1.91)\n",
      "Requirement already satisfied: packaging in /data/rc/apps/rc/software/Anaconda3/2020.07/lib/python3.8/site-packages (from transformers) (20.4)\n",
      "Requirement already satisfied: sacremoses in ./.local/lib/python3.8/site-packages (from transformers) (0.0.43)\n",
      "Requirement already satisfied: filelock in /data/rc/apps/rc/software/Anaconda3/2020.07/lib/python3.8/site-packages (from transformers) (3.0.12)\n",
      "Requirement already satisfied: requests in /data/rc/apps/rc/software/Anaconda3/2020.07/lib/python3.8/site-packages (from transformers) (2.24.0)\n",
      "Requirement already satisfied: tensorboard-plugin-wit>=1.6.0 in ./.local/lib/python3.8/site-packages (from tensorboard<3,>=2.3.0->tensorflow) (1.7.0)\n",
      "Requirement already satisfied: markdown>=2.6.8 in ./.local/lib/python3.8/site-packages (from tensorboard<3,>=2.3.0->tensorflow) (3.3.3)\n",
      "Requirement already satisfied: setuptools>=41.0.0 in /data/rc/apps/rc/software/Anaconda3/2020.07/lib/python3.8/site-packages (from tensorboard<3,>=2.3.0->tensorflow) (49.2.0.post20200714)\n",
      "Requirement already satisfied: google-auth-oauthlib<0.5,>=0.4.1 in ./.local/lib/python3.8/site-packages (from tensorboard<3,>=2.3.0->tensorflow) (0.4.2)\n",
      "Requirement already satisfied: werkzeug>=0.11.15 in /data/rc/apps/rc/software/Anaconda3/2020.07/lib/python3.8/site-packages (from tensorboard<3,>=2.3.0->tensorflow) (1.0.1)\n",
      "Requirement already satisfied: google-auth<2,>=1.6.3 in ./.local/lib/python3.8/site-packages (from tensorboard<3,>=2.3.0->tensorflow) (1.23.0)\n",
      "Requirement already satisfied: threadpoolctl>=2.0.0 in /data/rc/apps/rc/software/Anaconda3/2020.07/lib/python3.8/site-packages (from scikit-learn->sklearn) (2.1.0)\n",
      "Requirement already satisfied: pyparsing>=2.0.2 in /data/rc/apps/rc/software/Anaconda3/2020.07/lib/python3.8/site-packages (from packaging->transformers) (2.4.7)\n",
      "Requirement already satisfied: urllib3!=1.25.0,!=1.25.1,<1.26,>=1.21.1 in /data/rc/apps/rc/software/Anaconda3/2020.07/lib/python3.8/site-packages (from requests->transformers) (1.25.9)\n",
      "Requirement already satisfied: certifi>=2017.4.17 in /data/rc/apps/rc/software/Anaconda3/2020.07/lib/python3.8/site-packages (from requests->transformers) (2020.6.20)\n",
      "Requirement already satisfied: chardet<4,>=3.0.2 in /data/rc/apps/rc/software/Anaconda3/2020.07/lib/python3.8/site-packages (from requests->transformers) (3.0.4)\n",
      "Requirement already satisfied: idna<3,>=2.5 in /data/rc/apps/rc/software/Anaconda3/2020.07/lib/python3.8/site-packages (from requests->transformers) (2.10)\n",
      "Requirement already satisfied: requests-oauthlib>=0.7.0 in ./.local/lib/python3.8/site-packages (from google-auth-oauthlib<0.5,>=0.4.1->tensorboard<3,>=2.3.0->tensorflow) (1.3.0)\n",
      "Requirement already satisfied: cachetools<5.0,>=2.0.0 in ./.local/lib/python3.8/site-packages (from google-auth<2,>=1.6.3->tensorboard<3,>=2.3.0->tensorflow) (4.1.1)\n",
      "Requirement already satisfied: pyasn1-modules>=0.2.1 in ./.local/lib/python3.8/site-packages (from google-auth<2,>=1.6.3->tensorboard<3,>=2.3.0->tensorflow) (0.2.8)\n",
      "Requirement already satisfied: rsa<5,>=3.1.4; python_version >= \"3.5\" in ./.local/lib/python3.8/site-packages (from google-auth<2,>=1.6.3->tensorboard<3,>=2.3.0->tensorflow) (4.6)\n",
      "Requirement already satisfied: oauthlib>=3.0.0 in ./.local/lib/python3.8/site-packages (from requests-oauthlib>=0.7.0->google-auth-oauthlib<0.5,>=0.4.1->tensorboard<3,>=2.3.0->tensorflow) (3.1.0)\n",
      "Requirement already satisfied: pyasn1<0.5.0,>=0.4.6 in ./.local/lib/python3.8/site-packages (from pyasn1-modules>=0.2.1->google-auth<2,>=1.6.3->tensorboard<3,>=2.3.0->tensorflow) (0.4.8)\n"
     ]
    }
   ],
   "source": [
    "!pip install tensorflow nltk gensim sklearn transformers"
   ]
  },
  {
   "cell_type": "code",
   "execution_count": 3,
   "metadata": {
    "colab": {
     "base_uri": "https://localhost:8080/"
    },
    "id": "gl8rF1E4nFu1",
    "outputId": "86197ac7-a76e-4004-e1e4-b91b875abfe4"
   },
   "outputs": [
    {
     "name": "stderr",
     "output_type": "stream",
     "text": [
      "[nltk_data] Downloading package stopwords to /home/chrico/nltk_data...\n",
      "[nltk_data]   Package stopwords is already up-to-date!\n",
      "[nltk_data] Downloading package punkt to /home/chrico/nltk_data...\n",
      "[nltk_data]   Package punkt is already up-to-date!\n"
     ]
    }
   ],
   "source": [
    "import warnings\n",
    "import os\n",
    "\n",
    "import tensorflow as tf\n",
    "import tensorflow.keras.backend as K\n",
    "from tensorflow.keras.layers import (\n",
    "    Input, Lambda, Embedding, GRU, Bidirectional, Concatenate, Dense\n",
    ")\n",
    "import numpy as np\n",
    "import pandas as pd\n",
    "\n",
    "import nltk\n",
    "nltk.download('stopwords')\n",
    "nltk.download('punkt')\n",
    "import gensim.downloader\n",
    "import re\n",
    "from calendar import day_name, day_abbr, month_name, month_abbr\n",
    "\n",
    "from transformers import BertTokenizer\n",
    "\n",
    "from collections import Counter\n",
    "\n",
    "from sklearn import preprocessing\n",
    "from sklearn.utils import class_weight\n",
    "from sklearn.model_selection import train_test_split\n",
    "from sklearn.metrics import matthews_corrcoef, confusion_matrix\n",
    "from sklearn.manifold import TSNE\n",
    "\n",
    "import matplotlib.pyplot as plt"
   ]
  },
  {
   "cell_type": "code",
   "execution_count": 4,
   "metadata": {
    "colab": {
     "base_uri": "https://localhost:8080/"
    },
    "id": "HfQyxJASnFu4",
    "outputId": "66a73e47-d43c-4b14-ce83-9958199ae23d",
    "scrolled": true
   },
   "outputs": [
    {
     "name": "stdout",
     "output_type": "stream",
     "text": [
      "CPU times: user 41.5 s, sys: 1.64 s, total: 43.2 s\n",
      "Wall time: 43.2 s\n"
     ]
    }
   ],
   "source": [
    "%%time\n",
    "\n",
    "# download our pretrained word embedding with embedding size of 300\n",
    "EMBED_SIZE = 300\n",
    "gn300 = gensim.downloader.load('word2vec-google-news-300')\n",
    "\n",
    "# \"\"\"\n",
    "# Condense our pretrained word embedding using the following two techniques:\n",
    "# 1) remove stopwords\n",
    "# 2) make all keys lowercase, group by key, and take average per key.\n",
    "# E.g. (gn300['beyonce'] +\n",
    "#       gn300['Beyonce'] +\n",
    "#       gn300['BEYONCE']) / 3 -> gn300['beyonce']\n",
    "# \"\"\"\n",
    "# S = Counter() # vector sum\n",
    "# C = Counter() # vector count\n",
    "# for word in gn300.vocab:\n",
    "#     lower = word.lower()\n",
    "#     if lower in stopwords: continue\n",
    "#     S[lower] += gn300[word]\n",
    "#     C[lower] += 1\n",
    "# # create condensed word2vec (just a simple dictionary)\n",
    "# gn300 = {w: s / c for w, s, c in zip(S.keys(), S.values(), C.values())}"
   ]
  },
  {
   "cell_type": "code",
   "execution_count": 5,
   "metadata": {
    "id": "ahmP6lSPnFu3"
   },
   "outputs": [],
   "source": [
    "# constants that will be used as tokens\n",
    "PAD = '~PAD~'\n",
    "URL = '~URL~'\n",
    "DATETIME = '~DATETIME~'\n",
    "QUANTITY = '~QUANTITY~'\n",
    "NUM = '~NUM~'\n",
    "UNK = '~UNK~'\n",
    "\n",
    "# regexes to be applied prior to tokenization\n",
    "url_regex = '(www\\.|http://|https://)\\S+|\\S+\\.(co|org|net|info|be|gov|edu|html|jpg|jpeg|png|gif)'\n",
    "date_regex = '('        + '|'.join(day_name[i] for i in range(7)) +\\\n",
    "             '|'        + '|'.join(day_abbr[i] for i in range(7)) +\\\n",
    "             ')?,?\\s?(' + '|'.join(month_name[i] for i in range(1, 13)) +\\\n",
    "             '|'        + '|'.join(month_abbr[i] for i in range(1, 13)) +\\\n",
    "             \")\\s\\d{1,2}(st|nd|rd|th)?(,?\\s'?\\d{2,4})?\"\n",
    "time_regex = '((\\d+\\:\\d+)(\\s?[AaPp]\\.\\s?[Mm]\\.)?)|((\\d+\\:\\d+\\s?)?([AaPp]\\.\\s?[Mm]\\.))'\n",
    "quantity_regex = '\\d+((\\,?\\d+)+)?'\n",
    "\n",
    "# list of stopwords\n",
    "stopwords = nltk.corpus.stopwords.words('english')"
   ]
  },
  {
   "cell_type": "code",
   "execution_count": 6,
   "metadata": {
    "id": "-z4drYwanFu3"
   },
   "outputs": [],
   "source": [
    "### HYPERPARAMETERS ###\n",
    "PERCENT_TEST = 0.075\n",
    "PERCENT_VAL  = 0.075\n",
    "MAX_TEXT_LEN = 512\n",
    "MAX_TITLE_LEN = 40\n",
    "TEXT_UNITS = 64\n",
    "TITLE_UNITS = 5\n",
    "BATCH_SIZE = 32\n",
    "EPOCHS = 10\n",
    "LEARNING_RATE = 2e-3\n",
    "DROPOUT = 0.2\n",
    "OPTIMIZER = tf.keras.optimizers.Nadam\n",
    "PLATEAU_FACTOR = 0.63\n",
    "\n",
    "val_split = PERCENT_VAL / (1 - PERCENT_TEST)\n",
    "optimizer = OPTIMIZER(learning_rate=LEARNING_RATE)\n",
    "\n",
    "checkpoint_filepath = '/tmp/checkpoint_v0'\n",
    "\n",
    "### RANDOM SEED (for reproducibility) ###\n",
    "SEED = 42\n",
    "np.random.seed (SEED)\n",
    "seed = SEED"
   ]
  },
  {
   "cell_type": "code",
   "execution_count": 7,
   "metadata": {
    "id": "90aB_d5BnFu6"
   },
   "outputs": [],
   "source": [
    "def strip_all_duplicates(df):\n",
    "    r = pd.DataFrame()\n",
    "    for column in ['title', 'text']:\n",
    "        c = df[column]\n",
    "        flag = c.isin(c[c.duplicated()])\n",
    "        r = pd.concat([r, df.loc[flag]])\n",
    "    r = r.drop_duplicates()\n",
    "    return df[~df.index.isin(r.index)], r\n",
    "\n",
    "def get_real_fake(df):\n",
    "    real = df[df.label.isin([0, 'REAL'])]\n",
    "    fake = df[df.label.isin([1, 'FAKE'])]\n",
    "    return real, fake\n",
    "\n",
    "def split_df(df):\n",
    "    global seed\n",
    "    train, test = train_test_split(df, test_size=PERCENT_TEST, random_state=seed)\n",
    "    seed += 1\n",
    "    train, val  = train_test_split(train, test_size=val_split, random_state=seed)\n",
    "    seed += 1\n",
    "    return train, val, test\n",
    "\n",
    "def concat_and_shuffle(dfs):\n",
    "    global seed\n",
    "    df = pd.concat(dfs)\n",
    "    df = df.sample(frac=1, random_state=seed)\n",
    "    seed += 1\n",
    "    return df"
   ]
  },
  {
   "cell_type": "code",
   "execution_count": 8,
   "metadata": {
    "colab": {
     "base_uri": "https://localhost:8080/",
     "height": 476
    },
    "id": "t-bINh9knFu6",
    "outputId": "e049424d-63e2-471a-a3f6-d12a9c2bd1fb"
   },
   "outputs": [
    {
     "name": "stdout",
     "output_type": "stream",
     "text": [
      "6306 29\n"
     ]
    },
    {
     "data": {
      "text/html": [
       "<div>\n",
       "<style scoped>\n",
       "    .dataframe tbody tr th:only-of-type {\n",
       "        vertical-align: middle;\n",
       "    }\n",
       "\n",
       "    .dataframe tbody tr th {\n",
       "        vertical-align: top;\n",
       "    }\n",
       "\n",
       "    .dataframe thead th {\n",
       "        text-align: right;\n",
       "    }\n",
       "</style>\n",
       "<table border=\"1\" class=\"dataframe\">\n",
       "  <thead>\n",
       "    <tr style=\"text-align: right;\">\n",
       "      <th></th>\n",
       "      <th>title</th>\n",
       "      <th>text</th>\n",
       "      <th>label</th>\n",
       "    </tr>\n",
       "  </thead>\n",
       "  <tbody>\n",
       "    <tr>\n",
       "      <th>0</th>\n",
       "      <td>You Can Smell Hillary’s Fear</td>\n",
       "      <td>Daniel Greenfield, a Shillman Journalism Fello...</td>\n",
       "      <td>FAKE</td>\n",
       "    </tr>\n",
       "    <tr>\n",
       "      <th>1</th>\n",
       "      <td>Watch The Exact Moment Paul Ryan Committed Pol...</td>\n",
       "      <td>Google Pinterest Digg Linkedin Reddit Stumbleu...</td>\n",
       "      <td>FAKE</td>\n",
       "    </tr>\n",
       "    <tr>\n",
       "      <th>2</th>\n",
       "      <td>Kerry to go to Paris in gesture of sympathy</td>\n",
       "      <td>U.S. Secretary of State John F. Kerry said Mon...</td>\n",
       "      <td>REAL</td>\n",
       "    </tr>\n",
       "    <tr>\n",
       "      <th>3</th>\n",
       "      <td>Bernie supporters on Twitter erupt in anger ag...</td>\n",
       "      <td>— Kaydee King (@KaydeeKing) November 9, 2016 T...</td>\n",
       "      <td>FAKE</td>\n",
       "    </tr>\n",
       "    <tr>\n",
       "      <th>4</th>\n",
       "      <td>The Battle of New York: Why This Primary Matters</td>\n",
       "      <td>It's primary day in New York and front-runners...</td>\n",
       "      <td>REAL</td>\n",
       "    </tr>\n",
       "    <tr>\n",
       "      <th>...</th>\n",
       "      <td>...</td>\n",
       "      <td>...</td>\n",
       "      <td>...</td>\n",
       "    </tr>\n",
       "    <tr>\n",
       "      <th>6330</th>\n",
       "      <td>State Department says it can't find emails fro...</td>\n",
       "      <td>The State Department told the Republican Natio...</td>\n",
       "      <td>REAL</td>\n",
       "    </tr>\n",
       "    <tr>\n",
       "      <th>6331</th>\n",
       "      <td>The ‘P’ in PBS Should Stand for ‘Plutocratic’ ...</td>\n",
       "      <td>The ‘P’ in PBS Should Stand for ‘Plutocratic’ ...</td>\n",
       "      <td>FAKE</td>\n",
       "    </tr>\n",
       "    <tr>\n",
       "      <th>6332</th>\n",
       "      <td>Anti-Trump Protesters Are Tools of the Oligarc...</td>\n",
       "      <td>Anti-Trump Protesters Are Tools of the Oligar...</td>\n",
       "      <td>FAKE</td>\n",
       "    </tr>\n",
       "    <tr>\n",
       "      <th>6333</th>\n",
       "      <td>In Ethiopia, Obama seeks progress on peace, se...</td>\n",
       "      <td>ADDIS ABABA, Ethiopia —President Obama convene...</td>\n",
       "      <td>REAL</td>\n",
       "    </tr>\n",
       "    <tr>\n",
       "      <th>6334</th>\n",
       "      <td>Jeb Bush Is Suddenly Attacking Trump. Here's W...</td>\n",
       "      <td>Jeb Bush Is Suddenly Attacking Trump. Here's W...</td>\n",
       "      <td>REAL</td>\n",
       "    </tr>\n",
       "  </tbody>\n",
       "</table>\n",
       "<p>5923 rows × 3 columns</p>\n",
       "</div>"
      ],
      "text/plain": [
       "                                                  title  \\\n",
       "0                          You Can Smell Hillary’s Fear   \n",
       "1     Watch The Exact Moment Paul Ryan Committed Pol...   \n",
       "2           Kerry to go to Paris in gesture of sympathy   \n",
       "3     Bernie supporters on Twitter erupt in anger ag...   \n",
       "4      The Battle of New York: Why This Primary Matters   \n",
       "...                                                 ...   \n",
       "6330  State Department says it can't find emails fro...   \n",
       "6331  The ‘P’ in PBS Should Stand for ‘Plutocratic’ ...   \n",
       "6332  Anti-Trump Protesters Are Tools of the Oligarc...   \n",
       "6333  In Ethiopia, Obama seeks progress on peace, se...   \n",
       "6334  Jeb Bush Is Suddenly Attacking Trump. Here's W...   \n",
       "\n",
       "                                                   text label  \n",
       "0     Daniel Greenfield, a Shillman Journalism Fello...  FAKE  \n",
       "1     Google Pinterest Digg Linkedin Reddit Stumbleu...  FAKE  \n",
       "2     U.S. Secretary of State John F. Kerry said Mon...  REAL  \n",
       "3     — Kaydee King (@KaydeeKing) November 9, 2016 T...  FAKE  \n",
       "4     It's primary day in New York and front-runners...  REAL  \n",
       "...                                                 ...   ...  \n",
       "6330  The State Department told the Republican Natio...  REAL  \n",
       "6331  The ‘P’ in PBS Should Stand for ‘Plutocratic’ ...  FAKE  \n",
       "6332   Anti-Trump Protesters Are Tools of the Oligar...  FAKE  \n",
       "6333  ADDIS ABABA, Ethiopia —President Obama convene...  REAL  \n",
       "6334  Jeb Bush Is Suddenly Attacking Trump. Here's W...  REAL  \n",
       "\n",
       "[5923 rows x 3 columns]"
      ]
     },
     "execution_count": 8,
     "metadata": {},
     "output_type": "execute_result"
    }
   ],
   "source": [
    "# get data\n",
    "if not os.path.exists('news.csv'):\n",
    "    !unzip 'news.csv.zip'\n",
    "df = pd.read_csv('news.csv')\n",
    "df = df.drop(columns=['Unnamed: 0'])\n",
    "df = df.drop_duplicates()\n",
    "print (len(df), len(pd.read_csv('news.csv')) - len(df))\n",
    "df, _ = strip_all_duplicates(df)\n",
    "df"
   ]
  },
  {
   "cell_type": "code",
   "execution_count": 9,
   "metadata": {
    "id": "8wWZQVq7nFu6"
   },
   "outputs": [],
   "source": [
    "real, fake = get_real_fake(df)\n",
    "\n",
    "real_train, real_val, real_test = split_df(real)\n",
    "fake_train, fake_val, fake_test = split_df(fake)\n",
    "\n",
    "# def split_by_author(df):\n",
    "#     # take counts grouped by author\n",
    "#     author = df.author.value_counts()\n",
    "#     # split authors into groups\n",
    "#     author_train, author_val, author_test = split_df(author)\n",
    "#     # split data by author group\n",
    "#     train = df[df.author.isin(author_train.index)].copy(deep=True)\n",
    "#     val   = df[df.author.isin(author_val.index)].copy(deep=True)\n",
    "#     test  = df[df.author.isin(author_test.index)].copy(deep=True)\n",
    "#     return train, val, test\n",
    "\n",
    "# real_train, real_val, real_test = split_by_author(real)\n",
    "# fake_train, fake_val, fake_test = split_by_author(fake)\n",
    "\n",
    "# real_author_counts = real.author.value_counts()\n",
    "# fake_author_counts = fake.author.value_counts()\n",
    "# mixed_authors = real_author_counts.index.intersection(fake_author_counts.index)\n",
    "# real_author_counts[mixed_authors], fake_author_counts[mixed_authors]"
   ]
  },
  {
   "cell_type": "code",
   "execution_count": 10,
   "metadata": {
    "colab": {
     "base_uri": "https://localhost:8080/"
    },
    "id": "R2TujNkAnFu6",
    "outputId": "3d4bdaff-321b-43a1-9385-1ed2d127c4d7",
    "scrolled": true
   },
   "outputs": [
    {
     "name": "stdout",
     "output_type": "stream",
     "text": [
      "2516 2517\n",
      "222 223\n",
      "222 223\n"
     ]
    }
   ],
   "source": [
    "train = concat_and_shuffle([real_train, fake_train])\n",
    "val   = concat_and_shuffle([real_val, fake_val])\n",
    "test  = concat_and_shuffle([real_test, fake_test])\n",
    "\n",
    "# Expected result of val_split. This is just to give us a\n",
    "# sense of the distribution of labels.\n",
    "def display_count(df):\n",
    "    print (len(df[df.label.isin([0, 'REAL'])]),\n",
    "           len(df[df.label.isin([1, 'FAKE'])]))\n",
    "display_count (train)\n",
    "display_count (val)\n",
    "display_count (test)"
   ]
  },
  {
   "cell_type": "code",
   "execution_count": 11,
   "metadata": {
    "id": "8jMIyCWCnFu6"
   },
   "outputs": [],
   "source": [
    "# def supertokenize(text):\n",
    "#     # e.g. split_by_case('ILoveNewYork') == ['I', 'Love', 'New', 'York']\n",
    "#     def split_by_case(s):\n",
    "#         if (not s[1:].isupper()) and (not s[1:].islower()):\n",
    "#             for i in range(1, len(s) - 1):\n",
    "#                 if s[i].isupper():\n",
    "#                     return [s[:i]] + split_by_case(s[i:])\n",
    "#                 elif s[i + 1].isupper():\n",
    "#                     return [s[:i + 1]] + split_by_case(s[i + 1:])\n",
    "#         return [s]\n",
    "#     text = re.sub(quantity_regex, QUANTITY, \n",
    "#                  re.sub(time_regex, DATETIME, \n",
    "#                         re.sub(date_regex, DATETIME, \n",
    "#                                re.sub(url_regex, URL, text))))\n",
    "#     text = text.replace('•', '')\n",
    "#     raw_tokens = nltk.word_tokenize(text)\n",
    "#     tokens = []\n",
    "#     for t in raw_tokens:\n",
    "#         if t in '!\"\\'(),--./:;<?[\\\\]{|}“”‘’—': continue\n",
    "#         if t.lower() != \"n't\": t = re.sub('[\\\"\\']', '', t)\n",
    "#         if (len(t) > 2) and (t.lower() == t) and (t[-1] == '.'): t = t[:-1]\n",
    "#         if t == URL:\n",
    "#             tokens.append (URL)\n",
    "#             continue\n",
    "#         if (t == DATETIME) or (re.sub('^\\d+(/\\d+)+$', '', t) == ''):\n",
    "#             tokens.append (DATETIME)\n",
    "#             continue\n",
    "#         if t == QUANTITY:\n",
    "#             tokens.append (QUANTITY)\n",
    "#             continue\n",
    "#         if t.isnumeric() or (t[:-2].isnumeric() and (\n",
    "#             t[-2:] in ['st', 'nd', 'rd', 'th'])):\n",
    "#             tokens.append (NUM)\n",
    "#             continue\n",
    "#         t = t.lower()\n",
    "#         if t in stopwords: continue\n",
    "#         if t in gn300:\n",
    "#             tokens.append (t)\n",
    "#         else:\n",
    "#             if t + '.' in gn300:\n",
    "#                 tokens.append (t + '.')\n",
    "#                 continue\n",
    "#             if t.replace('.', '') in gn300:\n",
    "#                 tokens.append (t.replace('.', ''))\n",
    "#                 continue\n",
    "#             is_found = False\n",
    "#             for x in split_by_case(re.sub('[^a-z]', '', t)):\n",
    "#                 if x in gn300:\n",
    "#                     tokens.append (x)\n",
    "#                     is_found = True\n",
    "#             if is_found: continue\n",
    "#             for st in re.split('-', re.sub('[^a-z0-9\\.~]', '-', t)):\n",
    "#                 for x in [st, st[:-1], st[1:], st.replace('s', 'z'), \n",
    "#                           st.replace('ou', 'o'), st.replace('re', 'er')]:\n",
    "#                     if x in gn300:\n",
    "#                         tokens.append (x)\n",
    "#                         is_found = True\n",
    "#                         break\n",
    "#             if not is_found: tokens.append (UNK)\n",
    "#     return tokens\n",
    "# TOKENIZE_FN = supertokenize\n",
    "# bert_tokenizer = BertTokenizer.from_pretrained('bert-base-uncased')\n",
    "# bert_tokenize = lambda txt: bert_tokenizer.decode(bert_tokenizer.encode(txt))\n",
    "# TOKENIZE_FN = bert_tokenize\n",
    "TOKENIZE_FN = nltk.word_tokenize"
   ]
  },
  {
   "cell_type": "code",
   "execution_count": 12,
   "metadata": {
    "id": "jm1e4rHZnFu7"
   },
   "outputs": [],
   "source": [
    "# this does tokenization as well as tracking token counts grouped by label\n",
    "def tokenize_and_update_word_counts(text, label, tokenize_fn):\n",
    "    global tc_real, tc_fake\n",
    "    tokens = tokenize_fn(text)\n",
    "    tc = Counter(tokens)\n",
    "    if label in [0, 'REAL']:\n",
    "        tc_fake += tc\n",
    "    elif label in [1, 'FAKE']:\n",
    "        tc_real += tc\n",
    "    else:\n",
    "        warnings.warn('Unexpected label %s'.format(label))\n",
    "    return tokens\n",
    "\n",
    "def TERM_FREQ_FN(a, b):\n",
    "    return abs(a - b) / np.sqrt(a + b)"
   ]
  },
  {
   "cell_type": "code",
   "execution_count": 13,
   "metadata": {
    "colab": {
     "base_uri": "https://localhost:8080/"
    },
    "id": "c0eT6JSFnFu7",
    "outputId": "102db3e9-ff63-4765-8e42-a91e39035ad7"
   },
   "outputs": [
    {
     "name": "stdout",
     "output_type": "stream",
     "text": [
      "CPU times: user 43.2 s, sys: 257 ms, total: 43.4 s\n",
      "Wall time: 43.4 s\n"
     ]
    },
    {
     "data": {
      "text/plain": [
       "(34808,\n",
       " [(\"''\", 97.7829389051427),\n",
       "  ('``', 96.31319114069542),\n",
       "  (\"'s\", 95.57467706163249),\n",
       "  ('said', 85.235463653618),\n",
       "  ('.', 80.94643585404079),\n",
       "  (',', 79.21328629016182),\n",
       "  ('he', 72.61887101094638),\n",
       "  ('a', 68.43106620918628),\n",
       "  ('the', 62.89938200692574),\n",
       "  ('his', 60.56906441510858)])"
      ]
     },
     "execution_count": 13,
     "metadata": {},
     "output_type": "execute_result"
    }
   ],
   "source": [
    "%%time\n",
    "\n",
    "tc_real = Counter()\n",
    "tc_fake = Counter()\n",
    "\n",
    "train['tokenized_title'] = train.apply(\n",
    "    lambda x, y: tokenize_and_update_word_counts(\n",
    "        x.title, x.label, y), axis=1, args=(TOKENIZE_FN,))\n",
    "train['tokenized_text'] = train.apply(\n",
    "    lambda x, y: tokenize_and_update_word_counts(\n",
    "        x.text, x.label, y), axis=1, args=(TOKENIZE_FN,))\n",
    "\n",
    "T = Counter()\n",
    "for k in tc_real + tc_fake:\n",
    "    T[k] = TERM_FREQ_FN(tc_real[k], tc_fake[k])\n",
    "\n",
    "thresh = T.most_common(25000)[-1][1]\n",
    "tokens = [k for k, v in T.items() if v >= thresh]\n",
    "\n",
    "vocab, i = {PAD: 0, URL: 1, DATETIME: 2, QUANTITY: 3, NUM: 4, UNK: 5}, 6\n",
    "for w in tokens:\n",
    "    if w in (PAD, URL, DATETIME, QUANTITY, NUM, UNK): continue\n",
    "    vocab[w] = i\n",
    "    i += 1\n",
    "id2word = {v: k for k, v in vocab.items()}\n",
    "\n",
    "i, T.most_common(10)"
   ]
  },
  {
   "cell_type": "code",
   "execution_count": 14,
   "metadata": {
    "colab": {
     "base_uri": "https://localhost:8080/"
    },
    "id": "IjPY5yx3nFu8",
    "outputId": "97e93897-879c-48db-96ab-5d78518e86d0"
   },
   "outputs": [
    {
     "name": "stdout",
     "output_type": "stream",
     "text": [
      "CPU times: user 5.58 s, sys: 37.8 ms, total: 5.62 s\n",
      "Wall time: 5.62 s\n"
     ]
    }
   ],
   "source": [
    "%%time\n",
    "val['tokenized_title']  = val.apply(lambda x: TOKENIZE_FN(x.title), axis=1)\n",
    "val['tokenized_text']   = val.apply(lambda x: TOKENIZE_FN(x.text), axis=1)\n",
    "test['tokenized_title'] = test.apply(lambda x: TOKENIZE_FN(x.title), axis=1)\n",
    "test['tokenized_text']  = test.apply(lambda x: TOKENIZE_FN(x.text), axis=1)"
   ]
  },
  {
   "cell_type": "code",
   "execution_count": 15,
   "metadata": {
    "id": "dUdbbIp8nFu8"
   },
   "outputs": [],
   "source": [
    "def clean(text,length):\n",
    "    f = [vocab[w] if w in vocab else vocab[UNK] for w in text]\n",
    "    f = f[:length]\n",
    "    return (length - len(f)) * [vocab[PAD]] + f\n",
    "train['text_as_ints']  = train.tokenized_text.apply(clean, args=[MAX_TEXT_LEN])\n",
    "train['title_as_ints'] = train.tokenized_text.apply(clean, args=[MAX_TITLE_LEN])\n",
    "val['text_as_ints']    = val.tokenized_text.apply(clean, args=[MAX_TEXT_LEN])\n",
    "val['title_as_ints']   = val.tokenized_text.apply(clean, args=[MAX_TITLE_LEN])\n",
    "test['text_as_ints']   = test.tokenized_text.apply(clean, args=[MAX_TEXT_LEN])\n",
    "test['title_as_ints']  = test.tokenized_text.apply(clean, args=[MAX_TITLE_LEN])"
   ]
  },
  {
   "cell_type": "code",
   "execution_count": 16,
   "metadata": {
    "id": "gZCNdIn-nFu8"
   },
   "outputs": [],
   "source": [
    "X_train = [np.array(train.text_as_ints.to_list()),\n",
    "           np.array(train.title_as_ints.to_list())]\n",
    "X_val   = [np.array(val.text_as_ints.to_list()),\n",
    "           np.array(val.title_as_ints.to_list())]\n",
    "X_test  = [np.array(test.text_as_ints.to_list()),\n",
    "           np.array(test.title_as_ints.to_list())]\n",
    "\n",
    "# binarize labels\n",
    "lb = preprocessing.LabelBinarizer()\n",
    "y_train = lb.fit_transform(train.label)\n",
    "y_val = lb.fit_transform(val.label)\n",
    "y_test = lb.fit_transform(test.label)\n",
    "\n",
    "# compute class weights based on training labels\n",
    "class_weights = class_weight.compute_class_weight(\n",
    "    'balanced', classes=[0, 1], y=[w for x in y_train for w in x])\n",
    "class_weights = {i: weight for i, weight in enumerate(class_weights)}"
   ]
  },
  {
   "cell_type": "code",
   "execution_count": 17,
   "metadata": {
    "colab": {
     "base_uri": "https://localhost:8080/"
    },
    "id": "Of9_Mx9rnFu8",
    "outputId": "aabf9700-df54-4833-ea05-001ba6bc7dd4"
   },
   "outputs": [],
   "source": [
    "def generate_embedding():\n",
    "    emb = np.zeros((len(vocab), EMBED_SIZE))\n",
    "    v = np.random.uniform(-1, 1, EMBED_SIZE)\n",
    "    for i in range(len(vocab)):\n",
    "        try:\n",
    "            g = gn300[id2word[i]]\n",
    "            emb[i] = g + v * np.linalg.norm(g) / np.linalg.norm(v)\n",
    "        except KeyError:\n",
    "            pass\n",
    "    return Embedding(input_dim=emb.shape[0],\n",
    "                     output_dim=emb.shape[1],\n",
    "                     weights=[emb],\n",
    "                     trainable=False)\n",
    "gru = lambda units: GRU(units, dropout=DROPOUT, recurrent_dropout=DROPOUT)\n",
    "mask = Lambda(lambda inputs: K.not_equal(inputs, 0))"
   ]
  },
  {
   "cell_type": "code",
   "execution_count": 18,
   "metadata": {
    "colab": {
     "base_uri": "https://localhost:8080/"
    },
    "id": "Of9_Mx9rnFu8",
    "outputId": "aabf9700-df54-4833-ea05-001ba6bc7dd4"
   },
   "outputs": [],
   "source": [
    "input_text = Input(shape=[None])\n",
    "emb_text = generate_embedding()(input_text)\n",
    "gru_text = Bidirectional(gru(TEXT_UNITS))(emb_text, mask=mask(input_text))\n",
    "\n",
    "input_title = Input(shape=[None])\n",
    "emb_title = generate_embedding()(input_title)\n",
    "gru_title = gru(TITLE_UNITS)(emb_title, mask=mask(input_title))\n",
    "\n",
    "concat = Concatenate()([gru_text, gru_title])\n",
    "output = Dense(1, activation='sigmoid')(concat)\n",
    "model = tf.keras.Model(inputs=[input_text, input_title], outputs=output)\n",
    "\n",
    "def run_model():\n",
    "    model.summary ()\n",
    "    model.compile (loss='binary_crossentropy',\n",
    "                   optimizer=optimizer,\n",
    "                   metrics='accuracy')\n",
    "    model.fit (X_train, y_train,\n",
    "               batch_size=BATCH_SIZE,\n",
    "               class_weight=class_weights,\n",
    "               validation_data=(X_val, y_val),\n",
    "               epochs=EPOCHS,\n",
    "               callbacks=[\n",
    "                   tf.keras.callbacks.ModelCheckpoint(\n",
    "                       filepath=checkpoint_filepath,\n",
    "                       monitor='val_accuracy',\n",
    "                       save_weights_only=True,\n",
    "                       save_best_only=True),\n",
    "                   tf.keras.callbacks.ReduceLROnPlateau(\n",
    "                       factor=PLATEAU_FACTOR,\n",
    "                       patience=2,\n",
    "                       cooldown=1,\n",
    "                       verbose=1)]\n",
    "    )\n",
    "    model.load_weights (checkpoint_filepath)"
   ]
  },
  {
   "cell_type": "code",
   "execution_count": 19,
   "metadata": {
    "colab": {
     "base_uri": "https://localhost:8080/"
    },
    "id": "Of9_Mx9rnFu8",
    "outputId": "aabf9700-df54-4833-ea05-001ba6bc7dd4"
   },
   "outputs": [
    {
     "name": "stdout",
     "output_type": "stream",
     "text": [
      "Model: \"functional_1\"\n",
      "__________________________________________________________________________________________________\n",
      "Layer (type)                    Output Shape         Param #     Connected to                     \n",
      "==================================================================================================\n",
      "input_1 (InputLayer)            [(None, None)]       0                                            \n",
      "__________________________________________________________________________________________________\n",
      "input_2 (InputLayer)            [(None, None)]       0                                            \n",
      "__________________________________________________________________________________________________\n",
      "embedding (Embedding)           (None, None, 300)    10442400    input_1[0][0]                    \n",
      "__________________________________________________________________________________________________\n",
      "lambda (Lambda)                 (None, None)         0           input_1[0][0]                    \n",
      "                                                                 input_2[0][0]                    \n",
      "__________________________________________________________________________________________________\n",
      "embedding_1 (Embedding)         (None, None, 300)    10442400    input_2[0][0]                    \n",
      "__________________________________________________________________________________________________\n",
      "bidirectional (Bidirectional)   (None, 128)          140544      embedding[0][0]                  \n",
      "                                                                 lambda[0][0]                     \n",
      "__________________________________________________________________________________________________\n",
      "gru_1 (GRU)                     (None, 5)            4605        embedding_1[0][0]                \n",
      "                                                                 lambda[1][0]                     \n",
      "__________________________________________________________________________________________________\n",
      "concatenate (Concatenate)       (None, 133)          0           bidirectional[0][0]              \n",
      "                                                                 gru_1[0][0]                      \n",
      "__________________________________________________________________________________________________\n",
      "dense (Dense)                   (None, 1)            134         concatenate[0][0]                \n",
      "==================================================================================================\n",
      "Total params: 21,030,083\n",
      "Trainable params: 145,283\n",
      "Non-trainable params: 20,884,800\n",
      "__________________________________________________________________________________________________\n",
      "Epoch 1/10\n",
      "158/158 [==============================] - 80s 506ms/step - loss: 0.4028 - accuracy: 0.8246 - val_loss: 0.3181 - val_accuracy: 0.8607\n",
      "Epoch 2/10\n",
      "158/158 [==============================] - 79s 500ms/step - loss: 0.2770 - accuracy: 0.8883 - val_loss: 0.2605 - val_accuracy: 0.9079\n",
      "Epoch 3/10\n",
      "158/158 [==============================] - 78s 495ms/step - loss: 0.2232 - accuracy: 0.9078 - val_loss: 0.9002 - val_accuracy: 0.6157\n",
      "Epoch 4/10\n",
      "158/158 [==============================] - 79s 498ms/step - loss: 0.1871 - accuracy: 0.9279 - val_loss: 0.2466 - val_accuracy: 0.8989\n",
      "Epoch 5/10\n",
      "158/158 [==============================] - 78s 493ms/step - loss: 0.1520 - accuracy: 0.9406 - val_loss: 0.1992 - val_accuracy: 0.9281\n",
      "Epoch 6/10\n",
      "158/158 [==============================] - 79s 497ms/step - loss: 0.1244 - accuracy: 0.9507 - val_loss: 0.2007 - val_accuracy: 0.9236\n",
      "Epoch 7/10\n",
      "158/158 [==============================] - 79s 498ms/step - loss: 0.1052 - accuracy: 0.9589 - val_loss: 0.1575 - val_accuracy: 0.9461\n",
      "Epoch 8/10\n",
      "158/158 [==============================] - 77s 486ms/step - loss: 0.0883 - accuracy: 0.9660 - val_loss: 0.1792 - val_accuracy: 0.9326\n",
      "Epoch 9/10\n",
      "158/158 [==============================] - ETA: 0s - loss: 0.0702 - accuracy: 0.9752\n",
      "Epoch 00009: ReduceLROnPlateau reducing learning rate to 0.0012600000598467886.\n",
      "158/158 [==============================] - 79s 502ms/step - loss: 0.0702 - accuracy: 0.9752 - val_loss: 0.1647 - val_accuracy: 0.9483\n",
      "Epoch 10/10\n",
      "158/158 [==============================] - 79s 500ms/step - loss: 0.0475 - accuracy: 0.9843 - val_loss: 0.2180 - val_accuracy: 0.9348\n"
     ]
    }
   ],
   "source": [
    "run_model ()"
   ]
  },
  {
   "cell_type": "code",
   "execution_count": 20,
   "metadata": {
    "colab": {
     "base_uri": "https://localhost:8080/"
    },
    "id": "Of9_Mx9rnFu8",
    "outputId": "aabf9700-df54-4833-ea05-001ba6bc7dd4",
    "scrolled": true
   },
   "outputs": [],
   "source": [
    "for i in range(len(model.layers)):\n",
    "    model.layers[i].trainable = True"
   ]
  },
  {
   "cell_type": "code",
   "execution_count": 21,
   "metadata": {
    "colab": {
     "base_uri": "https://localhost:8080/"
    },
    "id": "0imzn2gZnFu8",
    "outputId": "ef8d4c00-10dc-4e8d-938d-ca4424fe56cb"
   },
   "outputs": [
    {
     "name": "stdout",
     "output_type": "stream",
     "text": [
      "Model: \"functional_1\"\n",
      "__________________________________________________________________________________________________\n",
      "Layer (type)                    Output Shape         Param #     Connected to                     \n",
      "==================================================================================================\n",
      "input_1 (InputLayer)            [(None, None)]       0                                            \n",
      "__________________________________________________________________________________________________\n",
      "input_2 (InputLayer)            [(None, None)]       0                                            \n",
      "__________________________________________________________________________________________________\n",
      "embedding (Embedding)           (None, None, 300)    10442400    input_1[0][0]                    \n",
      "__________________________________________________________________________________________________\n",
      "lambda (Lambda)                 (None, None)         0           input_1[0][0]                    \n",
      "                                                                 input_2[0][0]                    \n",
      "__________________________________________________________________________________________________\n",
      "embedding_1 (Embedding)         (None, None, 300)    10442400    input_2[0][0]                    \n",
      "__________________________________________________________________________________________________\n",
      "bidirectional (Bidirectional)   (None, 128)          140544      embedding[0][0]                  \n",
      "                                                                 lambda[0][0]                     \n",
      "__________________________________________________________________________________________________\n",
      "gru_1 (GRU)                     (None, 5)            4605        embedding_1[0][0]                \n",
      "                                                                 lambda[1][0]                     \n",
      "__________________________________________________________________________________________________\n",
      "concatenate (Concatenate)       (None, 133)          0           bidirectional[0][0]              \n",
      "                                                                 gru_1[0][0]                      \n",
      "__________________________________________________________________________________________________\n",
      "dense (Dense)                   (None, 1)            134         concatenate[0][0]                \n",
      "==================================================================================================\n",
      "Total params: 21,030,083\n",
      "Trainable params: 21,030,083\n",
      "Non-trainable params: 0\n",
      "__________________________________________________________________________________________________\n",
      "Epoch 1/10\n",
      "158/158 [==============================] - 93s 589ms/step - loss: 0.0958 - accuracy: 0.9644 - val_loss: 0.1028 - val_accuracy: 0.9640\n",
      "Epoch 2/10\n",
      "158/158 [==============================] - 89s 565ms/step - loss: 0.0042 - accuracy: 0.9992 - val_loss: 0.0959 - val_accuracy: 0.9730\n",
      "Epoch 3/10\n",
      "158/158 [==============================] - 90s 571ms/step - loss: 7.2182e-04 - accuracy: 1.0000 - val_loss: 0.1010 - val_accuracy: 0.9730\n",
      "Epoch 4/10\n",
      "158/158 [==============================] - ETA: 0s - loss: 4.0496e-04 - accuracy: 1.0000\n",
      "Epoch 00004: ReduceLROnPlateau reducing learning rate to 0.0012600000598467886.\n",
      "158/158 [==============================] - 89s 563ms/step - loss: 4.0496e-04 - accuracy: 1.0000 - val_loss: 0.1072 - val_accuracy: 0.9730\n",
      "Epoch 5/10\n",
      "158/158 [==============================] - 88s 558ms/step - loss: 2.4659e-04 - accuracy: 1.0000 - val_loss: 0.1094 - val_accuracy: 0.9730\n",
      "Epoch 6/10\n",
      "158/158 [==============================] - ETA: 0s - loss: 2.0021e-04 - accuracy: 1.0000\n",
      "Epoch 00006: ReduceLROnPlateau reducing learning rate to 0.0007938000303693116.\n",
      "158/158 [==============================] - 88s 560ms/step - loss: 2.0021e-04 - accuracy: 1.0000 - val_loss: 0.1120 - val_accuracy: 0.9730\n",
      "Epoch 7/10\n",
      "158/158 [==============================] - 88s 556ms/step - loss: 1.7807e-04 - accuracy: 1.0000 - val_loss: 0.1141 - val_accuracy: 0.9730\n",
      "Epoch 8/10\n",
      "158/158 [==============================] - ETA: 0s - loss: 1.7310e-04 - accuracy: 1.0000\n",
      "Epoch 00008: ReduceLROnPlateau reducing learning rate to 0.0005000940308673307.\n",
      "158/158 [==============================] - 87s 550ms/step - loss: 1.7310e-04 - accuracy: 1.0000 - val_loss: 0.1159 - val_accuracy: 0.9730\n",
      "Epoch 9/10\n",
      "158/158 [==============================] - 88s 559ms/step - loss: 1.5868e-04 - accuracy: 1.0000 - val_loss: 0.1171 - val_accuracy: 0.9730\n",
      "Epoch 10/10\n",
      "158/158 [==============================] - ETA: 0s - loss: 1.4571e-04 - accuracy: 1.0000\n",
      "Epoch 00010: ReduceLROnPlateau reducing learning rate to 0.00031505923834629357.\n",
      "158/158 [==============================] - 87s 552ms/step - loss: 1.4571e-04 - accuracy: 1.0000 - val_loss: 0.1185 - val_accuracy: 0.9708\n"
     ]
    }
   ],
   "source": [
    "run_model ()"
   ]
  },
  {
   "cell_type": "code",
   "execution_count": 22,
   "metadata": {
    "colab": {
     "base_uri": "https://localhost:8080/"
    },
    "id": "p_IzFKCtnFu8",
    "outputId": "0c540303-58d4-44e2-9adb-671cd36bdc80",
    "scrolled": true
   },
   "outputs": [
    {
     "name": "stdout",
     "output_type": "stream",
     "text": [
      "14/14 [==============================] - 1s 65ms/step - loss: 0.0996 - accuracy: 0.9708\n",
      "0.941582838443825\n",
      "[[216   7]\n",
      " [  6 216]]\n",
      "[1] [0.00148377]\n"
     ]
    },
    {
     "data": {
      "text/plain": [
       "('DR. MANNY: Water crisis in Flint is just the tip of the iceberg',\n",
       " \"The water crisis in Flint, Mich., is just the tip of the iceberg – and if you think that it can’t happen in your community, you’re sadly mistaken. The aging water infrastructure in this country is deeply flawed. Many of the 150,000 public water systems that serve more than 300 million people are based on rusting, leaky pipes and decades-old plans that— if not corrected and replaced— will have devastating and long-lasting effects on our communities.\\n\\nThe disaster in Flint, which began in 2014 when the city switched its water supply from Detroit’s system to the Flint River in a cost-saving measure, is likely brewing in many other communities. It is inconceivable to me that in the most developed nation on the planet, we have exposed families and young children to the poisonous effects of lead. And it is almost criminal to me that water supply officials were unaware that the water pumping through a large American city was endangering the community. That level of negligence is beyond comprehension.\\n\\nThe dangerous, detrimental effects that lead can have on a developing brain and body are well-documented. In 1978, a largely successful campaign to remove lead from home paint products resulted in a new law, after it was found that small children could mistakenly eat paint chips and be exposed to lead poisoning. When it comes to levels of lead in water, no true amount is safe. However, in 1991 the Environmental Protection Agency (EPA) established an action level for lead in public drinking water at 15 micrograms per liter, and required water supplies to routinely test household tap water to check lead levels.\\n\\nThese laws and others were established to protect our citizens from both indirect and direct exposure to the harmful compound. A person can be directly exposed to lead by drinking contaminated water with unsafe levels, while indirect exposure can occur when a person inhales contaminated water particles through steam or vapors.\\n\\nOnce lead enters the human body, the heavy metal attaches itself to cells that can begin to build up in bones or major organs like the liver or kidneys. It disrupts the normal cellular biology of the organ and can lead to chronic diseases. However, the most dangerous damage lead poisoning can inflict is on the brain, especially in young or unborn children. If lead is deposited in a developing fetal brain, it can disrupt the normal function and cause irreversible damage. The same can happen in young children whose brains are still maturing.\\n\\nThe consequences can result in low IQ, severe delays in cognitive function, significant disruption in the memory center of the brain, learning disabilities and other neurological deficits. The devastating part of this diagnosis is that it is, for the most part, irreversible. Patients exposed to acute lead poisoning can be treated through chelation, which is a method used to filter out the lead. However, for children chronically exposed over a period of time, the damage cannot be undone.\\n\\nThis makes the preventable crisis in Flint all the more devastating.\\n\\nI read that the Obama administration is planning to pick Dr. Nicole Lurie to act as a “czar” and fix the crisis in Flint, but I urge her to look further than just Michigan. Lurie and others must start to seriously evaluate other areas of America where the people are most susceptible to a disaster such as this. The government failed the city of Flint, it must act now to protect the rest of us.\\n\\n\\n\\nDr. Manny Alvarez serves as Fox News Channel's senior managing health editor. He also serves as chairman of the department of obstetrics/gynecology and reproductive science at Hackensack University Medical Center in New Jersey. Click here for more information on Dr. Manny's work with Hackensack University Medical Center. Visit AskDrManny.com for more.\\n\\n\")"
      ]
     },
     "execution_count": 22,
     "metadata": {},
     "output_type": "execute_result"
    }
   ],
   "source": [
    "model.evaluate (X_test, y_test)\n",
    "\n",
    "logits = model.predict(X_test)\n",
    "y_pred = np.round(logits)\n",
    "\n",
    "print (matthews_corrcoef(y_test, y_pred))\n",
    "print (confusion_matrix(y_test, y_pred))\n",
    "\n",
    "most_off = np.argmax(np.abs(y_test - logits))\n",
    "print (y_test[most_off], logits[most_off])\n",
    "test.iloc[most_off].title, test.iloc[most_off].text"
   ]
  },
  {
   "cell_type": "code",
   "execution_count": 23,
   "metadata": {
    "id": "4uoimiYInFu8"
   },
   "outputs": [],
   "source": [
    "def get_reshaped_weights(model,layer_id):\n",
    "    W = np.array(model.layers[layer_id].get_weights())\n",
    "    W = W.reshape(W.shape[1], W.shape[2])\n",
    "    return W\n",
    "text_embed = get_reshaped_weights(model,2)\n",
    "title_embed = get_reshaped_weights(model,4)"
   ]
  },
  {
   "cell_type": "code",
   "execution_count": 24,
   "metadata": {
    "id": "hnpwuIgBnFu8"
   },
   "outputs": [
    {
     "name": "stderr",
     "output_type": "stream",
     "text": [
      "<ipython-input-24-f883d067f1c4>:8: RuntimeWarning: invalid value encountered in true_divide\n",
      "  cs = W.dot(b) / (np.linalg.norm(W, axis=1) * np.linalg.norm(b))\n",
      "<ipython-input-24-f883d067f1c4>:4: RuntimeWarning: invalid value encountered in greater_equal\n",
      "  n_ = np.sum(arr >= thresh)\n"
     ]
    },
    {
     "data": {
      "image/png": "[encoded data removed]",
      "text/plain": [
       "<Figure size 1080x1080 with 1 Axes>"
      ]
     },
     "metadata": {
      "needs_background": "light"
     },
     "output_type": "display_data"
    }
   ],
   "source": [
    "def get_top_n_plus_ties(arr, n):\n",
    "    sorted_args = np.argsort(-arr)\n",
    "    thresh = arr[sorted_args[n]]\n",
    "    n_ = np.sum(arr >= thresh)\n",
    "    return sorted_args[:n_]\n",
    "def get_most_similar(word, W, n):\n",
    "    b = W[vocab[word]]\n",
    "    cs = W.dot(b) / (np.linalg.norm(W, axis=1) * np.linalg.norm(b))\n",
    "    return get_top_n_plus_ties(cs, n)\n",
    "def create_words_plot(embed1, embed2, WORD, k=9):\n",
    "    ids1 = get_most_similar(WORD, embed1, k - 1)\n",
    "    ids2 = get_most_similar(WORD, embed2, k - 1)\n",
    "    words1 = [id2word[i] for i in ids1]\n",
    "    words2 = [id2word[i] for i in ids2]\n",
    "    v = TSNE(n_components=2, random_state=SEED).fit_transform(\n",
    "        np.concatenate([embed1[ids1], embed2[ids2]]))\n",
    "    plt.figure (figsize=(15,15))\n",
    "    plt.scatter (v[:k,0], v[:k, 1], facecolors='none', edgecolors='teal')\n",
    "    plt.scatter (v[k:,0], v[k:, 1], facecolors='none', edgecolors='red')\n",
    "    for i, word in enumerate(words1):\n",
    "        plt.annotate (word, (v[i, 0], v[i, 1]), size=9.5)\n",
    "        if word == WORD:\n",
    "            plt.scatter (v[i, 0], v[i, 1], c='teal', s=300)\n",
    "    for i, word in enumerate(words2):\n",
    "        plt.annotate (word, (v[i + k, 0], v[i + k, 1]), size=9.5)\n",
    "        if word == WORD:\n",
    "            plt.scatter (v[i + k, 0], v[i + k, 1], c='red', s=300)\n",
    "create_words_plot (text_embed, title_embed, 'headline')"
   ]
  }
 ],
 "metadata": {
  "accelerator": "GPU",
  "colab": {
   "collapsed_sections": [],
   "machine_shape": "hm",
   "name": "LSTM_BaseModel",
   "provenance": []
  },
  "kernelspec": {
   "display_name": "Python 3",
   "language": "python",
   "name": "python3"
  },
  "language_info": {
   "codemirror_mode": {
    "name": "ipython",
    "version": 3
   },
   "file_extension": ".py",
   "mimetype": "text/x-python",
   "name": "python",
   "nbconvert_exporter": "python",
   "pygments_lexer": "ipython3",
   "version": "3.8.3"
  }
 },
 "nbformat": 4,
 "nbformat_minor": 1
}
