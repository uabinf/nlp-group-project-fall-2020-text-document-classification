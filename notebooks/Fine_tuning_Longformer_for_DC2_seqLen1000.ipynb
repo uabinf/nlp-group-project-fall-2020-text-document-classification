{
 "cells": [
  {
   "cell_type": "markdown",
   "metadata": {
    "id": "PGnlRWvkY-2c"
   },
   "source": [
    "# Fine tuning SOTA models (Longformer) from Hugging Face for Document Classification"
   ]
  },
  {
   "cell_type": "markdown",
   "metadata": {
    "id": "DoYXezcig-12"
   },
   "source": [
    "In this project, we will try to apply the transfer learning technique for NLP task. We will fine tune [BERT](https://arxiv.org/abs/1810.04805) and [RoBERTa](https://arxiv.org/abs/1907.11692) to do text/document classification. Most of the content are taken from [post1](https://curiousily.com/posts/sentiment-analysis-with-bert-and-hugging-face-using-pytorch-and-python/) and [post2](https://medium.com/@armandj.olivares/using-bert-for-classifying-documents-with-long-texts-5c3e7b04573d). In addition, we attempt to make it as general as possible that it can be used for any similar models (thanks to the Transformers library from [hugging face](https://huggingface.co/)) with any dataset by doing just some miner changes. \n",
    "\n",
    "In addition, we tried to overcome the limitation of the 512-sequence length of BERT and RoBERTa by using [Longformer](https://arxiv.org/abs/2004.05150) and [RoBERT](https://arxiv.org/abs/1910.10781). It stands for Recurrence over BERT where each ocument is segmented into smaller text and feed each of them to BERT. Then we extract the representation of each text chunk from (pooled_output) and feed the combined representation of each document to LSTM to classify long documents. We will see if this improve the results or overfit the data. We mainly used **python, Transformers, Pytorch, Sklearn**"
   ]
  },
  {
   "cell_type": "markdown",
   "metadata": {
    "id": "ANw7mbDV4OEL"
   },
   "source": [
    "## Result Summary\n",
    "\n",
    "- Accuracy =  100%\n",
    "- MCC = 100.00\n"
   ]
  },
  {
   "cell_type": "markdown",
   "metadata": {
    "id": "wmj22-TcZMef"
   },
   "source": [
    "## Setup\n"
   ]
  },
  {
   "cell_type": "code",
   "execution_count": 1,
   "metadata": {
    "id": "GWI4K6f1IU1-"
   },
   "outputs": [],
   "source": [
    "# !pip install -qq -r requirements.txt"
   ]
  },
  {
   "cell_type": "code",
   "execution_count": 2,
   "metadata": {
    "colab": {
     "base_uri": "https://localhost:8080/"
    },
    "id": "Jjsbi1u3QFEM",
    "outputId": "c6eaf508-1bdc-4c3a-9d20-94226898cf08"
   },
   "outputs": [],
   "source": [
    "!pip install -qq transformers"
   ]
  },
  {
   "cell_type": "code",
   "execution_count": 3,
   "metadata": {
    "id": "s55RRhok3ZOM"
   },
   "outputs": [],
   "source": [
    "# watermark: \"An IPython magic extension for printing date and time stamps, version numbers, and hardware information.\"\n",
    "\n",
    "# %reload_ext watermark\n",
    "# %watermark -v -p numpy,pandas,torch,transformers,seaborn,nltk,sklearn,tensorflow"
   ]
  },
  {
   "cell_type": "code",
   "execution_count": 4,
   "metadata": {
    "id": "w68CZpOwFoly"
   },
   "outputs": [],
   "source": [
    "import transformers\n",
    "import torch\n",
    "\n",
    "import numpy as np\n",
    "import pandas as pd\n",
    "import seaborn as sns\n",
    "from pylab import rcParams\n",
    "import matplotlib.pyplot as plt\n",
    "from sklearn.model_selection import train_test_split\n",
    "from sklearn.metrics import confusion_matrix, classification_report\n",
    "from collections import defaultdict\n",
    "from textwrap import wrap\n",
    "\n",
    "from torch import nn\n",
    "from torch.utils.data import Dataset, DataLoader\n",
    "import torch.nn.functional as F\n",
    "from datetime import datetime\n",
    "\n",
    "\n",
    "%matplotlib inline\n",
    "%config InlineBackend.figure_format='retina'\n",
    "\n",
    "sns.set(style='whitegrid', palette='muted', font_scale=1.2)\n",
    "rcParams['figure.figsize'] = 10, 6\n"
   ]
  },
  {
   "cell_type": "markdown",
   "metadata": {
    "id": "ufzPdoTtNikq"
   },
   "source": [
    "## Config"
   ]
  },
  {
   "cell_type": "markdown",
   "metadata": {
    "id": "SOCghdQKD7Kb"
   },
   "source": [
    "We configured this project so we can evaluate different pretrained models with minor changes. All our hyper-parameters are in this section. If you want to use another dataset, check the preprocessing section."
   ]
  },
  {
   "cell_type": "code",
   "execution_count": 5,
   "metadata": {
    "colab": {
     "base_uri": "https://localhost:8080/",
     "height": 215,
     "referenced_widgets": [
      "a834209ab98e48428e442c89b17f20a9",
      "02e52337522649fba4acafdd3bb48d15",
      "797feab0584f4aebb685959b5cec0948",
      "769be68f18ab41e3bf76127a46b51a4b",
      "cd26d2f9c8164a15913b039ddfb1c297",
      "7bbc384d112246e7a356dcc4da3c9095",
      "d34daa0f83334cd995b24c1d326a4a7f",
      "e9475e0fb3964405a343e317c1fcfc68",
      "3894396ba4be433c89624983b15a1fcd",
      "491e8208c07546bf834104f3c6a747ac",
      "8c6b726955a34ea4b5ee74b5aca83f41",
      "b34e938dff9b44b297f6e43140286fb0",
      "72d273e1a8844727b08d85bb5bc8ebdc",
      "30f96bb80fc644859339f6a141347b50",
      "289337ff60d9425fae543ec1926d79bc",
      "0eb678388f4a48b68d697d8bd975386e",
      "7a3fac45c4b84870949bc1771b8a16d3",
      "6d1d0d8fe98f49baac41a9e44dfd1fe5",
      "c544840559dc497481bf69482c46b513",
      "a8c2360953a7433caff973eac9c0bd32",
      "27d651bf0ccf4ddf97ba235772efd720",
      "a417c5343fe74913b591959c6d63e1e7",
      "47a03ca16b284c3096772500431bc17b",
      "018443cbebba4d929e43661ce32af716",
      "09b6acad202d4014b577fae09586af49",
      "4466cb3910564ddba2035771113d18e0",
      "7e688912efc547e698e351a1c6e15573",
      "0f91407b0d1347fabaa74c2de44a932c",
      "749c5808e9c0447da55addccb73b9e5c",
      "01ec1b4a28b04e6bab20efa7d35025a5",
      "f84b1321438c448c9e62cf9770a37f70",
      "63aba7938d72414aa5f396a3e983cf65"
     ]
    },
    "id": "9cUYftrdJfwE",
    "outputId": "20e19b80-92aa-4cad-93e2-9e1963a5171e"
   },
   "outputs": [],
   "source": [
    "# MAX_LEN = 768\n",
    "MAX_LEN = 1000\n",
    "BATCH_SIZE = 4\n",
    "EPOCHS = 3\n",
    "LEARNING_RATE = 2e-5\n",
    "\n",
    "\"\"\"BERT Model and Tokenizer\"\"\"\n",
    "# PRE_TRAINED_MODEL = 'bert-base_cased'\n",
    "# TOKENIZER = transformers.BertTokenizer.from_pretrained(PRE_TRAINED_MODEL)\n",
    "# PT_MODEL = transformers.BertModel.from_pretrained(PRE_TRAINED_MODEL)\n",
    "\n",
    "\"\"\"RoBERTa Model and Tokenizer\"\"\"\n",
    "# PRE_TRAINED_MODEL = 'roberta-base'\n",
    "# TOKENIZER = transformers.RobertaTokenizer.from_pretrained(PRE_TRAINED_MODEL)\n",
    "# PT_MODEL = transformers.RobertaModel.from_pretrained(PRE_TRAINED_MODEL)\n",
    "\n",
    "\"\"\"Longformer Model and Tokenizer\"\"\"\n",
    "PRE_TRAINED_MODEL = 'allenai/longformer-base-4096'\n",
    "PT_MODEL = transformers.LongformerModel.from_pretrained(PRE_TRAINED_MODEL)\n",
    "TOKENIZER = transformers.LongformerTokenizer.from_pretrained(PRE_TRAINED_MODEL)"
   ]
  },
  {
   "cell_type": "code",
   "execution_count": 6,
   "metadata": {
    "colab": {
     "base_uri": "https://localhost:8080/"
    },
    "id": "Tc_k9oHMMmpf",
    "outputId": "c36ba0a6-7ee4-491c-f150-b7aafa5ae951"
   },
   "outputs": [
    {
     "data": {
      "text/plain": [
       "device(type='cuda', index=0)"
      ]
     },
     "execution_count": 6,
     "metadata": {},
     "output_type": "execute_result"
    }
   ],
   "source": [
    "RANDOM_SEED = 42\n",
    "np.random.seed(RANDOM_SEED)\n",
    "torch.manual_seed(RANDOM_SEED)\n",
    "device = torch.device(\"cuda:0\" if torch.cuda.is_available() else \"cpu\")\n",
    "device"
   ]
  },
  {
   "cell_type": "markdown",
   "metadata": {
    "id": "9aHyGuTFgyPO"
   },
   "source": [
    "## Data Preprocessing\n",
    "\n"
   ]
  },
  {
   "cell_type": "markdown",
   "metadata": {
    "id": "mvkSDqO_G7XK"
   },
   "source": [
    "If you use a deferent dataset and reading it as a panda's dataframe, just change the column header that accommodate the content to 'text' and the target column to 'label. Code is provided below."
   ]
  },
  {
   "cell_type": "code",
   "execution_count": 7,
   "metadata": {
    "colab": {
     "base_uri": "https://localhost:8080/",
     "height": 203
    },
    "id": "mUKLyKc7I6Qp",
    "outputId": "41f43023-c8df-494c-d6e4-fcc73c90bedd"
   },
   "outputs": [
    {
     "data": {
      "text/html": [
       "<div>\n",
       "<style scoped>\n",
       "    .dataframe tbody tr th:only-of-type {\n",
       "        vertical-align: middle;\n",
       "    }\n",
       "\n",
       "    .dataframe tbody tr th {\n",
       "        vertical-align: top;\n",
       "    }\n",
       "\n",
       "    .dataframe thead th {\n",
       "        text-align: right;\n",
       "    }\n",
       "</style>\n",
       "<table border=\"1\" class=\"dataframe\">\n",
       "  <thead>\n",
       "    <tr style=\"text-align: right;\">\n",
       "      <th></th>\n",
       "      <th>Unnamed: 0</th>\n",
       "      <th>title</th>\n",
       "      <th>text</th>\n",
       "      <th>label</th>\n",
       "    </tr>\n",
       "  </thead>\n",
       "  <tbody>\n",
       "    <tr>\n",
       "      <th>0</th>\n",
       "      <td>8308</td>\n",
       "      <td>Italy Plucks 2,000 Migrants from the Mediterra...</td>\n",
       "      <td>ROME (AP)  —   Italian rescue ships have pluck...</td>\n",
       "      <td>REAL</td>\n",
       "    </tr>\n",
       "    <tr>\n",
       "      <th>1</th>\n",
       "      <td>2765</td>\n",
       "      <td>The most unqualified media personalities on TV...</td>\n",
       "      <td>Monday, November 14, 2016 7:38 AM EST Media pe...</td>\n",
       "      <td>FAKE</td>\n",
       "    </tr>\n",
       "    <tr>\n",
       "      <th>2</th>\n",
       "      <td>20123</td>\n",
       "      <td>Rigging the Election – Video IV: Democrat Oper...</td>\n",
       "      <td>Rigging the Election – Video IV: Democrat Oper...</td>\n",
       "      <td>FAKE</td>\n",
       "    </tr>\n",
       "    <tr>\n",
       "      <th>3</th>\n",
       "      <td>2669</td>\n",
       "      <td>Will Hillary Select Her Own Prosecutors?</td>\n",
       "      <td>By Bill Sardi November 1, 2016 Journalist Carl...</td>\n",
       "      <td>FAKE</td>\n",
       "    </tr>\n",
       "    <tr>\n",
       "      <th>4</th>\n",
       "      <td>4408</td>\n",
       "      <td>Debate: Washington's Syria policy</td>\n",
       "      <td>The Debate Washington's Syria policy \\nIn this...</td>\n",
       "      <td>FAKE</td>\n",
       "    </tr>\n",
       "  </tbody>\n",
       "</table>\n",
       "</div>"
      ],
      "text/plain": [
       "   Unnamed: 0                                              title  \\\n",
       "0        8308  Italy Plucks 2,000 Migrants from the Mediterra...   \n",
       "1        2765  The most unqualified media personalities on TV...   \n",
       "2       20123  Rigging the Election – Video IV: Democrat Oper...   \n",
       "3        2669           Will Hillary Select Her Own Prosecutors?   \n",
       "4        4408                  Debate: Washington's Syria policy   \n",
       "\n",
       "                                                text label  \n",
       "0  ROME (AP)  —   Italian rescue ships have pluck...  REAL  \n",
       "1  Monday, November 14, 2016 7:38 AM EST Media pe...  FAKE  \n",
       "2  Rigging the Election – Video IV: Democrat Oper...  FAKE  \n",
       "3  By Bill Sardi November 1, 2016 Journalist Carl...  FAKE  \n",
       "4  The Debate Washington's Syria policy \\nIn this...  FAKE  "
      ]
     },
     "execution_count": 7,
     "metadata": {},
     "output_type": "execute_result"
    }
   ],
   "source": [
    "df = pd.read_csv('../inputs/news_data_groomed.csv')\n",
    "df.head()"
   ]
  },
  {
   "cell_type": "code",
   "execution_count": 8,
   "metadata": {
    "id": "TrEsclUgUMyy"
   },
   "outputs": [],
   "source": [
    "# df = df.rename(columns = {'Content':'text', 'Category':'label'})"
   ]
  },
  {
   "cell_type": "code",
   "execution_count": 9,
   "metadata": {},
   "outputs": [],
   "source": [
    "# \"\"\" Remove duplicates from the data\"\"\"\n",
    "\n",
    "# # df = df.drop(columns=['Unnamed: 0', 'title'])\n",
    "# df = df.drop_duplicates(subset = ['text', 'label'])\n",
    "# print(len(pd.read_csv('news.csv')) - len(df))"
   ]
  },
  {
   "cell_type": "code",
   "execution_count": 10,
   "metadata": {
    "colab": {
     "base_uri": "https://localhost:8080/"
    },
    "id": "FdJjDo4EUM3O",
    "outputId": "7100bc11-65ac-4325-ccaf-402261a92f89"
   },
   "outputs": [
    {
     "data": {
      "text/plain": [
       "array(['FAKE', 'REAL'], dtype=object)"
      ]
     },
     "execution_count": 10,
     "metadata": {},
     "output_type": "execute_result"
    }
   ],
   "source": [
    "classes = np.unique(df.label)\n",
    "classes"
   ]
  },
  {
   "cell_type": "code",
   "execution_count": 11,
   "metadata": {
    "colab": {
     "base_uri": "https://localhost:8080/",
     "height": 141
    },
    "id": "wtLxXQaWUM8q",
    "outputId": "92e6109b-195a-410b-ea66-489ce14b3186"
   },
   "outputs": [
    {
     "data": {
      "text/html": [
       "<div>\n",
       "<style scoped>\n",
       "    .dataframe tbody tr th:only-of-type {\n",
       "        vertical-align: middle;\n",
       "    }\n",
       "\n",
       "    .dataframe tbody tr th {\n",
       "        vertical-align: top;\n",
       "    }\n",
       "\n",
       "    .dataframe thead th {\n",
       "        text-align: right;\n",
       "    }\n",
       "</style>\n",
       "<table border=\"1\" class=\"dataframe\">\n",
       "  <thead>\n",
       "    <tr style=\"text-align: right;\">\n",
       "      <th></th>\n",
       "      <th>Unnamed: 0</th>\n",
       "      <th>title</th>\n",
       "      <th>text</th>\n",
       "      <th>label</th>\n",
       "    </tr>\n",
       "  </thead>\n",
       "  <tbody>\n",
       "    <tr>\n",
       "      <th>0</th>\n",
       "      <td>8308</td>\n",
       "      <td>Italy Plucks 2,000 Migrants from the Mediterra...</td>\n",
       "      <td>ROME (AP)  —   Italian rescue ships have pluck...</td>\n",
       "      <td>1</td>\n",
       "    </tr>\n",
       "    <tr>\n",
       "      <th>1</th>\n",
       "      <td>2765</td>\n",
       "      <td>The most unqualified media personalities on TV...</td>\n",
       "      <td>Monday, November 14, 2016 7:38 AM EST Media pe...</td>\n",
       "      <td>0</td>\n",
       "    </tr>\n",
       "    <tr>\n",
       "      <th>2</th>\n",
       "      <td>20123</td>\n",
       "      <td>Rigging the Election – Video IV: Democrat Oper...</td>\n",
       "      <td>Rigging the Election – Video IV: Democrat Oper...</td>\n",
       "      <td>0</td>\n",
       "    </tr>\n",
       "  </tbody>\n",
       "</table>\n",
       "</div>"
      ],
      "text/plain": [
       "   Unnamed: 0                                              title  \\\n",
       "0        8308  Italy Plucks 2,000 Migrants from the Mediterra...   \n",
       "1        2765  The most unqualified media personalities on TV...   \n",
       "2       20123  Rigging the Election – Video IV: Democrat Oper...   \n",
       "\n",
       "                                                text  label  \n",
       "0  ROME (AP)  —   Italian rescue ships have pluck...      1  \n",
       "1  Monday, November 14, 2016 7:38 AM EST Media pe...      0  \n",
       "2  Rigging the Election – Video IV: Democrat Oper...      0  "
      ]
     },
     "execution_count": 11,
     "metadata": {},
     "output_type": "execute_result"
    }
   ],
   "source": [
    "# Label encoding to the target feature\n",
    "from sklearn.preprocessing import LabelEncoder\n",
    "le = LabelEncoder()\n",
    "df.label = le.fit_transform(df.label)\n",
    "df.head(3)"
   ]
  },
  {
   "cell_type": "code",
   "execution_count": 12,
   "metadata": {
    "colab": {
     "base_uri": "https://localhost:8080/"
    },
    "id": "CrNUcTdUUVPg",
    "outputId": "96b6da9c-356b-4af2-c8d3-311a7f220305"
   },
   "outputs": [
    {
     "data": {
      "text/plain": [
       "array(['FAKE', 'REAL'], dtype=object)"
      ]
     },
     "execution_count": 12,
     "metadata": {},
     "output_type": "execute_result"
    }
   ],
   "source": [
    "CLASS_NAMES = np.unique(le.inverse_transform(df.label))\n",
    "CLASS_NAMES"
   ]
  },
  {
   "cell_type": "code",
   "execution_count": 13,
   "metadata": {
    "colab": {
     "base_uri": "https://localhost:8080/"
    },
    "id": "dB2jE6am7Dpo",
    "outputId": "fea708c3-9976-403f-8c8e-4ca235208c8e"
   },
   "outputs": [
    {
     "data": {
      "text/plain": [
       "(25059, 4)"
      ]
     },
     "execution_count": 13,
     "metadata": {},
     "output_type": "execute_result"
    }
   ],
   "source": [
    "df.shape"
   ]
  },
  {
   "cell_type": "markdown",
   "metadata": {
    "id": "4aw5JdQgetaJ"
   },
   "source": [
    "## PyTorch Dataset and DataLoader"
   ]
  },
  {
   "cell_type": "code",
   "execution_count": 14,
   "metadata": {
    "id": "E2BPgRJ7YBK0"
   },
   "outputs": [],
   "source": [
    "\"\"\"\n",
    "This class is an extension from torch Dataset class to be able to use the standard pytorch\n",
    "DataLoader framework to train, validatem and test the model. Here, we used the encode_plus method \n",
    "to the hugging face tokenizer. It will do all the tokenization and preprocessing (add <CLS> and <SEP>, \n",
    "pad or truncate the text to a max length) and return a dictionary with the token_ids and attention_mask. \n",
    "This class will also return the actual text and the true label to help evaluate the model, later.\n",
    "\"\"\"\n",
    "class NewsDataset(Dataset):\n",
    "\n",
    "    def __init__(self, news_texts, labels, tokenizer, max_len):\n",
    "        self.news_texts = news_texts\n",
    "        self.labels = labels\n",
    "        self.tokenizer = tokenizer\n",
    "        self.max_len = max_len\n",
    "    \n",
    "    def __len__(self):\n",
    "        return len(self.news_texts)\n",
    "    \n",
    "    def __getitem__(self, item):\n",
    "        news_text_str = str(self.news_texts[item])\n",
    "        label = self.labels[item]\n",
    "\n",
    "        encoding = self.tokenizer.encode_plus(\n",
    "        # encoding = self.tokenizer(\n",
    "          news_text_str,\n",
    "          add_special_tokens=True,\n",
    "          max_length=self.max_len,\n",
    "          return_token_type_ids=False,\n",
    "          # pad_to_max_length=True,\n",
    "          padding='max_length',\n",
    "          truncation=True,\n",
    "          return_attention_mask=True,\n",
    "          return_tensors='pt')\n",
    "\n",
    "        return {\n",
    "          'news_text_str': news_text_str,\n",
    "          'input_ids': encoding['input_ids'].flatten(),\n",
    "          'attention_mask': encoding['attention_mask'].flatten(),\n",
    "          'labels': torch.tensor(label, dtype=torch.long)}"
   ]
  },
  {
   "cell_type": "markdown",
   "metadata": {
    "id": "x2uwsvCYqDJK"
   },
   "source": [
    "The tokenizer is doing most of the heavy lifting for us. We also return the review texts, so it'll be easier to evaluate the predictions from our model."
   ]
  },
  {
   "cell_type": "code",
   "execution_count": 15,
   "metadata": {
    "colab": {
     "base_uri": "https://localhost:8080/"
    },
    "id": "B-vWzoo81dvO",
    "outputId": "7dc7982a-d215-4580-d02c-7906b8cc714d"
   },
   "outputs": [
    {
     "data": {
      "text/plain": [
       "((21300, 4), (1879, 4), (1880, 4))"
      ]
     },
     "execution_count": 15,
     "metadata": {},
     "output_type": "execute_result"
    }
   ],
   "source": [
    "df_train, df_test = train_test_split(df, test_size=0.15, random_state=RANDOM_SEED)\n",
    "df_val, df_test = train_test_split(df_test, test_size=0.5, random_state=RANDOM_SEED)\n",
    "\n",
    "df_train.shape, df_val.shape, df_test.shape"
   ]
  },
  {
   "cell_type": "code",
   "execution_count": 16,
   "metadata": {
    "id": "KEGqcvkuOuTX"
   },
   "outputs": [],
   "source": [
    "\"\"\"\n",
    "This is a helper function to prepare the dataset and rap it to the pytorch DataLoader\n",
    "\"\"\"\n",
    "def create_data_loader(df, tokenizer, max_len, batch_size):\n",
    "    dataset = NewsDataset(\n",
    "        news_texts=df.text.to_numpy(),\n",
    "        labels=df.label.to_numpy(),\n",
    "        tokenizer=tokenizer,\n",
    "        max_len=max_len)\n",
    "\n",
    "    return DataLoader(\n",
    "        dataset,\n",
    "        batch_size=batch_size,\n",
    "        num_workers=4)"
   ]
  },
  {
   "cell_type": "code",
   "execution_count": 17,
   "metadata": {
    "id": "vODDxMKsPHqI"
   },
   "outputs": [],
   "source": [
    "train_data_loader = create_data_loader(df_train, TOKENIZER, MAX_LEN, BATCH_SIZE)\n",
    "val_data_loader = create_data_loader(df_val, TOKENIZER, MAX_LEN, BATCH_SIZE)\n",
    "test_data_loader = create_data_loader(df_test, TOKENIZER, MAX_LEN, BATCH_SIZE)"
   ]
  },
  {
   "cell_type": "markdown",
   "metadata": {
    "id": "A6dlOptwqlhF"
   },
   "source": [
    "Let's have a look at an example batch from the training data loader:"
   ]
  },
  {
   "cell_type": "code",
   "execution_count": 18,
   "metadata": {
    "colab": {
     "base_uri": "https://localhost:8080/"
    },
    "id": "Y93ldSN47FeT",
    "outputId": "d4d55303-9c12-43d8-9abd-b7911706977b"
   },
   "outputs": [
    {
     "data": {
      "text/plain": [
       "dict_keys(['news_Text', 'input_ids', 'attention_mask', 'labels'])"
      ]
     },
     "execution_count": 18,
     "metadata": {},
     "output_type": "execute_result"
    }
   ],
   "source": [
    "data = next(iter(train_data_loader))\n",
    "data.keys()"
   ]
  },
  {
   "cell_type": "code",
   "execution_count": 19,
   "metadata": {
    "colab": {
     "base_uri": "https://localhost:8080/"
    },
    "id": "IdU4YVqb7N8M",
    "outputId": "2f87010c-d39e-41d2-ca99-3813768724c1"
   },
   "outputs": [
    {
     "name": "stdout",
     "output_type": "stream",
     "text": [
      "torch.Size([4, 1000])\n",
      "torch.Size([4, 1000])\n",
      "torch.Size([4])\n"
     ]
    }
   ],
   "source": [
    "print(data['input_ids'].shape)\n",
    "print(data['attention_mask'].shape)\n",
    "print(data['labels'].shape)"
   ]
  },
  {
   "cell_type": "markdown",
   "metadata": {
    "id": "H63Y-TjyRC7S"
   },
   "source": [
    "## The Classification Model"
   ]
  },
  {
   "cell_type": "markdown",
   "metadata": {
    "id": "440Nd31VTHER"
   },
   "source": [
    "There are a lot of helpers that make using BERT easy with the Transformers library. For this task, we will use the basic [BertModel](https://huggingface.co/transformers/model_doc/bert.html#bertmodel) and build our classifier on top of it.\n",
    "\n",
    "The `last_hidden_state`, which we will not use here since we do classification, is a sequence of hidden states of the last layer of the model. Obtaining the `pooled_output`, what we need, is done by applying the [BertPooler](https://github.com/huggingface/transformers/blob/edf0582c0be87b60f94f41c659ea779876efc7be/src/transformers/modeling_bert.py#L426) on `last_hidden_state`:"
   ]
  },
  {
   "cell_type": "code",
   "execution_count": 20,
   "metadata": {
    "id": "m_mRflxPl32F"
   },
   "outputs": [],
   "source": [
    "\"\"\"\n",
    "This classifier take the input from BertModel last layer (after pooling) and use \n",
    "a dropout layer for some regularization and a fully-connected layer for our \n",
    "classification output. Note that we're returning the raw output of the last layer \n",
    "since it is required for the cross-entropy loss function in PyTorch.\n",
    "\n",
    "last_hidden_state shape: [1, batch_size, model_last_hidden_state]\n",
    "pooled_output shape: [1, model_last_hidden_state] \n",
    "\"\"\"\n",
    "class NewsClassifier(nn.Module):\n",
    "\n",
    "    def __init__(self, n_classes):\n",
    "        super(NewsClassifier, self).__init__()\n",
    "        self.pretrained_model = PT_MODEL\n",
    "        self.drop = nn.Dropout(p=0.3)\n",
    "        self.out = nn.Linear(self.pretrained_model.config.hidden_size, n_classes)\n",
    "    \n",
    "    def forward(self, input_ids, attention_mask):\n",
    "        _, pooled_output = self.pretrained_model(input_ids=input_ids, attention_mask=attention_mask)\n",
    "        output = self.drop(pooled_output)\n",
    "        \n",
    "        return self.out(output)"
   ]
  },
  {
   "cell_type": "markdown",
   "metadata": {
    "id": "UJg8m3NQJahc"
   },
   "source": [
    "\n",
    "This should work like any other PyTorch model. Let's create an instance and move it to the GPU:"
   ]
  },
  {
   "cell_type": "code",
   "execution_count": 21,
   "metadata": {
    "id": "i0yQnuSFsjDp"
   },
   "outputs": [],
   "source": [
    "model = NewsClassifier(len(CLASS_NAMES))\n",
    "model = model.to(device)"
   ]
  },
  {
   "cell_type": "markdown",
   "metadata": {
    "id": "VCPCFDLlKIQd"
   },
   "source": [
    "We'll move the example batch of our training data to the GPU:"
   ]
  },
  {
   "cell_type": "code",
   "execution_count": 22,
   "metadata": {
    "colab": {
     "base_uri": "https://localhost:8080/"
    },
    "id": "mz7p__CqdaMO",
    "outputId": "7a1ea9da-9d39-42de-b78c-c8101af1329c"
   },
   "outputs": [
    {
     "name": "stdout",
     "output_type": "stream",
     "text": [
      "torch.Size([4, 1000])\n",
      "torch.Size([4, 1000])\n"
     ]
    }
   ],
   "source": [
    "input_ids = data['input_ids'].to(device)\n",
    "attention_mask = data['attention_mask'].to(device)\n",
    "\n",
    "print(input_ids.shape) # [batch size , seq length]\n",
    "print(attention_mask.shape) # [batch size , seq length]"
   ]
  },
  {
   "cell_type": "markdown",
   "metadata": {
    "id": "Hr1EgkEtKOIB"
   },
   "source": [
    "To get the predicted probabilities from our trained model, we'll apply the softmax function to the outputs:"
   ]
  },
  {
   "cell_type": "code",
   "execution_count": 23,
   "metadata": {
    "id": "2rTCj46Zamry"
   },
   "outputs": [
    {
     "data": {
      "text/plain": [
       "'\\nTo get an idea of out model output, we can use it on the first batch that we extracted \\nfrom the train_data_loader and apply the SoftMax since we do classification. This \\nwill give us the probability of each class for each instance in this batch\\n'"
      ]
     },
     "execution_count": 23,
     "metadata": {},
     "output_type": "execute_result"
    }
   ],
   "source": [
    "\"\"\"\n",
    "To get an idea of out model output, we can use it on the first batch that we extracted \n",
    "from the train_data_loader and apply the SoftMax since we do classification. This \n",
    "will give us the probability of each class for each instance in this batch\n",
    "\"\"\"\n",
    "# F.softmax(model(input_ids, attention_mask), dim=1)"
   ]
  },
  {
   "cell_type": "markdown",
   "metadata": {
    "id": "g9xikRdtRN1N"
   },
   "source": [
    "### Training the model"
   ]
  },
  {
   "cell_type": "markdown",
   "metadata": {
    "id": "76g7FV85H-T8"
   },
   "source": [
    "For optimization, we'll use the [AdamW](https://huggingface.co/transformers/main_classes/optimizer_schedules.html#adamw) optimizer provided by Hugging Face. We'll also use a linear scheduler with no warmup steps:"
   ]
  },
  {
   "cell_type": "code",
   "execution_count": 24,
   "metadata": {
    "id": "5v-ArJ2fCCcU"
   },
   "outputs": [],
   "source": [
    "optimizer = transformers.AdamW(model.parameters(), lr=LEARNING_RATE, correct_bias=False)\n",
    "total_steps = len(train_data_loader) * EPOCHS\n",
    "\n",
    "scheduler = transformers.get_linear_schedule_with_warmup(\n",
    "    optimizer,\n",
    "    num_warmup_steps=0,\n",
    "    num_training_steps=total_steps)\n",
    "\n",
    "# We are doing classification. We can directly use CrossEntropyLoss from torch\n",
    "loss_fn = nn.CrossEntropyLoss().to(device)"
   ]
  },
  {
   "cell_type": "markdown",
   "metadata": {
    "id": "A8522g7JIu5J"
   },
   "source": [
    "\n",
    "Let's continue with writing a helper function for training our model for one epoch:"
   ]
  },
  {
   "cell_type": "code",
   "execution_count": 25,
   "metadata": {
    "id": "bzl9UhuNx1_Q"
   },
   "outputs": [],
   "source": [
    "\"\"\"\n",
    "This is a helper function that for each epoch it go through all the training data,\n",
    "do the backpropagation and optimization, and finally return the average accuracy \n",
    "and loss for that epoch.\n",
    "\"\"\"\n",
    "def train_epoch(\n",
    "    model, \n",
    "    data_loader, \n",
    "    loss_fn, \n",
    "    optimizer, \n",
    "    device, \n",
    "    scheduler, \n",
    "    n_examples\n",
    "  ):\n",
    "    model = model.train()\n",
    "\n",
    "    losses = []\n",
    "    correct_predictions = 0\n",
    "    \n",
    "    for i, d in enumerate(data_loader):\n",
    "        if (i > 0) and (i % 25 == 0):\n",
    "            print(f'{i} / {len(data_loader)}')\n",
    "            \n",
    "        input_ids = d[\"input_ids\"].to(device)\n",
    "        attention_mask = d[\"attention_mask\"].to(device)\n",
    "        labels = d[\"labels\"].to(device)\n",
    "\n",
    "        outputs = model(\n",
    "          input_ids=input_ids,\n",
    "          attention_mask=attention_mask)\n",
    "\n",
    "        _, preds = torch.max(outputs, dim=1)\n",
    "        loss = loss_fn(outputs, labels)\n",
    "\n",
    "        correct_predictions += torch.sum(preds == labels)\n",
    "        losses.append(loss.item())\n",
    "\n",
    "        loss.backward()\n",
    "        nn.utils.clip_grad_norm_(model.parameters(), max_norm=1.0)\n",
    "        optimizer.step()\n",
    "        scheduler.step()\n",
    "        optimizer.zero_grad()\n",
    "\n",
    "    return correct_predictions.double() / n_examples, np.mean(losses)"
   ]
  },
  {
   "cell_type": "markdown",
   "metadata": {
    "id": "E4PniYIte0fr"
   },
   "source": [
    "Training the model should look familiar, except for two things. The scheduler gets called every time a batch is fed to the model. We're avoiding exploding gradients by clipping the gradients of the model using [clip_grad_norm_](https://pytorch.org/docs/stable/nn.html#clip-grad-norm).\n",
    "\n"
   ]
  },
  {
   "cell_type": "code",
   "execution_count": 26,
   "metadata": {
    "id": "CXeRorVGIKre"
   },
   "outputs": [],
   "source": [
    "\"\"\"\n",
    "This is another helper function to evaluate the model on a given data loader.\n",
    "It's going to used after each epoch\n",
    "\"\"\"\n",
    "\n",
    "def eval_model(model, data_loader, loss_fn, device, n_examples):\n",
    "    model = model.eval()\n",
    "\n",
    "    losses = []\n",
    "    correct_predictions = 0\n",
    "\n",
    "    with torch.no_grad():\n",
    "        for d in data_loader:\n",
    "            input_ids = d[\"input_ids\"].to(device)\n",
    "            attention_mask = d[\"attention_mask\"].to(device)\n",
    "            labels = d[\"labels\"].to(device)\n",
    "\n",
    "            outputs = model(\n",
    "                input_ids=input_ids,\n",
    "                attention_mask=attention_mask)\n",
    "            \n",
    "            _, preds = torch.max(outputs, dim=1)\n",
    "\n",
    "            loss = loss_fn(outputs, labels)\n",
    "\n",
    "            correct_predictions += torch.sum(preds == labels)\n",
    "            losses.append(loss.item())\n",
    "\n",
    "    return correct_predictions.double() / n_examples, np.mean(losses)"
   ]
  },
  {
   "cell_type": "markdown",
   "metadata": {
    "id": "a_rdSDBHhhCh"
   },
   "source": [
    "Using the previous two function, we will write our training loop. We'll also store the training history (similar to Scikit-Learn Library)"
   ]
  },
  {
   "cell_type": "code",
   "execution_count": 27,
   "metadata": {
    "colab": {
     "base_uri": "https://localhost:8080/"
    },
    "id": "1zhHoFNsxufs",
    "outputId": "3441c545-c3c6-4eff-8212-1196926186ca",
    "scrolled": true
   },
   "outputs": [
    {
     "name": "stdout",
     "output_type": "stream",
     "text": [
      "Training Epoch 1/3\n",
      "********************\n",
      "25 / 5325\n",
      "50 / 5325\n",
      "75 / 5325\n",
      "100 / 5325\n",
      "125 / 5325\n",
      "150 / 5325\n",
      "175 / 5325\n",
      "200 / 5325\n",
      "225 / 5325\n",
      "250 / 5325\n",
      "275 / 5325\n",
      "300 / 5325\n",
      "325 / 5325\n",
      "350 / 5325\n",
      "375 / 5325\n",
      "400 / 5325\n",
      "425 / 5325\n",
      "450 / 5325\n",
      "475 / 5325\n",
      "500 / 5325\n",
      "525 / 5325\n",
      "550 / 5325\n",
      "575 / 5325\n",
      "600 / 5325\n",
      "625 / 5325\n",
      "650 / 5325\n",
      "675 / 5325\n",
      "700 / 5325\n",
      "725 / 5325\n",
      "750 / 5325\n",
      "775 / 5325\n",
      "800 / 5325\n",
      "825 / 5325\n",
      "850 / 5325\n",
      "875 / 5325\n",
      "900 / 5325\n",
      "925 / 5325\n",
      "950 / 5325\n",
      "975 / 5325\n",
      "1000 / 5325\n",
      "1025 / 5325\n",
      "1050 / 5325\n",
      "1075 / 5325\n",
      "1100 / 5325\n",
      "1125 / 5325\n",
      "1150 / 5325\n",
      "1175 / 5325\n",
      "1200 / 5325\n",
      "1225 / 5325\n",
      "1250 / 5325\n",
      "1275 / 5325\n",
      "1300 / 5325\n",
      "1325 / 5325\n",
      "1350 / 5325\n",
      "1375 / 5325\n",
      "1400 / 5325\n",
      "1425 / 5325\n",
      "1450 / 5325\n",
      "1475 / 5325\n",
      "1500 / 5325\n",
      "1525 / 5325\n",
      "1550 / 5325\n",
      "1575 / 5325\n",
      "1600 / 5325\n",
      "1625 / 5325\n",
      "1650 / 5325\n",
      "1675 / 5325\n",
      "1700 / 5325\n",
      "1725 / 5325\n",
      "1750 / 5325\n",
      "1775 / 5325\n",
      "1800 / 5325\n",
      "1825 / 5325\n",
      "1850 / 5325\n",
      "1875 / 5325\n",
      "1900 / 5325\n",
      "1925 / 5325\n",
      "1950 / 5325\n",
      "1975 / 5325\n",
      "2000 / 5325\n",
      "2025 / 5325\n",
      "2050 / 5325\n",
      "2075 / 5325\n",
      "2100 / 5325\n",
      "2125 / 5325\n",
      "2150 / 5325\n",
      "2175 / 5325\n",
      "2200 / 5325\n",
      "2225 / 5325\n",
      "2250 / 5325\n",
      "2275 / 5325\n",
      "2300 / 5325\n",
      "2325 / 5325\n",
      "2350 / 5325\n",
      "2375 / 5325\n",
      "2400 / 5325\n",
      "2425 / 5325\n",
      "2450 / 5325\n",
      "2475 / 5325\n",
      "2500 / 5325\n",
      "2525 / 5325\n",
      "2550 / 5325\n",
      "2575 / 5325\n",
      "2600 / 5325\n",
      "2625 / 5325\n",
      "2650 / 5325\n",
      "2675 / 5325\n",
      "2700 / 5325\n",
      "2725 / 5325\n",
      "2750 / 5325\n",
      "2775 / 5325\n",
      "2800 / 5325\n",
      "2825 / 5325\n",
      "2850 / 5325\n",
      "2875 / 5325\n",
      "2900 / 5325\n",
      "2925 / 5325\n",
      "2950 / 5325\n",
      "2975 / 5325\n",
      "3000 / 5325\n",
      "3025 / 5325\n",
      "3050 / 5325\n",
      "3075 / 5325\n",
      "3100 / 5325\n",
      "3125 / 5325\n",
      "3150 / 5325\n",
      "3175 / 5325\n",
      "3200 / 5325\n",
      "3225 / 5325\n",
      "3250 / 5325\n",
      "3275 / 5325\n",
      "3300 / 5325\n",
      "3325 / 5325\n",
      "3350 / 5325\n",
      "3375 / 5325\n",
      "3400 / 5325\n",
      "3425 / 5325\n",
      "3450 / 5325\n",
      "3475 / 5325\n",
      "3500 / 5325\n",
      "3525 / 5325\n",
      "3550 / 5325\n",
      "3575 / 5325\n",
      "3600 / 5325\n",
      "3625 / 5325\n",
      "3650 / 5325\n",
      "3675 / 5325\n",
      "3700 / 5325\n",
      "3725 / 5325\n",
      "3750 / 5325\n",
      "3775 / 5325\n",
      "3800 / 5325\n",
      "3825 / 5325\n",
      "3850 / 5325\n",
      "3875 / 5325\n",
      "3900 / 5325\n",
      "3925 / 5325\n",
      "3950 / 5325\n",
      "3975 / 5325\n",
      "4000 / 5325\n",
      "4025 / 5325\n",
      "4050 / 5325\n",
      "4075 / 5325\n",
      "4100 / 5325\n",
      "4125 / 5325\n",
      "4150 / 5325\n",
      "4175 / 5325\n",
      "4200 / 5325\n",
      "4225 / 5325\n",
      "4250 / 5325\n",
      "4275 / 5325\n",
      "4300 / 5325\n",
      "4325 / 5325\n",
      "4350 / 5325\n",
      "4375 / 5325\n",
      "4400 / 5325\n",
      "4425 / 5325\n",
      "4450 / 5325\n",
      "4475 / 5325\n",
      "4500 / 5325\n",
      "4525 / 5325\n",
      "4550 / 5325\n",
      "4575 / 5325\n",
      "4600 / 5325\n",
      "4625 / 5325\n",
      "4650 / 5325\n",
      "4675 / 5325\n",
      "4700 / 5325\n",
      "4725 / 5325\n",
      "4750 / 5325\n",
      "4775 / 5325\n",
      "4800 / 5325\n",
      "4825 / 5325\n",
      "4850 / 5325\n",
      "4875 / 5325\n",
      "4900 / 5325\n",
      "4925 / 5325\n",
      "4950 / 5325\n",
      "4975 / 5325\n",
      "5000 / 5325\n",
      "5025 / 5325\n",
      "5050 / 5325\n",
      "5075 / 5325\n",
      "5100 / 5325\n",
      "5125 / 5325\n",
      "5150 / 5325\n",
      "5175 / 5325\n",
      "5200 / 5325\n",
      "5225 / 5325\n",
      "5250 / 5325\n",
      "5275 / 5325\n",
      "5300 / 5325\n",
      "Train loss 0.04731886341641201  ---  Train accuracy 0.9891079812206572\n",
      "Val  loss 0.01658151067054434   ---   Val  accuracy 0.9968068121341138\n",
      "------------------------------------------------------------\n",
      "\n",
      "This epoch took time  1:27:14.593310\n",
      "\n",
      "Training Epoch 2/3\n",
      "********************\n",
      "25 / 5325\n",
      "50 / 5325\n",
      "75 / 5325\n",
      "100 / 5325\n",
      "125 / 5325\n",
      "150 / 5325\n",
      "175 / 5325\n",
      "200 / 5325\n",
      "225 / 5325\n",
      "250 / 5325\n",
      "275 / 5325\n",
      "300 / 5325\n",
      "325 / 5325\n",
      "350 / 5325\n",
      "375 / 5325\n",
      "400 / 5325\n",
      "425 / 5325\n",
      "450 / 5325\n",
      "475 / 5325\n",
      "500 / 5325\n",
      "525 / 5325\n",
      "550 / 5325\n",
      "575 / 5325\n",
      "600 / 5325\n",
      "625 / 5325\n",
      "650 / 5325\n",
      "675 / 5325\n",
      "700 / 5325\n",
      "725 / 5325\n",
      "750 / 5325\n",
      "775 / 5325\n",
      "800 / 5325\n",
      "825 / 5325\n",
      "850 / 5325\n",
      "875 / 5325\n",
      "900 / 5325\n",
      "925 / 5325\n",
      "950 / 5325\n",
      "975 / 5325\n",
      "1000 / 5325\n",
      "1025 / 5325\n",
      "1050 / 5325\n",
      "1075 / 5325\n",
      "1100 / 5325\n",
      "1125 / 5325\n",
      "1150 / 5325\n",
      "1175 / 5325\n",
      "1200 / 5325\n",
      "1225 / 5325\n",
      "1250 / 5325\n",
      "1275 / 5325\n",
      "1300 / 5325\n",
      "1325 / 5325\n",
      "1350 / 5325\n",
      "1375 / 5325\n",
      "1400 / 5325\n",
      "1425 / 5325\n",
      "1450 / 5325\n",
      "1475 / 5325\n",
      "1500 / 5325\n",
      "1525 / 5325\n",
      "1550 / 5325\n",
      "1575 / 5325\n",
      "1600 / 5325\n",
      "1625 / 5325\n",
      "1650 / 5325\n",
      "1675 / 5325\n",
      "1700 / 5325\n",
      "1725 / 5325\n",
      "1750 / 5325\n",
      "1775 / 5325\n",
      "1800 / 5325\n",
      "1825 / 5325\n",
      "1850 / 5325\n",
      "1875 / 5325\n",
      "1900 / 5325\n",
      "1925 / 5325\n",
      "1950 / 5325\n",
      "1975 / 5325\n",
      "2000 / 5325\n",
      "2025 / 5325\n",
      "2050 / 5325\n",
      "2075 / 5325\n",
      "2100 / 5325\n",
      "2125 / 5325\n",
      "2150 / 5325\n",
      "2175 / 5325\n",
      "2200 / 5325\n",
      "2225 / 5325\n",
      "2250 / 5325\n",
      "2275 / 5325\n",
      "2300 / 5325\n",
      "2325 / 5325\n",
      "2350 / 5325\n",
      "2375 / 5325\n",
      "2400 / 5325\n",
      "2425 / 5325\n",
      "2450 / 5325\n",
      "2475 / 5325\n",
      "2500 / 5325\n",
      "2525 / 5325\n",
      "2550 / 5325\n",
      "2575 / 5325\n",
      "2600 / 5325\n",
      "2625 / 5325\n",
      "2650 / 5325\n",
      "2675 / 5325\n",
      "2700 / 5325\n",
      "2725 / 5325\n",
      "2750 / 5325\n",
      "2775 / 5325\n",
      "2800 / 5325\n",
      "2825 / 5325\n",
      "2850 / 5325\n",
      "2875 / 5325\n",
      "2900 / 5325\n",
      "2925 / 5325\n",
      "2950 / 5325\n",
      "2975 / 5325\n",
      "3000 / 5325\n",
      "3025 / 5325\n",
      "3050 / 5325\n",
      "3075 / 5325\n",
      "3100 / 5325\n",
      "3125 / 5325\n",
      "3150 / 5325\n",
      "3175 / 5325\n",
      "3200 / 5325\n",
      "3225 / 5325\n",
      "3250 / 5325\n",
      "3275 / 5325\n",
      "3300 / 5325\n",
      "3325 / 5325\n",
      "3350 / 5325\n",
      "3375 / 5325\n",
      "3400 / 5325\n",
      "3425 / 5325\n",
      "3450 / 5325\n",
      "3475 / 5325\n",
      "3500 / 5325\n",
      "3525 / 5325\n",
      "3550 / 5325\n",
      "3575 / 5325\n",
      "3600 / 5325\n",
      "3625 / 5325\n",
      "3650 / 5325\n",
      "3675 / 5325\n",
      "3700 / 5325\n",
      "3725 / 5325\n",
      "3750 / 5325\n",
      "3775 / 5325\n",
      "3800 / 5325\n",
      "3825 / 5325\n",
      "3850 / 5325\n",
      "3875 / 5325\n",
      "3900 / 5325\n",
      "3925 / 5325\n",
      "3950 / 5325\n",
      "3975 / 5325\n",
      "4000 / 5325\n",
      "4025 / 5325\n",
      "4050 / 5325\n",
      "4075 / 5325\n",
      "4100 / 5325\n",
      "4125 / 5325\n",
      "4150 / 5325\n",
      "4175 / 5325\n",
      "4200 / 5325\n",
      "4225 / 5325\n",
      "4250 / 5325\n",
      "4275 / 5325\n",
      "4300 / 5325\n",
      "4325 / 5325\n",
      "4350 / 5325\n",
      "4375 / 5325\n",
      "4400 / 5325\n",
      "4425 / 5325\n",
      "4450 / 5325\n",
      "4475 / 5325\n",
      "4500 / 5325\n",
      "4525 / 5325\n",
      "4550 / 5325\n",
      "4575 / 5325\n",
      "4600 / 5325\n",
      "4625 / 5325\n",
      "4650 / 5325\n",
      "4675 / 5325\n",
      "4700 / 5325\n",
      "4725 / 5325\n",
      "4750 / 5325\n",
      "4775 / 5325\n",
      "4800 / 5325\n",
      "4825 / 5325\n",
      "4850 / 5325\n",
      "4875 / 5325\n",
      "4900 / 5325\n",
      "4925 / 5325\n",
      "4950 / 5325\n",
      "4975 / 5325\n",
      "5000 / 5325\n",
      "5025 / 5325\n",
      "5050 / 5325\n",
      "5075 / 5325\n",
      "5100 / 5325\n",
      "5125 / 5325\n",
      "5150 / 5325\n",
      "5175 / 5325\n",
      "5200 / 5325\n",
      "5225 / 5325\n",
      "5250 / 5325\n",
      "5275 / 5325\n",
      "5300 / 5325\n",
      "Train loss 0.009931229227773302  ---  Train accuracy 0.9982159624413146\n",
      "Val  loss 0.005635979508125961   ---   Val  accuracy 0.9989356040447046\n",
      "------------------------------------------------------------\n",
      "\n",
      "This epoch took time  1:27:09.775350\n",
      "\n",
      "Training Epoch 3/3\n",
      "********************\n",
      "25 / 5325\n",
      "50 / 5325\n",
      "75 / 5325\n",
      "100 / 5325\n",
      "125 / 5325\n",
      "150 / 5325\n",
      "175 / 5325\n",
      "200 / 5325\n",
      "225 / 5325\n",
      "250 / 5325\n",
      "275 / 5325\n",
      "300 / 5325\n",
      "325 / 5325\n",
      "350 / 5325\n",
      "375 / 5325\n",
      "400 / 5325\n",
      "425 / 5325\n",
      "450 / 5325\n",
      "475 / 5325\n",
      "500 / 5325\n",
      "525 / 5325\n",
      "550 / 5325\n",
      "575 / 5325\n",
      "600 / 5325\n",
      "625 / 5325\n",
      "650 / 5325\n",
      "675 / 5325\n",
      "700 / 5325\n",
      "725 / 5325\n",
      "750 / 5325\n",
      "775 / 5325\n",
      "800 / 5325\n",
      "825 / 5325\n",
      "850 / 5325\n",
      "875 / 5325\n",
      "900 / 5325\n",
      "925 / 5325\n",
      "950 / 5325\n",
      "975 / 5325\n",
      "1000 / 5325\n",
      "1025 / 5325\n",
      "1050 / 5325\n",
      "1075 / 5325\n",
      "1100 / 5325\n",
      "1125 / 5325\n",
      "1150 / 5325\n",
      "1175 / 5325\n",
      "1200 / 5325\n",
      "1225 / 5325\n",
      "1250 / 5325\n",
      "1275 / 5325\n",
      "1300 / 5325\n",
      "1325 / 5325\n",
      "1350 / 5325\n",
      "1375 / 5325\n",
      "1400 / 5325\n",
      "1425 / 5325\n",
      "1450 / 5325\n",
      "1475 / 5325\n",
      "1500 / 5325\n",
      "1525 / 5325\n",
      "1550 / 5325\n",
      "1575 / 5325\n",
      "1600 / 5325\n",
      "1625 / 5325\n",
      "1650 / 5325\n",
      "1675 / 5325\n",
      "1700 / 5325\n",
      "1725 / 5325\n",
      "1750 / 5325\n",
      "1775 / 5325\n",
      "1800 / 5325\n",
      "1825 / 5325\n",
      "1850 / 5325\n",
      "1875 / 5325\n",
      "1900 / 5325\n",
      "1925 / 5325\n",
      "1950 / 5325\n",
      "1975 / 5325\n",
      "2000 / 5325\n",
      "2025 / 5325\n",
      "2050 / 5325\n",
      "2075 / 5325\n",
      "2100 / 5325\n",
      "2125 / 5325\n",
      "2150 / 5325\n",
      "2175 / 5325\n",
      "2200 / 5325\n",
      "2225 / 5325\n",
      "2250 / 5325\n",
      "2275 / 5325\n",
      "2300 / 5325\n",
      "2325 / 5325\n",
      "2350 / 5325\n",
      "2375 / 5325\n",
      "2400 / 5325\n",
      "2425 / 5325\n",
      "2450 / 5325\n",
      "2475 / 5325\n",
      "2500 / 5325\n",
      "2525 / 5325\n",
      "2550 / 5325\n",
      "2575 / 5325\n",
      "2600 / 5325\n",
      "2625 / 5325\n",
      "2650 / 5325\n",
      "2675 / 5325\n",
      "2700 / 5325\n",
      "2725 / 5325\n",
      "2750 / 5325\n",
      "2775 / 5325\n",
      "2800 / 5325\n",
      "2825 / 5325\n",
      "2850 / 5325\n",
      "2875 / 5325\n",
      "2900 / 5325\n",
      "2925 / 5325\n",
      "2950 / 5325\n",
      "2975 / 5325\n",
      "3000 / 5325\n",
      "3025 / 5325\n",
      "3050 / 5325\n",
      "3075 / 5325\n",
      "3100 / 5325\n",
      "3125 / 5325\n",
      "3150 / 5325\n",
      "3175 / 5325\n",
      "3200 / 5325\n",
      "3225 / 5325\n",
      "3250 / 5325\n",
      "3275 / 5325\n",
      "3300 / 5325\n",
      "3325 / 5325\n",
      "3350 / 5325\n",
      "3375 / 5325\n",
      "3400 / 5325\n",
      "3425 / 5325\n",
      "3450 / 5325\n",
      "3475 / 5325\n",
      "3500 / 5325\n",
      "3525 / 5325\n",
      "3550 / 5325\n",
      "3575 / 5325\n",
      "3600 / 5325\n",
      "3625 / 5325\n",
      "3650 / 5325\n",
      "3675 / 5325\n",
      "3700 / 5325\n",
      "3725 / 5325\n",
      "3750 / 5325\n",
      "3775 / 5325\n",
      "3800 / 5325\n",
      "3825 / 5325\n",
      "3850 / 5325\n",
      "3875 / 5325\n",
      "3900 / 5325\n",
      "3925 / 5325\n",
      "3950 / 5325\n",
      "3975 / 5325\n",
      "4000 / 5325\n",
      "4025 / 5325\n",
      "4050 / 5325\n",
      "4075 / 5325\n",
      "4100 / 5325\n",
      "4125 / 5325\n",
      "4150 / 5325\n",
      "4175 / 5325\n",
      "4200 / 5325\n",
      "4225 / 5325\n",
      "4250 / 5325\n",
      "4275 / 5325\n",
      "4300 / 5325\n",
      "4325 / 5325\n",
      "4350 / 5325\n",
      "4375 / 5325\n",
      "4400 / 5325\n",
      "4425 / 5325\n",
      "4450 / 5325\n",
      "4475 / 5325\n",
      "4500 / 5325\n",
      "4525 / 5325\n",
      "4550 / 5325\n",
      "4575 / 5325\n",
      "4600 / 5325\n",
      "4625 / 5325\n",
      "4650 / 5325\n",
      "4675 / 5325\n",
      "4700 / 5325\n",
      "4725 / 5325\n",
      "4750 / 5325\n",
      "4775 / 5325\n",
      "4800 / 5325\n",
      "4825 / 5325\n",
      "4850 / 5325\n",
      "4875 / 5325\n",
      "4900 / 5325\n",
      "4925 / 5325\n",
      "4950 / 5325\n",
      "4975 / 5325\n",
      "5000 / 5325\n",
      "5025 / 5325\n",
      "5050 / 5325\n",
      "5075 / 5325\n",
      "5100 / 5325\n",
      "5125 / 5325\n",
      "5150 / 5325\n",
      "5175 / 5325\n",
      "5200 / 5325\n",
      "5225 / 5325\n",
      "5250 / 5325\n",
      "5275 / 5325\n",
      "5300 / 5325\n",
      "Train loss 0.0026836083239074253  ---  Train accuracy 0.9996713615023475\n",
      "Val  loss 0.01064535295482925   ---   Val  accuracy 0.9989356040447046\n",
      "------------------------------------------------------------\n",
      "\n",
      "This epoch took time  1:27:12.897239\n",
      "\n"
     ]
    },
    {
     "name": "stdout",
     "output_type": "stream",
     "text": [
      "CPU times: user 2h 44min 48s, sys: 1h 26min 17s, total: 4h 11min 6s\n",
      "Wall time: 4h 21min 49s\n"
     ]
    }
   ],
   "source": [
    "%%time\n",
    "\n",
    "history = defaultdict(list)\n",
    "best_accuracy = 0\n",
    "train_accuracy = 0\n",
    "\n",
    "for epoch in range(EPOCHS):\n",
    "    current_time = datetime.now()\n",
    "    print(f'Training Epoch {epoch + 1}/{EPOCHS}')\n",
    "    print('*' * 20)\n",
    "\n",
    "    train_acc, train_loss = train_epoch(\n",
    "        model,\n",
    "        train_data_loader,    \n",
    "        loss_fn, \n",
    "        optimizer, \n",
    "        device, \n",
    "        scheduler, \n",
    "        len(df_train))\n",
    "\n",
    "    print(f'Train loss {train_loss}  ---  Train accuracy {train_acc}')\n",
    "\n",
    "    val_acc, val_loss = eval_model(\n",
    "        model,\n",
    "        val_data_loader,\n",
    "        loss_fn, \n",
    "        device, \n",
    "        len(df_val))\n",
    "\n",
    "    print(f'Val  loss {val_loss}   ---   Val  accuracy {val_acc}')\n",
    "    print('-' * 60)\n",
    "    print()\n",
    "\n",
    "    print(\"This epoch took time \", datetime.now() - current_time)\n",
    "    print()\n",
    "\n",
    "    history['train_acc'].append(train_acc)\n",
    "    history['train_loss'].append(train_loss)\n",
    "    history['val_acc'].append(val_acc)\n",
    "    history['val_loss'].append(val_loss)\n",
    "\n",
    "    # Storing the state of the best model, indicated by the highest training and validation accuracy.\n",
    "    if train_acc > train_accuracy and val_acc >= best_accuracy:\n",
    "        torch.save(model.state_dict(), '../models/' + 'longformer2-base-4096_' + str(MAX_LEN) + '_best_model.bin')\n",
    "        train_accuracy = train_acc\n",
    "        best_accuracy = val_acc"
   ]
  },
  {
   "cell_type": "code",
   "execution_count": 28,
   "metadata": {
    "colab": {
     "base_uri": "https://localhost:8080/",
     "height": 415
    },
    "id": "qHNQgoYupywU",
    "outputId": "a46073fb-2b5c-4d17-ce8b-cd658270694d"
   },
   "outputs": [
    {
     "data": {
      "image/png": "[encoded data removed]",
      "text/plain": [
       "<Figure size 720x432 with 1 Axes>"
      ]
     },
     "metadata": {
      "image/png": {
       "height": 398,
       "width": 620
      }
     },
     "output_type": "display_data"
    }
   ],
   "source": [
    "# We can look at the training vs validation losses\n",
    "\n",
    "plt.plot(history['train_loss'], label='train loss')\n",
    "plt.plot(history['val_loss'], label='validation loss')\n",
    "\n",
    "plt.title('Training history')\n",
    "plt.ylabel('loss')\n",
    "plt.xlabel('Epoch')\n",
    "plt.legend()\n",
    "plt.ylim([0, 1]);"
   ]
  },
  {
   "cell_type": "code",
   "execution_count": 29,
   "metadata": {
    "colab": {
     "base_uri": "https://localhost:8080/",
     "height": 415
    },
    "id": "-FWG7kBm372V",
    "outputId": "293b7af8-c447-4f8a-fb6d-e0b098a5ef08"
   },
   "outputs": [
    {
     "data": {
      "image/png": "[encoded data removed]",
      "text/plain": [
       "<Figure size 720x432 with 1 Axes>"
      ]
     },
     "metadata": {
      "image/png": {
       "height": 398,
       "width": 620
      }
     },
     "output_type": "display_data"
    }
   ],
   "source": [
    "# We can look at the training vs validation accuracy:\n",
    "\n",
    "plt.plot(history['train_acc'], label='train accuracy')\n",
    "plt.plot(history['val_acc'], label='validation accuracy')\n",
    "\n",
    "plt.title('Training history')\n",
    "plt.ylabel('Accuracy')\n",
    "plt.xlabel('Epoch')\n",
    "plt.legend()\n",
    "plt.ylim([0, 1]);"
   ]
  },
  {
   "cell_type": "markdown",
   "metadata": {
    "id": "ZsHqkLAuf8pv"
   },
   "source": [
    "The training accuracy starts to approach 100% after 2 epochs or so."
   ]
  },
  {
   "cell_type": "code",
   "execution_count": 30,
   "metadata": {
    "id": "zoGUH8VZ-pPQ"
   },
   "outputs": [],
   "source": [
    "# loading a pretrained model\n",
    "\n",
    "# model = NewsClassifier(len(CLASS_NAMES))\n",
    "# model.load_state_dict(torch.load(PRE_TRAINED_MODEL + '_best_model.bin'))\n",
    "# model = model.to(device)"
   ]
  },
  {
   "cell_type": "markdown",
   "metadata": {
    "id": "U3HZb3NWFtFf"
   },
   "source": [
    "### Testing and evaluating the model\n",
    "\n",
    "So how good is our model on predicting sentiment? Let's start by calculating the accuracy on the test data:"
   ]
  },
  {
   "cell_type": "code",
   "execution_count": 31,
   "metadata": {
    "colab": {
     "base_uri": "https://localhost:8080/"
    },
    "id": "jS3gJ_qBEljD",
    "outputId": "f980b3fb-f37a-4ca7-b29a-6343cb9853c0"
   },
   "outputs": [
    {
     "name": "stdout",
     "output_type": "stream",
     "text": [
      "Accuracy =  100.0 %\n"
     ]
    }
   ],
   "source": [
    "test_acc, _ = eval_model(model, test_data_loader, loss_fn, device, len(df_test))\n",
    "\n",
    "print('Accuracy = ' , test_acc.item() * 100, '%')"
   ]
  },
  {
   "cell_type": "code",
   "execution_count": 32,
   "metadata": {
    "id": "EgR6MuNS8jr_"
   },
   "outputs": [],
   "source": [
    "\"\"\"\n",
    "The following is a helper function to get the predictions from our model using \n",
    "the test portion of the data.\n",
    "\"\"\"\n",
    "\n",
    "def get_predictions(model, data_loader):\n",
    "    model = model.eval()\n",
    "    \n",
    "    news_text_strs = []\n",
    "    predictions = []\n",
    "    prediction_probs = []\n",
    "    real_values = []\n",
    "\n",
    "    with torch.no_grad():\n",
    "        for d in data_loader:\n",
    "\n",
    "            texts = d[\"news_text_str\"]\n",
    "            input_ids = d[\"input_ids\"].to(device)\n",
    "            attention_mask = d[\"attention_mask\"].to(device)\n",
    "            labels = d[\"labels\"].to(device)\n",
    "\n",
    "            outputs = model(\n",
    "              input_ids=input_ids,\n",
    "              attention_mask=attention_mask\n",
    "            )\n",
    "            _, preds = torch.max(outputs, dim=1)\n",
    "\n",
    "            probs = F.softmax(outputs, dim=1)\n",
    "\n",
    "            news_text_strs.extend(texts)\n",
    "            predictions.extend(preds)\n",
    "            prediction_probs.extend(probs)\n",
    "            real_values.extend(labels)\n",
    "\n",
    "    predictions = torch.stack(predictions).cpu()\n",
    "    prediction_probs = torch.stack(prediction_probs).cpu()\n",
    "    real_values = torch.stack(real_values).cpu()\n",
    "    \n",
    "    return news_text_strs, predictions, prediction_probs, real_values"
   ]
  },
  {
   "cell_type": "markdown",
   "metadata": {
    "id": "dkbnBTI7kd_y"
   },
   "source": [
    "This is similar to the evaluation function, except that we're storing the text of the reviews and the predicted probabilities (by applying the softmax on the model outputs):"
   ]
  },
  {
   "cell_type": "code",
   "execution_count": 33,
   "metadata": {
    "id": "zHdPZr60-0c_"
   },
   "outputs": [],
   "source": [
    "y_news_text_strs, y_pred, y_pred_probs, y_test = get_predictions(model, test_data_loader)"
   ]
  },
  {
   "cell_type": "markdown",
   "metadata": {
    "id": "gVwoVij2lC7F"
   },
   "source": [
    "Let's have a look at the classification report"
   ]
  },
  {
   "cell_type": "code",
   "execution_count": 34,
   "metadata": {
    "colab": {
     "base_uri": "https://localhost:8080/"
    },
    "id": "Tte-1JdyyDxU",
    "outputId": "663c580e-468f-452d-8231-d54f0df79c8c"
   },
   "outputs": [
    {
     "name": "stdout",
     "output_type": "stream",
     "text": [
      "              precision    recall  f1-score   support\n",
      "\n",
      "        FAKE     1.0000    1.0000    1.0000       858\n",
      "        REAL     1.0000    1.0000    1.0000      1022\n",
      "\n",
      "    accuracy                         1.0000      1880\n",
      "   macro avg     1.0000    1.0000    1.0000      1880\n",
      "weighted avg     1.0000    1.0000    1.0000      1880\n",
      "\n"
     ]
    }
   ],
   "source": [
    "print(classification_report(y_test, y_pred, target_names=CLASS_NAMES, digits=4)) #longformer"
   ]
  },
  {
   "cell_type": "code",
   "execution_count": 35,
   "metadata": {
    "colab": {
     "base_uri": "https://localhost:8080/"
    },
    "id": "BRaNsUSms1bZ",
    "outputId": "4e4ec8ee-0128-4bd9-a07c-4848591e602b"
   },
   "outputs": [
    {
     "name": "stdout",
     "output_type": "stream",
     "text": [
      "MCC =  100.0 %\n"
     ]
    }
   ],
   "source": [
    "# Compute the Matthews correlation coefficient (MCC)\n",
    "\n",
    "from sklearn.metrics import matthews_corrcoef\n",
    "mcc = matthews_corrcoef(y_test, y_pred)\n",
    "print('MCC = ', mcc * 100, '%') "
   ]
  },
  {
   "cell_type": "markdown",
   "metadata": {
    "id": "rFAekw3mmWUi"
   },
   "source": [
    "\n",
    "We'll continue with the confusion matrix:"
   ]
  },
  {
   "cell_type": "code",
   "execution_count": 36,
   "metadata": {
    "colab": {
     "base_uri": "https://localhost:8080/",
     "height": 415
    },
    "id": "6d1qxsc__DTh",
    "outputId": "16d7f064-6f1a-4fe8-8548-688328d440df"
   },
   "outputs": [
    {
     "data": {
      "image/png": "[encoded data removed]",
      "text/plain": [
       "<Figure size 720x432 with 2 Axes>"
      ]
     },
     "metadata": {
      "image/png": {
       "height": 396,
       "width": 609
      }
     },
     "output_type": "display_data"
    }
   ],
   "source": [
    "def show_confusion_matrix(confusion_matrix):\n",
    "    hmap = sns.heatmap(confusion_matrix, annot=True, fmt=\"d\", cmap=\"Greens\")\n",
    "    hmap.yaxis.set_ticklabels(hmap.yaxis.get_ticklabels(), rotation=0, ha='right')\n",
    "    hmap.xaxis.set_ticklabels(hmap.xaxis.get_ticklabels(), rotation=30, ha='right')\n",
    "    plt.xlabel('Predicted label')\n",
    "    plt.ylabel('True label')\n",
    "\n",
    "cm = confusion_matrix(y_test, y_pred)\n",
    "df_cm = pd.DataFrame(cm, index=CLASS_NAMES, columns=CLASS_NAMES)\n",
    "show_confusion_matrix(df_cm)"
   ]
  },
  {
   "cell_type": "markdown",
   "metadata": {
    "id": "wx0U7oNsnZ3A"
   },
   "source": [
    "\n",
    "That's a good overview of the performance of our model. But let's have a look at an example from our test data:"
   ]
  },
  {
   "cell_type": "code",
   "execution_count": 37,
   "metadata": {
    "id": "iANBiY3sLo-K"
   },
   "outputs": [],
   "source": [
    "idx = 1\n",
    "\n",
    "news_text = y_news_text_strs[idx]\n",
    "true_label = y_test[idx]\n",
    "pred_df = pd.DataFrame({\n",
    "    'class_names': CLASS_NAMES,\n",
    "    'values': y_pred_probs[idx]})"
   ]
  },
  {
   "cell_type": "code",
   "execution_count": 38,
   "metadata": {
    "colab": {
     "base_uri": "https://localhost:8080/"
    },
    "id": "gJeraq_ckh2j",
    "outputId": "c23fba3c-1b2c-4eda-b51e-d7e649baee1a"
   },
   "outputs": [
    {
     "name": "stdout",
     "output_type": "stream",
     "text": [
      "[['FAKE' 2.7874184524989687e-06]\n",
      " ['REAL' 0.9999972581863403]]\n"
     ]
    }
   ],
   "source": [
    "print(pred_df.values)"
   ]
  },
  {
   "cell_type": "code",
   "execution_count": 39,
   "metadata": {
    "colab": {
     "base_uri": "https://localhost:8080/"
    },
    "id": "EPVeGAT2VzaJ",
    "outputId": "49cc3531-a897-417a-e518-b84139e5d3dd"
   },
   "outputs": [
    {
     "name": "stdout",
     "output_type": "stream",
     "text": [
      "True Label: ['REAL']\n",
      "\n",
      "Text:\n",
      " Understanding our own stories about race, and talking about them to\n",
      "one another, is absolutely essential if we are to become part of the\n",
      "larger pilgrimage to defeat racism in America. It is also a biblical\n",
      "story, and now a global story in which we play a central role. We all\n",
      "start with our own stories about race, so I will begin with mine.\n",
      "Fifty years ago I was a teenager in Detroit. I took a job as a janitor\n",
      "at the Detroit Edison Company to earn money for college. There I met a\n",
      "young man named \n"
     ]
    }
   ],
   "source": [
    "print(f'True Label: {le.inverse_transform([true_label])}')\n",
    "print()\n",
    "news_text2 = \"\\n\".join(wrap(news_text))[:500]\n",
    "# print(\"\\n\".join(wrap(news_text)))\n",
    "print('Text:\\n', news_text2)"
   ]
  },
  {
   "cell_type": "markdown",
   "metadata": {
    "id": "7WL5pDmvFyaU"
   },
   "source": [
    "### Testing on raw text\n",
    "\n",
    "Use the model to predict the label of some raw text. I think using !!!! may affect the prediction (higher probability of being fake). "
   ]
  },
  {
   "cell_type": "code",
   "execution_count": 40,
   "metadata": {
    "id": "mCGQesvUWsyD"
   },
   "outputs": [],
   "source": [
    "News_text = 'This is REAL news!!!'"
   ]
  },
  {
   "cell_type": "markdown",
   "metadata": {
    "id": "GaN4RnqMnxYw"
   },
   "source": [
    "We have to use the tokenizer to encode the text:"
   ]
  },
  {
   "cell_type": "code",
   "execution_count": 41,
   "metadata": {
    "id": "zA5Or4D2sLc9"
   },
   "outputs": [],
   "source": [
    "encoded_text = TOKENIZER.encode_plus(\n",
    "    News_text,\n",
    "    add_special_tokens=True,\n",
    "    max_length=MAX_LEN,\n",
    "    return_token_type_ids=False,\n",
    "    padding='max_length',\n",
    "    truncation=True,\n",
    "    return_attention_mask=True,\n",
    "    return_tensors='pt')"
   ]
  },
  {
   "cell_type": "markdown",
   "metadata": {
    "id": "et8xlDrKpH60"
   },
   "source": [
    "Let's get the predictions from our model:"
   ]
  },
  {
   "cell_type": "code",
   "execution_count": 42,
   "metadata": {
    "colab": {
     "base_uri": "https://localhost:8080/"
    },
    "id": "Qr_t3rUksumr",
    "outputId": "2b6733e5-1e11-4689-d094-e9754f384890"
   },
   "outputs": [
    {
     "name": "stdout",
     "output_type": "stream",
     "text": [
      "Predected Label: FAKE\n",
      "[['FAKE' 2.7874184524989687e-06]\n",
      " ['REAL' 0.9999972581863403]]\n"
     ]
    }
   ],
   "source": [
    "input_ids = encoded_text['input_ids'].to(device)\n",
    "attention_mask = encoded_text['attention_mask'].to(device)\n",
    "\n",
    "output = model(input_ids, attention_mask)\n",
    "_, prediction = torch.max(output, dim=1)\n",
    "probs = F.softmax(output, dim=1)\n",
    "prediction_probs = torch.detach(probs).cpu()\n",
    "# print(prediction)\n",
    "print(f'Predicted Label: {CLASS_NAMES[prediction]}')\n",
    "\n",
    "pred_df = pd.DataFrame({\n",
    "    'class_names': CLASS_NAMES,\n",
    "    'values': y_pred_probs[idx]})\n",
    "\n",
    "print(pred_df.values)"
   ]
  },
  {
   "cell_type": "markdown",
   "metadata": {
    "id": "OqVoCAAlfRTq"
   },
   "source": [
    "\n",
    "Lets try the same text without using the !!!!."
   ]
  },
  {
   "cell_type": "code",
   "execution_count": 43,
   "metadata": {
    "colab": {
     "base_uri": "https://localhost:8080/"
    },
    "id": "m5vOrbaiafUE",
    "outputId": "5fb9c9d1-eb38-433d-b4a1-dbf89173b651"
   },
   "outputs": [
    {
     "name": "stdout",
     "output_type": "stream",
     "text": [
      "Predected Label: REAL\n",
      "[['FAKE' 2.7874184524989687e-06]\n",
      " ['REAL' 0.9999972581863403]]\n"
     ]
    }
   ],
   "source": [
    "News_text = 'This is real news.'\n",
    "\n",
    "encoded_text = TOKENIZER.encode_plus(\n",
    "    News_text,\n",
    "    add_special_tokens=True,\n",
    "    max_length=MAX_LEN,\n",
    "    return_token_type_ids=False,\n",
    "    padding='max_length',\n",
    "    truncation=True,\n",
    "    return_attention_mask=True,\n",
    "    return_tensors='pt')\n",
    "\n",
    "input_ids = encoded_text['input_ids'].to(device)\n",
    "attention_mask = encoded_text['attention_mask'].to(device)\n",
    "\n",
    "output = model(input_ids, attention_mask)\n",
    "_, prediction = torch.max(output, dim=1)\n",
    "probs = F.softmax(output, dim=1)\n",
    "prediction_probs = torch.detach(probs).cpu()\n",
    "# print(prediction)\n",
    "print(f'Predicted Label: {CLASS_NAMES[prediction]}')\n",
    "\n",
    "pred_df = pd.DataFrame({\n",
    "    'class_names': CLASS_NAMES,\n",
    "    'values': y_pred_probs[idx]})\n",
    "\n",
    "print(pred_df.values)"
   ]
  },
  {
   "cell_type": "markdown",
   "metadata": {
    "id": "Wf39tauBa2V2"
   },
   "source": [
    "## References\n",
    "\n",
    "- [BERT: Pre-training of Deep Bidirectional Transformers for Language Understanding](https://arxiv.org/abs/1810.04805)\n",
    "- [RoBERTa: A Robustly Optimized BERT Pretraining Approach](https://arxiv.org/abs/1907.11692)\n",
    "- [The Illustrated BERT, ELMo, and co.](https://jalammar.github.io/illustrated-bert/)\n",
    "- [Hierarchical Transformers for Long Document Classification](https://arxiv.org/abs/1910.10781)\n",
    "- [How to Fine-Tune BERT for Text Classification?](https://arxiv.org/pdf/1905.05583.pdf)\n",
    "- [Sentiment Analysis with BERT and Transformers by Hugging Face using PyTorch and Python](https://curiousily.com/posts/sentiment-analysis-with-bert-and-hugging-face-using-pytorch-and-python/)\n",
    "- [BERT Fine-Tuning Tutorial with PyTorch](https://mccormickml.com/2019/07/22/BERT-fine-tuning/)\n",
    "\n",
    "- [Huggingface Transformers](https://huggingface.co/transformers/)\n",
    "- [BERT Explained: State of the art language model for NLP](https://towardsdatascience.com/bert-explained-state-of-the-art-language-model-for-nlp-f8b21a9b6270)"
   ]
  },
  {
   "cell_type": "code",
   "execution_count": null,
   "metadata": {
    "id": "FRRFAifwtw-F"
   },
   "outputs": [],
   "source": []
  }
 ],
 "metadata": {
  "accelerator": "GPU",
  "colab": {
   "collapsed_sections": [],
   "name": "Copy of Copy Fine_tuning_Lonformers_for_DC2.ipynb",
   "provenance": [],
   "toc_visible": true
  },
  "kernelspec": {
   "display_name": "Python 3",
   "language": "python",
   "name": "python3"
  },
  "language_info": {
   "codemirror_mode": {
    "name": "ipython",
    "version": 3
   },
   "file_extension": ".py",
   "mimetype": "text/x-python",
   "name": "python",
   "nbconvert_exporter": "python",
   "pygments_lexer": "ipython3",
   "version": "3.8.3"
  },
  "widgets": {
   "application/vnd.jupyter.widget-state+json": {
    "018443cbebba4d929e43661ce32af716": {
     "model_module": "@jupyter-widgets/base",
     "model_name": "LayoutModel",
     "state": {
      "_model_module": "@jupyter-widgets/base",
      "_model_module_version": "1.2.0",
      "_model_name": "LayoutModel",
      "_view_count": null,
      "_view_module": "@jupyter-widgets/base",
      "_view_module_version": "1.2.0",
      "_view_name": "LayoutView",
      "align_content": null,
      "align_items": null,
      "align_self": null,
      "border": null,
      "bottom": null,
      "display": null,
      "flex": null,
      "flex_flow": null,
      "grid_area": null,
      "grid_auto_columns": null,
      "grid_auto_flow": null,
      "grid_auto_rows": null,
      "grid_column": null,
      "grid_gap": null,
      "grid_row": null,
      "grid_template_areas": null,
      "grid_template_columns": null,
      "grid_template_rows": null,
      "height": null,
      "justify_content": null,
      "justify_items": null,
      "left": null,
      "margin": null,
      "max_height": null,
      "max_width": null,
      "min_height": null,
      "min_width": null,
      "object_fit": null,
      "object_position": null,
      "order": null,
      "overflow": null,
      "overflow_x": null,
      "overflow_y": null,
      "padding": null,
      "right": null,
      "top": null,
      "visibility": null,
      "width": null
     }
    },
    "01dea80f53f2464fb883f3fec1bd6172": {
     "model_module": "@jupyter-widgets/base",
     "model_name": "LayoutModel",
     "state": {
      "_model_module": "@jupyter-widgets/base",
      "_model_module_version": "1.2.0",
      "_model_name": "LayoutModel",
      "_view_count": null,
      "_view_module": "@jupyter-widgets/base",
      "_view_module_version": "1.2.0",
      "_view_name": "LayoutView",
      "align_content": null,
      "align_items": null,
      "align_self": null,
      "border": null,
      "bottom": null,
      "display": null,
      "flex": null,
      "flex_flow": null,
      "grid_area": null,
      "grid_auto_columns": null,
      "grid_auto_flow": null,
      "grid_auto_rows": null,
      "grid_column": null,
      "grid_gap": null,
      "grid_row": null,
      "grid_template_areas": null,
      "grid_template_columns": null,
      "grid_template_rows": null,
      "height": null,
      "justify_content": null,
      "justify_items": null,
      "left": null,
      "margin": null,
      "max_height": null,
      "max_width": null,
      "min_height": null,
      "min_width": null,
      "object_fit": null,
      "object_position": null,
      "order": null,
      "overflow": null,
      "overflow_x": null,
      "overflow_y": null,
      "padding": null,
      "right": null,
      "top": null,
      "visibility": null,
      "width": null
     }
    },
    "01ec1b4a28b04e6bab20efa7d35025a5": {
     "model_module": "@jupyter-widgets/base",
     "model_name": "LayoutModel",
     "state": {
      "_model_module": "@jupyter-widgets/base",
      "_model_module_version": "1.2.0",
      "_model_name": "LayoutModel",
      "_view_count": null,
      "_view_module": "@jupyter-widgets/base",
      "_view_module_version": "1.2.0",
      "_view_name": "LayoutView",
      "align_content": null,
      "align_items": null,
      "align_self": null,
      "border": null,
      "bottom": null,
      "display": null,
      "flex": null,
      "flex_flow": null,
      "grid_area": null,
      "grid_auto_columns": null,
      "grid_auto_flow": null,
      "grid_auto_rows": null,
      "grid_column": null,
      "grid_gap": null,
      "grid_row": null,
      "grid_template_areas": null,
      "grid_template_columns": null,
      "grid_template_rows": null,
      "height": null,
      "justify_content": null,
      "justify_items": null,
      "left": null,
      "margin": null,
      "max_height": null,
      "max_width": null,
      "min_height": null,
      "min_width": null,
      "object_fit": null,
      "object_position": null,
      "order": null,
      "overflow": null,
      "overflow_x": null,
      "overflow_y": null,
      "padding": null,
      "right": null,
      "top": null,
      "visibility": null,
      "width": null
     }
    },
    "02e52337522649fba4acafdd3bb48d15": {
     "model_module": "@jupyter-widgets/base",
     "model_name": "LayoutModel",
     "state": {
      "_model_module": "@jupyter-widgets/base",
      "_model_module_version": "1.2.0",
      "_model_name": "LayoutModel",
      "_view_count": null,
      "_view_module": "@jupyter-widgets/base",
      "_view_module_version": "1.2.0",
      "_view_name": "LayoutView",
      "align_content": null,
      "align_items": null,
      "align_self": null,
      "border": null,
      "bottom": null,
      "display": null,
      "flex": null,
      "flex_flow": null,
      "grid_area": null,
      "grid_auto_columns": null,
      "grid_auto_flow": null,
      "grid_auto_rows": null,
      "grid_column": null,
      "grid_gap": null,
      "grid_row": null,
      "grid_template_areas": null,
      "grid_template_columns": null,
      "grid_template_rows": null,
      "height": null,
      "justify_content": null,
      "justify_items": null,
      "left": null,
      "margin": null,
      "max_height": null,
      "max_width": null,
      "min_height": null,
      "min_width": null,
      "object_fit": null,
      "object_position": null,
      "order": null,
      "overflow": null,
      "overflow_x": null,
      "overflow_y": null,
      "padding": null,
      "right": null,
      "top": null,
      "visibility": null,
      "width": null
     }
    },
    "03c8496cb4b04713a35e6ffaae4091c6": {
     "model_module": "@jupyter-widgets/base",
     "model_name": "LayoutModel",
     "state": {
      "_model_module": "@jupyter-widgets/base",
      "_model_module_version": "1.2.0",
      "_model_name": "LayoutModel",
      "_view_count": null,
      "_view_module": "@jupyter-widgets/base",
      "_view_module_version": "1.2.0",
      "_view_name": "LayoutView",
      "align_content": null,
      "align_items": null,
      "align_self": null,
      "border": null,
      "bottom": null,
      "display": null,
      "flex": null,
      "flex_flow": null,
      "grid_area": null,
      "grid_auto_columns": null,
      "grid_auto_flow": null,
      "grid_auto_rows": null,
      "grid_column": null,
      "grid_gap": null,
      "grid_row": null,
      "grid_template_areas": null,
      "grid_template_columns": null,
      "grid_template_rows": null,
      "height": null,
      "justify_content": null,
      "justify_items": null,
      "left": null,
      "margin": null,
      "max_height": null,
      "max_width": null,
      "min_height": null,
      "min_width": null,
      "object_fit": null,
      "object_position": null,
      "order": null,
      "overflow": null,
      "overflow_x": null,
      "overflow_y": null,
      "padding": null,
      "right": null,
      "top": null,
      "visibility": null,
      "width": null
     }
    },
    "09b25a467a4a42219f96bca14797406e": {
     "model_module": "@jupyter-widgets/base",
     "model_name": "LayoutModel",
     "state": {
      "_model_module": "@jupyter-widgets/base",
      "_model_module_version": "1.2.0",
      "_model_name": "LayoutModel",
      "_view_count": null,
      "_view_module": "@jupyter-widgets/base",
      "_view_module_version": "1.2.0",
      "_view_name": "LayoutView",
      "align_content": null,
      "align_items": null,
      "align_self": null,
      "border": null,
      "bottom": null,
      "display": null,
      "flex": null,
      "flex_flow": null,
      "grid_area": null,
      "grid_auto_columns": null,
      "grid_auto_flow": null,
      "grid_auto_rows": null,
      "grid_column": null,
      "grid_gap": null,
      "grid_row": null,
      "grid_template_areas": null,
      "grid_template_columns": null,
      "grid_template_rows": null,
      "height": null,
      "justify_content": null,
      "justify_items": null,
      "left": null,
      "margin": null,
      "max_height": null,
      "max_width": null,
      "min_height": null,
      "min_width": null,
      "object_fit": null,
      "object_position": null,
      "order": null,
      "overflow": null,
      "overflow_x": null,
      "overflow_y": null,
      "padding": null,
      "right": null,
      "top": null,
      "visibility": null,
      "width": null
     }
    },
    "09b6acad202d4014b577fae09586af49": {
     "model_module": "@jupyter-widgets/controls",
     "model_name": "HBoxModel",
     "state": {
      "_dom_classes": [],
      "_model_module": "@jupyter-widgets/controls",
      "_model_module_version": "1.5.0",
      "_model_name": "HBoxModel",
      "_view_count": null,
      "_view_module": "@jupyter-widgets/controls",
      "_view_module_version": "1.5.0",
      "_view_name": "HBoxView",
      "box_style": "",
      "children": [
       "IPY_MODEL_7e688912efc547e698e351a1c6e15573",
       "IPY_MODEL_0f91407b0d1347fabaa74c2de44a932c"
      ],
      "layout": "IPY_MODEL_4466cb3910564ddba2035771113d18e0"
     }
    },
    "0b3d65e0dbec4b3fb52e967ccc2d9686": {
     "model_module": "@jupyter-widgets/controls",
     "model_name": "DescriptionStyleModel",
     "state": {
      "_model_module": "@jupyter-widgets/controls",
      "_model_module_version": "1.5.0",
      "_model_name": "DescriptionStyleModel",
      "_view_count": null,
      "_view_module": "@jupyter-widgets/base",
      "_view_module_version": "1.2.0",
      "_view_name": "StyleView",
      "description_width": ""
     }
    },
    "0eb678388f4a48b68d697d8bd975386e": {
     "model_module": "@jupyter-widgets/base",
     "model_name": "LayoutModel",
     "state": {
      "_model_module": "@jupyter-widgets/base",
      "_model_module_version": "1.2.0",
      "_model_name": "LayoutModel",
      "_view_count": null,
      "_view_module": "@jupyter-widgets/base",
      "_view_module_version": "1.2.0",
      "_view_name": "LayoutView",
      "align_content": null,
      "align_items": null,
      "align_self": null,
      "border": null,
      "bottom": null,
      "display": null,
      "flex": null,
      "flex_flow": null,
      "grid_area": null,
      "grid_auto_columns": null,
      "grid_auto_flow": null,
      "grid_auto_rows": null,
      "grid_column": null,
      "grid_gap": null,
      "grid_row": null,
      "grid_template_areas": null,
      "grid_template_columns": null,
      "grid_template_rows": null,
      "height": null,
      "justify_content": null,
      "justify_items": null,
      "left": null,
      "margin": null,
      "max_height": null,
      "max_width": null,
      "min_height": null,
      "min_width": null,
      "object_fit": null,
      "object_position": null,
      "order": null,
      "overflow": null,
      "overflow_x": null,
      "overflow_y": null,
      "padding": null,
      "right": null,
      "top": null,
      "visibility": null,
      "width": null
     }
    },
    "0f91407b0d1347fabaa74c2de44a932c": {
     "model_module": "@jupyter-widgets/controls",
     "model_name": "HTMLModel",
     "state": {
      "_dom_classes": [],
      "_model_module": "@jupyter-widgets/controls",
      "_model_module_version": "1.5.0",
      "_model_name": "HTMLModel",
      "_view_count": null,
      "_view_module": "@jupyter-widgets/controls",
      "_view_module_version": "1.5.0",
      "_view_name": "HTMLView",
      "description": "",
      "description_tooltip": null,
      "layout": "IPY_MODEL_63aba7938d72414aa5f396a3e983cf65",
      "placeholder": "​",
      "style": "IPY_MODEL_f84b1321438c448c9e62cf9770a37f70",
      "value": " 456k/456k [00:00&lt;00:00, 465kB/s]"
     }
    },
    "10a02bd4ee9141e18dbf524a2bad1be5": {
     "model_module": "@jupyter-widgets/base",
     "model_name": "LayoutModel",
     "state": {
      "_model_module": "@jupyter-widgets/base",
      "_model_module_version": "1.2.0",
      "_model_name": "LayoutModel",
      "_view_count": null,
      "_view_module": "@jupyter-widgets/base",
      "_view_module_version": "1.2.0",
      "_view_name": "LayoutView",
      "align_content": null,
      "align_items": null,
      "align_self": null,
      "border": null,
      "bottom": null,
      "display": null,
      "flex": null,
      "flex_flow": null,
      "grid_area": null,
      "grid_auto_columns": null,
      "grid_auto_flow": null,
      "grid_auto_rows": null,
      "grid_column": null,
      "grid_gap": null,
      "grid_row": null,
      "grid_template_areas": null,
      "grid_template_columns": null,
      "grid_template_rows": null,
      "height": null,
      "justify_content": null,
      "justify_items": null,
      "left": null,
      "margin": null,
      "max_height": null,
      "max_width": null,
      "min_height": null,
      "min_width": null,
      "object_fit": null,
      "object_position": null,
      "order": null,
      "overflow": null,
      "overflow_x": null,
      "overflow_y": null,
      "padding": null,
      "right": null,
      "top": null,
      "visibility": null,
      "width": null
     }
    },
    "1b09731b56b443b68ae97c881b2ad447": {
     "model_module": "@jupyter-widgets/base",
     "model_name": "LayoutModel",
     "state": {
      "_model_module": "@jupyter-widgets/base",
      "_model_module_version": "1.2.0",
      "_model_name": "LayoutModel",
      "_view_count": null,
      "_view_module": "@jupyter-widgets/base",
      "_view_module_version": "1.2.0",
      "_view_name": "LayoutView",
      "align_content": null,
      "align_items": null,
      "align_self": null,
      "border": null,
      "bottom": null,
      "display": null,
      "flex": null,
      "flex_flow": null,
      "grid_area": null,
      "grid_auto_columns": null,
      "grid_auto_flow": null,
      "grid_auto_rows": null,
      "grid_column": null,
      "grid_gap": null,
      "grid_row": null,
      "grid_template_areas": null,
      "grid_template_columns": null,
      "grid_template_rows": null,
      "height": null,
      "justify_content": null,
      "justify_items": null,
      "left": null,
      "margin": null,
      "max_height": null,
      "max_width": null,
      "min_height": null,
      "min_width": null,
      "object_fit": null,
      "object_position": null,
      "order": null,
      "overflow": null,
      "overflow_x": null,
      "overflow_y": null,
      "padding": null,
      "right": null,
      "top": null,
      "visibility": null,
      "width": null
     }
    },
    "1f7f8a4010174e449ec96e8ca739530e": {
     "model_module": "@jupyter-widgets/base",
     "model_name": "LayoutModel",
     "state": {
      "_model_module": "@jupyter-widgets/base",
      "_model_module_version": "1.2.0",
      "_model_name": "LayoutModel",
      "_view_count": null,
      "_view_module": "@jupyter-widgets/base",
      "_view_module_version": "1.2.0",
      "_view_name": "LayoutView",
      "align_content": null,
      "align_items": null,
      "align_self": null,
      "border": null,
      "bottom": null,
      "display": null,
      "flex": null,
      "flex_flow": null,
      "grid_area": null,
      "grid_auto_columns": null,
      "grid_auto_flow": null,
      "grid_auto_rows": null,
      "grid_column": null,
      "grid_gap": null,
      "grid_row": null,
      "grid_template_areas": null,
      "grid_template_columns": null,
      "grid_template_rows": null,
      "height": null,
      "justify_content": null,
      "justify_items": null,
      "left": null,
      "margin": null,
      "max_height": null,
      "max_width": null,
      "min_height": null,
      "min_width": null,
      "object_fit": null,
      "object_position": null,
      "order": null,
      "overflow": null,
      "overflow_x": null,
      "overflow_y": null,
      "padding": null,
      "right": null,
      "top": null,
      "visibility": null,
      "width": null
     }
    },
    "27d651bf0ccf4ddf97ba235772efd720": {
     "model_module": "@jupyter-widgets/controls",
     "model_name": "ProgressStyleModel",
     "state": {
      "_model_module": "@jupyter-widgets/controls",
      "_model_module_version": "1.5.0",
      "_model_name": "ProgressStyleModel",
      "_view_count": null,
      "_view_module": "@jupyter-widgets/base",
      "_view_module_version": "1.2.0",
      "_view_name": "StyleView",
      "bar_color": null,
      "description_width": "initial"
     }
    },
    "289337ff60d9425fae543ec1926d79bc": {
     "model_module": "@jupyter-widgets/controls",
     "model_name": "DescriptionStyleModel",
     "state": {
      "_model_module": "@jupyter-widgets/controls",
      "_model_module_version": "1.5.0",
      "_model_name": "DescriptionStyleModel",
      "_view_count": null,
      "_view_module": "@jupyter-widgets/base",
      "_view_module_version": "1.2.0",
      "_view_name": "StyleView",
      "description_width": ""
     }
    },
    "2a2d6dd302ee43149cdbe1799d42bf47": {
     "model_module": "@jupyter-widgets/base",
     "model_name": "LayoutModel",
     "state": {
      "_model_module": "@jupyter-widgets/base",
      "_model_module_version": "1.2.0",
      "_model_name": "LayoutModel",
      "_view_count": null,
      "_view_module": "@jupyter-widgets/base",
      "_view_module_version": "1.2.0",
      "_view_name": "LayoutView",
      "align_content": null,
      "align_items": null,
      "align_self": null,
      "border": null,
      "bottom": null,
      "display": null,
      "flex": null,
      "flex_flow": null,
      "grid_area": null,
      "grid_auto_columns": null,
      "grid_auto_flow": null,
      "grid_auto_rows": null,
      "grid_column": null,
      "grid_gap": null,
      "grid_row": null,
      "grid_template_areas": null,
      "grid_template_columns": null,
      "grid_template_rows": null,
      "height": null,
      "justify_content": null,
      "justify_items": null,
      "left": null,
      "margin": null,
      "max_height": null,
      "max_width": null,
      "min_height": null,
      "min_width": null,
      "object_fit": null,
      "object_position": null,
      "order": null,
      "overflow": null,
      "overflow_x": null,
      "overflow_y": null,
      "padding": null,
      "right": null,
      "top": null,
      "visibility": null,
      "width": null
     }
    },
    "30f96bb80fc644859339f6a141347b50": {
     "model_module": "@jupyter-widgets/base",
     "model_name": "LayoutModel",
     "state": {
      "_model_module": "@jupyter-widgets/base",
      "_model_module_version": "1.2.0",
      "_model_name": "LayoutModel",
      "_view_count": null,
      "_view_module": "@jupyter-widgets/base",
      "_view_module_version": "1.2.0",
      "_view_name": "LayoutView",
      "align_content": null,
      "align_items": null,
      "align_self": null,
      "border": null,
      "bottom": null,
      "display": null,
      "flex": null,
      "flex_flow": null,
      "grid_area": null,
      "grid_auto_columns": null,
      "grid_auto_flow": null,
      "grid_auto_rows": null,
      "grid_column": null,
      "grid_gap": null,
      "grid_row": null,
      "grid_template_areas": null,
      "grid_template_columns": null,
      "grid_template_rows": null,
      "height": null,
      "justify_content": null,
      "justify_items": null,
      "left": null,
      "margin": null,
      "max_height": null,
      "max_width": null,
      "min_height": null,
      "min_width": null,
      "object_fit": null,
      "object_position": null,
      "order": null,
      "overflow": null,
      "overflow_x": null,
      "overflow_y": null,
      "padding": null,
      "right": null,
      "top": null,
      "visibility": null,
      "width": null
     }
    },
    "3491c6ca75ac4a6296dd607b2cceefe6": {
     "model_module": "@jupyter-widgets/controls",
     "model_name": "DescriptionStyleModel",
     "state": {
      "_model_module": "@jupyter-widgets/controls",
      "_model_module_version": "1.5.0",
      "_model_name": "DescriptionStyleModel",
      "_view_count": null,
      "_view_module": "@jupyter-widgets/base",
      "_view_module_version": "1.2.0",
      "_view_name": "StyleView",
      "description_width": ""
     }
    },
    "3894396ba4be433c89624983b15a1fcd": {
     "model_module": "@jupyter-widgets/controls",
     "model_name": "HBoxModel",
     "state": {
      "_dom_classes": [],
      "_model_module": "@jupyter-widgets/controls",
      "_model_module_version": "1.5.0",
      "_model_name": "HBoxModel",
      "_view_count": null,
      "_view_module": "@jupyter-widgets/controls",
      "_view_module_version": "1.5.0",
      "_view_name": "HBoxView",
      "box_style": "",
      "children": [
       "IPY_MODEL_8c6b726955a34ea4b5ee74b5aca83f41",
       "IPY_MODEL_b34e938dff9b44b297f6e43140286fb0"
      ],
      "layout": "IPY_MODEL_491e8208c07546bf834104f3c6a747ac"
     }
    },
    "3d809ec90c8045b3a2170075af4a0340": {
     "model_module": "@jupyter-widgets/controls",
     "model_name": "FloatProgressModel",
     "state": {
      "_dom_classes": [],
      "_model_module": "@jupyter-widgets/controls",
      "_model_module_version": "1.5.0",
      "_model_name": "FloatProgressModel",
      "_view_count": null,
      "_view_module": "@jupyter-widgets/controls",
      "_view_module_version": "1.5.0",
      "_view_name": "ProgressView",
      "bar_style": "success",
      "description": "Downloading: 100%",
      "description_tooltip": null,
      "layout": "IPY_MODEL_d3f76836ebcf4848a19f6c7a179b90d3",
      "max": 898823,
      "min": 0,
      "orientation": "horizontal",
      "style": "IPY_MODEL_953b9246588f4063adbf687eb0d72b36",
      "value": 898823
     }
    },
    "4466cb3910564ddba2035771113d18e0": {
     "model_module": "@jupyter-widgets/base",
     "model_name": "LayoutModel",
     "state": {
      "_model_module": "@jupyter-widgets/base",
      "_model_module_version": "1.2.0",
      "_model_name": "LayoutModel",
      "_view_count": null,
      "_view_module": "@jupyter-widgets/base",
      "_view_module_version": "1.2.0",
      "_view_name": "LayoutView",
      "align_content": null,
      "align_items": null,
      "align_self": null,
      "border": null,
      "bottom": null,
      "display": null,
      "flex": null,
      "flex_flow": null,
      "grid_area": null,
      "grid_auto_columns": null,
      "grid_auto_flow": null,
      "grid_auto_rows": null,
      "grid_column": null,
      "grid_gap": null,
      "grid_row": null,
      "grid_template_areas": null,
      "grid_template_columns": null,
      "grid_template_rows": null,
      "height": null,
      "justify_content": null,
      "justify_items": null,
      "left": null,
      "margin": null,
      "max_height": null,
      "max_width": null,
      "min_height": null,
      "min_width": null,
      "object_fit": null,
      "object_position": null,
      "order": null,
      "overflow": null,
      "overflow_x": null,
      "overflow_y": null,
      "padding": null,
      "right": null,
      "top": null,
      "visibility": null,
      "width": null
     }
    },
    "47a03ca16b284c3096772500431bc17b": {
     "model_module": "@jupyter-widgets/controls",
     "model_name": "DescriptionStyleModel",
     "state": {
      "_model_module": "@jupyter-widgets/controls",
      "_model_module_version": "1.5.0",
      "_model_name": "DescriptionStyleModel",
      "_view_count": null,
      "_view_module": "@jupyter-widgets/base",
      "_view_module_version": "1.2.0",
      "_view_name": "StyleView",
      "description_width": ""
     }
    },
    "491e8208c07546bf834104f3c6a747ac": {
     "model_module": "@jupyter-widgets/base",
     "model_name": "LayoutModel",
     "state": {
      "_model_module": "@jupyter-widgets/base",
      "_model_module_version": "1.2.0",
      "_model_name": "LayoutModel",
      "_view_count": null,
      "_view_module": "@jupyter-widgets/base",
      "_view_module_version": "1.2.0",
      "_view_name": "LayoutView",
      "align_content": null,
      "align_items": null,
      "align_self": null,
      "border": null,
      "bottom": null,
      "display": null,
      "flex": null,
      "flex_flow": null,
      "grid_area": null,
      "grid_auto_columns": null,
      "grid_auto_flow": null,
      "grid_auto_rows": null,
      "grid_column": null,
      "grid_gap": null,
      "grid_row": null,
      "grid_template_areas": null,
      "grid_template_columns": null,
      "grid_template_rows": null,
      "height": null,
      "justify_content": null,
      "justify_items": null,
      "left": null,
      "margin": null,
      "max_height": null,
      "max_width": null,
      "min_height": null,
      "min_width": null,
      "object_fit": null,
      "object_position": null,
      "order": null,
      "overflow": null,
      "overflow_x": null,
      "overflow_y": null,
      "padding": null,
      "right": null,
      "top": null,
      "visibility": null,
      "width": null
     }
    },
    "4d25ed9d8dd14cf09cc5071dba5544aa": {
     "model_module": "@jupyter-widgets/controls",
     "model_name": "FloatProgressModel",
     "state": {
      "_dom_classes": [],
      "_model_module": "@jupyter-widgets/controls",
      "_model_module_version": "1.5.0",
      "_model_name": "FloatProgressModel",
      "_view_count": null,
      "_view_module": "@jupyter-widgets/controls",
      "_view_module_version": "1.5.0",
      "_view_name": "ProgressView",
      "bar_style": "success",
      "description": "Downloading: 100%",
      "description_tooltip": null,
      "layout": "IPY_MODEL_75ca4b3f97b2491eba6600b44608d21c",
      "max": 597257159,
      "min": 0,
      "orientation": "horizontal",
      "style": "IPY_MODEL_9efd30b0f572402bbadff5a2ffa0977d",
      "value": 597257159
     }
    },
    "4d2ebc6e695145269f319e057dc7677d": {
     "model_module": "@jupyter-widgets/controls",
     "model_name": "HBoxModel",
     "state": {
      "_dom_classes": [],
      "_model_module": "@jupyter-widgets/controls",
      "_model_module_version": "1.5.0",
      "_model_name": "HBoxModel",
      "_view_count": null,
      "_view_module": "@jupyter-widgets/controls",
      "_view_module_version": "1.5.0",
      "_view_name": "HBoxView",
      "box_style": "",
      "children": [
       "IPY_MODEL_da087ae897aa4ec381e4b09dc944cc1d",
       "IPY_MODEL_7ce6c6c0b9544e53b4362a388fd00869"
      ],
      "layout": "IPY_MODEL_e13ace672d244879ad5e63c4724adecf"
     }
    },
    "5c4273991a6c422c8c2c4ac92ce05b88": {
     "model_module": "@jupyter-widgets/base",
     "model_name": "LayoutModel",
     "state": {
      "_model_module": "@jupyter-widgets/base",
      "_model_module_version": "1.2.0",
      "_model_name": "LayoutModel",
      "_view_count": null,
      "_view_module": "@jupyter-widgets/base",
      "_view_module_version": "1.2.0",
      "_view_name": "LayoutView",
      "align_content": null,
      "align_items": null,
      "align_self": null,
      "border": null,
      "bottom": null,
      "display": null,
      "flex": null,
      "flex_flow": null,
      "grid_area": null,
      "grid_auto_columns": null,
      "grid_auto_flow": null,
      "grid_auto_rows": null,
      "grid_column": null,
      "grid_gap": null,
      "grid_row": null,
      "grid_template_areas": null,
      "grid_template_columns": null,
      "grid_template_rows": null,
      "height": null,
      "justify_content": null,
      "justify_items": null,
      "left": null,
      "margin": null,
      "max_height": null,
      "max_width": null,
      "min_height": null,
      "min_width": null,
      "object_fit": null,
      "object_position": null,
      "order": null,
      "overflow": null,
      "overflow_x": null,
      "overflow_y": null,
      "padding": null,
      "right": null,
      "top": null,
      "visibility": null,
      "width": null
     }
    },
    "63aba7938d72414aa5f396a3e983cf65": {
     "model_module": "@jupyter-widgets/base",
     "model_name": "LayoutModel",
     "state": {
      "_model_module": "@jupyter-widgets/base",
      "_model_module_version": "1.2.0",
      "_model_name": "LayoutModel",
      "_view_count": null,
      "_view_module": "@jupyter-widgets/base",
      "_view_module_version": "1.2.0",
      "_view_name": "LayoutView",
      "align_content": null,
      "align_items": null,
      "align_self": null,
      "border": null,
      "bottom": null,
      "display": null,
      "flex": null,
      "flex_flow": null,
      "grid_area": null,
      "grid_auto_columns": null,
      "grid_auto_flow": null,
      "grid_auto_rows": null,
      "grid_column": null,
      "grid_gap": null,
      "grid_row": null,
      "grid_template_areas": null,
      "grid_template_columns": null,
      "grid_template_rows": null,
      "height": null,
      "justify_content": null,
      "justify_items": null,
      "left": null,
      "margin": null,
      "max_height": null,
      "max_width": null,
      "min_height": null,
      "min_width": null,
      "object_fit": null,
      "object_position": null,
      "order": null,
      "overflow": null,
      "overflow_x": null,
      "overflow_y": null,
      "padding": null,
      "right": null,
      "top": null,
      "visibility": null,
      "width": null
     }
    },
    "659e192bfb3549c1bd94326a874cfff4": {
     "model_module": "@jupyter-widgets/controls",
     "model_name": "HBoxModel",
     "state": {
      "_dom_classes": [],
      "_model_module": "@jupyter-widgets/controls",
      "_model_module_version": "1.5.0",
      "_model_name": "HBoxModel",
      "_view_count": null,
      "_view_module": "@jupyter-widgets/controls",
      "_view_module_version": "1.5.0",
      "_view_name": "HBoxView",
      "box_style": "",
      "children": [
       "IPY_MODEL_e871629e7883493d9b9b45838932e9b9",
       "IPY_MODEL_67fb97a67d5849c8ba7cb02531a1498a"
      ],
      "layout": "IPY_MODEL_10a02bd4ee9141e18dbf524a2bad1be5"
     }
    },
    "67fb97a67d5849c8ba7cb02531a1498a": {
     "model_module": "@jupyter-widgets/controls",
     "model_name": "HTMLModel",
     "state": {
      "_dom_classes": [],
      "_model_module": "@jupyter-widgets/controls",
      "_model_module_version": "1.5.0",
      "_model_name": "HTMLModel",
      "_view_count": null,
      "_view_module": "@jupyter-widgets/controls",
      "_view_module_version": "1.5.0",
      "_view_name": "HTMLView",
      "description": "",
      "description_tooltip": null,
      "layout": "IPY_MODEL_1f7f8a4010174e449ec96e8ca739530e",
      "placeholder": "​",
      "style": "IPY_MODEL_d1f7c8dec05140169ffd44b5d985ca3b",
      "value": " 456k/456k [00:00&lt;00:00, 888kB/s]"
     }
    },
    "6d1d0d8fe98f49baac41a9e44dfd1fe5": {
     "model_module": "@jupyter-widgets/base",
     "model_name": "LayoutModel",
     "state": {
      "_model_module": "@jupyter-widgets/base",
      "_model_module_version": "1.2.0",
      "_model_name": "LayoutModel",
      "_view_count": null,
      "_view_module": "@jupyter-widgets/base",
      "_view_module_version": "1.2.0",
      "_view_name": "LayoutView",
      "align_content": null,
      "align_items": null,
      "align_self": null,
      "border": null,
      "bottom": null,
      "display": null,
      "flex": null,
      "flex_flow": null,
      "grid_area": null,
      "grid_auto_columns": null,
      "grid_auto_flow": null,
      "grid_auto_rows": null,
      "grid_column": null,
      "grid_gap": null,
      "grid_row": null,
      "grid_template_areas": null,
      "grid_template_columns": null,
      "grid_template_rows": null,
      "height": null,
      "justify_content": null,
      "justify_items": null,
      "left": null,
      "margin": null,
      "max_height": null,
      "max_width": null,
      "min_height": null,
      "min_width": null,
      "object_fit": null,
      "object_position": null,
      "order": null,
      "overflow": null,
      "overflow_x": null,
      "overflow_y": null,
      "padding": null,
      "right": null,
      "top": null,
      "visibility": null,
      "width": null
     }
    },
    "7059935228d643f9bd76771194edab76": {
     "model_module": "@jupyter-widgets/controls",
     "model_name": "DescriptionStyleModel",
     "state": {
      "_model_module": "@jupyter-widgets/controls",
      "_model_module_version": "1.5.0",
      "_model_name": "DescriptionStyleModel",
      "_view_count": null,
      "_view_module": "@jupyter-widgets/base",
      "_view_module_version": "1.2.0",
      "_view_name": "StyleView",
      "description_width": ""
     }
    },
    "72d273e1a8844727b08d85bb5bc8ebdc": {
     "model_module": "@jupyter-widgets/controls",
     "model_name": "ProgressStyleModel",
     "state": {
      "_model_module": "@jupyter-widgets/controls",
      "_model_module_version": "1.5.0",
      "_model_name": "ProgressStyleModel",
      "_view_count": null,
      "_view_module": "@jupyter-widgets/base",
      "_view_module_version": "1.2.0",
      "_view_name": "StyleView",
      "bar_color": null,
      "description_width": "initial"
     }
    },
    "749c5808e9c0447da55addccb73b9e5c": {
     "model_module": "@jupyter-widgets/controls",
     "model_name": "ProgressStyleModel",
     "state": {
      "_model_module": "@jupyter-widgets/controls",
      "_model_module_version": "1.5.0",
      "_model_name": "ProgressStyleModel",
      "_view_count": null,
      "_view_module": "@jupyter-widgets/base",
      "_view_module_version": "1.2.0",
      "_view_name": "StyleView",
      "bar_color": null,
      "description_width": "initial"
     }
    },
    "75ca4b3f97b2491eba6600b44608d21c": {
     "model_module": "@jupyter-widgets/base",
     "model_name": "LayoutModel",
     "state": {
      "_model_module": "@jupyter-widgets/base",
      "_model_module_version": "1.2.0",
      "_model_name": "LayoutModel",
      "_view_count": null,
      "_view_module": "@jupyter-widgets/base",
      "_view_module_version": "1.2.0",
      "_view_name": "LayoutView",
      "align_content": null,
      "align_items": null,
      "align_self": null,
      "border": null,
      "bottom": null,
      "display": null,
      "flex": null,
      "flex_flow": null,
      "grid_area": null,
      "grid_auto_columns": null,
      "grid_auto_flow": null,
      "grid_auto_rows": null,
      "grid_column": null,
      "grid_gap": null,
      "grid_row": null,
      "grid_template_areas": null,
      "grid_template_columns": null,
      "grid_template_rows": null,
      "height": null,
      "justify_content": null,
      "justify_items": null,
      "left": null,
      "margin": null,
      "max_height": null,
      "max_width": null,
      "min_height": null,
      "min_width": null,
      "object_fit": null,
      "object_position": null,
      "order": null,
      "overflow": null,
      "overflow_x": null,
      "overflow_y": null,
      "padding": null,
      "right": null,
      "top": null,
      "visibility": null,
      "width": null
     }
    },
    "769be68f18ab41e3bf76127a46b51a4b": {
     "model_module": "@jupyter-widgets/controls",
     "model_name": "HTMLModel",
     "state": {
      "_dom_classes": [],
      "_model_module": "@jupyter-widgets/controls",
      "_model_module_version": "1.5.0",
      "_model_name": "HTMLModel",
      "_view_count": null,
      "_view_module": "@jupyter-widgets/controls",
      "_view_module_version": "1.5.0",
      "_view_name": "HTMLView",
      "description": "",
      "description_tooltip": null,
      "layout": "IPY_MODEL_e9475e0fb3964405a343e317c1fcfc68",
      "placeholder": "​",
      "style": "IPY_MODEL_d34daa0f83334cd995b24c1d326a4a7f",
      "value": " 694/694 [00:00&lt;00:00, 19.8kB/s]"
     }
    },
    "797feab0584f4aebb685959b5cec0948": {
     "model_module": "@jupyter-widgets/controls",
     "model_name": "FloatProgressModel",
     "state": {
      "_dom_classes": [],
      "_model_module": "@jupyter-widgets/controls",
      "_model_module_version": "1.5.0",
      "_model_name": "FloatProgressModel",
      "_view_count": null,
      "_view_module": "@jupyter-widgets/controls",
      "_view_module_version": "1.5.0",
      "_view_name": "ProgressView",
      "bar_style": "success",
      "description": "Downloading: 100%",
      "description_tooltip": null,
      "layout": "IPY_MODEL_7bbc384d112246e7a356dcc4da3c9095",
      "max": 694,
      "min": 0,
      "orientation": "horizontal",
      "style": "IPY_MODEL_cd26d2f9c8164a15913b039ddfb1c297",
      "value": 694
     }
    },
    "7a3fac45c4b84870949bc1771b8a16d3": {
     "model_module": "@jupyter-widgets/controls",
     "model_name": "HBoxModel",
     "state": {
      "_dom_classes": [],
      "_model_module": "@jupyter-widgets/controls",
      "_model_module_version": "1.5.0",
      "_model_name": "HBoxModel",
      "_view_count": null,
      "_view_module": "@jupyter-widgets/controls",
      "_view_module_version": "1.5.0",
      "_view_name": "HBoxView",
      "box_style": "",
      "children": [
       "IPY_MODEL_c544840559dc497481bf69482c46b513",
       "IPY_MODEL_a8c2360953a7433caff973eac9c0bd32"
      ],
      "layout": "IPY_MODEL_6d1d0d8fe98f49baac41a9e44dfd1fe5"
     }
    },
    "7bbc384d112246e7a356dcc4da3c9095": {
     "model_module": "@jupyter-widgets/base",
     "model_name": "LayoutModel",
     "state": {
      "_model_module": "@jupyter-widgets/base",
      "_model_module_version": "1.2.0",
      "_model_name": "LayoutModel",
      "_view_count": null,
      "_view_module": "@jupyter-widgets/base",
      "_view_module_version": "1.2.0",
      "_view_name": "LayoutView",
      "align_content": null,
      "align_items": null,
      "align_self": null,
      "border": null,
      "bottom": null,
      "display": null,
      "flex": null,
      "flex_flow": null,
      "grid_area": null,
      "grid_auto_columns": null,
      "grid_auto_flow": null,
      "grid_auto_rows": null,
      "grid_column": null,
      "grid_gap": null,
      "grid_row": null,
      "grid_template_areas": null,
      "grid_template_columns": null,
      "grid_template_rows": null,
      "height": null,
      "justify_content": null,
      "justify_items": null,
      "left": null,
      "margin": null,
      "max_height": null,
      "max_width": null,
      "min_height": null,
      "min_width": null,
      "object_fit": null,
      "object_position": null,
      "order": null,
      "overflow": null,
      "overflow_x": null,
      "overflow_y": null,
      "padding": null,
      "right": null,
      "top": null,
      "visibility": null,
      "width": null
     }
    },
    "7ce6c6c0b9544e53b4362a388fd00869": {
     "model_module": "@jupyter-widgets/controls",
     "model_name": "HTMLModel",
     "state": {
      "_dom_classes": [],
      "_model_module": "@jupyter-widgets/controls",
      "_model_module_version": "1.5.0",
      "_model_name": "HTMLModel",
      "_view_count": null,
      "_view_module": "@jupyter-widgets/controls",
      "_view_module_version": "1.5.0",
      "_view_name": "HTMLView",
      "description": "",
      "description_tooltip": null,
      "layout": "IPY_MODEL_03c8496cb4b04713a35e6ffaae4091c6",
      "placeholder": "​",
      "style": "IPY_MODEL_3491c6ca75ac4a6296dd607b2cceefe6",
      "value": " 694/694 [00:19&lt;00:00, 35.4B/s]"
     }
    },
    "7e688912efc547e698e351a1c6e15573": {
     "model_module": "@jupyter-widgets/controls",
     "model_name": "FloatProgressModel",
     "state": {
      "_dom_classes": [],
      "_model_module": "@jupyter-widgets/controls",
      "_model_module_version": "1.5.0",
      "_model_name": "FloatProgressModel",
      "_view_count": null,
      "_view_module": "@jupyter-widgets/controls",
      "_view_module_version": "1.5.0",
      "_view_name": "ProgressView",
      "bar_style": "success",
      "description": "Downloading: 100%",
      "description_tooltip": null,
      "layout": "IPY_MODEL_01ec1b4a28b04e6bab20efa7d35025a5",
      "max": 456318,
      "min": 0,
      "orientation": "horizontal",
      "style": "IPY_MODEL_749c5808e9c0447da55addccb73b9e5c",
      "value": 456318
     }
    },
    "827a527d852f4f48b0246ee57b55beb7": {
     "model_module": "@jupyter-widgets/base",
     "model_name": "LayoutModel",
     "state": {
      "_model_module": "@jupyter-widgets/base",
      "_model_module_version": "1.2.0",
      "_model_name": "LayoutModel",
      "_view_count": null,
      "_view_module": "@jupyter-widgets/base",
      "_view_module_version": "1.2.0",
      "_view_name": "LayoutView",
      "align_content": null,
      "align_items": null,
      "align_self": null,
      "border": null,
      "bottom": null,
      "display": null,
      "flex": null,
      "flex_flow": null,
      "grid_area": null,
      "grid_auto_columns": null,
      "grid_auto_flow": null,
      "grid_auto_rows": null,
      "grid_column": null,
      "grid_gap": null,
      "grid_row": null,
      "grid_template_areas": null,
      "grid_template_columns": null,
      "grid_template_rows": null,
      "height": null,
      "justify_content": null,
      "justify_items": null,
      "left": null,
      "margin": null,
      "max_height": null,
      "max_width": null,
      "min_height": null,
      "min_width": null,
      "object_fit": null,
      "object_position": null,
      "order": null,
      "overflow": null,
      "overflow_x": null,
      "overflow_y": null,
      "padding": null,
      "right": null,
      "top": null,
      "visibility": null,
      "width": null
     }
    },
    "8c2bcbe47f2d4e8e903ed1dfe3a9c578": {
     "model_module": "@jupyter-widgets/controls",
     "model_name": "HTMLModel",
     "state": {
      "_dom_classes": [],
      "_model_module": "@jupyter-widgets/controls",
      "_model_module_version": "1.5.0",
      "_model_name": "HTMLModel",
      "_view_count": null,
      "_view_module": "@jupyter-widgets/controls",
      "_view_module_version": "1.5.0",
      "_view_name": "HTMLView",
      "description": "",
      "description_tooltip": null,
      "layout": "IPY_MODEL_1b09731b56b443b68ae97c881b2ad447",
      "placeholder": "​",
      "style": "IPY_MODEL_0b3d65e0dbec4b3fb52e967ccc2d9686",
      "value": " 597M/597M [00:15&lt;00:00, 38.3MB/s]"
     }
    },
    "8c6b726955a34ea4b5ee74b5aca83f41": {
     "model_module": "@jupyter-widgets/controls",
     "model_name": "FloatProgressModel",
     "state": {
      "_dom_classes": [],
      "_model_module": "@jupyter-widgets/controls",
      "_model_module_version": "1.5.0",
      "_model_name": "FloatProgressModel",
      "_view_count": null,
      "_view_module": "@jupyter-widgets/controls",
      "_view_module_version": "1.5.0",
      "_view_name": "ProgressView",
      "bar_style": "success",
      "description": "Downloading: 100%",
      "description_tooltip": null,
      "layout": "IPY_MODEL_30f96bb80fc644859339f6a141347b50",
      "max": 597257159,
      "min": 0,
      "orientation": "horizontal",
      "style": "IPY_MODEL_72d273e1a8844727b08d85bb5bc8ebdc",
      "value": 597257159
     }
    },
    "9537ae3d3bcb4b1ab5e2baa675d5ae9d": {
     "model_module": "@jupyter-widgets/controls",
     "model_name": "ProgressStyleModel",
     "state": {
      "_model_module": "@jupyter-widgets/controls",
      "_model_module_version": "1.5.0",
      "_model_name": "ProgressStyleModel",
      "_view_count": null,
      "_view_module": "@jupyter-widgets/base",
      "_view_module_version": "1.2.0",
      "_view_name": "StyleView",
      "bar_color": null,
      "description_width": "initial"
     }
    },
    "953b9246588f4063adbf687eb0d72b36": {
     "model_module": "@jupyter-widgets/controls",
     "model_name": "ProgressStyleModel",
     "state": {
      "_model_module": "@jupyter-widgets/controls",
      "_model_module_version": "1.5.0",
      "_model_name": "ProgressStyleModel",
      "_view_count": null,
      "_view_module": "@jupyter-widgets/base",
      "_view_module_version": "1.2.0",
      "_view_name": "StyleView",
      "bar_color": null,
      "description_width": "initial"
     }
    },
    "9efd30b0f572402bbadff5a2ffa0977d": {
     "model_module": "@jupyter-widgets/controls",
     "model_name": "ProgressStyleModel",
     "state": {
      "_model_module": "@jupyter-widgets/controls",
      "_model_module_version": "1.5.0",
      "_model_name": "ProgressStyleModel",
      "_view_count": null,
      "_view_module": "@jupyter-widgets/base",
      "_view_module_version": "1.2.0",
      "_view_name": "StyleView",
      "bar_color": null,
      "description_width": "initial"
     }
    },
    "a417c5343fe74913b591959c6d63e1e7": {
     "model_module": "@jupyter-widgets/base",
     "model_name": "LayoutModel",
     "state": {
      "_model_module": "@jupyter-widgets/base",
      "_model_module_version": "1.2.0",
      "_model_name": "LayoutModel",
      "_view_count": null,
      "_view_module": "@jupyter-widgets/base",
      "_view_module_version": "1.2.0",
      "_view_name": "LayoutView",
      "align_content": null,
      "align_items": null,
      "align_self": null,
      "border": null,
      "bottom": null,
      "display": null,
      "flex": null,
      "flex_flow": null,
      "grid_area": null,
      "grid_auto_columns": null,
      "grid_auto_flow": null,
      "grid_auto_rows": null,
      "grid_column": null,
      "grid_gap": null,
      "grid_row": null,
      "grid_template_areas": null,
      "grid_template_columns": null,
      "grid_template_rows": null,
      "height": null,
      "justify_content": null,
      "justify_items": null,
      "left": null,
      "margin": null,
      "max_height": null,
      "max_width": null,
      "min_height": null,
      "min_width": null,
      "object_fit": null,
      "object_position": null,
      "order": null,
      "overflow": null,
      "overflow_x": null,
      "overflow_y": null,
      "padding": null,
      "right": null,
      "top": null,
      "visibility": null,
      "width": null
     }
    },
    "a834209ab98e48428e442c89b17f20a9": {
     "model_module": "@jupyter-widgets/controls",
     "model_name": "HBoxModel",
     "state": {
      "_dom_classes": [],
      "_model_module": "@jupyter-widgets/controls",
      "_model_module_version": "1.5.0",
      "_model_name": "HBoxModel",
      "_view_count": null,
      "_view_module": "@jupyter-widgets/controls",
      "_view_module_version": "1.5.0",
      "_view_name": "HBoxView",
      "box_style": "",
      "children": [
       "IPY_MODEL_797feab0584f4aebb685959b5cec0948",
       "IPY_MODEL_769be68f18ab41e3bf76127a46b51a4b"
      ],
      "layout": "IPY_MODEL_02e52337522649fba4acafdd3bb48d15"
     }
    },
    "a8c2360953a7433caff973eac9c0bd32": {
     "model_module": "@jupyter-widgets/controls",
     "model_name": "HTMLModel",
     "state": {
      "_dom_classes": [],
      "_model_module": "@jupyter-widgets/controls",
      "_model_module_version": "1.5.0",
      "_model_name": "HTMLModel",
      "_view_count": null,
      "_view_module": "@jupyter-widgets/controls",
      "_view_module_version": "1.5.0",
      "_view_name": "HTMLView",
      "description": "",
      "description_tooltip": null,
      "layout": "IPY_MODEL_018443cbebba4d929e43661ce32af716",
      "placeholder": "​",
      "style": "IPY_MODEL_47a03ca16b284c3096772500431bc17b",
      "value": " 899k/899k [00:03&lt;00:00, 250kB/s]"
     }
    },
    "b34e938dff9b44b297f6e43140286fb0": {
     "model_module": "@jupyter-widgets/controls",
     "model_name": "HTMLModel",
     "state": {
      "_dom_classes": [],
      "_model_module": "@jupyter-widgets/controls",
      "_model_module_version": "1.5.0",
      "_model_name": "HTMLModel",
      "_view_count": null,
      "_view_module": "@jupyter-widgets/controls",
      "_view_module_version": "1.5.0",
      "_view_name": "HTMLView",
      "description": "",
      "description_tooltip": null,
      "layout": "IPY_MODEL_0eb678388f4a48b68d697d8bd975386e",
      "placeholder": "​",
      "style": "IPY_MODEL_289337ff60d9425fae543ec1926d79bc",
      "value": " 597M/597M [00:13&lt;00:00, 42.7MB/s]"
     }
    },
    "b5e1bb0186404171a614068732966747": {
     "model_module": "@jupyter-widgets/controls",
     "model_name": "HBoxModel",
     "state": {
      "_dom_classes": [],
      "_model_module": "@jupyter-widgets/controls",
      "_model_module_version": "1.5.0",
      "_model_name": "HBoxModel",
      "_view_count": null,
      "_view_module": "@jupyter-widgets/controls",
      "_view_module_version": "1.5.0",
      "_view_name": "HBoxView",
      "box_style": "",
      "children": [
       "IPY_MODEL_3d809ec90c8045b3a2170075af4a0340",
       "IPY_MODEL_bd78abf9130443faa56091a0fb8f43d9"
      ],
      "layout": "IPY_MODEL_01dea80f53f2464fb883f3fec1bd6172"
     }
    },
    "bd78abf9130443faa56091a0fb8f43d9": {
     "model_module": "@jupyter-widgets/controls",
     "model_name": "HTMLModel",
     "state": {
      "_dom_classes": [],
      "_model_module": "@jupyter-widgets/controls",
      "_model_module_version": "1.5.0",
      "_model_name": "HTMLModel",
      "_view_count": null,
      "_view_module": "@jupyter-widgets/controls",
      "_view_module_version": "1.5.0",
      "_view_name": "HTMLView",
      "description": "",
      "description_tooltip": null,
      "layout": "IPY_MODEL_09b25a467a4a42219f96bca14797406e",
      "placeholder": "​",
      "style": "IPY_MODEL_7059935228d643f9bd76771194edab76",
      "value": " 899k/899k [00:01&lt;00:00, 685kB/s]"
     }
    },
    "c544840559dc497481bf69482c46b513": {
     "model_module": "@jupyter-widgets/controls",
     "model_name": "FloatProgressModel",
     "state": {
      "_dom_classes": [],
      "_model_module": "@jupyter-widgets/controls",
      "_model_module_version": "1.5.0",
      "_model_name": "FloatProgressModel",
      "_view_count": null,
      "_view_module": "@jupyter-widgets/controls",
      "_view_module_version": "1.5.0",
      "_view_name": "ProgressView",
      "bar_style": "success",
      "description": "Downloading: 100%",
      "description_tooltip": null,
      "layout": "IPY_MODEL_a417c5343fe74913b591959c6d63e1e7",
      "max": 898823,
      "min": 0,
      "orientation": "horizontal",
      "style": "IPY_MODEL_27d651bf0ccf4ddf97ba235772efd720",
      "value": 898823
     }
    },
    "cd26d2f9c8164a15913b039ddfb1c297": {
     "model_module": "@jupyter-widgets/controls",
     "model_name": "ProgressStyleModel",
     "state": {
      "_model_module": "@jupyter-widgets/controls",
      "_model_module_version": "1.5.0",
      "_model_name": "ProgressStyleModel",
      "_view_count": null,
      "_view_module": "@jupyter-widgets/base",
      "_view_module_version": "1.2.0",
      "_view_name": "StyleView",
      "bar_color": null,
      "description_width": "initial"
     }
    },
    "d1f7c8dec05140169ffd44b5d985ca3b": {
     "model_module": "@jupyter-widgets/controls",
     "model_name": "DescriptionStyleModel",
     "state": {
      "_model_module": "@jupyter-widgets/controls",
      "_model_module_version": "1.5.0",
      "_model_name": "DescriptionStyleModel",
      "_view_count": null,
      "_view_module": "@jupyter-widgets/base",
      "_view_module_version": "1.2.0",
      "_view_name": "StyleView",
      "description_width": ""
     }
    },
    "d34daa0f83334cd995b24c1d326a4a7f": {
     "model_module": "@jupyter-widgets/controls",
     "model_name": "DescriptionStyleModel",
     "state": {
      "_model_module": "@jupyter-widgets/controls",
      "_model_module_version": "1.5.0",
      "_model_name": "DescriptionStyleModel",
      "_view_count": null,
      "_view_module": "@jupyter-widgets/base",
      "_view_module_version": "1.2.0",
      "_view_name": "StyleView",
      "description_width": ""
     }
    },
    "d3f76836ebcf4848a19f6c7a179b90d3": {
     "model_module": "@jupyter-widgets/base",
     "model_name": "LayoutModel",
     "state": {
      "_model_module": "@jupyter-widgets/base",
      "_model_module_version": "1.2.0",
      "_model_name": "LayoutModel",
      "_view_count": null,
      "_view_module": "@jupyter-widgets/base",
      "_view_module_version": "1.2.0",
      "_view_name": "LayoutView",
      "align_content": null,
      "align_items": null,
      "align_self": null,
      "border": null,
      "bottom": null,
      "display": null,
      "flex": null,
      "flex_flow": null,
      "grid_area": null,
      "grid_auto_columns": null,
      "grid_auto_flow": null,
      "grid_auto_rows": null,
      "grid_column": null,
      "grid_gap": null,
      "grid_row": null,
      "grid_template_areas": null,
      "grid_template_columns": null,
      "grid_template_rows": null,
      "height": null,
      "justify_content": null,
      "justify_items": null,
      "left": null,
      "margin": null,
      "max_height": null,
      "max_width": null,
      "min_height": null,
      "min_width": null,
      "object_fit": null,
      "object_position": null,
      "order": null,
      "overflow": null,
      "overflow_x": null,
      "overflow_y": null,
      "padding": null,
      "right": null,
      "top": null,
      "visibility": null,
      "width": null
     }
    },
    "da087ae897aa4ec381e4b09dc944cc1d": {
     "model_module": "@jupyter-widgets/controls",
     "model_name": "FloatProgressModel",
     "state": {
      "_dom_classes": [],
      "_model_module": "@jupyter-widgets/controls",
      "_model_module_version": "1.5.0",
      "_model_name": "FloatProgressModel",
      "_view_count": null,
      "_view_module": "@jupyter-widgets/controls",
      "_view_module_version": "1.5.0",
      "_view_name": "ProgressView",
      "bar_style": "success",
      "description": "Downloading: 100%",
      "description_tooltip": null,
      "layout": "IPY_MODEL_827a527d852f4f48b0246ee57b55beb7",
      "max": 694,
      "min": 0,
      "orientation": "horizontal",
      "style": "IPY_MODEL_fcd5037c4b794fbfb01094960257a2bd",
      "value": 694
     }
    },
    "e13ace672d244879ad5e63c4724adecf": {
     "model_module": "@jupyter-widgets/base",
     "model_name": "LayoutModel",
     "state": {
      "_model_module": "@jupyter-widgets/base",
      "_model_module_version": "1.2.0",
      "_model_name": "LayoutModel",
      "_view_count": null,
      "_view_module": "@jupyter-widgets/base",
      "_view_module_version": "1.2.0",
      "_view_name": "LayoutView",
      "align_content": null,
      "align_items": null,
      "align_self": null,
      "border": null,
      "bottom": null,
      "display": null,
      "flex": null,
      "flex_flow": null,
      "grid_area": null,
      "grid_auto_columns": null,
      "grid_auto_flow": null,
      "grid_auto_rows": null,
      "grid_column": null,
      "grid_gap": null,
      "grid_row": null,
      "grid_template_areas": null,
      "grid_template_columns": null,
      "grid_template_rows": null,
      "height": null,
      "justify_content": null,
      "justify_items": null,
      "left": null,
      "margin": null,
      "max_height": null,
      "max_width": null,
      "min_height": null,
      "min_width": null,
      "object_fit": null,
      "object_position": null,
      "order": null,
      "overflow": null,
      "overflow_x": null,
      "overflow_y": null,
      "padding": null,
      "right": null,
      "top": null,
      "visibility": null,
      "width": null
     }
    },
    "e871629e7883493d9b9b45838932e9b9": {
     "model_module": "@jupyter-widgets/controls",
     "model_name": "FloatProgressModel",
     "state": {
      "_dom_classes": [],
      "_model_module": "@jupyter-widgets/controls",
      "_model_module_version": "1.5.0",
      "_model_name": "FloatProgressModel",
      "_view_count": null,
      "_view_module": "@jupyter-widgets/controls",
      "_view_module_version": "1.5.0",
      "_view_name": "ProgressView",
      "bar_style": "success",
      "description": "Downloading: 100%",
      "description_tooltip": null,
      "layout": "IPY_MODEL_5c4273991a6c422c8c2c4ac92ce05b88",
      "max": 456318,
      "min": 0,
      "orientation": "horizontal",
      "style": "IPY_MODEL_9537ae3d3bcb4b1ab5e2baa675d5ae9d",
      "value": 456318
     }
    },
    "e9475e0fb3964405a343e317c1fcfc68": {
     "model_module": "@jupyter-widgets/base",
     "model_name": "LayoutModel",
     "state": {
      "_model_module": "@jupyter-widgets/base",
      "_model_module_version": "1.2.0",
      "_model_name": "LayoutModel",
      "_view_count": null,
      "_view_module": "@jupyter-widgets/base",
      "_view_module_version": "1.2.0",
      "_view_name": "LayoutView",
      "align_content": null,
      "align_items": null,
      "align_self": null,
      "border": null,
      "bottom": null,
      "display": null,
      "flex": null,
      "flex_flow": null,
      "grid_area": null,
      "grid_auto_columns": null,
      "grid_auto_flow": null,
      "grid_auto_rows": null,
      "grid_column": null,
      "grid_gap": null,
      "grid_row": null,
      "grid_template_areas": null,
      "grid_template_columns": null,
      "grid_template_rows": null,
      "height": null,
      "justify_content": null,
      "justify_items": null,
      "left": null,
      "margin": null,
      "max_height": null,
      "max_width": null,
      "min_height": null,
      "min_width": null,
      "object_fit": null,
      "object_position": null,
      "order": null,
      "overflow": null,
      "overflow_x": null,
      "overflow_y": null,
      "padding": null,
      "right": null,
      "top": null,
      "visibility": null,
      "width": null
     }
    },
    "f2e5766f2bec4b839854d11e105419d4": {
     "model_module": "@jupyter-widgets/controls",
     "model_name": "HBoxModel",
     "state": {
      "_dom_classes": [],
      "_model_module": "@jupyter-widgets/controls",
      "_model_module_version": "1.5.0",
      "_model_name": "HBoxModel",
      "_view_count": null,
      "_view_module": "@jupyter-widgets/controls",
      "_view_module_version": "1.5.0",
      "_view_name": "HBoxView",
      "box_style": "",
      "children": [
       "IPY_MODEL_4d25ed9d8dd14cf09cc5071dba5544aa",
       "IPY_MODEL_8c2bcbe47f2d4e8e903ed1dfe3a9c578"
      ],
      "layout": "IPY_MODEL_2a2d6dd302ee43149cdbe1799d42bf47"
     }
    },
    "f84b1321438c448c9e62cf9770a37f70": {
     "model_module": "@jupyter-widgets/controls",
     "model_name": "DescriptionStyleModel",
     "state": {
      "_model_module": "@jupyter-widgets/controls",
      "_model_module_version": "1.5.0",
      "_model_name": "DescriptionStyleModel",
      "_view_count": null,
      "_view_module": "@jupyter-widgets/base",
      "_view_module_version": "1.2.0",
      "_view_name": "StyleView",
      "description_width": ""
     }
    },
    "fcd5037c4b794fbfb01094960257a2bd": {
     "model_module": "@jupyter-widgets/controls",
     "model_name": "ProgressStyleModel",
     "state": {
      "_model_module": "@jupyter-widgets/controls",
      "_model_module_version": "1.5.0",
      "_model_name": "ProgressStyleModel",
      "_view_count": null,
      "_view_module": "@jupyter-widgets/base",
      "_view_module_version": "1.2.0",
      "_view_name": "StyleView",
      "bar_color": null,
      "description_width": "initial"
     }
    }
   }
  }
 },
 "nbformat": 4,
 "nbformat_minor": 1
}
