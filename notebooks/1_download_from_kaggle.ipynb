{
 "cells": [
  {
   "cell_type": "code",
   "execution_count": 1,
   "metadata": {},
   "outputs": [
    {
     "name": "stdout",
     "output_type": "stream",
     "text": [
      "Defaulting to user installation because normal site-packages is not writeable\n",
      "Collecting kaggle\n",
      "  Using cached kaggle-1.5.10.tar.gz (59 kB)\n",
      "Requirement already satisfied: six>=1.10 in /data/rc/apps/rc/software/Anaconda3/2020.07/envs/deepNLP2020/lib/python3.7/site-packages (from kaggle) (1.15.0)\n",
      "Requirement already satisfied: certifi in /data/rc/apps/rc/software/Anaconda3/2020.07/envs/deepNLP2020/lib/python3.7/site-packages (from kaggle) (2020.6.20)\n",
      "Requirement already satisfied: python-dateutil in /data/rc/apps/rc/software/Anaconda3/2020.07/envs/deepNLP2020/lib/python3.7/site-packages (from kaggle) (2.8.1)\n",
      "Requirement already satisfied: requests in /data/rc/apps/rc/software/Anaconda3/2020.07/envs/deepNLP2020/lib/python3.7/site-packages (from kaggle) (2.24.0)\n",
      "Requirement already satisfied: tqdm in /data/rc/apps/rc/software/Anaconda3/2020.07/envs/deepNLP2020/lib/python3.7/site-packages (from kaggle) (4.51.0)\n",
      "Collecting python-slugify\n",
      "  Using cached python-slugify-4.0.1.tar.gz (11 kB)\n",
      "Requirement already satisfied: urllib3 in /data/rc/apps/rc/software/Anaconda3/2020.07/envs/deepNLP2020/lib/python3.7/site-packages (from kaggle) (1.25.11)\n",
      "Requirement already satisfied: idna<3,>=2.5 in /data/rc/apps/rc/software/Anaconda3/2020.07/envs/deepNLP2020/lib/python3.7/site-packages (from requests->kaggle) (2.10)\n",
      "Requirement already satisfied: chardet<4,>=3.0.2 in /data/rc/apps/rc/software/Anaconda3/2020.07/envs/deepNLP2020/lib/python3.7/site-packages (from requests->kaggle) (3.0.4)\n",
      "Collecting text-unidecode>=1.3\n",
      "  Using cached text_unidecode-1.3-py2.py3-none-any.whl (78 kB)\n",
      "Building wheels for collected packages: kaggle, python-slugify\n",
      "  Building wheel for kaggle (setup.py) ... \u001b[?25ldone\n",
      "\u001b[?25h  Created wheel for kaggle: filename=kaggle-1.5.10-py3-none-any.whl size=73269 sha256=6113c1ab3a1189d5307c34d876cf5393e88e0acd3118b1f3865453507b9e8d87\n",
      "  Stored in directory: /home/chrico/.cache/pip/wheels/ea/c5/fe/7e7fb5b3d1f150fac96188949b3d83d375a4c9df16ba557e52\n",
      "  Building wheel for python-slugify (setup.py) ... \u001b[?25ldone\n",
      "\u001b[?25h  Created wheel for python-slugify: filename=python_slugify-4.0.1-py2.py3-none-any.whl size=6769 sha256=692b40838a80d70b11a474f0d10aa16a99f65fa7b6c5666b40f8df731c0a3c3e\n",
      "  Stored in directory: /home/chrico/.cache/pip/wheels/48/1b/6f/5c1cfab22eacbe0095fc619786da6571b55253653c71324b5c\n",
      "Successfully built kaggle python-slugify\n",
      "Installing collected packages: text-unidecode, python-slugify, kaggle\n",
      "Successfully installed kaggle-1.5.10 python-slugify-4.0.1 text-unidecode-1.3\n"
     ]
    }
   ],
   "source": [
    "!pip install -qq kaggle"
   ]
  },
  {
   "cell_type": "code",
   "execution_count": 4,
   "metadata": {},
   "outputs": [
    {
     "name": "stdout",
     "output_type": "stream",
     "text": [
      "mkdir: cannot create directory ‘/home/chrico/.kaggle’: File exists\n",
      "Downloading real-and-fake-news-dataset.zip to /home/chrico/nlp-group-project-fall-2020-text-document-classification/notebooks\n",
      " 87%|██████████████████████████████████     | 10.0M/11.5M [00:00<00:00, 103MB/s]\n",
      "100%|██████████████████████████████████████| 11.5M/11.5M [00:00<00:00, 51.3MB/s]\n",
      "Downloading fake-news.zip to /home/chrico/nlp-group-project-fall-2020-text-document-classification/notebooks\n",
      " 82%|███████████████████████████████       | 38.0M/46.5M [00:00<00:00, 91.1MB/s]\n",
      "100%|██████████████████████████████████████| 46.5M/46.5M [00:00<00:00, 71.2MB/s]\n",
      "Archive:  ../inputs/real-and-fake-news-dataset.zip\n",
      "  inflating: ../inputs/news.csv      \n",
      "Archive:  ../inputs/fake-news.zip\n",
      "  inflating: ../inputs/submit.csv    \n",
      "  inflating: ../inputs/test.csv      \n",
      "  inflating: ../inputs/train.csv     \n"
     ]
    }
   ],
   "source": [
    "!mkdir ~/.kaggle\n",
    "!cp ../kaggle.json ~/.kaggle/\n",
    "!chmod 600 ~/.kaggle/kaggle.json\n",
    "\n",
    "!kaggle datasets download -d nopdev/real-and-fake-news-dataset\n",
    "!kaggle competitions download -c fake-news\n",
    "\n",
    "!mv real-and-fake-news-dataset.zip ../inputs\n",
    "!mv fake-news.zip ../inputs\n",
    "!unzip ../inputs/real-and-fake-news-dataset.zip -d ../inputs\n",
    "!unzip ../inputs/fake-news.zip -d ../inputs"
   ]
  }
 ],
 "metadata": {
  "kernelspec": {
   "display_name": "Python [conda env:deepNLP2020]",
   "language": "python",
   "name": "conda-env-deepNLP2020-py"
  },
  "language_info": {
   "codemirror_mode": {
    "name": "ipython",
    "version": 3
   },
   "file_extension": ".py",
   "mimetype": "text/x-python",
   "name": "python",
   "nbconvert_exporter": "python",
   "pygments_lexer": "ipython3",
   "version": "3.7.9"
  }
 },
 "nbformat": 4,
 "nbformat_minor": 4
}
