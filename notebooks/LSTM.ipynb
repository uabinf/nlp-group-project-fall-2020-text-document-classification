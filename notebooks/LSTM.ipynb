{
 "cells": [
  {
   "cell_type": "code",
   "execution_count": 1,
   "metadata": {},
   "outputs": [],
   "source": [
    "import tensorflow as tf\n",
    "import numpy as np\n",
    "import pandas as pd\n",
    "\n",
    "import nltk\n",
    "import gensim.downloader\n",
    "import re\n",
    "from calendar import month_name, month_abbr\n",
    "from collections import Counter\n",
    "\n",
    "from sklearn import preprocessing\n",
    "from sklearn.utils import class_weight\n",
    "from sklearn.manifold import TSNE\n",
    "\n",
    "import matplotlib.pyplot as plt\n",
    "from pprint import pprint\n",
    "\n",
    "RANDOM_SEED = 0\n",
    "np.random.seed(RANDOM_SEED)\n",
    "stopwords = nltk.corpus.stopwords.words('english')\n",
    "\n",
    "NUMERIC = '~NUMERIC~'\n",
    "DATE = '~DATE~'\n",
    "URL = '~URL~'\n",
    "PADCHAR = '~PADCHAR~'\n",
    "UNKNOWN = '~UNKNOWN~'\n",
    "\n",
    "month_names='|'.join(month_name[i] for i in range(1,13))\n",
    "month_abbrs='|'.join(month_abbr[i] for i in range(1,13))\n",
    "date_regex='('+month_names+'|'+month_abbrs+')\\s[0-9]{1,2}(st|nd|rd|th)?(,\\s[0-9]{4})?'\n",
    "url_regex = '(www\\.|http://|https://)\\S+|\\S+\\.(co|org|net|info|be|gov|edu|html|jpg|jpeg|png|gif)'\n",
    "\n",
    "PERCENT_VAL = 0.1\n",
    "TEST_SIZE = 1000"
   ]
  },
  {
   "cell_type": "code",
   "execution_count": 2,
   "metadata": {
    "scrolled": false
   },
   "outputs": [
    {
     "name": "stdout",
     "output_type": "stream",
     "text": [
      "CPU times: user 1min 6s, sys: 4.13 s, total: 1min 10s\n",
      "Wall time: 1min 22s\n"
     ]
    }
   ],
   "source": [
    "%%time\n",
    "EMBED_SIZE = 300\n",
    "google300 = gensim.downloader.load('word2vec-google-news-300')\n",
    "S = Counter()\n",
    "C = Counter()\n",
    "for word in google300.vocab:\n",
    "    lower = word.lower()\n",
    "    if lower in stopwords: continue\n",
    "    S[lower] += google300[word]\n",
    "    C[lower] += 1\n",
    "google300 = {w: s / c for w, s, c in zip(S.keys(), S.values(), C.values())}"
   ]
  },
  {
   "cell_type": "code",
   "execution_count": 3,
   "metadata": {
    "scrolled": true
   },
   "outputs": [],
   "source": [
    "news = pd.read_csv('fake-news/train.csv')\n",
    "news = news.dropna()\n",
    "news = news[['title','text','label']]\n",
    "news = news.sample(frac=1, random_state=RANDOM_SEED)"
   ]
  },
  {
   "cell_type": "code",
   "execution_count": 4,
   "metadata": {},
   "outputs": [
    {
     "name": "stdout",
     "output_type": "stream",
     "text": [
      "8820 6736\n",
      "990 739\n",
      "551 449\n"
     ]
    }
   ],
   "source": [
    "lb = preprocessing.LabelBinarizer()\n",
    "y = lb.fit_transform(news.label)\n",
    "y_te = y[:TEST_SIZE]\n",
    "y = y[TEST_SIZE:]\n",
    "\n",
    "trval = news.iloc[TEST_SIZE:]\n",
    "trval = trval.copy(deep=True)\n",
    "te = news.iloc[:TEST_SIZE]\n",
    "te = te.copy(deep=True)\n",
    "\n",
    "tr_size = int((1 - PERCENT_VAL) * len(trval))\n",
    "tr = trval.iloc[:tr_size]\n",
    "val = trval.iloc[tr_size:]\n",
    "\n",
    "print(len(tr[tr.label==0]), len(tr[tr.label==1]))\n",
    "print(len(val[val.label==0]), len(val[val.label==1]))\n",
    "print(len(te[te.label==0]), len(te[te.label==1]))"
   ]
  },
  {
   "cell_type": "code",
   "execution_count": 5,
   "metadata": {
    "scrolled": true
   },
   "outputs": [
    {
     "name": "stdout",
     "output_type": "stream",
     "text": [
      "CPU times: user 11min 18s, sys: 661 ms, total: 11min 18s\n",
      "Wall time: 11min 19s\n"
     ]
    }
   ],
   "source": [
    "%%time\n",
    "def split_by_case(s):\n",
    "    if (not s[1:].isupper()) and (not s[1:].islower()):\n",
    "        for i in range(1,len(s)-1):\n",
    "            if s[i-1].islower() and s[i].isupper():\n",
    "                return [s[:i]] + split_by_case(s[i:])\n",
    "            elif s[i].islower() and s[i+1].isupper():\n",
    "                return [s[:i+1]] + split_by_case(s[i+1:])\n",
    "    return [s]\n",
    "\n",
    "def supertokenize(txt):\n",
    "    txt = re.sub(date_regex, DATE, re.sub(url_regex, URL, txt))\n",
    "    tokens = nltk.word_tokenize(txt)\n",
    "    y = []\n",
    "    for t in tokens:\n",
    "        if t in '!\"\\'(),--./:;<?[\\\\]{|}“”‘’—': continue\n",
    "        t = t.lower()\n",
    "        if t != \"n't\": t = re.sub('[\"\\']','',t)\n",
    "        if t in stopwords: continue\n",
    "        if t == URL:\n",
    "            y.append(URL)\n",
    "            continue\n",
    "        if (re.sub('^[0-9]+(/[0-9]+)+$','',t) == '') or (t == DATE):\n",
    "            y.append(DATE)\n",
    "            continue\n",
    "        if t.isnumeric() or\\\n",
    "        (t[:-2].isnumeric() and (t[-2:].lower() in ['st','nd'])):\n",
    "            y.append(NUMERIC)\n",
    "            continue\n",
    "        if t in google300:\n",
    "            y.append(t)\n",
    "        else:\n",
    "            if t.replace('.', '') in google300:\n",
    "                y.append(t.replace('.', ''))\n",
    "                continue\n",
    "            is_found = False\n",
    "            for x in split_by_case(re.sub('[^A-Za-z]','',t)):\n",
    "                if x in google300:\n",
    "                    y.append(x)\n",
    "                    is_found = True\n",
    "            if is_found: continue\n",
    "            for st in re.split('-',re.sub('[^A-Za-z0-9\\.~]','-',t)):\n",
    "                for x in [st, st[:-1], st[1:], st.replace('s','z'),\n",
    "                          st.replace('ou','o'), st.replace('re','er')]:\n",
    "                    if x in google300:\n",
    "                        y.append(x)\n",
    "                        is_found = True\n",
    "                        break\n",
    "            if not is_found: y.append(UNKNOWN)\n",
    "    return y\n",
    "\n",
    "def supertokenizeplus(x, lab):\n",
    "    global wc_all, wc_fake, wc_real\n",
    "    \n",
    "    y = supertokenize(x)\n",
    "    \n",
    "    wc_all += Counter(y)\n",
    "    \n",
    "    c = Counter()\n",
    "    for a in y: c[a] = 1\n",
    "    if lab == 1:\n",
    "        wc_fake += c\n",
    "    else:\n",
    "        wc_real += c\n",
    "    \n",
    "    return y\n",
    "\n",
    "wc_all=Counter()\n",
    "wc_fake=Counter()\n",
    "wc_real=Counter()\n",
    "trval['tokenized_title'] = trval.apply(lambda x: supertokenizeplus(x.title,x.label),axis=1)\n",
    "trval['tokenized_text'] = trval.apply(lambda x: supertokenizeplus(x.text,x.label),axis=1)"
   ]
  },
  {
   "cell_type": "code",
   "execution_count": 6,
   "metadata": {},
   "outputs": [
    {
     "data": {
      "text/plain": [
       "(25002,\n",
       " [('york', 78.47394695146568),\n",
       "  ('times', 71.15367360741507),\n",
       "  ('new', 68.66280945930444),\n",
       "  ('mr.', 59.96479589870816),\n",
       "  ('breitbart', 59.26412908810515),\n",
       "  ('said', 47.811481733299686),\n",
       "  ('s.', 45.210467836523684),\n",
       "  ('ms.', 44.68743932582065),\n",
       "  ('u.', 44.44265930162377),\n",
       "  ('a.', 39.3531969916947)])"
      ]
     },
     "execution_count": 6,
     "metadata": {},
     "output_type": "execute_result"
    }
   ],
   "source": [
    "term_freq = Counter()\n",
    "total_wc_all = np.sum(list(wc_all.values()))\n",
    "for k in wc_all:\n",
    "    term_freq[k] = np.abs(wc_real[k] - wc_fake[k]) /\\\n",
    "                  np.sqrt(wc_real[k] + wc_fake[k]) + wc_all[k] / total_wc_all\n",
    "thresh = term_freq.most_common(25000)[-1][1]\n",
    "tokens = [k for k, v in term_freq.items() if v >= thresh]\n",
    "\n",
    "vocab, i = {PADCHAR: 0, DATE: 1, URL: 2, NUMERIC: 3, UNKNOWN: 4}, 5\n",
    "for w in tokens:\n",
    "    if w in (PADCHAR, DATE, URL, NUMERIC, UNKNOWN): continue\n",
    "    vocab[w] = i\n",
    "    i += 1\n",
    "id2word = {v:k for k,v in vocab.items()}\n",
    "\n",
    "i, term_freq.most_common(10)"
   ]
  },
  {
   "cell_type": "code",
   "execution_count": 7,
   "metadata": {},
   "outputs": [
    {
     "name": "stdout",
     "output_type": "stream",
     "text": [
      "CPU times: user 23.3 s, sys: 40 ms, total: 23.3 s\n",
      "Wall time: 23.3 s\n"
     ]
    }
   ],
   "source": [
    "%%time\n",
    "te['tokenized_title'] = te.apply(lambda x: supertokenize(x.title),axis=1)\n",
    "te['tokenized_text'] = te.apply(lambda x: supertokenize(x.text),axis=1)"
   ]
  },
  {
   "cell_type": "code",
   "execution_count": 8,
   "metadata": {
    "scrolled": true
   },
   "outputs": [],
   "source": [
    "def clean(text,length):\n",
    "    f = [vocab[w] if w in vocab else vocab[UNKNOWN] for w in text]\n",
    "    f = f[:length]\n",
    "    return (length - len(f)) * [vocab[PADCHAR]] + f\n",
    "trval['text_as_ints'] = trval.tokenized_text.apply(clean,args=[512])\n",
    "trval['title_as_ints'] = trval.tokenized_text.apply(clean,args=[64])\n",
    "te['text_as_ints'] = te.tokenized_text.apply(clean,args=[512])\n",
    "te['title_as_ints'] = te.tokenized_text.apply(clean,args=[64])\n",
    "\n",
    "X = [np.array(trval.text_as_ints.to_list()), np.array(trval.title_as_ints.to_list())]\n",
    "X_te = [np.array(te.text_as_ints.to_list()), np.array(te.title_as_ints.to_list())]"
   ]
  },
  {
   "cell_type": "code",
   "execution_count": 9,
   "metadata": {
    "scrolled": true
   },
   "outputs": [
    {
     "name": "stdout",
     "output_type": "stream",
     "text": [
      "Model: \"model\"\n",
      "__________________________________________________________________________________________________\n",
      "Layer (type)                    Output Shape         Param #     Connected to                     \n",
      "==================================================================================================\n",
      "input_1 (InputLayer)            [(None, None)]       0                                            \n",
      "__________________________________________________________________________________________________\n",
      "input_2 (InputLayer)            [(None, None)]       0                                            \n",
      "__________________________________________________________________________________________________\n",
      "embedding (Embedding)           (None, None, 300)    7500600     input_1[0][0]                    \n",
      "__________________________________________________________________________________________________\n",
      "lambda (Lambda)                 (None, None)         0           input_1[0][0]                    \n",
      "                                                                 input_2[0][0]                    \n",
      "__________________________________________________________________________________________________\n",
      "embedding_1 (Embedding)         (None, None, 300)    7500600     input_2[0][0]                    \n",
      "__________________________________________________________________________________________________\n",
      "bidirectional (Bidirectional)   (None, 100)          105600      embedding[0][0]                  \n",
      "                                                                 lambda[0][0]                     \n",
      "__________________________________________________________________________________________________\n",
      "gru_1 (GRU)                     (None, 50)           52800       embedding_1[0][0]                \n",
      "                                                                 lambda[1][0]                     \n",
      "__________________________________________________________________________________________________\n",
      "concatenate (Concatenate)       (None, 150)          0           bidirectional[0][0]              \n",
      "                                                                 gru_1[0][0]                      \n",
      "__________________________________________________________________________________________________\n",
      "dense (Dense)                   (None, 1)            151         concatenate[0][0]                \n",
      "==================================================================================================\n",
      "Total params: 15,159,751\n",
      "Trainable params: 158,551\n",
      "Non-trainable params: 15,001,200\n",
      "__________________________________________________________________________________________________\n"
     ]
    }
   ],
   "source": [
    "input_text = tf.keras.layers.Input(shape=[None])\n",
    "input_title = tf.keras.layers.Input(shape=[None])\n",
    "mask = tf.keras.layers.Lambda(lambda inputs: tf.keras.backend.not_equal(inputs, 0))\n",
    "def emb():\n",
    "    e = np.zeros((len(vocab),EMBED_SIZE))\n",
    "    v = np.random.uniform(-1,1,EMBED_SIZE)\n",
    "    for i in range(len(vocab)):\n",
    "        try:\n",
    "            g = google300[id2word[i]]\n",
    "            e[i] = g + v * np.linalg.norm(g) / np.linalg.norm(v)\n",
    "        except KeyError:\n",
    "            assert i < 5, i\n",
    "            if i in [1, 2, 3]: # leave unknown and padding zero\n",
    "                e[i] = v / np.linalg.norm(v)\n",
    "    return tf.keras.layers.Embedding(input_dim=e.shape[0],\n",
    "                                     output_dim=e.shape[1],\n",
    "                                     weights=[e],\n",
    "                                     trainable=False)\n",
    "emb_text = emb()(input_text)\n",
    "emb_title = emb()(input_title)\n",
    "l1l2 = tf.keras.regularizers.L1L2(l1=1e-6,l2=2e-6)\n",
    "def gru(units):\n",
    "    return tf.keras.layers.GRU(units, dropout=0.2, recurrent_dropout=0.2,\n",
    "                               kernel_regularizer=l1l2)\n",
    "gru_text = tf.keras.layers.Bidirectional(gru(50))(emb_text,mask=mask(input_text))\n",
    "gru_title = gru(50)(emb_title,mask=mask(input_title))\n",
    "concat = tf.keras.layers.Concatenate()([gru_text, gru_title])\n",
    "outputs = tf.keras.layers.Dense(1, activation='sigmoid')(concat)\n",
    "model = tf.keras.Model(inputs=[input_text, input_title], outputs=[outputs])\n",
    "model.summary()"
   ]
  },
  {
   "cell_type": "code",
   "execution_count": 10,
   "metadata": {},
   "outputs": [
    {
     "name": "stdout",
     "output_type": "stream",
     "text": [
      "271/271 [==============================] - 436s 2s/step - loss: 0.4878 - accuracy: 0.7496\n"
     ]
    },
    {
     "data": {
      "text/plain": [
       "<tensorflow.python.keras.callbacks.History at 0x7f1508357610>"
      ]
     },
     "execution_count": 10,
     "metadata": {},
     "output_type": "execute_result"
    }
   ],
   "source": [
    "model.compile(loss='binary_crossentropy', optimizer='adam', metrics='accuracy')\n",
    "model.fit(X, y, epochs=1, batch_size=64)"
   ]
  },
  {
   "cell_type": "code",
   "execution_count": 11,
   "metadata": {
    "scrolled": true
   },
   "outputs": [
    {
     "name": "stdout",
     "output_type": "stream",
     "text": [
      "Model: \"model\"\n",
      "__________________________________________________________________________________________________\n",
      "Layer (type)                    Output Shape         Param #     Connected to                     \n",
      "==================================================================================================\n",
      "input_1 (InputLayer)            [(None, None)]       0                                            \n",
      "__________________________________________________________________________________________________\n",
      "input_2 (InputLayer)            [(None, None)]       0                                            \n",
      "__________________________________________________________________________________________________\n",
      "embedding (Embedding)           (None, None, 300)    7500600     input_1[0][0]                    \n",
      "__________________________________________________________________________________________________\n",
      "lambda (Lambda)                 (None, None)         0           input_1[0][0]                    \n",
      "                                                                 input_2[0][0]                    \n",
      "__________________________________________________________________________________________________\n",
      "embedding_1 (Embedding)         (None, None, 300)    7500600     input_2[0][0]                    \n",
      "__________________________________________________________________________________________________\n",
      "bidirectional (Bidirectional)   (None, 100)          105600      embedding[0][0]                  \n",
      "                                                                 lambda[0][0]                     \n",
      "__________________________________________________________________________________________________\n",
      "gru_1 (GRU)                     (None, 50)           52800       embedding_1[0][0]                \n",
      "                                                                 lambda[1][0]                     \n",
      "__________________________________________________________________________________________________\n",
      "concatenate (Concatenate)       (None, 150)          0           bidirectional[0][0]              \n",
      "                                                                 gru_1[0][0]                      \n",
      "__________________________________________________________________________________________________\n",
      "dense (Dense)                   (None, 1)            151         concatenate[0][0]                \n",
      "==================================================================================================\n",
      "Total params: 15,159,751\n",
      "Trainable params: 15,001,200\n",
      "Non-trainable params: 158,551\n",
      "__________________________________________________________________________________________________\n"
     ]
    }
   ],
   "source": [
    "for i in range(len(model.layers)):\n",
    "    model.layers[i].trainable = False\n",
    "    if i in [2, 4]:\n",
    "        model.layers[i].trainable = True\n",
    "model.summary()"
   ]
  },
  {
   "cell_type": "code",
   "execution_count": 12,
   "metadata": {},
   "outputs": [
    {
     "name": "stdout",
     "output_type": "stream",
     "text": [
      "271/271 [==============================] - 402s 1s/step - loss: 0.1627 - accuracy: 0.9404\n"
     ]
    },
    {
     "data": {
      "text/plain": [
       "<tensorflow.python.keras.callbacks.History at 0x7f1502baa550>"
      ]
     },
     "execution_count": 12,
     "metadata": {},
     "output_type": "execute_result"
    }
   ],
   "source": [
    "model.compile(loss='binary_crossentropy', optimizer='adam', metrics='accuracy')\n",
    "model.fit(X, y, epochs=1, batch_size=64)"
   ]
  },
  {
   "cell_type": "code",
   "execution_count": 13,
   "metadata": {
    "scrolled": true
   },
   "outputs": [
    {
     "name": "stdout",
     "output_type": "stream",
     "text": [
      "Model: \"model\"\n",
      "__________________________________________________________________________________________________\n",
      "Layer (type)                    Output Shape         Param #     Connected to                     \n",
      "==================================================================================================\n",
      "input_1 (InputLayer)            [(None, None)]       0                                            \n",
      "__________________________________________________________________________________________________\n",
      "input_2 (InputLayer)            [(None, None)]       0                                            \n",
      "__________________________________________________________________________________________________\n",
      "embedding (Embedding)           (None, None, 300)    7500600     input_1[0][0]                    \n",
      "__________________________________________________________________________________________________\n",
      "lambda (Lambda)                 (None, None)         0           input_1[0][0]                    \n",
      "                                                                 input_2[0][0]                    \n",
      "__________________________________________________________________________________________________\n",
      "embedding_1 (Embedding)         (None, None, 300)    7500600     input_2[0][0]                    \n",
      "__________________________________________________________________________________________________\n",
      "bidirectional (Bidirectional)   (None, 100)          105600      embedding[0][0]                  \n",
      "                                                                 lambda[0][0]                     \n",
      "__________________________________________________________________________________________________\n",
      "gru_1 (GRU)                     (None, 50)           52800       embedding_1[0][0]                \n",
      "                                                                 lambda[1][0]                     \n",
      "__________________________________________________________________________________________________\n",
      "concatenate (Concatenate)       (None, 150)          0           bidirectional[0][0]              \n",
      "                                                                 gru_1[0][0]                      \n",
      "__________________________________________________________________________________________________\n",
      "dense (Dense)                   (None, 1)            151         concatenate[0][0]                \n",
      "==================================================================================================\n",
      "Total params: 15,159,751\n",
      "Trainable params: 15,159,751\n",
      "Non-trainable params: 0\n",
      "__________________________________________________________________________________________________\n"
     ]
    }
   ],
   "source": [
    "for i in range(len(model.layers)):\n",
    "    model.layers[i].trainable = True\n",
    "model.summary()"
   ]
  },
  {
   "cell_type": "code",
   "execution_count": 14,
   "metadata": {},
   "outputs": [
    {
     "name": "stdout",
     "output_type": "stream",
     "text": [
      "Epoch 1/10\n",
      "487/487 [==============================] - 701s 1s/step - loss: 0.0596 - accuracy: 0.9848 - val_loss: 0.0486 - val_accuracy: 0.9884\n",
      "Epoch 2/10\n",
      "487/487 [==============================] - 683s 1s/step - loss: 0.0172 - accuracy: 0.9987 - val_loss: 0.0500 - val_accuracy: 0.9861\n",
      "Epoch 3/10\n",
      "487/487 [==============================] - 682s 1s/step - loss: 0.0250 - accuracy: 0.9967 - val_loss: 0.0456 - val_accuracy: 0.9884\n",
      "Epoch 4/10\n",
      "487/487 [==============================] - 2319s 5s/step - loss: 0.0103 - accuracy: 0.9997 - val_loss: 0.0482 - val_accuracy: 0.9867\n",
      "Epoch 5/10\n",
      "487/487 [==============================] - 693s 1s/step - loss: 0.0092 - accuracy: 0.9999 - val_loss: 0.0475 - val_accuracy: 0.9867\n",
      "Epoch 6/10\n",
      "487/487 [==============================] - 673s 1s/step - loss: 0.0080 - accuracy: 1.0000 - val_loss: 0.0452 - val_accuracy: 0.9884\n",
      "Epoch 7/10\n",
      "487/487 [==============================] - 674s 1s/step - loss: 0.0076 - accuracy: 0.9998 - val_loss: 0.1208 - val_accuracy: 0.9560\n",
      "Epoch 8/10\n",
      "487/487 [==============================] - 674s 1s/step - loss: 0.0310 - accuracy: 0.9949 - val_loss: 0.0489 - val_accuracy: 0.9844\n",
      "Epoch 9/10\n",
      "487/487 [==============================] - 583s 1s/step - loss: 0.0082 - accuracy: 1.0000 - val_loss: 0.0482 - val_accuracy: 0.9838\n",
      "Epoch 10/10\n",
      "487/487 [==============================] - 343s 704ms/step - loss: 0.0074 - accuracy: 1.0000 - val_loss: 0.0487 - val_accuracy: 0.9838\n"
     ]
    },
    {
     "data": {
      "text/plain": [
       "<tensorflow.python.keras.callbacks.History at 0x7f14dc60c430>"
      ]
     },
     "execution_count": 14,
     "metadata": {},
     "output_type": "execute_result"
    }
   ],
   "source": [
    "from sklearn.utils import class_weight\n",
    "model.compile(loss='binary_crossentropy', optimizer='Nadam', metrics='accuracy')\n",
    "checkpoint_filepath = '/tmp/checkpoint_v0'\n",
    "class_weights = class_weight.compute_class_weight('balanced', classes=[0, 1],\n",
    "                                                  y=[w for x in y for w in x])\n",
    "class_weights = {i: weight for i, weight in enumerate(class_weights)}\n",
    "model.fit(\n",
    "    X, y, validation_split=PERCENT_VAL, epochs=10, batch_size=32,\n",
    "    callbacks=[tf.keras.callbacks.ModelCheckpoint(\n",
    "        filepath=checkpoint_filepath,\n",
    "        save_weights_only=True,\n",
    "        monitor='val_accuracy',\n",
    "        mode='max',\n",
    "        save_best_only=True\n",
    "    )], class_weight=class_weights\n",
    ")"
   ]
  },
  {
   "cell_type": "code",
   "execution_count": 15,
   "metadata": {},
   "outputs": [
    {
     "data": {
      "text/plain": [
       "('Trump’s National Security Adviser: “Islam is a Political Ideology… Hides behind this Notion of it being a Religion”!',\n",
       " 'by Onan Coca, Freedom OutPost : \\nIn a speech from August that is now making waves across the country, president-elect Donald Trump’s National Security Adviser designate, Lt. General Michael Flynn (retired) told the Dallas chapter of ACT! For America that “Islam is a political ideology, it is a political ideology. It definitely hides behind this notion of it being a religion.” \\nThe comments are sure to be brought back up when Flynn goes before the Senate to testify during his confirmation hearings. However, Flynn’s personality and his public persona lead me to believe that he’s not worried about facing tough questions from hostile Democrat Senators. \\nIn his speech, Flynn further commented on the differences between Christianity and Islam before making some even more controversial comments about world Islam today. \\n“Islam is a political ideology, it is a political ideology. It definitely hides behind this notion of it being a religion. I have a very, very tough time because I don’t see a lot of people screaming ‘Jesus Christ’ with hatchetsor machetes or rifles shooting up clubs or hatcheting, literally axing families on a train. \\nOr like they just killed a couple of police officers with a machete. I mean, it’s unbelievable. So we have a problem. \\nIt’s like cancer. I’ve gone through cancer in my own life. And so it’s like cancer, and it’s like a malignant cancer, though in this case that has metastasized. \\nIt’s like I just said in the number of attacks in 22 countries in just the last 45 days. When I look back over the last 10 years or 15 years of my life and the things that I’ve seen and the things that I’ve witnessed against this very vicious threat. \\nThe folks at MRC TV cut video of Flynn’s speech with an interview he gave to MSNBC where the topic of discussion was Russia. In the interview Flynn explains why the current liberal stance towards Russia is all wrong – while Russia may not be a “good guy” in the narrative, they’re certainly preferable to the Muslim terrorists that we’re both fighting against. \\n“We have to deal with Russia,” he said. “We cannot make Russia an enemy. Russia is a nation that is deeply involved in the Middle East. Right now, the Middle East is totally unstable. We have over 5,000 of our own troops there in Iraq trying to fight the rise of ISIS.” \\n“Russia’s directly involved,” he said. “So we have to figure out ways to work with them instead of making them an antagonist.”',\n",
       " array([1]),\n",
       " array([0.01396784], dtype=float32))"
      ]
     },
     "execution_count": 15,
     "metadata": {},
     "output_type": "execute_result"
    }
   ],
   "source": [
    "model.load_weights(checkpoint_filepath)\n",
    "y_hat = model.predict(X_te)\n",
    "most_off = np.argmax(np.abs(y_hat-y_te))\n",
    "te.iloc[most_off].title, te.iloc[most_off].text, y_te[most_off], y_hat[most_off]"
   ]
  },
  {
   "cell_type": "code",
   "execution_count": 16,
   "metadata": {},
   "outputs": [
    {
     "name": "stdout",
     "output_type": "stream",
     "text": [
      "32/32 [==============================] - 3s 91ms/step - loss: 0.0720 - accuracy: 0.9750\n"
     ]
    },
    {
     "data": {
      "text/plain": [
       "[0.07201295346021652, 0.9750000238418579]"
      ]
     },
     "execution_count": 16,
     "metadata": {},
     "output_type": "execute_result"
    }
   ],
   "source": [
    "model.evaluate(X_te, y_te)"
   ]
  },
  {
   "cell_type": "code",
   "execution_count": 17,
   "metadata": {},
   "outputs": [],
   "source": [
    "def get_reshaped_weights(model,layer_id):\n",
    "    W=np.array(model.layers[layer_id].get_weights())\n",
    "    W=W.reshape(W.shape[1],W.shape[2])\n",
    "    return W\n",
    "text_embed = get_reshaped_weights(model,2)\n",
    "title_embed = get_reshaped_weights(model,4)"
   ]
  },
  {
   "cell_type": "code",
   "execution_count": 18,
   "metadata": {},
   "outputs": [
    {
     "name": "stderr",
     "output_type": "stream",
     "text": [
      "<ipython-input-18-92e1c33b0327>:8: RuntimeWarning: invalid value encountered in true_divide\n",
      "  cs = W.dot(b) / (np.linalg.norm(W, axis=1) * np.linalg.norm(b))\n",
      "<ipython-input-18-92e1c33b0327>:4: RuntimeWarning: invalid value encountered in greater_equal\n",
      "  n_ = np.sum(arr >= thresh)\n"
     ]
    },
    {
     "data": {
      "image/png": "[encoded data removed]",
      "text/plain": [
       "<Figure size 1080x1080 with 1 Axes>"
      ]
     },
     "metadata": {
      "needs_background": "light"
     },
     "output_type": "display_data"
    }
   ],
   "source": [
    "def get_top_n_plus_ties(arr, n):\n",
    "    sorted_args = np.argsort(-arr)\n",
    "    thresh = arr[sorted_args[n]]\n",
    "    n_ = np.sum(arr >= thresh)\n",
    "    return sorted_args[:n_]\n",
    "def get_most_similar(word, W, n):\n",
    "    b = W[vocab[word]]\n",
    "    cs = W.dot(b) / (np.linalg.norm(W, axis=1) * np.linalg.norm(b))\n",
    "    return get_top_n_plus_ties(cs, n)\n",
    "def create_words_plot(embed1, embed2, WORD, k=9):\n",
    "    ids1 = get_most_similar(WORD, embed1, k-1)\n",
    "    ids2 = get_most_similar(WORD, embed2, k-1)\n",
    "    words1 = [id2word[i] for i in ids1]\n",
    "    words2 = [id2word[i] for i in ids2]\n",
    "    v = TSNE(n_components=2,random_state=RANDOM_SEED).fit_transform(\n",
    "        np.concatenate([embed1[ids1],embed2[ids2]]))\n",
    "    fig = plt.figure(figsize=(15,15))\n",
    "    plt.scatter(v[:k,0],v[:k,1],facecolors='none',edgecolors='teal')\n",
    "    plt.scatter(v[k:,0],v[k:,1],facecolors='none',edgecolors='red')\n",
    "    for i, word in enumerate(words1):\n",
    "        plt.annotate(word,(v[i,0],v[i,1]),size=9.5)\n",
    "        if word == WORD:\n",
    "            plt.scatter(v[i,0],v[i,1],c='teal',s=300)\n",
    "    for i, word in enumerate(words2):\n",
    "        plt.annotate(word,(v[i+k,0],v[i+k,1]),size=9.5)\n",
    "        if word == WORD:\n",
    "            plt.scatter(v[i+k,0],v[i+k,1],c='red',s=300)\n",
    "create_words_plot(text_embed,title_embed,'headline')"
   ]
  }
 ],
 "metadata": {
  "kernelspec": {
   "display_name": "Python 3",
   "language": "python",
   "name": "python3"
  },
  "language_info": {
   "codemirror_mode": {
    "name": "ipython",
    "version": 3
   },
   "file_extension": ".py",
   "mimetype": "text/x-python",
   "name": "python",
   "nbconvert_exporter": "python",
   "pygments_lexer": "ipython3",
   "version": "3.8.3"
  }
 },
 "nbformat": 4,
 "nbformat_minor": 4
}
