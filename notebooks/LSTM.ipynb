{
 "cells": [
  {
   "cell_type": "code",
   "execution_count": 1,
   "metadata": {},
   "outputs": [
    {
     "data": {
      "text/html": [
       "<style>.container { width:75% !important; }</style>"
      ],
      "text/plain": [
       "<IPython.core.display.HTML object>"
      ]
     },
     "metadata": {},
     "output_type": "display_data"
    }
   ],
   "source": [
    "from IPython.core.display import display, HTML\n",
    "display(HTML(\"<style>.container { width:75% !important; }</style>\"))"
   ]
  },
  {
   "cell_type": "code",
   "execution_count": 2,
   "metadata": {},
   "outputs": [],
   "source": [
    "import tensorflow as tf\n",
    "import numpy as np\n",
    "import pandas as pd\n",
    "\n",
    "import nltk\n",
    "import gensim.downloader\n",
    "import re\n",
    "from calendar import day_name, day_abbr, month_name, month_abbr\n",
    "from collections import Counter\n",
    "\n",
    "from sklearn import preprocessing\n",
    "from sklearn.utils import class_weight\n",
    "# from sklearn.model_selection import train_test_split\n",
    "from sklearn.metrics import matthews_corrcoef\n",
    "from sklearn.manifold import TSNE\n",
    "\n",
    "import matplotlib.pyplot as plt\n",
    "\n",
    "NUM = '~NUM~'\n",
    "DATE = '~DATE~'\n",
    "URL = '~URL~'\n",
    "PAD = '~PAD~'\n",
    "UNK = '~UNK~'\n",
    "\n",
    "url_regex = '(www\\.|http://|https://)\\S+|\\S+\\.(co|org|net|info|be|gov|edu|html|jpg|jpeg|png|gif)'\n",
    "date_regex = '('        + '|'.join(day_name[i] for i in range(7)) +\\\n",
    "             '|'        + '|'.join(day_abbr[i] for i in range(7)) +\\\n",
    "             ')?,?\\s?(' + '|'.join(month_name[i] for i in range(1, 13)) +\\\n",
    "             '|'        + '|'.join(month_abbr[i] for i in range(1, 13)) +\\\n",
    "             \")\\s[0-9]{1,2}(st|nd|rd|th)?(,?\\s'?[0-9]{2,4})?\"\n",
    "\n",
    "stopwords = nltk.corpus.stopwords.words('english')\n",
    "\n",
    "PERCENT_TEST = 0.075\n",
    "PERCENT_VAL  = 0.075\n",
    "\n",
    "RANDOM_SEED = 0\n",
    "np.random.seed(RANDOM_SEED)"
   ]
  },
  {
   "cell_type": "code",
   "execution_count": 3,
   "metadata": {
    "scrolled": false
   },
   "outputs": [
    {
     "name": "stdout",
     "output_type": "stream",
     "text": [
      "CPU times: user 54.9 s, sys: 3.52 s, total: 58.4 s\n",
      "Wall time: 58.9 s\n"
     ]
    }
   ],
   "source": [
    "%%time\n",
    "EMBED_SIZE = 300\n",
    "google300 = gensim.downloader.load('word2vec-google-news-300')\n",
    "S = Counter()\n",
    "C = Counter()\n",
    "for word in google300.vocab:\n",
    "    lower = word.lower()\n",
    "    if lower in stopwords: continue\n",
    "    S[lower] += google300[word]\n",
    "    C[lower] += 1\n",
    "google300 = {w: s / c for w, s, c in zip(S.keys(), S.values(), C.values())}"
   ]
  },
  {
   "cell_type": "code",
   "execution_count": 4,
   "metadata": {
    "scrolled": true
   },
   "outputs": [],
   "source": [
    "news = pd.read_csv('fake-news/train.csv')\n",
    "news = news[['title','text','label']]\n",
    "news = news.dropna()\n",
    "news = news.sample(frac=1, random_state=RANDOM_SEED)"
   ]
  },
  {
   "cell_type": "code",
   "execution_count": 5,
   "metadata": {},
   "outputs": [
    {
     "name": "stdout",
     "output_type": "stream",
     "text": [
      "8820 8353\n",
      "771 744\n",
      "796 719\n"
     ]
    }
   ],
   "source": [
    "# binarize labels\n",
    "lb = preprocessing.LabelBinarizer()\n",
    "y = lb.fit_transform(news.label)\n",
    "\n",
    "test_size = int(PERCENT_TEST * len(news))\n",
    "\n",
    "# test data\n",
    "test = news.iloc[:test_size].copy(deep=True)\n",
    "y_test = y[:test_size]\n",
    "\n",
    "# training and validation data\n",
    "trainval = news.iloc[test_size:].copy(deep=True)\n",
    "y_trainval = y[test_size:]\n",
    "\n",
    "# expected result of validation_split (for estimating class weights)\n",
    "val_size = int(PERCENT_VAL * len(news))\n",
    "tr = trainval.iloc[:-val_size]\n",
    "val = trainval.iloc[-val_size:]\n",
    "\n",
    "print(len(tr[tr.label==0]), len(tr[tr.label==1]))\n",
    "print(len(val[val.label==0]), len(val[val.label==1]))\n",
    "print(len(test[test.label==0]), len(test[test.label==1]))"
   ]
  },
  {
   "cell_type": "code",
   "execution_count": 6,
   "metadata": {
    "scrolled": true
   },
   "outputs": [
    {
     "name": "stdout",
     "output_type": "stream",
     "text": [
      "CPU times: user 7min 32s, sys: 221 ms, total: 7min 32s\n",
      "Wall time: 7min 33s\n"
     ]
    }
   ],
   "source": [
    "%%time\n",
    "def split_by_case(s):\n",
    "    if (not s[1:].isupper()) and (not s[1:].islower()):\n",
    "        for i in range(1,len(s)-1):\n",
    "            if s[i-1].islower() and s[i].isupper():\n",
    "                return [s[:i]] + split_by_case(s[i:])\n",
    "            elif s[i].islower() and s[i+1].isupper():\n",
    "                return [s[:i+1]] + split_by_case(s[i+1:])\n",
    "    return [s]\n",
    "\n",
    "def supertokenize(txt):\n",
    "    txt = re.sub(date_regex, DATE, re.sub(url_regex, URL, txt))\n",
    "    tokens = nltk.word_tokenize(txt)\n",
    "    y = []\n",
    "    for t in tokens:\n",
    "        if t in '!\"\\'(),--./:;<?[\\\\]{|}“”‘’—': continue\n",
    "        t = t.lower()\n",
    "        if t != \"n't\": t = re.sub('[\"\\']','',t)\n",
    "        if t in stopwords: continue\n",
    "        if t == URL:\n",
    "            y.append(URL)\n",
    "            continue\n",
    "        if (t == DATE) or (re.sub('^[0-9]+(/[0-9]+)+$','',t) == ''):\n",
    "            y.append(DATE)\n",
    "            continue\n",
    "        if t.isnumeric() or (t[:-2].isnumeric() and (t[-2:] in ['st','nd','rd','th'])):\n",
    "            y.append(NUM)\n",
    "            continue\n",
    "        if t in google300:\n",
    "            y.append(t)\n",
    "        else:\n",
    "            if t + '.' in google300:\n",
    "                y.append(t + '.')\n",
    "                continue\n",
    "            if t.replace('.', '') in google300:\n",
    "                y.append(t.replace('.', ''))\n",
    "                continue\n",
    "            is_found = False\n",
    "            for x in split_by_case(re.sub('[^a-z]','',t)):\n",
    "                if x in google300:\n",
    "                    y.append(x)\n",
    "                    is_found = True\n",
    "            if is_found: continue\n",
    "            for st in re.split('-',re.sub('[^a-z0-9\\.~]','-',t)):\n",
    "                for x in [st, st[:-1], st[1:], st.replace('s','z'),\n",
    "                          st.replace('ou','o'), st.replace('re','er')]:\n",
    "                    if x in google300:\n",
    "                        y.append(x)\n",
    "                        is_found = True\n",
    "                        break\n",
    "            if not is_found: y.append(UNK)\n",
    "    return y\n",
    "\n",
    "def supertokenizeplus(x, lab):\n",
    "    global wc_all, wc_fake, wc_real\n",
    "    \n",
    "    y = supertokenize(x)\n",
    "    \n",
    "    wc_all += Counter(y)\n",
    "    \n",
    "    c = Counter()\n",
    "    for a in y: c[a] = 1\n",
    "    if lab == 1:\n",
    "        wc_fake += c\n",
    "    else:\n",
    "        wc_real += c\n",
    "    \n",
    "    return y\n",
    "\n",
    "wc_all=Counter()\n",
    "wc_fake=Counter()\n",
    "wc_real=Counter()\n",
    "trainval['tokenized_title'] = trainval.apply(lambda x: supertokenizeplus(x.title,x.label),axis=1)\n",
    "trainval['tokenized_text'] = trainval.apply(lambda x: supertokenizeplus(x.text,x.label),axis=1)"
   ]
  },
  {
   "cell_type": "code",
   "execution_count": 7,
   "metadata": {},
   "outputs": [
    {
     "data": {
      "text/plain": [
       "(25017,\n",
       " [('york', 74.77673517497315),\n",
       "  ('times', 66.89691863505577),\n",
       "  ('new', 60.5242304531954),\n",
       "  ('mr.', 58.400435695200535),\n",
       "  ('breitbart', 58.0914672455477),\n",
       "  ('~DATE~', 46.17414029136587),\n",
       "  ('s.', 44.589239319966936),\n",
       "  ('u.', 43.787452149590585),\n",
       "  ('ms.', 43.579232632653046),\n",
       "  ('a.', 39.10241871475195)])"
      ]
     },
     "execution_count": 7,
     "metadata": {},
     "output_type": "execute_result"
    }
   ],
   "source": [
    "term_freq = Counter()\n",
    "total_wc_all = np.sum(list(wc_all.values()))\n",
    "for k in wc_all:\n",
    "    term_freq[k] = np.abs(wc_real[k] - wc_fake[k]) /\\\n",
    "                  np.sqrt(wc_real[k] + wc_fake[k]) + wc_all[k] / total_wc_all\n",
    "thresh = term_freq.most_common(25000)[-1][1]\n",
    "tokens = [k for k, v in term_freq.items() if v >= thresh]\n",
    "\n",
    "vocab, i = {PAD: 0, DATE: 1, URL: 2, NUM: 3, UNK: 4}, 5\n",
    "for w in tokens:\n",
    "    if w in (PAD, DATE, URL, NUM, UNK): continue\n",
    "    vocab[w] = i\n",
    "    i += 1\n",
    "id2word = {v:k for k,v in vocab.items()}\n",
    "\n",
    "i, term_freq.most_common(10)"
   ]
  },
  {
   "cell_type": "code",
   "execution_count": 8,
   "metadata": {},
   "outputs": [
    {
     "name": "stdout",
     "output_type": "stream",
     "text": [
      "CPU times: user 15.8 s, sys: 16 ms, total: 15.8 s\n",
      "Wall time: 15.8 s\n"
     ]
    }
   ],
   "source": [
    "%%time\n",
    "test['tokenized_title'] = test.apply(lambda x: supertokenize(x.title),axis=1)\n",
    "test['tokenized_text'] = test.apply(lambda x: supertokenize(x.text),axis=1)"
   ]
  },
  {
   "cell_type": "code",
   "execution_count": 9,
   "metadata": {
    "scrolled": true
   },
   "outputs": [],
   "source": [
    "def clean(text,length):\n",
    "    f = [vocab[w] if w in vocab else vocab[UNK] for w in text]\n",
    "    f = f[:length]\n",
    "    return (length - len(f)) * [vocab[PAD]] + f\n",
    "trainval['text_as_ints'] = trainval.tokenized_text.apply(clean,args=[512])\n",
    "trainval['title_as_ints'] = trainval.tokenized_text.apply(clean,args=[64])\n",
    "test['text_as_ints'] = test.tokenized_text.apply(clean,args=[512])\n",
    "test['title_as_ints'] = test.tokenized_text.apply(clean,args=[64])\n",
    "\n",
    "X_trainval = [np.array(trainval.text_as_ints.to_list()), np.array(trainval.title_as_ints.to_list())]\n",
    "X_test = [np.array(test.text_as_ints.to_list()), np.array(test.title_as_ints.to_list())]"
   ]
  },
  {
   "cell_type": "code",
   "execution_count": 10,
   "metadata": {
    "scrolled": true
   },
   "outputs": [
    {
     "name": "stdout",
     "output_type": "stream",
     "text": [
      "Model: \"model\"\n",
      "__________________________________________________________________________________________________\n",
      "Layer (type)                    Output Shape         Param #     Connected to                     \n",
      "==================================================================================================\n",
      "input_1 (InputLayer)            [(None, None)]       0                                            \n",
      "__________________________________________________________________________________________________\n",
      "input_2 (InputLayer)            [(None, None)]       0                                            \n",
      "__________________________________________________________________________________________________\n",
      "embedding (Embedding)           (None, None, 300)    7505100     input_1[0][0]                    \n",
      "__________________________________________________________________________________________________\n",
      "lambda (Lambda)                 (None, None)         0           input_1[0][0]                    \n",
      "                                                                 input_2[0][0]                    \n",
      "__________________________________________________________________________________________________\n",
      "embedding_1 (Embedding)         (None, None, 300)    7505100     input_2[0][0]                    \n",
      "__________________________________________________________________________________________________\n",
      "bidirectional (Bidirectional)   (None, 100)          105600      embedding[0][0]                  \n",
      "                                                                 lambda[0][0]                     \n",
      "__________________________________________________________________________________________________\n",
      "gru_1 (GRU)                     (None, 50)           52800       embedding_1[0][0]                \n",
      "                                                                 lambda[1][0]                     \n",
      "__________________________________________________________________________________________________\n",
      "concatenate (Concatenate)       (None, 150)          0           bidirectional[0][0]              \n",
      "                                                                 gru_1[0][0]                      \n",
      "__________________________________________________________________________________________________\n",
      "dense (Dense)                   (None, 1)            151         concatenate[0][0]                \n",
      "==================================================================================================\n",
      "Total params: 15,168,751\n",
      "Trainable params: 158,551\n",
      "Non-trainable params: 15,010,200\n",
      "__________________________________________________________________________________________________\n"
     ]
    }
   ],
   "source": [
    "input_text = tf.keras.layers.Input(shape=[None])\n",
    "input_title = tf.keras.layers.Input(shape=[None])\n",
    "mask = tf.keras.layers.Lambda(lambda inputs: tf.keras.backend.not_equal(inputs, 0))\n",
    "def emb():\n",
    "    e = np.zeros((len(vocab),EMBED_SIZE))\n",
    "    v = np.random.uniform(-1,1,EMBED_SIZE)\n",
    "    for i in range(len(vocab)):\n",
    "        try:\n",
    "            g = google300[id2word[i]]\n",
    "            e[i] = g + v * np.linalg.norm(g) / np.linalg.norm(v)\n",
    "        except KeyError:\n",
    "            assert i < 5, i\n",
    "            if i in [1, 2, 3]: # leave UNK and PAD zero\n",
    "                e[i] = v / np.linalg.norm(v)\n",
    "    return tf.keras.layers.Embedding(input_dim=e.shape[0],\n",
    "                                     output_dim=e.shape[1],\n",
    "                                     weights=[e],\n",
    "                                     trainable=False)\n",
    "emb_text = emb()(input_text)\n",
    "emb_title = emb()(input_title)\n",
    "l1l2 = tf.keras.regularizers.L1L2(l1=1e-6,l2=2e-6)\n",
    "def gru(units):\n",
    "    return tf.keras.layers.GRU(units, dropout=0.2, recurrent_dropout=0.2,\n",
    "                               kernel_regularizer=l1l2)\n",
    "gru_text = tf.keras.layers.Bidirectional(gru(50))(emb_text,mask=mask(input_text))\n",
    "gru_title = gru(50)(emb_title,mask=mask(input_title))\n",
    "concat = tf.keras.layers.Concatenate()([gru_text, gru_title])\n",
    "outputs = tf.keras.layers.Dense(1, activation='sigmoid')(concat)\n",
    "model = tf.keras.Model(inputs=[input_text, input_title], outputs=[outputs])\n",
    "model.summary()"
   ]
  },
  {
   "cell_type": "code",
   "execution_count": 11,
   "metadata": {},
   "outputs": [
    {
     "name": "stdout",
     "output_type": "stream",
     "text": [
      "292/292 [==============================] - 219s 737ms/step - loss: 0.4870 - accuracy: 0.7556\n"
     ]
    },
    {
     "data": {
      "text/plain": [
       "<tensorflow.python.keras.callbacks.History at 0x7f1d43e7cee0>"
      ]
     },
     "execution_count": 11,
     "metadata": {},
     "output_type": "execute_result"
    }
   ],
   "source": [
    "model.compile(loss='binary_crossentropy', optimizer='adam', metrics='accuracy')\n",
    "model.fit(X_trainval, y_trainval, epochs=1, batch_size=64)"
   ]
  },
  {
   "cell_type": "code",
   "execution_count": 12,
   "metadata": {
    "scrolled": true
   },
   "outputs": [
    {
     "name": "stdout",
     "output_type": "stream",
     "text": [
      "Model: \"model\"\n",
      "__________________________________________________________________________________________________\n",
      "Layer (type)                    Output Shape         Param #     Connected to                     \n",
      "==================================================================================================\n",
      "input_1 (InputLayer)            [(None, None)]       0                                            \n",
      "__________________________________________________________________________________________________\n",
      "input_2 (InputLayer)            [(None, None)]       0                                            \n",
      "__________________________________________________________________________________________________\n",
      "embedding (Embedding)           (None, None, 300)    7505100     input_1[0][0]                    \n",
      "__________________________________________________________________________________________________\n",
      "lambda (Lambda)                 (None, None)         0           input_1[0][0]                    \n",
      "                                                                 input_2[0][0]                    \n",
      "__________________________________________________________________________________________________\n",
      "embedding_1 (Embedding)         (None, None, 300)    7505100     input_2[0][0]                    \n",
      "__________________________________________________________________________________________________\n",
      "bidirectional (Bidirectional)   (None, 100)          105600      embedding[0][0]                  \n",
      "                                                                 lambda[0][0]                     \n",
      "__________________________________________________________________________________________________\n",
      "gru_1 (GRU)                     (None, 50)           52800       embedding_1[0][0]                \n",
      "                                                                 lambda[1][0]                     \n",
      "__________________________________________________________________________________________________\n",
      "concatenate (Concatenate)       (None, 150)          0           bidirectional[0][0]              \n",
      "                                                                 gru_1[0][0]                      \n",
      "__________________________________________________________________________________________________\n",
      "dense (Dense)                   (None, 1)            151         concatenate[0][0]                \n",
      "==================================================================================================\n",
      "Total params: 15,168,751\n",
      "Trainable params: 15,010,200\n",
      "Non-trainable params: 158,551\n",
      "__________________________________________________________________________________________________\n"
     ]
    }
   ],
   "source": [
    "for i in range(len(model.layers)):\n",
    "    model.layers[i].trainable = False\n",
    "    if i in [2, 4]:\n",
    "        model.layers[i].trainable = True\n",
    "model.summary()"
   ]
  },
  {
   "cell_type": "code",
   "execution_count": 13,
   "metadata": {},
   "outputs": [
    {
     "name": "stdout",
     "output_type": "stream",
     "text": [
      "292/292 [==============================] - 205s 689ms/step - loss: 0.1841 - accuracy: 0.9327\n"
     ]
    },
    {
     "data": {
      "text/plain": [
       "<tensorflow.python.keras.callbacks.History at 0x7f1dbf071370>"
      ]
     },
     "execution_count": 13,
     "metadata": {},
     "output_type": "execute_result"
    }
   ],
   "source": [
    "model.compile(loss='binary_crossentropy', optimizer='adam', metrics='accuracy')\n",
    "model.fit(X_trainval, y_trainval, epochs=1, batch_size=64)"
   ]
  },
  {
   "cell_type": "code",
   "execution_count": 14,
   "metadata": {
    "scrolled": true
   },
   "outputs": [
    {
     "name": "stdout",
     "output_type": "stream",
     "text": [
      "Model: \"model\"\n",
      "__________________________________________________________________________________________________\n",
      "Layer (type)                    Output Shape         Param #     Connected to                     \n",
      "==================================================================================================\n",
      "input_1 (InputLayer)            [(None, None)]       0                                            \n",
      "__________________________________________________________________________________________________\n",
      "input_2 (InputLayer)            [(None, None)]       0                                            \n",
      "__________________________________________________________________________________________________\n",
      "embedding (Embedding)           (None, None, 300)    7505100     input_1[0][0]                    \n",
      "__________________________________________________________________________________________________\n",
      "lambda (Lambda)                 (None, None)         0           input_1[0][0]                    \n",
      "                                                                 input_2[0][0]                    \n",
      "__________________________________________________________________________________________________\n",
      "embedding_1 (Embedding)         (None, None, 300)    7505100     input_2[0][0]                    \n",
      "__________________________________________________________________________________________________\n",
      "bidirectional (Bidirectional)   (None, 100)          105600      embedding[0][0]                  \n",
      "                                                                 lambda[0][0]                     \n",
      "__________________________________________________________________________________________________\n",
      "gru_1 (GRU)                     (None, 50)           52800       embedding_1[0][0]                \n",
      "                                                                 lambda[1][0]                     \n",
      "__________________________________________________________________________________________________\n",
      "concatenate (Concatenate)       (None, 150)          0           bidirectional[0][0]              \n",
      "                                                                 gru_1[0][0]                      \n",
      "__________________________________________________________________________________________________\n",
      "dense (Dense)                   (None, 1)            151         concatenate[0][0]                \n",
      "==================================================================================================\n",
      "Total params: 15,168,751\n",
      "Trainable params: 15,168,751\n",
      "Non-trainable params: 0\n",
      "__________________________________________________________________________________________________\n"
     ]
    }
   ],
   "source": [
    "for i in range(len(model.layers)):\n",
    "    model.layers[i].trainable = True\n",
    "model.summary()"
   ]
  },
  {
   "cell_type": "code",
   "execution_count": 15,
   "metadata": {},
   "outputs": [
    {
     "name": "stdout",
     "output_type": "stream",
     "text": [
      "Epoch 1/10\n",
      "537/537 [==============================] - 397s 728ms/step - loss: 0.0635 - accuracy: 0.9816 - val_loss: 0.0369 - val_accuracy: 0.9914\n",
      "Epoch 2/10\n",
      "537/537 [==============================] - 387s 720ms/step - loss: 0.0214 - accuracy: 0.9971 - val_loss: 0.0450 - val_accuracy: 0.9901\n",
      "Epoch 3/10\n",
      "537/537 [==============================] - 387s 720ms/step - loss: 0.0140 - accuracy: 0.9992 - val_loss: 0.0509 - val_accuracy: 0.9881\n",
      "Epoch 4/10\n",
      "537/537 [==============================] - 402s 749ms/step - loss: 0.0111 - accuracy: 0.9996 - val_loss: 0.0497 - val_accuracy: 0.9868\n",
      "Epoch 5/10\n",
      "537/537 [==============================] - 411s 765ms/step - loss: 0.0087 - accuracy: 0.9999 - val_loss: 0.0638 - val_accuracy: 0.9828\n",
      "Epoch 6/10\n",
      "537/537 [==============================] - 403s 750ms/step - loss: 0.0080 - accuracy: 0.9999 - val_loss: 0.0523 - val_accuracy: 0.9875\n",
      "Epoch 7/10\n",
      "537/537 [==============================] - 403s 751ms/step - loss: 0.0071 - accuracy: 1.0000 - val_loss: 0.0530 - val_accuracy: 0.9868\n",
      "Epoch 8/10\n",
      "537/537 [==============================] - 405s 753ms/step - loss: 0.0058 - accuracy: 0.9999 - val_loss: 0.0483 - val_accuracy: 0.9875\n",
      "Epoch 9/10\n",
      "537/537 [==============================] - 404s 753ms/step - loss: 0.0053 - accuracy: 0.9999 - val_loss: 0.0502 - val_accuracy: 0.9875\n",
      "Epoch 10/10\n",
      "537/537 [==============================] - 405s 754ms/step - loss: 0.0047 - accuracy: 0.9999 - val_loss: 0.0575 - val_accuracy: 0.9861\n"
     ]
    },
    {
     "data": {
      "text/plain": [
       "<tensorflow.python.keras.callbacks.History at 0x7f1dbc788640>"
      ]
     },
     "execution_count": 15,
     "metadata": {},
     "output_type": "execute_result"
    }
   ],
   "source": [
    "from sklearn.utils import class_weight\n",
    "model.compile(loss='binary_crossentropy', optimizer='Nadam', metrics='accuracy')\n",
    "validation_split = PERCENT_VAL / (1 - PERCENT_TEST)\n",
    "checkpoint_filepath = '/tmp/checkpoint_v0'\n",
    "class_weights = class_weight.compute_class_weight('balanced', classes=[0, 1],\n",
    "                                                  y=[w for x in y_trainval for w in x])\n",
    "class_weights = {i: weight for i, weight in enumerate(class_weights)}\n",
    "model.fit(\n",
    "    X_trainval, y_trainval, validation_split=validation_split, epochs=10, batch_size=32,\n",
    "    callbacks=[tf.keras.callbacks.ModelCheckpoint(\n",
    "        filepath=checkpoint_filepath,\n",
    "        save_weights_only=True,\n",
    "        monitor='val_accuracy',\n",
    "        mode='max',\n",
    "        save_best_only=True\n",
    "    )], class_weight=class_weights\n",
    ")"
   ]
  },
  {
   "cell_type": "code",
   "execution_count": 16,
   "metadata": {},
   "outputs": [
    {
     "name": "stdout",
     "output_type": "stream",
     "text": [
      "[0] [0.99925506]\n"
     ]
    },
    {
     "data": {
      "text/plain": [
       "('Judicial Watch: Huma Abedin Emails Show Favors for Clinton Foundation Donors',\n",
       " 'Hillary Clinton emails recently discovered on Anthony Weiner’s computer revealed, among other things, that as secretary of state, she helped Clinton Foundation donors. [Clinton aide and Weiner’s wife Huma Abedin connected State Department officials to a Russian cultural organization, per a request by Clinton Foundation donor, Eddie Trump (no relation to President Trump).  According to a May 10, 2010, email obtained and published by Judicial Watch, Abedin told Doug Band, a Bill Clinton aide who formerly headed the foundation, that she “hooked up” people who recommended Trump to the “right people” at the State Department. Trump had apparently recommended that Abedin connect Russian American Foundation Vice President Rina Kirshner with people at the State Department. Abedin wrote to Kirshner on Mon, May 10, 2010, at 9:41 PM, “Hi Rina  —   wanted to connect on meeting at state department. Eddie trump passed on your email. Will be in touch soon. ” Two days later, Kirshner wrote to Abedin, thanking her and telling her that a State Department official had invited her to be part of a “  Cultural   Group” the next week: From: Rina Kirshner, Sent: Wednesday, May 12, 2010 11:29 AM, To: Huma Abedin, Subject: Re: Eddie   Band, Ms. Abedin, Just wanted to follow up and express our gratitude. I was contacted today by Ms. Christina Miner who invited us to be part of the   Cultural   Group meeting next week. Thank you very much for all your assistance  —   if there is any way we can be of assistance, please do not hesitate to contact me. Sincerely, Rina Kirshner, Abedin then forwarded that email to Band, writing, “We hooked her up with the right people here”: From: Huma Abedin [Huma@clintonemail. com] Sent: Wednesday, May 12, 2010 12:19:12, To: Doug Band, Subject: FW: Eddie   Band, fyi  —   we hooked her up with the right people here, According to Judicial Watch, the Russia American Foundation was staffed by Clinton political supporters and operatives, received more than $260, 000 in grants for “public diplomacy” from the Clinton State Department, and its leadership was supportive of former President Barack Obama’s Russia policies. Another email, two days later, showed that Abedin forwarded Trump’s name and information for inclusion on the guest list for a State dinner, even though he missed the   time to RSVP, and only spouses, not guests, were allowed. “I thought people could bring spouses but not guests. But ill [sic] send,” Abedin wrote.')"
      ]
     },
     "execution_count": 16,
     "metadata": {},
     "output_type": "execute_result"
    }
   ],
   "source": [
    "model.load_weights(checkpoint_filepath)\n",
    "logits = model.predict(X_test)\n",
    "most_off = np.argmax(np.abs(y_test - logits))\n",
    "print(y_test[most_off], logits[most_off])\n",
    "test.iloc[most_off].title, test.iloc[most_off].text"
   ]
  },
  {
   "cell_type": "code",
   "execution_count": 17,
   "metadata": {},
   "outputs": [
    {
     "name": "stdout",
     "output_type": "stream",
     "text": [
      "0.9338346233805878\n",
      "48/48 [==============================] - 4s 90ms/step - loss: 0.1033 - accuracy: 0.9670\n"
     ]
    },
    {
     "data": {
      "text/plain": [
       "[0.10331257432699203, 0.9669967293739319]"
      ]
     },
     "execution_count": 17,
     "metadata": {},
     "output_type": "execute_result"
    }
   ],
   "source": [
    "y_pred = np.round(logits)\n",
    "print(matthews_corrcoef(y_test, y_pred))\n",
    "model.evaluate(X_test, y_test)"
   ]
  },
  {
   "cell_type": "code",
   "execution_count": 18,
   "metadata": {},
   "outputs": [],
   "source": [
    "def get_reshaped_weights(model,layer_id):\n",
    "    W=np.array(model.layers[layer_id].get_weights())\n",
    "    W=W.reshape(W.shape[1],W.shape[2])\n",
    "    return W\n",
    "text_embed = get_reshaped_weights(model,2)\n",
    "title_embed = get_reshaped_weights(model,4)"
   ]
  },
  {
   "cell_type": "code",
   "execution_count": 19,
   "metadata": {},
   "outputs": [
    {
     "name": "stderr",
     "output_type": "stream",
     "text": [
      "<ipython-input-19-92e1c33b0327>:8: RuntimeWarning: invalid value encountered in true_divide\n",
      "  cs = W.dot(b) / (np.linalg.norm(W, axis=1) * np.linalg.norm(b))\n",
      "<ipython-input-19-92e1c33b0327>:4: RuntimeWarning: invalid value encountered in greater_equal\n",
      "  n_ = np.sum(arr >= thresh)\n"
     ]
    },
    {
     "data": {
      "image/png": "[encoded data removed]",
      "text/plain": [
       "<Figure size 1080x1080 with 1 Axes>"
      ]
     },
     "metadata": {
      "needs_background": "light"
     },
     "output_type": "display_data"
    }
   ],
   "source": [
    "def get_top_n_plus_ties(arr, n):\n",
    "    sorted_args = np.argsort(-arr)\n",
    "    thresh = arr[sorted_args[n]]\n",
    "    n_ = np.sum(arr >= thresh)\n",
    "    return sorted_args[:n_]\n",
    "def get_most_similar(word, W, n):\n",
    "    b = W[vocab[word]]\n",
    "    cs = W.dot(b) / (np.linalg.norm(W, axis=1) * np.linalg.norm(b))\n",
    "    return get_top_n_plus_ties(cs, n)\n",
    "def create_words_plot(embed1, embed2, WORD, k=9):\n",
    "    ids1 = get_most_similar(WORD, embed1, k-1)\n",
    "    ids2 = get_most_similar(WORD, embed2, k-1)\n",
    "    words1 = [id2word[i] for i in ids1]\n",
    "    words2 = [id2word[i] for i in ids2]\n",
    "    v = TSNE(n_components=2,random_state=RANDOM_SEED).fit_transform(\n",
    "        np.concatenate([embed1[ids1],embed2[ids2]]))\n",
    "    fig = plt.figure(figsize=(15,15))\n",
    "    plt.scatter(v[:k,0],v[:k,1],facecolors='none',edgecolors='teal')\n",
    "    plt.scatter(v[k:,0],v[k:,1],facecolors='none',edgecolors='red')\n",
    "    for i, word in enumerate(words1):\n",
    "        plt.annotate(word,(v[i,0],v[i,1]),size=9.5)\n",
    "        if word == WORD:\n",
    "            plt.scatter(v[i,0],v[i,1],c='teal',s=300)\n",
    "    for i, word in enumerate(words2):\n",
    "        plt.annotate(word,(v[i+k,0],v[i+k,1]),size=9.5)\n",
    "        if word == WORD:\n",
    "            plt.scatter(v[i+k,0],v[i+k,1],c='red',s=300)\n",
    "create_words_plot(text_embed,title_embed,'headline')"
   ]
  }
 ],
 "metadata": {
  "kernelspec": {
   "display_name": "Python 3",
   "language": "python",
   "name": "python3"
  },
  "language_info": {
   "codemirror_mode": {
    "name": "ipython",
    "version": 3
   },
   "file_extension": ".py",
   "mimetype": "text/x-python",
   "name": "python",
   "nbconvert_exporter": "python",
   "pygments_lexer": "ipython3",
   "version": "3.8.3"
  }
 },
 "nbformat": 4,
 "nbformat_minor": 4
}
