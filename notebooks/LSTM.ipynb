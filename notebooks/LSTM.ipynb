{
 "cells": [
  {
   "cell_type": "markdown",
   "metadata": {},
   "source": [
    "We used LSTM as a baseline model, but tried out different implementations to see if we could bump up its performance relative to the other models. Some of the tweaks didn't make the final cut and are commented out below.\n",
    "\n",
    "accuracy: 98.14\t\n",
    "\n",
    "MCC: 96.27​"
   ]
  },
  {
   "cell_type": "code",
   "execution_count": 1,
   "metadata": {
    "colab": {
     "base_uri": "https://localhost:8080/"
    },
    "id": "gl8rF1E4nFu1",
    "outputId": "86197ac7-a76e-4004-e1e4-b91b875abfe4"
   },
   "outputs": [],
   "source": [
    "import warnings\n",
    "import os\n",
    "\n",
    "import tensorflow as tf\n",
    "import tensorflow.keras.backend as K\n",
    "from tensorflow.keras.layers import (\n",
    "    Input, Lambda, Embedding, LSTM, Bidirectional, Concatenate, Dense\n",
    ")\n",
    "import numpy as np\n",
    "import pandas as pd\n",
    "\n",
    "import nltk\n",
    "import gensim.downloader\n",
    "import re\n",
    "from calendar import day_name, day_abbr, month_name, month_abbr\n",
    "\n",
    "from transformers import BertTokenizer\n",
    "\n",
    "from collections import Counter\n",
    "\n",
    "from sklearn import preprocessing\n",
    "from sklearn.utils import class_weight\n",
    "from sklearn.model_selection import train_test_split\n",
    "from sklearn.metrics import (\n",
    "    confusion_matrix, f1_score, precision_score, recall_score,\n",
    "    matthews_corrcoef\n",
    ")\n",
    "import seaborn as sns\n",
    "\n",
    "from sklearn.manifold import TSNE\n",
    "\n",
    "import matplotlib.pyplot as plt"
   ]
  },
  {
   "cell_type": "markdown",
   "metadata": {},
   "source": [
    "This cell downloads the Google News 300 pretrained embedding. The commented out code was an attempt at adjusting the embedding to complement another attempt at improved functionality, the supertokenizer (see a few cells down)."
   ]
  },
  {
   "cell_type": "code",
   "execution_count": 2,
   "metadata": {
    "colab": {
     "base_uri": "https://localhost:8080/"
    },
    "id": "HfQyxJASnFu4",
    "outputId": "66a73e47-d43c-4b14-ce83-9958199ae23d",
    "scrolled": true
   },
   "outputs": [
    {
     "name": "stderr",
     "output_type": "stream",
     "text": [
      "[nltk_data] Downloading package punkt to /home/chrico/nltk_data...\n",
      "[nltk_data]   Package punkt is already up-to-date!\n"
     ]
    },
    {
     "name": "stdout",
     "output_type": "stream",
     "text": [
      "CPU times: user 39.4 s, sys: 1.62 s, total: 41 s\n",
      "Wall time: 47.3 s\n"
     ]
    }
   ],
   "source": [
    "%%time\n",
    "\n",
    "nltk.download('punkt') # for word_tokenize\n",
    "\n",
    "# # list of stopwords\n",
    "# nltk.download('stopwords')\n",
    "# stopwords = nltk.corpus.stopwords.words('english')\n",
    "\n",
    "# download our pretrained word embedding with embedding size of 300\n",
    "EMBED_SIZE = 300\n",
    "gn300 = gensim.downloader.load('word2vec-google-news-300')\n",
    "\n",
    "# \"\"\"\n",
    "# Condense our pretrained word embedding using the following two techniques:\n",
    "# 1) remove stopwords\n",
    "# 2) make all keys lowercase, group by key, and take average per key.\n",
    "# E.g. (gn300['beyonce'] +\n",
    "#       gn300['Beyonce'] +\n",
    "#       gn300['BEYONCE']) / 3 -> gn300['beyonce']\n",
    "# \"\"\"\n",
    "# S = Counter() # vector sum\n",
    "# C = Counter() # vector count\n",
    "# for word in gn300.vocab:\n",
    "#     lower = word.lower()\n",
    "#     if lower in stopwords: continue\n",
    "#     S[lower] += gn300[word]\n",
    "#     C[lower] += 1\n",
    "# # create condensed word2vec (just a simple dictionary)\n",
    "# gn300 = {w: s / c for w, s, c in zip(S.keys(), S.values(), C.values())}"
   ]
  },
  {
   "cell_type": "code",
   "execution_count": 3,
   "metadata": {
    "id": "ahmP6lSPnFu3"
   },
   "outputs": [],
   "source": [
    "# constants that will be used as tokens\n",
    "PAD = '~PAD~'\n",
    "URL = '~URL~'\n",
    "DATETIME = '~DATETIME~'\n",
    "NUMBER = '~NUMBER~'\n",
    "UNKNOWN = '~UNKNOWN~'\n",
    "\n",
    "# regexes to be applied prior to tokenization\n",
    "url_regex = '(www\\.|http://|https://)\\S+|\\S+\\.(co|org|net|info|be|gov|edu|html|jpg|jpeg|png|gif)'\n",
    "date_regex = '('        + '|'.join(day_name[i] for i in range(7)) +\\\n",
    "             '|'        + '|'.join(day_abbr[i] for i in range(7)) +\\\n",
    "             ')?,?\\s?(' + '|'.join(month_name[i] for i in range(1, 13)) +\\\n",
    "             '|'        + '|'.join(month_abbr[i] for i in range(1, 13)) +\\\n",
    "             \")\\s\\d{1,2}(st|nd|rd|th)?(,?\\s'?\\d{2,4})?\"\n",
    "time_regex = '((\\d+\\:\\d+)(\\s?[AaPp]\\.\\s?[Mm]\\.)?)|((\\d+\\:\\d+\\s?)?([AaPp]\\.\\s?[Mm]\\.))'\n",
    "number_regex = '\\d+((\\,?\\d+)+)?'"
   ]
  },
  {
   "cell_type": "code",
   "execution_count": 4,
   "metadata": {
    "id": "-z4drYwanFu3"
   },
   "outputs": [],
   "source": [
    "### HYPERPARAMETERS ###\n",
    "PERCENT_TEST = 0.075\n",
    "PERCENT_VAL  = 0.075\n",
    "MAX_TEXT_LEN = 512\n",
    "MAX_TITLE_LEN = 64\n",
    "TARGET_VOCAB_SIZE = 25000\n",
    "TEXT_UNITS = 64\n",
    "TITLE_UNITS = 16\n",
    "EPOCHS_FROZEN = 30\n",
    "EPOCHS_UNFROZEN = 30\n",
    "BATCH_SIZE = 64\n",
    "LEARNING_RATE = 1e-3\n",
    "DROPOUT = 0.2\n",
    "OPTIMIZER = tf.keras.optimizers.Nadam\n",
    "PLATEAU_FACTOR = 0.8\n",
    "\n",
    "val_split = PERCENT_VAL / (1 - PERCENT_TEST)\n",
    "\n",
    "### RANDOM SEED (for reproducibility) ###\n",
    "SEED = 42\n",
    "np.random.seed(SEED)\n",
    "seed = SEED"
   ]
  },
  {
   "cell_type": "code",
   "execution_count": 5,
   "metadata": {
    "id": "90aB_d5BnFu6"
   },
   "outputs": [
    {
     "data": {
      "text/html": [
       "<div>\n",
       "<style scoped>\n",
       "    .dataframe tbody tr th:only-of-type {\n",
       "        vertical-align: middle;\n",
       "    }\n",
       "\n",
       "    .dataframe tbody tr th {\n",
       "        vertical-align: top;\n",
       "    }\n",
       "\n",
       "    .dataframe thead th {\n",
       "        text-align: right;\n",
       "    }\n",
       "</style>\n",
       "<table border=\"1\" class=\"dataframe\">\n",
       "  <thead>\n",
       "    <tr style=\"text-align: right;\">\n",
       "      <th></th>\n",
       "      <th>title</th>\n",
       "      <th>text</th>\n",
       "      <th>label</th>\n",
       "    </tr>\n",
       "  </thead>\n",
       "  <tbody>\n",
       "    <tr>\n",
       "      <th>8308</th>\n",
       "      <td>Italy Plucks 2,000 Migrants from the Mediterra...</td>\n",
       "      <td>ROME (AP)  —   Italian rescue ships have pluck...</td>\n",
       "      <td>REAL</td>\n",
       "    </tr>\n",
       "    <tr>\n",
       "      <th>2765</th>\n",
       "      <td>The most unqualified media personalities on TV...</td>\n",
       "      <td>Monday, November 14, 2016 7:38 AM EST Media pe...</td>\n",
       "      <td>FAKE</td>\n",
       "    </tr>\n",
       "    <tr>\n",
       "      <th>20123</th>\n",
       "      <td>Rigging the Election – Video IV: Democrat Oper...</td>\n",
       "      <td>Rigging the Election – Video IV: Democrat Oper...</td>\n",
       "      <td>FAKE</td>\n",
       "    </tr>\n",
       "    <tr>\n",
       "      <th>2669</th>\n",
       "      <td>Will Hillary Select Her Own Prosecutors?</td>\n",
       "      <td>By Bill Sardi November 1, 2016 Journalist Carl...</td>\n",
       "      <td>FAKE</td>\n",
       "    </tr>\n",
       "    <tr>\n",
       "      <th>4408</th>\n",
       "      <td>Debate: Washington's Syria policy</td>\n",
       "      <td>The Debate Washington's Syria policy \\nIn this...</td>\n",
       "      <td>FAKE</td>\n",
       "    </tr>\n",
       "    <tr>\n",
       "      <th>...</th>\n",
       "      <td>...</td>\n",
       "      <td>...</td>\n",
       "      <td>...</td>\n",
       "    </tr>\n",
       "    <tr>\n",
       "      <th>2400</th>\n",
       "      <td>Punishment Is Violent And Counterproductive</td>\n",
       "      <td>Punishment Is Violent And Counterproductive B...</td>\n",
       "      <td>FAKE</td>\n",
       "    </tr>\n",
       "    <tr>\n",
       "      <th>11894</th>\n",
       "      <td>Post-Trump Liberal Meltdown: Counseling, Cry-i...</td>\n",
       "      <td>\\n21st Century Wire says… \\nYou can imagine ho...</td>\n",
       "      <td>FAKE</td>\n",
       "    </tr>\n",
       "    <tr>\n",
       "      <th>11916</th>\n",
       "      <td>Clinton’s Palmieri in 2015 expressed relief GO...</td>\n",
       "      <td>Print \\nShortly after the story first broke in...</td>\n",
       "      <td>FAKE</td>\n",
       "    </tr>\n",
       "    <tr>\n",
       "      <th>10998</th>\n",
       "      <td>Fewer than One in Five Foreign Rapists Deporte...</td>\n",
       "      <td>Only 19 per cent of foreign rapists registered...</td>\n",
       "      <td>REAL</td>\n",
       "    </tr>\n",
       "    <tr>\n",
       "      <th>982</th>\n",
       "      <td>Fired TV Reporter: I’ve Received Thousands of ...</td>\n",
       "      <td>A Philadelphia television reporter who lost he...</td>\n",
       "      <td>REAL</td>\n",
       "    </tr>\n",
       "  </tbody>\n",
       "</table>\n",
       "<p>25059 rows × 3 columns</p>\n",
       "</div>"
      ],
      "text/plain": [
       "                                                   title  \\\n",
       "8308   Italy Plucks 2,000 Migrants from the Mediterra...   \n",
       "2765   The most unqualified media personalities on TV...   \n",
       "20123  Rigging the Election – Video IV: Democrat Oper...   \n",
       "2669            Will Hillary Select Her Own Prosecutors?   \n",
       "4408                   Debate: Washington's Syria policy   \n",
       "...                                                  ...   \n",
       "2400         Punishment Is Violent And Counterproductive   \n",
       "11894  Post-Trump Liberal Meltdown: Counseling, Cry-i...   \n",
       "11916  Clinton’s Palmieri in 2015 expressed relief GO...   \n",
       "10998  Fewer than One in Five Foreign Rapists Deporte...   \n",
       "982    Fired TV Reporter: I’ve Received Thousands of ...   \n",
       "\n",
       "                                                    text label  \n",
       "8308   ROME (AP)  —   Italian rescue ships have pluck...  REAL  \n",
       "2765   Monday, November 14, 2016 7:38 AM EST Media pe...  FAKE  \n",
       "20123  Rigging the Election – Video IV: Democrat Oper...  FAKE  \n",
       "2669   By Bill Sardi November 1, 2016 Journalist Carl...  FAKE  \n",
       "4408   The Debate Washington's Syria policy \\nIn this...  FAKE  \n",
       "...                                                  ...   ...  \n",
       "2400    Punishment Is Violent And Counterproductive B...  FAKE  \n",
       "11894  \\n21st Century Wire says… \\nYou can imagine ho...  FAKE  \n",
       "11916  Print \\nShortly after the story first broke in...  FAKE  \n",
       "10998  Only 19 per cent of foreign rapists registered...  REAL  \n",
       "982    A Philadelphia television reporter who lost he...  REAL  \n",
       "\n",
       "[25059 rows x 3 columns]"
      ]
     },
     "execution_count": 5,
     "metadata": {},
     "output_type": "execute_result"
    }
   ],
   "source": [
    "df = pd.read_csv('../inputs/news_data_groomed.csv', index_col=0)\n",
    "df"
   ]
  },
  {
   "cell_type": "markdown",
   "metadata": {},
   "source": [
    "The following code was meant to ensure that the real and fake labels were as evenly/consistently distributed across training, validation and testing data as possible."
   ]
  },
  {
   "cell_type": "code",
   "execution_count": 6,
   "metadata": {
    "id": "8wWZQVq7nFu6"
   },
   "outputs": [],
   "source": [
    "def get_real_fake(df):\n",
    "    real = df[df.label.isin([0, 'REAL'])]\n",
    "    fake = df[df.label.isin([1, 'FAKE'])]\n",
    "    return real, fake\n",
    "\n",
    "def split_df(df):\n",
    "    global seed\n",
    "    train, test = train_test_split(df, test_size=PERCENT_TEST, random_state=seed)\n",
    "    seed += 1\n",
    "    train, val  = train_test_split(train, test_size=val_split, random_state=seed)\n",
    "    seed += 1\n",
    "    return train, val, test\n",
    "\n",
    "def concat_and_shuffle(dfs):\n",
    "    global seed\n",
    "    df = pd.concat(dfs)\n",
    "    df = df.sample(frac=1, random_state=seed)\n",
    "    seed += 1\n",
    "    return df\n",
    "\n",
    "real, fake = get_real_fake(df)\n",
    "\n",
    "real_train, real_val, real_test = split_df(real)\n",
    "fake_train, fake_val, fake_test = split_df(fake)\n",
    "\n",
    "# def split_by_author(df):\n",
    "#     # take counts grouped by author\n",
    "#     author = df.author.value_counts()\n",
    "#     # split authors into groups\n",
    "#     author_train, author_val, author_test = split_df(author)\n",
    "#     # split data by author group\n",
    "#     train = df[df.author.isin(author_train.index)].copy(deep=True)\n",
    "#     val   = df[df.author.isin(author_val.index)].copy(deep=True)\n",
    "#     test  = df[df.author.isin(author_test.index)].copy(deep=True)\n",
    "#     return train, val, test\n",
    "\n",
    "# real_train, real_val, real_test = split_by_author(real)\n",
    "# fake_train, fake_val, fake_test = split_by_author(fake)\n",
    "\n",
    "# real_author_counts = real.author.value_counts()\n",
    "# fake_author_counts = fake.author.value_counts()\n",
    "# mixed_authors = real_author_counts.index.intersection(fake_author_counts.index)\n",
    "# real_author_counts[mixed_authors], fake_author_counts[mixed_authors]"
   ]
  },
  {
   "cell_type": "code",
   "execution_count": 7,
   "metadata": {
    "colab": {
     "base_uri": "https://localhost:8080/"
    },
    "id": "R2TujNkAnFu6",
    "outputId": "3d4bdaff-321b-43a1-9385-1ed2d127c4d7",
    "scrolled": true
   },
   "outputs": [
    {
     "name": "stdout",
     "output_type": "stream",
     "text": [
      "11335 9962\n",
      "1001 880\n",
      "1001 880\n"
     ]
    }
   ],
   "source": [
    "train = concat_and_shuffle([real_train, fake_train])\n",
    "val   = concat_and_shuffle([real_val, fake_val])\n",
    "test  = concat_and_shuffle([real_test, fake_test])\n",
    "\n",
    "# Expected result of val_split. This is just to give us a\n",
    "# sense of the distribution of labels.\n",
    "def display_count(df):\n",
    "    print(len(df[df.label.isin([0, 'REAL'])]),\n",
    "          len(df[df.label.isin([1, 'FAKE'])]))\n",
    "display_count(train)\n",
    "display_count(val)\n",
    "display_count(test)"
   ]
  },
  {
   "cell_type": "markdown",
   "metadata": {},
   "source": [
    "<font size=\"5\">*supertokenize*</font>: the tokenizer that failed to live up to its name.\n",
    "\n",
    "Ultimately we just went with <code>nltk.word_tokenize</code>."
   ]
  },
  {
   "cell_type": "code",
   "execution_count": 8,
   "metadata": {
    "id": "8jMIyCWCnFu6"
   },
   "outputs": [],
   "source": [
    "# def supertokenize(text):\n",
    "#     # e.g. split_by_case('ILoveNewYork') == ['I', 'Love', 'New', 'York']\n",
    "#     def split_by_case(s):\n",
    "#         if (not s[1:].isupper()) and (not s[1:].islower()):\n",
    "#             for i in range(1, len(s) - 1):\n",
    "#                 if s[i].isupper():\n",
    "#                     return [s[:i]] + split_by_case(s[i:])\n",
    "#                 elif s[i + 1].isupper():\n",
    "#                     return [s[:i + 1]] + split_by_case(s[i + 1:])\n",
    "#         return [s]\n",
    "#     text = re.sub(number_regex, NUMBER, \n",
    "#                  re.sub(time_regex, DATETIME, \n",
    "#                         re.sub(date_regex, DATETIME, \n",
    "#                                re.sub(url_regex, URL, text))))\n",
    "#     text = text.replace('•', '')\n",
    "#     raw_tokens = nltk.word_tokenize(text)\n",
    "#     tokens = []\n",
    "#     for t in raw_tokens:\n",
    "#         if t in '!\"\\'(),--./:;<?[\\\\]{|}“”‘’—': continue\n",
    "#         if t.lower() != \"n't\": t = re.sub('[\\\"\\']', '', t)\n",
    "#         if (len(t) > 2) and (t.lower() == t) and (t[-1] == '.'): t = t[:-1]\n",
    "#         if t == URL:\n",
    "#             tokens.append(URL)\n",
    "#             continue\n",
    "#         if (t == DATETIME) or (re.sub('^\\d+(/\\d+)+$', '', t) == ''):\n",
    "#             tokens.append(DATETIME)\n",
    "#             continue\n",
    "#         if (t == NUMBER) or t.isnumeric() or (t[:-2].isnumeric() and (\n",
    "#             t[-2:] in ['st', 'nd', 'rd', 'th'])):\n",
    "#             tokens.append(NUMBER)\n",
    "#             continue\n",
    "#         t = t.lower()\n",
    "#         if t in stopwords: continue\n",
    "#         if t in gn300:\n",
    "#             tokens.append(t)\n",
    "#         else:\n",
    "#             if t + '.' in gn300:\n",
    "#                 tokens.append(t + '.')\n",
    "#                 continue\n",
    "#             if t.replace('.', '') in gn300:\n",
    "#                 tokens.append(t.replace('.', ''))\n",
    "#                 continue\n",
    "#             is_found = False\n",
    "#             for x in split_by_case(re.sub('[^a-z]', '', t)):\n",
    "#                 if x in gn300:\n",
    "#                     tokens.append(x)\n",
    "#                     is_found = True\n",
    "#             if is_found: continue\n",
    "#             for st in re.split('-', re.sub('[^a-z0-9\\.~]', '-', t)):\n",
    "#                 for x in [st, st[:-1], st[1:], st.replace('s', 'z'), \n",
    "#                           st.replace('ou', 'o'), st.replace('re', 'er')]:\n",
    "#                     if x in gn300:\n",
    "#                         tokens.append(x)\n",
    "#                         is_found = True\n",
    "#                         break\n",
    "#             if not is_found: tokens.append(UNKNOWN)\n",
    "#     return tokens\n",
    "# TOKENIZE_FN = supertokenize\n",
    "# bert_tokenizer = BertTokenizer.from_pretrained('bert-base-uncased')\n",
    "# bert_tokenize = lambda txt: bert_tokenizer.decode(bert_tokenizer.encode(txt))\n",
    "# TOKENIZE_FN = bert_tokenize\n",
    "TOKENIZE_FN = nltk.word_tokenize"
   ]
  },
  {
   "cell_type": "markdown",
   "metadata": {},
   "source": [
    "Building the vocabulary, part 1: tokenize the data and obtain word counts per label."
   ]
  },
  {
   "cell_type": "code",
   "execution_count": 9,
   "metadata": {
    "id": "jm1e4rHZnFu7"
   },
   "outputs": [],
   "source": [
    "# this does tokenization as well as tracking token counts grouped by label\n",
    "def tokenize_and_update_word_counts(text, label, tokenize_fn):\n",
    "    global tc_real, tc_fake\n",
    "    tokens = tokenize_fn(text)\n",
    "    if label not in ('REAL', 'FAKE'):\n",
    "        warnings.warn(f'Unexpected label {label}')\n",
    "    else:\n",
    "        x = Counter(tokens)\n",
    "        x_sum = sum(x.values())\n",
    "        for t in x:\n",
    "            x[t] /= x_sum * (len(real_train) if label == 'REAL' else len(fake_train))\n",
    "        if label == 'REAL':\n",
    "            tc_real += x\n",
    "        else:\n",
    "            tc_fake += x\n",
    "    \n",
    "    return tokens\n",
    "\n",
    "def TERM_FREQ_FN(a, b):\n",
    "    return abs(a - b) / np.sqrt(a + b)"
   ]
  },
  {
   "cell_type": "code",
   "execution_count": 10,
   "metadata": {
    "colab": {
     "base_uri": "https://localhost:8080/"
    },
    "id": "c0eT6JSFnFu7",
    "outputId": "102db3e9-ff63-4765-8e42-a91e39035ad7"
   },
   "outputs": [
    {
     "name": "stdout",
     "output_type": "stream",
     "text": [
      "CPU times: user 5min 55s, sys: 1.86 s, total: 5min 57s\n",
      "Wall time: 5min 57s\n"
     ]
    }
   ],
   "source": [
    "%%time\n",
    "\n",
    "tc_real = Counter()\n",
    "tc_fake = Counter()\n",
    "\n",
    "train['tokenized_title'] = train.apply(\n",
    "    lambda x, y: tokenize_and_update_word_counts(\n",
    "        x.title, x.label, y), axis=1, args=(TOKENIZE_FN,))\n",
    "train['tokenized_text'] = train.apply(\n",
    "    lambda x, y: tokenize_and_update_word_counts(\n",
    "        x.text, x.label, y), axis=1, args=(TOKENIZE_FN,))"
   ]
  },
  {
   "cell_type": "markdown",
   "metadata": {},
   "source": [
    "Building the vocabulary, part 2: use a term frequency function to determine which words make it into the vocabulary. The more often a word gets used by one label versus another, the more likely it is to make it."
   ]
  },
  {
   "cell_type": "code",
   "execution_count": 11,
   "metadata": {
    "colab": {
     "base_uri": "https://localhost:8080/"
    },
    "id": "c0eT6JSFnFu7",
    "outputId": "102db3e9-ff63-4765-8e42-a91e39035ad7"
   },
   "outputs": [
    {
     "data": {
      "text/plain": [
       "(25080,\n",
       " 258665,\n",
       " [('-', 0.17682237792798863),\n",
       "  ('York', 0.17063159169682204),\n",
       "  ('Times', 0.16811186557201085),\n",
       "  ('New', 0.15479831475675265),\n",
       "  ('Breitbart', 0.11187555944353382),\n",
       "  ('The', 0.07719981084115334),\n",
       "  ('!', 0.06963618761081182),\n",
       "  ('’', 0.0689396392338431),\n",
       "  ('Hillary', 0.06864692446138085),\n",
       "  ('To', 0.06695627511254401)],\n",
       " 0.0021002657004177173)"
      ]
     },
     "execution_count": 11,
     "metadata": {},
     "output_type": "execute_result"
    }
   ],
   "source": [
    "T = Counter()\n",
    "for t in tc_real + tc_fake:\n",
    "    T[t] = TERM_FREQ_FN(tc_real[t], tc_fake[t])\n",
    "\n",
    "thresh = T.most_common(TARGET_VOCAB_SIZE)[-1][1]\n",
    "tokens = [k for k, v in T.items() if v >= thresh]\n",
    "\n",
    "vocab, i = {PAD: 0, URL: 1, DATETIME: 2, NUMBER: 3, UNKNOWN: 4}, 5\n",
    "for w in tokens:\n",
    "    if w in (PAD, URL, DATETIME, NUMBER, UNKNOWN): continue\n",
    "    vocab[w] = i\n",
    "    i += 1\n",
    "id2word = {v: k for k, v in vocab.items()}\n",
    "\n",
    "i, len(T), T.most_common(10), thresh"
   ]
  },
  {
   "cell_type": "code",
   "execution_count": 12,
   "metadata": {
    "colab": {
     "base_uri": "https://localhost:8080/"
    },
    "id": "IjPY5yx3nFu8",
    "outputId": "97e93897-879c-48db-96ab-5d78518e86d0"
   },
   "outputs": [
    {
     "name": "stdout",
     "output_type": "stream",
     "text": [
      "CPU times: user 21.3 s, sys: 171 ms, total: 21.4 s\n",
      "Wall time: 21.4 s\n"
     ]
    }
   ],
   "source": [
    "%%time\n",
    "val['tokenized_title']  = val.apply(lambda x: TOKENIZE_FN(x.title), axis=1)\n",
    "val['tokenized_text']   = val.apply(lambda x: TOKENIZE_FN(x.text), axis=1)\n",
    "test['tokenized_title'] = test.apply(lambda x: TOKENIZE_FN(x.title), axis=1)\n",
    "test['tokenized_text']  = test.apply(lambda x: TOKENIZE_FN(x.text), axis=1)"
   ]
  },
  {
   "cell_type": "code",
   "execution_count": 13,
   "metadata": {
    "id": "dUdbbIp8nFu8"
   },
   "outputs": [],
   "source": [
    "def clean(text,length):\n",
    "    f = [vocab[w] if w in vocab else vocab[UNKNOWN] for w in text]\n",
    "    f = f[:length]\n",
    "    return (length - len(f)) * [vocab[PAD]] + f\n",
    "train['text_as_ints']  = train.tokenized_text.apply(clean, args=[MAX_TEXT_LEN])\n",
    "train['title_as_ints'] = train.tokenized_text.apply(clean, args=[MAX_TITLE_LEN])\n",
    "val['text_as_ints']    = val.tokenized_text.apply(clean, args=[MAX_TEXT_LEN])\n",
    "val['title_as_ints']   = val.tokenized_text.apply(clean, args=[MAX_TITLE_LEN])\n",
    "test['text_as_ints']   = test.tokenized_text.apply(clean, args=[MAX_TEXT_LEN])\n",
    "test['title_as_ints']  = test.tokenized_text.apply(clean, args=[MAX_TITLE_LEN])"
   ]
  },
  {
   "cell_type": "code",
   "execution_count": 14,
   "metadata": {
    "id": "gZCNdIn-nFu8"
   },
   "outputs": [
    {
     "data": {
      "text/plain": [
       "{0: 1.068911865087332, 1: 0.939435377150419}"
      ]
     },
     "execution_count": 14,
     "metadata": {},
     "output_type": "execute_result"
    }
   ],
   "source": [
    "X_train = [np.array(train.text_as_ints.to_list()),\n",
    "           np.array(train.title_as_ints.to_list())]\n",
    "X_val   = [np.array(val.text_as_ints.to_list()),\n",
    "           np.array(val.title_as_ints.to_list())]\n",
    "X_test  = [np.array(test.text_as_ints.to_list()),\n",
    "           np.array(test.title_as_ints.to_list())]\n",
    "\n",
    "# binarize labels\n",
    "lb = preprocessing.LabelBinarizer()\n",
    "y = lb.fit_transform(pd.concat([train.label, val.label, test.label]))\n",
    "y_train = y[:len(train)]\n",
    "y_val   = y[len(train):-len(test)]\n",
    "y_test  = y[-len(test):]\n",
    "\n",
    "# compute class weights based on training labels\n",
    "class_weights = class_weight.compute_class_weight(\n",
    "    'balanced', classes=[0, 1], y=[w for x in y_train for w in x])\n",
    "class_weights = {i: weight for i, weight in enumerate(class_weights)}\n",
    "class_weights"
   ]
  },
  {
   "cell_type": "markdown",
   "metadata": {},
   "source": [
    "Build the architecture. Two embedding + lstm stacks (one for title, one for text) concatenated.\n",
    "\n",
    "Note the added random noise. We are not sure why this seemed to help, but it did."
   ]
  },
  {
   "cell_type": "code",
   "execution_count": 15,
   "metadata": {
    "colab": {
     "base_uri": "https://localhost:8080/"
    },
    "id": "Of9_Mx9rnFu8",
    "outputId": "aabf9700-df54-4833-ea05-001ba6bc7dd4"
   },
   "outputs": [],
   "source": [
    "random_vector = lambda: np.random.uniform(-1, 1, EMBED_SIZE)\n",
    "def gen_emb():\n",
    "    emb = np.zeros((len(vocab), EMBED_SIZE))\n",
    "    for i in range(len(vocab)):\n",
    "        try:\n",
    "            g = gn300[id2word[i]]\n",
    "            v = random_vector()\n",
    "            emb[i] = g + v * np.linalg.norm(g) / np.linalg.norm(v)\n",
    "        except KeyError:\n",
    "            if i > 0: emb[i] = random_vector()\n",
    "    return Embedding(input_dim=emb.shape[0],\n",
    "                     output_dim=emb.shape[1],\n",
    "                     weights=[emb],\n",
    "                     trainable=False)\n",
    "lstm = lambda units: LSTM(units, dropout=DROPOUT, recurrent_dropout=DROPOUT)\n",
    "mask = Lambda(lambda inputs: K.not_equal(inputs, 0))"
   ]
  },
  {
   "cell_type": "code",
   "execution_count": 16,
   "metadata": {
    "colab": {
     "base_uri": "https://localhost:8080/"
    },
    "id": "Of9_Mx9rnFu8",
    "outputId": "aabf9700-df54-4833-ea05-001ba6bc7dd4"
   },
   "outputs": [],
   "source": [
    "input_text, input_title = Input(shape=[None]), Input(shape=[None])\n",
    "\n",
    "emb_text, emb_title = gen_emb()(input_text), gen_emb()(input_title)\n",
    "\n",
    "lstm_text = Bidirectional(lstm(TEXT_UNITS))(emb_text, mask=mask(input_text))\n",
    "lstm_title = lstm(TITLE_UNITS)(emb_title, mask=mask(input_title))\n",
    "\n",
    "concat = Concatenate()([lstm_text, lstm_title])\n",
    "output = Dense(1, activation='sigmoid')(concat)\n",
    "model = tf.keras.Model(inputs=[input_text, input_title], outputs=output)\n",
    "\n",
    "def run_model(epochs, monitor):\n",
    "    model.summary()\n",
    "    optimizer = OPTIMIZER(learning_rate=LEARNING_RATE)\n",
    "    model.compile(loss='binary_crossentropy',\n",
    "                  optimizer=optimizer,\n",
    "                  metrics='accuracy')\n",
    "    model.fit(X_train, y_train,\n",
    "              validation_data=(X_val, y_val),\n",
    "              batch_size=BATCH_SIZE,\n",
    "              class_weight=class_weights,\n",
    "              epochs=epochs,\n",
    "              callbacks=[tf.keras.callbacks.EarlyStopping(restore_best_weights=True)])"
   ]
  },
  {
   "cell_type": "markdown",
   "metadata": {},
   "source": [
    "Run the model. The embedding layers are initially frozen."
   ]
  },
  {
   "cell_type": "code",
   "execution_count": 17,
   "metadata": {
    "colab": {
     "base_uri": "https://localhost:8080/"
    },
    "id": "Of9_Mx9rnFu8",
    "outputId": "aabf9700-df54-4833-ea05-001ba6bc7dd4"
   },
   "outputs": [
    {
     "name": "stdout",
     "output_type": "stream",
     "text": [
      "Model: \"functional_1\"\n",
      "__________________________________________________________________________________________________\n",
      "Layer (type)                    Output Shape         Param #     Connected to                     \n",
      "==================================================================================================\n",
      "input_1 (InputLayer)            [(None, None)]       0                                            \n",
      "__________________________________________________________________________________________________\n",
      "input_2 (InputLayer)            [(None, None)]       0                                            \n",
      "__________________________________________________________________________________________________\n",
      "embedding (Embedding)           (None, None, 300)    7524000     input_1[0][0]                    \n",
      "__________________________________________________________________________________________________\n",
      "lambda (Lambda)                 (None, None)         0           input_1[0][0]                    \n",
      "                                                                 input_2[0][0]                    \n",
      "__________________________________________________________________________________________________\n",
      "embedding_1 (Embedding)         (None, None, 300)    7524000     input_2[0][0]                    \n",
      "__________________________________________________________________________________________________\n",
      "bidirectional (Bidirectional)   (None, 128)          186880      embedding[0][0]                  \n",
      "                                                                 lambda[0][0]                     \n",
      "__________________________________________________________________________________________________\n",
      "lstm_1 (LSTM)                   (None, 16)           20288       embedding_1[0][0]                \n",
      "                                                                 lambda[1][0]                     \n",
      "__________________________________________________________________________________________________\n",
      "concatenate (Concatenate)       (None, 144)          0           bidirectional[0][0]              \n",
      "                                                                 lstm_1[0][0]                     \n",
      "__________________________________________________________________________________________________\n",
      "dense (Dense)                   (None, 1)            145         concatenate[0][0]                \n",
      "==================================================================================================\n",
      "Total params: 15,255,313\n",
      "Trainable params: 207,313\n",
      "Non-trainable params: 15,048,000\n",
      "__________________________________________________________________________________________________\n",
      "Epoch 1/30\n",
      "333/333 [==============================] - 236s 708ms/step - loss: 0.2860 - accuracy: 0.8823 - val_loss: 0.1862 - val_accuracy: 0.9261\n",
      "Epoch 2/30\n",
      "333/333 [==============================] - 234s 701ms/step - loss: 0.1483 - accuracy: 0.9445 - val_loss: 0.1381 - val_accuracy: 0.9436\n",
      "Epoch 3/30\n",
      "333/333 [==============================] - 232s 696ms/step - loss: 0.1160 - accuracy: 0.9581 - val_loss: 0.1101 - val_accuracy: 0.9532\n",
      "Epoch 4/30\n",
      "333/333 [==============================] - 233s 701ms/step - loss: 0.0931 - accuracy: 0.9659 - val_loss: 0.1062 - val_accuracy: 0.9596\n",
      "Epoch 5/30\n",
      "333/333 [==============================] - 233s 700ms/step - loss: 0.0770 - accuracy: 0.9721 - val_loss: 0.0793 - val_accuracy: 0.9702\n",
      "Epoch 6/30\n",
      "333/333 [==============================] - 233s 699ms/step - loss: 0.0600 - accuracy: 0.9786 - val_loss: 0.0717 - val_accuracy: 0.9718\n",
      "Epoch 7/30\n",
      "333/333 [==============================] - 232s 697ms/step - loss: 0.0499 - accuracy: 0.9825 - val_loss: 0.0614 - val_accuracy: 0.9745\n",
      "Epoch 8/30\n",
      "333/333 [==============================] - 230s 690ms/step - loss: 0.0408 - accuracy: 0.9858 - val_loss: 0.0855 - val_accuracy: 0.9724\n"
     ]
    }
   ],
   "source": [
    "run_model(EPOCHS_FROZEN, 'val_loss')"
   ]
  },
  {
   "cell_type": "markdown",
   "metadata": {},
   "source": [
    "Unfreeze the embedding layers."
   ]
  },
  {
   "cell_type": "code",
   "execution_count": 18,
   "metadata": {
    "colab": {
     "base_uri": "https://localhost:8080/"
    },
    "id": "Of9_Mx9rnFu8",
    "outputId": "aabf9700-df54-4833-ea05-001ba6bc7dd4",
    "scrolled": true
   },
   "outputs": [],
   "source": [
    "for i in range(len(model.layers)):\n",
    "    model.layers[i].trainable = True"
   ]
  },
  {
   "cell_type": "code",
   "execution_count": 19,
   "metadata": {
    "colab": {
     "base_uri": "https://localhost:8080/"
    },
    "id": "0imzn2gZnFu8",
    "outputId": "ef8d4c00-10dc-4e8d-938d-ca4424fe56cb"
   },
   "outputs": [
    {
     "name": "stdout",
     "output_type": "stream",
     "text": [
      "Model: \"functional_1\"\n",
      "__________________________________________________________________________________________________\n",
      "Layer (type)                    Output Shape         Param #     Connected to                     \n",
      "==================================================================================================\n",
      "input_1 (InputLayer)            [(None, None)]       0                                            \n",
      "__________________________________________________________________________________________________\n",
      "input_2 (InputLayer)            [(None, None)]       0                                            \n",
      "__________________________________________________________________________________________________\n",
      "embedding (Embedding)           (None, None, 300)    7524000     input_1[0][0]                    \n",
      "__________________________________________________________________________________________________\n",
      "lambda (Lambda)                 (None, None)         0           input_1[0][0]                    \n",
      "                                                                 input_2[0][0]                    \n",
      "__________________________________________________________________________________________________\n",
      "embedding_1 (Embedding)         (None, None, 300)    7524000     input_2[0][0]                    \n",
      "__________________________________________________________________________________________________\n",
      "bidirectional (Bidirectional)   (None, 128)          186880      embedding[0][0]                  \n",
      "                                                                 lambda[0][0]                     \n",
      "__________________________________________________________________________________________________\n",
      "lstm_1 (LSTM)                   (None, 16)           20288       embedding_1[0][0]                \n",
      "                                                                 lambda[1][0]                     \n",
      "__________________________________________________________________________________________________\n",
      "concatenate (Concatenate)       (None, 144)          0           bidirectional[0][0]              \n",
      "                                                                 lstm_1[0][0]                     \n",
      "__________________________________________________________________________________________________\n",
      "dense (Dense)                   (None, 1)            145         concatenate[0][0]                \n",
      "==================================================================================================\n",
      "Total params: 15,255,313\n",
      "Trainable params: 15,255,313\n",
      "Non-trainable params: 0\n",
      "__________________________________________________________________________________________________\n",
      "Epoch 1/30\n",
      "333/333 [==============================] - 250s 750ms/step - loss: 0.0428 - accuracy: 0.9852 - val_loss: 0.0427 - val_accuracy: 0.9798\n",
      "Epoch 2/30\n",
      "333/333 [==============================] - 247s 743ms/step - loss: 0.0165 - accuracy: 0.9951 - val_loss: 0.0425 - val_accuracy: 0.9835\n",
      "Epoch 3/30\n",
      "333/333 [==============================] - 245s 737ms/step - loss: 0.0054 - accuracy: 0.9987 - val_loss: 0.0378 - val_accuracy: 0.9830\n",
      "Epoch 4/30\n",
      "333/333 [==============================] - 248s 745ms/step - loss: 0.0029 - accuracy: 0.9995 - val_loss: 0.0439 - val_accuracy: 0.9846\n"
     ]
    }
   ],
   "source": [
    "run_model(EPOCHS_UNFROZEN, 'val_accuracy')"
   ]
  },
  {
   "cell_type": "markdown",
   "metadata": {},
   "source": [
    "Evaluate the model on test data."
   ]
  },
  {
   "cell_type": "code",
   "execution_count": 20,
   "metadata": {},
   "outputs": [
    {
     "name": "stdout",
     "output_type": "stream",
     "text": [
      "59/59 [==============================] - 4s 66ms/step - loss: 0.0788 - accuracy: 0.9814\n"
     ]
    }
   ],
   "source": [
    "model.evaluate(X_test, y_test)\n",
    "\n",
    "y_hat = model.predict(X_test)\n",
    "y_pred = np.round(y_hat)"
   ]
  },
  {
   "cell_type": "code",
   "execution_count": 21,
   "metadata": {},
   "outputs": [
    {
     "data": {
      "image/png": "[encoded data removed]",
      "text/plain": [
       "<Figure size 432x288 with 2 Axes>"
      ]
     },
     "metadata": {
      "needs_background": "light"
     },
     "output_type": "display_data"
    }
   ],
   "source": [
    "def show_confusion_matrix(confusion_matrix):\n",
    "    hmap = sns.heatmap(confusion_matrix, annot=True, fmt=\"d\", cmap=\"Greens\")\n",
    "    hmap.yaxis.set_ticklabels(hmap.yaxis.get_ticklabels(), rotation=0, ha='right')\n",
    "    hmap.xaxis.set_ticklabels(hmap.xaxis.get_ticklabels(), rotation=30, ha='right')\n",
    "    plt.xlabel('Predicted label')\n",
    "    plt.ylabel('True label');\n",
    "\n",
    "cm = confusion_matrix(y_test, y_pred)\n",
    "df_cm = pd.DataFrame(cm, index=['FAKE', 'REAL'], columns=['FAKE', 'REAL'])\n",
    "show_confusion_matrix(df_cm)"
   ]
  },
  {
   "cell_type": "code",
   "execution_count": 22,
   "metadata": {
    "colab": {
     "base_uri": "https://localhost:8080/"
    },
    "id": "p_IzFKCtnFu8",
    "outputId": "0c540303-58d4-44e2-9adb-671cd36bdc80"
   },
   "outputs": [
    {
     "name": "stdout",
     "output_type": "stream",
     "text": [
      "f1 score       = 0.9824561403508772\n",
      "precision      = 0.9859154929577465\n",
      "recall         = 0.9790209790209791\n",
      "mc coefficient = 0.9626759368515396\n"
     ]
    }
   ],
   "source": [
    "f1 = f1_score(y_test, y_pred, average='macro')\n",
    "precision = precision_score(y_test, y_pred)\n",
    "recall = recall_score(y_test, y_pred)\n",
    "mc = matthews_corrcoef(y_test, y_pred)\n",
    "print(f'f1 score       = {f1}\\nprecision      = {precision}\\nrecall         = {recall}\\nmc coefficient = {mc}')"
   ]
  },
  {
   "cell_type": "code",
   "execution_count": 23,
   "metadata": {
    "colab": {
     "base_uri": "https://localhost:8080/"
    },
    "id": "p_IzFKCtnFu8",
    "outputId": "0c540303-58d4-44e2-9adb-671cd36bdc80",
    "scrolled": true
   },
   "outputs": [
    {
     "name": "stdout",
     "output_type": "stream",
     "text": [
      "Actual label was [1] (FAKE), model said [4.3210457e-07] (REAL)\n"
     ]
    },
    {
     "data": {
      "text/plain": [
       "(\"Rush Limbaugh: Left Has 'Fear and Hatred of Christianity'\",\n",
       " 'Pick Your 2016 GOP Candidate -- Let Rush Know! Vote here\\n\\n')"
      ]
     },
     "execution_count": 23,
     "metadata": {},
     "output_type": "execute_result"
    }
   ],
   "source": [
    "most_off = np.argmax(np.abs(y_test - y_hat))\n",
    "actual_binary = y_test[most_off]\n",
    "actual_label = ['REAL', 'FAKE'][int(actual_binary)]\n",
    "predicted_label = ['REAL', 'FAKE'][int(y_pred[most_off])]\n",
    "print(f'Actual label was {actual_binary} ({actual_label}), model said {y_hat[most_off]} ({predicted_label})')\n",
    "test.iloc[most_off].title, test.iloc[most_off].text"
   ]
  },
  {
   "cell_type": "markdown",
   "metadata": {},
   "source": [
    "Code to produce a simple word cloud to evaluate the title embedding versus the text embedding."
   ]
  },
  {
   "cell_type": "code",
   "execution_count": 24,
   "metadata": {
    "id": "4uoimiYInFu8"
   },
   "outputs": [],
   "source": [
    "def get_reshaped_weights(model,layer_id):\n",
    "    W = np.array(model.layers[layer_id].get_weights())\n",
    "    W = W.reshape(W.shape[1], W.shape[2])\n",
    "    return W\n",
    "text_embed = get_reshaped_weights(model, 2)\n",
    "title_embed = get_reshaped_weights(model, 4)"
   ]
  },
  {
   "cell_type": "code",
   "execution_count": 25,
   "metadata": {
    "id": "hnpwuIgBnFu8"
   },
   "outputs": [
    {
     "name": "stderr",
     "output_type": "stream",
     "text": [
      "/share/apps/rc/software/Anaconda3/2020.07/envs/deepNLP2020/lib/python3.7/site-packages/ipykernel_launcher.py:8: RuntimeWarning: invalid value encountered in true_divide\n",
      "  \n",
      "/share/apps/rc/software/Anaconda3/2020.07/envs/deepNLP2020/lib/python3.7/site-packages/ipykernel_launcher.py:4: RuntimeWarning: invalid value encountered in greater_equal\n",
      "  after removing the cwd from sys.path.\n"
     ]
    },
    {
     "data": {
      "image/png": "[encoded data removed]",
      "text/plain": [
       "<Figure size 1080x1080 with 1 Axes>"
      ]
     },
     "metadata": {
      "needs_background": "light"
     },
     "output_type": "display_data"
    }
   ],
   "source": [
    "def get_top_n_plus_ties(arr, n):\n",
    "    sorted_args = np.argsort(-arr)\n",
    "    thresh = arr[sorted_args[n]]\n",
    "    n_ = np.sum(arr >= thresh)\n",
    "    return sorted_args[:n_]\n",
    "def get_most_similar(word, W, n):\n",
    "    b = W[vocab[word]]\n",
    "    cs = W.dot(b) / (np.linalg.norm(W, axis=1) * np.linalg.norm(b))\n",
    "    return get_top_n_plus_ties(cs, n)\n",
    "def create_words_plot(embed1, embed2, WORD, k=9):\n",
    "    ids1 = get_most_similar(WORD, embed1, k - 1)\n",
    "    ids2 = get_most_similar(WORD, embed2, k - 1)\n",
    "    words1 = [id2word[i] for i in ids1]\n",
    "    words2 = [id2word[i] for i in ids2]\n",
    "    v = TSNE(n_components=2, random_state=SEED).fit_transform(\n",
    "        np.concatenate([embed1[ids1], embed2[ids2]]))\n",
    "    plt.figure(figsize=(15,15))\n",
    "    plt.scatter(v[:k, 0], v[:k, 1], facecolors='none', edgecolors='teal')\n",
    "    plt.scatter(v[k:, 0], v[k:, 1], facecolors='none', edgecolors='red')\n",
    "    for i, word in enumerate(words1):\n",
    "        plt.annotate(word, (v[i, 0], v[i, 1]), size=9.5)\n",
    "        if word == WORD:\n",
    "            plt.scatter(v[i, 0], v[i, 1], c='teal', s=300)\n",
    "    for i, word in enumerate(words2):\n",
    "        plt.annotate(word, (v[i + k, 0], v[i + k, 1]), size=9.5)\n",
    "        if word == WORD:\n",
    "            plt.scatter(v[i + k, 0], v[i + k, 1], c='red', s=300)\n",
    "create_words_plot(text_embed, title_embed, 'Breitbart')"
   ]
  }
 ],
 "metadata": {
  "accelerator": "GPU",
  "colab": {
   "collapsed_sections": [],
   "machine_shape": "hm",
   "name": "LSTM_BaseModel",
   "provenance": []
  },
  "kernelspec": {
   "display_name": "Python [conda env:deepNLP2020]",
   "language": "python",
   "name": "conda-env-deepNLP2020-py"
  },
  "language_info": {
   "codemirror_mode": {
    "name": "ipython",
    "version": 3
   },
   "file_extension": ".py",
   "mimetype": "text/x-python",
   "name": "python",
   "nbconvert_exporter": "python",
   "pygments_lexer": "ipython3",
   "version": "3.7.9"
  }
 },
 "nbformat": 4,
 "nbformat_minor": 1
}
