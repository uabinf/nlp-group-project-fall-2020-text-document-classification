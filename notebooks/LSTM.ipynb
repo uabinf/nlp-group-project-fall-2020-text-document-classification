{
 "cells": [
  {
   "cell_type": "code",
   "execution_count": 1,
   "metadata": {},
   "outputs": [
    {
     "data": {
      "text/html": [
       "<style>.container { width:75% !important; }</style>"
      ],
      "text/plain": [
       "<IPython.core.display.HTML object>"
      ]
     },
     "metadata": {},
     "output_type": "display_data"
    }
   ],
   "source": [
    "from IPython.core.display import display, HTML\n",
    "display(HTML(\"<style>.container { width:75% !important; }</style>\"))"
   ]
  },
  {
   "cell_type": "code",
   "execution_count": 2,
   "metadata": {},
   "outputs": [],
   "source": [
    "import tensorflow as tf\n",
    "import numpy as np\n",
    "import pandas as pd\n",
    "\n",
    "import nltk\n",
    "import gensim.downloader\n",
    "import re\n",
    "from calendar import day_name, day_abbr, month_name, month_abbr\n",
    "from collections import Counter\n",
    "\n",
    "from sklearn import preprocessing\n",
    "from sklearn.utils import class_weight\n",
    "from sklearn.manifold import TSNE\n",
    "\n",
    "import matplotlib.pyplot as plt\n",
    "\n",
    "NUM = '~NUM~'\n",
    "DATE = '~DATE~'\n",
    "URL = '~URL~'\n",
    "PAD = '~PAD~'\n",
    "UNK = '~UNK~'\n",
    "\n",
    "date_regex = '('        + '|'.join(day_name[i] for i in range(7)) +\\\n",
    "             '|'        + '|'.join(day_abbr[i] for i in range(7)) +\\\n",
    "             ')?,?\\s?(' + '|'.join(month_name[i] for i in range(1, 13)) +\\\n",
    "             '|'        + '|'.join(month_abbr[i] for i in range(1, 13)) +\\\n",
    "             \")\\s[0-9]{1,2}(st|nd|rd|th)?(,?\\s'?[0-9]{2,4})?\"\n",
    "url_regex = '(www\\.|http://|https://)\\S+|\\S+\\.(co|org|net|info|be|gov|edu|html|jpg|jpeg|png|gif)'\n",
    "\n",
    "stopwords = nltk.corpus.stopwords.words('english')\n",
    "\n",
    "PERCENT_VAL = 0.1\n",
    "TEST_SIZE = 1000\n",
    "\n",
    "RANDOM_SEED = 0\n",
    "np.random.seed(RANDOM_SEED)"
   ]
  },
  {
   "cell_type": "code",
   "execution_count": 3,
   "metadata": {
    "scrolled": false
   },
   "outputs": [
    {
     "name": "stdout",
     "output_type": "stream",
     "text": [
      "CPU times: user 1min 1s, sys: 4.03 s, total: 1min 5s\n",
      "Wall time: 1min 7s\n"
     ]
    }
   ],
   "source": [
    "%%time\n",
    "EMBED_SIZE = 300\n",
    "google300 = gensim.downloader.load('word2vec-google-news-300')\n",
    "S = Counter()\n",
    "C = Counter()\n",
    "for word in google300.vocab:\n",
    "    lower = word.lower()\n",
    "    if lower in stopwords: continue\n",
    "    S[lower] += google300[word]\n",
    "    C[lower] += 1\n",
    "google300 = {w: s / c for w, s, c in zip(S.keys(), S.values(), C.values())}"
   ]
  },
  {
   "cell_type": "code",
   "execution_count": 4,
   "metadata": {
    "scrolled": true
   },
   "outputs": [],
   "source": [
    "news = pd.read_csv('fake-news/train.csv')\n",
    "news = news.dropna()\n",
    "news = news[['title','text','label']]\n",
    "news = news.sample(frac=1, random_state=RANDOM_SEED)"
   ]
  },
  {
   "cell_type": "code",
   "execution_count": 5,
   "metadata": {},
   "outputs": [
    {
     "name": "stdout",
     "output_type": "stream",
     "text": [
      "8820 6736\n",
      "990 739\n",
      "551 449\n"
     ]
    }
   ],
   "source": [
    "lb = preprocessing.LabelBinarizer()\n",
    "y = lb.fit_transform(news.label)\n",
    "y_te = y[:TEST_SIZE]\n",
    "y = y[TEST_SIZE:]\n",
    "\n",
    "trval = news.iloc[TEST_SIZE:]\n",
    "trval = trval.copy(deep=True)\n",
    "te = news.iloc[:TEST_SIZE]\n",
    "te = te.copy(deep=True)\n",
    "\n",
    "tr_size = int((1 - PERCENT_VAL) * len(trval))\n",
    "tr = trval.iloc[:tr_size]\n",
    "val = trval.iloc[tr_size:]\n",
    "\n",
    "print(len(tr[tr.label==0]), len(tr[tr.label==1]))\n",
    "print(len(val[val.label==0]), len(val[val.label==1]))\n",
    "print(len(te[te.label==0]), len(te[te.label==1]))"
   ]
  },
  {
   "cell_type": "code",
   "execution_count": 6,
   "metadata": {
    "scrolled": true
   },
   "outputs": [
    {
     "name": "stdout",
     "output_type": "stream",
     "text": [
      "CPU times: user 7min 19s, sys: 365 ms, total: 7min 20s\n",
      "Wall time: 7min 20s\n"
     ]
    }
   ],
   "source": [
    "%%time\n",
    "def split_by_case(s):\n",
    "    if (not s[1:].isupper()) and (not s[1:].islower()):\n",
    "        for i in range(1,len(s)-1):\n",
    "            if s[i-1].islower() and s[i].isupper():\n",
    "                return [s[:i]] + split_by_case(s[i:])\n",
    "            elif s[i].islower() and s[i+1].isupper():\n",
    "                return [s[:i+1]] + split_by_case(s[i+1:])\n",
    "    return [s]\n",
    "\n",
    "def supertokenize(txt):\n",
    "    txt = re.sub(date_regex, DATE, re.sub(url_regex, URL, txt))\n",
    "    tokens = nltk.word_tokenize(txt)\n",
    "    y = []\n",
    "    for t in tokens:\n",
    "        if t in '!\"\\'(),--./:;<?[\\\\]{|}“”‘’—': continue\n",
    "        t = t.lower()\n",
    "        if t != \"n't\": t = re.sub('[\"\\']','',t)\n",
    "        if t in stopwords: continue\n",
    "        if t == URL:\n",
    "            y.append(URL)\n",
    "            continue\n",
    "        if (re.sub('^[0-9]+(/[0-9]+)+$','',t) == '') or (t == DATE):\n",
    "            y.append(DATE)\n",
    "            continue\n",
    "        if t.isnumeric() or (t[:-2].isnumeric() and (t[-2:] in ['st','nd'])):\n",
    "            y.append(NUM)\n",
    "            continue\n",
    "        if t in google300:\n",
    "            y.append(t)\n",
    "        else:\n",
    "            if t.replace('.', '') in google300:\n",
    "                y.append(t.replace('.', ''))\n",
    "                continue\n",
    "            is_found = False\n",
    "            for x in split_by_case(re.sub('[^a-z]','',t)):\n",
    "                if x in google300:\n",
    "                    y.append(x)\n",
    "                    is_found = True\n",
    "            if is_found: continue\n",
    "            for st in re.split('-',re.sub('[^a-z0-9\\.~]','-',t)):\n",
    "                for x in [st, st[:-1], st[1:], st.replace('s','z'),\n",
    "                          st.replace('ou','o'), st.replace('re','er')]:\n",
    "                    if x in google300:\n",
    "                        y.append(x)\n",
    "                        is_found = True\n",
    "                        break\n",
    "            if not is_found: y.append(UNK)\n",
    "    return y\n",
    "\n",
    "def supertokenizeplus(x, lab):\n",
    "    global wc_all, wc_fake, wc_real\n",
    "    \n",
    "    y = supertokenize(x)\n",
    "    \n",
    "    wc_all += Counter(y)\n",
    "    \n",
    "    c = Counter()\n",
    "    for a in y: c[a] = 1\n",
    "    if lab == 1:\n",
    "        wc_fake += c\n",
    "    else:\n",
    "        wc_real += c\n",
    "    \n",
    "    return y\n",
    "\n",
    "wc_all=Counter()\n",
    "wc_fake=Counter()\n",
    "wc_real=Counter()\n",
    "trval['tokenized_title'] = trval.apply(lambda x: supertokenizeplus(x.title,x.label),axis=1)\n",
    "trval['tokenized_text'] = trval.apply(lambda x: supertokenizeplus(x.text,x.label),axis=1)"
   ]
  },
  {
   "cell_type": "code",
   "execution_count": 7,
   "metadata": {},
   "outputs": [
    {
     "data": {
      "text/plain": [
       "(25008,\n",
       " [('york', 78.48813626169347),\n",
       "  ('times', 71.25956956065062),\n",
       "  ('new', 68.66281099885445),\n",
       "  ('mr.', 59.96479872655237),\n",
       "  ('breitbart', 59.474946280876416),\n",
       "  ('said', 47.81148449690697),\n",
       "  ('s.', 45.210468083563335),\n",
       "  ('ms.', 44.68743986312726),\n",
       "  ('u.', 44.442659519845215),\n",
       "  ('a.', 39.35319718726004)])"
      ]
     },
     "execution_count": 7,
     "metadata": {},
     "output_type": "execute_result"
    }
   ],
   "source": [
    "term_freq = Counter()\n",
    "total_wc_all = np.sum(list(wc_all.values()))\n",
    "for k in wc_all:\n",
    "    term_freq[k] = np.abs(wc_real[k] - wc_fake[k]) /\\\n",
    "                  np.sqrt(wc_real[k] + wc_fake[k]) + wc_all[k] / total_wc_all\n",
    "thresh = term_freq.most_common(25000)[-1][1]\n",
    "tokens = [k for k, v in term_freq.items() if v >= thresh]\n",
    "\n",
    "vocab, i = {PAD: 0, DATE: 1, URL: 2, NUM: 3, UNK: 4}, 5\n",
    "for w in tokens:\n",
    "    if w in (PAD, DATE, URL, NUM, UNK): continue\n",
    "    vocab[w] = i\n",
    "    i += 1\n",
    "id2word = {v:k for k,v in vocab.items()}\n",
    "\n",
    "i, term_freq.most_common(10)"
   ]
  },
  {
   "cell_type": "code",
   "execution_count": 8,
   "metadata": {},
   "outputs": [
    {
     "name": "stdout",
     "output_type": "stream",
     "text": [
      "CPU times: user 15 s, sys: 20 ms, total: 15 s\n",
      "Wall time: 15 s\n"
     ]
    }
   ],
   "source": [
    "%%time\n",
    "te['tokenized_title'] = te.apply(lambda x: supertokenize(x.title),axis=1)\n",
    "te['tokenized_text'] = te.apply(lambda x: supertokenize(x.text),axis=1)"
   ]
  },
  {
   "cell_type": "code",
   "execution_count": 9,
   "metadata": {
    "scrolled": true
   },
   "outputs": [],
   "source": [
    "def clean(text,length):\n",
    "    f = [vocab[w] if w in vocab else vocab[UNK] for w in text]\n",
    "    f = f[:length]\n",
    "    return (length - len(f)) * [vocab[PAD]] + f\n",
    "trval['text_as_ints'] = trval.tokenized_text.apply(clean,args=[512])\n",
    "trval['title_as_ints'] = trval.tokenized_text.apply(clean,args=[64])\n",
    "te['text_as_ints'] = te.tokenized_text.apply(clean,args=[512])\n",
    "te['title_as_ints'] = te.tokenized_text.apply(clean,args=[64])\n",
    "\n",
    "X = [np.array(trval.text_as_ints.to_list()), np.array(trval.title_as_ints.to_list())]\n",
    "X_te = [np.array(te.text_as_ints.to_list()), np.array(te.title_as_ints.to_list())]"
   ]
  },
  {
   "cell_type": "code",
   "execution_count": 10,
   "metadata": {
    "scrolled": true
   },
   "outputs": [
    {
     "name": "stdout",
     "output_type": "stream",
     "text": [
      "Model: \"model\"\n",
      "__________________________________________________________________________________________________\n",
      "Layer (type)                    Output Shape         Param #     Connected to                     \n",
      "==================================================================================================\n",
      "input_1 (InputLayer)            [(None, None)]       0                                            \n",
      "__________________________________________________________________________________________________\n",
      "input_2 (InputLayer)            [(None, None)]       0                                            \n",
      "__________________________________________________________________________________________________\n",
      "embedding (Embedding)           (None, None, 300)    7502400     input_1[0][0]                    \n",
      "__________________________________________________________________________________________________\n",
      "lambda (Lambda)                 (None, None)         0           input_1[0][0]                    \n",
      "                                                                 input_2[0][0]                    \n",
      "__________________________________________________________________________________________________\n",
      "embedding_1 (Embedding)         (None, None, 300)    7502400     input_2[0][0]                    \n",
      "__________________________________________________________________________________________________\n",
      "bidirectional (Bidirectional)   (None, 100)          105600      embedding[0][0]                  \n",
      "                                                                 lambda[0][0]                     \n",
      "__________________________________________________________________________________________________\n",
      "gru_1 (GRU)                     (None, 50)           52800       embedding_1[0][0]                \n",
      "                                                                 lambda[1][0]                     \n",
      "__________________________________________________________________________________________________\n",
      "concatenate (Concatenate)       (None, 150)          0           bidirectional[0][0]              \n",
      "                                                                 gru_1[0][0]                      \n",
      "__________________________________________________________________________________________________\n",
      "dense (Dense)                   (None, 1)            151         concatenate[0][0]                \n",
      "==================================================================================================\n",
      "Total params: 15,163,351\n",
      "Trainable params: 158,551\n",
      "Non-trainable params: 15,004,800\n",
      "__________________________________________________________________________________________________\n"
     ]
    }
   ],
   "source": [
    "input_text = tf.keras.layers.Input(shape=[None])\n",
    "input_title = tf.keras.layers.Input(shape=[None])\n",
    "mask = tf.keras.layers.Lambda(lambda inputs: tf.keras.backend.not_equal(inputs, 0))\n",
    "def emb():\n",
    "    e = np.zeros((len(vocab),EMBED_SIZE))\n",
    "    v = np.random.uniform(-1,1,EMBED_SIZE)\n",
    "    for i in range(len(vocab)):\n",
    "        try:\n",
    "            g = google300[id2word[i]]\n",
    "            e[i] = g + v * np.linalg.norm(g) / np.linalg.norm(v)\n",
    "        except KeyError:\n",
    "            assert i < 5, i\n",
    "            if i in [1, 2, 3]: # leave UNK and PAD zero\n",
    "                e[i] = v / np.linalg.norm(v)\n",
    "    return tf.keras.layers.Embedding(input_dim=e.shape[0],\n",
    "                                     output_dim=e.shape[1],\n",
    "                                     weights=[e],\n",
    "                                     trainable=False)\n",
    "emb_text = emb()(input_text)\n",
    "emb_title = emb()(input_title)\n",
    "l1l2 = tf.keras.regularizers.L1L2(l1=1e-6,l2=2e-6)\n",
    "def gru(units):\n",
    "    return tf.keras.layers.GRU(units, dropout=0.2, recurrent_dropout=0.2,\n",
    "                               kernel_regularizer=l1l2)\n",
    "gru_text = tf.keras.layers.Bidirectional(gru(50))(emb_text,mask=mask(input_text))\n",
    "gru_title = gru(50)(emb_title,mask=mask(input_title))\n",
    "concat = tf.keras.layers.Concatenate()([gru_text, gru_title])\n",
    "outputs = tf.keras.layers.Dense(1, activation='sigmoid')(concat)\n",
    "model = tf.keras.Model(inputs=[input_text, input_title], outputs=[outputs])\n",
    "model.summary()"
   ]
  },
  {
   "cell_type": "code",
   "execution_count": 11,
   "metadata": {},
   "outputs": [
    {
     "name": "stdout",
     "output_type": "stream",
     "text": [
      "271/271 [==============================] - 298s 1s/step - loss: 0.4763 - accuracy: 0.7603\n"
     ]
    },
    {
     "data": {
      "text/plain": [
       "<tensorflow.python.keras.callbacks.History at 0x7f52645ce880>"
      ]
     },
     "execution_count": 11,
     "metadata": {},
     "output_type": "execute_result"
    }
   ],
   "source": [
    "model.compile(loss='binary_crossentropy', optimizer='adam', metrics='accuracy')\n",
    "model.fit(X, y, epochs=1, batch_size=64)"
   ]
  },
  {
   "cell_type": "code",
   "execution_count": 12,
   "metadata": {
    "scrolled": true
   },
   "outputs": [
    {
     "name": "stdout",
     "output_type": "stream",
     "text": [
      "Model: \"model\"\n",
      "__________________________________________________________________________________________________\n",
      "Layer (type)                    Output Shape         Param #     Connected to                     \n",
      "==================================================================================================\n",
      "input_1 (InputLayer)            [(None, None)]       0                                            \n",
      "__________________________________________________________________________________________________\n",
      "input_2 (InputLayer)            [(None, None)]       0                                            \n",
      "__________________________________________________________________________________________________\n",
      "embedding (Embedding)           (None, None, 300)    7502400     input_1[0][0]                    \n",
      "__________________________________________________________________________________________________\n",
      "lambda (Lambda)                 (None, None)         0           input_1[0][0]                    \n",
      "                                                                 input_2[0][0]                    \n",
      "__________________________________________________________________________________________________\n",
      "embedding_1 (Embedding)         (None, None, 300)    7502400     input_2[0][0]                    \n",
      "__________________________________________________________________________________________________\n",
      "bidirectional (Bidirectional)   (None, 100)          105600      embedding[0][0]                  \n",
      "                                                                 lambda[0][0]                     \n",
      "__________________________________________________________________________________________________\n",
      "gru_1 (GRU)                     (None, 50)           52800       embedding_1[0][0]                \n",
      "                                                                 lambda[1][0]                     \n",
      "__________________________________________________________________________________________________\n",
      "concatenate (Concatenate)       (None, 150)          0           bidirectional[0][0]              \n",
      "                                                                 gru_1[0][0]                      \n",
      "__________________________________________________________________________________________________\n",
      "dense (Dense)                   (None, 1)            151         concatenate[0][0]                \n",
      "==================================================================================================\n",
      "Total params: 15,163,351\n",
      "Trainable params: 15,004,800\n",
      "Non-trainable params: 158,551\n",
      "__________________________________________________________________________________________________\n"
     ]
    }
   ],
   "source": [
    "for i in range(len(model.layers)):\n",
    "    model.layers[i].trainable = False\n",
    "    if i in [2, 4]:\n",
    "        model.layers[i].trainable = True\n",
    "model.summary()"
   ]
  },
  {
   "cell_type": "code",
   "execution_count": 13,
   "metadata": {},
   "outputs": [
    {
     "name": "stdout",
     "output_type": "stream",
     "text": [
      "271/271 [==============================] - 275s 979ms/step - loss: 0.1708 - accuracy: 0.9358\n"
     ]
    },
    {
     "data": {
      "text/plain": [
       "<tensorflow.python.keras.callbacks.History at 0x7f525ee1e160>"
      ]
     },
     "execution_count": 13,
     "metadata": {},
     "output_type": "execute_result"
    }
   ],
   "source": [
    "model.compile(loss='binary_crossentropy', optimizer='adam', metrics='accuracy')\n",
    "model.fit(X, y, epochs=1, batch_size=64)"
   ]
  },
  {
   "cell_type": "code",
   "execution_count": 14,
   "metadata": {
    "scrolled": true
   },
   "outputs": [
    {
     "name": "stdout",
     "output_type": "stream",
     "text": [
      "Model: \"model\"\n",
      "__________________________________________________________________________________________________\n",
      "Layer (type)                    Output Shape         Param #     Connected to                     \n",
      "==================================================================================================\n",
      "input_1 (InputLayer)            [(None, None)]       0                                            \n",
      "__________________________________________________________________________________________________\n",
      "input_2 (InputLayer)            [(None, None)]       0                                            \n",
      "__________________________________________________________________________________________________\n",
      "embedding (Embedding)           (None, None, 300)    7502400     input_1[0][0]                    \n",
      "__________________________________________________________________________________________________\n",
      "lambda (Lambda)                 (None, None)         0           input_1[0][0]                    \n",
      "                                                                 input_2[0][0]                    \n",
      "__________________________________________________________________________________________________\n",
      "embedding_1 (Embedding)         (None, None, 300)    7502400     input_2[0][0]                    \n",
      "__________________________________________________________________________________________________\n",
      "bidirectional (Bidirectional)   (None, 100)          105600      embedding[0][0]                  \n",
      "                                                                 lambda[0][0]                     \n",
      "__________________________________________________________________________________________________\n",
      "gru_1 (GRU)                     (None, 50)           52800       embedding_1[0][0]                \n",
      "                                                                 lambda[1][0]                     \n",
      "__________________________________________________________________________________________________\n",
      "concatenate (Concatenate)       (None, 150)          0           bidirectional[0][0]              \n",
      "                                                                 gru_1[0][0]                      \n",
      "__________________________________________________________________________________________________\n",
      "dense (Dense)                   (None, 1)            151         concatenate[0][0]                \n",
      "==================================================================================================\n",
      "Total params: 15,163,351\n",
      "Trainable params: 15,163,351\n",
      "Non-trainable params: 0\n",
      "__________________________________________________________________________________________________\n"
     ]
    }
   ],
   "source": [
    "for i in range(len(model.layers)):\n",
    "    model.layers[i].trainable = True\n",
    "model.summary()"
   ]
  },
  {
   "cell_type": "code",
   "execution_count": 15,
   "metadata": {},
   "outputs": [
    {
     "name": "stdout",
     "output_type": "stream",
     "text": [
      "Epoch 1/10\n",
      "487/487 [==============================] - 628s 1s/step - loss: 0.0731 - accuracy: 0.9801 - val_loss: 0.0445 - val_accuracy: 0.9919\n",
      "Epoch 2/10\n",
      "487/487 [==============================] - 641s 1s/step - loss: 0.0220 - accuracy: 0.9969 - val_loss: 0.0470 - val_accuracy: 0.9844\n",
      "Epoch 3/10\n",
      "487/487 [==============================] - 364s 747ms/step - loss: 0.0155 - accuracy: 0.9990 - val_loss: 0.0449 - val_accuracy: 0.9890\n",
      "Epoch 4/10\n",
      "487/487 [==============================] - 370s 761ms/step - loss: 0.0115 - accuracy: 0.9999 - val_loss: 0.0393 - val_accuracy: 0.9907\n",
      "Epoch 5/10\n",
      "487/487 [==============================] - 360s 739ms/step - loss: 0.0096 - accuracy: 1.0000 - val_loss: 0.0416 - val_accuracy: 0.9890\n",
      "Epoch 6/10\n",
      "487/487 [==============================] - 369s 758ms/step - loss: 0.0123 - accuracy: 0.9993 - val_loss: 0.0587 - val_accuracy: 0.9815\n",
      "Epoch 7/10\n",
      "487/487 [==============================] - 366s 751ms/step - loss: 0.0142 - accuracy: 0.9981 - val_loss: 0.0400 - val_accuracy: 0.9896\n",
      "Epoch 8/10\n",
      "487/487 [==============================] - 365s 750ms/step - loss: 0.0090 - accuracy: 0.9999 - val_loss: 0.0417 - val_accuracy: 0.9884\n",
      "Epoch 9/10\n",
      "487/487 [==============================] - 354s 728ms/step - loss: 0.0077 - accuracy: 1.0000 - val_loss: 0.0440 - val_accuracy: 0.9896\n",
      "Epoch 10/10\n",
      "487/487 [==============================] - 353s 724ms/step - loss: 0.0070 - accuracy: 0.9999 - val_loss: 0.0507 - val_accuracy: 0.9902\n"
     ]
    },
    {
     "data": {
      "text/plain": [
       "<tensorflow.python.keras.callbacks.History at 0x7f52580be5b0>"
      ]
     },
     "execution_count": 15,
     "metadata": {},
     "output_type": "execute_result"
    }
   ],
   "source": [
    "from sklearn.utils import class_weight\n",
    "model.compile(loss='binary_crossentropy', optimizer='Nadam', metrics='accuracy')\n",
    "checkpoint_filepath = '/tmp/checkpoint_v0'\n",
    "class_weights = class_weight.compute_class_weight('balanced', classes=[0, 1],\n",
    "                                                  y=[w for x in y for w in x])\n",
    "class_weights = {i: weight for i, weight in enumerate(class_weights)}\n",
    "model.fit(\n",
    "    X, y, validation_split=PERCENT_VAL, epochs=10, batch_size=32,\n",
    "    callbacks=[tf.keras.callbacks.ModelCheckpoint(\n",
    "        filepath=checkpoint_filepath,\n",
    "        save_weights_only=True,\n",
    "        monitor='val_accuracy',\n",
    "        mode='max',\n",
    "        save_best_only=True\n",
    "    )], class_weight=class_weights\n",
    ")"
   ]
  },
  {
   "cell_type": "code",
   "execution_count": 16,
   "metadata": {},
   "outputs": [
    {
     "data": {
      "text/plain": [
       "('Should We Be Scared of Butter? - The New York Times',\n",
       " 'Is butter, along with other sources of saturated fats, back on the table, as many have recently claimed? It is. Just not in the quantities the meat, dairy and   industries might have you ingest. Unless you have a medical condition that dictates otherwise, there’s no reason to cut anything  —   not butter, ice cream or Porterhouse steak  —   completely from your diet as long as you mainly eat   foods (vegetables, fruits and whole grains) lean animal protein and fish and don’t go overboard on foods rich in saturated fats that can cause harm in excess. That’s the conclusion of the best available evidence I’ve reviewed for maximizing the health of body and brain and enjoying a long life. The unending controversies about a wholesome diet provide much fodder for this column. An extensively researched book by the science writer Nina Teicholz (“The Big Fat Surprise: Why Butter, Meat and Cheese Belong in a Healthy Diet”) published in 2014, has raised serious questions about the evidence that nearly 40 years ago prompted the Senate Select Committee on Nutrition and Human Needs to recommend that Americans follow a diet low in saturated fats and cholesterol to curb what was then a runaway epidemic of heart and other cardiovascular diseases. Those recommendations spawned an outpouring of   and   processed foods that replaced the maligned fats with carbohydrates, primarily sugars and refined starches, which the body treats like sugar. A result: Heart attacks and coronary deaths are way down (thanks largely to the decline in smoking and use of   medications along with dietary changes) but obesity and Type 2 diabetes have soared. So what should we do? Cut back on carbs and go back to eating lots of   meats and dairy products? Not if you value your health. The task now is to appreciate the effects that different nutrients have on the body and adopt a rational and enjoyable diet that takes both health benefits and risks into account. Upon reviewing the newest reports, Dr. Boris Hansel, a French   who specializes in obesity management, wrote in a Medscape commentary: “Butter is one of the foods with the highest saturated fat content, and consuming it on a regular basis promotes an increase in blood cholesterol levels. ” But, he added, “It should be considered a pleasure food for those who are fond of it, provided that it is consumed in moderate amounts and not consumed in addition to other foods that are high in saturated fatty acids. ” At the same time, a lot more attention should be paid to the overconsumption of simple and refined carbohydrates  —   the sugary drinks, desserts, pastries and snacks, as well as white bread, white rice and potatoes  —   that promote obesity and now threaten to reverse the   decline in cardiovascular disease. “Not all fats and not all carbohydrates are created equal,” Dr. Frank Hu, the senior author of a recent report on saturated fats, told me. “The types of fats and carbohydrates are more important than the quantity. ” Dr. Hu is a professor of nutrition and epidemiology at the Harvard T. H. Chan School of Public Health and a member of the nation’s Dietary Guidelines Advisory Committee that last year recommended a diet lower in red and processed meat, which have been linked to heart disease and cancer. “Saturated fat is still bad for heart disease risk,” Dr. Hu told the Nutrition Action Healthletter, published by the Center for Science in the Public Interest, a public advocacy group. “Evidence from studies on thousands of people shows that if you replace saturated fat with unsaturated fat, you reduce your risk of heart disease. If you replace saturated fat with refined carbs, you don’t reduce your risk. ” Studies that seem to exonerate saturated fats often fail to compare their effects with the appropriate nutrients, Dr. Hu said in an interview. Furthermore, claims that, heart risk aside, diets low in saturated fats do not prevent premature death have now been refuted by a huge observational study published online in July in JAMA Internal Medicine. With Dr. Dong D. Wang in Dr. Hu’s department as first author, this study of 83, 349 female nurses followed for 32 years and 42, 884 male health professionals followed for 26 years found that both total death rates and deaths from specific diseases like heart disease, respiratory disease, cancer and dementia were reduced among those consuming the least amount of saturated and trans fats, replacing them with polyunsaturated and monounsaturated fats. Simply substituting 5 percent of calories from saturated fats with the equivalent amount of polyunsaturated fats reduced total deaths by 27 percent, and replacing saturates with monounsaturates (from foods like olive and canola oil, nuts and avocados) reduced deaths by 13 percent.   fatty acids from fish also “modestly” lowered total mortality, the researchers found. However, when saturated fats were consumed in place of carbohydrates, there was no significant drop in cardiovascular death rates and slightly higher death rates from cancer. Dr. Wang and colleagues wrote that this finding was not surprising “because the major sources of carbohydrates in a typical Western diet are highly processed foods with large amounts of refined starch and sugar” that can raise the risk of cardiovascular disease independent of saturated fats. For the various diseases with death rates linked to diets high in saturated fats, chronic inflammation is believed to be a main underlying cause. Chronic   inflammation promotes atherosclerosis, leading to   arteries and setting the stage for heart attacks and strokes. The same process affects arteries in the brain and can result in vascular dementia, a common cause of memory loss. On the other hand, a   diet rich in olive oil and nuts but relatively low in saturated fats not only protects the heart but also has been shown to improve cognitive function and may reduce the risk of Alzheimer’s disease, according to a report from Barcelona last year. Diets rich in red meat and processed meats have repeatedly been linked to an increased risk of developing colon cancer. And an ongoing study of young nurses under the auspices of the Harvard School of Public Health is exploring evidence that higher intakes of saturated fats (as well as too many simple carbohydrates) can raise the risk of premenopausal breast cancer. All saturated fats are not alike, which is good news for chocolate lovers. Stearic acid, the saturated fat in dark chocolate, does not raise unhealthy cholesterol. And there’s room for an occasional indulgence  —   if you eat healthfully most of the time.',\n",
       " array([0]),\n",
       " array([0.99754155], dtype=float32))"
      ]
     },
     "execution_count": 16,
     "metadata": {},
     "output_type": "execute_result"
    }
   ],
   "source": [
    "model.load_weights(checkpoint_filepath)\n",
    "y_hat = model.predict(X_te)\n",
    "most_off = np.argmax(np.abs(y_hat-y_te))\n",
    "te.iloc[most_off].title, te.iloc[most_off].text, y_te[most_off], y_hat[most_off]"
   ]
  },
  {
   "cell_type": "code",
   "execution_count": 17,
   "metadata": {},
   "outputs": [
    {
     "name": "stdout",
     "output_type": "stream",
     "text": [
      "32/32 [==============================] - 3s 108ms/step - loss: 0.0615 - accuracy: 0.9830\n"
     ]
    },
    {
     "data": {
      "text/plain": [
       "[0.0614798441529274, 0.9829999804496765]"
      ]
     },
     "execution_count": 17,
     "metadata": {},
     "output_type": "execute_result"
    }
   ],
   "source": [
    "model.evaluate(X_te, y_te)"
   ]
  },
  {
   "cell_type": "code",
   "execution_count": 18,
   "metadata": {},
   "outputs": [],
   "source": [
    "def get_reshaped_weights(model,layer_id):\n",
    "    W=np.array(model.layers[layer_id].get_weights())\n",
    "    W=W.reshape(W.shape[1],W.shape[2])\n",
    "    return W\n",
    "text_embed = get_reshaped_weights(model,2)\n",
    "title_embed = get_reshaped_weights(model,4)"
   ]
  },
  {
   "cell_type": "code",
   "execution_count": 19,
   "metadata": {},
   "outputs": [
    {
     "name": "stderr",
     "output_type": "stream",
     "text": [
      "<ipython-input-19-92e1c33b0327>:8: RuntimeWarning: invalid value encountered in true_divide\n",
      "  cs = W.dot(b) / (np.linalg.norm(W, axis=1) * np.linalg.norm(b))\n",
      "<ipython-input-19-92e1c33b0327>:4: RuntimeWarning: invalid value encountered in greater_equal\n",
      "  n_ = np.sum(arr >= thresh)\n"
     ]
    },
    {
     "data": {
      "image/png": "[encoded data removed]",
      "text/plain": [
       "<Figure size 1080x1080 with 1 Axes>"
      ]
     },
     "metadata": {
      "needs_background": "light"
     },
     "output_type": "display_data"
    }
   ],
   "source": [
    "def get_top_n_plus_ties(arr, n):\n",
    "    sorted_args = np.argsort(-arr)\n",
    "    thresh = arr[sorted_args[n]]\n",
    "    n_ = np.sum(arr >= thresh)\n",
    "    return sorted_args[:n_]\n",
    "def get_most_similar(word, W, n):\n",
    "    b = W[vocab[word]]\n",
    "    cs = W.dot(b) / (np.linalg.norm(W, axis=1) * np.linalg.norm(b))\n",
    "    return get_top_n_plus_ties(cs, n)\n",
    "def create_words_plot(embed1, embed2, WORD, k=9):\n",
    "    ids1 = get_most_similar(WORD, embed1, k-1)\n",
    "    ids2 = get_most_similar(WORD, embed2, k-1)\n",
    "    words1 = [id2word[i] for i in ids1]\n",
    "    words2 = [id2word[i] for i in ids2]\n",
    "    v = TSNE(n_components=2,random_state=RANDOM_SEED).fit_transform(\n",
    "        np.concatenate([embed1[ids1],embed2[ids2]]))\n",
    "    fig = plt.figure(figsize=(15,15))\n",
    "    plt.scatter(v[:k,0],v[:k,1],facecolors='none',edgecolors='teal')\n",
    "    plt.scatter(v[k:,0],v[k:,1],facecolors='none',edgecolors='red')\n",
    "    for i, word in enumerate(words1):\n",
    "        plt.annotate(word,(v[i,0],v[i,1]),size=9.5)\n",
    "        if word == WORD:\n",
    "            plt.scatter(v[i,0],v[i,1],c='teal',s=300)\n",
    "    for i, word in enumerate(words2):\n",
    "        plt.annotate(word,(v[i+k,0],v[i+k,1]),size=9.5)\n",
    "        if word == WORD:\n",
    "            plt.scatter(v[i+k,0],v[i+k,1],c='red',s=300)\n",
    "create_words_plot(text_embed,title_embed,'headline')"
   ]
  }
 ],
 "metadata": {
  "kernelspec": {
   "display_name": "Python 3",
   "language": "python",
   "name": "python3"
  },
  "language_info": {
   "codemirror_mode": {
    "name": "ipython",
    "version": 3
   },
   "file_extension": ".py",
   "mimetype": "text/x-python",
   "name": "python",
   "nbconvert_exporter": "python",
   "pygments_lexer": "ipython3",
   "version": "3.8.3"
  }
 },
 "nbformat": 4,
 "nbformat_minor": 4
}
