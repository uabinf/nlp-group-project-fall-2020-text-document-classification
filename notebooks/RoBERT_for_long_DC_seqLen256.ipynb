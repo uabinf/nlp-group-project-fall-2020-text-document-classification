{
 "cells": [
  {
   "cell_type": "markdown",
   "metadata": {},
   "source": [
    "# Fine tuning SOTA model (RoBERT) from Hugging Face for Document Classification"
   ]
  },
  {
   "cell_type": "markdown",
   "metadata": {},
   "source": [
    "In this project, we will try to apply the transfer learning technique for NLP task. We will fine tune [BERT](https://arxiv.org/abs/1810.04805) and [RoBERTa](https://arxiv.org/abs/1907.11692) to do text/document classification. Most of the content are taken from [post1](https://curiousily.com/posts/sentiment-analysis-with-bert-and-hugging-face-using-pytorch-and-python/) and [post2](https://medium.com/@armandj.olivares/using-bert-for-classifying-documents-with-long-texts-5c3e7b04573d). In addition, we attempt to make it as general as possible that it can be used for any similar models (thanks to the Transformers library from [hugging face](https://huggingface.co/)) with any dataset by doing just some miner changes. \n",
    "\n",
    "In addition, we tried to overcome the limitation of the 512-sequence length of BERT and RoBERTa by using [Longformer](https://arxiv.org/abs/2004.05150) and [RoBERT](https://arxiv.org/abs/1910.10781). It stands for Recurrence over BERT where each ocument is segmented into smaller text and feed each of them to BERT. Then we extract the representation of each text chunk from (pooled_output) and feed the combined representation of each document to LSTM to classify long documents. We will see if this improve the results or overfit the data. We mainly used **python, Transformers, Pytorch, Sklearn**"
   ]
  },
  {
   "cell_type": "markdown",
   "metadata": {
    "id": "wmj22-TcZMef"
   },
   "source": [
    "## Setup\n"
   ]
  },
  {
   "cell_type": "code",
   "execution_count": 1,
   "metadata": {
    "id": "GWI4K6f1IU1-"
   },
   "outputs": [],
   "source": [
    "# !pip install -qq -r requirements.txt"
   ]
  },
  {
   "cell_type": "code",
   "execution_count": 2,
   "metadata": {
    "colab": {
     "base_uri": "https://localhost:8080/"
    },
    "id": "Jjsbi1u3QFEM",
    "outputId": "39345e45-5c8f-46b8-f3d9-9eefb2bff232"
   },
   "outputs": [],
   "source": [
    "# !pip install -qq transformers"
   ]
  },
  {
   "cell_type": "code",
   "execution_count": 3,
   "metadata": {
    "colab": {
     "base_uri": "https://localhost:8080/"
    },
    "id": "Kj_7Tz0-pK69",
    "outputId": "30df182d-81ca-4b8f-da25-bbd05d374203"
   },
   "outputs": [],
   "source": [
    "# watermark: \"An IPython magic extension for printing date and time stamps, version numbers, and hardware information.\"\n",
    "# !pip install -q -U watermark"
   ]
  },
  {
   "cell_type": "code",
   "execution_count": 4,
   "metadata": {
    "colab": {
     "base_uri": "https://localhost:8080/"
    },
    "id": "s55RRhok3ZOM",
    "outputId": "f97ce5a3-897c-43d3-d1d9-e1118a572a4c"
   },
   "outputs": [
    {
     "name": "stdout",
     "output_type": "stream",
     "text": [
      "Python implementation: CPython\n",
      "Python version       : 3.7.9\n",
      "IPython version      : 7.19.0\n",
      "\n",
      "numpy       : 1.18.5\n",
      "pandas      : 1.1.3\n",
      "torch       : 1.7.0\n",
      "transformers: 3.4.0\n",
      "seaborn     : 0.11.0\n",
      "nltk        : 3.5\n",
      "sklearn     : 0.0\n",
      "tensorflow  : 2.3.1\n",
      "\n"
     ]
    }
   ],
   "source": [
    "%reload_ext watermark\n",
    "%watermark -v -p numpy,pandas,torch,transformers,seaborn,nltk,sklearn,tensorflow"
   ]
  },
  {
   "cell_type": "code",
   "execution_count": 5,
   "metadata": {
    "id": "w68CZpOwFoly"
   },
   "outputs": [],
   "source": [
    "import transformers\n",
    "import torch\n",
    "\n",
    "import numpy as np\n",
    "import pandas as pd\n",
    "import seaborn as sns\n",
    "from pylab import rcParams\n",
    "import matplotlib.pyplot as plt\n",
    "from sklearn.model_selection import train_test_split\n",
    "from sklearn.metrics import confusion_matrix, classification_report\n",
    "from collections import defaultdict\n",
    "from textwrap import wrap\n",
    "\n",
    "from torch import nn\n",
    "from torch.utils.data import Dataset, DataLoader\n",
    "import torch.nn.functional as F\n",
    "from datetime import datetime\n",
    "\n",
    "\n",
    "%matplotlib inline\n",
    "%config InlineBackend.figure_format='retina'\n",
    "\n",
    "sns.set(style='whitegrid', palette='muted', font_scale=1.2)\n",
    "rcParams['figure.figsize'] = 10, 6\n"
   ]
  },
  {
   "cell_type": "markdown",
   "metadata": {
    "id": "ufzPdoTtNikq"
   },
   "source": [
    "## Config"
   ]
  },
  {
   "cell_type": "markdown",
   "metadata": {
    "id": "SOCghdQKD7Kb"
   },
   "source": [
    "We configured this project so we can evaluate different pretrained models with minor changes. All our hyper-parameters are in this section. If you want to use another dataset, check the preprocessing section."
   ]
  },
  {
   "cell_type": "code",
   "execution_count": 6,
   "metadata": {
    "colab": {
     "base_uri": "https://localhost:8080/",
     "height": 166,
     "referenced_widgets": [
      "b9bef0caac2545a49265831e86302012",
      "bb46c40ee6874f4088827dcf6336b562",
      "a4447b102df64805a783594f950edcc8",
      "88e089e93cd84a40bc38a77bad02c5e3",
      "a05ab3b8175c4fa5b55535b95da23d9a",
      "61c8084c86694d978d2e48e9e02f786f",
      "4bb6992aeab948b5a9fa871377f5abda",
      "25b412d292d946b7ba3e49dd4b429d83",
      "2edd26821fe8499ab9f1922ee4098106",
      "78ba73047a244d6096ca839f868c120e",
      "13133393fa8040c883cdeb9b669efd3f",
      "ab98b5cf00f744af87faf73ea39074eb",
      "717355e2f4ab451bba9b32868447b6a4",
      "33b6410ef78b4c50ac0e76ddf4f112d4",
      "bc62ee412134476ba6859437ed4102ed",
      "8c9ad197c0204a3391f782c1355c3fe4",
      "b19703d295284ee59c595eca16fd9d23",
      "fb762e2ff1fe4a228905687713f65916",
      "7b99ac76882b44bbbe842b460a22d268",
      "af1524834b04431fa5f83a836e9b0ee9",
      "10f55d7889e44455bd349ebc184bc834",
      "3faae99813874855bc65f3b99c219e61",
      "c65eb68b08704426bd6436b6ef701c7b",
      "4e6cc5ce79cf4f3fac6a618694673075"
     ]
    },
    "id": "9cUYftrdJfwE",
    "outputId": "6386ca2a-dc37-4720-b365-6830032b3e43"
   },
   "outputs": [
    {
     "data": {
      "text/plain": [
       "'RoBERTa Model and Tokenizer'"
      ]
     },
     "execution_count": 6,
     "metadata": {},
     "output_type": "execute_result"
    }
   ],
   "source": [
    "MAX_LEN = 256\n",
    "BATCH_SIZE = 16\n",
    "EPOCHS = 4\n",
    "LEARNING_RATE = 2e-5\n",
    "\n",
    "\"\"\"BERT Model and Tokenizer\"\"\"\n",
    "PRE_TRAINED_MODEL = 'bert-base-cased'\n",
    "TOKENIZER = transformers.BertTokenizer.from_pretrained(PRE_TRAINED_MODEL)\n",
    "PT_MODEL = transformers.BertModel.from_pretrained(PRE_TRAINED_MODEL)\n",
    "\n",
    "\"\"\"RoBERTa Model and Tokenizer\"\"\"\n",
    "# PRE_TRAINED_MODEL = 'roberta-base'\n",
    "# TOKENIZER = transformers.RobertaTokenizer.from_pretrained(PRE_TRAINED_MODEL)\n",
    "# PT_MODEL = transformers.RobertaModel.from_pretrained(PRE_TRAINED_MODEL)"
   ]
  },
  {
   "cell_type": "code",
   "execution_count": 7,
   "metadata": {
    "colab": {
     "base_uri": "https://localhost:8080/"
    },
    "id": "Tc_k9oHMMmpf",
    "outputId": "8f5a9ac9-d2e0-4acb-dcde-02ee3ca0a8db"
   },
   "outputs": [
    {
     "data": {
      "text/plain": [
       "device(type='cuda', index=0)"
      ]
     },
     "execution_count": 7,
     "metadata": {},
     "output_type": "execute_result"
    }
   ],
   "source": [
    "RANDOM_SEED = 42\n",
    "np.random.seed(RANDOM_SEED)\n",
    "torch.manual_seed(RANDOM_SEED)\n",
    "device = torch.device(\"cuda:0\" if torch.cuda.is_available() else \"cpu\")\n",
    "device"
   ]
  },
  {
   "cell_type": "markdown",
   "metadata": {
    "id": "9aHyGuTFgyPO"
   },
   "source": [
    "## Data Preprocessing\n",
    "\n"
   ]
  },
  {
   "cell_type": "markdown",
   "metadata": {
    "id": "mvkSDqO_G7XK"
   },
   "source": [
    "If you use a deferent dataset and reading it as a panda's dataframe, just change the column header that accommodate the content to 'text' and the target column to 'label. Code is provided below."
   ]
  },
  {
   "cell_type": "code",
   "execution_count": 8,
   "metadata": {
    "colab": {
     "base_uri": "https://localhost:8080/"
    },
    "id": "gpiMDKCRYQEB",
    "outputId": "938f79e7-1ea7-4f28-80f5-0d3191b6d6bb"
   },
   "outputs": [],
   "source": [
    "import os\n",
    "if not os.path.exists('news.csv'):\n",
    "    !unzip news.csv.zip"
   ]
  },
  {
   "cell_type": "code",
   "execution_count": 10,
   "metadata": {
    "colab": {
     "base_uri": "https://localhost:8080/",
     "height": 203
    },
    "id": "mUKLyKc7I6Qp",
    "outputId": "961d6210-8b42-4273-d71d-105ede7e1875"
   },
   "outputs": [
    {
     "data": {
      "text/html": [
       "<div>\n",
       "<style scoped>\n",
       "    .dataframe tbody tr th:only-of-type {\n",
       "        vertical-align: middle;\n",
       "    }\n",
       "\n",
       "    .dataframe tbody tr th {\n",
       "        vertical-align: top;\n",
       "    }\n",
       "\n",
       "    .dataframe thead th {\n",
       "        text-align: right;\n",
       "    }\n",
       "</style>\n",
       "<table border=\"1\" class=\"dataframe\">\n",
       "  <thead>\n",
       "    <tr style=\"text-align: right;\">\n",
       "      <th></th>\n",
       "      <th>Unnamed: 0</th>\n",
       "      <th>title</th>\n",
       "      <th>text</th>\n",
       "      <th>label</th>\n",
       "    </tr>\n",
       "  </thead>\n",
       "  <tbody>\n",
       "    <tr>\n",
       "      <th>0</th>\n",
       "      <td>8476</td>\n",
       "      <td>You Can Smell Hillary’s Fear</td>\n",
       "      <td>Daniel Greenfield, a Shillman Journalism Fello...</td>\n",
       "      <td>FAKE</td>\n",
       "    </tr>\n",
       "    <tr>\n",
       "      <th>1</th>\n",
       "      <td>10294</td>\n",
       "      <td>Watch The Exact Moment Paul Ryan Committed Pol...</td>\n",
       "      <td>Google Pinterest Digg Linkedin Reddit Stumbleu...</td>\n",
       "      <td>FAKE</td>\n",
       "    </tr>\n",
       "    <tr>\n",
       "      <th>2</th>\n",
       "      <td>3608</td>\n",
       "      <td>Kerry to go to Paris in gesture of sympathy</td>\n",
       "      <td>U.S. Secretary of State John F. Kerry said Mon...</td>\n",
       "      <td>REAL</td>\n",
       "    </tr>\n",
       "    <tr>\n",
       "      <th>3</th>\n",
       "      <td>10142</td>\n",
       "      <td>Bernie supporters on Twitter erupt in anger ag...</td>\n",
       "      <td>— Kaydee King (@KaydeeKing) November 9, 2016 T...</td>\n",
       "      <td>FAKE</td>\n",
       "    </tr>\n",
       "    <tr>\n",
       "      <th>4</th>\n",
       "      <td>875</td>\n",
       "      <td>The Battle of New York: Why This Primary Matters</td>\n",
       "      <td>It's primary day in New York and front-runners...</td>\n",
       "      <td>REAL</td>\n",
       "    </tr>\n",
       "  </tbody>\n",
       "</table>\n",
       "</div>"
      ],
      "text/plain": [
       "   Unnamed: 0                                              title  \\\n",
       "0        8476                       You Can Smell Hillary’s Fear   \n",
       "1       10294  Watch The Exact Moment Paul Ryan Committed Pol...   \n",
       "2        3608        Kerry to go to Paris in gesture of sympathy   \n",
       "3       10142  Bernie supporters on Twitter erupt in anger ag...   \n",
       "4         875   The Battle of New York: Why This Primary Matters   \n",
       "\n",
       "                                                text label  \n",
       "0  Daniel Greenfield, a Shillman Journalism Fello...  FAKE  \n",
       "1  Google Pinterest Digg Linkedin Reddit Stumbleu...  FAKE  \n",
       "2  U.S. Secretary of State John F. Kerry said Mon...  REAL  \n",
       "3  — Kaydee King (@KaydeeKing) November 9, 2016 T...  FAKE  \n",
       "4  It's primary day in New York and front-runners...  REAL  "
      ]
     },
     "execution_count": 10,
     "metadata": {},
     "output_type": "execute_result"
    }
   ],
   "source": [
    "df = pd.read_csv('news.csv')\n",
    "df.head()"
   ]
  },
  {
   "cell_type": "code",
   "execution_count": 11,
   "metadata": {},
   "outputs": [
    {
     "name": "stdout",
     "output_type": "stream",
     "text": [
      "275\n"
     ]
    }
   ],
   "source": [
    "# df = df.drop(columns=['Unnamed: 0', 'title'])\n",
    "df = df.drop_duplicates(subset = ['text', 'label'])\n",
    "print(len(pd.read_csv('news.csv')) - len(df))"
   ]
  },
  {
   "cell_type": "code",
   "execution_count": 12,
   "metadata": {
    "colab": {
     "base_uri": "https://localhost:8080/"
    },
    "id": "FdJjDo4EUM3O",
    "outputId": "a883ee60-d5fd-4fc1-c76c-e79673775e15"
   },
   "outputs": [
    {
     "data": {
      "text/plain": [
       "array(['FAKE', 'REAL'], dtype=object)"
      ]
     },
     "execution_count": 12,
     "metadata": {},
     "output_type": "execute_result"
    }
   ],
   "source": [
    "classes = np.unique(df.label)\n",
    "classes"
   ]
  },
  {
   "cell_type": "code",
   "execution_count": 13,
   "metadata": {
    "colab": {
     "base_uri": "https://localhost:8080/",
     "height": 141
    },
    "id": "wtLxXQaWUM8q",
    "outputId": "a8fc7850-2107-4255-e11e-b4b495b75515"
   },
   "outputs": [
    {
     "data": {
      "text/html": [
       "<div>\n",
       "<style scoped>\n",
       "    .dataframe tbody tr th:only-of-type {\n",
       "        vertical-align: middle;\n",
       "    }\n",
       "\n",
       "    .dataframe tbody tr th {\n",
       "        vertical-align: top;\n",
       "    }\n",
       "\n",
       "    .dataframe thead th {\n",
       "        text-align: right;\n",
       "    }\n",
       "</style>\n",
       "<table border=\"1\" class=\"dataframe\">\n",
       "  <thead>\n",
       "    <tr style=\"text-align: right;\">\n",
       "      <th></th>\n",
       "      <th>Unnamed: 0</th>\n",
       "      <th>title</th>\n",
       "      <th>text</th>\n",
       "      <th>label</th>\n",
       "    </tr>\n",
       "  </thead>\n",
       "  <tbody>\n",
       "    <tr>\n",
       "      <th>0</th>\n",
       "      <td>8476</td>\n",
       "      <td>You Can Smell Hillary’s Fear</td>\n",
       "      <td>Daniel Greenfield, a Shillman Journalism Fello...</td>\n",
       "      <td>0</td>\n",
       "    </tr>\n",
       "    <tr>\n",
       "      <th>1</th>\n",
       "      <td>10294</td>\n",
       "      <td>Watch The Exact Moment Paul Ryan Committed Pol...</td>\n",
       "      <td>Google Pinterest Digg Linkedin Reddit Stumbleu...</td>\n",
       "      <td>0</td>\n",
       "    </tr>\n",
       "    <tr>\n",
       "      <th>2</th>\n",
       "      <td>3608</td>\n",
       "      <td>Kerry to go to Paris in gesture of sympathy</td>\n",
       "      <td>U.S. Secretary of State John F. Kerry said Mon...</td>\n",
       "      <td>1</td>\n",
       "    </tr>\n",
       "  </tbody>\n",
       "</table>\n",
       "</div>"
      ],
      "text/plain": [
       "   Unnamed: 0                                              title  \\\n",
       "0        8476                       You Can Smell Hillary’s Fear   \n",
       "1       10294  Watch The Exact Moment Paul Ryan Committed Pol...   \n",
       "2        3608        Kerry to go to Paris in gesture of sympathy   \n",
       "\n",
       "                                                text  label  \n",
       "0  Daniel Greenfield, a Shillman Journalism Fello...      0  \n",
       "1  Google Pinterest Digg Linkedin Reddit Stumbleu...      0  \n",
       "2  U.S. Secretary of State John F. Kerry said Mon...      1  "
      ]
     },
     "execution_count": 13,
     "metadata": {},
     "output_type": "execute_result"
    }
   ],
   "source": [
    "# Label encoding to the target feature\n",
    "from sklearn.preprocessing import LabelEncoder\n",
    "le = LabelEncoder()\n",
    "df.label = le.fit_transform(df.label)\n",
    "df.head(3)"
   ]
  },
  {
   "cell_type": "code",
   "execution_count": 14,
   "metadata": {
    "colab": {
     "base_uri": "https://localhost:8080/"
    },
    "id": "CrNUcTdUUVPg",
    "outputId": "7944f9bd-6699-4373-e8f9-ca5000787e62"
   },
   "outputs": [
    {
     "data": {
      "text/plain": [
       "array(['FAKE', 'REAL'], dtype=object)"
      ]
     },
     "execution_count": 14,
     "metadata": {},
     "output_type": "execute_result"
    }
   ],
   "source": [
    "CLASS_NAMES = np.unique(le.inverse_transform(df.label))\n",
    "CLASS_NAMES"
   ]
  },
  {
   "cell_type": "code",
   "execution_count": 15,
   "metadata": {
    "colab": {
     "base_uri": "https://localhost:8080/"
    },
    "id": "dB2jE6am7Dpo",
    "outputId": "cb0c0562-9780-4470-9d7b-862f80b84329"
   },
   "outputs": [
    {
     "data": {
      "text/plain": [
       "(6060, 4)"
      ]
     },
     "execution_count": 15,
     "metadata": {},
     "output_type": "execute_result"
    }
   ],
   "source": [
    "df.shape"
   ]
  },
  {
   "cell_type": "code",
   "execution_count": 16,
   "metadata": {
    "colab": {
     "base_uri": "https://localhost:8080/"
    },
    "id": "B-vWzoo81dvO",
    "outputId": "54201921-da7e-426a-df87-20e64195b941"
   },
   "outputs": [
    {
     "data": {
      "text/plain": [
       "((5151, 4), (454, 4), (455, 4))"
      ]
     },
     "execution_count": 16,
     "metadata": {},
     "output_type": "execute_result"
    }
   ],
   "source": [
    "df_train, df_test = train_test_split(df, test_size=0.15, random_state=RANDOM_SEED)\n",
    "df_val, df_test = train_test_split(df_test, test_size=0.5, random_state=RANDOM_SEED)\n",
    "\n",
    "df_train.shape, df_val.shape, df_test.shape"
   ]
  },
  {
   "cell_type": "markdown",
   "metadata": {
    "id": "1SldAWReeoZ_"
   },
   "source": [
    "## Spliting the data to chuncks\n",
    "\n",
    "Refernce: https://medium.com/@armandj.olivares/using-bert-for-classifying-documents-with-long-texts-5c3e7b04573d"
   ]
  },
  {
   "cell_type": "markdown",
   "metadata": {},
   "source": [
    "We try extracting just the first 3 chunks. In our experience, using all chunks caused overfitting \n"
   ]
  },
  {
   "cell_type": "code",
   "execution_count": 17,
   "metadata": {},
   "outputs": [],
   "source": [
    "def get_split2(text1):\n",
    "    l_total = []\n",
    "    l_parcial = []\n",
    "    if len(text1.split()) // 200 > 0:\n",
    "       n = len(text1.split()) // 200\n",
    "    # to use the whole document delete this if statement\n",
    "       if n > 3:\n",
    "            n = 3\n",
    "    else: \n",
    "       n = 1\n",
    "    for w in range(n):\n",
    "        if w == 0:\n",
    "           l_parcial = text1.split()[:250]\n",
    "           l_total.append(\" \".join(l_parcial))\n",
    "        else:\n",
    "            l_parcial = text1.split()[w*200:w*200 + 250]\n",
    "            l_total.append(\" \".join(l_parcial))\n",
    "    return l_total"
   ]
  },
  {
   "cell_type": "code",
   "execution_count": 18,
   "metadata": {},
   "outputs": [
    {
     "name": "stderr",
     "output_type": "stream",
     "text": [
      "/share/apps/rc/software/Anaconda3/2020.07/envs/deepNLP2020/lib/python3.7/site-packages/ipykernel_launcher.py:1: SettingWithCopyWarning: \n",
      "A value is trying to be set on a copy of a slice from a DataFrame.\n",
      "Try using .loc[row_indexer,col_indexer] = value instead\n",
      "\n",
      "See the caveats in the documentation: https://pandas.pydata.org/pandas-docs/stable/user_guide/indexing.html#returning-a-view-versus-a-copy\n",
      "  \"\"\"Entry point for launching an IPython kernel.\n"
     ]
    },
    {
     "data": {
      "text/plain": [
       "3"
      ]
     },
     "execution_count": 18,
     "metadata": {},
     "output_type": "execute_result"
    }
   ],
   "source": [
    "df_train['text_split'] = df_train['text'].apply(get_split2)\n",
    "len(df_train['text_split'][0])#, df_train['text_split'][0]"
   ]
  },
  {
   "cell_type": "code",
   "execution_count": 19,
   "metadata": {},
   "outputs": [
    {
     "data": {
      "text/html": [
       "<div>\n",
       "<style scoped>\n",
       "    .dataframe tbody tr th:only-of-type {\n",
       "        vertical-align: middle;\n",
       "    }\n",
       "\n",
       "    .dataframe tbody tr th {\n",
       "        vertical-align: top;\n",
       "    }\n",
       "\n",
       "    .dataframe thead th {\n",
       "        text-align: right;\n",
       "    }\n",
       "</style>\n",
       "<table border=\"1\" class=\"dataframe\">\n",
       "  <thead>\n",
       "    <tr style=\"text-align: right;\">\n",
       "      <th></th>\n",
       "      <th>Unnamed: 0</th>\n",
       "      <th>title</th>\n",
       "      <th>text</th>\n",
       "      <th>label</th>\n",
       "      <th>text_split</th>\n",
       "    </tr>\n",
       "  </thead>\n",
       "  <tbody>\n",
       "    <tr>\n",
       "      <th>2237</th>\n",
       "      <td>9501</td>\n",
       "      <td>Pope Francis Commemorates 500th Anniversary Of...</td>\n",
       "      <td>November 1, 2016 Pope Francis Commemorates 500...</td>\n",
       "      <td>0</td>\n",
       "      <td>[November 1, 2016 Pope Francis Commemorates 50...</td>\n",
       "    </tr>\n",
       "    <tr>\n",
       "      <th>4807</th>\n",
       "      <td>7505</td>\n",
       "      <td>Comment on Anonymous: World War 3 Is On The Ho...</td>\n",
       "      <td>Share on Facebook Share on Twitter It has been...</td>\n",
       "      <td>0</td>\n",
       "      <td>[Share on Facebook Share on Twitter It has bee...</td>\n",
       "    </tr>\n",
       "    <tr>\n",
       "      <th>637</th>\n",
       "      <td>6437</td>\n",
       "      <td>AG Lynch told FBI Director Comey NOT to go pub...</td>\n",
       "      <td>Posted by Daisy Luther \\nAccording to a report...</td>\n",
       "      <td>0</td>\n",
       "      <td>[Posted by Daisy Luther According to a report ...</td>\n",
       "    </tr>\n",
       "    <tr>\n",
       "      <th>70</th>\n",
       "      <td>596</td>\n",
       "      <td>Handicapping the Hispanic vote for 2016 GOPers</td>\n",
       "      <td>The last Texas Republican to occupy the Oval O...</td>\n",
       "      <td>1</td>\n",
       "      <td>[The last Texas Republican to occupy the Oval ...</td>\n",
       "    </tr>\n",
       "    <tr>\n",
       "      <th>3494</th>\n",
       "      <td>6876</td>\n",
       "      <td>A Barbaric Race Of Underground-Dwelling Giants...</td>\n",
       "      <td>A Barbaric Race Of Underground-Dwelling Giants...</td>\n",
       "      <td>0</td>\n",
       "      <td>[A Barbaric Race Of Underground-Dwelling Giant...</td>\n",
       "    </tr>\n",
       "  </tbody>\n",
       "</table>\n",
       "</div>"
      ],
      "text/plain": [
       "      Unnamed: 0                                              title  \\\n",
       "2237        9501  Pope Francis Commemorates 500th Anniversary Of...   \n",
       "4807        7505  Comment on Anonymous: World War 3 Is On The Ho...   \n",
       "637         6437  AG Lynch told FBI Director Comey NOT to go pub...   \n",
       "70           596     Handicapping the Hispanic vote for 2016 GOPers   \n",
       "3494        6876  A Barbaric Race Of Underground-Dwelling Giants...   \n",
       "\n",
       "                                                   text  label  \\\n",
       "2237  November 1, 2016 Pope Francis Commemorates 500...      0   \n",
       "4807  Share on Facebook Share on Twitter It has been...      0   \n",
       "637   Posted by Daisy Luther \\nAccording to a report...      0   \n",
       "70    The last Texas Republican to occupy the Oval O...      1   \n",
       "3494  A Barbaric Race Of Underground-Dwelling Giants...      0   \n",
       "\n",
       "                                             text_split  \n",
       "2237  [November 1, 2016 Pope Francis Commemorates 50...  \n",
       "4807  [Share on Facebook Share on Twitter It has bee...  \n",
       "637   [Posted by Daisy Luther According to a report ...  \n",
       "70    [The last Texas Republican to occupy the Oval ...  \n",
       "3494  [A Barbaric Race Of Underground-Dwelling Giant...  "
      ]
     },
     "execution_count": 19,
     "metadata": {},
     "output_type": "execute_result"
    }
   ],
   "source": [
    "df_train.head()"
   ]
  },
  {
   "cell_type": "code",
   "execution_count": 20,
   "metadata": {
    "colab": {
     "base_uri": "https://localhost:8080/",
     "height": 306
    },
    "id": "tNIQdsmIrPOj",
    "outputId": "c2b0ec82-1ec7-4936-d76a-cb2133ec28d0"
   },
   "outputs": [],
   "source": [
    "df_val['text_split'] = df_val['text'].apply(get_split2)\n",
    "# df_val.head()"
   ]
  },
  {
   "cell_type": "code",
   "execution_count": 21,
   "metadata": {
    "colab": {
     "base_uri": "https://localhost:8080/"
    },
    "id": "w37qopiqfALP",
    "outputId": "944cf5fc-12ce-4877-9410-8122d5f582fd"
   },
   "outputs": [
    {
     "data": {
      "text/plain": [
       "(11310, 11310, 11310)"
      ]
     },
     "execution_count": 21,
     "metadata": {},
     "output_type": "execute_result"
    }
   ],
   "source": [
    "train_l = []\n",
    "label_l = []\n",
    "index_l = []\n",
    "unnamed_l = []\n",
    "for idx,row in df_train.iterrows():\n",
    "    for l in row['text_split']:\n",
    "        train_l.append(l)\n",
    "        label_l.append(row['label'])\n",
    "        index_l.append(idx)\n",
    "        unnamed_l.append(row['Unnamed: 0'])\n",
    "        \n",
    "len(train_l), len(label_l), len(index_l)"
   ]
  },
  {
   "cell_type": "code",
   "execution_count": 22,
   "metadata": {
    "colab": {
     "base_uri": "https://localhost:8080/",
     "height": 203
    },
    "id": "QUuamFhmfARE",
    "outputId": "75969a2a-bd63-43c3-dd0e-ee3e4172d79b"
   },
   "outputs": [
    {
     "data": {
      "text/html": [
       "<div>\n",
       "<style scoped>\n",
       "    .dataframe tbody tr th:only-of-type {\n",
       "        vertical-align: middle;\n",
       "    }\n",
       "\n",
       "    .dataframe tbody tr th {\n",
       "        vertical-align: top;\n",
       "    }\n",
       "\n",
       "    .dataframe thead th {\n",
       "        text-align: right;\n",
       "    }\n",
       "</style>\n",
       "<table border=\"1\" class=\"dataframe\">\n",
       "  <thead>\n",
       "    <tr style=\"text-align: right;\">\n",
       "      <th></th>\n",
       "      <th>id</th>\n",
       "      <th>text</th>\n",
       "      <th>label</th>\n",
       "    </tr>\n",
       "  </thead>\n",
       "  <tbody>\n",
       "    <tr>\n",
       "      <th>0</th>\n",
       "      <td>9501</td>\n",
       "      <td>November 1, 2016 Pope Francis Commemorates 500...</td>\n",
       "      <td>0</td>\n",
       "    </tr>\n",
       "    <tr>\n",
       "      <th>1</th>\n",
       "      <td>7505</td>\n",
       "      <td>Share on Facebook Share on Twitter It has been...</td>\n",
       "      <td>0</td>\n",
       "    </tr>\n",
       "    <tr>\n",
       "      <th>2</th>\n",
       "      <td>7505</td>\n",
       "      <td>documents –here is an example of the latest ba...</td>\n",
       "      <td>0</td>\n",
       "    </tr>\n",
       "    <tr>\n",
       "      <th>3</th>\n",
       "      <td>7505</td>\n",
       "      <td>Former Canadian Defense Minister (source) “Eve...</td>\n",
       "      <td>0</td>\n",
       "    </tr>\n",
       "    <tr>\n",
       "      <th>4</th>\n",
       "      <td>6437</td>\n",
       "      <td>Posted by Daisy Luther According to a report i...</td>\n",
       "      <td>0</td>\n",
       "    </tr>\n",
       "  </tbody>\n",
       "</table>\n",
       "</div>"
      ],
      "text/plain": [
       "     id                                               text  label\n",
       "0  9501  November 1, 2016 Pope Francis Commemorates 500...      0\n",
       "1  7505  Share on Facebook Share on Twitter It has been...      0\n",
       "2  7505  documents –here is an example of the latest ba...      0\n",
       "3  7505  Former Canadian Defense Minister (source) “Eve...      0\n",
       "4  6437  Posted by Daisy Luther According to a report i...      0"
      ]
     },
     "execution_count": 22,
     "metadata": {},
     "output_type": "execute_result"
    }
   ],
   "source": [
    "train_df = pd.DataFrame({'id':unnamed_l, 'text':train_l, 'label':label_l})\n",
    "train_df.head()"
   ]
  },
  {
   "cell_type": "code",
   "execution_count": 23,
   "metadata": {
    "colab": {
     "base_uri": "https://localhost:8080/"
    },
    "id": "pADk7MeWfAH8",
    "outputId": "a2730d2a-df56-4b4f-f726-5aabb6393205"
   },
   "outputs": [
    {
     "data": {
      "text/plain": [
       "(11310, 3)"
      ]
     },
     "execution_count": 23,
     "metadata": {},
     "output_type": "execute_result"
    }
   ],
   "source": [
    "train_df.shape"
   ]
  },
  {
   "cell_type": "code",
   "execution_count": 24,
   "metadata": {
    "colab": {
     "base_uri": "https://localhost:8080/"
    },
    "id": "w6Co8gz6e_6m",
    "outputId": "60cd5ee7-7e4f-4ebf-f39c-8589ee378fb9"
   },
   "outputs": [
    {
     "data": {
      "text/plain": [
       "(6060, 4)"
      ]
     },
     "execution_count": 24,
     "metadata": {},
     "output_type": "execute_result"
    }
   ],
   "source": [
    "df.shape"
   ]
  },
  {
   "cell_type": "code",
   "execution_count": 25,
   "metadata": {
    "colab": {
     "base_uri": "https://localhost:8080/"
    },
    "id": "-4BPpr2ye_z8",
    "outputId": "2264d02a-5a5f-492c-9370-af50a8d49ab1"
   },
   "outputs": [
    {
     "data": {
      "text/plain": [
       "(1014, 1014, 1014)"
      ]
     },
     "execution_count": 25,
     "metadata": {},
     "output_type": "execute_result"
    }
   ],
   "source": [
    "val_l = []\n",
    "val_label_l = []\n",
    "val_index_l = []\n",
    "unnamed_l = []\n",
    "for idx,row in df_val.iterrows():\n",
    "    for l in row['text_split']:\n",
    "        val_l.append(l)\n",
    "        val_label_l.append(row['label'])\n",
    "        val_index_l.append(idx)\n",
    "        unnamed_l.append(row['Unnamed: 0'])\n",
    "        \n",
    "len(val_l), len(val_label_l), len(val_index_l)"
   ]
  },
  {
   "cell_type": "code",
   "execution_count": 26,
   "metadata": {
    "colab": {
     "base_uri": "https://localhost:8080/",
     "height": 203
    },
    "id": "9UrmN3q0sPc1",
    "outputId": "b087054c-6827-47fa-a01d-c0a6c4598414"
   },
   "outputs": [
    {
     "data": {
      "text/html": [
       "<div>\n",
       "<style scoped>\n",
       "    .dataframe tbody tr th:only-of-type {\n",
       "        vertical-align: middle;\n",
       "    }\n",
       "\n",
       "    .dataframe tbody tr th {\n",
       "        vertical-align: top;\n",
       "    }\n",
       "\n",
       "    .dataframe thead th {\n",
       "        text-align: right;\n",
       "    }\n",
       "</style>\n",
       "<table border=\"1\" class=\"dataframe\">\n",
       "  <thead>\n",
       "    <tr style=\"text-align: right;\">\n",
       "      <th></th>\n",
       "      <th>id</th>\n",
       "      <th>text</th>\n",
       "      <th>label</th>\n",
       "    </tr>\n",
       "  </thead>\n",
       "  <tbody>\n",
       "    <tr>\n",
       "      <th>0</th>\n",
       "      <td>4571</td>\n",
       "      <td>For many Americans who have long felt threaten...</td>\n",
       "      <td>1</td>\n",
       "    </tr>\n",
       "    <tr>\n",
       "      <th>1</th>\n",
       "      <td>4571</td>\n",
       "      <td>in the future.” On Wednesday night and again T...</td>\n",
       "      <td>1</td>\n",
       "    </tr>\n",
       "    <tr>\n",
       "      <th>2</th>\n",
       "      <td>4571</td>\n",
       "      <td>extraordinarily intense campaign, and we’re se...</td>\n",
       "      <td>1</td>\n",
       "    </tr>\n",
       "    <tr>\n",
       "      <th>3</th>\n",
       "      <td>7974</td>\n",
       "      <td>Here's something interesting from The Unz Revi...</td>\n",
       "      <td>0</td>\n",
       "    </tr>\n",
       "    <tr>\n",
       "      <th>4</th>\n",
       "      <td>7974</td>\n",
       "      <td>euphemism for mixing races, pushing junk popul...</td>\n",
       "      <td>0</td>\n",
       "    </tr>\n",
       "  </tbody>\n",
       "</table>\n",
       "</div>"
      ],
      "text/plain": [
       "     id                                               text  label\n",
       "0  4571  For many Americans who have long felt threaten...      1\n",
       "1  4571  in the future.” On Wednesday night and again T...      1\n",
       "2  4571  extraordinarily intense campaign, and we’re se...      1\n",
       "3  7974  Here's something interesting from The Unz Revi...      0\n",
       "4  7974  euphemism for mixing races, pushing junk popul...      0"
      ]
     },
     "execution_count": 26,
     "metadata": {},
     "output_type": "execute_result"
    }
   ],
   "source": [
    "val_df = pd.DataFrame({'id':unnamed_l, 'text':val_l, 'label':val_label_l})\n",
    "val_df.head()"
   ]
  },
  {
   "cell_type": "code",
   "execution_count": 27,
   "metadata": {},
   "outputs": [],
   "source": [
    "df_test['text_split'] = df_test['text'].apply(get_split2)"
   ]
  },
  {
   "cell_type": "code",
   "execution_count": 28,
   "metadata": {},
   "outputs": [
    {
     "data": {
      "text/plain": [
       "(972, 972, 972)"
      ]
     },
     "execution_count": 28,
     "metadata": {},
     "output_type": "execute_result"
    }
   ],
   "source": [
    "test_l = []\n",
    "test_label_l = []\n",
    "test_index_l = []\n",
    "unnamed_l = []\n",
    "for idx,row in df_test.iterrows():\n",
    "    for l in row['text_split']:\n",
    "        test_l.append(l)\n",
    "        test_label_l.append(row['label'])\n",
    "        test_index_l.append(idx)\n",
    "        unnamed_l.append(row['Unnamed: 0'])\n",
    "        \n",
    "len(test_l), len(test_label_l), len(test_index_l)"
   ]
  },
  {
   "cell_type": "code",
   "execution_count": 29,
   "metadata": {},
   "outputs": [
    {
     "data": {
      "text/html": [
       "<div>\n",
       "<style scoped>\n",
       "    .dataframe tbody tr th:only-of-type {\n",
       "        vertical-align: middle;\n",
       "    }\n",
       "\n",
       "    .dataframe tbody tr th {\n",
       "        vertical-align: top;\n",
       "    }\n",
       "\n",
       "    .dataframe thead th {\n",
       "        text-align: right;\n",
       "    }\n",
       "</style>\n",
       "<table border=\"1\" class=\"dataframe\">\n",
       "  <thead>\n",
       "    <tr style=\"text-align: right;\">\n",
       "      <th></th>\n",
       "      <th>id</th>\n",
       "      <th>text</th>\n",
       "      <th>label</th>\n",
       "    </tr>\n",
       "  </thead>\n",
       "  <tbody>\n",
       "    <tr>\n",
       "      <th>0</th>\n",
       "      <td>9413</td>\n",
       "      <td>Erin Brockovich: Millions of Americans' tap wa...</td>\n",
       "      <td>0</td>\n",
       "    </tr>\n",
       "    <tr>\n",
       "      <th>1</th>\n",
       "      <td>9413</td>\n",
       "      <td>heavy metals analysis results for foods, dieta...</td>\n",
       "      <td>0</td>\n",
       "    </tr>\n",
       "    <tr>\n",
       "      <th>2</th>\n",
       "      <td>7564</td>\n",
       "      <td>By Sean Colarossi on Mon, Oct 31st, 2016 at 9:...</td>\n",
       "      <td>0</td>\n",
       "    </tr>\n",
       "    <tr>\n",
       "      <th>3</th>\n",
       "      <td>7564</td>\n",
       "      <td>legislation in the early 1990s. Moreover, the ...</td>\n",
       "      <td>0</td>\n",
       "    </tr>\n",
       "  </tbody>\n",
       "</table>\n",
       "</div>"
      ],
      "text/plain": [
       "     id                                               text  label\n",
       "0  9413  Erin Brockovich: Millions of Americans' tap wa...      0\n",
       "1  9413  heavy metals analysis results for foods, dieta...      0\n",
       "2  7564  By Sean Colarossi on Mon, Oct 31st, 2016 at 9:...      0\n",
       "3  7564  legislation in the early 1990s. Moreover, the ...      0"
      ]
     },
     "execution_count": 29,
     "metadata": {},
     "output_type": "execute_result"
    }
   ],
   "source": [
    "test_df = pd.DataFrame({'id':unnamed_l, 'text':test_l, 'label':test_label_l})\n",
    "test_df.head(4)"
   ]
  },
  {
   "cell_type": "markdown",
   "metadata": {
    "id": "4aw5JdQgetaJ"
   },
   "source": [
    "## PyTorch Dataset and DataLoader"
   ]
  },
  {
   "cell_type": "code",
   "execution_count": 30,
   "metadata": {
    "id": "E2BPgRJ7YBK0"
   },
   "outputs": [],
   "source": [
    "\"\"\"\n",
    "This class is an extension from torch Dataset class to be able to use the standard pytorch\n",
    "DataLoader framework to train, validatem and test the model. Here, we used the encode_plus method \n",
    "to the hugging face tokenizer. It will do all the tokenization and preprocessing (add <CLS> and <SEP>, \n",
    "pad or truncate the text to a max length) and return a dictionary with the token_ids and attention_mask. \n",
    "This class will also return the actual text and the true label to help evaluate the model, later.\n",
    "\"\"\"\n",
    "class NewsDataset(Dataset):\n",
    "\n",
    "    def __init__(self, news_texts, labels, tokenizer, max_len):\n",
    "        self.news_texts = news_texts\n",
    "        self.labels = labels\n",
    "        self.tokenizer = tokenizer\n",
    "        self.max_len = max_len\n",
    "    \n",
    "    def __len__(self):\n",
    "        return len(self.news_texts)\n",
    "    \n",
    "    def __getitem__(self, item):\n",
    "        news_Text = str(self.news_texts[item])\n",
    "        label = self.labels[item]\n",
    "\n",
    "        encoding = self.tokenizer.encode_plus(\n",
    "            news_Text,\n",
    "            add_special_tokens=True,\n",
    "            max_length=self.max_len,\n",
    "            return_token_type_ids=False,\n",
    "            padding='max_length',\n",
    "            truncation=True,\n",
    "            return_attention_mask=True,\n",
    "            return_tensors='pt')\n",
    "\n",
    "        return {\n",
    "          'news_Text': news_Text,\n",
    "          'input_ids': encoding['input_ids'].flatten(),\n",
    "          'attention_mask': encoding['attention_mask'].flatten(),\n",
    "          'labels': torch.tensor(label, dtype=torch.long)}"
   ]
  },
  {
   "cell_type": "markdown",
   "metadata": {
    "id": "x2uwsvCYqDJK"
   },
   "source": [
    "The tokenizer is doing most of the heavy lifting for us. We also return the review texts, so it'll be easier to evaluate the predictions from our model."
   ]
  },
  {
   "cell_type": "code",
   "execution_count": 31,
   "metadata": {
    "id": "KEGqcvkuOuTX"
   },
   "outputs": [],
   "source": [
    "\"\"\"\n",
    "This is a helper function to prepare the dataset and rap it to the pytorch DataLoader\n",
    "\"\"\"\n",
    "def create_data_loader(df, tokenizer, max_len, batch_size):\n",
    "    dataset = NewsDataset(\n",
    "        news_texts=df.text.to_numpy(),\n",
    "        labels=df.label.to_numpy(),\n",
    "        tokenizer=tokenizer,\n",
    "        max_len=max_len)\n",
    "\n",
    "    return DataLoader(\n",
    "        dataset,\n",
    "        batch_size=batch_size,\n",
    "        num_workers=4)"
   ]
  },
  {
   "cell_type": "code",
   "execution_count": 32,
   "metadata": {
    "id": "vODDxMKsPHqI"
   },
   "outputs": [],
   "source": [
    "train_data_loader = create_data_loader(train_df, TOKENIZER, MAX_LEN, BATCH_SIZE)\n",
    "val_data_loader = create_data_loader(val_df, TOKENIZER, MAX_LEN, BATCH_SIZE)\n",
    "test_data_loader = create_data_loader(test_df, TOKENIZER, MAX_LEN, BATCH_SIZE)"
   ]
  },
  {
   "cell_type": "markdown",
   "metadata": {
    "id": "A6dlOptwqlhF"
   },
   "source": [
    "Let's have a look at an example batch from the training data loader:"
   ]
  },
  {
   "cell_type": "code",
   "execution_count": 33,
   "metadata": {
    "colab": {
     "base_uri": "https://localhost:8080/"
    },
    "id": "Y93ldSN47FeT",
    "outputId": "564b2d69-994f-48ef-cf82-8c89391474b6"
   },
   "outputs": [
    {
     "data": {
      "text/plain": [
       "dict_keys(['news_Text', 'input_ids', 'attention_mask', 'labels'])"
      ]
     },
     "execution_count": 33,
     "metadata": {},
     "output_type": "execute_result"
    }
   ],
   "source": [
    "data = next(iter(train_data_loader))\n",
    "data.keys()"
   ]
  },
  {
   "cell_type": "code",
   "execution_count": 34,
   "metadata": {
    "colab": {
     "base_uri": "https://localhost:8080/"
    },
    "id": "IdU4YVqb7N8M",
    "outputId": "6665b463-d807-47bc-d394-ffb38a8a4ea1"
   },
   "outputs": [
    {
     "name": "stdout",
     "output_type": "stream",
     "text": [
      "torch.Size([16, 256])\n",
      "torch.Size([16, 256])\n",
      "torch.Size([16])\n"
     ]
    }
   ],
   "source": [
    "print(data['input_ids'].shape)\n",
    "print(data['attention_mask'].shape)\n",
    "print(data['labels'].shape)"
   ]
  },
  {
   "cell_type": "markdown",
   "metadata": {
    "id": "H63Y-TjyRC7S"
   },
   "source": [
    "## The Classification Model"
   ]
  },
  {
   "cell_type": "markdown",
   "metadata": {
    "id": "440Nd31VTHER"
   },
   "source": [
    "There are a lot of helpers that make using BERT easy with the Transformers library. For this task, we will use the basic [BertModel](https://huggingface.co/transformers/model_doc/bert.html#bertmodel) and build our classifier on top of it.\n",
    "\n",
    "The `last_hidden_state`, which we will not use here since we do classification, is a sequence of hidden states of the last layer of the model. Obtaining the `pooled_output`, what we need, is done by applying the [BertPooler](https://github.com/huggingface/transformers/blob/edf0582c0be87b60f94f41c659ea779876efc7be/src/transformers/modeling_bert.py#L426) on `last_hidden_state`:"
   ]
  },
  {
   "cell_type": "code",
   "execution_count": 35,
   "metadata": {
    "id": "z6J4LGXZq0IP"
   },
   "outputs": [],
   "source": [
    "\"\"\"\n",
    "This classifier take the input from BertModel last layer (after pooling) and use \n",
    "a dropout layer for some regularization and a fully-connected layer for our \n",
    "classification output. Note that we're returning the raw output of the last layer \n",
    "since it is required for the cross-entropy loss function in PyTorch.\n",
    "We also return the pooled_output so we can get the featurs (768 vector) during predection,\n",
    "which will be fed to LSTM\n",
    "\n",
    "last_hidden_state shape: [1, batch_size, model_last_hidden_state]\n",
    "pooled_output shape: [1, model_last_hidden_state] \n",
    "\"\"\"\n",
    "class NewsClassifier2(nn.Module):\n",
    "\n",
    "    def __init__(self, n_classes):\n",
    "        super(NewsClassifier2, self).__init__()\n",
    "        self.pretrained_model = PT_MODEL\n",
    "        self.drop = nn.Dropout(p=0.2)\n",
    "        self.out = nn.Linear(self.pretrained_model.config.hidden_size, n_classes)\n",
    "    \n",
    "    def forward(self, input_ids, attention_mask):\n",
    "        _, pooled_output = self.pretrained_model(input_ids=input_ids, attention_mask=attention_mask)\n",
    "        output = self.drop(pooled_output)\n",
    "        \n",
    "        return pooled_output, self.out(output)"
   ]
  },
  {
   "cell_type": "markdown",
   "metadata": {
    "id": "UJg8m3NQJahc"
   },
   "source": [
    "\n",
    "This should work like any other PyTorch model. Let's create an instance and move it to the GPU:"
   ]
  },
  {
   "cell_type": "code",
   "execution_count": 36,
   "metadata": {
    "id": "_8i3OMSvtzir"
   },
   "outputs": [],
   "source": [
    "model = NewsClassifier2(len(CLASS_NAMES))\n",
    "model = model.to(device)"
   ]
  },
  {
   "cell_type": "markdown",
   "metadata": {
    "id": "VCPCFDLlKIQd"
   },
   "source": [
    "We'll move the example batch of our training data to the GPU:"
   ]
  },
  {
   "cell_type": "code",
   "execution_count": 37,
   "metadata": {
    "id": "zoGUH8VZ-pPQ"
   },
   "outputs": [],
   "source": [
    "# loading a pretrained model\n",
    "\n",
    "# model = NewsClassifier2(len(CLASS_NAMES))\n",
    "# model.load_state_dict(torch.load(PRE_TRAINED_MODEL + '_best_model2.bin'))\n",
    "# model = model.to(device)"
   ]
  },
  {
   "cell_type": "markdown",
   "metadata": {
    "id": "Hr1EgkEtKOIB"
   },
   "source": [
    "To get the predicted probabilities from our trained model, we'll apply the softmax function to the outputs:"
   ]
  },
  {
   "cell_type": "markdown",
   "metadata": {
    "id": "g9xikRdtRN1N"
   },
   "source": [
    "### Training the model"
   ]
  },
  {
   "cell_type": "markdown",
   "metadata": {
    "id": "76g7FV85H-T8"
   },
   "source": [
    "For optimization, we'll use the [AdamW](https://huggingface.co/transformers/main_classes/optimizer_schedules.html#adamw) optimizer provided by Hugging Face. We'll also use a linear scheduler with no warmup steps:"
   ]
  },
  {
   "cell_type": "code",
   "execution_count": 38,
   "metadata": {
    "id": "5v-ArJ2fCCcU"
   },
   "outputs": [],
   "source": [
    "optimizer = transformers.AdamW(model.parameters(), lr=LEARNING_RATE, correct_bias=False)\n",
    "total_steps = len(train_data_loader) * EPOCHS\n",
    "\n",
    "scheduler = transformers.get_linear_schedule_with_warmup(\n",
    "    optimizer,\n",
    "    num_warmup_steps=0,\n",
    "    num_training_steps=total_steps)\n",
    "\n",
    "# We are doing classification. We can directly use CrossEntropyLoss from torch\n",
    "loss_fn = nn.CrossEntropyLoss().to(device)"
   ]
  },
  {
   "cell_type": "markdown",
   "metadata": {
    "id": "A8522g7JIu5J"
   },
   "source": [
    "\n",
    "Let's continue with writing a helper function for training our model for one epoch:"
   ]
  },
  {
   "cell_type": "code",
   "execution_count": 81,
   "metadata": {},
   "outputs": [],
   "source": [
    "\"\"\"\n",
    "This is a helper function that for each epoch it go through all the training data,\n",
    "do the backpropagation and optimization, and finally return the average accuracy \n",
    "and loss for that epoch.\n",
    "\"\"\"\n",
    "def train_epoch(\n",
    "    model, \n",
    "    data_loader, \n",
    "    loss_fn, \n",
    "    optimizer, \n",
    "    device, \n",
    "    scheduler, \n",
    "    n_examples\n",
    "  ):\n",
    "    model = model.train()\n",
    "\n",
    "    losses = []\n",
    "    correct_predictions = 0\n",
    "    \n",
    "    for d in data_loader:\n",
    "        input_ids = d[\"input_ids\"].to(device)\n",
    "        attention_mask = d[\"attention_mask\"].to(device)\n",
    "        labels = d[\"labels\"].to(device)\n",
    "\n",
    "        _, outputs = model(input_ids=input_ids, attention_mask=attention_mask)\n",
    "\n",
    "        _, preds = torch.max(outputs, dim=1)\n",
    "        loss = loss_fn(outputs, labels)\n",
    "\n",
    "        correct_predictions += torch.sum(preds == labels)\n",
    "        losses.append(loss.item())\n",
    "\n",
    "        loss.backward()\n",
    "        nn.utils.clip_grad_norm_(model.parameters(), max_norm=1.0)\n",
    "        optimizer.step()\n",
    "        scheduler.step()\n",
    "        optimizer.zero_grad()\n",
    "\n",
    "    return correct_predictions.double() / n_examples, np.mean(losses)"
   ]
  },
  {
   "cell_type": "code",
   "execution_count": 39,
   "metadata": {
    "id": "CXeRorVGIKre"
   },
   "outputs": [],
   "source": [
    "\"\"\"\n",
    "This is another helper function to evaluate the model on a given data loader.\n",
    "It's going to used after each epoch\n",
    "\"\"\"\n",
    "\n",
    "def eval_model(model, data_loader, loss_fn, device, n_examples):\n",
    "    model = model.eval()\n",
    "\n",
    "    losses = []\n",
    "    correct_predictions = 0\n",
    "\n",
    "    with torch.no_grad():\n",
    "        for d in data_loader:\n",
    "            input_ids = d[\"input_ids\"].to(device)\n",
    "            attention_mask = d[\"attention_mask\"].to(device)\n",
    "            labels = d[\"labels\"].to(device)\n",
    "\n",
    "            _, outputs = model(input_ids=input_ids, attention_mask=attention_mask)\n",
    "            \n",
    "            _, preds = torch.max(outputs, dim=1)\n",
    "\n",
    "            loss = loss_fn(outputs, labels)\n",
    "\n",
    "            correct_predictions += torch.sum(preds == labels)\n",
    "            losses.append(loss.item())\n",
    "\n",
    "    return correct_predictions.double() / n_examples, np.mean(losses)"
   ]
  },
  {
   "cell_type": "markdown",
   "metadata": {
    "id": "a_rdSDBHhhCh"
   },
   "source": [
    "Using the previous two function, we will write our training loop. We'll also store the training history (similar to Scikit-Learn Library)"
   ]
  },
  {
   "cell_type": "code",
   "execution_count": 40,
   "metadata": {},
   "outputs": [
    {
     "data": {
      "text/plain": [
       "((11310, 3), (5151, 5))"
      ]
     },
     "execution_count": 40,
     "metadata": {},
     "output_type": "execute_result"
    }
   ],
   "source": [
    "train_df.shape, df_train.shape"
   ]
  },
  {
   "cell_type": "code",
   "execution_count": 82,
   "metadata": {
    "colab": {
     "base_uri": "https://localhost:8080/"
    },
    "id": "1zhHoFNsxufs",
    "outputId": "231faebd-abe7-43e2-f04d-1dc2d6b6b0df"
   },
   "outputs": [
    {
     "name": "stdout",
     "output_type": "stream",
     "text": [
      "Training Epoch 1/4\n",
      "********************\n",
      "Train loss 0.3251081778861509  ---  Train accuracy 0.8720601237842617\n",
      "Val  loss 0.3063118341815425   ---   Val  accuracy 0.9142011834319527\n",
      "------------------------------------------------------------\n",
      "\n",
      "This epoch took time  0:05:09.769730\n",
      "\n",
      "Training Epoch 2/4\n",
      "********************\n",
      "Train loss 0.14303962407124696  ---  Train accuracy 0.9603890362511053\n",
      "Val  loss 0.2835551250136632   ---   Val  accuracy 0.9230769230769231\n",
      "------------------------------------------------------------\n",
      "\n",
      "This epoch took time  0:05:08.241159\n",
      "\n",
      "Training Epoch 3/4\n",
      "********************\n",
      "Train loss 0.07652809177311694  ---  Train accuracy 0.9824049513704686\n",
      "Val  loss 0.27660044563322117   ---   Val  accuracy 0.9378698224852071\n",
      "------------------------------------------------------------\n",
      "\n",
      "This epoch took time  0:05:07.607717\n",
      "\n",
      "Training Epoch 4/4\n",
      "********************\n",
      "Train loss 0.04168559198172337  ---  Train accuracy 0.9906277630415562\n",
      "Val  loss 0.29799900311377314   ---   Val  accuracy 0.9437869822485208\n",
      "------------------------------------------------------------\n",
      "\n",
      "This epoch took time  0:05:07.247617\n",
      "\n",
      "CPU times: user 12min 38s, sys: 4min 41s, total: 17min 19s\n",
      "Wall time: 20min 35s\n"
     ]
    }
   ],
   "source": [
    "%%time\n",
    "\n",
    "history = defaultdict(list)\n",
    "best_accuracy = 0\n",
    "train_accuracy = 0\n",
    "\n",
    "for epoch in range(EPOCHS):\n",
    "    current_time = datetime.now()\n",
    "    print(f'Training Epoch {epoch + 1}/{EPOCHS}')\n",
    "    print('*' * 20)\n",
    "\n",
    "    train_acc, train_loss = train_epoch(\n",
    "        model,\n",
    "        train_data_loader,    \n",
    "        loss_fn, \n",
    "        optimizer, \n",
    "        device, \n",
    "        scheduler, \n",
    "        len(train_df))\n",
    "\n",
    "    print(f'Train loss {train_loss}  ---  Train accuracy {train_acc}')\n",
    "\n",
    "    val_acc, val_loss = eval_model(\n",
    "        model,\n",
    "        val_data_loader,\n",
    "        loss_fn, \n",
    "        device, \n",
    "        len(val_df))\n",
    "\n",
    "    print(f'Val  loss {val_loss}   ---   Val  accuracy {val_acc}')\n",
    "    print('-' * 60)\n",
    "    print()\n",
    "\n",
    "    print(\"This epoch took time \", datetime.now() - current_time)\n",
    "    print()\n",
    "\n",
    "    history['train_acc'].append(train_acc)\n",
    "    history['train_loss'].append(train_loss)\n",
    "    history['val_acc'].append(val_acc)\n",
    "    history['val_loss'].append(val_loss)\n",
    "\n",
    "    # Storing the state of the best model, indicated by the highest training and validation accuracy.\n",
    "    if train_acc > train_accuracy and val_acc >= best_accuracy:\n",
    "        torch.save(model.state_dict(), PRE_TRAINED_MODEL + '_best_model2.bin')\n",
    "        train_accuracy = train_acc\n",
    "        best_accuracy = val_acc"
   ]
  },
  {
   "cell_type": "code",
   "execution_count": 83,
   "metadata": {},
   "outputs": [
    {
     "data": {
      "image/png": "[encoded data removed]",
      "text/plain": [
       "<Figure size 720x432 with 1 Axes>"
      ]
     },
     "metadata": {
      "image/png": {
       "height": 398,
       "width": 620
      }
     },
     "output_type": "display_data"
    }
   ],
   "source": [
    "# We can look at the training vs validation losses\n",
    "\n",
    "plt.plot(history['train_loss'], label='train loss')\n",
    "plt.plot(history['val_loss'], label='validation loss')\n",
    "\n",
    "plt.title('Training history')\n",
    "plt.ylabel('loss')\n",
    "plt.xlabel('Epoch')\n",
    "plt.legend()\n",
    "plt.ylim([0, 1]);"
   ]
  },
  {
   "cell_type": "code",
   "execution_count": 84,
   "metadata": {},
   "outputs": [
    {
     "data": {
      "image/png": "[encoded data removed]",
      "text/plain": [
       "<Figure size 720x432 with 1 Axes>"
      ]
     },
     "metadata": {
      "image/png": {
       "height": 398,
       "width": 620
      }
     },
     "output_type": "display_data"
    }
   ],
   "source": [
    "# We can look at the training vs validation accuracy:\n",
    "\n",
    "plt.plot(history['train_acc'], label='train accuracy')\n",
    "plt.plot(history['val_acc'], label='validation accuracy')\n",
    "\n",
    "plt.title('Training history')\n",
    "plt.ylabel('Accuracy')\n",
    "plt.xlabel('Epoch')\n",
    "plt.legend()\n",
    "plt.ylim([0, 1]);"
   ]
  },
  {
   "cell_type": "markdown",
   "metadata": {
    "id": "U3HZb3NWFtFf"
   },
   "source": [
    "### Evaluating the model\n",
    "\n",
    "So how good is our model on predicting sentiment? Let's start by calculating the accuracy on the test data:"
   ]
  },
  {
   "cell_type": "code",
   "execution_count": 85,
   "metadata": {
    "colab": {
     "base_uri": "https://localhost:8080/"
    },
    "id": "jS3gJ_qBEljD",
    "outputId": "71cad27f-8f00-4f31-841d-026286f2aa3c"
   },
   "outputs": [
    {
     "name": "stdout",
     "output_type": "stream",
     "text": [
      "Accuraccy =  94.0329218106996 %\n",
      "test_loss =  0.2968254724185156\n",
      "CPU times: user 3.41 s, sys: 1.46 s, total: 4.87 s\n",
      "Wall time: 8.75 s\n"
     ]
    }
   ],
   "source": [
    "%%time\n",
    "test_acc, test_loss = eval_model(model, test_data_loader, loss_fn, device, len(test_df))\n",
    "\n",
    "print('Accuraccy = ' , test_acc.item() * 100, '%')\n",
    "print('test_loss = ' , test_loss.item())"
   ]
  },
  {
   "cell_type": "code",
   "execution_count": 87,
   "metadata": {
    "id": "EgR6MuNS8jr_"
   },
   "outputs": [],
   "source": [
    "\"\"\"\n",
    "The following is a helper function to get the predictions from our model using \n",
    "the test portion of the data.\n",
    "\"\"\"\n",
    "\n",
    "def get_predictions(model, data_loader):\n",
    "    model = model.eval()\n",
    "    \n",
    "    news_Texts = []\n",
    "    predictions = []\n",
    "    prediction_probs = []\n",
    "    real_values = []\n",
    "\n",
    "    with torch.no_grad():\n",
    "        for d in data_loader:\n",
    "\n",
    "            texts = d[\"news_Text\"]\n",
    "            input_ids = d[\"input_ids\"].to(device)\n",
    "            attention_mask = d[\"attention_mask\"].to(device)\n",
    "            labels = d[\"labels\"].to(device)\n",
    "\n",
    "            _, outputs = model(input_ids=input_ids, attention_mask=attention_mask)\n",
    "            \n",
    "            _, preds = torch.max(outputs, dim=1)\n",
    "\n",
    "            probs = F.softmax(outputs, dim=1)\n",
    "\n",
    "            news_Texts.extend(texts)\n",
    "            predictions.extend(preds)\n",
    "            prediction_probs.extend(probs)\n",
    "            real_values.extend(labels)\n",
    "\n",
    "    predictions = torch.stack(predictions).cpu()\n",
    "    prediction_probs = torch.stack(prediction_probs).cpu()\n",
    "    real_values = torch.stack(real_values).cpu()\n",
    "    \n",
    "    return news_Texts, predictions, prediction_probs, real_values"
   ]
  },
  {
   "cell_type": "code",
   "execution_count": 108,
   "metadata": {
    "id": "zHdPZr60-0c_"
   },
   "outputs": [
    {
     "name": "stdout",
     "output_type": "stream",
     "text": [
      "CPU times: user 3.16 s, sys: 1.39 s, total: 4.55 s\n",
      "Wall time: 8.51 s\n"
     ]
    }
   ],
   "source": [
    "%%time\n",
    "y_news_Texts, y_pred, y_pred_probs, y_test = get_predictions(model, test_data_loader)"
   ]
  },
  {
   "cell_type": "code",
   "execution_count": 110,
   "metadata": {
    "colab": {
     "base_uri": "https://localhost:8080/"
    },
    "id": "Tte-1JdyyDxU",
    "outputId": "1102b936-906d-46d6-cdff-42e442746430"
   },
   "outputs": [
    {
     "name": "stdout",
     "output_type": "stream",
     "text": [
      "              precision    recall  f1-score   support\n",
      "\n",
      "        FAKE     0.9347    0.9208    0.9277       404\n",
      "        REAL     0.9443    0.9542    0.9492       568\n",
      "\n",
      "    accuracy                         0.9403       972\n",
      "   macro avg     0.9395    0.9375    0.9384       972\n",
      "weighted avg     0.9403    0.9403    0.9403       972\n",
      "\n"
     ]
    }
   ],
   "source": [
    "print(classification_report(y_test, y_pred, target_names=CLASS_NAMES, digits=4)) "
   ]
  },
  {
   "cell_type": "code",
   "execution_count": 112,
   "metadata": {
    "colab": {
     "base_uri": "https://localhost:8080/"
    },
    "id": "BRaNsUSms1bZ",
    "outputId": "234ef217-0afc-4379-85b7-bcacdb26d8fc"
   },
   "outputs": [
    {
     "name": "stdout",
     "output_type": "stream",
     "text": [
      "MCC =  87.69686590666697 %\n"
     ]
    }
   ],
   "source": [
    "# Compute the Matthews correlation coefficient (MCC)\n",
    "\n",
    "from sklearn.metrics import matthews_corrcoef\n",
    "mcc = matthews_corrcoef(y_test, y_pred)\n",
    "print('MCC = ', mcc * 100, '%') "
   ]
  },
  {
   "cell_type": "code",
   "execution_count": 114,
   "metadata": {
    "colab": {
     "base_uri": "https://localhost:8080/",
     "height": 416
    },
    "id": "6d1qxsc__DTh",
    "outputId": "9d18a3c3-6c6e-405c-ae80-c7fd9c24b003"
   },
   "outputs": [
    {
     "data": {
      "image/png": "[encoded data removed]",
      "text/plain": [
       "<Figure size 720x432 with 2 Axes>"
      ]
     },
     "metadata": {
      "image/png": {
       "height": 396,
       "width": 601
      }
     },
     "output_type": "display_data"
    }
   ],
   "source": [
    "def show_confusion_matrix(confusion_matrix):\n",
    "    hmap = sns.heatmap(confusion_matrix, annot=True, fmt=\"d\", cmap=\"Greens\")\n",
    "    hmap.yaxis.set_ticklabels(hmap.yaxis.get_ticklabels(), rotation=0, ha='right')\n",
    "    hmap.xaxis.set_ticklabels(hmap.xaxis.get_ticklabels(), rotation=30, ha='right')\n",
    "    plt.xlabel('True label')\n",
    "    plt.ylabel('Predicted label');\n",
    "\n",
    "cm = confusion_matrix(y_test, y_pred)\n",
    "df_cm = pd.DataFrame(cm, index=CLASS_NAMES, columns=CLASS_NAMES)\n",
    "show_confusion_matrix(df_cm)"
   ]
  },
  {
   "cell_type": "markdown",
   "metadata": {
    "id": "CnA5Yf6Hz6uB"
   },
   "source": [
    "## Extracting the features from the pretrained model for LSTM"
   ]
  },
  {
   "cell_type": "markdown",
   "metadata": {},
   "source": [
    "Next, we will extract the features (pooled_output) for each chunk as a vector/list of 768 item. Then we group the chunks from the same documents together in a single list and store the result back to a data frame. [source](https://medium.com/@armandj.olivares/using-bert-for-classifying-documents-with-long-texts-5c3e7b04573d)"
   ]
  },
  {
   "cell_type": "code",
   "execution_count": 88,
   "metadata": {
    "id": "vBPJ2D7kzPcj"
   },
   "outputs": [],
   "source": [
    "\"\"\"\n",
    "The following is a helper function to get the predictions from our model using \n",
    "the test portion of the data.\n",
    "\"\"\"\n",
    "\n",
    "def get_predictions2(model, data_loader):\n",
    "    \n",
    "    model = model.eval()\n",
    "    \n",
    "    featurs = []\n",
    "    \n",
    "    with torch.no_grad():\n",
    "        for d in data_loader:\n",
    "\n",
    "            texts = d[\"news_Text\"]\n",
    "            input_ids = d[\"input_ids\"].to(device)\n",
    "            attention_mask = d[\"attention_mask\"].to(device)\n",
    "            labels = d[\"labels\"].to(device)\n",
    "\n",
    "            features, _ = model(input_ids=input_ids, attention_mask=attention_mask)\n",
    "            \n",
    "            featurs.extend(features)\n",
    "\n",
    "    featurs = torch.stack(featurs).cpu()\n",
    "\n",
    "    return featurs"
   ]
  },
  {
   "cell_type": "code",
   "execution_count": 89,
   "metadata": {
    "colab": {
     "base_uri": "https://localhost:8080/"
    },
    "id": "-1q8LD-O0BP7",
    "outputId": "1703eb76-a4c3-43ed-c787-15e9e89f1f98"
   },
   "outputs": [
    {
     "name": "stdout",
     "output_type": "stream",
     "text": [
      "CPU times: user 34.9 s, sys: 13.5 s, total: 48.4 s\n",
      "Wall time: 1min 32s\n"
     ]
    }
   ],
   "source": [
    "%%time\n",
    "\n",
    "tr_emb = get_predictions2(model, train_data_loader)"
   ]
  },
  {
   "cell_type": "code",
   "execution_count": 90,
   "metadata": {
    "colab": {
     "base_uri": "https://localhost:8080/"
    },
    "id": "L9ADp84XHcPs",
    "outputId": "4eeb005d-c9a9-4fea-de2d-6d76a2fc827e"
   },
   "outputs": [
    {
     "data": {
      "text/plain": [
       "11310"
      ]
     },
     "execution_count": 90,
     "metadata": {},
     "output_type": "execute_result"
    }
   ],
   "source": [
    "len(tr_emb)"
   ]
  },
  {
   "cell_type": "code",
   "execution_count": 91,
   "metadata": {
    "id": "a5a_yVoBWG6p"
   },
   "outputs": [],
   "source": [
    "tr_emb2 = np.array(tr_emb)"
   ]
  },
  {
   "cell_type": "code",
   "execution_count": 92,
   "metadata": {
    "colab": {
     "base_uri": "https://localhost:8080/"
    },
    "id": "jnHjoKLw3LaP",
    "outputId": "efb2b579-5286-4840-ac1d-428bf2f6ce04"
   },
   "outputs": [
    {
     "data": {
      "text/plain": [
       "(11310, 768)"
      ]
     },
     "execution_count": 92,
     "metadata": {},
     "output_type": "execute_result"
    }
   ],
   "source": [
    "tr_emb2.shape"
   ]
  },
  {
   "cell_type": "code",
   "execution_count": 93,
   "metadata": {
    "colab": {
     "base_uri": "https://localhost:8080/"
    },
    "id": "r8kw2XXBWyWm",
    "outputId": "aae2dc6f-e8f9-4deb-cad4-29f8b3b00656"
   },
   "outputs": [
    {
     "data": {
      "text/plain": [
       "(5151, 5)"
      ]
     },
     "execution_count": 93,
     "metadata": {},
     "output_type": "execute_result"
    }
   ],
   "source": [
    "df_train.shape"
   ]
  },
  {
   "cell_type": "code",
   "execution_count": 94,
   "metadata": {
    "colab": {
     "base_uri": "https://localhost:8080/"
    },
    "id": "tzfaRKt50BhV",
    "outputId": "808f6915-99fb-4902-8d40-7ce73192b747"
   },
   "outputs": [
    {
     "name": "stdout",
     "output_type": "stream",
     "text": [
      "CPU times: user 3.38 s, sys: 1.41 s, total: 4.8 s\n",
      "Wall time: 8.85 s\n"
     ]
    }
   ],
   "source": [
    "%%time\n",
    "val_emb = get_predictions2(model, val_data_loader)\n",
    "val_emb2 = np.array(val_emb)"
   ]
  },
  {
   "cell_type": "code",
   "execution_count": 95,
   "metadata": {
    "colab": {
     "base_uri": "https://localhost:8080/"
    },
    "id": "MYorK2jW0B1b",
    "outputId": "ff85ca18-968c-4de6-bf8c-5860685d7976"
   },
   "outputs": [
    {
     "data": {
      "text/plain": [
       "((1014, 768), (11310, 768))"
      ]
     },
     "execution_count": 95,
     "metadata": {},
     "output_type": "execute_result"
    }
   ],
   "source": [
    "val_emb2.shape, tr_emb2.shape"
   ]
  },
  {
   "cell_type": "code",
   "execution_count": 96,
   "metadata": {
    "colab": {
     "base_uri": "https://localhost:8080/"
    },
    "id": "IP0RP1la0Bxp",
    "outputId": "ef9d8a0b-d6a6-4901-dd54-9b40f924b90b"
   },
   "outputs": [
    {
     "data": {
      "text/plain": [
       "5151"
      ]
     },
     "execution_count": 96,
     "metadata": {},
     "output_type": "execute_result"
    }
   ],
   "source": [
    "aux = -1\n",
    "len_l = 0\n",
    "train_x = {}\n",
    "for l, emb in zip(index_l, tr_emb2):\n",
    "  if l in train_x.keys():\n",
    "    train_x[l]  =np.vstack([train_x[l], emb])\n",
    "  else:\n",
    "    train_x[l] = [emb]\n",
    "\n",
    "len(train_x.keys())"
   ]
  },
  {
   "cell_type": "code",
   "execution_count": 97,
   "metadata": {
    "colab": {
     "base_uri": "https://localhost:8080/",
     "height": 203
    },
    "id": "vfmZ1uML0BtW",
    "outputId": "6cb57e5f-2811-4bd1-8c86-c7deac31534a"
   },
   "outputs": [
    {
     "data": {
      "text/html": [
       "<div>\n",
       "<style scoped>\n",
       "    .dataframe tbody tr th:only-of-type {\n",
       "        vertical-align: middle;\n",
       "    }\n",
       "\n",
       "    .dataframe tbody tr th {\n",
       "        vertical-align: top;\n",
       "    }\n",
       "\n",
       "    .dataframe thead th {\n",
       "        text-align: right;\n",
       "    }\n",
       "</style>\n",
       "<table border=\"1\" class=\"dataframe\">\n",
       "  <thead>\n",
       "    <tr style=\"text-align: right;\">\n",
       "      <th></th>\n",
       "      <th>emb</th>\n",
       "      <th>label</th>\n",
       "    </tr>\n",
       "  </thead>\n",
       "  <tbody>\n",
       "    <tr>\n",
       "      <th>0</th>\n",
       "      <td>[[-0.945731, 0.72879815, -0.25952524, 0.881619...</td>\n",
       "      <td>0</td>\n",
       "    </tr>\n",
       "    <tr>\n",
       "      <th>1</th>\n",
       "      <td>[[-0.9534021, 0.72911394, -0.06260341, 0.86017...</td>\n",
       "      <td>0</td>\n",
       "    </tr>\n",
       "    <tr>\n",
       "      <th>2</th>\n",
       "      <td>[[-0.95049626, 0.7188747, -0.24911119, 0.88853...</td>\n",
       "      <td>0</td>\n",
       "    </tr>\n",
       "    <tr>\n",
       "      <th>3</th>\n",
       "      <td>[[0.94207704, -0.64020723, 0.632029, -0.818659...</td>\n",
       "      <td>1</td>\n",
       "    </tr>\n",
       "    <tr>\n",
       "      <th>4</th>\n",
       "      <td>[[-0.9500128, 0.72289205, -0.17348357, 0.87254...</td>\n",
       "      <td>0</td>\n",
       "    </tr>\n",
       "  </tbody>\n",
       "</table>\n",
       "</div>"
      ],
      "text/plain": [
       "                                                 emb  label\n",
       "0  [[-0.945731, 0.72879815, -0.25952524, 0.881619...      0\n",
       "1  [[-0.9534021, 0.72911394, -0.06260341, 0.86017...      0\n",
       "2  [[-0.95049626, 0.7188747, -0.24911119, 0.88853...      0\n",
       "3  [[0.94207704, -0.64020723, 0.632029, -0.818659...      1\n",
       "4  [[-0.9500128, 0.72289205, -0.17348357, 0.87254...      0"
      ]
     },
     "execution_count": 97,
     "metadata": {},
     "output_type": "execute_result"
    }
   ],
   "source": [
    "train_l_final = []\n",
    "label_l_final = []\n",
    "for k in train_x.keys():\n",
    "  train_l_final.append(train_x[k])\n",
    "  label_l_final.append(df_train.loc[k]['label'])\n",
    "\n",
    "df_train2 = pd.DataFrame({'emb': train_l_final, 'label': label_l_final, })\n",
    "df_train2.head()"
   ]
  },
  {
   "cell_type": "code",
   "execution_count": 98,
   "metadata": {
    "colab": {
     "base_uri": "https://localhost:8080/"
    },
    "id": "sDwkOzioW6Ym",
    "outputId": "5763d562-3875-43f7-dd7f-fe9a5d2c1d4e"
   },
   "outputs": [
    {
     "data": {
      "text/plain": [
       "((5151, 5), (5151, 2))"
      ]
     },
     "execution_count": 98,
     "metadata": {},
     "output_type": "execute_result"
    }
   ],
   "source": [
    "df_train.shape, df_train2.shape"
   ]
  },
  {
   "cell_type": "code",
   "execution_count": 99,
   "metadata": {
    "colab": {
     "base_uri": "https://localhost:8080/"
    },
    "id": "a5DLF21lX2k_",
    "outputId": "4791b994-f72c-418d-fa02-a114ace7d1b7"
   },
   "outputs": [
    {
     "data": {
      "text/plain": [
       "(454, 5)"
      ]
     },
     "execution_count": 99,
     "metadata": {},
     "output_type": "execute_result"
    }
   ],
   "source": [
    "df_val.shape"
   ]
  },
  {
   "cell_type": "code",
   "execution_count": 100,
   "metadata": {
    "colab": {
     "base_uri": "https://localhost:8080/",
     "height": 203
    },
    "id": "FTfahkNI0wOC",
    "outputId": "54a9cd8c-fdc4-4595-f45c-6322c06704c8"
   },
   "outputs": [
    {
     "data": {
      "text/html": [
       "<div>\n",
       "<style scoped>\n",
       "    .dataframe tbody tr th:only-of-type {\n",
       "        vertical-align: middle;\n",
       "    }\n",
       "\n",
       "    .dataframe tbody tr th {\n",
       "        vertical-align: top;\n",
       "    }\n",
       "\n",
       "    .dataframe thead th {\n",
       "        text-align: right;\n",
       "    }\n",
       "</style>\n",
       "<table border=\"1\" class=\"dataframe\">\n",
       "  <thead>\n",
       "    <tr style=\"text-align: right;\">\n",
       "      <th></th>\n",
       "      <th>emb</th>\n",
       "      <th>label</th>\n",
       "    </tr>\n",
       "  </thead>\n",
       "  <tbody>\n",
       "    <tr>\n",
       "      <th>0</th>\n",
       "      <td>[[0.95559496, -0.67592657, 0.4997365, -0.89497...</td>\n",
       "      <td>1</td>\n",
       "    </tr>\n",
       "    <tr>\n",
       "      <th>1</th>\n",
       "      <td>[[-0.95120627, 0.7253162, -0.18600543, 0.87765...</td>\n",
       "      <td>0</td>\n",
       "    </tr>\n",
       "    <tr>\n",
       "      <th>2</th>\n",
       "      <td>[[-0.9496989, 0.7252827, -0.2421526, 0.8868454...</td>\n",
       "      <td>0</td>\n",
       "    </tr>\n",
       "    <tr>\n",
       "      <th>3</th>\n",
       "      <td>[[-0.9525108, 0.72150457, -0.2672881, 0.895674...</td>\n",
       "      <td>0</td>\n",
       "    </tr>\n",
       "    <tr>\n",
       "      <th>4</th>\n",
       "      <td>[[-0.94409347, 0.7248937, -0.3053733, 0.888977...</td>\n",
       "      <td>0</td>\n",
       "    </tr>\n",
       "  </tbody>\n",
       "</table>\n",
       "</div>"
      ],
      "text/plain": [
       "                                                 emb  label\n",
       "0  [[0.95559496, -0.67592657, 0.4997365, -0.89497...      1\n",
       "1  [[-0.95120627, 0.7253162, -0.18600543, 0.87765...      0\n",
       "2  [[-0.9496989, 0.7252827, -0.2421526, 0.8868454...      0\n",
       "3  [[-0.9525108, 0.72150457, -0.2672881, 0.895674...      0\n",
       "4  [[-0.94409347, 0.7248937, -0.3053733, 0.888977...      0"
      ]
     },
     "execution_count": 100,
     "metadata": {},
     "output_type": "execute_result"
    }
   ],
   "source": [
    "aux = -1\n",
    "len_l = 0\n",
    "val_x = {}\n",
    "\n",
    "for l, emb in zip(val_index_l, val_emb2):\n",
    "  if l in val_x.keys():\n",
    "    val_x[l]  =np.vstack([val_x[l], emb])\n",
    "  else:\n",
    "    val_x[l] = [emb]\n",
    "\n",
    "\n",
    "val_l_final = []\n",
    "vlabel_l_final = []\n",
    "for k in val_x.keys():\n",
    "  val_l_final.append(val_x[k])\n",
    "  vlabel_l_final.append(df_val.loc[k]['label'])\n",
    "\n",
    "df_val2 = pd.DataFrame({'emb': val_l_final, 'label': vlabel_l_final})\n",
    "df_val2.head()"
   ]
  },
  {
   "cell_type": "code",
   "execution_count": 101,
   "metadata": {
    "colab": {
     "base_uri": "https://localhost:8080/"
    },
    "id": "A8Cr-yzL0wJe",
    "outputId": "88ee557d-281b-4998-f746-7b95bd1f3bab"
   },
   "outputs": [
    {
     "data": {
      "text/plain": [
       "(454, 2)"
      ]
     },
     "execution_count": 101,
     "metadata": {},
     "output_type": "execute_result"
    }
   ],
   "source": [
    "df_val2.shape"
   ]
  },
  {
   "cell_type": "code",
   "execution_count": 102,
   "metadata": {
    "id": "pWWnqHAT0Bpq"
   },
   "outputs": [],
   "source": [
    "# import sys\n",
    "# import numpy as np\n",
    "# np.set_printoptions(threshold=np.inf)\n",
    "# np.set_printoptions(threshold=sys.maxsize)\n",
    "\n",
    "# df_train2.to_csv('train_features3.csv')\n",
    "# df_val2.to_csv('val_features3.csv')"
   ]
  },
  {
   "cell_type": "code",
   "execution_count": 103,
   "metadata": {
    "id": "Etnk1PG90Bm7"
   },
   "outputs": [],
   "source": [
    "s = df_train2['emb'][0]"
   ]
  },
  {
   "cell_type": "code",
   "execution_count": 104,
   "metadata": {
    "colab": {
     "base_uri": "https://localhost:8080/"
    },
    "id": "BYUb81uOZMDd",
    "outputId": "637cad99-238f-402b-a927-e821fc72a7c6"
   },
   "outputs": [
    {
     "data": {
      "text/plain": [
       "(1,\n",
       " [array([-9.45730984e-01,  7.28798151e-01, -2.59525239e-01,  8.81619811e-01,\n",
       "         -7.50101924e-01,  8.54436457e-01,  6.35593414e-01, -3.60250622e-01,\n",
       "         -2.04797268e-01, -2.15349197e-01, -3.64403665e-01, -3.14785630e-01,\n",
       "          2.01160505e-01, -2.70306412e-03,  4.59319763e-02,  9.70695436e-01,\n",
       "         -9.25221860e-01,  2.55911261e-01,  5.81300437e-01, -5.63607454e-01,\n",
       "          7.92760372e-01,  7.28558123e-01, -6.11961067e-01, -4.42055076e-01,\n",
       "         -7.21981406e-01,  5.73332310e-01, -3.14621389e-01, -3.72189403e-01,\n",
       "          9.60740387e-01, -9.58848536e-01,  5.21228135e-01, -2.06945255e-01,\n",
       "         -6.66061223e-01,  5.77463508e-01,  6.02419555e-01,  6.15556002e-01,\n",
       "         -9.82204378e-01, -1.81852654e-01,  6.99141264e-01, -2.46144712e-01,\n",
       "         -4.06440467e-01,  1.65183380e-01,  4.37984094e-02, -2.55635679e-01,\n",
       "          6.88092470e-01,  9.33844149e-01,  2.31361434e-01, -8.72721910e-01,\n",
       "         -7.05055237e-01, -9.88923728e-01, -8.15155149e-01, -2.24703774e-01,\n",
       "          6.02048218e-01, -3.85933965e-01,  5.48024476e-01, -4.80096310e-01,\n",
       "          6.33225977e-01, -7.03085303e-01,  2.60811746e-01, -5.15674889e-01,\n",
       "         -8.09515417e-01, -4.68826592e-01,  8.71485531e-01,  5.10718763e-01,\n",
       "          8.35600972e-01, -2.77399093e-01, -2.53598988e-01, -6.68598115e-01,\n",
       "          3.90833467e-01,  6.68454468e-01,  9.45561767e-01,  1.10439725e-01,\n",
       "         -7.14234531e-01,  1.82697967e-01, -5.07498443e-01,  9.42375243e-01,\n",
       "          8.32923949e-01,  7.63972521e-01, -9.25638676e-01, -8.00990105e-01,\n",
       "         -3.35055143e-02,  7.10829556e-01,  3.98942143e-01, -5.87071538e-01,\n",
       "          9.21823084e-01, -9.26106870e-01, -7.07498193e-01,  5.40183544e-01,\n",
       "         -7.18792439e-01, -6.86875165e-01,  9.39393878e-01,  9.68452692e-01,\n",
       "         -9.47575629e-01,  2.94664353e-01, -5.18694341e-01, -9.59041059e-01,\n",
       "         -6.28937006e-01, -8.60501349e-01, -4.69198450e-02,  7.72821546e-01,\n",
       "         -5.01893580e-01, -2.06178561e-01, -8.64546418e-01, -4.81465727e-01,\n",
       "         -6.09148145e-01, -5.84136605e-01, -7.82788336e-01, -7.14612842e-01,\n",
       "          7.55655885e-01,  6.46772027e-01, -5.14006197e-01, -7.63035774e-01,\n",
       "         -8.41997027e-01, -6.34494901e-01,  3.34872752e-01,  1.17483787e-01,\n",
       "         -6.72326565e-01, -9.44351017e-01,  6.50750160e-01, -5.80689371e-01,\n",
       "         -5.99236727e-01, -1.21295281e-01,  1.71233580e-01, -9.19817388e-01,\n",
       "         -5.39135098e-01, -5.97180486e-01,  7.27467716e-01,  6.13388181e-01,\n",
       "         -5.22248864e-01,  7.17439115e-01, -8.83573174e-01,  6.43728852e-01,\n",
       "         -1.70285568e-01, -6.10421002e-01, -8.47167194e-01, -4.95322227e-01,\n",
       "          6.46670580e-01, -3.24571848e-01, -1.34365596e-02,  9.54779506e-01,\n",
       "          4.64023322e-01, -7.99116611e-01,  3.79373319e-02, -5.42758703e-01,\n",
       "         -4.65506613e-01,  8.13612044e-01,  3.04512709e-01, -8.16368043e-01,\n",
       "         -5.72287917e-01,  8.09902966e-01,  3.07244956e-01, -7.73332179e-01,\n",
       "          3.79829407e-01,  4.46793407e-01, -5.92284143e-01,  1.87579632e-01,\n",
       "          8.18223119e-01, -7.57480025e-01,  9.11648497e-02,  7.66990364e-01,\n",
       "         -8.57189298e-01,  9.49920118e-02,  9.60402131e-01,  3.83742809e-01,\n",
       "         -5.00488400e-01,  7.48796105e-01,  2.83960372e-01,  2.67754402e-02,\n",
       "         -6.25012815e-01, -4.05496776e-01,  8.92057955e-01, -3.63101393e-01,\n",
       "         -8.12635064e-01,  2.01981977e-01, -4.94306162e-02,  4.50547904e-01,\n",
       "          8.86295199e-01, -8.27092469e-01,  8.80447745e-01, -7.71647841e-02,\n",
       "          9.75443900e-01, -3.94148119e-02, -6.43281519e-01, -7.05802321e-01,\n",
       "         -4.72954720e-01,  5.76652765e-01,  5.23552418e-01,  7.58601785e-01,\n",
       "         -8.44648361e-01, -7.36067116e-01,  6.69991136e-01, -4.27845329e-01,\n",
       "          4.43001002e-01,  2.10144445e-01,  9.27531958e-01, -7.01094091e-01,\n",
       "         -5.52736998e-01,  4.08139139e-01, -2.99365908e-01, -7.17882931e-01,\n",
       "          7.89874911e-01,  8.84854794e-01, -9.90020275e-01,  9.97509956e-01,\n",
       "         -5.99367857e-01,  6.11562192e-01,  8.15351009e-01, -7.27002621e-01,\n",
       "         -5.26601315e-01, -9.17953134e-01, -4.67638135e-01, -9.27446306e-01,\n",
       "          1.89867690e-01,  8.54799509e-01,  2.82183260e-01, -8.23138475e-01,\n",
       "          7.28439689e-01, -8.04552495e-01, -4.61919159e-01,  3.05308253e-01,\n",
       "          4.52969074e-01, -6.24411285e-01, -3.52730364e-01,  1.79996908e-01,\n",
       "          2.19325230e-01,  4.15421873e-01, -5.32138407e-01, -8.66949201e-01,\n",
       "         -6.43794417e-01,  7.88097978e-01,  1.49933109e-02,  9.45412040e-01,\n",
       "         -1.84070751e-01,  4.55387831e-01,  7.71666169e-01,  5.95990658e-01,\n",
       "         -5.36204815e-01, -8.09023499e-01,  8.71469617e-01, -6.76574469e-01,\n",
       "         -3.88266176e-01,  7.87284672e-01, -8.60413387e-02, -4.15389508e-01,\n",
       "         -9.40205336e-01, -2.69853503e-01,  9.65888798e-01,  1.19658679e-01,\n",
       "         -8.96720141e-02, -5.16922235e-01,  3.93596828e-01, -7.62535274e-01,\n",
       "          9.88498747e-01, -6.72836661e-01,  8.57405484e-01, -3.29250008e-01,\n",
       "          7.00237870e-01,  8.02124977e-01, -6.64343089e-02,  1.17582284e-01,\n",
       "          1.23064540e-01, -4.72395808e-01,  1.98867574e-01,  8.89721036e-01,\n",
       "          5.62893748e-01, -9.14719582e-01,  4.75934185e-02, -6.44358754e-01,\n",
       "         -8.08637142e-01, -8.92315745e-01,  7.94836521e-01, -1.66373909e-01,\n",
       "          7.54274249e-01, -3.88571501e-01, -6.65431857e-01,  7.85534903e-02,\n",
       "          1.41063318e-01, -5.98739505e-01,  1.45057231e-01,  2.00514004e-01,\n",
       "          1.01571135e-01,  6.35791302e-01,  6.44338191e-01,  7.11438656e-01,\n",
       "         -7.08680391e-01,  2.39965662e-01,  6.78363085e-01,  9.67477679e-01,\n",
       "         -1.77300766e-01,  2.59538651e-01, -6.57324553e-01, -6.34626389e-01,\n",
       "         -5.13723254e-01, -9.64852989e-01, -3.63876283e-01, -5.39330363e-01,\n",
       "          5.18015802e-01,  3.19734998e-02, -4.71500784e-01, -8.65626633e-01,\n",
       "         -7.03078449e-01, -2.93765306e-01, -9.82919395e-01,  8.58740449e-01,\n",
       "         -7.14188457e-01,  3.36313546e-01, -5.19069254e-01,  4.27969515e-01,\n",
       "          4.79483038e-01,  1.89966708e-01,  4.78613466e-01,  7.77232409e-01,\n",
       "          6.63049519e-01,  8.08101177e-01,  4.93180722e-01, -9.57378522e-02,\n",
       "         -9.54531789e-01, -1.29882634e-01, -6.48641944e-01, -3.38376611e-01,\n",
       "          2.03356147e-02, -7.21627235e-01,  7.19438076e-01,  5.36410332e-01,\n",
       "         -7.44613409e-01, -6.10589027e-01, -9.79988039e-01, -8.42845500e-01,\n",
       "          4.19320285e-01, -8.78986180e-01, -5.28124094e-01, -3.28415960e-01,\n",
       "         -4.43219513e-01, -7.79462457e-01,  2.62393773e-01, -6.61454320e-01,\n",
       "         -4.15656596e-01,  4.52802449e-01, -6.42467797e-01, -3.42820138e-01,\n",
       "         -2.97313690e-01,  4.09689933e-01, -5.01558721e-01, -5.98704994e-01,\n",
       "          7.43255198e-01, -9.88524616e-01, -6.04609132e-01, -5.78617454e-01,\n",
       "         -2.78545350e-01,  6.44978166e-01, -3.99910122e-01,  6.57924056e-01,\n",
       "         -8.38324785e-01, -1.89494807e-04,  9.36030686e-01,  4.57533523e-02,\n",
       "         -7.73074687e-01, -6.78768516e-01, -5.66473722e-01, -9.85626101e-01,\n",
       "          5.54879189e-01,  9.06996131e-01,  8.98782372e-01,  7.79272437e-01,\n",
       "         -8.15318048e-01, -1.00551292e-01,  7.00308144e-01, -9.87494588e-01,\n",
       "          2.59825647e-01,  8.66232812e-01, -9.05428529e-02,  5.20673394e-01,\n",
       "         -6.26272798e-01, -1.91143185e-01, -8.62812042e-01,  6.94824159e-01,\n",
       "          9.07101035e-01,  3.55857648e-02,  6.13168716e-01, -1.21648848e-01,\n",
       "         -1.45860255e-01,  6.46864533e-01, -1.04155116e-01,  9.29416895e-01,\n",
       "         -5.66014230e-01, -7.61027873e-01, -1.78732008e-01, -8.32251310e-01,\n",
       "          3.00554991e-01, -5.14570892e-01,  7.86637485e-01, -8.06407571e-01,\n",
       "         -8.91752899e-01, -9.99960184e-01, -2.66208231e-01,  8.21261629e-02,\n",
       "          4.40133959e-01, -9.58848178e-01,  9.24172878e-01, -7.30571270e-01,\n",
       "         -1.04625588e-02,  5.17689943e-01, -2.11197913e-01, -7.87322164e-01,\n",
       "         -9.02067006e-01, -7.02458382e-01, -8.47152531e-01, -8.29575002e-01,\n",
       "         -7.18871653e-01, -6.13408804e-01,  8.49635005e-01,  2.49833852e-01,\n",
       "          8.01273704e-01,  3.29188406e-01, -9.10357594e-01, -6.64069593e-01,\n",
       "         -9.29259539e-01,  3.09306324e-01,  1.40078679e-01, -7.18189478e-01,\n",
       "          6.52948499e-01, -6.77440286e-01,  6.56256676e-01,  7.26826429e-01,\n",
       "          3.87853652e-01,  3.22573602e-01, -2.05227986e-01,  6.62546515e-01,\n",
       "          3.81753802e-01, -4.23523486e-01,  3.87230992e-01,  6.24390006e-01,\n",
       "         -8.55583191e-01,  8.97801936e-01, -8.06765497e-01,  2.24563271e-01,\n",
       "         -3.62106055e-01,  4.56340581e-01, -9.32016492e-01,  3.66718471e-02,\n",
       "         -6.94145918e-01,  3.48226815e-01,  9.75157022e-01, -7.15544820e-01,\n",
       "         -1.03303315e-02,  3.22361112e-01,  5.96246123e-01,  6.56656921e-01,\n",
       "         -8.95905316e-01, -5.67847908e-01, -7.24464536e-01,  5.44778228e-01,\n",
       "         -3.14879060e-01,  9.56126928e-01, -9.56145346e-01,  9.92302060e-01,\n",
       "         -5.97385168e-01, -2.03193188e-01, -1.57869786e-01, -5.74807934e-02,\n",
       "          8.83914053e-01, -7.18320549e-01,  5.31383693e-01,  7.88229480e-02,\n",
       "         -9.69541490e-01,  5.95794439e-01,  1.17994733e-01,  8.10086846e-01,\n",
       "          8.20441484e-01, -3.72362673e-01,  7.11289883e-01, -4.13202137e-01,\n",
       "         -4.83712018e-01,  5.44691265e-01, -7.56424427e-01, -8.80217671e-01,\n",
       "          5.90508223e-01,  8.18795860e-01,  5.54031730e-01,  3.70948255e-01,\n",
       "         -9.64091420e-01,  2.29209512e-01, -9.31952357e-01, -5.62118709e-01,\n",
       "          9.02547479e-01, -7.97426581e-01, -3.84435952e-01,  8.43383729e-01,\n",
       "          2.26877719e-01,  8.91189158e-01, -7.93747008e-01, -7.56010771e-01,\n",
       "          7.83701479e-01,  6.26953185e-01, -6.79794922e-02,  5.52996874e-01,\n",
       "          9.75492537e-01, -4.42147344e-01, -5.83532333e-01,  9.23453271e-01,\n",
       "          4.47720736e-02, -7.88224265e-02,  5.67243695e-01,  9.15266633e-01,\n",
       "          5.94695508e-01, -8.11630964e-01, -9.19393301e-01, -2.74302393e-01,\n",
       "          2.40697116e-01, -8.83235335e-01,  2.71822840e-01, -9.60726857e-01,\n",
       "         -8.50692332e-01, -4.88600820e-01,  6.67906880e-01, -8.87527585e-01,\n",
       "          2.45183066e-01,  2.91033745e-01, -9.95382071e-01, -5.34489989e-01,\n",
       "         -8.00420880e-01,  5.07526934e-01, -4.71723855e-01,  5.55231094e-01,\n",
       "         -2.23594248e-01, -4.51637536e-01,  9.80111301e-01, -1.36744425e-01,\n",
       "          1.22879058e-01, -8.16462398e-01,  8.62116814e-01,  4.68776852e-01,\n",
       "         -8.94151926e-01,  7.06191540e-01, -3.24270755e-01, -6.47257566e-01,\n",
       "         -7.22183049e-01,  2.85277545e-01, -5.34532726e-01, -7.29495525e-01,\n",
       "         -4.22508717e-01, -5.47824740e-01,  7.41081595e-01,  3.67513686e-01,\n",
       "         -4.69106197e-01,  8.83813560e-01,  5.47775984e-01, -2.18323663e-01,\n",
       "          8.20895612e-01,  7.06855774e-01,  4.07976866e-01,  7.20383525e-01,\n",
       "         -8.98200750e-01,  5.68514585e-01,  3.95526737e-01,  9.98449266e-01,\n",
       "          9.82040644e-01,  5.89706957e-01,  5.14374852e-01,  3.82766545e-01,\n",
       "          8.25264275e-01, -2.33463570e-01, -6.11254096e-01, -7.75372863e-01,\n",
       "         -6.33138299e-01, -1.04566805e-01, -6.18767500e-01, -8.46399963e-01,\n",
       "         -4.97774124e-01, -9.56501067e-01, -5.07410951e-02,  3.67219597e-01,\n",
       "         -7.35233605e-01, -7.36979604e-01, -7.69815087e-01,  7.20760465e-01,\n",
       "         -1.01251453e-02, -9.65408862e-01,  4.61264104e-02,  6.18507981e-01,\n",
       "         -8.11928451e-01,  6.02070093e-01, -7.65356004e-01,  1.25534339e-02,\n",
       "         -7.85572112e-01, -2.95345765e-02,  4.91251111e-01, -5.10510653e-02,\n",
       "         -1.06538378e-01,  8.28620017e-01, -6.87681675e-01, -5.63836098e-01,\n",
       "          8.69614720e-01, -9.93693113e-01, -8.96987200e-01, -4.26249355e-02,\n",
       "         -5.89160085e-01,  5.08657694e-01, -2.89177299e-01,  2.88074072e-02,\n",
       "         -9.29927349e-01, -1.40891507e-01,  4.59102184e-01,  2.11673841e-01,\n",
       "         -8.29217017e-01, -8.48196268e-01, -3.78043652e-01,  8.43280137e-01,\n",
       "         -9.96050954e-01, -7.65534043e-01, -1.05534315e-01,  8.88423443e-01,\n",
       "         -4.34241205e-01,  8.34545910e-01, -7.13909149e-01, -4.36435342e-01,\n",
       "          2.35257715e-01,  8.75113726e-01, -3.50678504e-01,  2.08409190e-01,\n",
       "         -7.91515887e-01, -1.76298261e-01,  4.52472657e-01,  1.66307345e-01,\n",
       "         -5.63185871e-01,  8.68002295e-01, -6.74727201e-01, -8.32297802e-02,\n",
       "          1.71997920e-01,  3.59531939e-01,  7.65287280e-01,  8.38437736e-01,\n",
       "          9.95956004e-01,  1.42802224e-01, -5.61044931e-01, -4.53827798e-01,\n",
       "          7.90207505e-01, -4.72386539e-01, -3.33792180e-01, -3.43970656e-01,\n",
       "          8.28311145e-01,  7.94003963e-01, -1.79603964e-01, -5.83347261e-01,\n",
       "         -3.36093754e-02, -8.88144314e-01,  6.33195400e-01, -9.99622703e-01,\n",
       "          9.64589715e-01, -8.93884838e-01, -2.50865966e-01, -3.85521710e-01,\n",
       "          8.33177924e-01,  9.95180726e-01, -7.73619890e-01, -6.73043907e-01,\n",
       "         -2.91019101e-02,  8.36973608e-01, -9.09072936e-01,  4.20722663e-01,\n",
       "         -9.85651910e-01, -6.88899815e-01,  4.63182092e-01, -3.61731529e-01,\n",
       "         -1.96577340e-01, -6.83246255e-01, -7.27376491e-02, -9.09755707e-01,\n",
       "          7.57722974e-01, -5.52280545e-02,  5.02564132e-01,  6.06101274e-01,\n",
       "         -9.99807417e-01,  7.11058021e-01, -2.54219413e-01, -9.45322990e-01,\n",
       "         -8.25021744e-01, -7.81934679e-01,  4.71789330e-01,  7.69320250e-01,\n",
       "         -8.96023393e-01,  3.64492506e-01, -8.50967884e-01, -5.10285556e-01,\n",
       "          4.33712184e-01, -3.24066997e-01, -4.55359429e-01, -1.78945050e-01,\n",
       "         -4.19073611e-01,  7.26828575e-01,  5.11150241e-01, -2.43824407e-01,\n",
       "          2.95549959e-01,  7.31713772e-01,  6.80453122e-01,  7.67013550e-01,\n",
       "         -9.49394107e-01,  2.22278118e-01, -3.97727251e-01,  3.23658615e-01,\n",
       "         -7.15242863e-01, -4.58265990e-02,  6.63061500e-01, -7.52353072e-01,\n",
       "          8.74394715e-01, -5.65834403e-01, -6.60014033e-01, -9.71305966e-01,\n",
       "          5.34951687e-01, -7.82311380e-01,  3.12063575e-01,  2.59205759e-01,\n",
       "          8.89371634e-01,  8.63913298e-01,  2.11440660e-02, -7.75744393e-02,\n",
       "         -6.18274689e-01, -1.09594859e-01,  8.74497592e-02, -1.38641417e-01,\n",
       "          6.36425138e-01,  5.82646847e-01, -1.05203077e-01,  8.83910537e-01,\n",
       "          9.08511162e-01,  3.20145816e-01, -2.76259094e-01, -5.24939656e-01,\n",
       "          6.36193871e-01, -9.35639322e-01, -1.55708224e-01, -3.24907005e-01,\n",
       "         -6.26309752e-01,  8.56702983e-01, -7.20911741e-01,  6.17467284e-01,\n",
       "          7.09798813e-01,  5.28736889e-01,  3.44642252e-01,  8.40135634e-01,\n",
       "         -1.51872247e-01, -6.48010612e-01, -9.88256872e-01, -7.47908115e-01,\n",
       "         -2.44949851e-02,  8.68304372e-01, -7.60468423e-01,  7.00635195e-01,\n",
       "         -8.57859254e-01, -5.67508340e-02, -9.42182541e-01,  1.31897569e-01,\n",
       "          2.91647047e-01, -6.24065518e-01, -5.31554043e-01,  2.95854360e-01,\n",
       "         -6.61550403e-01,  9.24659789e-01, -7.18550086e-01,  5.43623149e-01,\n",
       "         -7.89613187e-01,  9.94458497e-02,  7.67286792e-02,  2.86927253e-01,\n",
       "          5.81104994e-01, -5.98919153e-01, -7.66750813e-01,  8.55632186e-01],\n",
       "        dtype=float32)])"
      ]
     },
     "execution_count": 104,
     "metadata": {},
     "output_type": "execute_result"
    }
   ],
   "source": [
    "len(s),s"
   ]
  },
  {
   "cell_type": "code",
   "execution_count": 105,
   "metadata": {
    "id": "7pYYbCQvZMHT"
   },
   "outputs": [
    {
     "data": {
      "text/plain": [
       "(3, 1)"
      ]
     },
     "execution_count": 105,
     "metadata": {},
     "output_type": "execute_result"
    }
   ],
   "source": [
    "v = []\n",
    "for i in df_train2['emb']:\n",
    "    v.append(len(i))\n",
    "    \n",
    "max(v), min(v)"
   ]
  },
  {
   "cell_type": "code",
   "execution_count": 106,
   "metadata": {
    "id": "8kxPQx1uZL9r"
   },
   "outputs": [
    {
     "data": {
      "text/html": [
       "<div>\n",
       "<style scoped>\n",
       "    .dataframe tbody tr th:only-of-type {\n",
       "        vertical-align: middle;\n",
       "    }\n",
       "\n",
       "    .dataframe tbody tr th {\n",
       "        vertical-align: top;\n",
       "    }\n",
       "\n",
       "    .dataframe thead th {\n",
       "        text-align: right;\n",
       "    }\n",
       "</style>\n",
       "<table border=\"1\" class=\"dataframe\">\n",
       "  <thead>\n",
       "    <tr style=\"text-align: right;\">\n",
       "      <th></th>\n",
       "      <th>emb</th>\n",
       "      <th>label</th>\n",
       "    </tr>\n",
       "  </thead>\n",
       "  <tbody>\n",
       "    <tr>\n",
       "      <th>0</th>\n",
       "      <td>[[-0.9378104, 0.6701277, -0.8095596, 0.9611596...</td>\n",
       "      <td>0</td>\n",
       "    </tr>\n",
       "    <tr>\n",
       "      <th>1</th>\n",
       "      <td>[[-0.94968396, 0.7328561, -0.19291024, 0.87525...</td>\n",
       "      <td>0</td>\n",
       "    </tr>\n",
       "    <tr>\n",
       "      <th>2</th>\n",
       "      <td>[[0.94089913, -0.63380086, 0.6405652, -0.81864...</td>\n",
       "      <td>1</td>\n",
       "    </tr>\n",
       "    <tr>\n",
       "      <th>3</th>\n",
       "      <td>[[-0.954309, 0.7295908, -0.42569697, 0.9264252...</td>\n",
       "      <td>0</td>\n",
       "    </tr>\n",
       "    <tr>\n",
       "      <th>4</th>\n",
       "      <td>[[-0.9489692, 0.72670144, -0.41275772, 0.92256...</td>\n",
       "      <td>0</td>\n",
       "    </tr>\n",
       "  </tbody>\n",
       "</table>\n",
       "</div>"
      ],
      "text/plain": [
       "                                                 emb  label\n",
       "0  [[-0.9378104, 0.6701277, -0.8095596, 0.9611596...      0\n",
       "1  [[-0.94968396, 0.7328561, -0.19291024, 0.87525...      0\n",
       "2  [[0.94089913, -0.63380086, 0.6405652, -0.81864...      1\n",
       "3  [[-0.954309, 0.7295908, -0.42569697, 0.9264252...      0\n",
       "4  [[-0.9489692, 0.72670144, -0.41275772, 0.92256...      0"
      ]
     },
     "execution_count": 106,
     "metadata": {},
     "output_type": "execute_result"
    }
   ],
   "source": [
    "test_emb = get_predictions2(model, test_data_loader)\n",
    "test_emb2 = np.array(test_emb)\n",
    "\n",
    "aux = -1\n",
    "len_l = 0\n",
    "test_x = {}\n",
    "\n",
    "for l, emb in zip(test_index_l, test_emb2):\n",
    "  if l in test_x.keys():\n",
    "    test_x[l] = np.vstack([test_x[l], emb])\n",
    "  else:\n",
    "    test_x[l] = [emb]\n",
    "\n",
    "\n",
    "test_l_final = []\n",
    "tlabel_l_final = []\n",
    "for k in test_x.keys():\n",
    "  test_l_final.append(test_x[k])\n",
    "  tlabel_l_final.append(df_test.loc[k]['label'])\n",
    "\n",
    "df_test2 = pd.DataFrame({'emb': test_l_final, 'label': tlabel_l_final})\n",
    "df_test2.head()"
   ]
  },
  {
   "cell_type": "code",
   "execution_count": 107,
   "metadata": {},
   "outputs": [],
   "source": [
    "# df_test2.to_csv('test_features3.csv')"
   ]
  },
  {
   "cell_type": "markdown",
   "metadata": {},
   "source": [
    "## LSTM"
   ]
  },
  {
   "cell_type": "code",
   "execution_count": null,
   "metadata": {},
   "outputs": [],
   "source": []
  },
  {
   "cell_type": "markdown",
   "metadata": {
    "id": "Wf39tauBa2V2"
   },
   "source": [
    "## References\n",
    "\n",
    "- [BERT: Pre-training of Deep Bidirectional Transformers for Language Understanding](https://arxiv.org/abs/1810.04805)\n",
    "- [RoBERTa: A Robustly Optimized BERT Pretraining Approach](https://arxiv.org/abs/1907.11692)\n",
    "- [The Illustrated BERT, ELMo, and co.](https://jalammar.github.io/illustrated-bert/)\n",
    "- [Hierarchical Transformers for Long Document Classification](https://arxiv.org/abs/1910.10781)\n",
    "- [Using BERT For Classifying Documents with Long Texts](https://medium.com/@armandj.olivares/using-bert-for-classifying-documents-with-long-texts-5c3e7b04573d)\n",
    "- [How to Fine-Tune BERT for Text Classification?](https://arxiv.org/pdf/1905.05583.pdf)\n",
    "- [Sentiment Analysis with BERT and Transformers by Hugging Face using PyTorch and Python](https://curiousily.com/posts/sentiment-analysis-with-bert-and-hugging-face-using-pytorch-and-python/)\n",
    "- [BERT Fine-Tuning Tutorial with PyTorch](https://mccormickml.com/2019/07/22/BERT-fine-tuning/)\n",
    "- [Huggingface Transformers](https://huggingface.co/transformers/)\n",
    "- [BERT Explained: State of the art language model for NLP](https://towardsdatascience.com/bert-explained-state-of-the-art-language-model-for-nlp-f8b21a9b6270)"
   ]
  },
  {
   "cell_type": "code",
   "execution_count": null,
   "metadata": {},
   "outputs": [],
   "source": []
  }
 ],
 "metadata": {
  "accelerator": "GPU",
  "colab": {
   "collapsed_sections": [],
   "name": "Fine_tuning_BERT_for_DC_seqLen256_chuncks.ipynb",
   "provenance": []
  },
  "kernelspec": {
   "display_name": "Python 3",
   "language": "python",
   "name": "python3"
  },
  "language_info": {
   "codemirror_mode": {
    "name": "ipython",
    "version": 3
   },
   "file_extension": ".py",
   "mimetype": "text/x-python",
   "name": "python",
   "nbconvert_exporter": "python",
   "pygments_lexer": "ipython3",
   "version": "3.7.6"
  },
  "widgets": {
   "application/vnd.jupyter.widget-state+json": {
    "10f55d7889e44455bd349ebc184bc834": {
     "model_module": "@jupyter-widgets/controls",
     "model_name": "ProgressStyleModel",
     "state": {
      "_model_module": "@jupyter-widgets/controls",
      "_model_module_version": "1.5.0",
      "_model_name": "ProgressStyleModel",
      "_view_count": null,
      "_view_module": "@jupyter-widgets/base",
      "_view_module_version": "1.2.0",
      "_view_name": "StyleView",
      "bar_color": null,
      "description_width": "initial"
     }
    },
    "13133393fa8040c883cdeb9b669efd3f": {
     "model_module": "@jupyter-widgets/controls",
     "model_name": "FloatProgressModel",
     "state": {
      "_dom_classes": [],
      "_model_module": "@jupyter-widgets/controls",
      "_model_module_version": "1.5.0",
      "_model_name": "FloatProgressModel",
      "_view_count": null,
      "_view_module": "@jupyter-widgets/controls",
      "_view_module_version": "1.5.0",
      "_view_name": "ProgressView",
      "bar_style": "success",
      "description": "Downloading: 100%",
      "description_tooltip": null,
      "layout": "IPY_MODEL_33b6410ef78b4c50ac0e76ddf4f112d4",
      "max": 433,
      "min": 0,
      "orientation": "horizontal",
      "style": "IPY_MODEL_717355e2f4ab451bba9b32868447b6a4",
      "value": 433
     }
    },
    "25b412d292d946b7ba3e49dd4b429d83": {
     "model_module": "@jupyter-widgets/base",
     "model_name": "LayoutModel",
     "state": {
      "_model_module": "@jupyter-widgets/base",
      "_model_module_version": "1.2.0",
      "_model_name": "LayoutModel",
      "_view_count": null,
      "_view_module": "@jupyter-widgets/base",
      "_view_module_version": "1.2.0",
      "_view_name": "LayoutView",
      "align_content": null,
      "align_items": null,
      "align_self": null,
      "border": null,
      "bottom": null,
      "display": null,
      "flex": null,
      "flex_flow": null,
      "grid_area": null,
      "grid_auto_columns": null,
      "grid_auto_flow": null,
      "grid_auto_rows": null,
      "grid_column": null,
      "grid_gap": null,
      "grid_row": null,
      "grid_template_areas": null,
      "grid_template_columns": null,
      "grid_template_rows": null,
      "height": null,
      "justify_content": null,
      "justify_items": null,
      "left": null,
      "margin": null,
      "max_height": null,
      "max_width": null,
      "min_height": null,
      "min_width": null,
      "object_fit": null,
      "object_position": null,
      "order": null,
      "overflow": null,
      "overflow_x": null,
      "overflow_y": null,
      "padding": null,
      "right": null,
      "top": null,
      "visibility": null,
      "width": null
     }
    },
    "2edd26821fe8499ab9f1922ee4098106": {
     "model_module": "@jupyter-widgets/controls",
     "model_name": "HBoxModel",
     "state": {
      "_dom_classes": [],
      "_model_module": "@jupyter-widgets/controls",
      "_model_module_version": "1.5.0",
      "_model_name": "HBoxModel",
      "_view_count": null,
      "_view_module": "@jupyter-widgets/controls",
      "_view_module_version": "1.5.0",
      "_view_name": "HBoxView",
      "box_style": "",
      "children": [
       "IPY_MODEL_13133393fa8040c883cdeb9b669efd3f",
       "IPY_MODEL_ab98b5cf00f744af87faf73ea39074eb"
      ],
      "layout": "IPY_MODEL_78ba73047a244d6096ca839f868c120e"
     }
    },
    "33b6410ef78b4c50ac0e76ddf4f112d4": {
     "model_module": "@jupyter-widgets/base",
     "model_name": "LayoutModel",
     "state": {
      "_model_module": "@jupyter-widgets/base",
      "_model_module_version": "1.2.0",
      "_model_name": "LayoutModel",
      "_view_count": null,
      "_view_module": "@jupyter-widgets/base",
      "_view_module_version": "1.2.0",
      "_view_name": "LayoutView",
      "align_content": null,
      "align_items": null,
      "align_self": null,
      "border": null,
      "bottom": null,
      "display": null,
      "flex": null,
      "flex_flow": null,
      "grid_area": null,
      "grid_auto_columns": null,
      "grid_auto_flow": null,
      "grid_auto_rows": null,
      "grid_column": null,
      "grid_gap": null,
      "grid_row": null,
      "grid_template_areas": null,
      "grid_template_columns": null,
      "grid_template_rows": null,
      "height": null,
      "justify_content": null,
      "justify_items": null,
      "left": null,
      "margin": null,
      "max_height": null,
      "max_width": null,
      "min_height": null,
      "min_width": null,
      "object_fit": null,
      "object_position": null,
      "order": null,
      "overflow": null,
      "overflow_x": null,
      "overflow_y": null,
      "padding": null,
      "right": null,
      "top": null,
      "visibility": null,
      "width": null
     }
    },
    "3faae99813874855bc65f3b99c219e61": {
     "model_module": "@jupyter-widgets/base",
     "model_name": "LayoutModel",
     "state": {
      "_model_module": "@jupyter-widgets/base",
      "_model_module_version": "1.2.0",
      "_model_name": "LayoutModel",
      "_view_count": null,
      "_view_module": "@jupyter-widgets/base",
      "_view_module_version": "1.2.0",
      "_view_name": "LayoutView",
      "align_content": null,
      "align_items": null,
      "align_self": null,
      "border": null,
      "bottom": null,
      "display": null,
      "flex": null,
      "flex_flow": null,
      "grid_area": null,
      "grid_auto_columns": null,
      "grid_auto_flow": null,
      "grid_auto_rows": null,
      "grid_column": null,
      "grid_gap": null,
      "grid_row": null,
      "grid_template_areas": null,
      "grid_template_columns": null,
      "grid_template_rows": null,
      "height": null,
      "justify_content": null,
      "justify_items": null,
      "left": null,
      "margin": null,
      "max_height": null,
      "max_width": null,
      "min_height": null,
      "min_width": null,
      "object_fit": null,
      "object_position": null,
      "order": null,
      "overflow": null,
      "overflow_x": null,
      "overflow_y": null,
      "padding": null,
      "right": null,
      "top": null,
      "visibility": null,
      "width": null
     }
    },
    "4bb6992aeab948b5a9fa871377f5abda": {
     "model_module": "@jupyter-widgets/controls",
     "model_name": "DescriptionStyleModel",
     "state": {
      "_model_module": "@jupyter-widgets/controls",
      "_model_module_version": "1.5.0",
      "_model_name": "DescriptionStyleModel",
      "_view_count": null,
      "_view_module": "@jupyter-widgets/base",
      "_view_module_version": "1.2.0",
      "_view_name": "StyleView",
      "description_width": ""
     }
    },
    "4e6cc5ce79cf4f3fac6a618694673075": {
     "model_module": "@jupyter-widgets/base",
     "model_name": "LayoutModel",
     "state": {
      "_model_module": "@jupyter-widgets/base",
      "_model_module_version": "1.2.0",
      "_model_name": "LayoutModel",
      "_view_count": null,
      "_view_module": "@jupyter-widgets/base",
      "_view_module_version": "1.2.0",
      "_view_name": "LayoutView",
      "align_content": null,
      "align_items": null,
      "align_self": null,
      "border": null,
      "bottom": null,
      "display": null,
      "flex": null,
      "flex_flow": null,
      "grid_area": null,
      "grid_auto_columns": null,
      "grid_auto_flow": null,
      "grid_auto_rows": null,
      "grid_column": null,
      "grid_gap": null,
      "grid_row": null,
      "grid_template_areas": null,
      "grid_template_columns": null,
      "grid_template_rows": null,
      "height": null,
      "justify_content": null,
      "justify_items": null,
      "left": null,
      "margin": null,
      "max_height": null,
      "max_width": null,
      "min_height": null,
      "min_width": null,
      "object_fit": null,
      "object_position": null,
      "order": null,
      "overflow": null,
      "overflow_x": null,
      "overflow_y": null,
      "padding": null,
      "right": null,
      "top": null,
      "visibility": null,
      "width": null
     }
    },
    "61c8084c86694d978d2e48e9e02f786f": {
     "model_module": "@jupyter-widgets/base",
     "model_name": "LayoutModel",
     "state": {
      "_model_module": "@jupyter-widgets/base",
      "_model_module_version": "1.2.0",
      "_model_name": "LayoutModel",
      "_view_count": null,
      "_view_module": "@jupyter-widgets/base",
      "_view_module_version": "1.2.0",
      "_view_name": "LayoutView",
      "align_content": null,
      "align_items": null,
      "align_self": null,
      "border": null,
      "bottom": null,
      "display": null,
      "flex": null,
      "flex_flow": null,
      "grid_area": null,
      "grid_auto_columns": null,
      "grid_auto_flow": null,
      "grid_auto_rows": null,
      "grid_column": null,
      "grid_gap": null,
      "grid_row": null,
      "grid_template_areas": null,
      "grid_template_columns": null,
      "grid_template_rows": null,
      "height": null,
      "justify_content": null,
      "justify_items": null,
      "left": null,
      "margin": null,
      "max_height": null,
      "max_width": null,
      "min_height": null,
      "min_width": null,
      "object_fit": null,
      "object_position": null,
      "order": null,
      "overflow": null,
      "overflow_x": null,
      "overflow_y": null,
      "padding": null,
      "right": null,
      "top": null,
      "visibility": null,
      "width": null
     }
    },
    "717355e2f4ab451bba9b32868447b6a4": {
     "model_module": "@jupyter-widgets/controls",
     "model_name": "ProgressStyleModel",
     "state": {
      "_model_module": "@jupyter-widgets/controls",
      "_model_module_version": "1.5.0",
      "_model_name": "ProgressStyleModel",
      "_view_count": null,
      "_view_module": "@jupyter-widgets/base",
      "_view_module_version": "1.2.0",
      "_view_name": "StyleView",
      "bar_color": null,
      "description_width": "initial"
     }
    },
    "78ba73047a244d6096ca839f868c120e": {
     "model_module": "@jupyter-widgets/base",
     "model_name": "LayoutModel",
     "state": {
      "_model_module": "@jupyter-widgets/base",
      "_model_module_version": "1.2.0",
      "_model_name": "LayoutModel",
      "_view_count": null,
      "_view_module": "@jupyter-widgets/base",
      "_view_module_version": "1.2.0",
      "_view_name": "LayoutView",
      "align_content": null,
      "align_items": null,
      "align_self": null,
      "border": null,
      "bottom": null,
      "display": null,
      "flex": null,
      "flex_flow": null,
      "grid_area": null,
      "grid_auto_columns": null,
      "grid_auto_flow": null,
      "grid_auto_rows": null,
      "grid_column": null,
      "grid_gap": null,
      "grid_row": null,
      "grid_template_areas": null,
      "grid_template_columns": null,
      "grid_template_rows": null,
      "height": null,
      "justify_content": null,
      "justify_items": null,
      "left": null,
      "margin": null,
      "max_height": null,
      "max_width": null,
      "min_height": null,
      "min_width": null,
      "object_fit": null,
      "object_position": null,
      "order": null,
      "overflow": null,
      "overflow_x": null,
      "overflow_y": null,
      "padding": null,
      "right": null,
      "top": null,
      "visibility": null,
      "width": null
     }
    },
    "7b99ac76882b44bbbe842b460a22d268": {
     "model_module": "@jupyter-widgets/controls",
     "model_name": "FloatProgressModel",
     "state": {
      "_dom_classes": [],
      "_model_module": "@jupyter-widgets/controls",
      "_model_module_version": "1.5.0",
      "_model_name": "FloatProgressModel",
      "_view_count": null,
      "_view_module": "@jupyter-widgets/controls",
      "_view_module_version": "1.5.0",
      "_view_name": "ProgressView",
      "bar_style": "success",
      "description": "Downloading: 100%",
      "description_tooltip": null,
      "layout": "IPY_MODEL_3faae99813874855bc65f3b99c219e61",
      "max": 435779157,
      "min": 0,
      "orientation": "horizontal",
      "style": "IPY_MODEL_10f55d7889e44455bd349ebc184bc834",
      "value": 435779157
     }
    },
    "88e089e93cd84a40bc38a77bad02c5e3": {
     "model_module": "@jupyter-widgets/controls",
     "model_name": "HTMLModel",
     "state": {
      "_dom_classes": [],
      "_model_module": "@jupyter-widgets/controls",
      "_model_module_version": "1.5.0",
      "_model_name": "HTMLModel",
      "_view_count": null,
      "_view_module": "@jupyter-widgets/controls",
      "_view_module_version": "1.5.0",
      "_view_name": "HTMLView",
      "description": "",
      "description_tooltip": null,
      "layout": "IPY_MODEL_25b412d292d946b7ba3e49dd4b429d83",
      "placeholder": "​",
      "style": "IPY_MODEL_4bb6992aeab948b5a9fa871377f5abda",
      "value": " 213k/213k [00:00&lt;00:00, 732kB/s]"
     }
    },
    "8c9ad197c0204a3391f782c1355c3fe4": {
     "model_module": "@jupyter-widgets/base",
     "model_name": "LayoutModel",
     "state": {
      "_model_module": "@jupyter-widgets/base",
      "_model_module_version": "1.2.0",
      "_model_name": "LayoutModel",
      "_view_count": null,
      "_view_module": "@jupyter-widgets/base",
      "_view_module_version": "1.2.0",
      "_view_name": "LayoutView",
      "align_content": null,
      "align_items": null,
      "align_self": null,
      "border": null,
      "bottom": null,
      "display": null,
      "flex": null,
      "flex_flow": null,
      "grid_area": null,
      "grid_auto_columns": null,
      "grid_auto_flow": null,
      "grid_auto_rows": null,
      "grid_column": null,
      "grid_gap": null,
      "grid_row": null,
      "grid_template_areas": null,
      "grid_template_columns": null,
      "grid_template_rows": null,
      "height": null,
      "justify_content": null,
      "justify_items": null,
      "left": null,
      "margin": null,
      "max_height": null,
      "max_width": null,
      "min_height": null,
      "min_width": null,
      "object_fit": null,
      "object_position": null,
      "order": null,
      "overflow": null,
      "overflow_x": null,
      "overflow_y": null,
      "padding": null,
      "right": null,
      "top": null,
      "visibility": null,
      "width": null
     }
    },
    "a05ab3b8175c4fa5b55535b95da23d9a": {
     "model_module": "@jupyter-widgets/controls",
     "model_name": "ProgressStyleModel",
     "state": {
      "_model_module": "@jupyter-widgets/controls",
      "_model_module_version": "1.5.0",
      "_model_name": "ProgressStyleModel",
      "_view_count": null,
      "_view_module": "@jupyter-widgets/base",
      "_view_module_version": "1.2.0",
      "_view_name": "StyleView",
      "bar_color": null,
      "description_width": "initial"
     }
    },
    "a4447b102df64805a783594f950edcc8": {
     "model_module": "@jupyter-widgets/controls",
     "model_name": "FloatProgressModel",
     "state": {
      "_dom_classes": [],
      "_model_module": "@jupyter-widgets/controls",
      "_model_module_version": "1.5.0",
      "_model_name": "FloatProgressModel",
      "_view_count": null,
      "_view_module": "@jupyter-widgets/controls",
      "_view_module_version": "1.5.0",
      "_view_name": "ProgressView",
      "bar_style": "success",
      "description": "Downloading: 100%",
      "description_tooltip": null,
      "layout": "IPY_MODEL_61c8084c86694d978d2e48e9e02f786f",
      "max": 213450,
      "min": 0,
      "orientation": "horizontal",
      "style": "IPY_MODEL_a05ab3b8175c4fa5b55535b95da23d9a",
      "value": 213450
     }
    },
    "ab98b5cf00f744af87faf73ea39074eb": {
     "model_module": "@jupyter-widgets/controls",
     "model_name": "HTMLModel",
     "state": {
      "_dom_classes": [],
      "_model_module": "@jupyter-widgets/controls",
      "_model_module_version": "1.5.0",
      "_model_name": "HTMLModel",
      "_view_count": null,
      "_view_module": "@jupyter-widgets/controls",
      "_view_module_version": "1.5.0",
      "_view_name": "HTMLView",
      "description": "",
      "description_tooltip": null,
      "layout": "IPY_MODEL_8c9ad197c0204a3391f782c1355c3fe4",
      "placeholder": "​",
      "style": "IPY_MODEL_bc62ee412134476ba6859437ed4102ed",
      "value": " 433/433 [00:00&lt;00:00, 1.14kB/s]"
     }
    },
    "af1524834b04431fa5f83a836e9b0ee9": {
     "model_module": "@jupyter-widgets/controls",
     "model_name": "HTMLModel",
     "state": {
      "_dom_classes": [],
      "_model_module": "@jupyter-widgets/controls",
      "_model_module_version": "1.5.0",
      "_model_name": "HTMLModel",
      "_view_count": null,
      "_view_module": "@jupyter-widgets/controls",
      "_view_module_version": "1.5.0",
      "_view_name": "HTMLView",
      "description": "",
      "description_tooltip": null,
      "layout": "IPY_MODEL_4e6cc5ce79cf4f3fac6a618694673075",
      "placeholder": "​",
      "style": "IPY_MODEL_c65eb68b08704426bd6436b6ef701c7b",
      "value": " 436M/436M [01:33&lt;00:00, 4.65MB/s]"
     }
    },
    "b19703d295284ee59c595eca16fd9d23": {
     "model_module": "@jupyter-widgets/controls",
     "model_name": "HBoxModel",
     "state": {
      "_dom_classes": [],
      "_model_module": "@jupyter-widgets/controls",
      "_model_module_version": "1.5.0",
      "_model_name": "HBoxModel",
      "_view_count": null,
      "_view_module": "@jupyter-widgets/controls",
      "_view_module_version": "1.5.0",
      "_view_name": "HBoxView",
      "box_style": "",
      "children": [
       "IPY_MODEL_7b99ac76882b44bbbe842b460a22d268",
       "IPY_MODEL_af1524834b04431fa5f83a836e9b0ee9"
      ],
      "layout": "IPY_MODEL_fb762e2ff1fe4a228905687713f65916"
     }
    },
    "b9bef0caac2545a49265831e86302012": {
     "model_module": "@jupyter-widgets/controls",
     "model_name": "HBoxModel",
     "state": {
      "_dom_classes": [],
      "_model_module": "@jupyter-widgets/controls",
      "_model_module_version": "1.5.0",
      "_model_name": "HBoxModel",
      "_view_count": null,
      "_view_module": "@jupyter-widgets/controls",
      "_view_module_version": "1.5.0",
      "_view_name": "HBoxView",
      "box_style": "",
      "children": [
       "IPY_MODEL_a4447b102df64805a783594f950edcc8",
       "IPY_MODEL_88e089e93cd84a40bc38a77bad02c5e3"
      ],
      "layout": "IPY_MODEL_bb46c40ee6874f4088827dcf6336b562"
     }
    },
    "bb46c40ee6874f4088827dcf6336b562": {
     "model_module": "@jupyter-widgets/base",
     "model_name": "LayoutModel",
     "state": {
      "_model_module": "@jupyter-widgets/base",
      "_model_module_version": "1.2.0",
      "_model_name": "LayoutModel",
      "_view_count": null,
      "_view_module": "@jupyter-widgets/base",
      "_view_module_version": "1.2.0",
      "_view_name": "LayoutView",
      "align_content": null,
      "align_items": null,
      "align_self": null,
      "border": null,
      "bottom": null,
      "display": null,
      "flex": null,
      "flex_flow": null,
      "grid_area": null,
      "grid_auto_columns": null,
      "grid_auto_flow": null,
      "grid_auto_rows": null,
      "grid_column": null,
      "grid_gap": null,
      "grid_row": null,
      "grid_template_areas": null,
      "grid_template_columns": null,
      "grid_template_rows": null,
      "height": null,
      "justify_content": null,
      "justify_items": null,
      "left": null,
      "margin": null,
      "max_height": null,
      "max_width": null,
      "min_height": null,
      "min_width": null,
      "object_fit": null,
      "object_position": null,
      "order": null,
      "overflow": null,
      "overflow_x": null,
      "overflow_y": null,
      "padding": null,
      "right": null,
      "top": null,
      "visibility": null,
      "width": null
     }
    },
    "bc62ee412134476ba6859437ed4102ed": {
     "model_module": "@jupyter-widgets/controls",
     "model_name": "DescriptionStyleModel",
     "state": {
      "_model_module": "@jupyter-widgets/controls",
      "_model_module_version": "1.5.0",
      "_model_name": "DescriptionStyleModel",
      "_view_count": null,
      "_view_module": "@jupyter-widgets/base",
      "_view_module_version": "1.2.0",
      "_view_name": "StyleView",
      "description_width": ""
     }
    },
    "c65eb68b08704426bd6436b6ef701c7b": {
     "model_module": "@jupyter-widgets/controls",
     "model_name": "DescriptionStyleModel",
     "state": {
      "_model_module": "@jupyter-widgets/controls",
      "_model_module_version": "1.5.0",
      "_model_name": "DescriptionStyleModel",
      "_view_count": null,
      "_view_module": "@jupyter-widgets/base",
      "_view_module_version": "1.2.0",
      "_view_name": "StyleView",
      "description_width": ""
     }
    },
    "fb762e2ff1fe4a228905687713f65916": {
     "model_module": "@jupyter-widgets/base",
     "model_name": "LayoutModel",
     "state": {
      "_model_module": "@jupyter-widgets/base",
      "_model_module_version": "1.2.0",
      "_model_name": "LayoutModel",
      "_view_count": null,
      "_view_module": "@jupyter-widgets/base",
      "_view_module_version": "1.2.0",
      "_view_name": "LayoutView",
      "align_content": null,
      "align_items": null,
      "align_self": null,
      "border": null,
      "bottom": null,
      "display": null,
      "flex": null,
      "flex_flow": null,
      "grid_area": null,
      "grid_auto_columns": null,
      "grid_auto_flow": null,
      "grid_auto_rows": null,
      "grid_column": null,
      "grid_gap": null,
      "grid_row": null,
      "grid_template_areas": null,
      "grid_template_columns": null,
      "grid_template_rows": null,
      "height": null,
      "justify_content": null,
      "justify_items": null,
      "left": null,
      "margin": null,
      "max_height": null,
      "max_width": null,
      "min_height": null,
      "min_width": null,
      "object_fit": null,
      "object_position": null,
      "order": null,
      "overflow": null,
      "overflow_x": null,
      "overflow_y": null,
      "padding": null,
      "right": null,
      "top": null,
      "visibility": null,
      "width": null
     }
    }
   }
  }
 },
 "nbformat": 4,
 "nbformat_minor": 1
}
