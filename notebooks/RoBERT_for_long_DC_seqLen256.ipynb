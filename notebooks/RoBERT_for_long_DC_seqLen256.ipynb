{
 "cells": [
  {
   "cell_type": "markdown",
   "metadata": {},
   "source": [
    "# Fine tuning SOTA model (RoBERT) from Hugging Face for Document Classification"
   ]
  },
  {
   "cell_type": "markdown",
   "metadata": {},
   "source": [
    "In this project, we will try to apply the transfer learning technique for NLP task. We will fine tune [BERT](https://arxiv.org/abs/1810.04805) and [RoBERTa](https://arxiv.org/abs/1907.11692) to do text/document classification. Most of the content are taken from [post1](https://curiousily.com/posts/sentiment-analysis-with-bert-and-hugging-face-using-pytorch-and-python/) and [post2](https://medium.com/@armandj.olivares/using-bert-for-classifying-documents-with-long-texts-5c3e7b04573d). In addition, we attempt to make it as general as possible that it can be used for any similar models (thanks to the Transformers library from [hugging face](https://huggingface.co/)) with any dataset by doing just some miner changes. \n",
    "\n",
    "In addition, we tried to overcome the limitation of the 512-sequence length of BERT and RoBERTa by using [Longformer](https://arxiv.org/abs/2004.05150) and [RoBERT](https://arxiv.org/abs/1910.10781). It stands for Recurrence over BERT where each ocument is segmented into smaller text and feed each of them to BERT. Then we extract the representation of each text chunk from (pooled_output) and feed the combined representation of each document to LSTM to classify long documents. We will see if this improve the results or overfit the data. We mainly used **python, Transformers, Pytorch, Sklearn**"
   ]
  },
  {
   "cell_type": "markdown",
   "metadata": {
    "id": "wmj22-TcZMef"
   },
   "source": [
    "## Setup\n"
   ]
  },
  {
   "cell_type": "code",
   "execution_count": 1,
   "metadata": {},
   "outputs": [
    {
     "name": "stdout",
     "output_type": "stream",
     "text": [
      "Enabling notebook extension jupyter-js-widgets/extension...\n",
      "      - Validating: \u001b[32mOK\u001b[0m\n"
     ]
    }
   ],
   "source": [
    "# !pip install -qq -r requirements.txt\n",
    "\n",
    "!pip install -qq ipywidgets\n",
    "\n",
    "!pip install -qq --upgrade jupyter_client\n",
    "\n",
    "!pip install -qq nodejs\n",
    "\n",
    "!jupyter nbextension enable --py widgetsnbextension"
   ]
  },
  {
   "cell_type": "code",
   "execution_count": 2,
   "metadata": {
    "colab": {
     "base_uri": "https://localhost:8080/"
    },
    "id": "Kj_7Tz0-pK69",
    "outputId": "30df182d-81ca-4b8f-da25-bbd05d374203"
   },
   "outputs": [],
   "source": [
    "# watermark: \"An IPython magic extension for printing date and time stamps, version numbers, and hardware information.\"\n",
    "!pip install -q -U watermark"
   ]
  },
  {
   "cell_type": "code",
   "execution_count": 3,
   "metadata": {
    "colab": {
     "base_uri": "https://localhost:8080/"
    },
    "id": "s55RRhok3ZOM",
    "outputId": "f97ce5a3-897c-43d3-d1d9-e1118a572a4c"
   },
   "outputs": [
    {
     "name": "stdout",
     "output_type": "stream",
     "text": [
      "Python implementation: CPython\n",
      "Python version       : 3.7.9\n",
      "IPython version      : 7.19.0\n",
      "\n",
      "numpy       : 1.18.5\n",
      "pandas      : 1.1.3\n",
      "torch       : 1.7.0\n",
      "transformers: 3.4.0\n",
      "seaborn     : 0.11.0\n",
      "nltk        : 3.5\n",
      "sklearn     : 0.0\n",
      "tensorflow  : 2.3.1\n",
      "\n"
     ]
    }
   ],
   "source": [
    "%reload_ext watermark\n",
    "%watermark -v -p numpy,pandas,torch,transformers,seaborn,nltk,sklearn,tensorflow"
   ]
  },
  {
   "cell_type": "code",
   "execution_count": 4,
   "metadata": {
    "id": "w68CZpOwFoly"
   },
   "outputs": [],
   "source": [
    "import transformers\n",
    "import torch\n",
    "\n",
    "import numpy as np\n",
    "import pandas as pd\n",
    "import seaborn as sns\n",
    "from pylab import rcParams\n",
    "import matplotlib.pyplot as plt\n",
    "from sklearn.model_selection import train_test_split\n",
    "from sklearn.metrics import confusion_matrix, classification_report\n",
    "from collections import defaultdict\n",
    "from textwrap import wrap\n",
    "\n",
    "from torch import nn\n",
    "from torch.utils.data import Dataset, DataLoader\n",
    "import torch.nn.functional as F\n",
    "from datetime import datetime\n",
    "\n",
    "\n",
    "%matplotlib inline\n",
    "%config InlineBackend.figure_format='retina'\n",
    "\n",
    "sns.set(style='whitegrid', palette='muted', font_scale=1.2)\n",
    "rcParams['figure.figsize'] = 10, 6\n"
   ]
  },
  {
   "cell_type": "code",
   "execution_count": 5,
   "metadata": {},
   "outputs": [
    {
     "name": "stdout",
     "output_type": "stream",
     "text": [
      "tensor([[0.2572, 0.3028, 0.9656],\n",
      "        [0.1846, 0.1719, 0.8939],\n",
      "        [0.9522, 0.9759, 0.4266],\n",
      "        [0.0087, 0.2060, 0.1032],\n",
      "        [0.9082, 0.3025, 0.6420]])\n"
     ]
    },
    {
     "data": {
      "text/plain": [
       "True"
      ]
     },
     "execution_count": 5,
     "metadata": {},
     "output_type": "execute_result"
    }
   ],
   "source": [
    "x = torch.rand(5, 3)\n",
    "print(x)\n",
    "torch.cuda.is_available()"
   ]
  },
  {
   "cell_type": "markdown",
   "metadata": {
    "id": "ufzPdoTtNikq"
   },
   "source": [
    "## Config"
   ]
  },
  {
   "cell_type": "markdown",
   "metadata": {
    "id": "SOCghdQKD7Kb"
   },
   "source": [
    "We configured this project so we can evaluate different pretrained models with minor changes. All our hyper-parameters are in this section. If you want to use another dataset, check the preprocessing section."
   ]
  },
  {
   "cell_type": "code",
   "execution_count": 6,
   "metadata": {
    "colab": {
     "base_uri": "https://localhost:8080/",
     "height": 166,
     "referenced_widgets": [
      "b9bef0caac2545a49265831e86302012",
      "bb46c40ee6874f4088827dcf6336b562",
      "a4447b102df64805a783594f950edcc8",
      "88e089e93cd84a40bc38a77bad02c5e3",
      "a05ab3b8175c4fa5b55535b95da23d9a",
      "61c8084c86694d978d2e48e9e02f786f",
      "4bb6992aeab948b5a9fa871377f5abda",
      "25b412d292d946b7ba3e49dd4b429d83",
      "2edd26821fe8499ab9f1922ee4098106",
      "78ba73047a244d6096ca839f868c120e",
      "13133393fa8040c883cdeb9b669efd3f",
      "ab98b5cf00f744af87faf73ea39074eb",
      "717355e2f4ab451bba9b32868447b6a4",
      "33b6410ef78b4c50ac0e76ddf4f112d4",
      "bc62ee412134476ba6859437ed4102ed",
      "8c9ad197c0204a3391f782c1355c3fe4",
      "b19703d295284ee59c595eca16fd9d23",
      "fb762e2ff1fe4a228905687713f65916",
      "7b99ac76882b44bbbe842b460a22d268",
      "af1524834b04431fa5f83a836e9b0ee9",
      "10f55d7889e44455bd349ebc184bc834",
      "3faae99813874855bc65f3b99c219e61",
      "c65eb68b08704426bd6436b6ef701c7b",
      "4e6cc5ce79cf4f3fac6a618694673075"
     ]
    },
    "id": "9cUYftrdJfwE",
    "outputId": "6386ca2a-dc37-4720-b365-6830032b3e43"
   },
   "outputs": [],
   "source": [
    "MAX_LEN = 256\n",
    "BATCH_SIZE = 16\n",
    "EPOCHS = 4\n",
    "LEARNING_RATE = 2e-5\n",
    "\n",
    "\"\"\"BERT Model and Tokenizer\"\"\"\n",
    "PRE_TRAINED_MODEL = 'bert-base-cased'\n",
    "TOKENIZER = transformers.BertTokenizer.from_pretrained(PRE_TRAINED_MODEL)\n",
    "PT_MODEL = transformers.BertModel.from_pretrained(PRE_TRAINED_MODEL)\n",
    "\n",
    "# \"\"\"RoBERTa Model and Tokenizer\"\"\"\n",
    "# PRE_TRAINED_MODEL = 'roberta-base'\n",
    "# TOKENIZER = transformers.RobertaTokenizer.from_pretrained(PRE_TRAINED_MODEL)\n",
    "# PT_MODEL = transformers.RobertaModel.from_pretrained(PRE_TRAINED_MODEL)"
   ]
  },
  {
   "cell_type": "code",
   "execution_count": 7,
   "metadata": {
    "colab": {
     "base_uri": "https://localhost:8080/"
    },
    "id": "Tc_k9oHMMmpf",
    "outputId": "8f5a9ac9-d2e0-4acb-dcde-02ee3ca0a8db"
   },
   "outputs": [
    {
     "data": {
      "text/plain": [
       "device(type='cuda', index=0)"
      ]
     },
     "execution_count": 7,
     "metadata": {},
     "output_type": "execute_result"
    }
   ],
   "source": [
    "RANDOM_SEED = 42\n",
    "np.random.seed(RANDOM_SEED)\n",
    "torch.manual_seed(RANDOM_SEED)\n",
    "device = torch.device(\"cuda:0\" if torch.cuda.is_available() else \"cpu\")\n",
    "device"
   ]
  },
  {
   "cell_type": "markdown",
   "metadata": {
    "id": "9aHyGuTFgyPO"
   },
   "source": [
    "## Data Preprocessing\n",
    "\n"
   ]
  },
  {
   "cell_type": "markdown",
   "metadata": {
    "id": "mvkSDqO_G7XK"
   },
   "source": [
    "If you use a deferent dataset and reading it as a panda's dataframe, just change the column header that accommodate the content to 'text' and the target column to 'label. Code is provided below."
   ]
  },
  {
   "cell_type": "code",
   "execution_count": 8,
   "metadata": {
    "colab": {
     "base_uri": "https://localhost:8080/",
     "height": 203
    },
    "id": "mUKLyKc7I6Qp",
    "outputId": "961d6210-8b42-4273-d71d-105ede7e1875"
   },
   "outputs": [
    {
     "data": {
      "text/html": [
       "<div>\n",
       "<style scoped>\n",
       "    .dataframe tbody tr th:only-of-type {\n",
       "        vertical-align: middle;\n",
       "    }\n",
       "\n",
       "    .dataframe tbody tr th {\n",
       "        vertical-align: top;\n",
       "    }\n",
       "\n",
       "    .dataframe thead th {\n",
       "        text-align: right;\n",
       "    }\n",
       "</style>\n",
       "<table border=\"1\" class=\"dataframe\">\n",
       "  <thead>\n",
       "    <tr style=\"text-align: right;\">\n",
       "      <th></th>\n",
       "      <th>Unnamed: 0</th>\n",
       "      <th>title</th>\n",
       "      <th>text</th>\n",
       "      <th>label</th>\n",
       "    </tr>\n",
       "  </thead>\n",
       "  <tbody>\n",
       "    <tr>\n",
       "      <th>0</th>\n",
       "      <td>8308</td>\n",
       "      <td>Italy Plucks 2,000 Migrants from the Mediterra...</td>\n",
       "      <td>ROME (AP)  —   Italian rescue ships have pluck...</td>\n",
       "      <td>REAL</td>\n",
       "    </tr>\n",
       "    <tr>\n",
       "      <th>1</th>\n",
       "      <td>2765</td>\n",
       "      <td>The most unqualified media personalities on TV...</td>\n",
       "      <td>Monday, November 14, 2016 7:38 AM EST Media pe...</td>\n",
       "      <td>FAKE</td>\n",
       "    </tr>\n",
       "    <tr>\n",
       "      <th>2</th>\n",
       "      <td>20123</td>\n",
       "      <td>Rigging the Election – Video IV: Democrat Oper...</td>\n",
       "      <td>Rigging the Election – Video IV: Democrat Oper...</td>\n",
       "      <td>FAKE</td>\n",
       "    </tr>\n",
       "    <tr>\n",
       "      <th>3</th>\n",
       "      <td>2669</td>\n",
       "      <td>Will Hillary Select Her Own Prosecutors?</td>\n",
       "      <td>By Bill Sardi November 1, 2016 Journalist Carl...</td>\n",
       "      <td>FAKE</td>\n",
       "    </tr>\n",
       "    <tr>\n",
       "      <th>4</th>\n",
       "      <td>4408</td>\n",
       "      <td>Debate: Washington's Syria policy</td>\n",
       "      <td>The Debate Washington's Syria policy \\nIn this...</td>\n",
       "      <td>FAKE</td>\n",
       "    </tr>\n",
       "  </tbody>\n",
       "</table>\n",
       "</div>"
      ],
      "text/plain": [
       "   Unnamed: 0                                              title  \\\n",
       "0        8308  Italy Plucks 2,000 Migrants from the Mediterra...   \n",
       "1        2765  The most unqualified media personalities on TV...   \n",
       "2       20123  Rigging the Election – Video IV: Democrat Oper...   \n",
       "3        2669           Will Hillary Select Her Own Prosecutors?   \n",
       "4        4408                  Debate: Washington's Syria policy   \n",
       "\n",
       "                                                text label  \n",
       "0  ROME (AP)  —   Italian rescue ships have pluck...  REAL  \n",
       "1  Monday, November 14, 2016 7:38 AM EST Media pe...  FAKE  \n",
       "2  Rigging the Election – Video IV: Democrat Oper...  FAKE  \n",
       "3  By Bill Sardi November 1, 2016 Journalist Carl...  FAKE  \n",
       "4  The Debate Washington's Syria policy \\nIn this...  FAKE  "
      ]
     },
     "execution_count": 8,
     "metadata": {},
     "output_type": "execute_result"
    }
   ],
   "source": [
    "df = pd.read_csv('../inputs/news_data_groomed.csv')\n",
    "df.head()"
   ]
  },
  {
   "cell_type": "code",
   "execution_count": 9,
   "metadata": {},
   "outputs": [],
   "source": [
    "# # df = df.drop(columns=['Unnamed: 0', 'title'])\n",
    "# df = df.drop_duplicates(subset = ['text', 'label'])\n",
    "# print(len(pd.read_csv('../inputs/news.csv')) - len(df))"
   ]
  },
  {
   "cell_type": "code",
   "execution_count": 10,
   "metadata": {
    "colab": {
     "base_uri": "https://localhost:8080/"
    },
    "id": "FdJjDo4EUM3O",
    "outputId": "a883ee60-d5fd-4fc1-c76c-e79673775e15"
   },
   "outputs": [
    {
     "data": {
      "text/plain": [
       "array(['FAKE', 'REAL'], dtype=object)"
      ]
     },
     "execution_count": 10,
     "metadata": {},
     "output_type": "execute_result"
    }
   ],
   "source": [
    "classes = np.unique(df.label)\n",
    "classes"
   ]
  },
  {
   "cell_type": "code",
   "execution_count": 11,
   "metadata": {
    "colab": {
     "base_uri": "https://localhost:8080/",
     "height": 141
    },
    "id": "wtLxXQaWUM8q",
    "outputId": "a8fc7850-2107-4255-e11e-b4b495b75515"
   },
   "outputs": [
    {
     "data": {
      "text/html": [
       "<div>\n",
       "<style scoped>\n",
       "    .dataframe tbody tr th:only-of-type {\n",
       "        vertical-align: middle;\n",
       "    }\n",
       "\n",
       "    .dataframe tbody tr th {\n",
       "        vertical-align: top;\n",
       "    }\n",
       "\n",
       "    .dataframe thead th {\n",
       "        text-align: right;\n",
       "    }\n",
       "</style>\n",
       "<table border=\"1\" class=\"dataframe\">\n",
       "  <thead>\n",
       "    <tr style=\"text-align: right;\">\n",
       "      <th></th>\n",
       "      <th>Unnamed: 0</th>\n",
       "      <th>title</th>\n",
       "      <th>text</th>\n",
       "      <th>label</th>\n",
       "    </tr>\n",
       "  </thead>\n",
       "  <tbody>\n",
       "    <tr>\n",
       "      <th>0</th>\n",
       "      <td>8308</td>\n",
       "      <td>Italy Plucks 2,000 Migrants from the Mediterra...</td>\n",
       "      <td>ROME (AP)  —   Italian rescue ships have pluck...</td>\n",
       "      <td>1</td>\n",
       "    </tr>\n",
       "    <tr>\n",
       "      <th>1</th>\n",
       "      <td>2765</td>\n",
       "      <td>The most unqualified media personalities on TV...</td>\n",
       "      <td>Monday, November 14, 2016 7:38 AM EST Media pe...</td>\n",
       "      <td>0</td>\n",
       "    </tr>\n",
       "    <tr>\n",
       "      <th>2</th>\n",
       "      <td>20123</td>\n",
       "      <td>Rigging the Election – Video IV: Democrat Oper...</td>\n",
       "      <td>Rigging the Election – Video IV: Democrat Oper...</td>\n",
       "      <td>0</td>\n",
       "    </tr>\n",
       "  </tbody>\n",
       "</table>\n",
       "</div>"
      ],
      "text/plain": [
       "   Unnamed: 0                                              title  \\\n",
       "0        8308  Italy Plucks 2,000 Migrants from the Mediterra...   \n",
       "1        2765  The most unqualified media personalities on TV...   \n",
       "2       20123  Rigging the Election – Video IV: Democrat Oper...   \n",
       "\n",
       "                                                text  label  \n",
       "0  ROME (AP)  —   Italian rescue ships have pluck...      1  \n",
       "1  Monday, November 14, 2016 7:38 AM EST Media pe...      0  \n",
       "2  Rigging the Election – Video IV: Democrat Oper...      0  "
      ]
     },
     "execution_count": 11,
     "metadata": {},
     "output_type": "execute_result"
    }
   ],
   "source": [
    "# Label encoding to the target feature\n",
    "from sklearn.preprocessing import LabelEncoder\n",
    "le = LabelEncoder()\n",
    "df.label = le.fit_transform(df.label)\n",
    "df.head(3)"
   ]
  },
  {
   "cell_type": "code",
   "execution_count": 12,
   "metadata": {
    "colab": {
     "base_uri": "https://localhost:8080/"
    },
    "id": "CrNUcTdUUVPg",
    "outputId": "7944f9bd-6699-4373-e8f9-ca5000787e62"
   },
   "outputs": [
    {
     "data": {
      "text/plain": [
       "array(['FAKE', 'REAL'], dtype=object)"
      ]
     },
     "execution_count": 12,
     "metadata": {},
     "output_type": "execute_result"
    }
   ],
   "source": [
    "CLASS_NAMES = np.unique(le.inverse_transform(df.label))\n",
    "CLASS_NAMES"
   ]
  },
  {
   "cell_type": "code",
   "execution_count": 13,
   "metadata": {
    "colab": {
     "base_uri": "https://localhost:8080/"
    },
    "id": "dB2jE6am7Dpo",
    "outputId": "cb0c0562-9780-4470-9d7b-862f80b84329"
   },
   "outputs": [
    {
     "data": {
      "text/plain": [
       "(25059, 4)"
      ]
     },
     "execution_count": 13,
     "metadata": {},
     "output_type": "execute_result"
    }
   ],
   "source": [
    "df.shape"
   ]
  },
  {
   "cell_type": "code",
   "execution_count": 14,
   "metadata": {
    "colab": {
     "base_uri": "https://localhost:8080/"
    },
    "id": "B-vWzoo81dvO",
    "outputId": "54201921-da7e-426a-df87-20e64195b941"
   },
   "outputs": [
    {
     "data": {
      "text/plain": [
       "((21300, 4), (1879, 4), (1880, 4))"
      ]
     },
     "execution_count": 14,
     "metadata": {},
     "output_type": "execute_result"
    }
   ],
   "source": [
    "df_train, df_test = train_test_split(df, test_size=0.15, random_state=RANDOM_SEED)\n",
    "df_val, df_test = train_test_split(df_test, test_size=0.5, random_state=RANDOM_SEED)\n",
    "\n",
    "df_train.shape, df_val.shape, df_test.shape"
   ]
  },
  {
   "cell_type": "markdown",
   "metadata": {
    "id": "1SldAWReeoZ_"
   },
   "source": [
    "## Spliting the data to chuncks\n",
    "\n",
    "Refernce: https://medium.com/@armandj.olivares/using-bert-for-classifying-documents-with-long-texts-5c3e7b04573d"
   ]
  },
  {
   "cell_type": "markdown",
   "metadata": {},
   "source": [
    "We try extracting just the first 3 chunks. In our experience, using all chunks caused overfitting \n"
   ]
  },
  {
   "cell_type": "code",
   "execution_count": 15,
   "metadata": {},
   "outputs": [],
   "source": [
    "def get_split2(text1):\n",
    "    l_total = []\n",
    "    l_partial = []\n",
    "    if len(text1.split()) // 200 > 0:\n",
    "        n = len(text1.split()) // 200\n",
    "        # to use the whole document delete this if statement\n",
    "        if n > 3:\n",
    "            n = 3\n",
    "    else: \n",
    "        n = 1\n",
    "    for w in range(n):\n",
    "        if w == 0:\n",
    "            l_partial = text1.split()[:250]\n",
    "            l_total.append(\" \".join(l_partial))\n",
    "        else:\n",
    "            l_partial = text1.split()[w*200:w*200 + 250]\n",
    "            l_total.append(\" \".join(l_partial))\n",
    "    return l_total"
   ]
  },
  {
   "cell_type": "code",
   "execution_count": 16,
   "metadata": {},
   "outputs": [
    {
     "name": "stderr",
     "output_type": "stream",
     "text": [
      "/share/apps/rc/software/Anaconda3/2020.07/envs/deepNLP2020/lib/python3.7/site-packages/ipykernel_launcher.py:1: SettingWithCopyWarning: \n",
      "A value is trying to be set on a copy of a slice from a DataFrame.\n",
      "Try using .loc[row_indexer,col_indexer] = value instead\n",
      "\n",
      "See the caveats in the documentation: https://pandas.pydata.org/pandas-docs/stable/user_guide/indexing.html#returning-a-view-versus-a-copy\n",
      "  \"\"\"Entry point for launching an IPython kernel.\n"
     ]
    },
    {
     "data": {
      "text/plain": [
       "1"
      ]
     },
     "execution_count": 16,
     "metadata": {},
     "output_type": "execute_result"
    }
   ],
   "source": [
    "df_train['text_split'] = df_train['text'].apply(get_split2)\n",
    "len(df_train['text_split'][0])#, df_train['text_split'][0]"
   ]
  },
  {
   "cell_type": "code",
   "execution_count": 17,
   "metadata": {},
   "outputs": [
    {
     "data": {
      "text/html": [
       "<div>\n",
       "<style scoped>\n",
       "    .dataframe tbody tr th:only-of-type {\n",
       "        vertical-align: middle;\n",
       "    }\n",
       "\n",
       "    .dataframe tbody tr th {\n",
       "        vertical-align: top;\n",
       "    }\n",
       "\n",
       "    .dataframe thead th {\n",
       "        text-align: right;\n",
       "    }\n",
       "</style>\n",
       "<table border=\"1\" class=\"dataframe\">\n",
       "  <thead>\n",
       "    <tr style=\"text-align: right;\">\n",
       "      <th></th>\n",
       "      <th>Unnamed: 0</th>\n",
       "      <th>title</th>\n",
       "      <th>text</th>\n",
       "      <th>label</th>\n",
       "      <th>text_split</th>\n",
       "    </tr>\n",
       "  </thead>\n",
       "  <tbody>\n",
       "    <tr>\n",
       "      <th>2238</th>\n",
       "      <td>75</td>\n",
       "      <td>Democrats Have a 60 Percent Chance to Retake t...</td>\n",
       "      <td>The Upshot’s new Senate election forecast give...</td>\n",
       "      <td>1</td>\n",
       "      <td>[The Upshot’s new Senate election forecast giv...</td>\n",
       "    </tr>\n",
       "    <tr>\n",
       "      <th>20675</th>\n",
       "      <td>11757</td>\n",
       "      <td>США и их союзники в поисках новых мер давления...</td>\n",
       "      <td>Страна: КНДР Пока обсуждение в ООН сирийских п...</td>\n",
       "      <td>0</td>\n",
       "      <td>[Страна: КНДР Пока обсуждение в ООН сирийских ...</td>\n",
       "    </tr>\n",
       "    <tr>\n",
       "      <th>10443</th>\n",
       "      <td>6063</td>\n",
       "      <td>Supreme Court Vacates Ex-Virginia Governor’s G...</td>\n",
       "      <td>WASHINGTON  —   The Supreme Court on Monday ma...</td>\n",
       "      <td>1</td>\n",
       "      <td>[WASHINGTON — The Supreme Court on Monday made...</td>\n",
       "    </tr>\n",
       "    <tr>\n",
       "      <th>9676</th>\n",
       "      <td>2105</td>\n",
       "      <td>Obama administration stops work on immigrant p...</td>\n",
       "      <td>A series of legal setbacks have halted the gov...</td>\n",
       "      <td>1</td>\n",
       "      <td>[A series of legal setbacks have halted the go...</td>\n",
       "    </tr>\n",
       "    <tr>\n",
       "      <th>3702</th>\n",
       "      <td>176</td>\n",
       "      <td>Sunday in Charleston: Worship at Emanuel AME</td>\n",
       "      <td>(CNN) The site of a horrific mass killing will...</td>\n",
       "      <td>1</td>\n",
       "      <td>[(CNN) The site of a horrific mass killing wil...</td>\n",
       "    </tr>\n",
       "  </tbody>\n",
       "</table>\n",
       "</div>"
      ],
      "text/plain": [
       "       Unnamed: 0                                              title  \\\n",
       "2238           75  Democrats Have a 60 Percent Chance to Retake t...   \n",
       "20675       11757  США и их союзники в поисках новых мер давления...   \n",
       "10443        6063  Supreme Court Vacates Ex-Virginia Governor’s G...   \n",
       "9676         2105  Obama administration stops work on immigrant p...   \n",
       "3702          176       Sunday in Charleston: Worship at Emanuel AME   \n",
       "\n",
       "                                                    text  label  \\\n",
       "2238   The Upshot’s new Senate election forecast give...      1   \n",
       "20675  Страна: КНДР Пока обсуждение в ООН сирийских п...      0   \n",
       "10443  WASHINGTON  —   The Supreme Court on Monday ma...      1   \n",
       "9676   A series of legal setbacks have halted the gov...      1   \n",
       "3702   (CNN) The site of a horrific mass killing will...      1   \n",
       "\n",
       "                                              text_split  \n",
       "2238   [The Upshot’s new Senate election forecast giv...  \n",
       "20675  [Страна: КНДР Пока обсуждение в ООН сирийских ...  \n",
       "10443  [WASHINGTON — The Supreme Court on Monday made...  \n",
       "9676   [A series of legal setbacks have halted the go...  \n",
       "3702   [(CNN) The site of a horrific mass killing wil...  "
      ]
     },
     "execution_count": 17,
     "metadata": {},
     "output_type": "execute_result"
    }
   ],
   "source": [
    "df_train.head()"
   ]
  },
  {
   "cell_type": "code",
   "execution_count": 18,
   "metadata": {
    "colab": {
     "base_uri": "https://localhost:8080/",
     "height": 306
    },
    "id": "tNIQdsmIrPOj",
    "outputId": "c2b0ec82-1ec7-4936-d76a-cb2133ec28d0"
   },
   "outputs": [],
   "source": [
    "df_val['text_split'] = df_val['text'].apply(get_split2)\n",
    "# df_val.head()"
   ]
  },
  {
   "cell_type": "code",
   "execution_count": 19,
   "metadata": {
    "colab": {
     "base_uri": "https://localhost:8080/"
    },
    "id": "w37qopiqfALP",
    "outputId": "944cf5fc-12ce-4877-9410-8122d5f582fd"
   },
   "outputs": [
    {
     "data": {
      "text/plain": [
       "(45707, 45707, 45707)"
      ]
     },
     "execution_count": 19,
     "metadata": {},
     "output_type": "execute_result"
    }
   ],
   "source": [
    "train_l = []\n",
    "label_l = []\n",
    "index_l = []\n",
    "unnamed_l = []\n",
    "for idx,row in df_train.iterrows():\n",
    "    for l in row['text_split']:\n",
    "        train_l.append(l)\n",
    "        label_l.append(row['label'])\n",
    "        index_l.append(idx)\n",
    "        unnamed_l.append(row['Unnamed: 0'])\n",
    "        \n",
    "len(train_l), len(label_l), len(index_l)"
   ]
  },
  {
   "cell_type": "code",
   "execution_count": 20,
   "metadata": {
    "colab": {
     "base_uri": "https://localhost:8080/",
     "height": 203
    },
    "id": "QUuamFhmfARE",
    "outputId": "75969a2a-bd63-43c3-dd0e-ee3e4172d79b"
   },
   "outputs": [
    {
     "data": {
      "text/html": [
       "<div>\n",
       "<style scoped>\n",
       "    .dataframe tbody tr th:only-of-type {\n",
       "        vertical-align: middle;\n",
       "    }\n",
       "\n",
       "    .dataframe tbody tr th {\n",
       "        vertical-align: top;\n",
       "    }\n",
       "\n",
       "    .dataframe thead th {\n",
       "        text-align: right;\n",
       "    }\n",
       "</style>\n",
       "<table border=\"1\" class=\"dataframe\">\n",
       "  <thead>\n",
       "    <tr style=\"text-align: right;\">\n",
       "      <th></th>\n",
       "      <th>id</th>\n",
       "      <th>text</th>\n",
       "      <th>label</th>\n",
       "    </tr>\n",
       "  </thead>\n",
       "  <tbody>\n",
       "    <tr>\n",
       "      <th>0</th>\n",
       "      <td>75</td>\n",
       "      <td>The Upshot’s new Senate election forecast give...</td>\n",
       "      <td>1</td>\n",
       "    </tr>\n",
       "    <tr>\n",
       "      <th>1</th>\n",
       "      <td>75</td>\n",
       "      <td>the Democrats are defending only 10 seats whil...</td>\n",
       "      <td>1</td>\n",
       "    </tr>\n",
       "    <tr>\n",
       "      <th>2</th>\n",
       "      <td>75</td>\n",
       "      <td>direction. Incumbents are running in seven of ...</td>\n",
       "      <td>1</td>\n",
       "    </tr>\n",
       "    <tr>\n",
       "      <th>3</th>\n",
       "      <td>11757</td>\n",
       "      <td>Страна: КНДР Пока обсуждение в ООН сирийских п...</td>\n",
       "      <td>0</td>\n",
       "    </tr>\n",
       "    <tr>\n",
       "      <th>4</th>\n",
       "      <td>11757</td>\n",
       "      <td>из подобных средств, к примеру, является между...</td>\n",
       "      <td>0</td>\n",
       "    </tr>\n",
       "  </tbody>\n",
       "</table>\n",
       "</div>"
      ],
      "text/plain": [
       "      id                                               text  label\n",
       "0     75  The Upshot’s new Senate election forecast give...      1\n",
       "1     75  the Democrats are defending only 10 seats whil...      1\n",
       "2     75  direction. Incumbents are running in seven of ...      1\n",
       "3  11757  Страна: КНДР Пока обсуждение в ООН сирийских п...      0\n",
       "4  11757  из подобных средств, к примеру, является между...      0"
      ]
     },
     "execution_count": 20,
     "metadata": {},
     "output_type": "execute_result"
    }
   ],
   "source": [
    "train_df = pd.DataFrame({'id':unnamed_l, 'text':train_l, 'label':label_l})\n",
    "train_df.head()"
   ]
  },
  {
   "cell_type": "code",
   "execution_count": 21,
   "metadata": {
    "colab": {
     "base_uri": "https://localhost:8080/"
    },
    "id": "pADk7MeWfAH8",
    "outputId": "a2730d2a-df56-4b4f-f726-5aabb6393205"
   },
   "outputs": [
    {
     "data": {
      "text/plain": [
       "(45707, 3)"
      ]
     },
     "execution_count": 21,
     "metadata": {},
     "output_type": "execute_result"
    }
   ],
   "source": [
    "train_df.shape"
   ]
  },
  {
   "cell_type": "code",
   "execution_count": 22,
   "metadata": {
    "colab": {
     "base_uri": "https://localhost:8080/"
    },
    "id": "w6Co8gz6e_6m",
    "outputId": "60cd5ee7-7e4f-4ebf-f39c-8589ee378fb9"
   },
   "outputs": [
    {
     "data": {
      "text/plain": [
       "(25059, 4)"
      ]
     },
     "execution_count": 22,
     "metadata": {},
     "output_type": "execute_result"
    }
   ],
   "source": [
    "df.shape"
   ]
  },
  {
   "cell_type": "code",
   "execution_count": 23,
   "metadata": {
    "colab": {
     "base_uri": "https://localhost:8080/"
    },
    "id": "-4BPpr2ye_z8",
    "outputId": "2264d02a-5a5f-492c-9370-af50a8d49ab1"
   },
   "outputs": [
    {
     "data": {
      "text/plain": [
       "(4073, 4073, 4073)"
      ]
     },
     "execution_count": 23,
     "metadata": {},
     "output_type": "execute_result"
    }
   ],
   "source": [
    "val_l = []\n",
    "val_label_l = []\n",
    "val_index_l = []\n",
    "unnamed_l = []\n",
    "for idx,row in df_val.iterrows():\n",
    "    for l in row['text_split']:\n",
    "        val_l.append(l)\n",
    "        val_label_l.append(row['label'])\n",
    "        val_index_l.append(idx)\n",
    "        unnamed_l.append(row['Unnamed: 0'])\n",
    "        \n",
    "len(val_l), len(val_label_l), len(val_index_l)"
   ]
  },
  {
   "cell_type": "code",
   "execution_count": 24,
   "metadata": {
    "colab": {
     "base_uri": "https://localhost:8080/",
     "height": 203
    },
    "id": "9UrmN3q0sPc1",
    "outputId": "b087054c-6827-47fa-a01d-c0a6c4598414"
   },
   "outputs": [
    {
     "data": {
      "text/html": [
       "<div>\n",
       "<style scoped>\n",
       "    .dataframe tbody tr th:only-of-type {\n",
       "        vertical-align: middle;\n",
       "    }\n",
       "\n",
       "    .dataframe tbody tr th {\n",
       "        vertical-align: top;\n",
       "    }\n",
       "\n",
       "    .dataframe thead th {\n",
       "        text-align: right;\n",
       "    }\n",
       "</style>\n",
       "<table border=\"1\" class=\"dataframe\">\n",
       "  <thead>\n",
       "    <tr style=\"text-align: right;\">\n",
       "      <th></th>\n",
       "      <th>id</th>\n",
       "      <th>text</th>\n",
       "      <th>label</th>\n",
       "    </tr>\n",
       "  </thead>\n",
       "  <tbody>\n",
       "    <tr>\n",
       "      <th>0</th>\n",
       "      <td>872</td>\n",
       "      <td>Originally appeared at The Blog Mire Following...</td>\n",
       "      <td>0</td>\n",
       "    </tr>\n",
       "    <tr>\n",
       "      <th>1</th>\n",
       "      <td>872</td>\n",
       "      <td>of my love for our armed forces. Our military ...</td>\n",
       "      <td>0</td>\n",
       "    </tr>\n",
       "    <tr>\n",
       "      <th>2</th>\n",
       "      <td>872</td>\n",
       "      <td>most exceptional quality. Alongside humility. ...</td>\n",
       "      <td>0</td>\n",
       "    </tr>\n",
       "    <tr>\n",
       "      <th>3</th>\n",
       "      <td>1262</td>\n",
       "      <td>Look at what is happening now across the Europ...</td>\n",
       "      <td>0</td>\n",
       "    </tr>\n",
       "    <tr>\n",
       "      <th>4</th>\n",
       "      <td>1262</td>\n",
       "      <td>to David Cameron, the former Prime Minister wh...</td>\n",
       "      <td>0</td>\n",
       "    </tr>\n",
       "  </tbody>\n",
       "</table>\n",
       "</div>"
      ],
      "text/plain": [
       "     id                                               text  label\n",
       "0   872  Originally appeared at The Blog Mire Following...      0\n",
       "1   872  of my love for our armed forces. Our military ...      0\n",
       "2   872  most exceptional quality. Alongside humility. ...      0\n",
       "3  1262  Look at what is happening now across the Europ...      0\n",
       "4  1262  to David Cameron, the former Prime Minister wh...      0"
      ]
     },
     "execution_count": 24,
     "metadata": {},
     "output_type": "execute_result"
    }
   ],
   "source": [
    "val_df = pd.DataFrame({'id':unnamed_l, 'text':val_l, 'label':val_label_l})\n",
    "val_df.head()"
   ]
  },
  {
   "cell_type": "code",
   "execution_count": 25,
   "metadata": {},
   "outputs": [],
   "source": [
    "df_test['text_split'] = df_test['text'].apply(get_split2)"
   ]
  },
  {
   "cell_type": "code",
   "execution_count": 26,
   "metadata": {},
   "outputs": [
    {
     "data": {
      "text/plain": [
       "(4058, 4058, 4058)"
      ]
     },
     "execution_count": 26,
     "metadata": {},
     "output_type": "execute_result"
    }
   ],
   "source": [
    "test_l = []\n",
    "test_label_l = []\n",
    "test_index_l = []\n",
    "unnamed_l = []\n",
    "for idx,row in df_test.iterrows():\n",
    "    for l in row['text_split']:\n",
    "        test_l.append(l)\n",
    "        test_label_l.append(row['label'])\n",
    "        test_index_l.append(idx)\n",
    "        unnamed_l.append(row['Unnamed: 0'])\n",
    "        \n",
    "len(test_l), len(test_label_l), len(test_index_l)"
   ]
  },
  {
   "cell_type": "code",
   "execution_count": 27,
   "metadata": {},
   "outputs": [
    {
     "data": {
      "text/html": [
       "<div>\n",
       "<style scoped>\n",
       "    .dataframe tbody tr th:only-of-type {\n",
       "        vertical-align: middle;\n",
       "    }\n",
       "\n",
       "    .dataframe tbody tr th {\n",
       "        vertical-align: top;\n",
       "    }\n",
       "\n",
       "    .dataframe thead th {\n",
       "        text-align: right;\n",
       "    }\n",
       "</style>\n",
       "<table border=\"1\" class=\"dataframe\">\n",
       "  <thead>\n",
       "    <tr style=\"text-align: right;\">\n",
       "      <th></th>\n",
       "      <th>id</th>\n",
       "      <th>text</th>\n",
       "      <th>label</th>\n",
       "    </tr>\n",
       "  </thead>\n",
       "  <tbody>\n",
       "    <tr>\n",
       "      <th>0</th>\n",
       "      <td>16343</td>\n",
       "      <td>SANA, Yemen — At least 15 people were killed o...</td>\n",
       "      <td>1</td>\n",
       "    </tr>\n",
       "    <tr>\n",
       "      <th>1</th>\n",
       "      <td>16343</td>\n",
       "      <td>by its French name, Médecins Sans Frontières —...</td>\n",
       "      <td>1</td>\n",
       "    </tr>\n",
       "    <tr>\n",
       "      <th>2</th>\n",
       "      <td>16343</td>\n",
       "      <td>were no military forces near the hospital. The...</td>\n",
       "      <td>1</td>\n",
       "    </tr>\n",
       "    <tr>\n",
       "      <th>3</th>\n",
       "      <td>1366</td>\n",
       "      <td>Understanding our own stories about race, and ...</td>\n",
       "      <td>1</td>\n",
       "    </tr>\n",
       "  </tbody>\n",
       "</table>\n",
       "</div>"
      ],
      "text/plain": [
       "      id                                               text  label\n",
       "0  16343  SANA, Yemen — At least 15 people were killed o...      1\n",
       "1  16343  by its French name, Médecins Sans Frontières —...      1\n",
       "2  16343  were no military forces near the hospital. The...      1\n",
       "3   1366  Understanding our own stories about race, and ...      1"
      ]
     },
     "execution_count": 27,
     "metadata": {},
     "output_type": "execute_result"
    }
   ],
   "source": [
    "test_df = pd.DataFrame({'id':unnamed_l, 'text':test_l, 'label':test_label_l})\n",
    "test_df.head(4)"
   ]
  },
  {
   "cell_type": "markdown",
   "metadata": {
    "id": "4aw5JdQgetaJ"
   },
   "source": [
    "## PyTorch Dataset and DataLoader"
   ]
  },
  {
   "cell_type": "code",
   "execution_count": 28,
   "metadata": {
    "id": "E2BPgRJ7YBK0"
   },
   "outputs": [],
   "source": [
    "\"\"\"\n",
    "This class is an extension from torch Dataset class to be able to use the standard pytorch\n",
    "DataLoader framework to train, validatem and test the model. Here, we used the encode_plus method \n",
    "to the hugging face tokenizer. It will do all the tokenization and preprocessing (add <CLS> and <SEP>, \n",
    "pad or truncate the text to a max length) and return a dictionary with the token_ids and attention_mask. \n",
    "This class will also return the actual text and the true label to help evaluate the model, later.\n",
    "\"\"\"\n",
    "class NewsDataset(Dataset):\n",
    "\n",
    "    def __init__(self, news_texts, labels, tokenizer, max_len):\n",
    "        self.news_texts = news_texts\n",
    "        self.labels = labels\n",
    "        self.tokenizer = tokenizer\n",
    "        self.max_len = max_len\n",
    "    \n",
    "    def __len__(self):\n",
    "        return len(self.news_texts)\n",
    "    \n",
    "    def __getitem__(self, item):\n",
    "        news_text_str = str(self.news_texts[item])\n",
    "        label = self.labels[item]\n",
    "\n",
    "        encoding = self.tokenizer.encode_plus(\n",
    "            news_text_str,\n",
    "            add_special_tokens=True,\n",
    "            max_length=self.max_len,\n",
    "            return_token_type_ids=False,\n",
    "            padding='max_length',\n",
    "            truncation=True,\n",
    "            return_attention_mask=True,\n",
    "            return_tensors='pt')\n",
    "\n",
    "        return {\n",
    "          'news_text_str': news_text_str,\n",
    "          'input_ids': encoding['input_ids'].flatten(),\n",
    "          'attention_mask': encoding['attention_mask'].flatten(),\n",
    "          'labels': torch.tensor(label, dtype=torch.long)}"
   ]
  },
  {
   "cell_type": "markdown",
   "metadata": {
    "id": "x2uwsvCYqDJK"
   },
   "source": [
    "The tokenizer is doing most of the heavy lifting for us. We also return the review texts, so it'll be easier to evaluate the predictions from our model."
   ]
  },
  {
   "cell_type": "code",
   "execution_count": 29,
   "metadata": {
    "id": "KEGqcvkuOuTX"
   },
   "outputs": [],
   "source": [
    "\"\"\"\n",
    "This is a helper function to prepare the dataset and rap it to the pytorch DataLoader\n",
    "\"\"\"\n",
    "def create_data_loader(df, tokenizer, max_len, batch_size):\n",
    "    dataset = NewsDataset(\n",
    "        news_texts=df.text.to_numpy(),\n",
    "        labels=df.label.to_numpy(),\n",
    "        tokenizer=tokenizer,\n",
    "        max_len=max_len)\n",
    "\n",
    "    return DataLoader(\n",
    "        dataset,\n",
    "        batch_size=batch_size,\n",
    "        num_workers=4)"
   ]
  },
  {
   "cell_type": "code",
   "execution_count": 30,
   "metadata": {
    "id": "vODDxMKsPHqI"
   },
   "outputs": [],
   "source": [
    "train_data_loader = create_data_loader(train_df, TOKENIZER, MAX_LEN, BATCH_SIZE)\n",
    "val_data_loader = create_data_loader(val_df, TOKENIZER, MAX_LEN, BATCH_SIZE)\n",
    "test_data_loader = create_data_loader(test_df, TOKENIZER, MAX_LEN, BATCH_SIZE)"
   ]
  },
  {
   "cell_type": "markdown",
   "metadata": {
    "id": "A6dlOptwqlhF"
   },
   "source": [
    "Let's have a look at an example batch from the training data loader:"
   ]
  },
  {
   "cell_type": "code",
   "execution_count": 31,
   "metadata": {
    "colab": {
     "base_uri": "https://localhost:8080/"
    },
    "id": "Y93ldSN47FeT",
    "outputId": "564b2d69-994f-48ef-cf82-8c89391474b6"
   },
   "outputs": [
    {
     "data": {
      "text/plain": [
       "dict_keys(['news_text_str', 'input_ids', 'attention_mask', 'labels'])"
      ]
     },
     "execution_count": 31,
     "metadata": {},
     "output_type": "execute_result"
    }
   ],
   "source": [
    "data = next(iter(train_data_loader))\n",
    "data.keys()"
   ]
  },
  {
   "cell_type": "code",
   "execution_count": 32,
   "metadata": {
    "colab": {
     "base_uri": "https://localhost:8080/"
    },
    "id": "IdU4YVqb7N8M",
    "outputId": "6665b463-d807-47bc-d394-ffb38a8a4ea1"
   },
   "outputs": [
    {
     "name": "stdout",
     "output_type": "stream",
     "text": [
      "torch.Size([16, 256])\n",
      "torch.Size([16, 256])\n",
      "torch.Size([16])\n"
     ]
    }
   ],
   "source": [
    "print(data['input_ids'].shape)\n",
    "print(data['attention_mask'].shape)\n",
    "print(data['labels'].shape)"
   ]
  },
  {
   "cell_type": "markdown",
   "metadata": {
    "id": "H63Y-TjyRC7S"
   },
   "source": [
    "## The Classification Model"
   ]
  },
  {
   "cell_type": "markdown",
   "metadata": {
    "id": "440Nd31VTHER"
   },
   "source": [
    "There are a lot of helpers that make using BERT easy with the Transformers library. For this task, we will use the basic [BertModel](https://huggingface.co/transformers/model_doc/bert.html#bertmodel) and build our classifier on top of it.\n",
    "\n",
    "The `last_hidden_state`, which we will not use here since we do classification, is a sequence of hidden states of the last layer of the model. Obtaining the `pooled_output`, what we need, is done by applying the [BertPooler](https://github.com/huggingface/transformers/blob/edf0582c0be87b60f94f41c659ea779876efc7be/src/transformers/modeling_bert.py#L426) on `last_hidden_state`:"
   ]
  },
  {
   "cell_type": "code",
   "execution_count": 33,
   "metadata": {
    "id": "z6J4LGXZq0IP"
   },
   "outputs": [],
   "source": [
    "\"\"\"\n",
    "This classifier take the input from BertModel last layer (after pooling) and use \n",
    "a dropout layer for some regularization and a fully-connected layer for our \n",
    "classification output. Note that we're returning the raw output of the last layer \n",
    "since it is required for the cross-entropy loss function in PyTorch.\n",
    "We also return the pooled_output so we can get the featurs (768 vector) during predection,\n",
    "which will be fed to LSTM\n",
    "\n",
    "last_hidden_state shape: [1, batch_size, model_last_hidden_state]\n",
    "pooled_output shape: [1, model_last_hidden_state] \n",
    "\"\"\"\n",
    "class NewsClassifier2(nn.Module):\n",
    "\n",
    "    def __init__(self, n_classes):\n",
    "        super(NewsClassifier2, self).__init__()\n",
    "        self.pretrained_model = PT_MODEL\n",
    "        self.drop = nn.Dropout(p=0.2)\n",
    "        self.out = nn.Linear(self.pretrained_model.config.hidden_size, n_classes)\n",
    "    \n",
    "    def forward(self, input_ids, attention_mask):\n",
    "        _, pooled_output = self.pretrained_model(input_ids=input_ids, attention_mask=attention_mask)\n",
    "        output = self.drop(pooled_output)\n",
    "        \n",
    "        return pooled_output, self.out(output)"
   ]
  },
  {
   "cell_type": "markdown",
   "metadata": {
    "id": "UJg8m3NQJahc"
   },
   "source": [
    "\n",
    "This should work like any other PyTorch model. Let's create an instance and move it to the GPU:"
   ]
  },
  {
   "cell_type": "code",
   "execution_count": 34,
   "metadata": {
    "id": "_8i3OMSvtzir"
   },
   "outputs": [],
   "source": [
    "model = NewsClassifier2(len(CLASS_NAMES))\n",
    "model = model.to(device)"
   ]
  },
  {
   "cell_type": "markdown",
   "metadata": {
    "id": "VCPCFDLlKIQd"
   },
   "source": [
    "We'll move the example batch of our training data to the GPU:"
   ]
  },
  {
   "cell_type": "code",
   "execution_count": 35,
   "metadata": {
    "id": "zoGUH8VZ-pPQ"
   },
   "outputs": [],
   "source": [
    "# loading a pretrained model\n",
    "\n",
    "# model = NewsClassifier2(len(CLASS_NAMES))\n",
    "# model.load_state_dict(torch.load(PRE_TRAINED_MODEL + '_best_model2.bin'))\n",
    "# model = model.to(device)"
   ]
  },
  {
   "cell_type": "markdown",
   "metadata": {
    "id": "Hr1EgkEtKOIB"
   },
   "source": [
    "To get the predicted probabilities from our trained model, we'll apply the softmax function to the outputs:"
   ]
  },
  {
   "cell_type": "markdown",
   "metadata": {
    "id": "g9xikRdtRN1N"
   },
   "source": [
    "### Training the model"
   ]
  },
  {
   "cell_type": "markdown",
   "metadata": {
    "id": "76g7FV85H-T8"
   },
   "source": [
    "For optimization, we'll use the [AdamW](https://huggingface.co/transformers/main_classes/optimizer_schedules.html#adamw) optimizer provided by Hugging Face. We'll also use a linear scheduler with no warmup steps:"
   ]
  },
  {
   "cell_type": "code",
   "execution_count": 36,
   "metadata": {
    "id": "5v-ArJ2fCCcU"
   },
   "outputs": [],
   "source": [
    "optimizer = transformers.AdamW(model.parameters(), lr=LEARNING_RATE, correct_bias=False)\n",
    "total_steps = len(train_data_loader) * EPOCHS\n",
    "\n",
    "scheduler = transformers.get_linear_schedule_with_warmup(\n",
    "    optimizer,\n",
    "    num_warmup_steps=0,\n",
    "    num_training_steps=total_steps)\n",
    "\n",
    "# We are doing classification. We can directly use CrossEntropyLoss from torch\n",
    "loss_fn = nn.CrossEntropyLoss().to(device)"
   ]
  },
  {
   "cell_type": "markdown",
   "metadata": {
    "id": "A8522g7JIu5J"
   },
   "source": [
    "\n",
    "Let's continue with writing a helper function for training our model for one epoch:"
   ]
  },
  {
   "cell_type": "code",
   "execution_count": 37,
   "metadata": {},
   "outputs": [],
   "source": [
    "\"\"\"\n",
    "This is a helper function that for each epoch it go through all the training data,\n",
    "do the backpropagation and optimization, and finally return the average accuracy \n",
    "and loss for that epoch.\n",
    "\"\"\"\n",
    "def train_epoch(\n",
    "    model, \n",
    "    data_loader, \n",
    "    loss_fn, \n",
    "    optimizer, \n",
    "    device, \n",
    "    scheduler, \n",
    "    n_examples\n",
    "  ):\n",
    "    model = model.train()\n",
    "\n",
    "    losses = []\n",
    "    correct_predictions = 0\n",
    "    \n",
    "    for i, d in enumerate(data_loader):\n",
    "        if (i > 0) and (i % 25 == 0):\n",
    "            print(f'{i} / {len(data_loader)}')\n",
    "            \n",
    "        input_ids = d[\"input_ids\"].to(device)\n",
    "        attention_mask = d[\"attention_mask\"].to(device)\n",
    "        labels = d[\"labels\"].to(device)\n",
    "\n",
    "        _, outputs = model(input_ids=input_ids, attention_mask=attention_mask)\n",
    "\n",
    "        _, preds = torch.max(outputs, dim=1)\n",
    "        loss = loss_fn(outputs, labels)\n",
    "\n",
    "        correct_predictions += torch.sum(preds == labels)\n",
    "        losses.append(loss.item())\n",
    "\n",
    "        loss.backward()\n",
    "        nn.utils.clip_grad_norm_(model.parameters(), max_norm=1.0)\n",
    "        optimizer.step()\n",
    "        scheduler.step()\n",
    "        optimizer.zero_grad()\n",
    "\n",
    "    return correct_predictions.double() / n_examples, np.mean(losses)"
   ]
  },
  {
   "cell_type": "code",
   "execution_count": 38,
   "metadata": {
    "id": "CXeRorVGIKre"
   },
   "outputs": [],
   "source": [
    "\"\"\"\n",
    "This is another helper function to evaluate the model on a given data loader.\n",
    "It's going to used after each epoch\n",
    "\"\"\"\n",
    "\n",
    "def eval_model(model, data_loader, loss_fn, device, n_examples):\n",
    "    model = model.eval()\n",
    "\n",
    "    losses = []\n",
    "    correct_predictions = 0\n",
    "\n",
    "    with torch.no_grad():\n",
    "        for d in data_loader:\n",
    "            input_ids = d[\"input_ids\"].to(device)\n",
    "            attention_mask = d[\"attention_mask\"].to(device)\n",
    "            labels = d[\"labels\"].to(device)\n",
    "\n",
    "            _, outputs = model(input_ids=input_ids, attention_mask=attention_mask)\n",
    "            \n",
    "            _, preds = torch.max(outputs, dim=1)\n",
    "\n",
    "            loss = loss_fn(outputs, labels)\n",
    "\n",
    "            correct_predictions += torch.sum(preds == labels)\n",
    "            losses.append(loss.item())\n",
    "\n",
    "    return correct_predictions.double() / n_examples, np.mean(losses)"
   ]
  },
  {
   "cell_type": "markdown",
   "metadata": {
    "id": "a_rdSDBHhhCh"
   },
   "source": [
    "Using the previous two function, we will write our training loop. We'll also store the training history (similar to Scikit-Learn Library)"
   ]
  },
  {
   "cell_type": "code",
   "execution_count": 39,
   "metadata": {},
   "outputs": [
    {
     "data": {
      "text/plain": [
       "((45707, 3), (21300, 5))"
      ]
     },
     "execution_count": 39,
     "metadata": {},
     "output_type": "execute_result"
    }
   ],
   "source": [
    "train_df.shape, df_train.shape"
   ]
  },
  {
   "cell_type": "code",
   "execution_count": 40,
   "metadata": {
    "colab": {
     "base_uri": "https://localhost:8080/"
    },
    "id": "1zhHoFNsxufs",
    "outputId": "231faebd-abe7-43e2-f04d-1dc2d6b6b0df",
    "scrolled": true
   },
   "outputs": [
    {
     "name": "stdout",
     "output_type": "stream",
     "text": [
      "Training Epoch 1/4\n",
      "********************\n",
      "25 / 2857\n",
      "50 / 2857\n",
      "75 / 2857\n",
      "100 / 2857\n",
      "125 / 2857\n",
      "150 / 2857\n",
      "175 / 2857\n",
      "200 / 2857\n",
      "225 / 2857\n",
      "250 / 2857\n",
      "275 / 2857\n",
      "300 / 2857\n",
      "325 / 2857\n",
      "350 / 2857\n",
      "375 / 2857\n",
      "400 / 2857\n",
      "425 / 2857\n",
      "450 / 2857\n",
      "475 / 2857\n",
      "500 / 2857\n",
      "525 / 2857\n",
      "550 / 2857\n",
      "575 / 2857\n",
      "600 / 2857\n",
      "625 / 2857\n",
      "650 / 2857\n",
      "675 / 2857\n",
      "700 / 2857\n",
      "725 / 2857\n",
      "750 / 2857\n",
      "775 / 2857\n",
      "800 / 2857\n",
      "825 / 2857\n",
      "850 / 2857\n",
      "875 / 2857\n",
      "900 / 2857\n",
      "925 / 2857\n",
      "950 / 2857\n",
      "975 / 2857\n",
      "1000 / 2857\n",
      "1025 / 2857\n",
      "1050 / 2857\n",
      "1075 / 2857\n",
      "1100 / 2857\n",
      "1125 / 2857\n",
      "1150 / 2857\n",
      "1175 / 2857\n",
      "1200 / 2857\n",
      "1225 / 2857\n",
      "1250 / 2857\n",
      "1275 / 2857\n",
      "1300 / 2857\n",
      "1325 / 2857\n",
      "1350 / 2857\n",
      "1375 / 2857\n",
      "1400 / 2857\n",
      "1425 / 2857\n",
      "1450 / 2857\n",
      "1475 / 2857\n",
      "1500 / 2857\n",
      "1525 / 2857\n",
      "1550 / 2857\n",
      "1575 / 2857\n",
      "1600 / 2857\n",
      "1625 / 2857\n",
      "1650 / 2857\n",
      "1675 / 2857\n",
      "1700 / 2857\n",
      "1725 / 2857\n",
      "1750 / 2857\n",
      "1775 / 2857\n",
      "1800 / 2857\n",
      "1825 / 2857\n",
      "1850 / 2857\n",
      "1875 / 2857\n",
      "1900 / 2857\n",
      "1925 / 2857\n",
      "1950 / 2857\n",
      "1975 / 2857\n",
      "2000 / 2857\n",
      "2025 / 2857\n",
      "2050 / 2857\n",
      "2075 / 2857\n",
      "2100 / 2857\n",
      "2125 / 2857\n",
      "2150 / 2857\n",
      "2175 / 2857\n",
      "2200 / 2857\n",
      "2225 / 2857\n",
      "2250 / 2857\n",
      "2275 / 2857\n",
      "2300 / 2857\n",
      "2325 / 2857\n",
      "2350 / 2857\n",
      "2375 / 2857\n",
      "2400 / 2857\n",
      "2425 / 2857\n",
      "2450 / 2857\n",
      "2475 / 2857\n",
      "2500 / 2857\n",
      "2525 / 2857\n",
      "2550 / 2857\n",
      "2575 / 2857\n",
      "2600 / 2857\n",
      "2625 / 2857\n",
      "2650 / 2857\n",
      "2675 / 2857\n",
      "2700 / 2857\n",
      "2725 / 2857\n",
      "2750 / 2857\n",
      "2775 / 2857\n",
      "2800 / 2857\n",
      "2825 / 2857\n",
      "2850 / 2857\n",
      "Train loss 0.19162352028166282  ---  Train accuracy 0.9323517185551446\n",
      "Val  loss 0.10481235073142064   ---   Val  accuracy 0.9653817824699239\n",
      "------------------------------------------------------------\n",
      "\n",
      "This epoch took time  0:20:40.404710\n",
      "\n",
      "Training Epoch 2/4\n",
      "********************\n",
      "25 / 2857\n",
      "50 / 2857\n",
      "75 / 2857\n",
      "100 / 2857\n",
      "125 / 2857\n",
      "150 / 2857\n",
      "175 / 2857\n",
      "200 / 2857\n",
      "225 / 2857\n",
      "250 / 2857\n",
      "275 / 2857\n",
      "300 / 2857\n",
      "325 / 2857\n",
      "350 / 2857\n",
      "375 / 2857\n",
      "400 / 2857\n",
      "425 / 2857\n",
      "450 / 2857\n",
      "475 / 2857\n",
      "500 / 2857\n",
      "525 / 2857\n",
      "550 / 2857\n",
      "575 / 2857\n",
      "600 / 2857\n",
      "625 / 2857\n",
      "650 / 2857\n",
      "675 / 2857\n",
      "700 / 2857\n",
      "725 / 2857\n",
      "750 / 2857\n",
      "775 / 2857\n",
      "800 / 2857\n",
      "825 / 2857\n",
      "850 / 2857\n",
      "875 / 2857\n",
      "900 / 2857\n",
      "925 / 2857\n",
      "950 / 2857\n",
      "975 / 2857\n",
      "1000 / 2857\n",
      "1025 / 2857\n",
      "1050 / 2857\n",
      "1075 / 2857\n",
      "1100 / 2857\n",
      "1125 / 2857\n",
      "1150 / 2857\n",
      "1175 / 2857\n",
      "1200 / 2857\n",
      "1225 / 2857\n",
      "1250 / 2857\n",
      "1275 / 2857\n",
      "1300 / 2857\n",
      "1325 / 2857\n",
      "1350 / 2857\n",
      "1375 / 2857\n",
      "1400 / 2857\n",
      "1425 / 2857\n",
      "1450 / 2857\n",
      "1475 / 2857\n",
      "1500 / 2857\n",
      "1525 / 2857\n",
      "1550 / 2857\n",
      "1575 / 2857\n",
      "1600 / 2857\n",
      "1625 / 2857\n",
      "1650 / 2857\n",
      "1675 / 2857\n",
      "1700 / 2857\n",
      "1725 / 2857\n",
      "1750 / 2857\n",
      "1775 / 2857\n",
      "1800 / 2857\n",
      "1825 / 2857\n",
      "1850 / 2857\n",
      "1875 / 2857\n",
      "1900 / 2857\n",
      "1925 / 2857\n",
      "1950 / 2857\n",
      "1975 / 2857\n",
      "2000 / 2857\n",
      "2025 / 2857\n",
      "2050 / 2857\n",
      "2075 / 2857\n",
      "2100 / 2857\n",
      "2125 / 2857\n",
      "2150 / 2857\n",
      "2175 / 2857\n",
      "2200 / 2857\n",
      "2225 / 2857\n",
      "2250 / 2857\n",
      "2275 / 2857\n",
      "2300 / 2857\n",
      "2325 / 2857\n",
      "2350 / 2857\n",
      "2375 / 2857\n",
      "2400 / 2857\n",
      "2425 / 2857\n",
      "2450 / 2857\n",
      "2475 / 2857\n",
      "2500 / 2857\n",
      "2525 / 2857\n",
      "2550 / 2857\n",
      "2575 / 2857\n",
      "2600 / 2857\n",
      "2625 / 2857\n",
      "2650 / 2857\n",
      "2675 / 2857\n",
      "2700 / 2857\n",
      "2725 / 2857\n",
      "2750 / 2857\n",
      "2775 / 2857\n",
      "2800 / 2857\n",
      "2825 / 2857\n",
      "2850 / 2857\n",
      "Train loss 0.08558994393458055  ---  Train accuracy 0.9762618417310258\n",
      "Val  loss 0.13518137506036118   ---   Val  accuracy 0.9710287257549718\n",
      "------------------------------------------------------------\n",
      "\n",
      "This epoch took time  0:20:36.570622\n",
      "\n",
      "Training Epoch 3/4\n",
      "********************\n",
      "25 / 2857\n",
      "50 / 2857\n",
      "75 / 2857\n",
      "100 / 2857\n",
      "125 / 2857\n",
      "150 / 2857\n",
      "175 / 2857\n",
      "200 / 2857\n",
      "225 / 2857\n",
      "250 / 2857\n",
      "275 / 2857\n",
      "300 / 2857\n",
      "325 / 2857\n",
      "350 / 2857\n",
      "375 / 2857\n",
      "400 / 2857\n",
      "425 / 2857\n",
      "450 / 2857\n",
      "475 / 2857\n",
      "500 / 2857\n",
      "525 / 2857\n",
      "550 / 2857\n",
      "575 / 2857\n",
      "600 / 2857\n",
      "625 / 2857\n",
      "650 / 2857\n",
      "675 / 2857\n",
      "700 / 2857\n",
      "725 / 2857\n",
      "750 / 2857\n",
      "775 / 2857\n",
      "800 / 2857\n",
      "825 / 2857\n",
      "850 / 2857\n",
      "875 / 2857\n",
      "900 / 2857\n",
      "925 / 2857\n",
      "950 / 2857\n",
      "975 / 2857\n",
      "1000 / 2857\n",
      "1025 / 2857\n",
      "1050 / 2857\n",
      "1075 / 2857\n",
      "1100 / 2857\n",
      "1125 / 2857\n",
      "1150 / 2857\n",
      "1175 / 2857\n",
      "1200 / 2857\n",
      "1225 / 2857\n",
      "1250 / 2857\n",
      "1275 / 2857\n",
      "1300 / 2857\n",
      "1325 / 2857\n",
      "1350 / 2857\n",
      "1375 / 2857\n",
      "1400 / 2857\n",
      "1425 / 2857\n",
      "1450 / 2857\n",
      "1475 / 2857\n",
      "1500 / 2857\n",
      "1525 / 2857\n",
      "1550 / 2857\n",
      "1575 / 2857\n",
      "1600 / 2857\n",
      "1625 / 2857\n",
      "1650 / 2857\n",
      "1675 / 2857\n",
      "1700 / 2857\n",
      "1725 / 2857\n",
      "1750 / 2857\n",
      "1775 / 2857\n",
      "1800 / 2857\n",
      "1825 / 2857\n",
      "1850 / 2857\n",
      "1875 / 2857\n",
      "1900 / 2857\n",
      "1925 / 2857\n",
      "1950 / 2857\n",
      "1975 / 2857\n",
      "2000 / 2857\n",
      "2025 / 2857\n",
      "2050 / 2857\n",
      "2075 / 2857\n",
      "2100 / 2857\n",
      "2125 / 2857\n",
      "2150 / 2857\n",
      "2175 / 2857\n",
      "2200 / 2857\n",
      "2225 / 2857\n",
      "2250 / 2857\n",
      "2275 / 2857\n",
      "2300 / 2857\n",
      "2325 / 2857\n",
      "2350 / 2857\n",
      "2375 / 2857\n",
      "2400 / 2857\n",
      "2425 / 2857\n",
      "2450 / 2857\n",
      "2475 / 2857\n",
      "2500 / 2857\n",
      "2525 / 2857\n",
      "2550 / 2857\n",
      "2575 / 2857\n",
      "2600 / 2857\n",
      "2625 / 2857\n",
      "2650 / 2857\n",
      "2675 / 2857\n",
      "2700 / 2857\n",
      "2725 / 2857\n",
      "2750 / 2857\n",
      "2775 / 2857\n",
      "2800 / 2857\n",
      "2825 / 2857\n",
      "2850 / 2857\n",
      "Train loss 0.03746994109406855  ---  Train accuracy 0.9914673901152996\n",
      "Val  loss 0.14652985649523792   ---   Val  accuracy 0.9683280137490793\n",
      "------------------------------------------------------------\n",
      "\n",
      "This epoch took time  0:20:35.158872\n",
      "\n",
      "Training Epoch 4/4\n",
      "********************\n",
      "25 / 2857\n",
      "50 / 2857\n",
      "75 / 2857\n",
      "100 / 2857\n",
      "125 / 2857\n",
      "150 / 2857\n",
      "175 / 2857\n",
      "200 / 2857\n",
      "225 / 2857\n",
      "250 / 2857\n",
      "275 / 2857\n",
      "300 / 2857\n",
      "325 / 2857\n",
      "350 / 2857\n",
      "375 / 2857\n",
      "400 / 2857\n",
      "425 / 2857\n",
      "450 / 2857\n",
      "475 / 2857\n",
      "500 / 2857\n",
      "525 / 2857\n",
      "550 / 2857\n",
      "575 / 2857\n",
      "600 / 2857\n",
      "625 / 2857\n",
      "650 / 2857\n",
      "675 / 2857\n",
      "700 / 2857\n",
      "725 / 2857\n",
      "750 / 2857\n",
      "775 / 2857\n",
      "800 / 2857\n",
      "825 / 2857\n",
      "850 / 2857\n",
      "875 / 2857\n",
      "900 / 2857\n",
      "925 / 2857\n",
      "950 / 2857\n",
      "975 / 2857\n",
      "1000 / 2857\n",
      "1025 / 2857\n",
      "1050 / 2857\n",
      "1075 / 2857\n",
      "1100 / 2857\n",
      "1125 / 2857\n",
      "1150 / 2857\n",
      "1175 / 2857\n",
      "1200 / 2857\n",
      "1225 / 2857\n",
      "1250 / 2857\n",
      "1275 / 2857\n",
      "1300 / 2857\n",
      "1325 / 2857\n",
      "1350 / 2857\n",
      "1375 / 2857\n",
      "1400 / 2857\n",
      "1425 / 2857\n",
      "1450 / 2857\n",
      "1475 / 2857\n",
      "1500 / 2857\n",
      "1525 / 2857\n",
      "1550 / 2857\n",
      "1575 / 2857\n",
      "1600 / 2857\n",
      "1625 / 2857\n",
      "1650 / 2857\n",
      "1675 / 2857\n",
      "1700 / 2857\n",
      "1725 / 2857\n",
      "1750 / 2857\n",
      "1775 / 2857\n",
      "1800 / 2857\n",
      "1825 / 2857\n",
      "1850 / 2857\n",
      "1875 / 2857\n",
      "1900 / 2857\n",
      "1925 / 2857\n",
      "1950 / 2857\n",
      "1975 / 2857\n",
      "2000 / 2857\n",
      "2025 / 2857\n",
      "2050 / 2857\n",
      "2075 / 2857\n",
      "2100 / 2857\n",
      "2125 / 2857\n",
      "2150 / 2857\n",
      "2175 / 2857\n",
      "2200 / 2857\n",
      "2225 / 2857\n",
      "2250 / 2857\n",
      "2275 / 2857\n",
      "2300 / 2857\n",
      "2325 / 2857\n",
      "2350 / 2857\n",
      "2375 / 2857\n",
      "2400 / 2857\n",
      "2425 / 2857\n",
      "2450 / 2857\n",
      "2475 / 2857\n",
      "2500 / 2857\n",
      "2525 / 2857\n",
      "2550 / 2857\n",
      "2575 / 2857\n",
      "2600 / 2857\n",
      "2625 / 2857\n",
      "2650 / 2857\n",
      "2675 / 2857\n",
      "2700 / 2857\n",
      "2725 / 2857\n",
      "2750 / 2857\n",
      "2775 / 2857\n",
      "2800 / 2857\n",
      "2825 / 2857\n",
      "2850 / 2857\n",
      "Train loss 0.016209561683578396  ---  Train accuracy 0.9964994420985844\n",
      "Val  loss 0.1813158052352389   ---   Val  accuracy 0.9742204763073902\n",
      "------------------------------------------------------------\n",
      "\n",
      "This epoch took time  0:20:34.644565\n",
      "\n",
      "CPU times: user 50min 27s, sys: 18min 50s, total: 1h 9min 17s\n",
      "Wall time: 1h 22min 37s\n"
     ]
    }
   ],
   "source": [
    "%%time\n",
    "\n",
    "history = defaultdict(list)\n",
    "best_accuracy = 0\n",
    "train_accuracy = 0\n",
    "\n",
    "for epoch in range(EPOCHS):\n",
    "    current_time = datetime.now()\n",
    "    print(f'Training Epoch {epoch + 1}/{EPOCHS}')\n",
    "    print('*' * 20)\n",
    "\n",
    "    train_acc, train_loss = train_epoch(\n",
    "        model,\n",
    "        train_data_loader,    \n",
    "        loss_fn, \n",
    "        optimizer, \n",
    "        device, \n",
    "        scheduler, \n",
    "        len(train_df))\n",
    "\n",
    "    print(f'Train loss {train_loss}  ---  Train accuracy {train_acc}')\n",
    "\n",
    "    val_acc, val_loss = eval_model(\n",
    "        model,\n",
    "        val_data_loader,\n",
    "        loss_fn, \n",
    "        device, \n",
    "        len(val_df))\n",
    "\n",
    "    print(f'Val  loss {val_loss}   ---   Val  accuracy {val_acc}')\n",
    "    print('-' * 60)\n",
    "    print()\n",
    "\n",
    "    print(\"This epoch took time \", datetime.now() - current_time)\n",
    "    print()\n",
    "\n",
    "    history['train_acc'].append(train_acc)\n",
    "    history['train_loss'].append(train_loss)\n",
    "    history['val_acc'].append(val_acc)\n",
    "    history['val_loss'].append(val_loss)\n",
    "\n",
    "    # Storing the state of the best model, indicated by the highest training and validation accuracy.\n",
    "    if train_acc > train_accuracy and val_acc >= best_accuracy:\n",
    "        torch.save(model.state_dict(), 'RoBERT_' + PRE_TRAINED_MODEL + '_best_model.bin')\n",
    "        train_accuracy = train_acc\n",
    "        best_accuracy = val_acc"
   ]
  },
  {
   "cell_type": "code",
   "execution_count": 41,
   "metadata": {},
   "outputs": [
    {
     "data": {
      "image/png": "[encoded data removed]",
      "text/plain": [
       "<Figure size 720x432 with 1 Axes>"
      ]
     },
     "metadata": {
      "image/png": {
       "height": 398,
       "width": 620
      }
     },
     "output_type": "display_data"
    }
   ],
   "source": [
    "# We can look at the training vs validation losses\n",
    "\n",
    "plt.plot(history['train_loss'], label='train loss')\n",
    "plt.plot(history['val_loss'], label='validation loss')\n",
    "\n",
    "plt.title('Training history')\n",
    "plt.ylabel('loss')\n",
    "plt.xlabel('Epoch')\n",
    "plt.legend()\n",
    "plt.ylim([0, 1]);"
   ]
  },
  {
   "cell_type": "code",
   "execution_count": 42,
   "metadata": {},
   "outputs": [
    {
     "data": {
      "image/png": "[encoded data removed]",
      "text/plain": [
       "<Figure size 720x432 with 1 Axes>"
      ]
     },
     "metadata": {
      "image/png": {
       "height": 398,
       "width": 620
      }
     },
     "output_type": "display_data"
    }
   ],
   "source": [
    "# We can look at the training vs validation accuracy:\n",
    "\n",
    "plt.plot(history['train_acc'], label='train accuracy')\n",
    "plt.plot(history['val_acc'], label='validation accuracy')\n",
    "\n",
    "plt.title('Training history')\n",
    "plt.ylabel('Accuracy')\n",
    "plt.xlabel('Epoch')\n",
    "plt.legend()\n",
    "plt.ylim([0, 1]);"
   ]
  },
  {
   "cell_type": "markdown",
   "metadata": {
    "id": "U3HZb3NWFtFf"
   },
   "source": [
    "### Evaluating the model\n",
    "\n",
    "So how good is our model on predicting sentiment? Let's start by calculating the accuracy on the test data:"
   ]
  },
  {
   "cell_type": "code",
   "execution_count": 43,
   "metadata": {
    "colab": {
     "base_uri": "https://localhost:8080/"
    },
    "id": "jS3gJ_qBEljD",
    "outputId": "71cad27f-8f00-4f31-841d-026286f2aa3c"
   },
   "outputs": [
    {
     "name": "stdout",
     "output_type": "stream",
     "text": [
      "Accuracy =  96.0325283390833 %\n",
      "test_loss =  0.27176969310444543\n",
      "CPU times: user 13.3 s, sys: 5.37 s, total: 18.6 s\n",
      "Wall time: 34.8 s\n"
     ]
    }
   ],
   "source": [
    "%%time\n",
    "test_acc, test_loss = eval_model(model, test_data_loader, loss_fn, device, len(test_df))\n",
    "\n",
    "print('Accuracy = ' , test_acc.item() * 100, '%')\n",
    "print('test_loss = ' , test_loss.item())"
   ]
  },
  {
   "cell_type": "code",
   "execution_count": 44,
   "metadata": {
    "id": "EgR6MuNS8jr_"
   },
   "outputs": [],
   "source": [
    "\"\"\"\n",
    "The following is a helper function to get the predictions from our model using \n",
    "the test portion of the data.\n",
    "\"\"\"\n",
    "\n",
    "def get_predictions(model, data_loader):\n",
    "    model = model.eval()\n",
    "    \n",
    "    news_text_strs = []\n",
    "    predictions = []\n",
    "    prediction_probs = []\n",
    "    real_values = []\n",
    "\n",
    "    with torch.no_grad():\n",
    "        for d in data_loader:\n",
    "\n",
    "            texts = d[\"news_text_str\"]\n",
    "            input_ids = d[\"input_ids\"].to(device)\n",
    "            attention_mask = d[\"attention_mask\"].to(device)\n",
    "            labels = d[\"labels\"].to(device)\n",
    "\n",
    "            _, outputs = model(input_ids=input_ids, attention_mask=attention_mask)\n",
    "            \n",
    "            _, preds = torch.max(outputs, dim=1)\n",
    "\n",
    "            probs = F.softmax(outputs, dim=1)\n",
    "\n",
    "            news_text_strs.extend(texts)\n",
    "            predictions.extend(preds)\n",
    "            prediction_probs.extend(probs)\n",
    "            real_values.extend(labels)\n",
    "\n",
    "    predictions = torch.stack(predictions).cpu()\n",
    "    prediction_probs = torch.stack(prediction_probs).cpu()\n",
    "    real_values = torch.stack(real_values).cpu()\n",
    "    \n",
    "    return news_text_strs, predictions, prediction_probs, real_values"
   ]
  },
  {
   "cell_type": "code",
   "execution_count": 45,
   "metadata": {
    "id": "zHdPZr60-0c_"
   },
   "outputs": [
    {
     "name": "stdout",
     "output_type": "stream",
     "text": [
      "CPU times: user 12.5 s, sys: 5.06 s, total: 17.6 s\n",
      "Wall time: 33.8 s\n"
     ]
    }
   ],
   "source": [
    "%%time\n",
    "y_news_text_strs, y_pred, y_pred_probs, y_test = get_predictions(model, test_data_loader)"
   ]
  },
  {
   "cell_type": "code",
   "execution_count": 46,
   "metadata": {
    "colab": {
     "base_uri": "https://localhost:8080/"
    },
    "id": "Tte-1JdyyDxU",
    "outputId": "1102b936-906d-46d6-cdff-42e442746430"
   },
   "outputs": [
    {
     "name": "stdout",
     "output_type": "stream",
     "text": [
      "              precision    recall  f1-score   support\n",
      "\n",
      "        FAKE     0.9596    0.9414    0.9504      1638\n",
      "        REAL     0.9608    0.9731    0.9669      2420\n",
      "\n",
      "    accuracy                         0.9603      4058\n",
      "   macro avg     0.9602    0.9573    0.9587      4058\n",
      "weighted avg     0.9603    0.9603    0.9603      4058\n",
      "\n"
     ]
    }
   ],
   "source": [
    "print(classification_report(y_test, y_pred, target_names=CLASS_NAMES, digits=4)) "
   ]
  },
  {
   "cell_type": "code",
   "execution_count": 47,
   "metadata": {
    "colab": {
     "base_uri": "https://localhost:8080/"
    },
    "id": "BRaNsUSms1bZ",
    "outputId": "234ef217-0afc-4379-85b7-bcacdb26d8fc"
   },
   "outputs": [
    {
     "name": "stdout",
     "output_type": "stream",
     "text": [
      "MCC =  91.74536897706875 %\n"
     ]
    }
   ],
   "source": [
    "# Compute the Matthews correlation coefficient (MCC)\n",
    "\n",
    "from sklearn.metrics import matthews_corrcoef\n",
    "mcc = matthews_corrcoef(y_test, y_pred)\n",
    "print('MCC = ', mcc * 100, '%') "
   ]
  },
  {
   "cell_type": "code",
   "execution_count": 48,
   "metadata": {
    "colab": {
     "base_uri": "https://localhost:8080/",
     "height": 416
    },
    "id": "6d1qxsc__DTh",
    "outputId": "9d18a3c3-6c6e-405c-ae80-c7fd9c24b003"
   },
   "outputs": [
    {
     "data": {
      "image/png": "[encoded data removed]",
      "text/plain": [
       "<Figure size 720x432 with 2 Axes>"
      ]
     },
     "metadata": {
      "image/png": {
       "height": 396,
       "width": 609
      }
     },
     "output_type": "display_data"
    }
   ],
   "source": [
    "def show_confusion_matrix(confusion_matrix):\n",
    "    hmap = sns.heatmap(confusion_matrix, annot=True, fmt=\"d\", cmap=\"Greens\")\n",
    "    hmap.yaxis.set_ticklabels(hmap.yaxis.get_ticklabels(), rotation=0, ha='right')\n",
    "    hmap.xaxis.set_ticklabels(hmap.xaxis.get_ticklabels(), rotation=30, ha='right')\n",
    "    plt.xlabel('True label')\n",
    "    plt.ylabel('Predicted label');\n",
    "\n",
    "cm = confusion_matrix(y_test, y_pred)\n",
    "df_cm = pd.DataFrame(cm, index=CLASS_NAMES, columns=CLASS_NAMES)\n",
    "show_confusion_matrix(df_cm)"
   ]
  },
  {
   "cell_type": "markdown",
   "metadata": {
    "id": "CnA5Yf6Hz6uB"
   },
   "source": [
    "## Extracting the features from the pretrained model for LSTM"
   ]
  },
  {
   "cell_type": "markdown",
   "metadata": {},
   "source": [
    "Next, we will extract the features (pooled_output) for each chunk as a vector/list of 768 item. Then we group the chunks from the same documents together in a single list and store the result back to a data frame. [source](https://medium.com/@armandj.olivares/using-bert-for-classifying-documents-with-long-texts-5c3e7b04573d)"
   ]
  },
  {
   "cell_type": "code",
   "execution_count": 49,
   "metadata": {
    "id": "vBPJ2D7kzPcj"
   },
   "outputs": [],
   "source": [
    "\"\"\"\n",
    "The following is a helper function to get the predictions from our model using \n",
    "the test portion of the data.\n",
    "\"\"\"\n",
    "\n",
    "def get_predictions2(model, data_loader):\n",
    "    \n",
    "    model = model.eval()\n",
    "    \n",
    "    featurs = []\n",
    "    \n",
    "    with torch.no_grad():\n",
    "        for d in data_loader:\n",
    "\n",
    "            texts = d[\"news_text_str\"]\n",
    "            input_ids = d[\"input_ids\"].to(device)\n",
    "            attention_mask = d[\"attention_mask\"].to(device)\n",
    "            labels = d[\"labels\"].to(device)\n",
    "\n",
    "            features, _ = model(input_ids=input_ids, attention_mask=attention_mask)\n",
    "            \n",
    "            featurs.extend(features)\n",
    "\n",
    "    featurs = torch.stack(featurs).cpu()\n",
    "\n",
    "    return featurs"
   ]
  },
  {
   "cell_type": "code",
   "execution_count": 50,
   "metadata": {
    "colab": {
     "base_uri": "https://localhost:8080/"
    },
    "id": "-1q8LD-O0BP7",
    "outputId": "1703eb76-a4c3-43ed-c787-15e9e89f1f98"
   },
   "outputs": [
    {
     "name": "stdout",
     "output_type": "stream",
     "text": [
      "CPU times: user 2min 18s, sys: 53.8 s, total: 3min 12s\n",
      "Wall time: 6min 14s\n"
     ]
    }
   ],
   "source": [
    "%%time\n",
    "\n",
    "tr_emb = get_predictions2(model, train_data_loader)"
   ]
  },
  {
   "cell_type": "code",
   "execution_count": 51,
   "metadata": {
    "colab": {
     "base_uri": "https://localhost:8080/"
    },
    "id": "L9ADp84XHcPs",
    "outputId": "4eeb005d-c9a9-4fea-de2d-6d76a2fc827e"
   },
   "outputs": [
    {
     "data": {
      "text/plain": [
       "45707"
      ]
     },
     "execution_count": 51,
     "metadata": {},
     "output_type": "execute_result"
    }
   ],
   "source": [
    "len(tr_emb)"
   ]
  },
  {
   "cell_type": "code",
   "execution_count": 52,
   "metadata": {
    "id": "a5a_yVoBWG6p"
   },
   "outputs": [],
   "source": [
    "tr_emb2 = np.array(tr_emb)"
   ]
  },
  {
   "cell_type": "code",
   "execution_count": 53,
   "metadata": {
    "colab": {
     "base_uri": "https://localhost:8080/"
    },
    "id": "jnHjoKLw3LaP",
    "outputId": "efb2b579-5286-4840-ac1d-428bf2f6ce04"
   },
   "outputs": [
    {
     "data": {
      "text/plain": [
       "(45707, 768)"
      ]
     },
     "execution_count": 53,
     "metadata": {},
     "output_type": "execute_result"
    }
   ],
   "source": [
    "tr_emb2.shape"
   ]
  },
  {
   "cell_type": "code",
   "execution_count": 54,
   "metadata": {
    "colab": {
     "base_uri": "https://localhost:8080/"
    },
    "id": "r8kw2XXBWyWm",
    "outputId": "aae2dc6f-e8f9-4deb-cad4-29f8b3b00656"
   },
   "outputs": [
    {
     "data": {
      "text/plain": [
       "(21300, 5)"
      ]
     },
     "execution_count": 54,
     "metadata": {},
     "output_type": "execute_result"
    }
   ],
   "source": [
    "df_train.shape"
   ]
  },
  {
   "cell_type": "code",
   "execution_count": 55,
   "metadata": {
    "colab": {
     "base_uri": "https://localhost:8080/"
    },
    "id": "tzfaRKt50BhV",
    "outputId": "808f6915-99fb-4902-8d40-7ce73192b747"
   },
   "outputs": [
    {
     "name": "stdout",
     "output_type": "stream",
     "text": [
      "CPU times: user 12.6 s, sys: 4.86 s, total: 17.4 s\n",
      "Wall time: 34 s\n"
     ]
    }
   ],
   "source": [
    "%%time\n",
    "val_emb = get_predictions2(model, val_data_loader)\n",
    "val_emb2 = np.array(val_emb)"
   ]
  },
  {
   "cell_type": "code",
   "execution_count": 56,
   "metadata": {
    "colab": {
     "base_uri": "https://localhost:8080/"
    },
    "id": "MYorK2jW0B1b",
    "outputId": "ff85ca18-968c-4de6-bf8c-5860685d7976"
   },
   "outputs": [
    {
     "data": {
      "text/plain": [
       "((4073, 768), (45707, 768))"
      ]
     },
     "execution_count": 56,
     "metadata": {},
     "output_type": "execute_result"
    }
   ],
   "source": [
    "val_emb2.shape, tr_emb2.shape"
   ]
  },
  {
   "cell_type": "code",
   "execution_count": 57,
   "metadata": {
    "colab": {
     "base_uri": "https://localhost:8080/"
    },
    "id": "IP0RP1la0Bxp",
    "outputId": "ef9d8a0b-d6a6-4901-dd54-9b40f924b90b"
   },
   "outputs": [
    {
     "data": {
      "text/plain": [
       "21300"
      ]
     },
     "execution_count": 57,
     "metadata": {},
     "output_type": "execute_result"
    }
   ],
   "source": [
    "aux = -1\n",
    "len_l = 0\n",
    "train_x = {}\n",
    "for l, emb in zip(index_l, tr_emb2):\n",
    "    if l in train_x.keys():\n",
    "        train_x[l]  =np.vstack([train_x[l], emb])\n",
    "    else:\n",
    "        train_x[l] = [emb]\n",
    "\n",
    "len(train_x.keys())"
   ]
  },
  {
   "cell_type": "code",
   "execution_count": 58,
   "metadata": {
    "colab": {
     "base_uri": "https://localhost:8080/",
     "height": 203
    },
    "id": "vfmZ1uML0BtW",
    "outputId": "6cb57e5f-2811-4bd1-8c86-c7deac31534a"
   },
   "outputs": [
    {
     "data": {
      "text/html": [
       "<div>\n",
       "<style scoped>\n",
       "    .dataframe tbody tr th:only-of-type {\n",
       "        vertical-align: middle;\n",
       "    }\n",
       "\n",
       "    .dataframe tbody tr th {\n",
       "        vertical-align: top;\n",
       "    }\n",
       "\n",
       "    .dataframe thead th {\n",
       "        text-align: right;\n",
       "    }\n",
       "</style>\n",
       "<table border=\"1\" class=\"dataframe\">\n",
       "  <thead>\n",
       "    <tr style=\"text-align: right;\">\n",
       "      <th></th>\n",
       "      <th>emb</th>\n",
       "      <th>label</th>\n",
       "    </tr>\n",
       "  </thead>\n",
       "  <tbody>\n",
       "    <tr>\n",
       "      <th>0</th>\n",
       "      <td>[[0.9514978, -0.6538513, -0.21186787, 0.449128...</td>\n",
       "      <td>1</td>\n",
       "    </tr>\n",
       "    <tr>\n",
       "      <th>1</th>\n",
       "      <td>[[-0.9200754, 0.86085045, 0.18401766, -0.60036...</td>\n",
       "      <td>0</td>\n",
       "    </tr>\n",
       "    <tr>\n",
       "      <th>2</th>\n",
       "      <td>[[0.95578766, -0.6672168, -0.25877315, 0.34283...</td>\n",
       "      <td>1</td>\n",
       "    </tr>\n",
       "    <tr>\n",
       "      <th>3</th>\n",
       "      <td>[[0.961882, -0.70344204, -0.25340143, 0.503169...</td>\n",
       "      <td>1</td>\n",
       "    </tr>\n",
       "    <tr>\n",
       "      <th>4</th>\n",
       "      <td>[[0.9619693, -0.6754576, -0.2592783, 0.4131367...</td>\n",
       "      <td>1</td>\n",
       "    </tr>\n",
       "  </tbody>\n",
       "</table>\n",
       "</div>"
      ],
      "text/plain": [
       "                                                 emb  label\n",
       "0  [[0.9514978, -0.6538513, -0.21186787, 0.449128...      1\n",
       "1  [[-0.9200754, 0.86085045, 0.18401766, -0.60036...      0\n",
       "2  [[0.95578766, -0.6672168, -0.25877315, 0.34283...      1\n",
       "3  [[0.961882, -0.70344204, -0.25340143, 0.503169...      1\n",
       "4  [[0.9619693, -0.6754576, -0.2592783, 0.4131367...      1"
      ]
     },
     "execution_count": 58,
     "metadata": {},
     "output_type": "execute_result"
    }
   ],
   "source": [
    "train_l_final = []\n",
    "label_l_final = []\n",
    "for k in train_x.keys():\n",
    "    train_l_final.append(train_x[k])\n",
    "    label_l_final.append(df_train.loc[k]['label'])\n",
    "\n",
    "df_train2 = pd.DataFrame({'emb': train_l_final, 'label': label_l_final, })\n",
    "df_train2.head()"
   ]
  },
  {
   "cell_type": "code",
   "execution_count": 59,
   "metadata": {
    "colab": {
     "base_uri": "https://localhost:8080/"
    },
    "id": "sDwkOzioW6Ym",
    "outputId": "5763d562-3875-43f7-dd7f-fe9a5d2c1d4e"
   },
   "outputs": [
    {
     "data": {
      "text/plain": [
       "((21300, 5), (21300, 2))"
      ]
     },
     "execution_count": 59,
     "metadata": {},
     "output_type": "execute_result"
    }
   ],
   "source": [
    "df_train.shape, df_train2.shape"
   ]
  },
  {
   "cell_type": "code",
   "execution_count": 60,
   "metadata": {
    "colab": {
     "base_uri": "https://localhost:8080/"
    },
    "id": "a5DLF21lX2k_",
    "outputId": "4791b994-f72c-418d-fa02-a114ace7d1b7"
   },
   "outputs": [
    {
     "data": {
      "text/plain": [
       "(1879, 5)"
      ]
     },
     "execution_count": 60,
     "metadata": {},
     "output_type": "execute_result"
    }
   ],
   "source": [
    "df_val.shape"
   ]
  },
  {
   "cell_type": "code",
   "execution_count": 61,
   "metadata": {
    "colab": {
     "base_uri": "https://localhost:8080/",
     "height": 203
    },
    "id": "FTfahkNI0wOC",
    "outputId": "54a9cd8c-fdc4-4595-f45c-6322c06704c8"
   },
   "outputs": [
    {
     "data": {
      "text/html": [
       "<div>\n",
       "<style scoped>\n",
       "    .dataframe tbody tr th:only-of-type {\n",
       "        vertical-align: middle;\n",
       "    }\n",
       "\n",
       "    .dataframe tbody tr th {\n",
       "        vertical-align: top;\n",
       "    }\n",
       "\n",
       "    .dataframe thead th {\n",
       "        text-align: right;\n",
       "    }\n",
       "</style>\n",
       "<table border=\"1\" class=\"dataframe\">\n",
       "  <thead>\n",
       "    <tr style=\"text-align: right;\">\n",
       "      <th></th>\n",
       "      <th>emb</th>\n",
       "      <th>label</th>\n",
       "    </tr>\n",
       "  </thead>\n",
       "  <tbody>\n",
       "    <tr>\n",
       "      <th>0</th>\n",
       "      <td>[[-0.89384913, 0.8322326, -0.6337785, 0.023502...</td>\n",
       "      <td>0</td>\n",
       "    </tr>\n",
       "    <tr>\n",
       "      <th>1</th>\n",
       "      <td>[[-0.9101917, 0.86195, 0.07607714, -0.4764804,...</td>\n",
       "      <td>0</td>\n",
       "    </tr>\n",
       "    <tr>\n",
       "      <th>2</th>\n",
       "      <td>[[0.9555731, -0.68706244, -0.3298565, 0.488874...</td>\n",
       "      <td>1</td>\n",
       "    </tr>\n",
       "    <tr>\n",
       "      <th>3</th>\n",
       "      <td>[[0.95765007, -0.7186953, -0.51022136, 0.58486...</td>\n",
       "      <td>1</td>\n",
       "    </tr>\n",
       "    <tr>\n",
       "      <th>4</th>\n",
       "      <td>[[0.95544696, -0.6499601, -0.5378356, 0.420369...</td>\n",
       "      <td>1</td>\n",
       "    </tr>\n",
       "  </tbody>\n",
       "</table>\n",
       "</div>"
      ],
      "text/plain": [
       "                                                 emb  label\n",
       "0  [[-0.89384913, 0.8322326, -0.6337785, 0.023502...      0\n",
       "1  [[-0.9101917, 0.86195, 0.07607714, -0.4764804,...      0\n",
       "2  [[0.9555731, -0.68706244, -0.3298565, 0.488874...      1\n",
       "3  [[0.95765007, -0.7186953, -0.51022136, 0.58486...      1\n",
       "4  [[0.95544696, -0.6499601, -0.5378356, 0.420369...      1"
      ]
     },
     "execution_count": 61,
     "metadata": {},
     "output_type": "execute_result"
    }
   ],
   "source": [
    "aux = -1\n",
    "len_l = 0\n",
    "val_x = {}\n",
    "\n",
    "for l, emb in zip(val_index_l, val_emb2):\n",
    "    if l in val_x.keys():\n",
    "        val_x[l] = np.vstack([val_x[l], emb])\n",
    "    else:\n",
    "        val_x[l] = [emb]\n",
    "\n",
    "\n",
    "val_l_final = []\n",
    "vlabel_l_final = []\n",
    "for k in val_x.keys():\n",
    "    val_l_final.append(val_x[k])\n",
    "    vlabel_l_final.append(df_val.loc[k]['label'])\n",
    "\n",
    "df_val2 = pd.DataFrame({'emb': val_l_final, 'label': vlabel_l_final})\n",
    "df_val2.head()"
   ]
  },
  {
   "cell_type": "code",
   "execution_count": 62,
   "metadata": {
    "colab": {
     "base_uri": "https://localhost:8080/"
    },
    "id": "A8Cr-yzL0wJe",
    "outputId": "88ee557d-281b-4998-f746-7b95bd1f3bab"
   },
   "outputs": [
    {
     "data": {
      "text/plain": [
       "(1879, 2)"
      ]
     },
     "execution_count": 62,
     "metadata": {},
     "output_type": "execute_result"
    }
   ],
   "source": [
    "df_val2.shape"
   ]
  },
  {
   "cell_type": "code",
   "execution_count": 63,
   "metadata": {
    "id": "pWWnqHAT0Bpq"
   },
   "outputs": [],
   "source": [
    "# import sys\n",
    "# import numpy as np\n",
    "# np.set_printoptions(threshold=np.inf)\n",
    "# np.set_printoptions(threshold=sys.maxsize)\n",
    "\n",
    "# df_train2.to_csv('train_features3.csv')\n",
    "# df_val2.to_csv('val_features3.csv')"
   ]
  },
  {
   "cell_type": "code",
   "execution_count": 64,
   "metadata": {
    "id": "Etnk1PG90Bm7"
   },
   "outputs": [],
   "source": [
    "s = df_train2['emb'][0]"
   ]
  },
  {
   "cell_type": "code",
   "execution_count": 65,
   "metadata": {
    "colab": {
     "base_uri": "https://localhost:8080/"
    },
    "id": "BYUb81uOZMDd",
    "outputId": "637cad99-238f-402b-a927-e821fc72a7c6"
   },
   "outputs": [
    {
     "data": {
      "text/plain": [
       "(3,\n",
       " array([[ 0.9514978 , -0.6538513 , -0.21186787, ..., -0.08126461,\n",
       "          0.51559407, -0.65404487],\n",
       "        [ 0.9319207 , -0.5265538 ,  0.8380826 , ...,  0.9384872 ,\n",
       "          0.94314003,  0.29693833],\n",
       "        [ 0.94586927, -0.6372421 , -0.06663259, ..., -0.01015935,\n",
       "          0.50097626, -0.5474496 ]], dtype=float32))"
      ]
     },
     "execution_count": 65,
     "metadata": {},
     "output_type": "execute_result"
    }
   ],
   "source": [
    "len(s),s"
   ]
  },
  {
   "cell_type": "code",
   "execution_count": 66,
   "metadata": {
    "id": "7pYYbCQvZMHT"
   },
   "outputs": [
    {
     "data": {
      "text/plain": [
       "(3, 1)"
      ]
     },
     "execution_count": 66,
     "metadata": {},
     "output_type": "execute_result"
    }
   ],
   "source": [
    "v = []\n",
    "for i in df_train2['emb']:\n",
    "    v.append(len(i))\n",
    "    \n",
    "max(v), min(v)"
   ]
  },
  {
   "cell_type": "code",
   "execution_count": 67,
   "metadata": {
    "id": "8kxPQx1uZL9r"
   },
   "outputs": [
    {
     "data": {
      "text/html": [
       "<div>\n",
       "<style scoped>\n",
       "    .dataframe tbody tr th:only-of-type {\n",
       "        vertical-align: middle;\n",
       "    }\n",
       "\n",
       "    .dataframe tbody tr th {\n",
       "        vertical-align: top;\n",
       "    }\n",
       "\n",
       "    .dataframe thead th {\n",
       "        text-align: right;\n",
       "    }\n",
       "</style>\n",
       "<table border=\"1\" class=\"dataframe\">\n",
       "  <thead>\n",
       "    <tr style=\"text-align: right;\">\n",
       "      <th></th>\n",
       "      <th>emb</th>\n",
       "      <th>label</th>\n",
       "    </tr>\n",
       "  </thead>\n",
       "  <tbody>\n",
       "    <tr>\n",
       "      <th>0</th>\n",
       "      <td>[[0.9648086, -0.71013045, -0.19503076, 0.51197...</td>\n",
       "      <td>1</td>\n",
       "    </tr>\n",
       "    <tr>\n",
       "      <th>1</th>\n",
       "      <td>[[0.77177095, -0.36167786, 0.92867404, 0.73477...</td>\n",
       "      <td>1</td>\n",
       "    </tr>\n",
       "    <tr>\n",
       "      <th>2</th>\n",
       "      <td>[[-0.92856085, 0.87233853, 0.17697775, -0.5332...</td>\n",
       "      <td>0</td>\n",
       "    </tr>\n",
       "    <tr>\n",
       "      <th>3</th>\n",
       "      <td>[[-0.912634, 0.84681594, -0.35113016, -0.27693...</td>\n",
       "      <td>0</td>\n",
       "    </tr>\n",
       "    <tr>\n",
       "      <th>4</th>\n",
       "      <td>[[0.9419792, -0.56377137, -0.19478491, 0.20573...</td>\n",
       "      <td>1</td>\n",
       "    </tr>\n",
       "  </tbody>\n",
       "</table>\n",
       "</div>"
      ],
      "text/plain": [
       "                                                 emb  label\n",
       "0  [[0.9648086, -0.71013045, -0.19503076, 0.51197...      1\n",
       "1  [[0.77177095, -0.36167786, 0.92867404, 0.73477...      1\n",
       "2  [[-0.92856085, 0.87233853, 0.17697775, -0.5332...      0\n",
       "3  [[-0.912634, 0.84681594, -0.35113016, -0.27693...      0\n",
       "4  [[0.9419792, -0.56377137, -0.19478491, 0.20573...      1"
      ]
     },
     "execution_count": 67,
     "metadata": {},
     "output_type": "execute_result"
    }
   ],
   "source": [
    "test_emb = get_predictions2(model, test_data_loader)\n",
    "test_emb2 = np.array(test_emb)\n",
    "\n",
    "aux = -1\n",
    "len_l = 0\n",
    "test_x = {}\n",
    "\n",
    "for l, emb in zip(test_index_l, test_emb2):\n",
    "    if l in test_x.keys():\n",
    "        test_x[l] = np.vstack([test_x[l], emb])\n",
    "    else:\n",
    "        test_x[l] = [emb]\n",
    "\n",
    "\n",
    "test_l_final = []\n",
    "tlabel_l_final = []\n",
    "for k in test_x.keys():\n",
    "    test_l_final.append(test_x[k])\n",
    "    tlabel_l_final.append(df_test.loc[k]['label'])\n",
    "\n",
    "df_test2 = pd.DataFrame({'emb': test_l_final, 'label': tlabel_l_final})\n",
    "df_test2.head()"
   ]
  },
  {
   "cell_type": "code",
   "execution_count": 68,
   "metadata": {},
   "outputs": [],
   "source": [
    "# df_test2.to_csv('test_features3.csv')"
   ]
  },
  {
   "cell_type": "markdown",
   "metadata": {},
   "source": [
    "## LSTM"
   ]
  },
  {
   "cell_type": "code",
   "execution_count": 69,
   "metadata": {},
   "outputs": [],
   "source": [
    "MASK_VALUE = -99."
   ]
  },
  {
   "cell_type": "markdown",
   "metadata": {},
   "source": [
    "The code commented out are an architectures we debated trying, but didn't get to. It consisted of using 3 concatenated lstm layers instead of 1."
   ]
  },
  {
   "cell_type": "code",
   "execution_count": 70,
   "metadata": {},
   "outputs": [],
   "source": [
    "# for i in range(3):\n",
    "#   df_train2['lstm' + str(i)] = df_train2.emb.apply(lambda x: x[i] if i < len(x) else np.ones(768) * MASK_VALUE)\n",
    "\n",
    "# for i in range(3):\n",
    "#   df_val2['lstm' + str(i)] = df_val2.emb.apply(lambda x: x[i] if i < len(x) else np.ones(768) * MASK_VALUE)\n",
    "\n",
    "# neuron_ratios = df_train2.emb.apply(len).value_counts()\n",
    "# neuron_ratios /= neuron_ratios.sum()\n",
    "# 500 * neuron_ratios"
   ]
  },
  {
   "cell_type": "code",
   "execution_count": 71,
   "metadata": {},
   "outputs": [],
   "source": [
    "# from keras import layers, Model\n",
    "\n",
    "# text_inputs = []\n",
    "# to_concat = []\n",
    "# for i in range(3):\n",
    "#   text_input = layers.Input(shape=[None,768], dtype='float32', name='text'+str(i))\n",
    "#   text_inputs.append(text_input)\n",
    "#   #the mask layer\n",
    "#   l_mask = layers.Masking(mask_value=MASK_VALUE, name='l_mask'+str(i))(text_input)\n",
    "#   # Which we encoded in a single vector via a LSTM\n",
    "#   encoded_text = layers.LSTM(100,name='lstm'+str(i))(l_mask)\n",
    "#   out_dense = layers.Dense(30, activation='relu', name='dense'+str(i))(encoded_text)\n",
    "#   to_concat.append(out_dense)\n",
    "\n",
    "# concat = layers.Concatenate()(to_concat)\n",
    "# # And we add a softmax classifier on top\n",
    "# out = layers.Dense(len(CLASS_NAMES), activation='sigmoid')(concat)\n",
    "# # At model instantiation, we specify the input and the output:\n",
    "# model = Model(text_inputs, out)\n",
    "# model.compile(optimizer='adam',\n",
    "#               loss='binary_crossentropy',\n",
    "#               metrics=['acc'])\n",
    "# model.summary()"
   ]
  },
  {
   "cell_type": "code",
   "execution_count": 72,
   "metadata": {},
   "outputs": [],
   "source": [
    "# X_train, X_val = [], []\n",
    "# for i in range(3):\n",
    "#   X_train.append(np.array(df_train2['lstm'+str(i)].to_list()))\n",
    "#   X_val.append(np.array(df_val2['lstm'+str(i)].to_list()))\n",
    "# print(np.array(X_val).shape)\n",
    "\n",
    "# model.fit(\n",
    "#     X_train,\n",
    "#     np.array(df_train2.label.apply(lambda x: [x]).to_list()),\n",
    "#     validation_data=(\n",
    "#         X_val,\n",
    "#         np.array(df_val2.label.apply(lambda x: [x]).to_list())),\n",
    "#     batch_size=32, epochs=3\n",
    "# )"
   ]
  },
  {
   "cell_type": "code",
   "execution_count": 80,
   "metadata": {},
   "outputs": [
    {
     "name": "stdout",
     "output_type": "stream",
     "text": [
      "Model: \"functional_3\"\n",
      "_________________________________________________________________\n",
      "Layer (type)                 Output Shape              Param #   \n",
      "=================================================================\n",
      "text (InputLayer)            [(None, None, 768)]       0         \n",
      "_________________________________________________________________\n",
      "masking_1 (Masking)          (None, None, 768)         0         \n",
      "_________________________________________________________________\n",
      "lstm_1 (LSTM)                (None, 200)               775200    \n",
      "_________________________________________________________________\n",
      "dense_2 (Dense)              (None, 60)                12060     \n",
      "_________________________________________________________________\n",
      "dense_3 (Dense)              (None, 2)                 122       \n",
      "=================================================================\n",
      "Total params: 787,382\n",
      "Trainable params: 787,382\n",
      "Non-trainable params: 0\n",
      "_________________________________________________________________\n"
     ]
    }
   ],
   "source": [
    "from tensorflow.keras import layers, Model\n",
    "text_input = layers.Input(shape=(None,768,), dtype='float32', name='text')\n",
    "\n",
    "num_features= 768\n",
    "\n",
    "l_mask = layers.Masking(mask_value=MASK_VALUE)(text_input)\n",
    "# Which we encoded in a single vector via a LSTM\n",
    "encoded_text = layers.LSTM(200,)(l_mask)\n",
    "out_dense = layers.Dense(60, activation='relu')(encoded_text)\n",
    "# And we add a softmax classifier on top\n",
    "out = layers.Dense(len(CLASS_NAMES), activation='sigmoid')(out_dense)\n",
    "# At model instantiation, we specify the input and the output:\n",
    "model = Model(text_input, out)\n",
    "model.compile(optimizer='adam',\n",
    "              loss='binary_crossentropy',\n",
    "              metrics=['acc'])\n",
    "model.summary()"
   ]
  },
  {
   "cell_type": "code",
   "execution_count": 74,
   "metadata": {},
   "outputs": [
    {
     "data": {
      "text/html": [
       "<div>\n",
       "<style scoped>\n",
       "    .dataframe tbody tr th:only-of-type {\n",
       "        vertical-align: middle;\n",
       "    }\n",
       "\n",
       "    .dataframe tbody tr th {\n",
       "        vertical-align: top;\n",
       "    }\n",
       "\n",
       "    .dataframe thead th {\n",
       "        text-align: right;\n",
       "    }\n",
       "</style>\n",
       "<table border=\"1\" class=\"dataframe\">\n",
       "  <thead>\n",
       "    <tr style=\"text-align: right;\">\n",
       "      <th></th>\n",
       "      <th>emb</th>\n",
       "      <th>label</th>\n",
       "    </tr>\n",
       "  </thead>\n",
       "  <tbody>\n",
       "    <tr>\n",
       "      <th>0</th>\n",
       "      <td>[[0.9514978, -0.6538513, -0.21186787, 0.449128...</td>\n",
       "      <td>1</td>\n",
       "    </tr>\n",
       "    <tr>\n",
       "      <th>1</th>\n",
       "      <td>[[-0.9200754, 0.86085045, 0.18401766, -0.60036...</td>\n",
       "      <td>0</td>\n",
       "    </tr>\n",
       "    <tr>\n",
       "      <th>2</th>\n",
       "      <td>[[0.95578766, -0.6672168, -0.25877315, 0.34283...</td>\n",
       "      <td>1</td>\n",
       "    </tr>\n",
       "    <tr>\n",
       "      <th>3</th>\n",
       "      <td>[[0.961882, -0.70344204, -0.25340143, 0.503169...</td>\n",
       "      <td>1</td>\n",
       "    </tr>\n",
       "    <tr>\n",
       "      <th>4</th>\n",
       "      <td>[[0.9619693, -0.6754576, -0.2592783, 0.4131367...</td>\n",
       "      <td>1</td>\n",
       "    </tr>\n",
       "    <tr>\n",
       "      <th>...</th>\n",
       "      <td>...</td>\n",
       "      <td>...</td>\n",
       "    </tr>\n",
       "    <tr>\n",
       "      <th>21295</th>\n",
       "      <td>[[-0.90869915, 0.86188984, -0.015288965, -0.36...</td>\n",
       "      <td>0</td>\n",
       "    </tr>\n",
       "    <tr>\n",
       "      <th>21296</th>\n",
       "      <td>[[0.95065576, -0.63510716, -0.070736334, 0.422...</td>\n",
       "      <td>1</td>\n",
       "    </tr>\n",
       "    <tr>\n",
       "      <th>21297</th>\n",
       "      <td>[[0.96218294, -0.6973995, -0.38777485, 0.53113...</td>\n",
       "      <td>1</td>\n",
       "    </tr>\n",
       "    <tr>\n",
       "      <th>21298</th>\n",
       "      <td>[[0.94651634, -0.6682651, -0.46734613, 0.53917...</td>\n",
       "      <td>1</td>\n",
       "    </tr>\n",
       "    <tr>\n",
       "      <th>21299</th>\n",
       "      <td>[[0.94959444, -0.65250146, 0.3920599, 0.716505...</td>\n",
       "      <td>1</td>\n",
       "    </tr>\n",
       "  </tbody>\n",
       "</table>\n",
       "<p>21300 rows × 2 columns</p>\n",
       "</div>"
      ],
      "text/plain": [
       "                                                     emb  label\n",
       "0      [[0.9514978, -0.6538513, -0.21186787, 0.449128...      1\n",
       "1      [[-0.9200754, 0.86085045, 0.18401766, -0.60036...      0\n",
       "2      [[0.95578766, -0.6672168, -0.25877315, 0.34283...      1\n",
       "3      [[0.961882, -0.70344204, -0.25340143, 0.503169...      1\n",
       "4      [[0.9619693, -0.6754576, -0.2592783, 0.4131367...      1\n",
       "...                                                  ...    ...\n",
       "21295  [[-0.90869915, 0.86188984, -0.015288965, -0.36...      0\n",
       "21296  [[0.95065576, -0.63510716, -0.070736334, 0.422...      1\n",
       "21297  [[0.96218294, -0.6973995, -0.38777485, 0.53113...      1\n",
       "21298  [[0.94651634, -0.6682651, -0.46734613, 0.53917...      1\n",
       "21299  [[0.94959444, -0.65250146, 0.3920599, 0.716505...      1\n",
       "\n",
       "[21300 rows x 2 columns]"
      ]
     },
     "execution_count": 74,
     "metadata": {},
     "output_type": "execute_result"
    }
   ],
   "source": [
    "df_train2"
   ]
  },
  {
   "cell_type": "code",
   "execution_count": 78,
   "metadata": {},
   "outputs": [
    {
     "name": "stdout",
     "output_type": "stream",
     "text": [
      "21300\n",
      "30\n"
     ]
    }
   ],
   "source": [
    "num_sequences = len(df_train2['emb'].to_list())\n",
    "print(num_sequences)\n",
    "batch_size = 1\n",
    "for i in range(int(np.sqrt(num_sequences_val)), -1, -1):\n",
    "    if num_sequences % i == 0:\n",
    "        batch_size = i\n",
    "        break\n",
    "batches_per_epoch = num_sequences // batch_size\n",
    "print(batch_size)\n",
    "assert batch_size * batches_per_epoch == num_sequences\n",
    "def train_generator(df):\n",
    "    x_list = df['emb'].to_list()\n",
    "    y_list = df.label.to_list()\n",
    "    # Generate batches\n",
    "    while True:\n",
    "        for b in range(batches_per_epoch):\n",
    "            timesteps = len(max(x_list[:(b + 1) * batch_size][-batch_size:], key=len))\n",
    "            x_train = np.full((batch_size, timesteps, num_features), MASK_VALUE)\n",
    "            y_train = np.zeros((batch_size, 1))\n",
    "            for i in range(batch_size):\n",
    "                li = b * batch_size + i\n",
    "                x_train[i, 0:len(x_list[li]), :] = x_list[li]\n",
    "                y_train[i] = y_list[li]\n",
    "            yield x_train, y_train"
   ]
  },
  {
   "cell_type": "code",
   "execution_count": 76,
   "metadata": {},
   "outputs": [
    {
     "name": "stdout",
     "output_type": "stream",
     "text": [
      "1879\n",
      "1\n"
     ]
    }
   ],
   "source": [
    "num_sequences_val = len(df_val2['emb'].to_list())\n",
    "print(num_sequences_val)\n",
    "batch_size_val = 1\n",
    "for i in range(int(np.sqrt(num_sequences_val)), -1, -1):\n",
    "    if num_sequences_val % i == 0:\n",
    "        batch_size_val = i\n",
    "        break\n",
    "batches_per_epoch_val = num_sequences_val // batch_size_val\n",
    "print(batch_size_val)\n",
    "assert batch_size_val * batches_per_epoch_val == num_sequences_val\n",
    "def val_generator(df):\n",
    "    x_list = df['emb'].to_list()\n",
    "    y_list = df.label.to_list()\n",
    "    # Generate batches\n",
    "    while True:\n",
    "        for b in range(batches_per_epoch_val):\n",
    "            timesteps = len(max(x_list[:(b + 1) * batch_size_val][-batch_size_val:], key=len))\n",
    "            x_train = np.full((batch_size_val, timesteps, num_features), MASK_VALUE)\n",
    "            y_train = np.zeros((batch_size_val, 1))\n",
    "            for i in range(batch_size_val):\n",
    "                li = b * batch_size_val + i\n",
    "                x_train[i, 0:len(x_list[li]), :] = x_list[li]\n",
    "                y_train[i] = y_list[li]\n",
    "            yield x_train, y_train"
   ]
  },
  {
   "cell_type": "code",
   "execution_count": 81,
   "metadata": {},
   "outputs": [
    {
     "name": "stdout",
     "output_type": "stream",
     "text": [
      "Epoch 1/30\n",
      "710/710 [==============================] - 10s 15ms/step - loss: 0.0059 - acc: 0.4492 - val_loss: 0.0455 - val_acc: 0.5008\n",
      "Epoch 2/30\n",
      "710/710 [==============================] - 9s 13ms/step - loss: 0.0021 - acc: 0.4083 - val_loss: 0.0313 - val_acc: 0.4753\n",
      "Epoch 3/30\n",
      "710/710 [==============================] - 9s 13ms/step - loss: 0.0015 - acc: 0.4777 - val_loss: 0.0347 - val_acc: 0.4391\n",
      "Epoch 4/30\n",
      "710/710 [==============================] - 10s 14ms/step - loss: 0.0014 - acc: 0.4738 - val_loss: 0.0324 - val_acc: 0.5668\n",
      "Epoch 5/30\n",
      "710/710 [==============================] - 10s 14ms/step - loss: 0.0014 - acc: 0.6597 - val_loss: 0.0362 - val_acc: 0.6307\n",
      "Epoch 6/30\n",
      "710/710 [==============================] - 10s 13ms/step - loss: 0.0014 - acc: 0.7803 - val_loss: 0.0355 - val_acc: 0.6663\n",
      "Epoch 7/30\n",
      "710/710 [==============================] - 9s 13ms/step - loss: 0.0014 - acc: 0.3565 - val_loss: 0.0353 - val_acc: 0.5519\n",
      "Epoch 8/30\n",
      "710/710 [==============================] - 9s 13ms/step - loss: 0.0015 - acc: 0.5382 - val_loss: 0.0379 - val_acc: 0.1602\n",
      "Epoch 9/30\n",
      "707/710 [============================>.] - ETA: 0s - loss: 0.0013 - acc: 0.1926\n",
      "Epoch 00009: ReduceLROnPlateau reducing learning rate to 0.0009500000451225787.\n",
      "710/710 [==============================] - 10s 13ms/step - loss: 0.0013 - acc: 0.1944 - val_loss: 0.0359 - val_acc: 0.5652\n",
      "Epoch 10/30\n",
      "710/710 [==============================] - 9s 13ms/step - loss: 0.0014 - acc: 0.3988 - val_loss: 0.0313 - val_acc: 0.4657\n",
      "Epoch 11/30\n",
      "710/710 [==============================] - 10s 14ms/step - loss: 0.0016 - acc: 0.1208 - val_loss: 0.0401 - val_acc: 0.4423\n",
      "Epoch 12/30\n",
      "706/710 [============================>.] - ETA: 0s - loss: 0.0014 - acc: 0.1663\n",
      "Epoch 00012: ReduceLROnPlateau reducing learning rate to 0.0009025000152178108.\n",
      "710/710 [==============================] - 10s 13ms/step - loss: 0.0014 - acc: 0.1657 - val_loss: 0.0393 - val_acc: 0.1474\n",
      "Epoch 13/30\n",
      "710/710 [==============================] - 9s 13ms/step - loss: 0.0013 - acc: 0.0771 - val_loss: 0.0380 - val_acc: 0.4476\n",
      "Epoch 14/30\n",
      "710/710 [==============================] - 9s 13ms/step - loss: 0.0012 - acc: 0.0751 - val_loss: 0.0358 - val_acc: 0.3236\n",
      "Epoch 15/30\n",
      "709/710 [============================>.] - ETA: 0s - loss: 0.0013 - acc: 0.1855\n",
      "Epoch 00015: ReduceLROnPlateau reducing learning rate to 0.0008573750033974647.\n",
      "710/710 [==============================] - 9s 13ms/step - loss: 0.0013 - acc: 0.1854 - val_loss: 0.0384 - val_acc: 0.0655\n",
      "Epoch 16/30\n",
      "710/710 [==============================] - 10s 13ms/step - loss: 0.0012 - acc: 0.3331 - val_loss: 0.0439 - val_acc: 0.4013\n",
      "Epoch 17/30\n",
      "710/710 [==============================] - 10s 13ms/step - loss: 0.0012 - acc: 0.0527 - val_loss: 0.0400 - val_acc: 0.0186\n",
      "Epoch 18/30\n",
      "707/710 [============================>.] - ETA: 0s - loss: 0.0012 - acc: 0.3887\n",
      "Epoch 00018: ReduceLROnPlateau reducing learning rate to 0.0008145062311086804.\n",
      "710/710 [==============================] - 10s 13ms/step - loss: 0.0012 - acc: 0.3885 - val_loss: 0.0426 - val_acc: 0.4210\n",
      "Epoch 19/30\n",
      "710/710 [==============================] - 9s 13ms/step - loss: 0.0012 - acc: 0.2789 - val_loss: 0.0433 - val_acc: 0.0357\n",
      "Epoch 20/30\n",
      "710/710 [==============================] - 10s 13ms/step - loss: 0.0012 - acc: 0.0279 - val_loss: 0.0422 - val_acc: 0.0415\n",
      "Epoch 21/30\n",
      "709/710 [============================>.] - ETA: 0s - loss: 0.0013 - acc: 0.3953\n",
      "Epoch 00021: ReduceLROnPlateau reducing learning rate to 0.0007737808919046074.\n",
      "710/710 [==============================] - 9s 13ms/step - loss: 0.0013 - acc: 0.3954 - val_loss: 0.0516 - val_acc: 0.4593\n",
      "Epoch 22/30\n",
      "710/710 [==============================] - 10s 13ms/step - loss: 0.0013 - acc: 0.0918 - val_loss: 0.0438 - val_acc: 0.2225\n",
      "Epoch 23/30\n",
      "710/710 [==============================] - 10s 13ms/step - loss: 0.0012 - acc: 0.0631 - val_loss: 0.0450 - val_acc: 0.3949\n",
      "Epoch 24/30\n",
      "710/710 [==============================] - ETA: 0s - loss: 0.0012 - acc: 0.0613\n",
      "Epoch 00024: ReduceLROnPlateau reducing learning rate to 0.000735091819660738.\n",
      "710/710 [==============================] - 9s 13ms/step - loss: 0.0012 - acc: 0.0613 - val_loss: 0.0483 - val_acc: 0.3646\n",
      "Epoch 25/30\n",
      "710/710 [==============================] - 10s 13ms/step - loss: 0.0012 - acc: 0.2053 - val_loss: 0.0508 - val_acc: 0.4588\n",
      "Epoch 26/30\n",
      "710/710 [==============================] - 9s 13ms/step - loss: 0.0011 - acc: 0.0881 - val_loss: 0.0522 - val_acc: 0.4572\n",
      "Epoch 27/30\n",
      "706/710 [============================>.] - ETA: 0s - loss: 0.0011 - acc: 0.1205\n",
      "Epoch 00027: ReduceLROnPlateau reducing learning rate to 0.0006983372120885178.\n",
      "710/710 [==============================] - 9s 13ms/step - loss: 0.0011 - acc: 0.1224 - val_loss: 0.0508 - val_acc: 0.3821\n",
      "Epoch 28/30\n",
      "710/710 [==============================] - 10s 13ms/step - loss: 0.0011 - acc: 0.0776 - val_loss: 0.0487 - val_acc: 0.0729\n",
      "Epoch 29/30\n",
      "710/710 [==============================] - 9s 13ms/step - loss: 0.0011 - acc: 0.1750 - val_loss: 0.0488 - val_acc: 0.4332\n",
      "Epoch 30/30\n",
      "707/710 [============================>.] - ETA: 0s - loss: 0.0011 - acc: 0.3980\n",
      "Epoch 00030: ReduceLROnPlateau reducing learning rate to 0.0006634203542489559.\n",
      "710/710 [==============================] - 10s 13ms/step - loss: 0.0011 - acc: 0.3982 - val_loss: 0.0503 - val_acc: 0.4454\n"
     ]
    },
    {
     "data": {
      "text/plain": [
       "<tensorflow.python.training.tracking.util.CheckpointLoadStatus at 0x2aab995faa50>"
      ]
     },
     "execution_count": 81,
     "metadata": {},
     "output_type": "execute_result"
    }
   ],
   "source": [
    "from tensorflow.keras.callbacks import ReduceLROnPlateau, ModelCheckpoint\n",
    "call_reduce = ReduceLROnPlateau(monitor='val_acc', factor=0.95, patience=3, verbose=2,\n",
    "                                mode='auto', min_delta=0.01, cooldown=0, min_lr=0)\n",
    "model_checkpoint = ModelCheckpoint(\n",
    "                      filepath='klfhuhwuifgheiru',\n",
    "                      monitor='val_acc',\n",
    "                      save_weights_only=True,\n",
    "                      save_best_only=True)\n",
    "\n",
    "model.fit(train_generator(df_train2), steps_per_epoch=batches_per_epoch, epochs=30,\n",
    "          validation_data=val_generator(df_val2), validation_steps=batches_per_epoch_val,\n",
    "          callbacks =[call_reduce, model_checkpoint])\n",
    "\n",
    "model.load_weights('klfhuhwuifgheiru')"
   ]
  },
  {
   "cell_type": "code",
   "execution_count": 82,
   "metadata": {},
   "outputs": [
    {
     "name": "stdout",
     "output_type": "stream",
     "text": [
      "1879/1879 [==============================] - 2s 1ms/step - loss: 0.0837 - acc: 0.6658\n"
     ]
    },
    {
     "data": {
      "text/plain": [
       "[0.08373638987541199, 0.6657796502113342]"
      ]
     },
     "execution_count": 82,
     "metadata": {},
     "output_type": "execute_result"
    }
   ],
   "source": [
    "model.evaluate(val_generator(df_test2), steps=batches_per_epoch_val)"
   ]
  },
  {
   "cell_type": "markdown",
   "metadata": {},
   "source": [
    "Very strange performance! This is an interesting model, but obviously our implementation on this data is no competition for Longformer or even vanilla LSTM (yet!). This might reflect how little data we had to train on."
   ]
  },
  {
   "cell_type": "markdown",
   "metadata": {
    "id": "Wf39tauBa2V2"
   },
   "source": [
    "## References\n",
    "\n",
    "- [BERT: Pre-training of Deep Bidirectional Transformers for Language Understanding](https://arxiv.org/abs/1810.04805)\n",
    "- [RoBERTa: A Robustly Optimized BERT Pretraining Approach](https://arxiv.org/abs/1907.11692)\n",
    "- [The Illustrated BERT, ELMo, and co.](https://jalammar.github.io/illustrated-bert/)\n",
    "- [Hierarchical Transformers for Long Document Classification](https://arxiv.org/abs/1910.10781)\n",
    "- [Using BERT For Classifying Documents with Long Texts](https://medium.com/@armandj.olivares/using-bert-for-classifying-documents-with-long-texts-5c3e7b04573d)\n",
    "- [How to Fine-Tune BERT for Text Classification?](https://arxiv.org/pdf/1905.05583.pdf)\n",
    "- [Sentiment Analysis with BERT and Transformers by Hugging Face using PyTorch and Python](https://curiousily.com/posts/sentiment-analysis-with-bert-and-hugging-face-using-pytorch-and-python/)\n",
    "- [BERT Fine-Tuning Tutorial with PyTorch](https://mccormickml.com/2019/07/22/BERT-fine-tuning/)\n",
    "- [Huggingface Transformers](https://huggingface.co/transformers/)\n",
    "- [BERT Explained: State of the art language model for NLP](https://towardsdatascience.com/bert-explained-state-of-the-art-language-model-for-nlp-f8b21a9b6270)"
   ]
  }
 ],
 "metadata": {
  "accelerator": "GPU",
  "colab": {
   "collapsed_sections": [],
   "name": "Fine_tuning_BERT_for_DC_seqLen256_chuncks.ipynb",
   "provenance": []
  },
  "kernelspec": {
   "display_name": "Python [conda env:deepNLP2020]",
   "language": "python",
   "name": "conda-env-deepNLP2020-py"
  },
  "language_info": {
   "codemirror_mode": {
    "name": "ipython",
    "version": 3
   },
   "file_extension": ".py",
   "mimetype": "text/x-python",
   "name": "python",
   "nbconvert_exporter": "python",
   "pygments_lexer": "ipython3",
   "version": "3.7.9"
  },
  "widgets": {
   "application/vnd.jupyter.widget-state+json": {
    "10f55d7889e44455bd349ebc184bc834": {
     "model_module": "@jupyter-widgets/controls",
     "model_name": "ProgressStyleModel",
     "state": {
      "_model_module": "@jupyter-widgets/controls",
      "_model_module_version": "1.5.0",
      "_model_name": "ProgressStyleModel",
      "_view_count": null,
      "_view_module": "@jupyter-widgets/base",
      "_view_module_version": "1.2.0",
      "_view_name": "StyleView",
      "bar_color": null,
      "description_width": "initial"
     }
    },
    "13133393fa8040c883cdeb9b669efd3f": {
     "model_module": "@jupyter-widgets/controls",
     "model_name": "FloatProgressModel",
     "state": {
      "_dom_classes": [],
      "_model_module": "@jupyter-widgets/controls",
      "_model_module_version": "1.5.0",
      "_model_name": "FloatProgressModel",
      "_view_count": null,
      "_view_module": "@jupyter-widgets/controls",
      "_view_module_version": "1.5.0",
      "_view_name": "ProgressView",
      "bar_style": "success",
      "description": "Downloading: 100%",
      "description_tooltip": null,
      "layout": "IPY_MODEL_33b6410ef78b4c50ac0e76ddf4f112d4",
      "max": 433,
      "min": 0,
      "orientation": "horizontal",
      "style": "IPY_MODEL_717355e2f4ab451bba9b32868447b6a4",
      "value": 433
     }
    },
    "25b412d292d946b7ba3e49dd4b429d83": {
     "model_module": "@jupyter-widgets/base",
     "model_name": "LayoutModel",
     "state": {
      "_model_module": "@jupyter-widgets/base",
      "_model_module_version": "1.2.0",
      "_model_name": "LayoutModel",
      "_view_count": null,
      "_view_module": "@jupyter-widgets/base",
      "_view_module_version": "1.2.0",
      "_view_name": "LayoutView",
      "align_content": null,
      "align_items": null,
      "align_self": null,
      "border": null,
      "bottom": null,
      "display": null,
      "flex": null,
      "flex_flow": null,
      "grid_area": null,
      "grid_auto_columns": null,
      "grid_auto_flow": null,
      "grid_auto_rows": null,
      "grid_column": null,
      "grid_gap": null,
      "grid_row": null,
      "grid_template_areas": null,
      "grid_template_columns": null,
      "grid_template_rows": null,
      "height": null,
      "justify_content": null,
      "justify_items": null,
      "left": null,
      "margin": null,
      "max_height": null,
      "max_width": null,
      "min_height": null,
      "min_width": null,
      "object_fit": null,
      "object_position": null,
      "order": null,
      "overflow": null,
      "overflow_x": null,
      "overflow_y": null,
      "padding": null,
      "right": null,
      "top": null,
      "visibility": null,
      "width": null
     }
    },
    "2edd26821fe8499ab9f1922ee4098106": {
     "model_module": "@jupyter-widgets/controls",
     "model_name": "HBoxModel",
     "state": {
      "_dom_classes": [],
      "_model_module": "@jupyter-widgets/controls",
      "_model_module_version": "1.5.0",
      "_model_name": "HBoxModel",
      "_view_count": null,
      "_view_module": "@jupyter-widgets/controls",
      "_view_module_version": "1.5.0",
      "_view_name": "HBoxView",
      "box_style": "",
      "children": [
       "IPY_MODEL_13133393fa8040c883cdeb9b669efd3f",
       "IPY_MODEL_ab98b5cf00f744af87faf73ea39074eb"
      ],
      "layout": "IPY_MODEL_78ba73047a244d6096ca839f868c120e"
     }
    },
    "33b6410ef78b4c50ac0e76ddf4f112d4": {
     "model_module": "@jupyter-widgets/base",
     "model_name": "LayoutModel",
     "state": {
      "_model_module": "@jupyter-widgets/base",
      "_model_module_version": "1.2.0",
      "_model_name": "LayoutModel",
      "_view_count": null,
      "_view_module": "@jupyter-widgets/base",
      "_view_module_version": "1.2.0",
      "_view_name": "LayoutView",
      "align_content": null,
      "align_items": null,
      "align_self": null,
      "border": null,
      "bottom": null,
      "display": null,
      "flex": null,
      "flex_flow": null,
      "grid_area": null,
      "grid_auto_columns": null,
      "grid_auto_flow": null,
      "grid_auto_rows": null,
      "grid_column": null,
      "grid_gap": null,
      "grid_row": null,
      "grid_template_areas": null,
      "grid_template_columns": null,
      "grid_template_rows": null,
      "height": null,
      "justify_content": null,
      "justify_items": null,
      "left": null,
      "margin": null,
      "max_height": null,
      "max_width": null,
      "min_height": null,
      "min_width": null,
      "object_fit": null,
      "object_position": null,
      "order": null,
      "overflow": null,
      "overflow_x": null,
      "overflow_y": null,
      "padding": null,
      "right": null,
      "top": null,
      "visibility": null,
      "width": null
     }
    },
    "3faae99813874855bc65f3b99c219e61": {
     "model_module": "@jupyter-widgets/base",
     "model_name": "LayoutModel",
     "state": {
      "_model_module": "@jupyter-widgets/base",
      "_model_module_version": "1.2.0",
      "_model_name": "LayoutModel",
      "_view_count": null,
      "_view_module": "@jupyter-widgets/base",
      "_view_module_version": "1.2.0",
      "_view_name": "LayoutView",
      "align_content": null,
      "align_items": null,
      "align_self": null,
      "border": null,
      "bottom": null,
      "display": null,
      "flex": null,
      "flex_flow": null,
      "grid_area": null,
      "grid_auto_columns": null,
      "grid_auto_flow": null,
      "grid_auto_rows": null,
      "grid_column": null,
      "grid_gap": null,
      "grid_row": null,
      "grid_template_areas": null,
      "grid_template_columns": null,
      "grid_template_rows": null,
      "height": null,
      "justify_content": null,
      "justify_items": null,
      "left": null,
      "margin": null,
      "max_height": null,
      "max_width": null,
      "min_height": null,
      "min_width": null,
      "object_fit": null,
      "object_position": null,
      "order": null,
      "overflow": null,
      "overflow_x": null,
      "overflow_y": null,
      "padding": null,
      "right": null,
      "top": null,
      "visibility": null,
      "width": null
     }
    },
    "4bb6992aeab948b5a9fa871377f5abda": {
     "model_module": "@jupyter-widgets/controls",
     "model_name": "DescriptionStyleModel",
     "state": {
      "_model_module": "@jupyter-widgets/controls",
      "_model_module_version": "1.5.0",
      "_model_name": "DescriptionStyleModel",
      "_view_count": null,
      "_view_module": "@jupyter-widgets/base",
      "_view_module_version": "1.2.0",
      "_view_name": "StyleView",
      "description_width": ""
     }
    },
    "4e6cc5ce79cf4f3fac6a618694673075": {
     "model_module": "@jupyter-widgets/base",
     "model_name": "LayoutModel",
     "state": {
      "_model_module": "@jupyter-widgets/base",
      "_model_module_version": "1.2.0",
      "_model_name": "LayoutModel",
      "_view_count": null,
      "_view_module": "@jupyter-widgets/base",
      "_view_module_version": "1.2.0",
      "_view_name": "LayoutView",
      "align_content": null,
      "align_items": null,
      "align_self": null,
      "border": null,
      "bottom": null,
      "display": null,
      "flex": null,
      "flex_flow": null,
      "grid_area": null,
      "grid_auto_columns": null,
      "grid_auto_flow": null,
      "grid_auto_rows": null,
      "grid_column": null,
      "grid_gap": null,
      "grid_row": null,
      "grid_template_areas": null,
      "grid_template_columns": null,
      "grid_template_rows": null,
      "height": null,
      "justify_content": null,
      "justify_items": null,
      "left": null,
      "margin": null,
      "max_height": null,
      "max_width": null,
      "min_height": null,
      "min_width": null,
      "object_fit": null,
      "object_position": null,
      "order": null,
      "overflow": null,
      "overflow_x": null,
      "overflow_y": null,
      "padding": null,
      "right": null,
      "top": null,
      "visibility": null,
      "width": null
     }
    },
    "61c8084c86694d978d2e48e9e02f786f": {
     "model_module": "@jupyter-widgets/base",
     "model_name": "LayoutModel",
     "state": {
      "_model_module": "@jupyter-widgets/base",
      "_model_module_version": "1.2.0",
      "_model_name": "LayoutModel",
      "_view_count": null,
      "_view_module": "@jupyter-widgets/base",
      "_view_module_version": "1.2.0",
      "_view_name": "LayoutView",
      "align_content": null,
      "align_items": null,
      "align_self": null,
      "border": null,
      "bottom": null,
      "display": null,
      "flex": null,
      "flex_flow": null,
      "grid_area": null,
      "grid_auto_columns": null,
      "grid_auto_flow": null,
      "grid_auto_rows": null,
      "grid_column": null,
      "grid_gap": null,
      "grid_row": null,
      "grid_template_areas": null,
      "grid_template_columns": null,
      "grid_template_rows": null,
      "height": null,
      "justify_content": null,
      "justify_items": null,
      "left": null,
      "margin": null,
      "max_height": null,
      "max_width": null,
      "min_height": null,
      "min_width": null,
      "object_fit": null,
      "object_position": null,
      "order": null,
      "overflow": null,
      "overflow_x": null,
      "overflow_y": null,
      "padding": null,
      "right": null,
      "top": null,
      "visibility": null,
      "width": null
     }
    },
    "717355e2f4ab451bba9b32868447b6a4": {
     "model_module": "@jupyter-widgets/controls",
     "model_name": "ProgressStyleModel",
     "state": {
      "_model_module": "@jupyter-widgets/controls",
      "_model_module_version": "1.5.0",
      "_model_name": "ProgressStyleModel",
      "_view_count": null,
      "_view_module": "@jupyter-widgets/base",
      "_view_module_version": "1.2.0",
      "_view_name": "StyleView",
      "bar_color": null,
      "description_width": "initial"
     }
    },
    "78ba73047a244d6096ca839f868c120e": {
     "model_module": "@jupyter-widgets/base",
     "model_name": "LayoutModel",
     "state": {
      "_model_module": "@jupyter-widgets/base",
      "_model_module_version": "1.2.0",
      "_model_name": "LayoutModel",
      "_view_count": null,
      "_view_module": "@jupyter-widgets/base",
      "_view_module_version": "1.2.0",
      "_view_name": "LayoutView",
      "align_content": null,
      "align_items": null,
      "align_self": null,
      "border": null,
      "bottom": null,
      "display": null,
      "flex": null,
      "flex_flow": null,
      "grid_area": null,
      "grid_auto_columns": null,
      "grid_auto_flow": null,
      "grid_auto_rows": null,
      "grid_column": null,
      "grid_gap": null,
      "grid_row": null,
      "grid_template_areas": null,
      "grid_template_columns": null,
      "grid_template_rows": null,
      "height": null,
      "justify_content": null,
      "justify_items": null,
      "left": null,
      "margin": null,
      "max_height": null,
      "max_width": null,
      "min_height": null,
      "min_width": null,
      "object_fit": null,
      "object_position": null,
      "order": null,
      "overflow": null,
      "overflow_x": null,
      "overflow_y": null,
      "padding": null,
      "right": null,
      "top": null,
      "visibility": null,
      "width": null
     }
    },
    "7b99ac76882b44bbbe842b460a22d268": {
     "model_module": "@jupyter-widgets/controls",
     "model_name": "FloatProgressModel",
     "state": {
      "_dom_classes": [],
      "_model_module": "@jupyter-widgets/controls",
      "_model_module_version": "1.5.0",
      "_model_name": "FloatProgressModel",
      "_view_count": null,
      "_view_module": "@jupyter-widgets/controls",
      "_view_module_version": "1.5.0",
      "_view_name": "ProgressView",
      "bar_style": "success",
      "description": "Downloading: 100%",
      "description_tooltip": null,
      "layout": "IPY_MODEL_3faae99813874855bc65f3b99c219e61",
      "max": 435779157,
      "min": 0,
      "orientation": "horizontal",
      "style": "IPY_MODEL_10f55d7889e44455bd349ebc184bc834",
      "value": 435779157
     }
    },
    "88e089e93cd84a40bc38a77bad02c5e3": {
     "model_module": "@jupyter-widgets/controls",
     "model_name": "HTMLModel",
     "state": {
      "_dom_classes": [],
      "_model_module": "@jupyter-widgets/controls",
      "_model_module_version": "1.5.0",
      "_model_name": "HTMLModel",
      "_view_count": null,
      "_view_module": "@jupyter-widgets/controls",
      "_view_module_version": "1.5.0",
      "_view_name": "HTMLView",
      "description": "",
      "description_tooltip": null,
      "layout": "IPY_MODEL_25b412d292d946b7ba3e49dd4b429d83",
      "placeholder": "​",
      "style": "IPY_MODEL_4bb6992aeab948b5a9fa871377f5abda",
      "value": " 213k/213k [00:00&lt;00:00, 732kB/s]"
     }
    },
    "8c9ad197c0204a3391f782c1355c3fe4": {
     "model_module": "@jupyter-widgets/base",
     "model_name": "LayoutModel",
     "state": {
      "_model_module": "@jupyter-widgets/base",
      "_model_module_version": "1.2.0",
      "_model_name": "LayoutModel",
      "_view_count": null,
      "_view_module": "@jupyter-widgets/base",
      "_view_module_version": "1.2.0",
      "_view_name": "LayoutView",
      "align_content": null,
      "align_items": null,
      "align_self": null,
      "border": null,
      "bottom": null,
      "display": null,
      "flex": null,
      "flex_flow": null,
      "grid_area": null,
      "grid_auto_columns": null,
      "grid_auto_flow": null,
      "grid_auto_rows": null,
      "grid_column": null,
      "grid_gap": null,
      "grid_row": null,
      "grid_template_areas": null,
      "grid_template_columns": null,
      "grid_template_rows": null,
      "height": null,
      "justify_content": null,
      "justify_items": null,
      "left": null,
      "margin": null,
      "max_height": null,
      "max_width": null,
      "min_height": null,
      "min_width": null,
      "object_fit": null,
      "object_position": null,
      "order": null,
      "overflow": null,
      "overflow_x": null,
      "overflow_y": null,
      "padding": null,
      "right": null,
      "top": null,
      "visibility": null,
      "width": null
     }
    },
    "a05ab3b8175c4fa5b55535b95da23d9a": {
     "model_module": "@jupyter-widgets/controls",
     "model_name": "ProgressStyleModel",
     "state": {
      "_model_module": "@jupyter-widgets/controls",
      "_model_module_version": "1.5.0",
      "_model_name": "ProgressStyleModel",
      "_view_count": null,
      "_view_module": "@jupyter-widgets/base",
      "_view_module_version": "1.2.0",
      "_view_name": "StyleView",
      "bar_color": null,
      "description_width": "initial"
     }
    },
    "a4447b102df64805a783594f950edcc8": {
     "model_module": "@jupyter-widgets/controls",
     "model_name": "FloatProgressModel",
     "state": {
      "_dom_classes": [],
      "_model_module": "@jupyter-widgets/controls",
      "_model_module_version": "1.5.0",
      "_model_name": "FloatProgressModel",
      "_view_count": null,
      "_view_module": "@jupyter-widgets/controls",
      "_view_module_version": "1.5.0",
      "_view_name": "ProgressView",
      "bar_style": "success",
      "description": "Downloading: 100%",
      "description_tooltip": null,
      "layout": "IPY_MODEL_61c8084c86694d978d2e48e9e02f786f",
      "max": 213450,
      "min": 0,
      "orientation": "horizontal",
      "style": "IPY_MODEL_a05ab3b8175c4fa5b55535b95da23d9a",
      "value": 213450
     }
    },
    "ab98b5cf00f744af87faf73ea39074eb": {
     "model_module": "@jupyter-widgets/controls",
     "model_name": "HTMLModel",
     "state": {
      "_dom_classes": [],
      "_model_module": "@jupyter-widgets/controls",
      "_model_module_version": "1.5.0",
      "_model_name": "HTMLModel",
      "_view_count": null,
      "_view_module": "@jupyter-widgets/controls",
      "_view_module_version": "1.5.0",
      "_view_name": "HTMLView",
      "description": "",
      "description_tooltip": null,
      "layout": "IPY_MODEL_8c9ad197c0204a3391f782c1355c3fe4",
      "placeholder": "​",
      "style": "IPY_MODEL_bc62ee412134476ba6859437ed4102ed",
      "value": " 433/433 [00:00&lt;00:00, 1.14kB/s]"
     }
    },
    "af1524834b04431fa5f83a836e9b0ee9": {
     "model_module": "@jupyter-widgets/controls",
     "model_name": "HTMLModel",
     "state": {
      "_dom_classes": [],
      "_model_module": "@jupyter-widgets/controls",
      "_model_module_version": "1.5.0",
      "_model_name": "HTMLModel",
      "_view_count": null,
      "_view_module": "@jupyter-widgets/controls",
      "_view_module_version": "1.5.0",
      "_view_name": "HTMLView",
      "description": "",
      "description_tooltip": null,
      "layout": "IPY_MODEL_4e6cc5ce79cf4f3fac6a618694673075",
      "placeholder": "​",
      "style": "IPY_MODEL_c65eb68b08704426bd6436b6ef701c7b",
      "value": " 436M/436M [01:33&lt;00:00, 4.65MB/s]"
     }
    },
    "b19703d295284ee59c595eca16fd9d23": {
     "model_module": "@jupyter-widgets/controls",
     "model_name": "HBoxModel",
     "state": {
      "_dom_classes": [],
      "_model_module": "@jupyter-widgets/controls",
      "_model_module_version": "1.5.0",
      "_model_name": "HBoxModel",
      "_view_count": null,
      "_view_module": "@jupyter-widgets/controls",
      "_view_module_version": "1.5.0",
      "_view_name": "HBoxView",
      "box_style": "",
      "children": [
       "IPY_MODEL_7b99ac76882b44bbbe842b460a22d268",
       "IPY_MODEL_af1524834b04431fa5f83a836e9b0ee9"
      ],
      "layout": "IPY_MODEL_fb762e2ff1fe4a228905687713f65916"
     }
    },
    "b9bef0caac2545a49265831e86302012": {
     "model_module": "@jupyter-widgets/controls",
     "model_name": "HBoxModel",
     "state": {
      "_dom_classes": [],
      "_model_module": "@jupyter-widgets/controls",
      "_model_module_version": "1.5.0",
      "_model_name": "HBoxModel",
      "_view_count": null,
      "_view_module": "@jupyter-widgets/controls",
      "_view_module_version": "1.5.0",
      "_view_name": "HBoxView",
      "box_style": "",
      "children": [
       "IPY_MODEL_a4447b102df64805a783594f950edcc8",
       "IPY_MODEL_88e089e93cd84a40bc38a77bad02c5e3"
      ],
      "layout": "IPY_MODEL_bb46c40ee6874f4088827dcf6336b562"
     }
    },
    "bb46c40ee6874f4088827dcf6336b562": {
     "model_module": "@jupyter-widgets/base",
     "model_name": "LayoutModel",
     "state": {
      "_model_module": "@jupyter-widgets/base",
      "_model_module_version": "1.2.0",
      "_model_name": "LayoutModel",
      "_view_count": null,
      "_view_module": "@jupyter-widgets/base",
      "_view_module_version": "1.2.0",
      "_view_name": "LayoutView",
      "align_content": null,
      "align_items": null,
      "align_self": null,
      "border": null,
      "bottom": null,
      "display": null,
      "flex": null,
      "flex_flow": null,
      "grid_area": null,
      "grid_auto_columns": null,
      "grid_auto_flow": null,
      "grid_auto_rows": null,
      "grid_column": null,
      "grid_gap": null,
      "grid_row": null,
      "grid_template_areas": null,
      "grid_template_columns": null,
      "grid_template_rows": null,
      "height": null,
      "justify_content": null,
      "justify_items": null,
      "left": null,
      "margin": null,
      "max_height": null,
      "max_width": null,
      "min_height": null,
      "min_width": null,
      "object_fit": null,
      "object_position": null,
      "order": null,
      "overflow": null,
      "overflow_x": null,
      "overflow_y": null,
      "padding": null,
      "right": null,
      "top": null,
      "visibility": null,
      "width": null
     }
    },
    "bc62ee412134476ba6859437ed4102ed": {
     "model_module": "@jupyter-widgets/controls",
     "model_name": "DescriptionStyleModel",
     "state": {
      "_model_module": "@jupyter-widgets/controls",
      "_model_module_version": "1.5.0",
      "_model_name": "DescriptionStyleModel",
      "_view_count": null,
      "_view_module": "@jupyter-widgets/base",
      "_view_module_version": "1.2.0",
      "_view_name": "StyleView",
      "description_width": ""
     }
    },
    "c65eb68b08704426bd6436b6ef701c7b": {
     "model_module": "@jupyter-widgets/controls",
     "model_name": "DescriptionStyleModel",
     "state": {
      "_model_module": "@jupyter-widgets/controls",
      "_model_module_version": "1.5.0",
      "_model_name": "DescriptionStyleModel",
      "_view_count": null,
      "_view_module": "@jupyter-widgets/base",
      "_view_module_version": "1.2.0",
      "_view_name": "StyleView",
      "description_width": ""
     }
    },
    "fb762e2ff1fe4a228905687713f65916": {
     "model_module": "@jupyter-widgets/base",
     "model_name": "LayoutModel",
     "state": {
      "_model_module": "@jupyter-widgets/base",
      "_model_module_version": "1.2.0",
      "_model_name": "LayoutModel",
      "_view_count": null,
      "_view_module": "@jupyter-widgets/base",
      "_view_module_version": "1.2.0",
      "_view_name": "LayoutView",
      "align_content": null,
      "align_items": null,
      "align_self": null,
      "border": null,
      "bottom": null,
      "display": null,
      "flex": null,
      "flex_flow": null,
      "grid_area": null,
      "grid_auto_columns": null,
      "grid_auto_flow": null,
      "grid_auto_rows": null,
      "grid_column": null,
      "grid_gap": null,
      "grid_row": null,
      "grid_template_areas": null,
      "grid_template_columns": null,
      "grid_template_rows": null,
      "height": null,
      "justify_content": null,
      "justify_items": null,
      "left": null,
      "margin": null,
      "max_height": null,
      "max_width": null,
      "min_height": null,
      "min_width": null,
      "object_fit": null,
      "object_position": null,
      "order": null,
      "overflow": null,
      "overflow_x": null,
      "overflow_y": null,
      "padding": null,
      "right": null,
      "top": null,
      "visibility": null,
      "width": null
     }
    }
   }
  }
 },
 "nbformat": 4,
 "nbformat_minor": 1
}
