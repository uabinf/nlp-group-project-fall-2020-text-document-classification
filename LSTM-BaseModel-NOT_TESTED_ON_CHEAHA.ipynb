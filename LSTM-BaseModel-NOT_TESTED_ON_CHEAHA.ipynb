{
 "cells": [
  {
   "cell_type": "code",
   "execution_count": 1,
   "metadata": {},
   "outputs": [],
   "source": [
    "import warnings\n",
    "\n",
    "import tensorflow as tf\n",
    "import tensorflow.keras.backend as K\n",
    "from tensorflow.keras.layers import (\n",
    "    Input, Lambda, Embedding, GRU, Bidirectional, Concatenate, Dense\n",
    ")\n",
    "from tensorflow.keras.regularizers import L1L2\n",
    "import numpy as np\n",
    "import pandas as pd\n",
    "\n",
    "import nltk\n",
    "import gensim.downloader\n",
    "import re\n",
    "from calendar import day_name, day_abbr, month_name, month_abbr\n",
    "from collections import Counter\n",
    "\n",
    "from sklearn import preprocessing\n",
    "from sklearn.utils import class_weight\n",
    "from sklearn.model_selection import train_test_split\n",
    "from sklearn.metrics import matthews_corrcoef, confusion_matrix\n",
    "from sklearn.manifold import TSNE\n",
    "\n",
    "import matplotlib.pyplot as plt"
   ]
  },
  {
   "cell_type": "code",
   "execution_count": 2,
   "metadata": {},
   "outputs": [],
   "source": [
    "# constants that will be used as tokens\n",
    "PAD = '~PAD~'\n",
    "URL = '~URL~'\n",
    "DATETIME = '~DATETIME~'\n",
    "QUANTITY = '~QUANTITY~'\n",
    "NUM = '~NUM~'\n",
    "UNK = '~UNK~'\n",
    "\n",
    "# regexes to be applied prior to tokenization\n",
    "url_regex = '(www\\.|http://|https://)\\S+|\\S+\\.(co|org|net|info|be|gov|edu|html|jpg|jpeg|png|gif)'\n",
    "date_regex = '('        + '|'.join(day_name[i] for i in range(7)) +\\\n",
    "             '|'        + '|'.join(day_abbr[i] for i in range(7)) +\\\n",
    "             ')?,?\\s?(' + '|'.join(month_name[i] for i in range(1, 13)) +\\\n",
    "             '|'        + '|'.join(month_abbr[i] for i in range(1, 13)) +\\\n",
    "             \")\\s\\d{1,2}(st|nd|rd|th)?(,?\\s'?\\d{2,4})?\"\n",
    "time_regex = '((\\d+\\:\\d+)(\\s?[AaPp]\\.\\s?[Mm]\\.)?)|((\\d+\\:\\d+\\s?)?([AaPp]\\.\\s?[Mm]\\.))'\n",
    "quantity_regex = '\\d+((\\,?\\d+)+)?'\n",
    "\n",
    "# list of stopwords\n",
    "stopwords = nltk.corpus.stopwords.words('english')"
   ]
  },
  {
   "cell_type": "code",
   "execution_count": 3,
   "metadata": {},
   "outputs": [],
   "source": [
    "### HYPERPARAMETERS ###\n",
    "PERCENT_TEST = 0.075\n",
    "PERCENT_VAL  = 0.075\n",
    "val_split = PERCENT_VAL / (1 - PERCENT_TEST)\n",
    "TOKENIZE_FN = nltk.word_tokenize\n",
    "MAX_TEXT_LEN = 512\n",
    "MAX_TITLE_LEN = 64\n",
    "TEXT_UNITS = 128\n",
    "TITLE_UNITS = 64\n",
    "BATCH_SIZE = 64\n",
    "EPOCHS = 5\n",
    "LEARNING_RATE = 2e-5\n",
    "L1_REGULARIZER = 1e-6\n",
    "L2_REGULARIZER = 2e-6\n",
    "DROPOUT = 0.2\n",
    "OPTIMIZER = tf.keras.optimizers.Adam\n",
    "optimizer = OPTIMIZER(learning_rate=LEARNING_RATE)\n",
    "\n",
    "### RANDOM SEED (for reproducibility) ###\n",
    "SEED = 42\n",
    "np.random.seed(SEED)\n",
    "seed = SEED"
   ]
  },
  {
   "cell_type": "code",
   "execution_count": 4,
   "metadata": {
    "scrolled": false
   },
   "outputs": [
    {
     "name": "stdout",
     "output_type": "stream",
     "text": [
      "CPU times: user 36.1 s, sys: 1.57 s, total: 37.7 s\n",
      "Wall time: 39.1 s\n"
     ]
    }
   ],
   "source": [
    "%%time\n",
    "\n",
    "# download our pretrained word embedding with embedding size of 300\n",
    "EMBED_SIZE = 300\n",
    "gn300_raw = gensim.downloader.load('word2vec-google-news-300')\n",
    "gn300 = gn300_raw\n",
    "\n",
    "# \"\"\"\n",
    "# Condense our pretrained word embedding using the following two techniques:\n",
    "# 1) remove stopwords\n",
    "# 2) make all keys lowercase, group by key, and take average per key.\n",
    "# E.g. (gn300_raw['beyonce'] +\n",
    "#       gn300_raw['Beyonce'] +\n",
    "#       gn300_raw['BEYONCE']) / 3 -> gn300['beyonce']\n",
    "# \"\"\"\n",
    "# S = Counter() # vector sum\n",
    "# C = Counter() # vector count\n",
    "# for word in gn300_raw.vocab:\n",
    "#     lower = word.lower()\n",
    "#     if lower in stopwords: continue\n",
    "#     S[lower] += gn300_raw[word]\n",
    "#     C[lower] += 1\n",
    "# # create condensed word2vec (just a simple dictionary)\n",
    "# gn300 = {w: s / c for w, s, c in zip(S.keys(), S.values(), C.values())}"
   ]
  },
  {
   "cell_type": "code",
   "execution_count": 5,
   "metadata": {},
   "outputs": [],
   "source": [
    "def strip_all_duplicates(df):\n",
    "    r = pd.DataFrame()\n",
    "    for column in ['title', 'text']:\n",
    "        c = df[column]\n",
    "        flag = c.isin(c[c.duplicated()])\n",
    "        r = pd.concat([r, df.loc[flag]])\n",
    "    r = r.drop_duplicates()\n",
    "    return df[~df.index.isin(r.index)], r\n",
    "\n",
    "def get_real_fake(df):\n",
    "    real = df[df.label.isin([0, 'REAL'])]\n",
    "    fake = df[df.label.isin([1, 'FAKE'])]\n",
    "    return real, fake\n",
    "\n",
    "def split_df(df):\n",
    "    global seed\n",
    "    train, test = train_test_split(df, test_size=PERCENT_TEST, random_state=seed)\n",
    "    seed += 1\n",
    "    tr, val = train_test_split(train, test_size=val_split, random_state=seed)\n",
    "    seed += 1\n",
    "    return tr, val, test\n",
    "\n",
    "def concat_and_shuffle(dfs):\n",
    "    global seed\n",
    "    df = pd.concat(dfs)\n",
    "    df = df.sample(frac=1, random_state=seed)\n",
    "    seed += 1\n",
    "    return df"
   ]
  },
  {
   "cell_type": "code",
   "execution_count": 6,
   "metadata": {},
   "outputs": [
    {
     "name": "stdout",
     "output_type": "stream",
     "text": [
      "6306 29\n"
     ]
    },
    {
     "data": {
      "text/html": [
       "<div>\n",
       "<style scoped>\n",
       "    .dataframe tbody tr th:only-of-type {\n",
       "        vertical-align: middle;\n",
       "    }\n",
       "\n",
       "    .dataframe tbody tr th {\n",
       "        vertical-align: top;\n",
       "    }\n",
       "\n",
       "    .dataframe thead th {\n",
       "        text-align: right;\n",
       "    }\n",
       "</style>\n",
       "<table border=\"1\" class=\"dataframe\">\n",
       "  <thead>\n",
       "    <tr style=\"text-align: right;\">\n",
       "      <th></th>\n",
       "      <th>title</th>\n",
       "      <th>text</th>\n",
       "      <th>label</th>\n",
       "    </tr>\n",
       "  </thead>\n",
       "  <tbody>\n",
       "    <tr>\n",
       "      <th>0</th>\n",
       "      <td>You Can Smell Hillary’s Fear</td>\n",
       "      <td>Daniel Greenfield, a Shillman Journalism Fello...</td>\n",
       "      <td>FAKE</td>\n",
       "    </tr>\n",
       "    <tr>\n",
       "      <th>1</th>\n",
       "      <td>Watch The Exact Moment Paul Ryan Committed Pol...</td>\n",
       "      <td>Google Pinterest Digg Linkedin Reddit Stumbleu...</td>\n",
       "      <td>FAKE</td>\n",
       "    </tr>\n",
       "    <tr>\n",
       "      <th>2</th>\n",
       "      <td>Kerry to go to Paris in gesture of sympathy</td>\n",
       "      <td>U.S. Secretary of State John F. Kerry said Mon...</td>\n",
       "      <td>REAL</td>\n",
       "    </tr>\n",
       "    <tr>\n",
       "      <th>3</th>\n",
       "      <td>Bernie supporters on Twitter erupt in anger ag...</td>\n",
       "      <td>— Kaydee King (@KaydeeKing) November 9, 2016 T...</td>\n",
       "      <td>FAKE</td>\n",
       "    </tr>\n",
       "    <tr>\n",
       "      <th>4</th>\n",
       "      <td>The Battle of New York: Why This Primary Matters</td>\n",
       "      <td>It's primary day in New York and front-runners...</td>\n",
       "      <td>REAL</td>\n",
       "    </tr>\n",
       "    <tr>\n",
       "      <th>...</th>\n",
       "      <td>...</td>\n",
       "      <td>...</td>\n",
       "      <td>...</td>\n",
       "    </tr>\n",
       "    <tr>\n",
       "      <th>6330</th>\n",
       "      <td>State Department says it can't find emails fro...</td>\n",
       "      <td>The State Department told the Republican Natio...</td>\n",
       "      <td>REAL</td>\n",
       "    </tr>\n",
       "    <tr>\n",
       "      <th>6331</th>\n",
       "      <td>The ‘P’ in PBS Should Stand for ‘Plutocratic’ ...</td>\n",
       "      <td>The ‘P’ in PBS Should Stand for ‘Plutocratic’ ...</td>\n",
       "      <td>FAKE</td>\n",
       "    </tr>\n",
       "    <tr>\n",
       "      <th>6332</th>\n",
       "      <td>Anti-Trump Protesters Are Tools of the Oligarc...</td>\n",
       "      <td>Anti-Trump Protesters Are Tools of the Oligar...</td>\n",
       "      <td>FAKE</td>\n",
       "    </tr>\n",
       "    <tr>\n",
       "      <th>6333</th>\n",
       "      <td>In Ethiopia, Obama seeks progress on peace, se...</td>\n",
       "      <td>ADDIS ABABA, Ethiopia —President Obama convene...</td>\n",
       "      <td>REAL</td>\n",
       "    </tr>\n",
       "    <tr>\n",
       "      <th>6334</th>\n",
       "      <td>Jeb Bush Is Suddenly Attacking Trump. Here's W...</td>\n",
       "      <td>Jeb Bush Is Suddenly Attacking Trump. Here's W...</td>\n",
       "      <td>REAL</td>\n",
       "    </tr>\n",
       "  </tbody>\n",
       "</table>\n",
       "<p>5923 rows × 3 columns</p>\n",
       "</div>"
      ],
      "text/plain": [
       "                                                  title  \\\n",
       "0                          You Can Smell Hillary’s Fear   \n",
       "1     Watch The Exact Moment Paul Ryan Committed Pol...   \n",
       "2           Kerry to go to Paris in gesture of sympathy   \n",
       "3     Bernie supporters on Twitter erupt in anger ag...   \n",
       "4      The Battle of New York: Why This Primary Matters   \n",
       "...                                                 ...   \n",
       "6330  State Department says it can't find emails fro...   \n",
       "6331  The ‘P’ in PBS Should Stand for ‘Plutocratic’ ...   \n",
       "6332  Anti-Trump Protesters Are Tools of the Oligarc...   \n",
       "6333  In Ethiopia, Obama seeks progress on peace, se...   \n",
       "6334  Jeb Bush Is Suddenly Attacking Trump. Here's W...   \n",
       "\n",
       "                                                   text label  \n",
       "0     Daniel Greenfield, a Shillman Journalism Fello...  FAKE  \n",
       "1     Google Pinterest Digg Linkedin Reddit Stumbleu...  FAKE  \n",
       "2     U.S. Secretary of State John F. Kerry said Mon...  REAL  \n",
       "3     — Kaydee King (@KaydeeKing) November 9, 2016 T...  FAKE  \n",
       "4     It's primary day in New York and front-runners...  REAL  \n",
       "...                                                 ...   ...  \n",
       "6330  The State Department told the Republican Natio...  REAL  \n",
       "6331  The ‘P’ in PBS Should Stand for ‘Plutocratic’ ...  FAKE  \n",
       "6332   Anti-Trump Protesters Are Tools of the Oligar...  FAKE  \n",
       "6333  ADDIS ABABA, Ethiopia —President Obama convene...  REAL  \n",
       "6334  Jeb Bush Is Suddenly Attacking Trump. Here's W...  REAL  \n",
       "\n",
       "[5923 rows x 3 columns]"
      ]
     },
     "execution_count": 6,
     "metadata": {},
     "output_type": "execute_result"
    }
   ],
   "source": [
    "# get data\n",
    "df = pd.read_csv('news.csv')\n",
    "df = df.drop(columns=['Unnamed: 0'])\n",
    "df = df.drop_duplicates()\n",
    "print(len(df), len(pd.read_csv('news.csv')) - len(df))\n",
    "df, _ = strip_all_duplicates(df)\n",
    "df"
   ]
  },
  {
   "cell_type": "code",
   "execution_count": 7,
   "metadata": {},
   "outputs": [],
   "source": [
    "real, fake = get_real_fake(df)\n",
    "\n",
    "real_tr, real_val, real_test = split_df(real)\n",
    "fake_tr, fake_val, fake_test = split_df(fake)\n",
    "\n",
    "# def split_by_author(df):\n",
    "#     # take counts grouped by author\n",
    "#     author = df.author.value_counts()\n",
    "#     # split authors into groups\n",
    "#     author_tr, author_val, author_test = split_df(author)\n",
    "#     # split data by author group\n",
    "#     tr = df[df.author.isin(author_tr.index)].copy(deep=True)\n",
    "#     val = df[df.author.isin(author_val.index)].copy(deep=True)\n",
    "#     test = df[df.author.isin(author_test.index)].copy(deep=True)\n",
    "#     return tr, val, test\n",
    "\n",
    "# real_tr, real_val, real_test = split_by_author(real)\n",
    "# fake_tr, fake_val, fake_test = split_by_author(fake)\n",
    "\n",
    "# real_author_counts = real.author.value_counts()\n",
    "# fake_author_counts = fake.author.value_counts()\n",
    "# mixed_authors = real_author_counts.index.intersection(fake_author_counts.index)\n",
    "# real_author_counts[mixed_authors], fake_author_counts[mixed_authors]"
   ]
  },
  {
   "cell_type": "code",
   "execution_count": 8,
   "metadata": {
    "scrolled": true
   },
   "outputs": [
    {
     "name": "stdout",
     "output_type": "stream",
     "text": [
      "2517 2517\n",
      "221 223\n",
      "222 223\n"
     ]
    }
   ],
   "source": [
    "train = pd.concat([concat_and_shuffle([real_tr, fake_tr]),\n",
    "                   concat_and_shuffle([real_val, fake_val])])\n",
    "test = concat_and_shuffle([real_test, fake_test])\n",
    "\n",
    "# Expected result of val_split. This is just to give us a\n",
    "# sense of the distribution of labels.\n",
    "def display_count(df):\n",
    "    print(len(df[df.label.isin([0, 'REAL'])]),\n",
    "          len(df[df.label.isin([1, 'FAKE'])]))\n",
    "display_count(train.iloc[:-int(val_split * len(train))])\n",
    "display_count(train.iloc[-int(val_split * len(train)):])\n",
    "display_count(test)"
   ]
  },
  {
   "cell_type": "code",
   "execution_count": 9,
   "metadata": {},
   "outputs": [],
   "source": [
    "# def supertokenize(text):\n",
    "#     # e.g. split_by_case('ILoveNewYork') == ['I', 'Love', 'New', 'York']\n",
    "#     def split_by_case(s):\n",
    "#         if (not s[1:].isupper()) and (not s[1:].islower()):\n",
    "#             for i in range(1, len(s) - 1):\n",
    "#                 if s[i].isupper():\n",
    "#                     return [s[:i]] + split_by_case(s[i:])\n",
    "#                 elif s[i + 1].isupper():\n",
    "#                     return [s[:i + 1]] + split_by_case(s[i + 1:])\n",
    "#         return [s]\n",
    "#     text = re.sub(quantity_regex, QUANTITY, \n",
    "#                  re.sub(time_regex, DATETIME, \n",
    "#                         re.sub(date_regex, DATETIME, \n",
    "#                                re.sub(url_regex, URL, text))))\n",
    "#     text = text.replace('•', '')\n",
    "#     raw_tokens = nltk.word_tokenize(text)\n",
    "#     tokens = []\n",
    "#     for t in raw_tokens:\n",
    "#         if t in '!\"\\'(),--./:;<?[\\\\]{|}“”‘’—': continue\n",
    "#         if t.lower() != \"n't\": t = re.sub('[\\\"\\']', '', t)\n",
    "#         if (len(t) > 2) and (t.lower() == t) and (t[-1] == '.'): t = t[:-1]\n",
    "#         if t == URL:\n",
    "#             tokens.append(URL)\n",
    "#             continue\n",
    "#         if (t == DATETIME) or (re.sub('^\\d+(/\\d+)+$', '', t) == ''):\n",
    "#             tokens.append(DATETIME)\n",
    "#             continue\n",
    "#         if t == QUANTITY:\n",
    "#             tokens.append(QUANTITY)\n",
    "#             continue\n",
    "#         if t.isnumeric() or (t[:-2].isnumeric() and (t[-2:] in ['st', 'nd', 'rd', 'th'])):\n",
    "#             tokens.append(NUM)\n",
    "#             continue\n",
    "#         t = t.lower()\n",
    "#         if t in stopwords: continue\n",
    "#         if t in gn300:\n",
    "#             tokens.append(t)\n",
    "#         else:\n",
    "#             if t + '.' in gn300:\n",
    "#                 tokens.append(t + '.')\n",
    "#                 continue\n",
    "#             if t.replace('.', '') in gn300:\n",
    "#                 tokens.append(t.replace('.', ''))\n",
    "#                 continue\n",
    "#             is_found = False\n",
    "#             for x in split_by_case(re.sub('[^a-z]', '', t)):\n",
    "#                 if x in gn300:\n",
    "#                     tokens.append(x)\n",
    "#                     is_found = True\n",
    "#             if is_found: continue\n",
    "#             for st in re.split('-', re.sub('[^a-z0-9\\.~]', '-', t)):\n",
    "#                 for x in [st, st[:-1], st[1:], st.replace('s', 'z'), \n",
    "#                           st.replace('ou', 'o'), st.replace('re', 'er')]:\n",
    "#                     if x in gn300:\n",
    "#                         tokens.append(x)\n",
    "#                         is_found = True\n",
    "#                         break\n",
    "#             if not is_found: tokens.append(UNK)\n",
    "#     return tokens"
   ]
  },
  {
   "cell_type": "code",
   "execution_count": 10,
   "metadata": {},
   "outputs": [],
   "source": [
    "# this does tokenization as well as tracking token counts grouped by label\n",
    "def tokenize_and_update_word_counts(text, label, tokenize_fn):\n",
    "    global tc_real, tc_fake\n",
    "    tokens = tokenize_fn(text)\n",
    "    tc = Counter(tokens)\n",
    "    if label in [0, 'REAL']:\n",
    "        tc_fake += tc\n",
    "    elif label in [1, 'FAKE']:\n",
    "        tc_real += tc\n",
    "    else:\n",
    "        warnings.warn('Unexpected label %s'.format(label))\n",
    "    return tokens"
   ]
  },
  {
   "cell_type": "code",
   "execution_count": 11,
   "metadata": {},
   "outputs": [
    {
     "name": "stdout",
     "output_type": "stream",
     "text": [
      "CPU times: user 55.4 s, sys: 152 ms, total: 55.5 s\n",
      "Wall time: 55.5 s\n"
     ]
    },
    {
     "data": {
      "text/plain": [
       "(25165,\n",
       " [(\"''\", 102.84380734536683),\n",
       "  ('``', 101.27633147686663),\n",
       "  (\"'s\", 100.89614442830332),\n",
       "  ('said', 88.94252769319633),\n",
       "  ('.', 83.79805470924654),\n",
       "  (',', 82.3310129155866),\n",
       "  ('he', 75.12431745455352),\n",
       "  ('a', 72.0663211435427),\n",
       "  ('the', 64.27344646852316),\n",
       "  ('his', 63.027412424921366)])"
      ]
     },
     "execution_count": 11,
     "metadata": {},
     "output_type": "execute_result"
    }
   ],
   "source": [
    "%%time\n",
    "\n",
    "tc_real = Counter()\n",
    "tc_fake = Counter()\n",
    "\n",
    "train['tokenized_title'] = train.apply(lambda x, y: tokenize_and_update_word_counts(\n",
    "    x.title, x.label, y), axis=1, args=(TOKENIZE_FN,))\n",
    "train['tokenized_text'] = train.apply(lambda x, y: tokenize_and_update_word_counts(\n",
    "    x.text, x.label, y), axis=1, args=(TOKENIZE_FN,))\n",
    "\n",
    "T = Counter()\n",
    "for k in tc_real + tc_fake:\n",
    "    T[k] = abs(tc_real[k] - tc_fake[k]) / np.sqrt(tc_real[k] + tc_fake[k])\n",
    "\n",
    "thresh = T.most_common(25000)[-1][1]\n",
    "tokens = [k for k, v in T.items() if v >= thresh]\n",
    "\n",
    "vocab, i = {PAD: 0, URL: 1, DATETIME: 2, QUANTITY: 3, NUM: 4, UNK: 5}, 6\n",
    "for w in tokens:\n",
    "    if w in (PAD, URL, DATETIME, QUANTITY, NUM, UNK): continue\n",
    "    vocab[w] = i\n",
    "    i += 1\n",
    "id2word = {v: k for k, v in vocab.items()}\n",
    "\n",
    "i, T.most_common(10)"
   ]
  },
  {
   "cell_type": "code",
   "execution_count": 12,
   "metadata": {},
   "outputs": [
    {
     "name": "stdout",
     "output_type": "stream",
     "text": [
      "CPU times: user 2.55 s, sys: 16 ms, total: 2.57 s\n",
      "Wall time: 2.57 s\n"
     ]
    }
   ],
   "source": [
    "%%time\n",
    "test['tokenized_title'] = test.apply(lambda x: TOKENIZE_FN(x.title), axis=1)\n",
    "test['tokenized_text'] = test.apply(lambda x: TOKENIZE_FN(x.text), axis=1)"
   ]
  },
  {
   "cell_type": "code",
   "execution_count": 13,
   "metadata": {},
   "outputs": [],
   "source": [
    "def clean(text,length):\n",
    "    f = [vocab[w] if w in vocab else vocab[UNK] for w in text]\n",
    "    f = f[:length]\n",
    "    return (length - len(f)) * [vocab[PAD]] + f\n",
    "train['text_as_ints'] = train.tokenized_text.apply(clean, args=[MAX_TEXT_LEN])\n",
    "train['title_as_ints'] = train.tokenized_text.apply(clean, args=[MAX_TITLE_LEN])\n",
    "test['text_as_ints'] = test.tokenized_text.apply(clean, args=[MAX_TEXT_LEN])\n",
    "test['title_as_ints'] = test.tokenized_text.apply(clean, args=[MAX_TITLE_LEN])"
   ]
  },
  {
   "cell_type": "code",
   "execution_count": 14,
   "metadata": {},
   "outputs": [],
   "source": [
    "X_train = [np.array(train.text_as_ints.to_list()), np.array(train.title_as_ints.to_list())]\n",
    "X_test = [np.array(test.text_as_ints.to_list()), np.array(test.title_as_ints.to_list())]\n",
    "\n",
    "# binarize labels\n",
    "lb = preprocessing.LabelBinarizer()\n",
    "y_train = lb.fit_transform(train.label)\n",
    "y_test = lb.fit_transform(test.label)\n",
    "\n",
    "# compute class weights based on training labels\n",
    "class_weights = class_weight.compute_class_weight('balanced', classes=[0, 1],\n",
    "                                                  y=[w for x in y_train for w in x])\n",
    "class_weights = {i: weight for i, weight in enumerate(class_weights)}"
   ]
  },
  {
   "cell_type": "code",
   "execution_count": 15,
   "metadata": {
    "scrolled": true
   },
   "outputs": [
    {
     "name": "stdout",
     "output_type": "stream",
     "text": [
      "Model: \"model\"\n",
      "__________________________________________________________________________________________________\n",
      "Layer (type)                    Output Shape         Param #     Connected to                     \n",
      "==================================================================================================\n",
      "input_1 (InputLayer)            [(None, None)]       0                                            \n",
      "__________________________________________________________________________________________________\n",
      "input_2 (InputLayer)            [(None, None)]       0                                            \n",
      "__________________________________________________________________________________________________\n",
      "embedding (Embedding)           (None, None, 300)    7549500     input_1[0][0]                    \n",
      "__________________________________________________________________________________________________\n",
      "lambda (Lambda)                 (None, None)         0           input_1[0][0]                    \n",
      "                                                                 input_2[0][0]                    \n",
      "__________________________________________________________________________________________________\n",
      "embedding_1 (Embedding)         (None, None, 300)    7549500     input_2[0][0]                    \n",
      "__________________________________________________________________________________________________\n",
      "bidirectional (Bidirectional)   (None, 256)          330240      embedding[0][0]                  \n",
      "                                                                 lambda[0][0]                     \n",
      "__________________________________________________________________________________________________\n",
      "gru_1 (GRU)                     (None, 64)           70272       embedding_1[0][0]                \n",
      "                                                                 lambda[1][0]                     \n",
      "__________________________________________________________________________________________________\n",
      "concatenate (Concatenate)       (None, 320)          0           bidirectional[0][0]              \n",
      "                                                                 gru_1[0][0]                      \n",
      "__________________________________________________________________________________________________\n",
      "dense (Dense)                   (None, 1)            321         concatenate[0][0]                \n",
      "==================================================================================================\n",
      "Total params: 15,499,833\n",
      "Trainable params: 15,499,833\n",
      "Non-trainable params: 0\n",
      "__________________________________________________________________________________________________\n"
     ]
    }
   ],
   "source": [
    "input_text = Input(shape=[None])\n",
    "input_title = Input(shape=[None])\n",
    "mask = Lambda(lambda inputs: K.not_equal(inputs, 0))\n",
    "def generate_embedding():\n",
    "    emb = np.zeros((len(vocab), EMBED_SIZE))\n",
    "#     v = np.random.uniform(-1, 1, EMBED_SIZE)\n",
    "    for i in range(len(vocab)):\n",
    "        try:\n",
    "            g = gn300[id2word[i]]\n",
    "            emb[i] = g #+ v * np.linalg.norm(g) / np.linalg.norm(v)\n",
    "        except KeyError:\n",
    "            pass\n",
    "#             assert i <= 5, i\n",
    "#             if i in [1, 2, 3, 4]: # leave PAD and UNK zero\n",
    "#                 e[i] = v / np.linalg.norm(v)\n",
    "    return Embedding(input_dim=emb.shape[0],\n",
    "                     output_dim=emb.shape[1],\n",
    "                     weights=[emb],\n",
    "#                      trainable=False\n",
    "                    )\n",
    "emb_text = generate_embedding()(input_text)\n",
    "emb_title = generate_embedding()(input_title)\n",
    "gru = lambda units: GRU(units, dropout=DROPOUT, recurrent_dropout=DROPOUT,\n",
    "                        kernel_regularizer=L1L2(l1=L1_REGULARIZER,\n",
    "                                                l2=L2_REGULARIZER))\n",
    "gru_text = Bidirectional(gru(TEXT_UNITS))(emb_text, mask=mask(input_text))\n",
    "gru_title = gru(TITLE_UNITS)(emb_title, mask=mask(input_title))\n",
    "concat = Concatenate()([gru_text, gru_title])\n",
    "outputs = Dense(1, activation='sigmoid')(concat)\n",
    "model = tf.keras.Model(inputs=[input_text, input_title], outputs=[outputs])\n",
    "model.summary()"
   ]
  },
  {
   "cell_type": "code",
   "execution_count": 16,
   "metadata": {},
   "outputs": [],
   "source": [
    "# model.compile(loss='binary_crossentropy', optimizer=optimizer, metrics='accuracy')\n",
    "# model.fit(X_train, y_train, batch_size=BATCH_SIZE, class_weight=class_weights)"
   ]
  },
  {
   "cell_type": "code",
   "execution_count": 17,
   "metadata": {
    "scrolled": true
   },
   "outputs": [],
   "source": [
    "# for i in range(len(model.layers)):\n",
    "#     model.layers[i].trainable = False\n",
    "#     if i in [2, 4]:\n",
    "#         model.layers[i].trainable = True\n",
    "# model.summary()"
   ]
  },
  {
   "cell_type": "code",
   "execution_count": 18,
   "metadata": {},
   "outputs": [],
   "source": [
    "# model.compile(loss='binary_crossentropy', optimizer=optimizer, metrics='accuracy')\n",
    "# model.fit(X_train, y_train, batch_size=BATCH_SIZE, class_weight=class_weights)"
   ]
  },
  {
   "cell_type": "code",
   "execution_count": 19,
   "metadata": {
    "scrolled": true
   },
   "outputs": [],
   "source": [
    "# for i in range(len(model.layers)):\n",
    "#     model.layers[i].trainable = True\n",
    "# model.summary()"
   ]
  },
  {
   "cell_type": "code",
   "execution_count": 20,
   "metadata": {},
   "outputs": [
    {
     "name": "stdout",
     "output_type": "stream",
     "text": [
      "Epoch 1/5\n",
      "79/79 [==============================] - 171s 2s/step - loss: 0.7019 - accuracy: 0.5653 - val_loss: 0.6785 - val_accuracy: 0.7258\n",
      "Epoch 2/5\n",
      "79/79 [==============================] - 167s 2s/step - loss: 0.6733 - accuracy: 0.7252 - val_loss: 0.6524 - val_accuracy: 0.7708\n",
      "Epoch 3/5\n",
      "79/79 [==============================] - 167s 2s/step - loss: 0.6438 - accuracy: 0.7834 - val_loss: 0.6259 - val_accuracy: 0.7933\n",
      "Epoch 4/5\n",
      "79/79 [==============================] - 48352s 620s/step - loss: 0.6149 - accuracy: 0.8051 - val_loss: 0.5965 - val_accuracy: 0.8067\n",
      "Epoch 5/5\n",
      "79/79 [==============================] - 163s 2s/step - loss: 0.5838 - accuracy: 0.8247 - val_loss: 0.5614 - val_accuracy: 0.8270\n"
     ]
    },
    {
     "data": {
      "text/plain": [
       "<tensorflow.python.keras.callbacks.History at 0x7f25d81b1d00>"
      ]
     },
     "execution_count": 20,
     "metadata": {},
     "output_type": "execute_result"
    }
   ],
   "source": [
    "from sklearn.utils import class_weight\n",
    "model.compile(loss='binary_crossentropy', optimizer=optimizer, metrics='accuracy')\n",
    "checkpoint_filepath = '/tmp/checkpoint_v0'\n",
    "model.fit(\n",
    "    X_train, y_train, batch_size=BATCH_SIZE, class_weight=class_weights,\n",
    "    validation_split=val_split, epochs=EPOCHS,\n",
    "    callbacks=[tf.keras.callbacks.ModelCheckpoint(\n",
    "        filepath=checkpoint_filepath,\n",
    "        save_weights_only=True,\n",
    "        monitor='val_accuracy',\n",
    "        mode='max',\n",
    "        save_best_only=True\n",
    "    )]\n",
    ")"
   ]
  },
  {
   "cell_type": "code",
   "execution_count": 21,
   "metadata": {},
   "outputs": [
    {
     "name": "stdout",
     "output_type": "stream",
     "text": [
      "[0] [0.6457656]\n"
     ]
    },
    {
     "data": {
      "text/plain": [
       "('Donald Trump kicks off final campaign day with Fla. rally',\n",
       " 'Donald Trump kicks off final campaign day with Fla. rally 11/07/2016 \\nBOSTON GLOBE \\n\\nDonald Trump is criticizing the FBI’s decision not to criminally charge Hillary Clinton. He says ‘‘now it’s up to the American people to deliver justice at the ballot box.’’ \\nTrump kicked off his Election Day eve blitz with a rally Monday in Florida. He told the Sarasota crowd that ‘‘the system is rigged, but at least we know it.’’ \\nHe claimed that ‘‘our country is a laughing stock all over the world.’’ \\nThe Republican nominee than pantomimed quotation marks when he said the word ‘‘justice’’ as he hit the FBI and the Department of Justice for their handling of the case. \\nFBI Director James Comey notified Congress Sunday that a review of new emails connected to Clinton’s servers did produce evidence that would warrant charges. \\n11:45 a.m. \\nAn ex-aide to former President Bill Clinton alleged in a hacked email that Chelsea Clinton used the family’s charitable foundation to help underwrite her 2010 wedding. \\nThe 2012 exchange between Doug Band and Hillary Clinton campaign chairman John Podesta was released by the WikiLeaks organization. Stolen messages have chronicled tensions within the Clinton Foundation between Band and the daughter of the Democratic presidential nominee. \\nBand told Podesta that Chelsea Clinton was gossiping to outsiders that she was investigating questionable spending. Band suggested that she is the one who should be scrutinized for ‘‘using foundation resources for her wedding.’’ He did not provide details about this. A Clinton Foundation spokesman did not immediately respond to a request for comment. \\nBand was later forced out amid issues with his outside consulting firm. \\n___ \\n11:40 a.m. \\nDonald Trump is kicking off his last, breakneck day of campaigning before polls open with a rally in Sarasota, Florida. \\nTrump is telling thousands of supporters packed into a local fairgrounds arena Monday that the election is now in their hands. \\nHe told them: ‘‘Get out there. I mean, I did my thing. I worked.’’ \\nTrump is planning to continue a frenzied campaign pace, with rallies in five states Monday, including North Carolina, Pennsylvania, New Hampshire and Michigan. \\nTrump is also continuing to paint rival Hillary Clinton as a corrupt and alluding to the scrutiny of her use of a private email sever as secretary of state. \\nTrump is also having some fun. At one point, he held up a mask in his likeness and complimented its hair. \\n___ \\n11:30 a.m. \\nThe White House says it will ‘‘neither defend nor criticize’’ FBI Director James Comey’s decision to send a new letter to Congress about Hillary Clinton’s emails. \\nThat’s the same phrasing the White House used when Comey initially announced that the FBI was looking into more emails related to its investigation of Clinton. In a follow-up letter Sunday, Comey said the FBI review was completed and it was standing by its recommendation that no charges be filed. \\nWhite House spokesman Josh Earnest on Monday told reporters aboard Air Force One that the White House hasn’t been briefed on the investigation and didn’t receive advance notice about Comey’s latest letter. \\nEarnest says Obama still has confidence in Comey. \\n___ \\n10:50 a.m. \\nPhiladelphia’s public transit system will be up and running in time for Election Day now that a weeklong strike has ended. That’s a relief to the state’s Democrats. \\nDemocratic city officials were worried that the strike could affect turnout at the polls Tuesday. Pennsylvania does not offer early voting, so Election Day turnout is key. \\nThe state has favored Democrats in recent presidential elections, but polls suggest the race is tightening. Democrat Hillary Clinton is counting on strong support in the Philadelphia area. Both candidates are campaigning in the state Tuesday. \\nThe Southeastern Pennsylvania Transportation Authority and the union representing roughly 4,700 transit workers announced a tentative agreement early Monday. Subways were soon operating on a reduced schedule and limited trolled serve was restored. \\n___ \\n10:30 a.m. \\nThe Justice Department says it will send more than 500 staffers to 28 states on Election Day to monitor the polls. That’s a 35 percent reduction from the number four years ago. \\nDepartment officials say personnel will be sent to 67 jurisdictions to watch for potential civil rights violations. Monday’s announcement comes amid rising concerns about voter intimidation, particularly aimed at minorities. \\nThe number of personnel is less than the roughly 780 monitors and observers who were dispatched in 2012. \\nThe Justice Department has said its poll-watching presence has been curtailed by a 2013 Supreme Court opinion that gutted a key provision of the Voting Rights Act. \\nIn a statement, Attorney General Loretta Lynch said the department is committed to ensuring that every eligible voter can participate in the election. \\n___ \\n10:25 a.m. \\nHillary Clinton is departing on a multi-stop swing of the presidential battleground states on the day before the election. She’s telling reporters that ‘‘we’re just going to work until the last vote is counted.’’ \\nClinton said Monday that while she thinks she has ‘‘some work to do to bring the country together,’’ she wants to be the president for those who vote for her and those who don’t. She was speaking to reporters at an airport outside New York City. \\nClinton said she has ‘‘a big agenda ahead of us’’ and is vowing to ‘‘get a lot done’’ if she defeats Republican Donald Trump. \\nThe Democratic presidential nominee was campaigning in Pittsburgh; Grand Rapids, Michigan; Philadelphia and Raleigh, North Carolina. \\n___ \\n8:55 a.m. \\nNew Jersey Gov. Chris Christie says he doesn’t know if the George Washington Bridge lane closure controversy cost him the vice presidential nomination. \\nChristie said Monday on ‘‘CBS This Morning’’ that he was runner-up to be Republican Donald Trump’s vice presidential pick. He denied a report that Trump had offered him the job, then rescinded it. He said he thinks Trump thought Indian governor Mike Pence was the better choice. \\nTwo of Christie’s former allies were convicted Friday for their role in re-aligning access lanes to the bridge in a political revenge plot against a Democratic mayor who didn’t endorse him. \\nChristie says he thinks Trump will defeat Democrat Hillary Clinton Tuesday because the momentum is on his side and the country wants change. \\n___ \\n8:35 a.m. \\nOhio Democrats want the U.S. Supreme Court to intervene in their voter intimidation lawsuit in the swing state. \\nThe party has filed an emergency request for the nation’s high court to lift a Cincinnati-based federal appeals court order. That ruling Sunday granted the Donald Trump campaign’s request to block a federal judge’s restraining order Democrats said was needed to prevent voter intimidation. \\nA 6th U.S. Circuit Court of Appeals three-judge panel said Ohio Democrats didn’t show ‘‘a likelihood of success’’ on their case’s merits. \\nThe party told the U.S. Supreme Court the appellate judges ruled without reviewing ‘‘critical evidence’’ a lower court judge relied on in ruling that anyone engaging in intimidation or harassment inside or near polling places would face contempt of court charges. \\n___ \\n7:35 a.m. \\nDonald Trump’s campaign manager says it’s not true that his staff has stopped him from tweeting. \\nTrump has exhibited unusual restraint on social media in the final days of the campaign. The New York Times reported on Sunday that aides ‘‘have finally wrested away’’ his Twitter account. \\nPresident Barack Obama seized on the report at a voter rally in Florida, telling the crowd that anyone who can’t be trusted with a Twitter account shouldn’t be trusted with control of the America’s nuclear weapons. \\nWhen asked Monday about the Times report by NBC’s ‘‘Today Show,’’ campaign manager Kellyanne Conway said: ‘‘No, it’s not true.’’ \\n___ \\n3:15 a.m. \\nWith the cloud of an FBI investigation lifted, Hillary Clinton and Donald Trump struck strikingly different tones as they moved into the final hours of a volatile, nearly two-year-long presidential campaign. \\nAfter days of attacks on Trump’s qualifications and temperament, Clinton cast herself as the candidate of ‘‘healing and reconciliation,’’ perhaps a surprising position for one of the most divisive figures in American politics. Trump, meanwhile, voiced new confidence as he brought his campaign — and his dark visions of a rigged American economic and political system— to longtime Democratic strongholds. \\nOvershadowing the flurry of last-minute campaigning was FBI Director James Comey’s latest letter to Congress, informing lawmakers the bureau had found no evidence in its hurried review of newly discovered emails to warrant criminal charges against Clinton.')"
      ]
     },
     "execution_count": 21,
     "metadata": {},
     "output_type": "execute_result"
    }
   ],
   "source": [
    "model.load_weights(checkpoint_filepath)\n",
    "logits = model.predict(X_test)\n",
    "most_off = np.argmax(np.abs(y_test - logits))\n",
    "print(y_test[most_off], logits[most_off])\n",
    "test.iloc[most_off].title, test.iloc[most_off].text"
   ]
  },
  {
   "cell_type": "code",
   "execution_count": 22,
   "metadata": {},
   "outputs": [
    {
     "name": "stdout",
     "output_type": "stream",
     "text": [
      "0.7088496922944525\n",
      "[[171  52]\n",
      " [ 15 207]]\n",
      "14/14 [==============================] - 2s 154ms/step - loss: 0.5589 - accuracy: 0.8494\n"
     ]
    },
    {
     "data": {
      "text/plain": [
       "[0.5588874220848083, 0.8494381904602051]"
      ]
     },
     "execution_count": 22,
     "metadata": {},
     "output_type": "execute_result"
    }
   ],
   "source": [
    "y_pred = np.round(logits)\n",
    "print(matthews_corrcoef(y_test, y_pred))\n",
    "print(confusion_matrix(y_test, y_pred))\n",
    "model.evaluate(X_test, y_test)"
   ]
  },
  {
   "cell_type": "code",
   "execution_count": 23,
   "metadata": {},
   "outputs": [],
   "source": [
    "def get_reshaped_weights(model,layer_id):\n",
    "    W=np.array(model.layers[layer_id].get_weights())\n",
    "    W=W.reshape(W.shape[1],W.shape[2])\n",
    "    return W\n",
    "text_embed = get_reshaped_weights(model,2)\n",
    "title_embed = get_reshaped_weights(model,4)"
   ]
  },
  {
   "cell_type": "code",
   "execution_count": 24,
   "metadata": {},
   "outputs": [
    {
     "name": "stderr",
     "output_type": "stream",
     "text": [
      "<ipython-input-24-f95f7377f377>:8: RuntimeWarning: divide by zero encountered in true_divide\n",
      "  cs = W.dot(b) / (np.linalg.norm(W, axis=1) * np.linalg.norm(b))\n",
      "<ipython-input-24-f95f7377f377>:8: RuntimeWarning: invalid value encountered in true_divide\n",
      "  cs = W.dot(b) / (np.linalg.norm(W, axis=1) * np.linalg.norm(b))\n",
      "<ipython-input-24-f95f7377f377>:4: RuntimeWarning: invalid value encountered in greater_equal\n",
      "  n_ = np.sum(arr >= thresh)\n",
      "/home/christophercoffee/anaconda3/lib/python3.8/site-packages/matplotlib/backends/backend_agg.py:238: RuntimeWarning: Glyph 146 missing from current font.\n",
      "  font.set_text(s, 0.0, flags=flags)\n",
      "/home/christophercoffee/anaconda3/lib/python3.8/site-packages/matplotlib/backends/backend_agg.py:238: RuntimeWarning: Glyph 128 missing from current font.\n",
      "  font.set_text(s, 0.0, flags=flags)\n",
      "/home/christophercoffee/anaconda3/lib/python3.8/site-packages/matplotlib/backends/backend_agg.py:238: RuntimeWarning: Glyph 153 missing from current font.\n",
      "  font.set_text(s, 0.0, flags=flags)\n",
      "/home/christophercoffee/anaconda3/lib/python3.8/site-packages/matplotlib/backends/backend_agg.py:201: RuntimeWarning: Glyph 146 missing from current font.\n",
      "  font.set_text(s, 0, flags=flags)\n",
      "/home/christophercoffee/anaconda3/lib/python3.8/site-packages/matplotlib/backends/backend_agg.py:201: RuntimeWarning: Glyph 128 missing from current font.\n",
      "  font.set_text(s, 0, flags=flags)\n",
      "/home/christophercoffee/anaconda3/lib/python3.8/site-packages/matplotlib/backends/backend_agg.py:201: RuntimeWarning: Glyph 153 missing from current font.\n",
      "  font.set_text(s, 0, flags=flags)\n"
     ]
    },
    {
     "data": {
      "image/png": "[encoded data removed]",
      "text/plain": [
       "<Figure size 1080x1080 with 1 Axes>"
      ]
     },
     "metadata": {
      "needs_background": "light"
     },
     "output_type": "display_data"
    }
   ],
   "source": [
    "def get_top_n_plus_ties(arr, n):\n",
    "    sorted_args = np.argsort(-arr)\n",
    "    thresh = arr[sorted_args[n]]\n",
    "    n_ = np.sum(arr >= thresh)\n",
    "    return sorted_args[:n_]\n",
    "def get_most_similar(word, W, n):\n",
    "    b = W[vocab[word]]\n",
    "    cs = W.dot(b) / (np.linalg.norm(W, axis=1) * np.linalg.norm(b))\n",
    "    return get_top_n_plus_ties(cs, n)\n",
    "def create_words_plot(embed1, embed2, WORD, k=9):\n",
    "    ids1 = get_most_similar(WORD, embed1, k-1)\n",
    "    ids2 = get_most_similar(WORD, embed2, k-1)\n",
    "    words1 = [id2word[i] for i in ids1]\n",
    "    words2 = [id2word[i] for i in ids2]\n",
    "    v = TSNE(n_components=2,random_state=SEED).fit_transform(\n",
    "        np.concatenate([embed1[ids1],embed2[ids2]]))\n",
    "    fig = plt.figure(figsize=(15,15))\n",
    "    plt.scatter(v[:k,0],v[:k,1],facecolors='none',edgecolors='teal')\n",
    "    plt.scatter(v[k:,0],v[k:,1],facecolors='none',edgecolors='red')\n",
    "    for i, word in enumerate(words1):\n",
    "        plt.annotate(word,(v[i,0],v[i,1]),size=9.5)\n",
    "        if word == WORD:\n",
    "            plt.scatter(v[i,0],v[i,1],c='teal',s=300)\n",
    "    for i, word in enumerate(words2):\n",
    "        plt.annotate(word,(v[i+k,0],v[i+k,1]),size=9.5)\n",
    "        if word == WORD:\n",
    "            plt.scatter(v[i+k,0],v[i+k,1],c='red',s=300)\n",
    "create_words_plot(text_embed,title_embed,'headline')"
   ]
  }
 ],
 "metadata": {
  "kernelspec": {
   "display_name": "Python 3",
   "language": "python",
   "name": "python3"
  },
  "language_info": {
   "codemirror_mode": {
    "name": "ipython",
    "version": 3
   },
   "file_extension": ".py",
   "mimetype": "text/x-python",
   "name": "python",
   "nbconvert_exporter": "python",
   "pygments_lexer": "ipython3",
   "version": "3.8.3"
  }
 },
 "nbformat": 4,
 "nbformat_minor": 4
}
